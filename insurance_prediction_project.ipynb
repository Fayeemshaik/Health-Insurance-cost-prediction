{
  "cells": [
    {
      "cell_type": "markdown",
      "source": [
        "#**PROJECT ON HEALTH INSURANCE CLAIM AMOUNT PREDICTION**\n"
      ],
      "metadata": {
        "id": "R0ufVdLjVM3B"
      },
      "id": "R0ufVdLjVM3B"
    },
    {
      "cell_type": "markdown",
      "source": [
        "##**problem statement**\n",
        "A key challenge for the insurance industry is to charge each customer an appropriate premium for the risk they represent. The ability to predict a correct claim amount has a significant impact on insurer's management decisions and financial statements. Predicting the cost of claims in an insurance company is a real-life problem that needs to be solved in a more accurate and automated way. Several factors determine the cost of claims based on health factors like BMI, age, smoker, health conditions and others. Insurance companies apply numerous techniques for analyzing and predicting health insurance costs"
      ],
      "metadata": {
        "id": "PtYqCEGkiCnt"
      },
      "id": "PtYqCEGkiCnt"
    },
    {
      "cell_type": "markdown",
      "source": [
        "##**Data Definition**\n",
        "**age** : Age of the policyholder (Numeric)\n",
        "\n",
        "**sex**: Gender of policyholder (Categoric)\n",
        "\n",
        "**weight**: Weight of the policyholder (Numeric)\n",
        "\n",
        "**bmi**: Body mass index, providing an understanding of body, weights that are relatively high or low relative to height, objective index of body weight (kg / m ^ 2) using the ratio of height to weight (Numeric)\n",
        "\n",
        "**no_of_dependents**: Number of dependent persons on the policyholder (Numeric)\n",
        "\n",
        "**smoker**: Indicates policyholder is a smoker or a non-smoker (non-smoker=0;smoker=1) (Categoric)\n",
        "\n",
        "**claim**: The amount claimed by the policyholder (Numeric)\n",
        "\n",
        "**bloodpressure**: Bloodpressure reading of policyholder (Numeric)\n",
        "\n",
        "**diabetes**: Indicates policyholder suffers from diabetes or not (non-diabetic=0; diabetic=1) (Categoric)\n",
        "\n",
        "**regular_ex**: A policyholder regularly excercises or not (no-excercise=0; excercise=1) (Categoric)\n",
        "\n",
        "**job_title**: Job profile of the policyholder (Categoric)\n",
        "\n",
        "**city**: The city in which the policyholder resides (Categoric)\n",
        "\n",
        "**hereditary_diseases**: A policyholder suffering from a hereditary diseases or not (Categoric)\n",
        "\n"
      ],
      "metadata": {
        "id": "BqdpQA71i5F2"
      },
      "id": "BqdpQA71i5F2"
    },
    {
      "cell_type": "code",
      "source": [
        "from google.colab import drive\n",
        "drive.mount('/content/drive')"
      ],
      "metadata": {
        "colab": {
          "base_uri": "https://localhost:8080/"
        },
        "id": "-ZFvno2LP6BZ",
        "outputId": "1b835f73-2d5f-4e68-d38a-e15078a4b4c1"
      },
      "id": "-ZFvno2LP6BZ",
      "execution_count": null,
      "outputs": [
        {
          "output_type": "stream",
          "name": "stdout",
          "text": [
            "Drive already mounted at /content/drive; to attempt to forcibly remount, call drive.mount(\"/content/drive\", force_remount=True).\n"
          ]
        }
      ]
    },
    {
      "cell_type": "markdown",
      "id": "c31c7ea4",
      "metadata": {
        "id": "c31c7ea4"
      },
      "source": [
        "#**importing libraries**"
      ]
    },
    {
      "cell_type": "code",
      "execution_count": null,
      "id": "60f05339",
      "metadata": {
        "id": "60f05339"
      },
      "outputs": [],
      "source": [
        "# 'Numpy' is used for mathematical operations on large, multi-dimensional arrays and matrices\n",
        "import numpy as np\n",
        "# 'Pandas' is used for data manipulation and analysis\n",
        "import pandas as pd\n",
        "# 'Matplotlib' is a data visualization library for 2D and 3D plots, built on numpy\n",
        "from matplotlib import pyplot as plt\n",
        "# 'Seaborn' is based on matplotlib; used for plotting statistical graphics\n",
        "import seaborn as sns\n",
        "# 'Scikit-learn' (sklearn) emphasizes various regression, classification and clustering algorithms\n",
        "from sklearn import preprocessing"
      ]
    },
    {
      "cell_type": "markdown",
      "id": "1981145a",
      "metadata": {
        "id": "1981145a"
      },
      "source": [
        "#**importing dataset**"
      ]
    },
    {
      "cell_type": "code",
      "execution_count": null,
      "id": "6a231dc8",
      "metadata": {
        "id": "6a231dc8",
        "outputId": "439a8be0-bc98-4328-b5ce-afe90d9238c8",
        "colab": {
          "base_uri": "https://localhost:8080/",
          "height": 206
        }
      },
      "outputs": [
        {
          "output_type": "execute_result",
          "data": {
            "text/plain": [
              "    age     sex  weight   bmi hereditary_diseases  no_of_dependents  smoker  \\\n",
              "0  60.0    male      64  24.3           NoDisease                 1       0   \n",
              "1  49.0  female      75  22.6           NoDisease                 1       0   \n",
              "2  32.0  female      64  17.8            Epilepsy                 2       1   \n",
              "3  61.0  female      53  36.4           NoDisease                 1       1   \n",
              "4  19.0  female      50  20.6           NoDisease                 0       0   \n",
              "\n",
              "          city  bloodpressure  diabetes  regular_ex    job_title    claim  \n",
              "0      NewYork             72         0           0        Actor  13112.6  \n",
              "1       Boston             78         1           1     Engineer   9567.0  \n",
              "2  Phildelphia             88         1           1  Academician  32734.2  \n",
              "3    Pittsburg             72         1           0         Chef  48517.6  \n",
              "4      Buffalo             82         1           0   HomeMakers   1731.7  "
            ],
            "text/html": [
              "\n",
              "  <div id=\"df-a5bf582a-22e6-4074-b57d-e4483e9c2e73\">\n",
              "    <div class=\"colab-df-container\">\n",
              "      <div>\n",
              "<style scoped>\n",
              "    .dataframe tbody tr th:only-of-type {\n",
              "        vertical-align: middle;\n",
              "    }\n",
              "\n",
              "    .dataframe tbody tr th {\n",
              "        vertical-align: top;\n",
              "    }\n",
              "\n",
              "    .dataframe thead th {\n",
              "        text-align: right;\n",
              "    }\n",
              "</style>\n",
              "<table border=\"1\" class=\"dataframe\">\n",
              "  <thead>\n",
              "    <tr style=\"text-align: right;\">\n",
              "      <th></th>\n",
              "      <th>age</th>\n",
              "      <th>sex</th>\n",
              "      <th>weight</th>\n",
              "      <th>bmi</th>\n",
              "      <th>hereditary_diseases</th>\n",
              "      <th>no_of_dependents</th>\n",
              "      <th>smoker</th>\n",
              "      <th>city</th>\n",
              "      <th>bloodpressure</th>\n",
              "      <th>diabetes</th>\n",
              "      <th>regular_ex</th>\n",
              "      <th>job_title</th>\n",
              "      <th>claim</th>\n",
              "    </tr>\n",
              "  </thead>\n",
              "  <tbody>\n",
              "    <tr>\n",
              "      <th>0</th>\n",
              "      <td>60.0</td>\n",
              "      <td>male</td>\n",
              "      <td>64</td>\n",
              "      <td>24.3</td>\n",
              "      <td>NoDisease</td>\n",
              "      <td>1</td>\n",
              "      <td>0</td>\n",
              "      <td>NewYork</td>\n",
              "      <td>72</td>\n",
              "      <td>0</td>\n",
              "      <td>0</td>\n",
              "      <td>Actor</td>\n",
              "      <td>13112.6</td>\n",
              "    </tr>\n",
              "    <tr>\n",
              "      <th>1</th>\n",
              "      <td>49.0</td>\n",
              "      <td>female</td>\n",
              "      <td>75</td>\n",
              "      <td>22.6</td>\n",
              "      <td>NoDisease</td>\n",
              "      <td>1</td>\n",
              "      <td>0</td>\n",
              "      <td>Boston</td>\n",
              "      <td>78</td>\n",
              "      <td>1</td>\n",
              "      <td>1</td>\n",
              "      <td>Engineer</td>\n",
              "      <td>9567.0</td>\n",
              "    </tr>\n",
              "    <tr>\n",
              "      <th>2</th>\n",
              "      <td>32.0</td>\n",
              "      <td>female</td>\n",
              "      <td>64</td>\n",
              "      <td>17.8</td>\n",
              "      <td>Epilepsy</td>\n",
              "      <td>2</td>\n",
              "      <td>1</td>\n",
              "      <td>Phildelphia</td>\n",
              "      <td>88</td>\n",
              "      <td>1</td>\n",
              "      <td>1</td>\n",
              "      <td>Academician</td>\n",
              "      <td>32734.2</td>\n",
              "    </tr>\n",
              "    <tr>\n",
              "      <th>3</th>\n",
              "      <td>61.0</td>\n",
              "      <td>female</td>\n",
              "      <td>53</td>\n",
              "      <td>36.4</td>\n",
              "      <td>NoDisease</td>\n",
              "      <td>1</td>\n",
              "      <td>1</td>\n",
              "      <td>Pittsburg</td>\n",
              "      <td>72</td>\n",
              "      <td>1</td>\n",
              "      <td>0</td>\n",
              "      <td>Chef</td>\n",
              "      <td>48517.6</td>\n",
              "    </tr>\n",
              "    <tr>\n",
              "      <th>4</th>\n",
              "      <td>19.0</td>\n",
              "      <td>female</td>\n",
              "      <td>50</td>\n",
              "      <td>20.6</td>\n",
              "      <td>NoDisease</td>\n",
              "      <td>0</td>\n",
              "      <td>0</td>\n",
              "      <td>Buffalo</td>\n",
              "      <td>82</td>\n",
              "      <td>1</td>\n",
              "      <td>0</td>\n",
              "      <td>HomeMakers</td>\n",
              "      <td>1731.7</td>\n",
              "    </tr>\n",
              "  </tbody>\n",
              "</table>\n",
              "</div>\n",
              "      <button class=\"colab-df-convert\" onclick=\"convertToInteractive('df-a5bf582a-22e6-4074-b57d-e4483e9c2e73')\"\n",
              "              title=\"Convert this dataframe to an interactive table.\"\n",
              "              style=\"display:none;\">\n",
              "        \n",
              "  <svg xmlns=\"http://www.w3.org/2000/svg\" height=\"24px\"viewBox=\"0 0 24 24\"\n",
              "       width=\"24px\">\n",
              "    <path d=\"M0 0h24v24H0V0z\" fill=\"none\"/>\n",
              "    <path d=\"M18.56 5.44l.94 2.06.94-2.06 2.06-.94-2.06-.94-.94-2.06-.94 2.06-2.06.94zm-11 1L8.5 8.5l.94-2.06 2.06-.94-2.06-.94L8.5 2.5l-.94 2.06-2.06.94zm10 10l.94 2.06.94-2.06 2.06-.94-2.06-.94-.94-2.06-.94 2.06-2.06.94z\"/><path d=\"M17.41 7.96l-1.37-1.37c-.4-.4-.92-.59-1.43-.59-.52 0-1.04.2-1.43.59L10.3 9.45l-7.72 7.72c-.78.78-.78 2.05 0 2.83L4 21.41c.39.39.9.59 1.41.59.51 0 1.02-.2 1.41-.59l7.78-7.78 2.81-2.81c.8-.78.8-2.07 0-2.86zM5.41 20L4 18.59l7.72-7.72 1.47 1.35L5.41 20z\"/>\n",
              "  </svg>\n",
              "      </button>\n",
              "      \n",
              "  <style>\n",
              "    .colab-df-container {\n",
              "      display:flex;\n",
              "      flex-wrap:wrap;\n",
              "      gap: 12px;\n",
              "    }\n",
              "\n",
              "    .colab-df-convert {\n",
              "      background-color: #E8F0FE;\n",
              "      border: none;\n",
              "      border-radius: 50%;\n",
              "      cursor: pointer;\n",
              "      display: none;\n",
              "      fill: #1967D2;\n",
              "      height: 32px;\n",
              "      padding: 0 0 0 0;\n",
              "      width: 32px;\n",
              "    }\n",
              "\n",
              "    .colab-df-convert:hover {\n",
              "      background-color: #E2EBFA;\n",
              "      box-shadow: 0px 1px 2px rgba(60, 64, 67, 0.3), 0px 1px 3px 1px rgba(60, 64, 67, 0.15);\n",
              "      fill: #174EA6;\n",
              "    }\n",
              "\n",
              "    [theme=dark] .colab-df-convert {\n",
              "      background-color: #3B4455;\n",
              "      fill: #D2E3FC;\n",
              "    }\n",
              "\n",
              "    [theme=dark] .colab-df-convert:hover {\n",
              "      background-color: #434B5C;\n",
              "      box-shadow: 0px 1px 3px 1px rgba(0, 0, 0, 0.15);\n",
              "      filter: drop-shadow(0px 1px 2px rgba(0, 0, 0, 0.3));\n",
              "      fill: #FFFFFF;\n",
              "    }\n",
              "  </style>\n",
              "\n",
              "      <script>\n",
              "        const buttonEl =\n",
              "          document.querySelector('#df-a5bf582a-22e6-4074-b57d-e4483e9c2e73 button.colab-df-convert');\n",
              "        buttonEl.style.display =\n",
              "          google.colab.kernel.accessAllowed ? 'block' : 'none';\n",
              "\n",
              "        async function convertToInteractive(key) {\n",
              "          const element = document.querySelector('#df-a5bf582a-22e6-4074-b57d-e4483e9c2e73');\n",
              "          const dataTable =\n",
              "            await google.colab.kernel.invokeFunction('convertToInteractive',\n",
              "                                                     [key], {});\n",
              "          if (!dataTable) return;\n",
              "\n",
              "          const docLinkHtml = 'Like what you see? Visit the ' +\n",
              "            '<a target=\"_blank\" href=https://colab.research.google.com/notebooks/data_table.ipynb>data table notebook</a>'\n",
              "            + ' to learn more about interactive tables.';\n",
              "          element.innerHTML = '';\n",
              "          dataTable['output_type'] = 'display_data';\n",
              "          await google.colab.output.renderOutput(dataTable, element);\n",
              "          const docLink = document.createElement('div');\n",
              "          docLink.innerHTML = docLinkHtml;\n",
              "          element.appendChild(docLink);\n",
              "        }\n",
              "      </script>\n",
              "    </div>\n",
              "  </div>\n",
              "  "
            ]
          },
          "metadata": {},
          "execution_count": 74
        }
      ],
      "source": [
        "# read csv file using pandas\n",
        "ids = pd.read_csv(\"/content/drive/MyDrive/Academic_projects/DMMLT_project/healthinsurance.csv\")\n",
        "# display the top 5 rows of the dataframe\n",
        "ids.head()"
      ]
    },
    {
      "cell_type": "markdown",
      "source": [
        "#**Data Dimension**\n",
        "To know the dimensions of the data:"
      ],
      "metadata": {
        "id": "MDMY6sNXpQH7"
      },
      "id": "MDMY6sNXpQH7"
    },
    {
      "cell_type": "code",
      "source": [
        "# .shape returns the dimension of the data\n",
        "ids.shape"
      ],
      "metadata": {
        "id": "H3Sop-J4kyqT",
        "colab": {
          "base_uri": "https://localhost:8080/"
        },
        "outputId": "6c52238f-cfaf-4821-f3c0-cb5437a12282"
      },
      "id": "H3Sop-J4kyqT",
      "execution_count": null,
      "outputs": [
        {
          "output_type": "execute_result",
          "data": {
            "text/plain": [
              "(15000, 13)"
            ]
          },
          "metadata": {},
          "execution_count": 75
        }
      ]
    },
    {
      "cell_type": "markdown",
      "source": [
        "We see the dataframe has 13 columns and 15000 observations."
      ],
      "metadata": {
        "id": "bYOxLR52pdU5"
      },
      "id": "bYOxLR52pdU5"
    },
    {
      "cell_type": "markdown",
      "source": [
        "#**Data Types**\n",
        "Data has a variety of data types. The main types stored in pandas dataframes are object, float, int64, bool and datetime64. In order to learn about each attribute, it is always good for us to know the data type of each column.\n",
        "##**checking data types**"
      ],
      "metadata": {
        "id": "tuWTIiAYp693"
      },
      "id": "tuWTIiAYp693"
    },
    {
      "cell_type": "code",
      "source": [
        "# use .dtypes to view the data type of a variable\n",
        "ids.dtypes"
      ],
      "metadata": {
        "colab": {
          "base_uri": "https://localhost:8080/"
        },
        "id": "vKOIXtGvp6po",
        "outputId": "35dccddc-03c0-42b5-ffcc-fc2687e4515b"
      },
      "id": "vKOIXtGvp6po",
      "execution_count": null,
      "outputs": [
        {
          "output_type": "execute_result",
          "data": {
            "text/plain": [
              "age                    float64\n",
              "sex                     object\n",
              "weight                   int64\n",
              "bmi                    float64\n",
              "hereditary_diseases     object\n",
              "no_of_dependents         int64\n",
              "smoker                   int64\n",
              "city                    object\n",
              "bloodpressure            int64\n",
              "diabetes                 int64\n",
              "regular_ex               int64\n",
              "job_title               object\n",
              "claim                  float64\n",
              "dtype: object"
            ]
          },
          "metadata": {},
          "execution_count": 76
        }
      ]
    },
    {
      "cell_type": "markdown",
      "source": [
        "##**Change the incorrect data types**"
      ],
      "metadata": {
        "id": "wRUDpAhgqetg"
      },
      "id": "wRUDpAhgqetg"
    },
    {
      "cell_type": "code",
      "source": [
        "# use .astype() to change the data type\n",
        "# convert numerical variables to categorical  \n",
        "\n",
        "# convert numeric variable 'smoker' to object (categorical) variable\n",
        "ids.smoker = ids.smoker.astype('object')\n",
        "\n",
        "# convert numeric variable 'diabetes' to object (categorical) variable\n",
        "ids.diabetes = ids.diabetes.astype('object')\n",
        "\n",
        "# convert 'regular_ex' variable to object (categorical) variable\n",
        "ids.regular_ex = ids.regular_ex.astype('object')"
      ],
      "metadata": {
        "id": "FD37kgyqqzR7"
      },
      "id": "FD37kgyqqzR7",
      "execution_count": null,
      "outputs": []
    },
    {
      "cell_type": "markdown",
      "source": [
        "##**Recheck the data types after the conversion**"
      ],
      "metadata": {
        "id": "Zde05uEsrbcU"
      },
      "id": "Zde05uEsrbcU"
    },
    {
      "cell_type": "code",
      "source": [
        "# recheck the data types using .dtypes\n",
        "ids.dtypes"
      ],
      "metadata": {
        "colab": {
          "base_uri": "https://localhost:8080/"
        },
        "id": "pmibfucRr4FF",
        "outputId": "5b0294de-9df0-468a-bdb6-cbd6a9e37548"
      },
      "id": "pmibfucRr4FF",
      "execution_count": null,
      "outputs": [
        {
          "output_type": "execute_result",
          "data": {
            "text/plain": [
              "age                    float64\n",
              "sex                     object\n",
              "weight                   int64\n",
              "bmi                    float64\n",
              "hereditary_diseases     object\n",
              "no_of_dependents         int64\n",
              "smoker                  object\n",
              "city                    object\n",
              "bloodpressure            int64\n",
              "diabetes                object\n",
              "regular_ex              object\n",
              "job_title               object\n",
              "claim                  float64\n",
              "dtype: object"
            ]
          },
          "metadata": {},
          "execution_count": 78
        }
      ]
    },
    {
      "cell_type": "markdown",
      "source": [
        "Note the data types are now as per the data definition. Now we can proceed with the analysis.\n",
        "#**summary statistics**\n",
        "\n",
        "####**1)for numerical variables we use .describe()**"
      ],
      "metadata": {
        "id": "Sl-p-bNxsGkH"
      },
      "id": "Sl-p-bNxsGkH"
    },
    {
      "cell_type": "code",
      "execution_count": null,
      "id": "32c3809c",
      "metadata": {
        "id": "32c3809c",
        "outputId": "91434ec2-b02e-445a-b27e-76a0c9e63674",
        "colab": {
          "base_uri": "https://localhost:8080/",
          "height": 300
        }
      },
      "outputs": [
        {
          "output_type": "execute_result",
          "data": {
            "text/plain": [
              "                age        weight           bmi  no_of_dependents  \\\n",
              "count  14604.000000  15000.000000  14044.000000      15000.000000   \n",
              "mean      39.547521     64.909600     30.266413          1.129733   \n",
              "std       14.015966     13.701935      6.122950          1.228469   \n",
              "min       18.000000     34.000000     16.000000          0.000000   \n",
              "25%       27.000000     54.000000     25.700000          0.000000   \n",
              "50%       40.000000     63.000000     29.400000          1.000000   \n",
              "75%       52.000000     76.000000     34.400000          2.000000   \n",
              "max       64.000000     95.000000     53.100000          5.000000   \n",
              "\n",
              "       bloodpressure         claim  \n",
              "count   15000.000000  15000.000000  \n",
              "mean       68.650133  13401.437620  \n",
              "std        19.418515  12148.239619  \n",
              "min         0.000000   1121.900000  \n",
              "25%        64.000000   4846.900000  \n",
              "50%        71.000000   9545.650000  \n",
              "75%        80.000000  16519.125000  \n",
              "max       122.000000  63770.400000  "
            ],
            "text/html": [
              "\n",
              "  <div id=\"df-0bf4fe1c-f81b-4510-afb5-aea94d589b34\">\n",
              "    <div class=\"colab-df-container\">\n",
              "      <div>\n",
              "<style scoped>\n",
              "    .dataframe tbody tr th:only-of-type {\n",
              "        vertical-align: middle;\n",
              "    }\n",
              "\n",
              "    .dataframe tbody tr th {\n",
              "        vertical-align: top;\n",
              "    }\n",
              "\n",
              "    .dataframe thead th {\n",
              "        text-align: right;\n",
              "    }\n",
              "</style>\n",
              "<table border=\"1\" class=\"dataframe\">\n",
              "  <thead>\n",
              "    <tr style=\"text-align: right;\">\n",
              "      <th></th>\n",
              "      <th>age</th>\n",
              "      <th>weight</th>\n",
              "      <th>bmi</th>\n",
              "      <th>no_of_dependents</th>\n",
              "      <th>bloodpressure</th>\n",
              "      <th>claim</th>\n",
              "    </tr>\n",
              "  </thead>\n",
              "  <tbody>\n",
              "    <tr>\n",
              "      <th>count</th>\n",
              "      <td>14604.000000</td>\n",
              "      <td>15000.000000</td>\n",
              "      <td>14044.000000</td>\n",
              "      <td>15000.000000</td>\n",
              "      <td>15000.000000</td>\n",
              "      <td>15000.000000</td>\n",
              "    </tr>\n",
              "    <tr>\n",
              "      <th>mean</th>\n",
              "      <td>39.547521</td>\n",
              "      <td>64.909600</td>\n",
              "      <td>30.266413</td>\n",
              "      <td>1.129733</td>\n",
              "      <td>68.650133</td>\n",
              "      <td>13401.437620</td>\n",
              "    </tr>\n",
              "    <tr>\n",
              "      <th>std</th>\n",
              "      <td>14.015966</td>\n",
              "      <td>13.701935</td>\n",
              "      <td>6.122950</td>\n",
              "      <td>1.228469</td>\n",
              "      <td>19.418515</td>\n",
              "      <td>12148.239619</td>\n",
              "    </tr>\n",
              "    <tr>\n",
              "      <th>min</th>\n",
              "      <td>18.000000</td>\n",
              "      <td>34.000000</td>\n",
              "      <td>16.000000</td>\n",
              "      <td>0.000000</td>\n",
              "      <td>0.000000</td>\n",
              "      <td>1121.900000</td>\n",
              "    </tr>\n",
              "    <tr>\n",
              "      <th>25%</th>\n",
              "      <td>27.000000</td>\n",
              "      <td>54.000000</td>\n",
              "      <td>25.700000</td>\n",
              "      <td>0.000000</td>\n",
              "      <td>64.000000</td>\n",
              "      <td>4846.900000</td>\n",
              "    </tr>\n",
              "    <tr>\n",
              "      <th>50%</th>\n",
              "      <td>40.000000</td>\n",
              "      <td>63.000000</td>\n",
              "      <td>29.400000</td>\n",
              "      <td>1.000000</td>\n",
              "      <td>71.000000</td>\n",
              "      <td>9545.650000</td>\n",
              "    </tr>\n",
              "    <tr>\n",
              "      <th>75%</th>\n",
              "      <td>52.000000</td>\n",
              "      <td>76.000000</td>\n",
              "      <td>34.400000</td>\n",
              "      <td>2.000000</td>\n",
              "      <td>80.000000</td>\n",
              "      <td>16519.125000</td>\n",
              "    </tr>\n",
              "    <tr>\n",
              "      <th>max</th>\n",
              "      <td>64.000000</td>\n",
              "      <td>95.000000</td>\n",
              "      <td>53.100000</td>\n",
              "      <td>5.000000</td>\n",
              "      <td>122.000000</td>\n",
              "      <td>63770.400000</td>\n",
              "    </tr>\n",
              "  </tbody>\n",
              "</table>\n",
              "</div>\n",
              "      <button class=\"colab-df-convert\" onclick=\"convertToInteractive('df-0bf4fe1c-f81b-4510-afb5-aea94d589b34')\"\n",
              "              title=\"Convert this dataframe to an interactive table.\"\n",
              "              style=\"display:none;\">\n",
              "        \n",
              "  <svg xmlns=\"http://www.w3.org/2000/svg\" height=\"24px\"viewBox=\"0 0 24 24\"\n",
              "       width=\"24px\">\n",
              "    <path d=\"M0 0h24v24H0V0z\" fill=\"none\"/>\n",
              "    <path d=\"M18.56 5.44l.94 2.06.94-2.06 2.06-.94-2.06-.94-.94-2.06-.94 2.06-2.06.94zm-11 1L8.5 8.5l.94-2.06 2.06-.94-2.06-.94L8.5 2.5l-.94 2.06-2.06.94zm10 10l.94 2.06.94-2.06 2.06-.94-2.06-.94-.94-2.06-.94 2.06-2.06.94z\"/><path d=\"M17.41 7.96l-1.37-1.37c-.4-.4-.92-.59-1.43-.59-.52 0-1.04.2-1.43.59L10.3 9.45l-7.72 7.72c-.78.78-.78 2.05 0 2.83L4 21.41c.39.39.9.59 1.41.59.51 0 1.02-.2 1.41-.59l7.78-7.78 2.81-2.81c.8-.78.8-2.07 0-2.86zM5.41 20L4 18.59l7.72-7.72 1.47 1.35L5.41 20z\"/>\n",
              "  </svg>\n",
              "      </button>\n",
              "      \n",
              "  <style>\n",
              "    .colab-df-container {\n",
              "      display:flex;\n",
              "      flex-wrap:wrap;\n",
              "      gap: 12px;\n",
              "    }\n",
              "\n",
              "    .colab-df-convert {\n",
              "      background-color: #E8F0FE;\n",
              "      border: none;\n",
              "      border-radius: 50%;\n",
              "      cursor: pointer;\n",
              "      display: none;\n",
              "      fill: #1967D2;\n",
              "      height: 32px;\n",
              "      padding: 0 0 0 0;\n",
              "      width: 32px;\n",
              "    }\n",
              "\n",
              "    .colab-df-convert:hover {\n",
              "      background-color: #E2EBFA;\n",
              "      box-shadow: 0px 1px 2px rgba(60, 64, 67, 0.3), 0px 1px 3px 1px rgba(60, 64, 67, 0.15);\n",
              "      fill: #174EA6;\n",
              "    }\n",
              "\n",
              "    [theme=dark] .colab-df-convert {\n",
              "      background-color: #3B4455;\n",
              "      fill: #D2E3FC;\n",
              "    }\n",
              "\n",
              "    [theme=dark] .colab-df-convert:hover {\n",
              "      background-color: #434B5C;\n",
              "      box-shadow: 0px 1px 3px 1px rgba(0, 0, 0, 0.15);\n",
              "      filter: drop-shadow(0px 1px 2px rgba(0, 0, 0, 0.3));\n",
              "      fill: #FFFFFF;\n",
              "    }\n",
              "  </style>\n",
              "\n",
              "      <script>\n",
              "        const buttonEl =\n",
              "          document.querySelector('#df-0bf4fe1c-f81b-4510-afb5-aea94d589b34 button.colab-df-convert');\n",
              "        buttonEl.style.display =\n",
              "          google.colab.kernel.accessAllowed ? 'block' : 'none';\n",
              "\n",
              "        async function convertToInteractive(key) {\n",
              "          const element = document.querySelector('#df-0bf4fe1c-f81b-4510-afb5-aea94d589b34');\n",
              "          const dataTable =\n",
              "            await google.colab.kernel.invokeFunction('convertToInteractive',\n",
              "                                                     [key], {});\n",
              "          if (!dataTable) return;\n",
              "\n",
              "          const docLinkHtml = 'Like what you see? Visit the ' +\n",
              "            '<a target=\"_blank\" href=https://colab.research.google.com/notebooks/data_table.ipynb>data table notebook</a>'\n",
              "            + ' to learn more about interactive tables.';\n",
              "          element.innerHTML = '';\n",
              "          dataTable['output_type'] = 'display_data';\n",
              "          await google.colab.output.renderOutput(dataTable, element);\n",
              "          const docLink = document.createElement('div');\n",
              "          docLink.innerHTML = docLinkHtml;\n",
              "          element.appendChild(docLink);\n",
              "        }\n",
              "      </script>\n",
              "    </div>\n",
              "  </div>\n",
              "  "
            ]
          },
          "metadata": {},
          "execution_count": 79
        }
      ],
      "source": [
        "# describe the numerical data\n",
        "ids.describe()"
      ]
    },
    {
      "cell_type": "markdown",
      "source": [
        " **2)For categorical features, we use .describe(include=object)**"
      ],
      "metadata": {
        "id": "VyKieht_tFwn"
      },
      "id": "VyKieht_tFwn"
    },
    {
      "cell_type": "code",
      "source": [
        "# describe the categorical data\n",
        "# include=object: selects the categorical features\n",
        "ids.describe(include = object)\n",
        "\n",
        "# Note: If we pass 'include=object' to the .describe(),\n",
        "#       it will return descriptive statistics for categorical variables only"
      ],
      "metadata": {
        "colab": {
          "base_uri": "https://localhost:8080/",
          "height": 175
        },
        "id": "0QFAodIbtVDJ",
        "outputId": "ff362969-b33d-4b3b-9274-f32396e633ef"
      },
      "id": "0QFAodIbtVDJ",
      "execution_count": null,
      "outputs": [
        {
          "output_type": "execute_result",
          "data": {
            "text/plain": [
              "           sex hereditary_diseases  smoker        city  diabetes  regular_ex  \\\n",
              "count    15000               15000   15000       15000     15000       15000   \n",
              "unique       2                  10       2          91         2           2   \n",
              "top     female           NoDisease       0  NewOrleans         1           0   \n",
              "freq      7652               13998   12028         302     11655       11638   \n",
              "\n",
              "       job_title  \n",
              "count      15000  \n",
              "unique        35  \n",
              "top      Student  \n",
              "freq        1320  "
            ],
            "text/html": [
              "\n",
              "  <div id=\"df-2e5a5aca-d2ac-4792-a137-ae767d573dfb\">\n",
              "    <div class=\"colab-df-container\">\n",
              "      <div>\n",
              "<style scoped>\n",
              "    .dataframe tbody tr th:only-of-type {\n",
              "        vertical-align: middle;\n",
              "    }\n",
              "\n",
              "    .dataframe tbody tr th {\n",
              "        vertical-align: top;\n",
              "    }\n",
              "\n",
              "    .dataframe thead th {\n",
              "        text-align: right;\n",
              "    }\n",
              "</style>\n",
              "<table border=\"1\" class=\"dataframe\">\n",
              "  <thead>\n",
              "    <tr style=\"text-align: right;\">\n",
              "      <th></th>\n",
              "      <th>sex</th>\n",
              "      <th>hereditary_diseases</th>\n",
              "      <th>smoker</th>\n",
              "      <th>city</th>\n",
              "      <th>diabetes</th>\n",
              "      <th>regular_ex</th>\n",
              "      <th>job_title</th>\n",
              "    </tr>\n",
              "  </thead>\n",
              "  <tbody>\n",
              "    <tr>\n",
              "      <th>count</th>\n",
              "      <td>15000</td>\n",
              "      <td>15000</td>\n",
              "      <td>15000</td>\n",
              "      <td>15000</td>\n",
              "      <td>15000</td>\n",
              "      <td>15000</td>\n",
              "      <td>15000</td>\n",
              "    </tr>\n",
              "    <tr>\n",
              "      <th>unique</th>\n",
              "      <td>2</td>\n",
              "      <td>10</td>\n",
              "      <td>2</td>\n",
              "      <td>91</td>\n",
              "      <td>2</td>\n",
              "      <td>2</td>\n",
              "      <td>35</td>\n",
              "    </tr>\n",
              "    <tr>\n",
              "      <th>top</th>\n",
              "      <td>female</td>\n",
              "      <td>NoDisease</td>\n",
              "      <td>0</td>\n",
              "      <td>NewOrleans</td>\n",
              "      <td>1</td>\n",
              "      <td>0</td>\n",
              "      <td>Student</td>\n",
              "    </tr>\n",
              "    <tr>\n",
              "      <th>freq</th>\n",
              "      <td>7652</td>\n",
              "      <td>13998</td>\n",
              "      <td>12028</td>\n",
              "      <td>302</td>\n",
              "      <td>11655</td>\n",
              "      <td>11638</td>\n",
              "      <td>1320</td>\n",
              "    </tr>\n",
              "  </tbody>\n",
              "</table>\n",
              "</div>\n",
              "      <button class=\"colab-df-convert\" onclick=\"convertToInteractive('df-2e5a5aca-d2ac-4792-a137-ae767d573dfb')\"\n",
              "              title=\"Convert this dataframe to an interactive table.\"\n",
              "              style=\"display:none;\">\n",
              "        \n",
              "  <svg xmlns=\"http://www.w3.org/2000/svg\" height=\"24px\"viewBox=\"0 0 24 24\"\n",
              "       width=\"24px\">\n",
              "    <path d=\"M0 0h24v24H0V0z\" fill=\"none\"/>\n",
              "    <path d=\"M18.56 5.44l.94 2.06.94-2.06 2.06-.94-2.06-.94-.94-2.06-.94 2.06-2.06.94zm-11 1L8.5 8.5l.94-2.06 2.06-.94-2.06-.94L8.5 2.5l-.94 2.06-2.06.94zm10 10l.94 2.06.94-2.06 2.06-.94-2.06-.94-.94-2.06-.94 2.06-2.06.94z\"/><path d=\"M17.41 7.96l-1.37-1.37c-.4-.4-.92-.59-1.43-.59-.52 0-1.04.2-1.43.59L10.3 9.45l-7.72 7.72c-.78.78-.78 2.05 0 2.83L4 21.41c.39.39.9.59 1.41.59.51 0 1.02-.2 1.41-.59l7.78-7.78 2.81-2.81c.8-.78.8-2.07 0-2.86zM5.41 20L4 18.59l7.72-7.72 1.47 1.35L5.41 20z\"/>\n",
              "  </svg>\n",
              "      </button>\n",
              "      \n",
              "  <style>\n",
              "    .colab-df-container {\n",
              "      display:flex;\n",
              "      flex-wrap:wrap;\n",
              "      gap: 12px;\n",
              "    }\n",
              "\n",
              "    .colab-df-convert {\n",
              "      background-color: #E8F0FE;\n",
              "      border: none;\n",
              "      border-radius: 50%;\n",
              "      cursor: pointer;\n",
              "      display: none;\n",
              "      fill: #1967D2;\n",
              "      height: 32px;\n",
              "      padding: 0 0 0 0;\n",
              "      width: 32px;\n",
              "    }\n",
              "\n",
              "    .colab-df-convert:hover {\n",
              "      background-color: #E2EBFA;\n",
              "      box-shadow: 0px 1px 2px rgba(60, 64, 67, 0.3), 0px 1px 3px 1px rgba(60, 64, 67, 0.15);\n",
              "      fill: #174EA6;\n",
              "    }\n",
              "\n",
              "    [theme=dark] .colab-df-convert {\n",
              "      background-color: #3B4455;\n",
              "      fill: #D2E3FC;\n",
              "    }\n",
              "\n",
              "    [theme=dark] .colab-df-convert:hover {\n",
              "      background-color: #434B5C;\n",
              "      box-shadow: 0px 1px 3px 1px rgba(0, 0, 0, 0.15);\n",
              "      filter: drop-shadow(0px 1px 2px rgba(0, 0, 0, 0.3));\n",
              "      fill: #FFFFFF;\n",
              "    }\n",
              "  </style>\n",
              "\n",
              "      <script>\n",
              "        const buttonEl =\n",
              "          document.querySelector('#df-2e5a5aca-d2ac-4792-a137-ae767d573dfb button.colab-df-convert');\n",
              "        buttonEl.style.display =\n",
              "          google.colab.kernel.accessAllowed ? 'block' : 'none';\n",
              "\n",
              "        async function convertToInteractive(key) {\n",
              "          const element = document.querySelector('#df-2e5a5aca-d2ac-4792-a137-ae767d573dfb');\n",
              "          const dataTable =\n",
              "            await google.colab.kernel.invokeFunction('convertToInteractive',\n",
              "                                                     [key], {});\n",
              "          if (!dataTable) return;\n",
              "\n",
              "          const docLinkHtml = 'Like what you see? Visit the ' +\n",
              "            '<a target=\"_blank\" href=https://colab.research.google.com/notebooks/data_table.ipynb>data table notebook</a>'\n",
              "            + ' to learn more about interactive tables.';\n",
              "          element.innerHTML = '';\n",
              "          dataTable['output_type'] = 'display_data';\n",
              "          await google.colab.output.renderOutput(dataTable, element);\n",
              "          const docLink = document.createElement('div');\n",
              "          docLink.innerHTML = docLinkHtml;\n",
              "          element.appendChild(docLink);\n",
              "        }\n",
              "      </script>\n",
              "    </div>\n",
              "  </div>\n",
              "  "
            ]
          },
          "metadata": {},
          "execution_count": 80
        }
      ]
    },
    {
      "cell_type": "markdown",
      "source": [
        "#**Exploratory Data Analysis**\n",
        "##Checking the distributions of numerical variables"
      ],
      "metadata": {
        "id": "0bJQ-0J8WD-X"
      },
      "id": "0bJQ-0J8WD-X"
    },
    {
      "cell_type": "code",
      "execution_count": null,
      "id": "106d35f3",
      "metadata": {
        "id": "106d35f3",
        "outputId": "64247269-8270-443f-d1e5-3a53b03151e5",
        "colab": {
          "base_uri": "https://localhost:8080/",
          "height": 265
        }
      },
      "outputs": [
        {
          "output_type": "display_data",
          "data": {
            "text/plain": [
              "<Figure size 432x288 with 1 Axes>"
            ],
            "image/png": "[encoded data removed]"
          },
          "metadata": {
            "needs_background": "light"
          }
        }
      ],
      "source": [
        "plt.hist(x=ids['age'],bins= 20)\n",
        "plt.show()"
      ]
    },
    {
      "cell_type": "code",
      "execution_count": null,
      "id": "01c66a19",
      "metadata": {
        "id": "01c66a19",
        "outputId": "f77a9a54-c576-4115-e2a7-9a21eeaa592f",
        "colab": {
          "base_uri": "https://localhost:8080/",
          "height": 282
        }
      },
      "outputs": [
        {
          "output_type": "execute_result",
          "data": {
            "text/plain": [
              "<matplotlib.collections.PathCollection at 0x7ff4b57e5cd0>"
            ]
          },
          "metadata": {},
          "execution_count": 82
        },
        {
          "output_type": "display_data",
          "data": {
            "text/plain": [
              "<Figure size 432x288 with 1 Axes>"
            ],
            "image/png": "[encoded data removed]"
          },
          "metadata": {
            "needs_background": "light"
          }
        }
      ],
      "source": [
        "plt.scatter(x=ids['age'],y= ids[\"claim\"])"
      ]
    },
    {
      "cell_type": "code",
      "execution_count": null,
      "id": "5ef75331",
      "metadata": {
        "id": "5ef75331",
        "outputId": "5d9decb4-a201-42d6-be24-3c68f11910bb",
        "colab": {
          "base_uri": "https://localhost:8080/",
          "height": 265
        }
      },
      "outputs": [
        {
          "output_type": "display_data",
          "data": {
            "text/plain": [
              "<Figure size 432x288 with 1 Axes>"
            ],
            "image/png": "[encoded data removed]"
          },
          "metadata": {
            "needs_background": "light"
          }
        }
      ],
      "source": [
        "#weight distn\n",
        "plt.hist(x=ids['weight'],bins= 15)\n",
        "plt.show()"
      ]
    },
    {
      "cell_type": "code",
      "execution_count": null,
      "id": "d3b4a363",
      "metadata": {
        "id": "d3b4a363",
        "outputId": "d41ff733-1e1a-449d-ac94-2544190f9754",
        "colab": {
          "base_uri": "https://localhost:8080/",
          "height": 282
        }
      },
      "outputs": [
        {
          "output_type": "execute_result",
          "data": {
            "text/plain": [
              "<matplotlib.collections.PathCollection at 0x7ff4b55dd670>"
            ]
          },
          "metadata": {},
          "execution_count": 84
        },
        {
          "output_type": "display_data",
          "data": {
            "text/plain": [
              "<Figure size 432x288 with 1 Axes>"
            ],
            "image/png": "[encoded data removed]"
          },
          "metadata": {
            "needs_background": "light"
          }
        }
      ],
      "source": [
        "plt.scatter(x=ids['weight'],y= ids[\"claim\"])"
      ]
    },
    {
      "cell_type": "code",
      "execution_count": null,
      "id": "ede2c21b",
      "metadata": {
        "id": "ede2c21b",
        "outputId": "c6eca082-91ba-4315-fa84-eb209dec7253",
        "colab": {
          "base_uri": "https://localhost:8080/",
          "height": 265
        }
      },
      "outputs": [
        {
          "output_type": "display_data",
          "data": {
            "text/plain": [
              "<Figure size 432x288 with 1 Axes>"
            ],
            "image/png": "[encoded data removed]"
          },
          "metadata": {
            "needs_background": "light"
          }
        }
      ],
      "source": [
        "#bmi distn\n",
        "plt.hist(x=ids['bmi'],bins= 20)\n",
        "plt.show()"
      ]
    },
    {
      "cell_type": "code",
      "execution_count": null,
      "id": "7997c5ed",
      "metadata": {
        "id": "7997c5ed",
        "outputId": "3b8dc77a-1daf-486a-9321-514995ebfc4b",
        "colab": {
          "base_uri": "https://localhost:8080/",
          "height": 282
        }
      },
      "outputs": [
        {
          "output_type": "execute_result",
          "data": {
            "text/plain": [
              "<matplotlib.collections.PathCollection at 0x7ff4b1efa820>"
            ]
          },
          "metadata": {},
          "execution_count": 86
        },
        {
          "output_type": "display_data",
          "data": {
            "text/plain": [
              "<Figure size 432x288 with 1 Axes>"
            ],
            "image/png": "[encoded data removed]"
          },
          "metadata": {
            "needs_background": "light"
          }
        }
      ],
      "source": [
        "plt.scatter(x=ids['weight'],y= ids[\"claim\"])"
      ]
    },
    {
      "cell_type": "code",
      "execution_count": null,
      "id": "787d5862",
      "metadata": {
        "id": "787d5862",
        "outputId": "f3d21dd9-b5ee-4638-eb42-06eb1af73f98",
        "colab": {
          "base_uri": "https://localhost:8080/",
          "height": 265
        }
      },
      "outputs": [
        {
          "output_type": "display_data",
          "data": {
            "text/plain": [
              "<Figure size 432x288 with 1 Axes>"
            ],
            "image/png": "[encoded data removed]"
          },
          "metadata": {
            "needs_background": "light"
          }
        }
      ],
      "source": [
        "#bloodpressure distn\n",
        "plt.hist(x=ids['bloodpressure'],bins= 20)\n",
        "plt.show()"
      ]
    },
    {
      "cell_type": "code",
      "execution_count": null,
      "id": "cd92cdce",
      "metadata": {
        "id": "cd92cdce",
        "outputId": "b98082fb-cb5a-49ed-9bbd-3a1b87419742",
        "colab": {
          "base_uri": "https://localhost:8080/",
          "height": 282
        }
      },
      "outputs": [
        {
          "output_type": "execute_result",
          "data": {
            "text/plain": [
              "<matplotlib.collections.PathCollection at 0x7ff4b1ddc6a0>"
            ]
          },
          "metadata": {},
          "execution_count": 88
        },
        {
          "output_type": "display_data",
          "data": {
            "text/plain": [
              "<Figure size 432x288 with 1 Axes>"
            ],
            "image/png": "[encoded data removed]"
          },
          "metadata": {
            "needs_background": "light"
          }
        }
      ],
      "source": [
        "plt.scatter(x=ids['bloodpressure'],y= ids[\"claim\"])"
      ]
    },
    {
      "cell_type": "code",
      "execution_count": null,
      "id": "5fb67ef3",
      "metadata": {
        "id": "5fb67ef3",
        "outputId": "05f916ce-66de-477f-fb64-e5b1fed6d01a",
        "colab": {
          "base_uri": "https://localhost:8080/",
          "height": 265
        }
      },
      "outputs": [
        {
          "output_type": "display_data",
          "data": {
            "text/plain": [
              "<Figure size 432x288 with 1 Axes>"
            ],
            "image/png": "[encoded data removed]"
          },
          "metadata": {
            "needs_background": "light"
          }
        }
      ],
      "source": [
        "#claim col distn\n",
        "plt.hist(x=ids['claim'],bins= 20)\n",
        "plt.show()"
      ]
    },
    {
      "cell_type": "markdown",
      "source": [
        "NOTE: Claim is postively skewed, so will apply log transformation at a later date"
      ],
      "metadata": {
        "id": "TOf-AH8DX7Qp"
      },
      "id": "TOf-AH8DX7Qp"
    },
    {
      "cell_type": "markdown",
      "source": [
        "#**Checking categorical variables**"
      ],
      "metadata": {
        "id": "B2mU1QgOYC5O"
      },
      "id": "B2mU1QgOYC5O"
    },
    {
      "cell_type": "code",
      "execution_count": null,
      "id": "87447c65",
      "metadata": {
        "id": "87447c65",
        "outputId": "c94d5be8-45e5-490c-87a8-24ca64d188e5",
        "colab": {
          "base_uri": "https://localhost:8080/",
          "height": 391
        }
      },
      "outputs": [
        {
          "output_type": "display_data",
          "data": {
            "text/plain": [
              "<Figure size 432x432 with 1 Axes>"
            ],
            "image/png": "[encoded data removed]"
          },
          "metadata": {
            "needs_background": "light"
          }
        }
      ],
      "source": [
        "#sex distn\n",
        "#bar plot\n",
        "plt.figure(figsize = (6,6))\n",
        "sns.countplot(x=\"sex\",data= ids)\n",
        "plt.show()"
      ]
    },
    {
      "cell_type": "code",
      "execution_count": null,
      "id": "a43ea4cb",
      "metadata": {
        "id": "a43ea4cb",
        "outputId": "0cde67c6-5b07-4350-bf89-4b74240e43ff",
        "colab": {
          "base_uri": "https://localhost:8080/",
          "height": 389
        }
      },
      "outputs": [
        {
          "output_type": "display_data",
          "data": {
            "text/plain": [
              "<Figure size 1080x432 with 1 Axes>"
            ],
            "image/png": "[encoded data removed]"
          },
          "metadata": {
            "needs_background": "light"
          }
        }
      ],
      "source": [
        "#hereditary_diseases distn\n",
        "plt.figure(figsize = (15,6))\n",
        "sns.countplot(x=\"hereditary_diseases\",data= ids)\n",
        "plt.show()"
      ]
    },
    {
      "cell_type": "code",
      "execution_count": null,
      "id": "de38b134",
      "metadata": {
        "id": "de38b134",
        "outputId": "2e24ac90-7da8-4eea-f30f-e10c696462ce",
        "colab": {
          "base_uri": "https://localhost:8080/",
          "height": 389
        }
      },
      "outputs": [
        {
          "output_type": "display_data",
          "data": {
            "text/plain": [
              "<Figure size 432x432 with 1 Axes>"
            ],
            "image/png": "[encoded data removed]"
          },
          "metadata": {
            "needs_background": "light"
          }
        }
      ],
      "source": [
        "#no_of_dependents distn\n",
        "plt.figure(figsize = (6,6))\n",
        "sns.countplot(x=\"no_of_dependents\",data= ids)\n",
        "plt.show()"
      ]
    },
    {
      "cell_type": "code",
      "execution_count": null,
      "id": "d65fb733",
      "metadata": {
        "id": "d65fb733",
        "outputId": "012cc40b-2e38-4c0f-a074-162276b12753",
        "colab": {
          "base_uri": "https://localhost:8080/",
          "height": 388
        }
      },
      "outputs": [
        {
          "output_type": "display_data",
          "data": {
            "text/plain": [
              "<Figure size 432x432 with 1 Axes>"
            ],
            "image/png": "[encoded data removed]"
          },
          "metadata": {
            "needs_background": "light"
          }
        }
      ],
      "source": [
        "#smoker distn\n",
        "plt.figure(figsize = (6,6))\n",
        "sns.countplot(x=\"smoker\",data= ids)\n",
        "plt.show()"
      ]
    },
    {
      "cell_type": "code",
      "execution_count": null,
      "id": "0c24519a",
      "metadata": {
        "id": "0c24519a",
        "outputId": "19afa354-5821-45a9-91d5-f25c6b8b9c19",
        "colab": {
          "base_uri": "https://localhost:8080/",
          "height": 388
        }
      },
      "outputs": [
        {
          "output_type": "display_data",
          "data": {
            "text/plain": [
              "<Figure size 432x432 with 1 Axes>"
            ],
            "image/png": "[encoded data removed]"
          },
          "metadata": {
            "needs_background": "light"
          }
        }
      ],
      "source": [
        "#diabetes distn \n",
        "plt.figure(figsize = (6,6))\n",
        "sns.countplot(x=\"diabetes\",data= ids)\n",
        "plt.show()"
      ]
    },
    {
      "cell_type": "code",
      "execution_count": null,
      "id": "3bc11420",
      "metadata": {
        "id": "3bc11420",
        "outputId": "11f3a6e1-6f1a-44ba-9ff2-7e07f8929873",
        "colab": {
          "base_uri": "https://localhost:8080/",
          "height": 389
        }
      },
      "outputs": [
        {
          "output_type": "display_data",
          "data": {
            "text/plain": [
              "<Figure size 432x432 with 1 Axes>"
            ],
            "image/png": "[encoded data removed]"
          },
          "metadata": {
            "needs_background": "light"
          }
        }
      ],
      "source": [
        "#regular_ex distn\n",
        "plt.figure(figsize = (6,6))\n",
        "sns.countplot(x=\"regular_ex\",data= ids)\n",
        "plt.show()"
      ]
    },
    {
      "cell_type": "code",
      "execution_count": null,
      "id": "5c77b021",
      "metadata": {
        "id": "5c77b021",
        "outputId": "e3e3b97e-75ae-4fab-e979-76b236164079",
        "colab": {
          "base_uri": "https://localhost:8080/",
          "height": 375
        }
      },
      "outputs": [
        {
          "output_type": "display_data",
          "data": {
            "text/plain": [
              "<Figure size 1800x432 with 1 Axes>"
            ],
            "image/png": "[encoded data removed]"
          },
          "metadata": {
            "needs_background": "light"
          }
        }
      ],
      "source": [
        "#job_title distn\n",
        "plt.figure(figsize = (25,6))\n",
        "sns.countplot(x=\"job_title\",data= ids)\n",
        "plt.show()"
      ]
    },
    {
      "cell_type": "markdown",
      "id": "8d611308",
      "metadata": {
        "id": "8d611308"
      },
      "source": [
        "#**checking outliers**\n",
        "An outlier is an observation that appears to deviate distinctly from other observations in the data. If the outliers are not removed, the model accuracy may decrease.\n",
        "##recollect that one of the assumptions of linear regression is that there should not be any outliers present in the data"
      ]
    },
    {
      "cell_type": "code",
      "execution_count": null,
      "id": "16b3b55d",
      "metadata": {
        "id": "16b3b55d",
        "outputId": "c65e3647-3140-4baa-ef00-b0d0493d3632",
        "colab": {
          "base_uri": "https://localhost:8080/",
          "height": 918
        }
      },
      "outputs": [
        {
          "output_type": "stream",
          "name": "stderr",
          "text": [
            "/usr/local/lib/python3.8/dist-packages/matplotlib/cbook/__init__.py:1376: VisibleDeprecationWarning: Creating an ndarray from ragged nested sequences (which is a list-or-tuple of lists-or-tuples-or ndarrays with different lengths or shapes) is deprecated. If you meant to do this, you must specify 'dtype=object' when creating the ndarray.\n",
            "  X = np.atleast_1d(X.T if isinstance(X, np.ndarray) else np.asarray(X))\n"
          ]
        },
        {
          "output_type": "display_data",
          "data": {
            "text/plain": [
              "<Figure size 1080x1080 with 1 Axes>"
            ],
            "image/png": "[encoded data removed]"
          },
          "metadata": {
            "needs_background": "light"
          }
        }
      ],
      "source": [
        "#set the size\n",
        "plt.figure(figsize = (15,15))\n",
        "# create a boxplot for all numeric features\n",
        "# column: selects the specified columns\n",
        "ids.boxplot(column=['age','bmi','bloodpressure'])\n",
        "plt.show()"
      ]
    },
    {
      "cell_type": "code",
      "execution_count": null,
      "id": "495027d5",
      "metadata": {
        "id": "495027d5",
        "outputId": "036021b4-d063-4d53-976c-0dcd4ac865ff",
        "colab": {
          "base_uri": "https://localhost:8080/",
          "height": 279
        }
      },
      "outputs": [
        {
          "output_type": "display_data",
          "data": {
            "text/plain": [
              "<Figure size 432x288 with 1 Axes>"
            ],
            "image/png": "[encoded data removed]"
          },
          "metadata": {
            "needs_background": "light"
          }
        }
      ],
      "source": [
        "sns.boxplot(x=ids['claim'])\n",
        "plt.show()"
      ]
    },
    {
      "cell_type": "code",
      "execution_count": null,
      "id": "37dd92d9",
      "metadata": {
        "id": "37dd92d9",
        "outputId": "7cd35584-b34f-476e-ed7e-a963a151e658",
        "colab": {
          "base_uri": "https://localhost:8080/",
          "height": 279
        }
      },
      "outputs": [
        {
          "output_type": "display_data",
          "data": {
            "text/plain": [
              "<Figure size 432x288 with 1 Axes>"
            ],
            "image/png": "[encoded data removed]"
          },
          "metadata": {
            "needs_background": "light"
          }
        }
      ],
      "source": [
        "sns.boxplot(x=ids['age'])\n",
        "plt.show()"
      ]
    },
    {
      "cell_type": "code",
      "execution_count": null,
      "id": "9e98bf82",
      "metadata": {
        "id": "9e98bf82",
        "outputId": "ebc3794c-931b-40b1-e1fd-93052e1b0e3d",
        "colab": {
          "base_uri": "https://localhost:8080/",
          "height": 282
        }
      },
      "outputs": [
        {
          "output_type": "execute_result",
          "data": {
            "text/plain": [
              "<matplotlib.collections.PathCollection at 0x7ff4b57b27c0>"
            ]
          },
          "metadata": {},
          "execution_count": 100
        },
        {
          "output_type": "display_data",
          "data": {
            "text/plain": [
              "<Figure size 432x288 with 1 Axes>"
            ],
            "image/png": "[encoded data removed]"
          },
          "metadata": {
            "needs_background": "light"
          }
        }
      ],
      "source": [
        "plt.scatter(ids.index,ids[\"claim\"])"
      ]
    },
    {
      "cell_type": "code",
      "execution_count": null,
      "id": "1d4fde9a",
      "metadata": {
        "id": "1d4fde9a",
        "outputId": "325babec-df93-48d1-faaf-6b70c8e7af22",
        "colab": {
          "base_uri": "https://localhost:8080/",
          "height": 282
        }
      },
      "outputs": [
        {
          "output_type": "execute_result",
          "data": {
            "text/plain": [
              "<matplotlib.collections.PathCollection at 0x7ff4b2c813a0>"
            ]
          },
          "metadata": {},
          "execution_count": 101
        },
        {
          "output_type": "display_data",
          "data": {
            "text/plain": [
              "<Figure size 432x288 with 1 Axes>"
            ],
            "image/png": "[encoded data removed]"
          },
          "metadata": {
            "needs_background": "light"
          }
        }
      ],
      "source": [
        "plt.scatter(ids.index,ids[\"age\"])"
      ]
    },
    {
      "cell_type": "code",
      "execution_count": null,
      "id": "b0b1668e",
      "metadata": {
        "id": "b0b1668e",
        "outputId": "5c51819f-cca7-4973-824a-ca613e56a07a",
        "colab": {
          "base_uri": "https://localhost:8080/",
          "height": 282
        }
      },
      "outputs": [
        {
          "output_type": "execute_result",
          "data": {
            "text/plain": [
              "<matplotlib.collections.PathCollection at 0x7ff4b55b2d90>"
            ]
          },
          "metadata": {},
          "execution_count": 102
        },
        {
          "output_type": "display_data",
          "data": {
            "text/plain": [
              "<Figure size 432x288 with 1 Axes>"
            ],
            "image/png": "[encoded data removed]"
          },
          "metadata": {
            "needs_background": "light"
          }
        }
      ],
      "source": [
        "plt.scatter(ids.index,ids[\"bmi\"])"
      ]
    },
    {
      "cell_type": "code",
      "execution_count": null,
      "id": "9544fd86",
      "metadata": {
        "id": "9544fd86",
        "outputId": "500a533e-9ccb-422d-83cc-3c2615b52d62",
        "colab": {
          "base_uri": "https://localhost:8080/",
          "height": 282
        }
      },
      "outputs": [
        {
          "output_type": "execute_result",
          "data": {
            "text/plain": [
              "<matplotlib.collections.PathCollection at 0x7ff4b1d3fe20>"
            ]
          },
          "metadata": {},
          "execution_count": 103
        },
        {
          "output_type": "display_data",
          "data": {
            "text/plain": [
              "<Figure size 432x288 with 1 Axes>"
            ],
            "image/png": "[encoded data removed]"
          },
          "metadata": {
            "needs_background": "light"
          }
        }
      ],
      "source": [
        "plt.scatter(ids.index,ids[\"bloodpressure\"])"
      ]
    },
    {
      "cell_type": "markdown",
      "id": "6edc3309",
      "metadata": {
        "id": "6edc3309"
      },
      "source": [
        "#**INFERENCES:**\n",
        "# 1)bmi has outliers\n",
        "# 2)bloodpressure has outliers\n",
        "# 3)claim has outliers"
      ]
    },
    {
      "cell_type": "markdown",
      "source": [
        "#**Handling Outliers**"
      ],
      "metadata": {
        "id": "buJP3ZuEZF22"
      },
      "id": "buJP3ZuEZF22"
    },
    {
      "cell_type": "code",
      "execution_count": null,
      "id": "433a706b",
      "metadata": {
        "id": "433a706b",
        "outputId": "68bd4b7b-71e4-4f2d-9c03-6a56ce971188",
        "colab": {
          "base_uri": "https://localhost:8080/"
        }
      },
      "outputs": [
        {
          "output_type": "execute_result",
          "data": {
            "text/plain": [
              "40.5"
            ]
          },
          "metadata": {},
          "execution_count": 104
        }
      ],
      "source": [
        "max_treshold= ids['bmi'].quantile(0.95)\n",
        "max_treshold"
      ]
    },
    {
      "cell_type": "code",
      "execution_count": null,
      "id": "bdf00396",
      "metadata": {
        "id": "bdf00396",
        "outputId": "a2e080c9-3c1f-4c8c-f620-f309db3b76c6",
        "colab": {
          "base_uri": "https://localhost:8080/",
          "height": 279
        }
      },
      "outputs": [
        {
          "output_type": "display_data",
          "data": {
            "text/plain": [
              "<Figure size 432x288 with 1 Axes>"
            ],
            "image/png": "[encoded data removed]"
          },
          "metadata": {
            "needs_background": "light"
          }
        }
      ],
      "source": [
        "#plot before handling outliers\n",
        "sns.boxplot(x=ids['bmi'])\n",
        "plt.show()"
      ]
    },
    {
      "cell_type": "code",
      "execution_count": null,
      "id": "1ce5682b",
      "metadata": {
        "id": "1ce5682b",
        "outputId": "8c8883e3-7c2f-47ec-d504-f464413c63ba",
        "colab": {
          "base_uri": "https://localhost:8080/"
        }
      },
      "outputs": [
        {
          "output_type": "stream",
          "name": "stderr",
          "text": [
            "<ipython-input-106-6735ad895042>:1: SettingWithCopyWarning: \n",
            "A value is trying to be set on a copy of a slice from a DataFrame\n",
            "\n",
            "See the caveats in the documentation: https://pandas.pydata.org/pandas-docs/stable/user_guide/indexing.html#returning-a-view-versus-a-copy\n",
            "  ids['bmi'][ids['bmi']>max_treshold]= max_treshold\n"
          ]
        }
      ],
      "source": [
        "ids['bmi'][ids['bmi']>max_treshold]= max_treshold"
      ]
    },
    {
      "cell_type": "code",
      "execution_count": null,
      "id": "a5cb9f21",
      "metadata": {
        "id": "a5cb9f21",
        "outputId": "d2a246cb-b0d1-4280-9394-8badb1722e8c",
        "colab": {
          "base_uri": "https://localhost:8080/",
          "height": 279
        }
      },
      "outputs": [
        {
          "output_type": "display_data",
          "data": {
            "text/plain": [
              "<Figure size 432x288 with 1 Axes>"
            ],
            "image/png": "[encoded data removed]"
          },
          "metadata": {
            "needs_background": "light"
          }
        }
      ],
      "source": [
        "# after handling outliers\n",
        "sns.boxplot(x=ids['bmi'])\n",
        "plt.show()"
      ]
    },
    {
      "cell_type": "code",
      "execution_count": null,
      "id": "5772f6d8",
      "metadata": {
        "id": "5772f6d8",
        "outputId": "4b78787d-469d-477c-856d-0ee13ac31870",
        "colab": {
          "base_uri": "https://localhost:8080/"
        }
      },
      "outputs": [
        {
          "output_type": "execute_result",
          "data": {
            "text/plain": [
              "48.0"
            ]
          },
          "metadata": {},
          "execution_count": 108
        }
      ],
      "source": [
        "#bloodpressure outlier handling\n",
        "min_treshold2=ids['bloodpressure'].quantile(0.06)\n",
        "min_treshold2"
      ]
    },
    {
      "cell_type": "code",
      "execution_count": null,
      "id": "7f22579c",
      "metadata": {
        "id": "7f22579c",
        "outputId": "1ed1dbe4-364d-47fb-813f-810f8fdbb2dd",
        "colab": {
          "base_uri": "https://localhost:8080/"
        }
      },
      "outputs": [
        {
          "output_type": "execute_result",
          "data": {
            "text/plain": [
              "90.0"
            ]
          },
          "metadata": {},
          "execution_count": 109
        }
      ],
      "source": [
        "max_treshold2=ids['bloodpressure'].quantile(0.95)\n",
        "max_treshold2"
      ]
    },
    {
      "cell_type": "code",
      "execution_count": null,
      "id": "1c092b0f",
      "metadata": {
        "id": "1c092b0f",
        "outputId": "356494c4-d5d5-4df9-fc19-61b65d51583b",
        "colab": {
          "base_uri": "https://localhost:8080/",
          "height": 279
        }
      },
      "outputs": [
        {
          "output_type": "display_data",
          "data": {
            "text/plain": [
              "<Figure size 432x288 with 1 Axes>"
            ],
            "image/png": "[encoded data removed]"
          },
          "metadata": {
            "needs_background": "light"
          }
        }
      ],
      "source": [
        "#before handling outlier \n",
        "sns.boxplot(x=ids['bloodpressure'])\n",
        "plt.show()"
      ]
    },
    {
      "cell_type": "code",
      "execution_count": null,
      "id": "9f1f6e79",
      "metadata": {
        "id": "9f1f6e79",
        "outputId": "48865e18-f2da-4f9a-b7dd-58acfb385363",
        "colab": {
          "base_uri": "https://localhost:8080/"
        }
      },
      "outputs": [
        {
          "output_type": "stream",
          "name": "stderr",
          "text": [
            "<ipython-input-111-604a84b50ea4>:1: SettingWithCopyWarning: \n",
            "A value is trying to be set on a copy of a slice from a DataFrame\n",
            "\n",
            "See the caveats in the documentation: https://pandas.pydata.org/pandas-docs/stable/user_guide/indexing.html#returning-a-view-versus-a-copy\n",
            "  ids['bloodpressure'][ids['bloodpressure']<min_treshold2]= min_treshold2\n"
          ]
        }
      ],
      "source": [
        "ids['bloodpressure'][ids['bloodpressure']<min_treshold2]= min_treshold2"
      ]
    },
    {
      "cell_type": "code",
      "execution_count": null,
      "id": "f25c7dfa",
      "metadata": {
        "id": "f25c7dfa",
        "outputId": "30ec0d5a-90c1-49c6-ce74-1d52d4f50dcf",
        "colab": {
          "base_uri": "https://localhost:8080/"
        }
      },
      "outputs": [
        {
          "output_type": "stream",
          "name": "stderr",
          "text": [
            "<ipython-input-112-19a2945e273d>:1: SettingWithCopyWarning: \n",
            "A value is trying to be set on a copy of a slice from a DataFrame\n",
            "\n",
            "See the caveats in the documentation: https://pandas.pydata.org/pandas-docs/stable/user_guide/indexing.html#returning-a-view-versus-a-copy\n",
            "  ids['bloodpressure'][ids['bloodpressure']>max_treshold2]= max_treshold2\n"
          ]
        }
      ],
      "source": [
        "ids['bloodpressure'][ids['bloodpressure']>max_treshold2]= max_treshold2"
      ]
    },
    {
      "cell_type": "code",
      "execution_count": null,
      "id": "ef2ddf11",
      "metadata": {
        "id": "ef2ddf11",
        "outputId": "0187f7fe-450f-4b3f-c05b-8bd36a381996",
        "colab": {
          "base_uri": "https://localhost:8080/",
          "height": 279
        }
      },
      "outputs": [
        {
          "output_type": "display_data",
          "data": {
            "text/plain": [
              "<Figure size 432x288 with 1 Axes>"
            ],
            "image/png": "[encoded data removed]"
          },
          "metadata": {
            "needs_background": "light"
          }
        }
      ],
      "source": [
        "sns.boxplot(x=ids['bloodpressure'])\n",
        "plt.show()"
      ]
    },
    {
      "cell_type": "markdown",
      "id": "0322b3ff",
      "metadata": {
        "id": "0322b3ff"
      },
      "source": [
        "#**Missing Values**"
      ]
    },
    {
      "cell_type": "code",
      "execution_count": null,
      "id": "cd1de5c8",
      "metadata": {
        "id": "cd1de5c8",
        "outputId": "2135426f-43e9-49f6-8102-1c1cf38cd853",
        "colab": {
          "base_uri": "https://localhost:8080/"
        }
      },
      "outputs": [
        {
          "output_type": "execute_result",
          "data": {
            "text/plain": [
              "age                    396\n",
              "sex                      0\n",
              "weight                   0\n",
              "bmi                    956\n",
              "hereditary_diseases      0\n",
              "no_of_dependents         0\n",
              "smoker                   0\n",
              "city                     0\n",
              "bloodpressure            0\n",
              "diabetes                 0\n",
              "regular_ex               0\n",
              "job_title                0\n",
              "claim                    0\n",
              "dtype: int64"
            ]
          },
          "metadata": {},
          "execution_count": 114
        }
      ],
      "source": [
        "#.isnull().sum() gives the num of outliers in the feature/column\n",
        "#before handling missing values\n",
        "ids.isnull().sum()"
      ]
    },
    {
      "cell_type": "markdown",
      "source": [
        "#**Visualize Missing Values using Heatmap**"
      ],
      "metadata": {
        "id": "oIfYgtmFxX9Y"
      },
      "id": "oIfYgtmFxX9Y"
    },
    {
      "cell_type": "code",
      "source": [
        "plt.figure(figsize=(20,10))\n",
        "sns.heatmap(ids.isnull(),cbar=False,yticklabels=False,cmap='viridis')"
      ],
      "metadata": {
        "colab": {
          "base_uri": "https://localhost:8080/",
          "height": 699
        },
        "id": "tkbtXogNPiEq",
        "outputId": "dae143e7-71a8-442f-b771-d8f778afc483"
      },
      "id": "tkbtXogNPiEq",
      "execution_count": null,
      "outputs": [
        {
          "output_type": "execute_result",
          "data": {
            "text/plain": [
              "<matplotlib.axes._subplots.AxesSubplot at 0x7ff4b1db8730>"
            ]
          },
          "metadata": {},
          "execution_count": 115
        },
        {
          "output_type": "display_data",
          "data": {
            "text/plain": [
              "<Figure size 1440x720 with 1 Axes>"
            ],
            "image/png": "[encoded data removed]"
          },
          "metadata": {
            "needs_background": "light"
          }
        }
      ]
    },
    {
      "cell_type": "markdown",
      "source": [
        "###age and bmi have missing values\n",
        "**Imputing age with mean and bmi with median values.**\n",
        "\n",
        "\n",
        "#**how to Deal with Missing Values ?**\n",
        "How to deal with missing data?\n",
        "\n",
        "Depending on scenarios, you may:\n",
        "###a. Drop the whole row\n",
        "###b. Drop the whole column\n",
        "\n",
        "OR replace:\n",
        "###a. The missing values with mean\n",
        "###b. The missing values with median\n",
        "###c. Replace it based on other functions\n",
        "\n",
        "\n",
        "The entire column is dropped only if most entries (80%-90%) in the column are missing. We have the option to either drop the rows containing the missing values or replace them. In our dataset, there are not many values that are missing. So, we opt to replace these values. For the variable 'age', we will replace missing values by the mean of age across the gender.\n",
        "\n"
      ],
      "metadata": {
        "id": "RulbRqpfaDiP"
      },
      "id": "RulbRqpfaDiP"
    },
    {
      "cell_type": "code",
      "execution_count": null,
      "id": "e075de08",
      "metadata": {
        "id": "e075de08"
      },
      "outputs": [],
      "source": [
        "ids['age'].fillna(value=ids['age'].mean(),inplace= True)"
      ]
    },
    {
      "cell_type": "code",
      "execution_count": null,
      "id": "2ec09482",
      "metadata": {
        "id": "2ec09482"
      },
      "outputs": [],
      "source": [
        "ids['bmi'].fillna(value=ids['bmi'].median(),inplace= True) #using median imputation, since bmi has outliers"
      ]
    },
    {
      "cell_type": "code",
      "execution_count": null,
      "id": "a34149bc",
      "metadata": {
        "id": "a34149bc",
        "outputId": "edfd9fc5-76b1-4e41-8089-fb5e99f879a7",
        "colab": {
          "base_uri": "https://localhost:8080/"
        }
      },
      "outputs": [
        {
          "output_type": "execute_result",
          "data": {
            "text/plain": [
              "age                    0\n",
              "sex                    0\n",
              "weight                 0\n",
              "bmi                    0\n",
              "hereditary_diseases    0\n",
              "no_of_dependents       0\n",
              "smoker                 0\n",
              "city                   0\n",
              "bloodpressure          0\n",
              "diabetes               0\n",
              "regular_ex             0\n",
              "job_title              0\n",
              "claim                  0\n",
              "dtype: int64"
            ]
          },
          "metadata": {},
          "execution_count": 118
        }
      ],
      "source": [
        "#after handling missing values\n",
        "ids.isnull().sum()"
      ]
    },
    {
      "cell_type": "code",
      "source": [
        "# heatmap after handling missing values\n",
        "plt.figure(figsize=(20,10))\n",
        "sns.heatmap(ids.isnull(),cbar=False,yticklabels=False,cmap='viridis')"
      ],
      "metadata": {
        "colab": {
          "base_uri": "https://localhost:8080/",
          "height": 699
        },
        "id": "v5ZRL--lasN4",
        "outputId": "7a286fe1-beac-4fbc-b0fa-668f677847dd"
      },
      "id": "v5ZRL--lasN4",
      "execution_count": null,
      "outputs": [
        {
          "output_type": "execute_result",
          "data": {
            "text/plain": [
              "<matplotlib.axes._subplots.AxesSubplot at 0x7ff4b1b25ee0>"
            ]
          },
          "metadata": {},
          "execution_count": 119
        },
        {
          "output_type": "display_data",
          "data": {
            "text/plain": [
              "<Figure size 1440x720 with 1 Axes>"
            ],
            "image/png": "[encoded data removed]"
          },
          "metadata": {
            "needs_background": "light"
          }
        }
      ]
    },
    {
      "cell_type": "markdown",
      "source": [
        "#**Applying transformation to claim**"
      ],
      "metadata": {
        "id": "fL_cC7UHa211"
      },
      "id": "fL_cC7UHa211"
    },
    {
      "cell_type": "code",
      "execution_count": null,
      "id": "1a0b1186",
      "metadata": {
        "id": "1a0b1186",
        "outputId": "c69bb43d-a3f6-488c-9c38-324263b0d56e",
        "colab": {
          "base_uri": "https://localhost:8080/",
          "height": 282
        }
      },
      "outputs": [
        {
          "output_type": "execute_result",
          "data": {
            "text/plain": [
              "<matplotlib.collections.PathCollection at 0x7ff4b1c95400>"
            ]
          },
          "metadata": {},
          "execution_count": 120
        },
        {
          "output_type": "display_data",
          "data": {
            "text/plain": [
              "<Figure size 432x288 with 1 Axes>"
            ],
            "image/png": "[encoded data removed]"
          },
          "metadata": {
            "needs_background": "light"
          }
        }
      ],
      "source": [
        "plt.scatter( ids.index,ids[\"claim\"])"
      ]
    },
    {
      "cell_type": "code",
      "execution_count": null,
      "id": "f2e2defc",
      "metadata": {
        "id": "f2e2defc",
        "outputId": "67a65718-de8c-4dcc-c7e2-20464a516fc9",
        "colab": {
          "base_uri": "https://localhost:8080/",
          "height": 265
        }
      },
      "outputs": [
        {
          "output_type": "display_data",
          "data": {
            "text/plain": [
              "<Figure size 432x288 with 1 Axes>"
            ],
            "image/png": "[encoded data removed]"
          },
          "metadata": {
            "needs_background": "light"
          }
        }
      ],
      "source": [
        "#histogram before transformationn\n",
        "plt.hist(x=ids['claim'],bins= 20)\n",
        "plt.show()"
      ]
    },
    {
      "cell_type": "code",
      "execution_count": null,
      "id": "d8ddcf93",
      "metadata": {
        "id": "d8ddcf93",
        "outputId": "ba3a336b-b9c0-4907-871b-904f4649d997",
        "colab": {
          "base_uri": "https://localhost:8080/",
          "height": 279
        }
      },
      "outputs": [
        {
          "output_type": "display_data",
          "data": {
            "text/plain": [
              "<Figure size 432x288 with 1 Axes>"
            ],
            "image/png": "[encoded data removed]"
          },
          "metadata": {
            "needs_background": "light"
          }
        }
      ],
      "source": [
        "#boxplot before transformation\n",
        "sns.boxplot(x=ids['claim'])\n",
        "plt.show()"
      ]
    },
    {
      "cell_type": "code",
      "execution_count": null,
      "id": "2a97d71d",
      "metadata": {
        "id": "2a97d71d"
      },
      "outputs": [],
      "source": [
        "#log transformation\n",
        "ids['claim']=np.log(1+ids['claim'])"
      ]
    },
    {
      "cell_type": "code",
      "execution_count": null,
      "id": "b3956e2e",
      "metadata": {
        "id": "b3956e2e",
        "outputId": "6bee9b92-1f17-45b3-9eba-565c9931109f",
        "colab": {
          "base_uri": "https://localhost:8080/",
          "height": 265
        }
      },
      "outputs": [
        {
          "output_type": "display_data",
          "data": {
            "text/plain": [
              "<Figure size 432x288 with 1 Axes>"
            ],
            "image/png": "[encoded data removed]"
          },
          "metadata": {
            "needs_background": "light"
          }
        }
      ],
      "source": [
        "#after transformation\n",
        "plt.hist(x=ids['claim'],bins= 20)\n",
        "plt.show()"
      ]
    },
    {
      "cell_type": "code",
      "execution_count": null,
      "id": "93736e1e",
      "metadata": {
        "id": "93736e1e",
        "outputId": "3d52b38a-2b0d-49b9-85db-6a6087d2afd5",
        "colab": {
          "base_uri": "https://localhost:8080/",
          "height": 279
        }
      },
      "outputs": [
        {
          "output_type": "display_data",
          "data": {
            "text/plain": [
              "<Figure size 432x288 with 1 Axes>"
            ],
            "image/png": "[encoded data removed]"
          },
          "metadata": {
            "needs_background": "light"
          }
        }
      ],
      "source": [
        "#after transformation\n",
        "sns.boxplot(x=ids['claim'])\n",
        "plt.show()"
      ]
    },
    {
      "cell_type": "markdown",
      "source": [
        "#**dropping unnecessary columns**"
      ],
      "metadata": {
        "id": "foYYjpdpyZdk"
      },
      "id": "foYYjpdpyZdk"
    },
    {
      "cell_type": "code",
      "execution_count": null,
      "id": "7ed961f2",
      "metadata": {
        "id": "7ed961f2"
      },
      "outputs": [],
      "source": [
        "ids.drop(['city','weight'],axis=1,inplace=True)\n",
        "#dropping weights since we already have bmi-body mass index which includes height and weight"
      ]
    },
    {
      "cell_type": "code",
      "execution_count": null,
      "id": "45b01746",
      "metadata": {
        "id": "45b01746",
        "outputId": "41b7243e-4bd6-4c6d-930a-d3ed0f6350f9",
        "colab": {
          "base_uri": "https://localhost:8080/",
          "height": 112
        }
      },
      "outputs": [
        {
          "output_type": "execute_result",
          "data": {
            "text/plain": [
              "    age     sex   bmi hereditary_diseases  no_of_dependents smoker  \\\n",
              "0  60.0    male  24.3           NoDisease                 1      0   \n",
              "1  49.0  female  22.6           NoDisease                 1      0   \n",
              "\n",
              "   bloodpressure diabetes regular_ex job_title     claim  \n",
              "0             72        0          0     Actor  9.481405  \n",
              "1             78        1          1  Engineer  9.166179  "
            ],
            "text/html": [
              "\n",
              "  <div id=\"df-0afb2cb2-a403-4906-9da1-2514e3189582\">\n",
              "    <div class=\"colab-df-container\">\n",
              "      <div>\n",
              "<style scoped>\n",
              "    .dataframe tbody tr th:only-of-type {\n",
              "        vertical-align: middle;\n",
              "    }\n",
              "\n",
              "    .dataframe tbody tr th {\n",
              "        vertical-align: top;\n",
              "    }\n",
              "\n",
              "    .dataframe thead th {\n",
              "        text-align: right;\n",
              "    }\n",
              "</style>\n",
              "<table border=\"1\" class=\"dataframe\">\n",
              "  <thead>\n",
              "    <tr style=\"text-align: right;\">\n",
              "      <th></th>\n",
              "      <th>age</th>\n",
              "      <th>sex</th>\n",
              "      <th>bmi</th>\n",
              "      <th>hereditary_diseases</th>\n",
              "      <th>no_of_dependents</th>\n",
              "      <th>smoker</th>\n",
              "      <th>bloodpressure</th>\n",
              "      <th>diabetes</th>\n",
              "      <th>regular_ex</th>\n",
              "      <th>job_title</th>\n",
              "      <th>claim</th>\n",
              "    </tr>\n",
              "  </thead>\n",
              "  <tbody>\n",
              "    <tr>\n",
              "      <th>0</th>\n",
              "      <td>60.0</td>\n",
              "      <td>male</td>\n",
              "      <td>24.3</td>\n",
              "      <td>NoDisease</td>\n",
              "      <td>1</td>\n",
              "      <td>0</td>\n",
              "      <td>72</td>\n",
              "      <td>0</td>\n",
              "      <td>0</td>\n",
              "      <td>Actor</td>\n",
              "      <td>9.481405</td>\n",
              "    </tr>\n",
              "    <tr>\n",
              "      <th>1</th>\n",
              "      <td>49.0</td>\n",
              "      <td>female</td>\n",
              "      <td>22.6</td>\n",
              "      <td>NoDisease</td>\n",
              "      <td>1</td>\n",
              "      <td>0</td>\n",
              "      <td>78</td>\n",
              "      <td>1</td>\n",
              "      <td>1</td>\n",
              "      <td>Engineer</td>\n",
              "      <td>9.166179</td>\n",
              "    </tr>\n",
              "  </tbody>\n",
              "</table>\n",
              "</div>\n",
              "      <button class=\"colab-df-convert\" onclick=\"convertToInteractive('df-0afb2cb2-a403-4906-9da1-2514e3189582')\"\n",
              "              title=\"Convert this dataframe to an interactive table.\"\n",
              "              style=\"display:none;\">\n",
              "        \n",
              "  <svg xmlns=\"http://www.w3.org/2000/svg\" height=\"24px\"viewBox=\"0 0 24 24\"\n",
              "       width=\"24px\">\n",
              "    <path d=\"M0 0h24v24H0V0z\" fill=\"none\"/>\n",
              "    <path d=\"M18.56 5.44l.94 2.06.94-2.06 2.06-.94-2.06-.94-.94-2.06-.94 2.06-2.06.94zm-11 1L8.5 8.5l.94-2.06 2.06-.94-2.06-.94L8.5 2.5l-.94 2.06-2.06.94zm10 10l.94 2.06.94-2.06 2.06-.94-2.06-.94-.94-2.06-.94 2.06-2.06.94z\"/><path d=\"M17.41 7.96l-1.37-1.37c-.4-.4-.92-.59-1.43-.59-.52 0-1.04.2-1.43.59L10.3 9.45l-7.72 7.72c-.78.78-.78 2.05 0 2.83L4 21.41c.39.39.9.59 1.41.59.51 0 1.02-.2 1.41-.59l7.78-7.78 2.81-2.81c.8-.78.8-2.07 0-2.86zM5.41 20L4 18.59l7.72-7.72 1.47 1.35L5.41 20z\"/>\n",
              "  </svg>\n",
              "      </button>\n",
              "      \n",
              "  <style>\n",
              "    .colab-df-container {\n",
              "      display:flex;\n",
              "      flex-wrap:wrap;\n",
              "      gap: 12px;\n",
              "    }\n",
              "\n",
              "    .colab-df-convert {\n",
              "      background-color: #E8F0FE;\n",
              "      border: none;\n",
              "      border-radius: 50%;\n",
              "      cursor: pointer;\n",
              "      display: none;\n",
              "      fill: #1967D2;\n",
              "      height: 32px;\n",
              "      padding: 0 0 0 0;\n",
              "      width: 32px;\n",
              "    }\n",
              "\n",
              "    .colab-df-convert:hover {\n",
              "      background-color: #E2EBFA;\n",
              "      box-shadow: 0px 1px 2px rgba(60, 64, 67, 0.3), 0px 1px 3px 1px rgba(60, 64, 67, 0.15);\n",
              "      fill: #174EA6;\n",
              "    }\n",
              "\n",
              "    [theme=dark] .colab-df-convert {\n",
              "      background-color: #3B4455;\n",
              "      fill: #D2E3FC;\n",
              "    }\n",
              "\n",
              "    [theme=dark] .colab-df-convert:hover {\n",
              "      background-color: #434B5C;\n",
              "      box-shadow: 0px 1px 3px 1px rgba(0, 0, 0, 0.15);\n",
              "      filter: drop-shadow(0px 1px 2px rgba(0, 0, 0, 0.3));\n",
              "      fill: #FFFFFF;\n",
              "    }\n",
              "  </style>\n",
              "\n",
              "      <script>\n",
              "        const buttonEl =\n",
              "          document.querySelector('#df-0afb2cb2-a403-4906-9da1-2514e3189582 button.colab-df-convert');\n",
              "        buttonEl.style.display =\n",
              "          google.colab.kernel.accessAllowed ? 'block' : 'none';\n",
              "\n",
              "        async function convertToInteractive(key) {\n",
              "          const element = document.querySelector('#df-0afb2cb2-a403-4906-9da1-2514e3189582');\n",
              "          const dataTable =\n",
              "            await google.colab.kernel.invokeFunction('convertToInteractive',\n",
              "                                                     [key], {});\n",
              "          if (!dataTable) return;\n",
              "\n",
              "          const docLinkHtml = 'Like what you see? Visit the ' +\n",
              "            '<a target=\"_blank\" href=https://colab.research.google.com/notebooks/data_table.ipynb>data table notebook</a>'\n",
              "            + ' to learn more about interactive tables.';\n",
              "          element.innerHTML = '';\n",
              "          dataTable['output_type'] = 'display_data';\n",
              "          await google.colab.output.renderOutput(dataTable, element);\n",
              "          const docLink = document.createElement('div');\n",
              "          docLink.innerHTML = docLinkHtml;\n",
              "          element.appendChild(docLink);\n",
              "        }\n",
              "      </script>\n",
              "    </div>\n",
              "  </div>\n",
              "  "
            ]
          },
          "metadata": {},
          "execution_count": 127
        }
      ],
      "source": [
        "ids.head(2)"
      ]
    },
    {
      "cell_type": "markdown",
      "id": "f41eca9f",
      "metadata": {
        "id": "f41eca9f"
      },
      "source": [
        "# Correlation \n",
        "Correlation is the extent of linear relationship among numeric variables\n",
        "It indicates the extent to which two variables increase or decrease in parallel\n",
        "The value of a correlation coefficient ranges between -1 and 1\n",
        "Correlation among multiple variables can be represented in the form of a matrix. This allows us to see which pairs are correlated."
      ]
    },
    {
      "cell_type": "code",
      "source": [
        "# select the numerical features in the dataset using 'select_dtypes()'\n",
        "# select_dtypes(include=np.number): considers the numeric variables,since calculating correlations for categorical variables is meaning less\n",
        "#round(,2) funcion rounds the correlation values to 2 digits\n",
        "round(ids.select_dtypes(include=np.number).corr(),2)"
      ],
      "metadata": {
        "colab": {
          "base_uri": "https://localhost:8080/",
          "height": 206
        },
        "id": "msWmMH8-OrWG",
        "outputId": "5c0f4aa1-5ef6-4768-f8c4-efa43bbd8248"
      },
      "id": "msWmMH8-OrWG",
      "execution_count": null,
      "outputs": [
        {
          "output_type": "execute_result",
          "data": {
            "text/plain": [
              "                   age   bmi  no_of_dependents  bloodpressure  claim\n",
              "age               1.00  0.19              0.06           0.01   0.52\n",
              "bmi               0.19  1.00              0.04          -0.05   0.18\n",
              "no_of_dependents  0.06  0.04              1.00           0.03   0.16\n",
              "bloodpressure     0.01 -0.05              0.03           1.00   0.03\n",
              "claim             0.52  0.18              0.16           0.03   1.00"
            ],
            "text/html": [
              "\n",
              "  <div id=\"df-064b24c2-7c08-4cf9-b7aa-b1ec5588c8a2\">\n",
              "    <div class=\"colab-df-container\">\n",
              "      <div>\n",
              "<style scoped>\n",
              "    .dataframe tbody tr th:only-of-type {\n",
              "        vertical-align: middle;\n",
              "    }\n",
              "\n",
              "    .dataframe tbody tr th {\n",
              "        vertical-align: top;\n",
              "    }\n",
              "\n",
              "    .dataframe thead th {\n",
              "        text-align: right;\n",
              "    }\n",
              "</style>\n",
              "<table border=\"1\" class=\"dataframe\">\n",
              "  <thead>\n",
              "    <tr style=\"text-align: right;\">\n",
              "      <th></th>\n",
              "      <th>age</th>\n",
              "      <th>bmi</th>\n",
              "      <th>no_of_dependents</th>\n",
              "      <th>bloodpressure</th>\n",
              "      <th>claim</th>\n",
              "    </tr>\n",
              "  </thead>\n",
              "  <tbody>\n",
              "    <tr>\n",
              "      <th>age</th>\n",
              "      <td>1.00</td>\n",
              "      <td>0.19</td>\n",
              "      <td>0.06</td>\n",
              "      <td>0.01</td>\n",
              "      <td>0.52</td>\n",
              "    </tr>\n",
              "    <tr>\n",
              "      <th>bmi</th>\n",
              "      <td>0.19</td>\n",
              "      <td>1.00</td>\n",
              "      <td>0.04</td>\n",
              "      <td>-0.05</td>\n",
              "      <td>0.18</td>\n",
              "    </tr>\n",
              "    <tr>\n",
              "      <th>no_of_dependents</th>\n",
              "      <td>0.06</td>\n",
              "      <td>0.04</td>\n",
              "      <td>1.00</td>\n",
              "      <td>0.03</td>\n",
              "      <td>0.16</td>\n",
              "    </tr>\n",
              "    <tr>\n",
              "      <th>bloodpressure</th>\n",
              "      <td>0.01</td>\n",
              "      <td>-0.05</td>\n",
              "      <td>0.03</td>\n",
              "      <td>1.00</td>\n",
              "      <td>0.03</td>\n",
              "    </tr>\n",
              "    <tr>\n",
              "      <th>claim</th>\n",
              "      <td>0.52</td>\n",
              "      <td>0.18</td>\n",
              "      <td>0.16</td>\n",
              "      <td>0.03</td>\n",
              "      <td>1.00</td>\n",
              "    </tr>\n",
              "  </tbody>\n",
              "</table>\n",
              "</div>\n",
              "      <button class=\"colab-df-convert\" onclick=\"convertToInteractive('df-064b24c2-7c08-4cf9-b7aa-b1ec5588c8a2')\"\n",
              "              title=\"Convert this dataframe to an interactive table.\"\n",
              "              style=\"display:none;\">\n",
              "        \n",
              "  <svg xmlns=\"http://www.w3.org/2000/svg\" height=\"24px\"viewBox=\"0 0 24 24\"\n",
              "       width=\"24px\">\n",
              "    <path d=\"M0 0h24v24H0V0z\" fill=\"none\"/>\n",
              "    <path d=\"M18.56 5.44l.94 2.06.94-2.06 2.06-.94-2.06-.94-.94-2.06-.94 2.06-2.06.94zm-11 1L8.5 8.5l.94-2.06 2.06-.94-2.06-.94L8.5 2.5l-.94 2.06-2.06.94zm10 10l.94 2.06.94-2.06 2.06-.94-2.06-.94-.94-2.06-.94 2.06-2.06.94z\"/><path d=\"M17.41 7.96l-1.37-1.37c-.4-.4-.92-.59-1.43-.59-.52 0-1.04.2-1.43.59L10.3 9.45l-7.72 7.72c-.78.78-.78 2.05 0 2.83L4 21.41c.39.39.9.59 1.41.59.51 0 1.02-.2 1.41-.59l7.78-7.78 2.81-2.81c.8-.78.8-2.07 0-2.86zM5.41 20L4 18.59l7.72-7.72 1.47 1.35L5.41 20z\"/>\n",
              "  </svg>\n",
              "      </button>\n",
              "      \n",
              "  <style>\n",
              "    .colab-df-container {\n",
              "      display:flex;\n",
              "      flex-wrap:wrap;\n",
              "      gap: 12px;\n",
              "    }\n",
              "\n",
              "    .colab-df-convert {\n",
              "      background-color: #E8F0FE;\n",
              "      border: none;\n",
              "      border-radius: 50%;\n",
              "      cursor: pointer;\n",
              "      display: none;\n",
              "      fill: #1967D2;\n",
              "      height: 32px;\n",
              "      padding: 0 0 0 0;\n",
              "      width: 32px;\n",
              "    }\n",
              "\n",
              "    .colab-df-convert:hover {\n",
              "      background-color: #E2EBFA;\n",
              "      box-shadow: 0px 1px 2px rgba(60, 64, 67, 0.3), 0px 1px 3px 1px rgba(60, 64, 67, 0.15);\n",
              "      fill: #174EA6;\n",
              "    }\n",
              "\n",
              "    [theme=dark] .colab-df-convert {\n",
              "      background-color: #3B4455;\n",
              "      fill: #D2E3FC;\n",
              "    }\n",
              "\n",
              "    [theme=dark] .colab-df-convert:hover {\n",
              "      background-color: #434B5C;\n",
              "      box-shadow: 0px 1px 3px 1px rgba(0, 0, 0, 0.15);\n",
              "      filter: drop-shadow(0px 1px 2px rgba(0, 0, 0, 0.3));\n",
              "      fill: #FFFFFF;\n",
              "    }\n",
              "  </style>\n",
              "\n",
              "      <script>\n",
              "        const buttonEl =\n",
              "          document.querySelector('#df-064b24c2-7c08-4cf9-b7aa-b1ec5588c8a2 button.colab-df-convert');\n",
              "        buttonEl.style.display =\n",
              "          google.colab.kernel.accessAllowed ? 'block' : 'none';\n",
              "\n",
              "        async function convertToInteractive(key) {\n",
              "          const element = document.querySelector('#df-064b24c2-7c08-4cf9-b7aa-b1ec5588c8a2');\n",
              "          const dataTable =\n",
              "            await google.colab.kernel.invokeFunction('convertToInteractive',\n",
              "                                                     [key], {});\n",
              "          if (!dataTable) return;\n",
              "\n",
              "          const docLinkHtml = 'Like what you see? Visit the ' +\n",
              "            '<a target=\"_blank\" href=https://colab.research.google.com/notebooks/data_table.ipynb>data table notebook</a>'\n",
              "            + ' to learn more about interactive tables.';\n",
              "          element.innerHTML = '';\n",
              "          dataTable['output_type'] = 'display_data';\n",
              "          await google.colab.output.renderOutput(dataTable, element);\n",
              "          const docLink = document.createElement('div');\n",
              "          docLink.innerHTML = docLinkHtml;\n",
              "          element.appendChild(docLink);\n",
              "        }\n",
              "      </script>\n",
              "    </div>\n",
              "  </div>\n",
              "  "
            ]
          },
          "metadata": {},
          "execution_count": 129
        }
      ]
    },
    {
      "cell_type": "markdown",
      "source": [
        "#Correlation visualisation"
      ],
      "metadata": {
        "id": "r33FEmi6bntn"
      },
      "id": "r33FEmi6bntn"
    },
    {
      "cell_type": "code",
      "source": [
        "plt.figure(figsize=(15,10))\n",
        "g=sns.heatmap(round(ids.select_dtypes(include=np.number).corr(),2),annot=True,cmap='RdYlGn')"
      ],
      "metadata": {
        "colab": {
          "base_uri": "https://localhost:8080/",
          "height": 596
        },
        "id": "YnuA7fd6bjUf",
        "outputId": "171abca1-5787-4e62-dbce-7d6db01e96f4"
      },
      "id": "YnuA7fd6bjUf",
      "execution_count": null,
      "outputs": [
        {
          "output_type": "display_data",
          "data": {
            "text/plain": [
              "<Figure size 1080x720 with 2 Axes>"
            ],
            "image/png": "[encoded data removed]"
          },
          "metadata": {
            "needs_background": "light"
          }
        }
      ]
    },
    {
      "cell_type": "markdown",
      "id": "fd5f677d",
      "metadata": {
        "id": "fd5f677d"
      },
      "source": [
        "#**no multicollinearity found**\n",
        "It can be observe that the numeric variables are not correlated with each other since all the correlation coefficients are close to zero. It implies that there is no multicollinearity in the data.\n"
      ]
    },
    {
      "cell_type": "markdown",
      "source": [
        "#**FEATURE ENGINEERING**\n"
      ],
      "metadata": {
        "id": "6ptskk_CbQrx"
      },
      "id": "6ptskk_CbQrx"
    },
    {
      "cell_type": "code",
      "execution_count": null,
      "id": "2138ae03",
      "metadata": {
        "id": "2138ae03",
        "outputId": "9f355afa-76bd-4696-a4e7-e59f92ef3db8",
        "colab": {
          "base_uri": "https://localhost:8080/"
        }
      },
      "outputs": [
        {
          "output_type": "execute_result",
          "data": {
            "text/plain": [
              "array(['NoDisease', 'Epilepsy', 'EyeDisease', 'Alzheimer', 'Arthritis',\n",
              "       'HeartDisease', 'Diabetes', 'Cancer', 'High BP', 'Obesity'],\n",
              "      dtype=object)"
            ]
          },
          "metadata": {},
          "execution_count": 134
        }
      ],
      "source": [
        "ids['hereditary_diseases'].unique()"
      ]
    },
    {
      "cell_type": "code",
      "execution_count": null,
      "id": "e9684787",
      "metadata": {
        "id": "e9684787"
      },
      "outputs": [],
      "source": [
        "#mapping all the classes into 3 different classes in hereditary_diseases\n",
        "ids['hereditary_diseases']=ids['hereditary_diseases'].map({'NoDisease':'NoDisease', 'Epilepsy':'moderate', 'EyeDisease':'moderate', 'Alzheimer':'moderate', 'Arthritis':'moderate',\n",
        "       'HeartDisease':'severe', 'Diabetes':'severe', 'Cancer':'severe', 'High BP':'moderate', 'Obesity':'moderate'})"
      ]
    },
    {
      "cell_type": "code",
      "execution_count": null,
      "id": "2394e545",
      "metadata": {
        "id": "2394e545",
        "outputId": "808bc6aa-4226-48ca-ebac-5ebf1f34b419",
        "colab": {
          "base_uri": "https://localhost:8080/"
        }
      },
      "outputs": [
        {
          "output_type": "execute_result",
          "data": {
            "text/plain": [
              "NoDisease    13998\n",
              "moderate       652\n",
              "severe         350\n",
              "Name: hereditary_diseases, dtype: int64"
            ]
          },
          "metadata": {},
          "execution_count": 136
        }
      ],
      "source": [
        "ids['hereditary_diseases'].value_counts()"
      ]
    },
    {
      "cell_type": "code",
      "execution_count": null,
      "id": "977a46c7",
      "metadata": {
        "id": "977a46c7",
        "outputId": "99993f66-4149-4de1-82fe-2fbb62e6203f",
        "colab": {
          "base_uri": "https://localhost:8080/"
        }
      },
      "outputs": [
        {
          "output_type": "execute_result",
          "data": {
            "text/plain": [
              "array(['Actor', 'Engineer', 'Academician', 'Chef', 'HomeMakers', 'Dancer',\n",
              "       'Singer', 'DataScientist', 'Police', 'Student', 'Doctor',\n",
              "       'Manager', 'Photographer', 'Beautician', 'CA', 'Blogger', 'CEO',\n",
              "       'Labourer', 'Accountant', 'FilmDirector', 'Technician',\n",
              "       'FashionDesigner', 'Architect', 'HouseKeeper', 'FilmMaker',\n",
              "       'Buisnessman', 'Politician', 'DefencePersonnels', 'Analyst',\n",
              "       'Clerks', 'ITProfessional', 'Farmer', 'Journalist', 'Lawyer',\n",
              "       'GovEmployee'], dtype=object)"
            ]
          },
          "metadata": {},
          "execution_count": 137
        }
      ],
      "source": [
        "ids['job_title'].unique()"
      ]
    },
    {
      "cell_type": "code",
      "execution_count": null,
      "id": "298e2daa",
      "metadata": {
        "id": "298e2daa"
      },
      "outputs": [],
      "source": [
        "#mapping all the classes into 3 different classes in job_title\n",
        "ids['job_title']=ids['job_title'].map({'Actor':'avg_stressed', 'Engineer':'more_stressed', 'Academician':'avg_stressed', 'Chef':'less_stressed', 'HomeMakers':'less_stressed', 'Dancer':'less_stressed',\n",
        "    'Singer':'less_stressed', 'DataScientist':'avg_stressed', 'Police':'avg_stressed', 'Student':'avg_stressed', 'Doctor':'less_stressed',\n",
        "   'Manager':'more_stressed', 'Photographer':'less_stressed', 'Beautician':'less_stressed', 'CA':'avg_stressed', 'Blogger':'less_stressed', 'CEO':'avg_stressed',\n",
        "   'Labourer':'less_stressed', 'Accountant':'more_stressed', 'FilmDirector':'more_stressed', 'Technician':'less_stressed',\n",
        "   'FashionDesigner':'avg_stressed', 'Architect':'avg_stressed', 'HouseKeeper':'less_stressed', 'FilmMaker':'avg_stressed',\n",
        "   'Buisnessman':'more_stressed', 'Politician':'avg_stressed', 'DefencePersonnels':'avg_stressed', 'Analyst':'avg_stressed',\n",
        "   'Clerks':'avg_stressed', 'ITProfessional':'more_stressed', 'Farmer':'less_stressed', 'Journalist':'more_stressed', 'Lawyer':'avg_stressed',\n",
        "   'GovEmployee':'less_stressed'})"
      ]
    },
    {
      "cell_type": "code",
      "execution_count": null,
      "id": "07b435a5",
      "metadata": {
        "id": "07b435a5",
        "outputId": "5e8db3b2-8ce3-4ec3-f197-7552d81e2c5d",
        "colab": {
          "base_uri": "https://localhost:8080/"
        }
      },
      "outputs": [
        {
          "output_type": "execute_result",
          "data": {
            "text/plain": [
              "avg_stressed     6792\n",
              "less_stressed    5718\n",
              "more_stressed    2490\n",
              "Name: job_title, dtype: int64"
            ]
          },
          "metadata": {},
          "execution_count": 139
        }
      ],
      "source": [
        "ids['job_title'].value_counts()"
      ]
    },
    {
      "cell_type": "markdown",
      "id": "126b33d9",
      "metadata": {
        "id": "126b33d9"
      },
      "source": [
        "#**Dummy Variable creation for categorical variables**\n",
        "Categorical variables are those in which the values are labeled categories. The values, distribution, and dispersion of categorical variables are best understood with bar plots which we had done earlier.\n"
      ]
    },
    {
      "cell_type": "code",
      "execution_count": null,
      "id": "a591946b",
      "metadata": {
        "id": "a591946b",
        "outputId": "7d5202c5-018d-461c-f0c2-f82b4d7601bc",
        "colab": {
          "base_uri": "https://localhost:8080/",
          "height": 112
        }
      },
      "outputs": [
        {
          "output_type": "execute_result",
          "data": {
            "text/plain": [
              "    age     sex   bmi hereditary_diseases  no_of_dependents smoker  \\\n",
              "0  60.0    male  24.3           NoDisease                 1      0   \n",
              "1  49.0  female  22.6           NoDisease                 1      0   \n",
              "\n",
              "   bloodpressure diabetes regular_ex      job_title     claim  \n",
              "0             72        0          0   avg_stressed  9.481405  \n",
              "1             78        1          1  more_stressed  9.166179  "
            ],
            "text/html": [
              "\n",
              "  <div id=\"df-799ea768-3cc9-4659-b5ca-f257864198f6\">\n",
              "    <div class=\"colab-df-container\">\n",
              "      <div>\n",
              "<style scoped>\n",
              "    .dataframe tbody tr th:only-of-type {\n",
              "        vertical-align: middle;\n",
              "    }\n",
              "\n",
              "    .dataframe tbody tr th {\n",
              "        vertical-align: top;\n",
              "    }\n",
              "\n",
              "    .dataframe thead th {\n",
              "        text-align: right;\n",
              "    }\n",
              "</style>\n",
              "<table border=\"1\" class=\"dataframe\">\n",
              "  <thead>\n",
              "    <tr style=\"text-align: right;\">\n",
              "      <th></th>\n",
              "      <th>age</th>\n",
              "      <th>sex</th>\n",
              "      <th>bmi</th>\n",
              "      <th>hereditary_diseases</th>\n",
              "      <th>no_of_dependents</th>\n",
              "      <th>smoker</th>\n",
              "      <th>bloodpressure</th>\n",
              "      <th>diabetes</th>\n",
              "      <th>regular_ex</th>\n",
              "      <th>job_title</th>\n",
              "      <th>claim</th>\n",
              "    </tr>\n",
              "  </thead>\n",
              "  <tbody>\n",
              "    <tr>\n",
              "      <th>0</th>\n",
              "      <td>60.0</td>\n",
              "      <td>male</td>\n",
              "      <td>24.3</td>\n",
              "      <td>NoDisease</td>\n",
              "      <td>1</td>\n",
              "      <td>0</td>\n",
              "      <td>72</td>\n",
              "      <td>0</td>\n",
              "      <td>0</td>\n",
              "      <td>avg_stressed</td>\n",
              "      <td>9.481405</td>\n",
              "    </tr>\n",
              "    <tr>\n",
              "      <th>1</th>\n",
              "      <td>49.0</td>\n",
              "      <td>female</td>\n",
              "      <td>22.6</td>\n",
              "      <td>NoDisease</td>\n",
              "      <td>1</td>\n",
              "      <td>0</td>\n",
              "      <td>78</td>\n",
              "      <td>1</td>\n",
              "      <td>1</td>\n",
              "      <td>more_stressed</td>\n",
              "      <td>9.166179</td>\n",
              "    </tr>\n",
              "  </tbody>\n",
              "</table>\n",
              "</div>\n",
              "      <button class=\"colab-df-convert\" onclick=\"convertToInteractive('df-799ea768-3cc9-4659-b5ca-f257864198f6')\"\n",
              "              title=\"Convert this dataframe to an interactive table.\"\n",
              "              style=\"display:none;\">\n",
              "        \n",
              "  <svg xmlns=\"http://www.w3.org/2000/svg\" height=\"24px\"viewBox=\"0 0 24 24\"\n",
              "       width=\"24px\">\n",
              "    <path d=\"M0 0h24v24H0V0z\" fill=\"none\"/>\n",
              "    <path d=\"M18.56 5.44l.94 2.06.94-2.06 2.06-.94-2.06-.94-.94-2.06-.94 2.06-2.06.94zm-11 1L8.5 8.5l.94-2.06 2.06-.94-2.06-.94L8.5 2.5l-.94 2.06-2.06.94zm10 10l.94 2.06.94-2.06 2.06-.94-2.06-.94-.94-2.06-.94 2.06-2.06.94z\"/><path d=\"M17.41 7.96l-1.37-1.37c-.4-.4-.92-.59-1.43-.59-.52 0-1.04.2-1.43.59L10.3 9.45l-7.72 7.72c-.78.78-.78 2.05 0 2.83L4 21.41c.39.39.9.59 1.41.59.51 0 1.02-.2 1.41-.59l7.78-7.78 2.81-2.81c.8-.78.8-2.07 0-2.86zM5.41 20L4 18.59l7.72-7.72 1.47 1.35L5.41 20z\"/>\n",
              "  </svg>\n",
              "      </button>\n",
              "      \n",
              "  <style>\n",
              "    .colab-df-container {\n",
              "      display:flex;\n",
              "      flex-wrap:wrap;\n",
              "      gap: 12px;\n",
              "    }\n",
              "\n",
              "    .colab-df-convert {\n",
              "      background-color: #E8F0FE;\n",
              "      border: none;\n",
              "      border-radius: 50%;\n",
              "      cursor: pointer;\n",
              "      display: none;\n",
              "      fill: #1967D2;\n",
              "      height: 32px;\n",
              "      padding: 0 0 0 0;\n",
              "      width: 32px;\n",
              "    }\n",
              "\n",
              "    .colab-df-convert:hover {\n",
              "      background-color: #E2EBFA;\n",
              "      box-shadow: 0px 1px 2px rgba(60, 64, 67, 0.3), 0px 1px 3px 1px rgba(60, 64, 67, 0.15);\n",
              "      fill: #174EA6;\n",
              "    }\n",
              "\n",
              "    [theme=dark] .colab-df-convert {\n",
              "      background-color: #3B4455;\n",
              "      fill: #D2E3FC;\n",
              "    }\n",
              "\n",
              "    [theme=dark] .colab-df-convert:hover {\n",
              "      background-color: #434B5C;\n",
              "      box-shadow: 0px 1px 3px 1px rgba(0, 0, 0, 0.15);\n",
              "      filter: drop-shadow(0px 1px 2px rgba(0, 0, 0, 0.3));\n",
              "      fill: #FFFFFF;\n",
              "    }\n",
              "  </style>\n",
              "\n",
              "      <script>\n",
              "        const buttonEl =\n",
              "          document.querySelector('#df-799ea768-3cc9-4659-b5ca-f257864198f6 button.colab-df-convert');\n",
              "        buttonEl.style.display =\n",
              "          google.colab.kernel.accessAllowed ? 'block' : 'none';\n",
              "\n",
              "        async function convertToInteractive(key) {\n",
              "          const element = document.querySelector('#df-799ea768-3cc9-4659-b5ca-f257864198f6');\n",
              "          const dataTable =\n",
              "            await google.colab.kernel.invokeFunction('convertToInteractive',\n",
              "                                                     [key], {});\n",
              "          if (!dataTable) return;\n",
              "\n",
              "          const docLinkHtml = 'Like what you see? Visit the ' +\n",
              "            '<a target=\"_blank\" href=https://colab.research.google.com/notebooks/data_table.ipynb>data table notebook</a>'\n",
              "            + ' to learn more about interactive tables.';\n",
              "          element.innerHTML = '';\n",
              "          dataTable['output_type'] = 'display_data';\n",
              "          await google.colab.output.renderOutput(dataTable, element);\n",
              "          const docLink = document.createElement('div');\n",
              "          docLink.innerHTML = docLinkHtml;\n",
              "          element.appendChild(docLink);\n",
              "        }\n",
              "      </script>\n",
              "    </div>\n",
              "  </div>\n",
              "  "
            ]
          },
          "metadata": {},
          "execution_count": 140
        }
      ],
      "source": [
        "ids.head(2)"
      ]
    },
    {
      "cell_type": "code",
      "execution_count": null,
      "id": "48e89ae6",
      "metadata": {
        "id": "48e89ae6"
      },
      "outputs": [],
      "source": [
        "ids=pd.get_dummies(ids)"
      ]
    },
    {
      "cell_type": "code",
      "execution_count": null,
      "id": "83436f62",
      "metadata": {
        "id": "83436f62",
        "outputId": "336bb431-e3aa-462a-d5f0-f46bfeb92243",
        "colab": {
          "base_uri": "https://localhost:8080/",
          "height": 270
        }
      },
      "outputs": [
        {
          "output_type": "execute_result",
          "data": {
            "text/plain": [
              "    age   bmi  no_of_dependents  bloodpressure      claim  sex_female  \\\n",
              "0  60.0  24.3                 1             72   9.481405           0   \n",
              "1  49.0  22.6                 1             78   9.166179           1   \n",
              "2  32.0  17.8                 2             88  10.396206           1   \n",
              "3  61.0  36.4                 1             72  10.789703           1   \n",
              "4  19.0  20.6                 0             82   7.457436           1   \n",
              "\n",
              "   sex_male  hereditary_diseases_NoDisease  hereditary_diseases_moderate  \\\n",
              "0         1                              1                             0   \n",
              "1         0                              1                             0   \n",
              "2         0                              0                             1   \n",
              "3         0                              1                             0   \n",
              "4         0                              1                             0   \n",
              "\n",
              "   hereditary_diseases_severe  smoker_0  smoker_1  diabetes_0  diabetes_1  \\\n",
              "0                           0         1         0           1           0   \n",
              "1                           0         1         0           0           1   \n",
              "2                           0         0         1           0           1   \n",
              "3                           0         0         1           0           1   \n",
              "4                           0         1         0           0           1   \n",
              "\n",
              "   regular_ex_0  regular_ex_1  job_title_avg_stressed  \\\n",
              "0             1             0                       1   \n",
              "1             0             1                       0   \n",
              "2             0             1                       1   \n",
              "3             1             0                       0   \n",
              "4             1             0                       0   \n",
              "\n",
              "   job_title_less_stressed  job_title_more_stressed  \n",
              "0                        0                        0  \n",
              "1                        0                        1  \n",
              "2                        0                        0  \n",
              "3                        1                        0  \n",
              "4                        1                        0  "
            ],
            "text/html": [
              "\n",
              "  <div id=\"df-d81bcb11-7769-4199-9c26-682ae5ae9369\">\n",
              "    <div class=\"colab-df-container\">\n",
              "      <div>\n",
              "<style scoped>\n",
              "    .dataframe tbody tr th:only-of-type {\n",
              "        vertical-align: middle;\n",
              "    }\n",
              "\n",
              "    .dataframe tbody tr th {\n",
              "        vertical-align: top;\n",
              "    }\n",
              "\n",
              "    .dataframe thead th {\n",
              "        text-align: right;\n",
              "    }\n",
              "</style>\n",
              "<table border=\"1\" class=\"dataframe\">\n",
              "  <thead>\n",
              "    <tr style=\"text-align: right;\">\n",
              "      <th></th>\n",
              "      <th>age</th>\n",
              "      <th>bmi</th>\n",
              "      <th>no_of_dependents</th>\n",
              "      <th>bloodpressure</th>\n",
              "      <th>claim</th>\n",
              "      <th>sex_female</th>\n",
              "      <th>sex_male</th>\n",
              "      <th>hereditary_diseases_NoDisease</th>\n",
              "      <th>hereditary_diseases_moderate</th>\n",
              "      <th>hereditary_diseases_severe</th>\n",
              "      <th>smoker_0</th>\n",
              "      <th>smoker_1</th>\n",
              "      <th>diabetes_0</th>\n",
              "      <th>diabetes_1</th>\n",
              "      <th>regular_ex_0</th>\n",
              "      <th>regular_ex_1</th>\n",
              "      <th>job_title_avg_stressed</th>\n",
              "      <th>job_title_less_stressed</th>\n",
              "      <th>job_title_more_stressed</th>\n",
              "    </tr>\n",
              "  </thead>\n",
              "  <tbody>\n",
              "    <tr>\n",
              "      <th>0</th>\n",
              "      <td>60.0</td>\n",
              "      <td>24.3</td>\n",
              "      <td>1</td>\n",
              "      <td>72</td>\n",
              "      <td>9.481405</td>\n",
              "      <td>0</td>\n",
              "      <td>1</td>\n",
              "      <td>1</td>\n",
              "      <td>0</td>\n",
              "      <td>0</td>\n",
              "      <td>1</td>\n",
              "      <td>0</td>\n",
              "      <td>1</td>\n",
              "      <td>0</td>\n",
              "      <td>1</td>\n",
              "      <td>0</td>\n",
              "      <td>1</td>\n",
              "      <td>0</td>\n",
              "      <td>0</td>\n",
              "    </tr>\n",
              "    <tr>\n",
              "      <th>1</th>\n",
              "      <td>49.0</td>\n",
              "      <td>22.6</td>\n",
              "      <td>1</td>\n",
              "      <td>78</td>\n",
              "      <td>9.166179</td>\n",
              "      <td>1</td>\n",
              "      <td>0</td>\n",
              "      <td>1</td>\n",
              "      <td>0</td>\n",
              "      <td>0</td>\n",
              "      <td>1</td>\n",
              "      <td>0</td>\n",
              "      <td>0</td>\n",
              "      <td>1</td>\n",
              "      <td>0</td>\n",
              "      <td>1</td>\n",
              "      <td>0</td>\n",
              "      <td>0</td>\n",
              "      <td>1</td>\n",
              "    </tr>\n",
              "    <tr>\n",
              "      <th>2</th>\n",
              "      <td>32.0</td>\n",
              "      <td>17.8</td>\n",
              "      <td>2</td>\n",
              "      <td>88</td>\n",
              "      <td>10.396206</td>\n",
              "      <td>1</td>\n",
              "      <td>0</td>\n",
              "      <td>0</td>\n",
              "      <td>1</td>\n",
              "      <td>0</td>\n",
              "      <td>0</td>\n",
              "      <td>1</td>\n",
              "      <td>0</td>\n",
              "      <td>1</td>\n",
              "      <td>0</td>\n",
              "      <td>1</td>\n",
              "      <td>1</td>\n",
              "      <td>0</td>\n",
              "      <td>0</td>\n",
              "    </tr>\n",
              "    <tr>\n",
              "      <th>3</th>\n",
              "      <td>61.0</td>\n",
              "      <td>36.4</td>\n",
              "      <td>1</td>\n",
              "      <td>72</td>\n",
              "      <td>10.789703</td>\n",
              "      <td>1</td>\n",
              "      <td>0</td>\n",
              "      <td>1</td>\n",
              "      <td>0</td>\n",
              "      <td>0</td>\n",
              "      <td>0</td>\n",
              "      <td>1</td>\n",
              "      <td>0</td>\n",
              "      <td>1</td>\n",
              "      <td>1</td>\n",
              "      <td>0</td>\n",
              "      <td>0</td>\n",
              "      <td>1</td>\n",
              "      <td>0</td>\n",
              "    </tr>\n",
              "    <tr>\n",
              "      <th>4</th>\n",
              "      <td>19.0</td>\n",
              "      <td>20.6</td>\n",
              "      <td>0</td>\n",
              "      <td>82</td>\n",
              "      <td>7.457436</td>\n",
              "      <td>1</td>\n",
              "      <td>0</td>\n",
              "      <td>1</td>\n",
              "      <td>0</td>\n",
              "      <td>0</td>\n",
              "      <td>1</td>\n",
              "      <td>0</td>\n",
              "      <td>0</td>\n",
              "      <td>1</td>\n",
              "      <td>1</td>\n",
              "      <td>0</td>\n",
              "      <td>0</td>\n",
              "      <td>1</td>\n",
              "      <td>0</td>\n",
              "    </tr>\n",
              "  </tbody>\n",
              "</table>\n",
              "</div>\n",
              "      <button class=\"colab-df-convert\" onclick=\"convertToInteractive('df-d81bcb11-7769-4199-9c26-682ae5ae9369')\"\n",
              "              title=\"Convert this dataframe to an interactive table.\"\n",
              "              style=\"display:none;\">\n",
              "        \n",
              "  <svg xmlns=\"http://www.w3.org/2000/svg\" height=\"24px\"viewBox=\"0 0 24 24\"\n",
              "       width=\"24px\">\n",
              "    <path d=\"M0 0h24v24H0V0z\" fill=\"none\"/>\n",
              "    <path d=\"M18.56 5.44l.94 2.06.94-2.06 2.06-.94-2.06-.94-.94-2.06-.94 2.06-2.06.94zm-11 1L8.5 8.5l.94-2.06 2.06-.94-2.06-.94L8.5 2.5l-.94 2.06-2.06.94zm10 10l.94 2.06.94-2.06 2.06-.94-2.06-.94-.94-2.06-.94 2.06-2.06.94z\"/><path d=\"M17.41 7.96l-1.37-1.37c-.4-.4-.92-.59-1.43-.59-.52 0-1.04.2-1.43.59L10.3 9.45l-7.72 7.72c-.78.78-.78 2.05 0 2.83L4 21.41c.39.39.9.59 1.41.59.51 0 1.02-.2 1.41-.59l7.78-7.78 2.81-2.81c.8-.78.8-2.07 0-2.86zM5.41 20L4 18.59l7.72-7.72 1.47 1.35L5.41 20z\"/>\n",
              "  </svg>\n",
              "      </button>\n",
              "      \n",
              "  <style>\n",
              "    .colab-df-container {\n",
              "      display:flex;\n",
              "      flex-wrap:wrap;\n",
              "      gap: 12px;\n",
              "    }\n",
              "\n",
              "    .colab-df-convert {\n",
              "      background-color: #E8F0FE;\n",
              "      border: none;\n",
              "      border-radius: 50%;\n",
              "      cursor: pointer;\n",
              "      display: none;\n",
              "      fill: #1967D2;\n",
              "      height: 32px;\n",
              "      padding: 0 0 0 0;\n",
              "      width: 32px;\n",
              "    }\n",
              "\n",
              "    .colab-df-convert:hover {\n",
              "      background-color: #E2EBFA;\n",
              "      box-shadow: 0px 1px 2px rgba(60, 64, 67, 0.3), 0px 1px 3px 1px rgba(60, 64, 67, 0.15);\n",
              "      fill: #174EA6;\n",
              "    }\n",
              "\n",
              "    [theme=dark] .colab-df-convert {\n",
              "      background-color: #3B4455;\n",
              "      fill: #D2E3FC;\n",
              "    }\n",
              "\n",
              "    [theme=dark] .colab-df-convert:hover {\n",
              "      background-color: #434B5C;\n",
              "      box-shadow: 0px 1px 3px 1px rgba(0, 0, 0, 0.15);\n",
              "      filter: drop-shadow(0px 1px 2px rgba(0, 0, 0, 0.3));\n",
              "      fill: #FFFFFF;\n",
              "    }\n",
              "  </style>\n",
              "\n",
              "      <script>\n",
              "        const buttonEl =\n",
              "          document.querySelector('#df-d81bcb11-7769-4199-9c26-682ae5ae9369 button.colab-df-convert');\n",
              "        buttonEl.style.display =\n",
              "          google.colab.kernel.accessAllowed ? 'block' : 'none';\n",
              "\n",
              "        async function convertToInteractive(key) {\n",
              "          const element = document.querySelector('#df-d81bcb11-7769-4199-9c26-682ae5ae9369');\n",
              "          const dataTable =\n",
              "            await google.colab.kernel.invokeFunction('convertToInteractive',\n",
              "                                                     [key], {});\n",
              "          if (!dataTable) return;\n",
              "\n",
              "          const docLinkHtml = 'Like what you see? Visit the ' +\n",
              "            '<a target=\"_blank\" href=https://colab.research.google.com/notebooks/data_table.ipynb>data table notebook</a>'\n",
              "            + ' to learn more about interactive tables.';\n",
              "          element.innerHTML = '';\n",
              "          dataTable['output_type'] = 'display_data';\n",
              "          await google.colab.output.renderOutput(dataTable, element);\n",
              "          const docLink = document.createElement('div');\n",
              "          docLink.innerHTML = docLinkHtml;\n",
              "          element.appendChild(docLink);\n",
              "        }\n",
              "      </script>\n",
              "    </div>\n",
              "  </div>\n",
              "  "
            ]
          },
          "metadata": {},
          "execution_count": 142
        }
      ],
      "source": [
        "ids.head()"
      ]
    },
    {
      "cell_type": "code",
      "execution_count": null,
      "id": "45011dd1",
      "metadata": {
        "id": "45011dd1"
      },
      "outputs": [],
      "source": [
        "ids.drop(['sex_female','hereditary_diseases_NoDisease','job_title_avg_stressed'],axis=1,inplace=True)"
      ]
    },
    {
      "cell_type": "code",
      "execution_count": null,
      "id": "5c3b5bd3",
      "metadata": {
        "id": "5c3b5bd3",
        "outputId": "44a19a61-01a4-4866-a2c4-591677ef41e2",
        "colab": {
          "base_uri": "https://localhost:8080/",
          "height": 176
        }
      },
      "outputs": [
        {
          "output_type": "execute_result",
          "data": {
            "text/plain": [
              "    age   bmi  no_of_dependents  bloodpressure     claim  sex_male  \\\n",
              "0  60.0  24.3                 1             72  9.481405         1   \n",
              "1  49.0  22.6                 1             78  9.166179         0   \n",
              "\n",
              "   hereditary_diseases_moderate  hereditary_diseases_severe  smoker_0  \\\n",
              "0                             0                           0         1   \n",
              "1                             0                           0         1   \n",
              "\n",
              "   smoker_1  diabetes_0  diabetes_1  regular_ex_0  regular_ex_1  \\\n",
              "0         0           1           0             1             0   \n",
              "1         0           0           1             0             1   \n",
              "\n",
              "   job_title_less_stressed  job_title_more_stressed  \n",
              "0                        0                        0  \n",
              "1                        0                        1  "
            ],
            "text/html": [
              "\n",
              "  <div id=\"df-8bd9d1f5-2d10-4349-8b3e-bdb142d00665\">\n",
              "    <div class=\"colab-df-container\">\n",
              "      <div>\n",
              "<style scoped>\n",
              "    .dataframe tbody tr th:only-of-type {\n",
              "        vertical-align: middle;\n",
              "    }\n",
              "\n",
              "    .dataframe tbody tr th {\n",
              "        vertical-align: top;\n",
              "    }\n",
              "\n",
              "    .dataframe thead th {\n",
              "        text-align: right;\n",
              "    }\n",
              "</style>\n",
              "<table border=\"1\" class=\"dataframe\">\n",
              "  <thead>\n",
              "    <tr style=\"text-align: right;\">\n",
              "      <th></th>\n",
              "      <th>age</th>\n",
              "      <th>bmi</th>\n",
              "      <th>no_of_dependents</th>\n",
              "      <th>bloodpressure</th>\n",
              "      <th>claim</th>\n",
              "      <th>sex_male</th>\n",
              "      <th>hereditary_diseases_moderate</th>\n",
              "      <th>hereditary_diseases_severe</th>\n",
              "      <th>smoker_0</th>\n",
              "      <th>smoker_1</th>\n",
              "      <th>diabetes_0</th>\n",
              "      <th>diabetes_1</th>\n",
              "      <th>regular_ex_0</th>\n",
              "      <th>regular_ex_1</th>\n",
              "      <th>job_title_less_stressed</th>\n",
              "      <th>job_title_more_stressed</th>\n",
              "    </tr>\n",
              "  </thead>\n",
              "  <tbody>\n",
              "    <tr>\n",
              "      <th>0</th>\n",
              "      <td>60.0</td>\n",
              "      <td>24.3</td>\n",
              "      <td>1</td>\n",
              "      <td>72</td>\n",
              "      <td>9.481405</td>\n",
              "      <td>1</td>\n",
              "      <td>0</td>\n",
              "      <td>0</td>\n",
              "      <td>1</td>\n",
              "      <td>0</td>\n",
              "      <td>1</td>\n",
              "      <td>0</td>\n",
              "      <td>1</td>\n",
              "      <td>0</td>\n",
              "      <td>0</td>\n",
              "      <td>0</td>\n",
              "    </tr>\n",
              "    <tr>\n",
              "      <th>1</th>\n",
              "      <td>49.0</td>\n",
              "      <td>22.6</td>\n",
              "      <td>1</td>\n",
              "      <td>78</td>\n",
              "      <td>9.166179</td>\n",
              "      <td>0</td>\n",
              "      <td>0</td>\n",
              "      <td>0</td>\n",
              "      <td>1</td>\n",
              "      <td>0</td>\n",
              "      <td>0</td>\n",
              "      <td>1</td>\n",
              "      <td>0</td>\n",
              "      <td>1</td>\n",
              "      <td>0</td>\n",
              "      <td>1</td>\n",
              "    </tr>\n",
              "  </tbody>\n",
              "</table>\n",
              "</div>\n",
              "      <button class=\"colab-df-convert\" onclick=\"convertToInteractive('df-8bd9d1f5-2d10-4349-8b3e-bdb142d00665')\"\n",
              "              title=\"Convert this dataframe to an interactive table.\"\n",
              "              style=\"display:none;\">\n",
              "        \n",
              "  <svg xmlns=\"http://www.w3.org/2000/svg\" height=\"24px\"viewBox=\"0 0 24 24\"\n",
              "       width=\"24px\">\n",
              "    <path d=\"M0 0h24v24H0V0z\" fill=\"none\"/>\n",
              "    <path d=\"M18.56 5.44l.94 2.06.94-2.06 2.06-.94-2.06-.94-.94-2.06-.94 2.06-2.06.94zm-11 1L8.5 8.5l.94-2.06 2.06-.94-2.06-.94L8.5 2.5l-.94 2.06-2.06.94zm10 10l.94 2.06.94-2.06 2.06-.94-2.06-.94-.94-2.06-.94 2.06-2.06.94z\"/><path d=\"M17.41 7.96l-1.37-1.37c-.4-.4-.92-.59-1.43-.59-.52 0-1.04.2-1.43.59L10.3 9.45l-7.72 7.72c-.78.78-.78 2.05 0 2.83L4 21.41c.39.39.9.59 1.41.59.51 0 1.02-.2 1.41-.59l7.78-7.78 2.81-2.81c.8-.78.8-2.07 0-2.86zM5.41 20L4 18.59l7.72-7.72 1.47 1.35L5.41 20z\"/>\n",
              "  </svg>\n",
              "      </button>\n",
              "      \n",
              "  <style>\n",
              "    .colab-df-container {\n",
              "      display:flex;\n",
              "      flex-wrap:wrap;\n",
              "      gap: 12px;\n",
              "    }\n",
              "\n",
              "    .colab-df-convert {\n",
              "      background-color: #E8F0FE;\n",
              "      border: none;\n",
              "      border-radius: 50%;\n",
              "      cursor: pointer;\n",
              "      display: none;\n",
              "      fill: #1967D2;\n",
              "      height: 32px;\n",
              "      padding: 0 0 0 0;\n",
              "      width: 32px;\n",
              "    }\n",
              "\n",
              "    .colab-df-convert:hover {\n",
              "      background-color: #E2EBFA;\n",
              "      box-shadow: 0px 1px 2px rgba(60, 64, 67, 0.3), 0px 1px 3px 1px rgba(60, 64, 67, 0.15);\n",
              "      fill: #174EA6;\n",
              "    }\n",
              "\n",
              "    [theme=dark] .colab-df-convert {\n",
              "      background-color: #3B4455;\n",
              "      fill: #D2E3FC;\n",
              "    }\n",
              "\n",
              "    [theme=dark] .colab-df-convert:hover {\n",
              "      background-color: #434B5C;\n",
              "      box-shadow: 0px 1px 3px 1px rgba(0, 0, 0, 0.15);\n",
              "      filter: drop-shadow(0px 1px 2px rgba(0, 0, 0, 0.3));\n",
              "      fill: #FFFFFF;\n",
              "    }\n",
              "  </style>\n",
              "\n",
              "      <script>\n",
              "        const buttonEl =\n",
              "          document.querySelector('#df-8bd9d1f5-2d10-4349-8b3e-bdb142d00665 button.colab-df-convert');\n",
              "        buttonEl.style.display =\n",
              "          google.colab.kernel.accessAllowed ? 'block' : 'none';\n",
              "\n",
              "        async function convertToInteractive(key) {\n",
              "          const element = document.querySelector('#df-8bd9d1f5-2d10-4349-8b3e-bdb142d00665');\n",
              "          const dataTable =\n",
              "            await google.colab.kernel.invokeFunction('convertToInteractive',\n",
              "                                                     [key], {});\n",
              "          if (!dataTable) return;\n",
              "\n",
              "          const docLinkHtml = 'Like what you see? Visit the ' +\n",
              "            '<a target=\"_blank\" href=https://colab.research.google.com/notebooks/data_table.ipynb>data table notebook</a>'\n",
              "            + ' to learn more about interactive tables.';\n",
              "          element.innerHTML = '';\n",
              "          dataTable['output_type'] = 'display_data';\n",
              "          await google.colab.output.renderOutput(dataTable, element);\n",
              "          const docLink = document.createElement('div');\n",
              "          docLink.innerHTML = docLinkHtml;\n",
              "          element.appendChild(docLink);\n",
              "        }\n",
              "      </script>\n",
              "    </div>\n",
              "  </div>\n",
              "  "
            ]
          },
          "metadata": {},
          "execution_count": 144
        }
      ],
      "source": [
        "ids.head(2)"
      ]
    },
    {
      "cell_type": "markdown",
      "source": [
        "#Note: \n",
        "Now the categorical variables are dummy encoded creating n-1 variables for each categorical variables, where n is the number of classes in each categorical variable. So for variable 'region', which has 5 levels, it has created 4 dummy encoded variables. Similarly, variable 'smoker' has 2 levels and it has created 1 dummy encoded variable."
      ],
      "metadata": {
        "id": "yR0ni8Fk2oKT"
      },
      "id": "yR0ni8Fk2oKT"
    },
    {
      "cell_type": "markdown",
      "id": "348a03a1",
      "metadata": {
        "id": "348a03a1"
      },
      "source": [
        "# Independent and Dependent Columns storing in x and y"
      ]
    },
    {
      "cell_type": "code",
      "execution_count": null,
      "id": "30dcb873",
      "metadata": {
        "id": "30dcb873"
      },
      "outputs": [],
      "source": [
        "x=ids.drop(['claim'],axis=1)\n",
        "y=ids['claim']"
      ]
    },
    {
      "cell_type": "code",
      "execution_count": null,
      "id": "d2996e9a",
      "metadata": {
        "id": "d2996e9a",
        "outputId": "df0144c4-8b96-493d-cfb0-202b6e499f4e",
        "colab": {
          "base_uri": "https://localhost:8080/"
        }
      },
      "outputs": [
        {
          "output_type": "execute_result",
          "data": {
            "text/plain": [
              "0         9.481405\n",
              "1         9.166179\n",
              "2        10.396206\n",
              "3        10.789703\n",
              "4         7.457436\n",
              "           ...    \n",
              "14995     9.956232\n",
              "14996     8.924430\n",
              "14997     7.238856\n",
              "14998     9.121028\n",
              "14999    10.165613\n",
              "Name: claim, Length: 15000, dtype: float64"
            ]
          },
          "metadata": {},
          "execution_count": 146
        }
      ],
      "source": [
        "y"
      ]
    },
    {
      "cell_type": "code",
      "execution_count": null,
      "id": "958643ab",
      "metadata": {
        "id": "958643ab",
        "outputId": "4497820c-5265-4ad9-8517-d97f9287ab9d",
        "colab": {
          "base_uri": "https://localhost:8080/",
          "height": 487
        }
      },
      "outputs": [
        {
          "output_type": "execute_result",
          "data": {
            "text/plain": [
              "        age   bmi  no_of_dependents  bloodpressure  sex_male  \\\n",
              "0      60.0  24.3                 1             72         1   \n",
              "1      49.0  22.6                 1             78         0   \n",
              "2      32.0  17.8                 2             88         0   \n",
              "3      61.0  36.4                 1             72         0   \n",
              "4      19.0  20.6                 0             82         0   \n",
              "...     ...   ...               ...            ...       ...   \n",
              "14995  39.0  28.3                 1             54         1   \n",
              "14996  39.0  29.6                 4             64         1   \n",
              "14997  20.0  33.3                 0             52         1   \n",
              "14998  52.0  36.7                 0             70         1   \n",
              "14999  52.0  26.4                 3             72         1   \n",
              "\n",
              "       hereditary_diseases_moderate  hereditary_diseases_severe  smoker_0  \\\n",
              "0                                 0                           0         1   \n",
              "1                                 0                           0         1   \n",
              "2                                 1                           0         0   \n",
              "3                                 0                           0         0   \n",
              "4                                 0                           0         1   \n",
              "...                             ...                         ...       ...   \n",
              "14995                             0                           0         0   \n",
              "14996                             0                           0         1   \n",
              "14997                             0                           0         1   \n",
              "14998                             0                           0         1   \n",
              "14999                             0                           0         1   \n",
              "\n",
              "       smoker_1  diabetes_0  diabetes_1  regular_ex_0  regular_ex_1  \\\n",
              "0             0           1           0             1             0   \n",
              "1             0           0           1             0             1   \n",
              "2             1           0           1             0             1   \n",
              "3             1           0           1             1             0   \n",
              "4             0           0           1             1             0   \n",
              "...         ...         ...         ...           ...           ...   \n",
              "14995         1           0           1             1             0   \n",
              "14996         0           0           1             1             0   \n",
              "14997         0           0           1             1             0   \n",
              "14998         0           0           1             1             0   \n",
              "14999         0           0           1             1             0   \n",
              "\n",
              "       job_title_less_stressed  job_title_more_stressed  \n",
              "0                            0                        0  \n",
              "1                            0                        1  \n",
              "2                            0                        0  \n",
              "3                            1                        0  \n",
              "4                            1                        0  \n",
              "...                        ...                      ...  \n",
              "14995                        0                        0  \n",
              "14996                        0                        0  \n",
              "14997                        0                        0  \n",
              "14998                        1                        0  \n",
              "14999                        0                        1  \n",
              "\n",
              "[15000 rows x 15 columns]"
            ],
            "text/html": [
              "\n",
              "  <div id=\"df-82d41a1a-b1c5-4ccf-a3a9-46ed7f1f97bf\">\n",
              "    <div class=\"colab-df-container\">\n",
              "      <div>\n",
              "<style scoped>\n",
              "    .dataframe tbody tr th:only-of-type {\n",
              "        vertical-align: middle;\n",
              "    }\n",
              "\n",
              "    .dataframe tbody tr th {\n",
              "        vertical-align: top;\n",
              "    }\n",
              "\n",
              "    .dataframe thead th {\n",
              "        text-align: right;\n",
              "    }\n",
              "</style>\n",
              "<table border=\"1\" class=\"dataframe\">\n",
              "  <thead>\n",
              "    <tr style=\"text-align: right;\">\n",
              "      <th></th>\n",
              "      <th>age</th>\n",
              "      <th>bmi</th>\n",
              "      <th>no_of_dependents</th>\n",
              "      <th>bloodpressure</th>\n",
              "      <th>sex_male</th>\n",
              "      <th>hereditary_diseases_moderate</th>\n",
              "      <th>hereditary_diseases_severe</th>\n",
              "      <th>smoker_0</th>\n",
              "      <th>smoker_1</th>\n",
              "      <th>diabetes_0</th>\n",
              "      <th>diabetes_1</th>\n",
              "      <th>regular_ex_0</th>\n",
              "      <th>regular_ex_1</th>\n",
              "      <th>job_title_less_stressed</th>\n",
              "      <th>job_title_more_stressed</th>\n",
              "    </tr>\n",
              "  </thead>\n",
              "  <tbody>\n",
              "    <tr>\n",
              "      <th>0</th>\n",
              "      <td>60.0</td>\n",
              "      <td>24.3</td>\n",
              "      <td>1</td>\n",
              "      <td>72</td>\n",
              "      <td>1</td>\n",
              "      <td>0</td>\n",
              "      <td>0</td>\n",
              "      <td>1</td>\n",
              "      <td>0</td>\n",
              "      <td>1</td>\n",
              "      <td>0</td>\n",
              "      <td>1</td>\n",
              "      <td>0</td>\n",
              "      <td>0</td>\n",
              "      <td>0</td>\n",
              "    </tr>\n",
              "    <tr>\n",
              "      <th>1</th>\n",
              "      <td>49.0</td>\n",
              "      <td>22.6</td>\n",
              "      <td>1</td>\n",
              "      <td>78</td>\n",
              "      <td>0</td>\n",
              "      <td>0</td>\n",
              "      <td>0</td>\n",
              "      <td>1</td>\n",
              "      <td>0</td>\n",
              "      <td>0</td>\n",
              "      <td>1</td>\n",
              "      <td>0</td>\n",
              "      <td>1</td>\n",
              "      <td>0</td>\n",
              "      <td>1</td>\n",
              "    </tr>\n",
              "    <tr>\n",
              "      <th>2</th>\n",
              "      <td>32.0</td>\n",
              "      <td>17.8</td>\n",
              "      <td>2</td>\n",
              "      <td>88</td>\n",
              "      <td>0</td>\n",
              "      <td>1</td>\n",
              "      <td>0</td>\n",
              "      <td>0</td>\n",
              "      <td>1</td>\n",
              "      <td>0</td>\n",
              "      <td>1</td>\n",
              "      <td>0</td>\n",
              "      <td>1</td>\n",
              "      <td>0</td>\n",
              "      <td>0</td>\n",
              "    </tr>\n",
              "    <tr>\n",
              "      <th>3</th>\n",
              "      <td>61.0</td>\n",
              "      <td>36.4</td>\n",
              "      <td>1</td>\n",
              "      <td>72</td>\n",
              "      <td>0</td>\n",
              "      <td>0</td>\n",
              "      <td>0</td>\n",
              "      <td>0</td>\n",
              "      <td>1</td>\n",
              "      <td>0</td>\n",
              "      <td>1</td>\n",
              "      <td>1</td>\n",
              "      <td>0</td>\n",
              "      <td>1</td>\n",
              "      <td>0</td>\n",
              "    </tr>\n",
              "    <tr>\n",
              "      <th>4</th>\n",
              "      <td>19.0</td>\n",
              "      <td>20.6</td>\n",
              "      <td>0</td>\n",
              "      <td>82</td>\n",
              "      <td>0</td>\n",
              "      <td>0</td>\n",
              "      <td>0</td>\n",
              "      <td>1</td>\n",
              "      <td>0</td>\n",
              "      <td>0</td>\n",
              "      <td>1</td>\n",
              "      <td>1</td>\n",
              "      <td>0</td>\n",
              "      <td>1</td>\n",
              "      <td>0</td>\n",
              "    </tr>\n",
              "    <tr>\n",
              "      <th>...</th>\n",
              "      <td>...</td>\n",
              "      <td>...</td>\n",
              "      <td>...</td>\n",
              "      <td>...</td>\n",
              "      <td>...</td>\n",
              "      <td>...</td>\n",
              "      <td>...</td>\n",
              "      <td>...</td>\n",
              "      <td>...</td>\n",
              "      <td>...</td>\n",
              "      <td>...</td>\n",
              "      <td>...</td>\n",
              "      <td>...</td>\n",
              "      <td>...</td>\n",
              "      <td>...</td>\n",
              "    </tr>\n",
              "    <tr>\n",
              "      <th>14995</th>\n",
              "      <td>39.0</td>\n",
              "      <td>28.3</td>\n",
              "      <td>1</td>\n",
              "      <td>54</td>\n",
              "      <td>1</td>\n",
              "      <td>0</td>\n",
              "      <td>0</td>\n",
              "      <td>0</td>\n",
              "      <td>1</td>\n",
              "      <td>0</td>\n",
              "      <td>1</td>\n",
              "      <td>1</td>\n",
              "      <td>0</td>\n",
              "      <td>0</td>\n",
              "      <td>0</td>\n",
              "    </tr>\n",
              "    <tr>\n",
              "      <th>14996</th>\n",
              "      <td>39.0</td>\n",
              "      <td>29.6</td>\n",
              "      <td>4</td>\n",
              "      <td>64</td>\n",
              "      <td>1</td>\n",
              "      <td>0</td>\n",
              "      <td>0</td>\n",
              "      <td>1</td>\n",
              "      <td>0</td>\n",
              "      <td>0</td>\n",
              "      <td>1</td>\n",
              "      <td>1</td>\n",
              "      <td>0</td>\n",
              "      <td>0</td>\n",
              "      <td>0</td>\n",
              "    </tr>\n",
              "    <tr>\n",
              "      <th>14997</th>\n",
              "      <td>20.0</td>\n",
              "      <td>33.3</td>\n",
              "      <td>0</td>\n",
              "      <td>52</td>\n",
              "      <td>1</td>\n",
              "      <td>0</td>\n",
              "      <td>0</td>\n",
              "      <td>1</td>\n",
              "      <td>0</td>\n",
              "      <td>0</td>\n",
              "      <td>1</td>\n",
              "      <td>1</td>\n",
              "      <td>0</td>\n",
              "      <td>0</td>\n",
              "      <td>0</td>\n",
              "    </tr>\n",
              "    <tr>\n",
              "      <th>14998</th>\n",
              "      <td>52.0</td>\n",
              "      <td>36.7</td>\n",
              "      <td>0</td>\n",
              "      <td>70</td>\n",
              "      <td>1</td>\n",
              "      <td>0</td>\n",
              "      <td>0</td>\n",
              "      <td>1</td>\n",
              "      <td>0</td>\n",
              "      <td>0</td>\n",
              "      <td>1</td>\n",
              "      <td>1</td>\n",
              "      <td>0</td>\n",
              "      <td>1</td>\n",
              "      <td>0</td>\n",
              "    </tr>\n",
              "    <tr>\n",
              "      <th>14999</th>\n",
              "      <td>52.0</td>\n",
              "      <td>26.4</td>\n",
              "      <td>3</td>\n",
              "      <td>72</td>\n",
              "      <td>1</td>\n",
              "      <td>0</td>\n",
              "      <td>0</td>\n",
              "      <td>1</td>\n",
              "      <td>0</td>\n",
              "      <td>0</td>\n",
              "      <td>1</td>\n",
              "      <td>1</td>\n",
              "      <td>0</td>\n",
              "      <td>0</td>\n",
              "      <td>1</td>\n",
              "    </tr>\n",
              "  </tbody>\n",
              "</table>\n",
              "<p>15000 rows × 15 columns</p>\n",
              "</div>\n",
              "      <button class=\"colab-df-convert\" onclick=\"convertToInteractive('df-82d41a1a-b1c5-4ccf-a3a9-46ed7f1f97bf')\"\n",
              "              title=\"Convert this dataframe to an interactive table.\"\n",
              "              style=\"display:none;\">\n",
              "        \n",
              "  <svg xmlns=\"http://www.w3.org/2000/svg\" height=\"24px\"viewBox=\"0 0 24 24\"\n",
              "       width=\"24px\">\n",
              "    <path d=\"M0 0h24v24H0V0z\" fill=\"none\"/>\n",
              "    <path d=\"M18.56 5.44l.94 2.06.94-2.06 2.06-.94-2.06-.94-.94-2.06-.94 2.06-2.06.94zm-11 1L8.5 8.5l.94-2.06 2.06-.94-2.06-.94L8.5 2.5l-.94 2.06-2.06.94zm10 10l.94 2.06.94-2.06 2.06-.94-2.06-.94-.94-2.06-.94 2.06-2.06.94z\"/><path d=\"M17.41 7.96l-1.37-1.37c-.4-.4-.92-.59-1.43-.59-.52 0-1.04.2-1.43.59L10.3 9.45l-7.72 7.72c-.78.78-.78 2.05 0 2.83L4 21.41c.39.39.9.59 1.41.59.51 0 1.02-.2 1.41-.59l7.78-7.78 2.81-2.81c.8-.78.8-2.07 0-2.86zM5.41 20L4 18.59l7.72-7.72 1.47 1.35L5.41 20z\"/>\n",
              "  </svg>\n",
              "      </button>\n",
              "      \n",
              "  <style>\n",
              "    .colab-df-container {\n",
              "      display:flex;\n",
              "      flex-wrap:wrap;\n",
              "      gap: 12px;\n",
              "    }\n",
              "\n",
              "    .colab-df-convert {\n",
              "      background-color: #E8F0FE;\n",
              "      border: none;\n",
              "      border-radius: 50%;\n",
              "      cursor: pointer;\n",
              "      display: none;\n",
              "      fill: #1967D2;\n",
              "      height: 32px;\n",
              "      padding: 0 0 0 0;\n",
              "      width: 32px;\n",
              "    }\n",
              "\n",
              "    .colab-df-convert:hover {\n",
              "      background-color: #E2EBFA;\n",
              "      box-shadow: 0px 1px 2px rgba(60, 64, 67, 0.3), 0px 1px 3px 1px rgba(60, 64, 67, 0.15);\n",
              "      fill: #174EA6;\n",
              "    }\n",
              "\n",
              "    [theme=dark] .colab-df-convert {\n",
              "      background-color: #3B4455;\n",
              "      fill: #D2E3FC;\n",
              "    }\n",
              "\n",
              "    [theme=dark] .colab-df-convert:hover {\n",
              "      background-color: #434B5C;\n",
              "      box-shadow: 0px 1px 3px 1px rgba(0, 0, 0, 0.15);\n",
              "      filter: drop-shadow(0px 1px 2px rgba(0, 0, 0, 0.3));\n",
              "      fill: #FFFFFF;\n",
              "    }\n",
              "  </style>\n",
              "\n",
              "      <script>\n",
              "        const buttonEl =\n",
              "          document.querySelector('#df-82d41a1a-b1c5-4ccf-a3a9-46ed7f1f97bf button.colab-df-convert');\n",
              "        buttonEl.style.display =\n",
              "          google.colab.kernel.accessAllowed ? 'block' : 'none';\n",
              "\n",
              "        async function convertToInteractive(key) {\n",
              "          const element = document.querySelector('#df-82d41a1a-b1c5-4ccf-a3a9-46ed7f1f97bf');\n",
              "          const dataTable =\n",
              "            await google.colab.kernel.invokeFunction('convertToInteractive',\n",
              "                                                     [key], {});\n",
              "          if (!dataTable) return;\n",
              "\n",
              "          const docLinkHtml = 'Like what you see? Visit the ' +\n",
              "            '<a target=\"_blank\" href=https://colab.research.google.com/notebooks/data_table.ipynb>data table notebook</a>'\n",
              "            + ' to learn more about interactive tables.';\n",
              "          element.innerHTML = '';\n",
              "          dataTable['output_type'] = 'display_data';\n",
              "          await google.colab.output.renderOutput(dataTable, element);\n",
              "          const docLink = document.createElement('div');\n",
              "          docLink.innerHTML = docLinkHtml;\n",
              "          element.appendChild(docLink);\n",
              "        }\n",
              "      </script>\n",
              "    </div>\n",
              "  </div>\n",
              "  "
            ]
          },
          "metadata": {},
          "execution_count": 147
        }
      ],
      "source": [
        "x"
      ]
    },
    {
      "cell_type": "markdown",
      "id": "c2c911e1",
      "metadata": {
        "id": "c2c911e1"
      },
      "source": [
        "# Test Train Split"
      ]
    },
    {
      "cell_type": "code",
      "execution_count": null,
      "id": "ad68e362",
      "metadata": {
        "id": "ad68e362"
      },
      "outputs": [],
      "source": [
        "from sklearn.model_selection import train_test_split\n",
        "x_train,x_test,y_train,y_test = train_test_split(x,y,test_size=0.2,random_state=0)"
      ]
    },
    {
      "cell_type": "markdown",
      "source": [
        "#feature scaling : standardization"
      ],
      "metadata": {
        "id": "I0P3RXEEcMWT"
      },
      "id": "I0P3RXEEcMWT"
    },
    {
      "cell_type": "code",
      "source": [
        "from sklearn.preprocessing import StandardScaler\n",
        "sc=StandardScaler()\n",
        "x_train= sc.fit_transform(x_train)\n",
        "x_test=sc.transform(x_test)"
      ],
      "metadata": {
        "id": "pxVwGQMdcJ48"
      },
      "id": "pxVwGQMdcJ48",
      "execution_count": null,
      "outputs": []
    },
    {
      "cell_type": "code",
      "source": [
        "x_train"
      ],
      "metadata": {
        "colab": {
          "base_uri": "https://localhost:8080/"
        },
        "id": "AeNsgUMCcKE5",
        "outputId": "cdd58049-b927-4ba7-a1e3-876c8eb98e30"
      },
      "id": "AeNsgUMCcKE5",
      "execution_count": null,
      "outputs": [
        {
          "output_type": "execute_result",
          "data": {
            "text/plain": [
              "array([[-0.90083593,  0.65748549, -0.92731656, ..., -0.54087551,\n",
              "        -0.78329678,  2.22274471],\n",
              "       [ 0.33113865, -0.90824182, -0.11471259, ..., -0.54087551,\n",
              "        -0.78329678, -0.44989422],\n",
              "       [ 0.91089139, -1.23218541, -0.92731656, ..., -0.54087551,\n",
              "        -0.78329678,  2.22274471],\n",
              "       ...,\n",
              "       [ 1.34570594,  1.01742281, -0.92731656, ...,  1.84885428,\n",
              "        -0.78329678, -0.44989422],\n",
              "       [ 0.91089139, -1.03421988,  1.51049534, ..., -0.54087551,\n",
              "         1.27665531, -0.44989422],\n",
              "       [ 1.05582957, -0.44032331, -0.11471259, ..., -0.54087551,\n",
              "        -0.78329678, -0.44989422]])"
            ]
          },
          "metadata": {},
          "execution_count": 150
        }
      ]
    },
    {
      "cell_type": "markdown",
      "id": "8cd3bedd",
      "metadata": {
        "id": "8cd3bedd"
      },
      "source": [
        "# Importing the Models"
      ]
    },
    {
      "cell_type": "code",
      "execution_count": null,
      "id": "e9c5a8b6",
      "metadata": {
        "id": "e9c5a8b6"
      },
      "outputs": [],
      "source": [
        "from sklearn.linear_model import LinearRegression\n",
        "from sklearn.svm import SVR\n",
        "from sklearn.ensemble import RandomForestRegressor\n",
        "from sklearn.ensemble import GradientBoostingRegressor"
      ]
    },
    {
      "cell_type": "markdown",
      "id": "7a1c4fbd",
      "metadata": {
        "id": "7a1c4fbd"
      },
      "source": [
        "# Model Training"
      ]
    },
    {
      "cell_type": "code",
      "execution_count": null,
      "id": "79b2142c",
      "metadata": {
        "id": "79b2142c",
        "outputId": "365681e4-0627-4c4b-b428-bb0fe11a0f56",
        "colab": {
          "base_uri": "https://localhost:8080/"
        }
      },
      "outputs": [
        {
          "output_type": "execute_result",
          "data": {
            "text/plain": [
              "GradientBoostingRegressor()"
            ]
          },
          "metadata": {},
          "execution_count": 152
        }
      ],
      "source": [
        "lr=LinearRegression()\n",
        "lr.fit(x_train,y_train)\n",
        "svm=SVR()\n",
        "svm.fit(x_train,y_train)\n",
        "rf=RandomForestRegressor()\n",
        "rf.fit(x_train,y_train)\n",
        "gr=GradientBoostingRegressor()\n",
        "gr.fit(x_train,y_train)"
      ]
    },
    {
      "cell_type": "markdown",
      "id": "e15e5d50",
      "metadata": {
        "id": "e15e5d50"
      },
      "source": [
        "# Prediction on test data"
      ]
    },
    {
      "cell_type": "code",
      "execution_count": null,
      "id": "35253dda",
      "metadata": {
        "id": "35253dda"
      },
      "outputs": [],
      "source": [
        "y_pred1=lr.predict(x_test)\n",
        "y_pred2=svm.predict(x_test)\n",
        "y_pred3=rf.predict(x_test)\n",
        "y_pred4=gr.predict(x_test)\n",
        "error=y_test-y_pred1"
      ]
    },
    {
      "cell_type": "code",
      "source": [
        "df1=pd.DataFrame({'Actual':y_test,'lr':y_pred1,'svm':y_pred2,'rf':y_pred3,'gr':y_pred4,'error_lr':error})"
      ],
      "metadata": {
        "id": "-AYkw8fUcnSY"
      },
      "id": "-AYkw8fUcnSY",
      "execution_count": null,
      "outputs": []
    },
    {
      "cell_type": "code",
      "source": [
        "#checking whether error is following normality or not[assumption of linear regression]\n",
        "plt.hist(x=df1['error_lr'],bins= 10)\n",
        "plt.show()"
      ],
      "metadata": {
        "colab": {
          "base_uri": "https://localhost:8080/",
          "height": 265
        },
        "id": "bRe90_vbcnZF",
        "outputId": "9bb3f1d2-8eda-4673-b5b2-80befe861e95"
      },
      "id": "bRe90_vbcnZF",
      "execution_count": null,
      "outputs": [
        {
          "output_type": "display_data",
          "data": {
            "text/plain": [
              "<Figure size 432x288 with 1 Axes>"
            ],
            "image/png": "[encoded data removed]"
          },
          "metadata": {
            "needs_background": "light"
          }
        }
      ]
    },
    {
      "cell_type": "code",
      "source": [
        "df1['error_lr'].mean() #for lr errors follows approx normal distn with 0 mean  "
      ],
      "metadata": {
        "colab": {
          "base_uri": "https://localhost:8080/"
        },
        "id": "5NqWQ4rsc0N5",
        "outputId": "b8696139-a5d0-4d88-e0c0-0707adb4e505"
      },
      "id": "5NqWQ4rsc0N5",
      "execution_count": null,
      "outputs": [
        {
          "output_type": "execute_result",
          "data": {
            "text/plain": [
              "0.005607988316851347"
            ]
          },
          "metadata": {},
          "execution_count": 157
        }
      ]
    },
    {
      "cell_type": "code",
      "execution_count": null,
      "id": "031dc6b7",
      "metadata": {
        "id": "031dc6b7",
        "outputId": "c5bae855-6fd6-4109-d6df-7a2386a8e1fc",
        "colab": {
          "base_uri": "https://localhost:8080/"
        }
      },
      "outputs": [
        {
          "output_type": "execute_result",
          "data": {
            "text/plain": [
              "1670      8.817890\n",
              "13379     7.807307\n",
              "10234     9.527084\n",
              "4719      7.450312\n",
              "7003      9.499504\n",
              "           ...    \n",
              "10346     8.953239\n",
              "8469      7.037028\n",
              "12765     8.941205\n",
              "9431     10.456815\n",
              "4202      9.302035\n",
              "Name: claim, Length: 3000, dtype: float64"
            ]
          },
          "metadata": {},
          "execution_count": 160
        }
      ],
      "source": [
        "y_test"
      ]
    },
    {
      "cell_type": "markdown",
      "source": [
        "#**comparing performances of different models**"
      ],
      "metadata": {
        "id": "lKCHXBCyUkmK"
      },
      "id": "lKCHXBCyUkmK"
    },
    {
      "cell_type": "code",
      "execution_count": null,
      "id": "53d96ae8",
      "metadata": {
        "id": "53d96ae8",
        "outputId": "53aba37a-d924-4ab1-ce31-36a33dc6bf80",
        "colab": {
          "base_uri": "https://localhost:8080/",
          "height": 519
        }
      },
      "outputs": [
        {
          "output_type": "execute_result",
          "data": {
            "text/plain": [
              "          Actual         lr        svm         rf         gr  error_lr\n",
              "1670    8.817890   8.765186   8.718088   8.817890   8.822316  0.052704\n",
              "13379   7.807307   8.178028   7.847239   7.807307   8.139535 -0.370721\n",
              "10234   9.527084   8.827347   9.010636   9.527084   8.943645  0.699737\n",
              "4719    7.450312   8.002826   7.823018   7.508806   7.737899 -0.552514\n",
              "7003    9.499504   9.359668   9.542293   9.499504   9.460143  0.139835\n",
              "2831   10.390511   9.311329  10.038229  10.387836  10.096307  1.079182\n",
              "13014   8.447264   8.512582   8.456429   8.447264   8.542469 -0.065318\n",
              "11979   8.874658   8.960987   8.974713   8.874658   9.022420 -0.086329\n",
              "8610    8.129588   8.312793   8.183546   8.126480   8.366741 -0.183206\n",
              "519     8.375330   8.492318   8.313992   8.375330   8.468156 -0.116988\n",
              "13264  10.619012  10.183399  10.519292  10.619012  10.463666  0.435614\n",
              "7329    8.065108   8.252735   8.138442   8.065108   8.484864 -0.187627\n",
              "452     8.565259   8.720264   8.584344   8.565259   8.712846 -0.155005\n",
              "12374   8.493904   8.607620   8.594156   8.493904   8.654805 -0.113716\n",
              "4067   10.767725  11.114944  10.667571  10.767725  10.822263 -0.347220"
            ],
            "text/html": [
              "\n",
              "  <div id=\"df-09f443ff-06f5-4173-b6c3-9ea13f3d45c5\">\n",
              "    <div class=\"colab-df-container\">\n",
              "      <div>\n",
              "<style scoped>\n",
              "    .dataframe tbody tr th:only-of-type {\n",
              "        vertical-align: middle;\n",
              "    }\n",
              "\n",
              "    .dataframe tbody tr th {\n",
              "        vertical-align: top;\n",
              "    }\n",
              "\n",
              "    .dataframe thead th {\n",
              "        text-align: right;\n",
              "    }\n",
              "</style>\n",
              "<table border=\"1\" class=\"dataframe\">\n",
              "  <thead>\n",
              "    <tr style=\"text-align: right;\">\n",
              "      <th></th>\n",
              "      <th>Actual</th>\n",
              "      <th>lr</th>\n",
              "      <th>svm</th>\n",
              "      <th>rf</th>\n",
              "      <th>gr</th>\n",
              "      <th>error_lr</th>\n",
              "    </tr>\n",
              "  </thead>\n",
              "  <tbody>\n",
              "    <tr>\n",
              "      <th>1670</th>\n",
              "      <td>8.817890</td>\n",
              "      <td>8.765186</td>\n",
              "      <td>8.718088</td>\n",
              "      <td>8.817890</td>\n",
              "      <td>8.822316</td>\n",
              "      <td>0.052704</td>\n",
              "    </tr>\n",
              "    <tr>\n",
              "      <th>13379</th>\n",
              "      <td>7.807307</td>\n",
              "      <td>8.178028</td>\n",
              "      <td>7.847239</td>\n",
              "      <td>7.807307</td>\n",
              "      <td>8.139535</td>\n",
              "      <td>-0.370721</td>\n",
              "    </tr>\n",
              "    <tr>\n",
              "      <th>10234</th>\n",
              "      <td>9.527084</td>\n",
              "      <td>8.827347</td>\n",
              "      <td>9.010636</td>\n",
              "      <td>9.527084</td>\n",
              "      <td>8.943645</td>\n",
              "      <td>0.699737</td>\n",
              "    </tr>\n",
              "    <tr>\n",
              "      <th>4719</th>\n",
              "      <td>7.450312</td>\n",
              "      <td>8.002826</td>\n",
              "      <td>7.823018</td>\n",
              "      <td>7.508806</td>\n",
              "      <td>7.737899</td>\n",
              "      <td>-0.552514</td>\n",
              "    </tr>\n",
              "    <tr>\n",
              "      <th>7003</th>\n",
              "      <td>9.499504</td>\n",
              "      <td>9.359668</td>\n",
              "      <td>9.542293</td>\n",
              "      <td>9.499504</td>\n",
              "      <td>9.460143</td>\n",
              "      <td>0.139835</td>\n",
              "    </tr>\n",
              "    <tr>\n",
              "      <th>2831</th>\n",
              "      <td>10.390511</td>\n",
              "      <td>9.311329</td>\n",
              "      <td>10.038229</td>\n",
              "      <td>10.387836</td>\n",
              "      <td>10.096307</td>\n",
              "      <td>1.079182</td>\n",
              "    </tr>\n",
              "    <tr>\n",
              "      <th>13014</th>\n",
              "      <td>8.447264</td>\n",
              "      <td>8.512582</td>\n",
              "      <td>8.456429</td>\n",
              "      <td>8.447264</td>\n",
              "      <td>8.542469</td>\n",
              "      <td>-0.065318</td>\n",
              "    </tr>\n",
              "    <tr>\n",
              "      <th>11979</th>\n",
              "      <td>8.874658</td>\n",
              "      <td>8.960987</td>\n",
              "      <td>8.974713</td>\n",
              "      <td>8.874658</td>\n",
              "      <td>9.022420</td>\n",
              "      <td>-0.086329</td>\n",
              "    </tr>\n",
              "    <tr>\n",
              "      <th>8610</th>\n",
              "      <td>8.129588</td>\n",
              "      <td>8.312793</td>\n",
              "      <td>8.183546</td>\n",
              "      <td>8.126480</td>\n",
              "      <td>8.366741</td>\n",
              "      <td>-0.183206</td>\n",
              "    </tr>\n",
              "    <tr>\n",
              "      <th>519</th>\n",
              "      <td>8.375330</td>\n",
              "      <td>8.492318</td>\n",
              "      <td>8.313992</td>\n",
              "      <td>8.375330</td>\n",
              "      <td>8.468156</td>\n",
              "      <td>-0.116988</td>\n",
              "    </tr>\n",
              "    <tr>\n",
              "      <th>13264</th>\n",
              "      <td>10.619012</td>\n",
              "      <td>10.183399</td>\n",
              "      <td>10.519292</td>\n",
              "      <td>10.619012</td>\n",
              "      <td>10.463666</td>\n",
              "      <td>0.435614</td>\n",
              "    </tr>\n",
              "    <tr>\n",
              "      <th>7329</th>\n",
              "      <td>8.065108</td>\n",
              "      <td>8.252735</td>\n",
              "      <td>8.138442</td>\n",
              "      <td>8.065108</td>\n",
              "      <td>8.484864</td>\n",
              "      <td>-0.187627</td>\n",
              "    </tr>\n",
              "    <tr>\n",
              "      <th>452</th>\n",
              "      <td>8.565259</td>\n",
              "      <td>8.720264</td>\n",
              "      <td>8.584344</td>\n",
              "      <td>8.565259</td>\n",
              "      <td>8.712846</td>\n",
              "      <td>-0.155005</td>\n",
              "    </tr>\n",
              "    <tr>\n",
              "      <th>12374</th>\n",
              "      <td>8.493904</td>\n",
              "      <td>8.607620</td>\n",
              "      <td>8.594156</td>\n",
              "      <td>8.493904</td>\n",
              "      <td>8.654805</td>\n",
              "      <td>-0.113716</td>\n",
              "    </tr>\n",
              "    <tr>\n",
              "      <th>4067</th>\n",
              "      <td>10.767725</td>\n",
              "      <td>11.114944</td>\n",
              "      <td>10.667571</td>\n",
              "      <td>10.767725</td>\n",
              "      <td>10.822263</td>\n",
              "      <td>-0.347220</td>\n",
              "    </tr>\n",
              "  </tbody>\n",
              "</table>\n",
              "</div>\n",
              "      <button class=\"colab-df-convert\" onclick=\"convertToInteractive('df-09f443ff-06f5-4173-b6c3-9ea13f3d45c5')\"\n",
              "              title=\"Convert this dataframe to an interactive table.\"\n",
              "              style=\"display:none;\">\n",
              "        \n",
              "  <svg xmlns=\"http://www.w3.org/2000/svg\" height=\"24px\"viewBox=\"0 0 24 24\"\n",
              "       width=\"24px\">\n",
              "    <path d=\"M0 0h24v24H0V0z\" fill=\"none\"/>\n",
              "    <path d=\"M18.56 5.44l.94 2.06.94-2.06 2.06-.94-2.06-.94-.94-2.06-.94 2.06-2.06.94zm-11 1L8.5 8.5l.94-2.06 2.06-.94-2.06-.94L8.5 2.5l-.94 2.06-2.06.94zm10 10l.94 2.06.94-2.06 2.06-.94-2.06-.94-.94-2.06-.94 2.06-2.06.94z\"/><path d=\"M17.41 7.96l-1.37-1.37c-.4-.4-.92-.59-1.43-.59-.52 0-1.04.2-1.43.59L10.3 9.45l-7.72 7.72c-.78.78-.78 2.05 0 2.83L4 21.41c.39.39.9.59 1.41.59.51 0 1.02-.2 1.41-.59l7.78-7.78 2.81-2.81c.8-.78.8-2.07 0-2.86zM5.41 20L4 18.59l7.72-7.72 1.47 1.35L5.41 20z\"/>\n",
              "  </svg>\n",
              "      </button>\n",
              "      \n",
              "  <style>\n",
              "    .colab-df-container {\n",
              "      display:flex;\n",
              "      flex-wrap:wrap;\n",
              "      gap: 12px;\n",
              "    }\n",
              "\n",
              "    .colab-df-convert {\n",
              "      background-color: #E8F0FE;\n",
              "      border: none;\n",
              "      border-radius: 50%;\n",
              "      cursor: pointer;\n",
              "      display: none;\n",
              "      fill: #1967D2;\n",
              "      height: 32px;\n",
              "      padding: 0 0 0 0;\n",
              "      width: 32px;\n",
              "    }\n",
              "\n",
              "    .colab-df-convert:hover {\n",
              "      background-color: #E2EBFA;\n",
              "      box-shadow: 0px 1px 2px rgba(60, 64, 67, 0.3), 0px 1px 3px 1px rgba(60, 64, 67, 0.15);\n",
              "      fill: #174EA6;\n",
              "    }\n",
              "\n",
              "    [theme=dark] .colab-df-convert {\n",
              "      background-color: #3B4455;\n",
              "      fill: #D2E3FC;\n",
              "    }\n",
              "\n",
              "    [theme=dark] .colab-df-convert:hover {\n",
              "      background-color: #434B5C;\n",
              "      box-shadow: 0px 1px 3px 1px rgba(0, 0, 0, 0.15);\n",
              "      filter: drop-shadow(0px 1px 2px rgba(0, 0, 0, 0.3));\n",
              "      fill: #FFFFFF;\n",
              "    }\n",
              "  </style>\n",
              "\n",
              "      <script>\n",
              "        const buttonEl =\n",
              "          document.querySelector('#df-09f443ff-06f5-4173-b6c3-9ea13f3d45c5 button.colab-df-convert');\n",
              "        buttonEl.style.display =\n",
              "          google.colab.kernel.accessAllowed ? 'block' : 'none';\n",
              "\n",
              "        async function convertToInteractive(key) {\n",
              "          const element = document.querySelector('#df-09f443ff-06f5-4173-b6c3-9ea13f3d45c5');\n",
              "          const dataTable =\n",
              "            await google.colab.kernel.invokeFunction('convertToInteractive',\n",
              "                                                     [key], {});\n",
              "          if (!dataTable) return;\n",
              "\n",
              "          const docLinkHtml = 'Like what you see? Visit the ' +\n",
              "            '<a target=\"_blank\" href=https://colab.research.google.com/notebooks/data_table.ipynb>data table notebook</a>'\n",
              "            + ' to learn more about interactive tables.';\n",
              "          element.innerHTML = '';\n",
              "          dataTable['output_type'] = 'display_data';\n",
              "          await google.colab.output.renderOutput(dataTable, element);\n",
              "          const docLink = document.createElement('div');\n",
              "          docLink.innerHTML = docLinkHtml;\n",
              "          element.appendChild(docLink);\n",
              "        }\n",
              "      </script>\n",
              "    </div>\n",
              "  </div>\n",
              "  "
            ]
          },
          "metadata": {},
          "execution_count": 161
        }
      ],
      "source": [
        "df1.head(15)\n",
        "#by comparing we can see randomforest is giving the best results"
      ]
    },
    {
      "cell_type": "markdown",
      "id": "804d9ab3",
      "metadata": {
        "id": "804d9ab3"
      },
      "source": [
        "#**Comparing Performances of different models through Visualization**"
      ]
    },
    {
      "cell_type": "code",
      "execution_count": null,
      "id": "d5cffbb2",
      "metadata": {
        "id": "d5cffbb2",
        "outputId": "77a4ab3c-8410-4442-88c6-3cc6e311cc0b",
        "colab": {
          "base_uri": "https://localhost:8080/",
          "height": 164
        }
      },
      "outputs": [
        {
          "output_type": "execute_result",
          "data": {
            "text/plain": [
              "<matplotlib.legend.Legend at 0x7ff4aebced90>"
            ]
          },
          "metadata": {},
          "execution_count": 162
        },
        {
          "output_type": "display_data",
          "data": {
            "text/plain": [
              "<Figure size 432x288 with 1 Axes>"
            ],
            "image/png": "[encoded data removed]"
          },
          "metadata": {
            "needs_background": "light"
          }
        }
      ],
      "source": [
        "#for entire data\n",
        "import matplotlib.pyplot as plt\n",
        "plt.subplot(221)\n",
        "plt.plot(df1['Actual'],label=\"actual\")\n",
        "plt.plot(df1['lr'],label=\"lr\")\n",
        "plt.legend()"
      ]
    },
    {
      "cell_type": "code",
      "execution_count": null,
      "id": "0b0268f1",
      "metadata": {
        "id": "0b0268f1",
        "outputId": "2830d3f1-5362-41d2-c90e-869032ecd8a5",
        "colab": {
          "base_uri": "https://localhost:8080/",
          "height": 164
        }
      },
      "outputs": [
        {
          "output_type": "execute_result",
          "data": {
            "text/plain": [
              "<matplotlib.legend.Legend at 0x7ff4aeb8a2e0>"
            ]
          },
          "metadata": {},
          "execution_count": 163
        },
        {
          "output_type": "display_data",
          "data": {
            "text/plain": [
              "<Figure size 432x288 with 1 Axes>"
            ],
            "image/png": "[encoded data removed]"
          },
          "metadata": {
            "needs_background": "light"
          }
        }
      ],
      "source": [
        "#just for 10 observations to get a clear picture\n",
        "import matplotlib.pyplot as plt\n",
        "plt.subplot(221)\n",
        "plt.plot(df1['Actual'].iloc[0:11],label=\"actual\")\n",
        "plt.plot(df1['lr'].iloc[0:11],label=\"lr\")\n",
        "plt.legend()"
      ]
    },
    {
      "cell_type": "code",
      "execution_count": null,
      "id": "0668bdc6",
      "metadata": {
        "id": "0668bdc6",
        "outputId": "de7eb372-0bd6-49e0-cef1-c10ed3608a47",
        "colab": {
          "base_uri": "https://localhost:8080/",
          "height": 314
        }
      },
      "outputs": [
        {
          "output_type": "execute_result",
          "data": {
            "text/plain": [
              "<matplotlib.legend.Legend at 0x7ff4b1d99c10>"
            ]
          },
          "metadata": {},
          "execution_count": 164
        },
        {
          "output_type": "display_data",
          "data": {
            "text/plain": [
              "<Figure size 432x288 with 4 Axes>"
            ],
            "image/png": "[encoded data removed]"
          },
          "metadata": {
            "needs_background": "light"
          }
        }
      ],
      "source": [
        "#for all the data\n",
        "plt.subplot(221)\n",
        "plt.plot(df1['Actual'],label=\"actual\")\n",
        "plt.plot(df1['lr'],label=\"lr\")\n",
        "plt.legend()\n",
        "\n",
        "plt.subplot(222)\n",
        "plt.plot(df1['Actual'],label=\"actual\")\n",
        "plt.plot(df1['svm'],label=\"svm\")\n",
        "plt.legend()\n",
        "\n",
        "plt.subplot(223)\n",
        "plt.plot(df1['Actual'],label=\"actual\")\n",
        "plt.plot(df1['rf'],label=\"rf\")\n",
        "plt.legend()\n",
        "\n",
        "plt.subplot(224)\n",
        "plt.plot(df1['Actual'],label=\"actual\")\n",
        "plt.plot(df1['gr'],label=\"gr\")\n",
        "\n",
        "plt.tight_layout()\n",
        "\n",
        "plt.legend()"
      ]
    },
    {
      "cell_type": "code",
      "execution_count": null,
      "id": "fa4ce0d3",
      "metadata": {
        "id": "fa4ce0d3",
        "outputId": "84b411b8-3d4e-460a-b444-53f8d50fe08b",
        "colab": {
          "base_uri": "https://localhost:8080/",
          "height": 314
        }
      },
      "outputs": [
        {
          "output_type": "execute_result",
          "data": {
            "text/plain": [
              "<matplotlib.legend.Legend at 0x7ff4b5b872b0>"
            ]
          },
          "metadata": {},
          "execution_count": 165
        },
        {
          "output_type": "display_data",
          "data": {
            "text/plain": [
              "<Figure size 432x288 with 4 Axes>"
            ],
            "image/png": "[encoded data removed]"
          },
          "metadata": {
            "needs_background": "light"
          }
        }
      ],
      "source": [
        "#just for initial 20 observation to get a clear picture\n",
        "plt.subplot(221)\n",
        "plt.plot(df1['Actual'].iloc[0:21],label=\"actual\")\n",
        "plt.plot(df1['lr'].iloc[0:21],label=\"lr\")\n",
        "plt.legend()\n",
        "\n",
        "plt.subplot(222)\n",
        "plt.plot(df1['Actual'].iloc[0:21],label=\"actual\")\n",
        "plt.plot(df1['svm'].iloc[0:21],label=\"svm\")\n",
        "plt.legend()\n",
        "\n",
        "plt.subplot(223)\n",
        "plt.plot(df1['Actual'].iloc[0:21],label=\"actual\")\n",
        "plt.plot(df1['rf'].iloc[0:21],label=\"rf\")\n",
        "plt.legend()\n",
        "\n",
        "plt.subplot(224)\n",
        "plt.plot(df1['Actual'].iloc[0:21],label=\"actual\")\n",
        "plt.plot(df1['gr'].iloc[0:21],label=\"gr\")\n",
        "\n",
        "plt.tight_layout()\n",
        "\n",
        "plt.legend()"
      ]
    },
    {
      "cell_type": "markdown",
      "id": "71876e5c",
      "metadata": {
        "id": "71876e5c"
      },
      "source": [
        "# Evaluating the algorithm"
      ]
    },
    {
      "cell_type": "code",
      "execution_count": null,
      "id": "fcc0b87a",
      "metadata": {
        "id": "fcc0b87a",
        "outputId": "709da33a-8bf9-49a1-acaa-05f17f26f6f7",
        "colab": {
          "base_uri": "https://localhost:8080/"
        }
      },
      "outputs": [
        {
          "output_type": "stream",
          "name": "stdout",
          "text": [
            "R_squared values\n",
            "\n",
            "linear regression:  0.7394053385682049 \n",
            "support vector regression:  0.8214031857109295 \n",
            "random forest:  0.9779521891390628 \n",
            "gradient boosting 0.8358999683311806\n"
          ]
        }
      ],
      "source": [
        "from sklearn import metrics\n",
        "\n",
        "score1= metrics.r2_score(y_test,y_pred1)\n",
        "score2= metrics.r2_score(y_test,y_pred2)\n",
        "score3= metrics.r2_score(y_test,y_pred3)\n",
        "score4= metrics.r2_score(y_test,y_pred4)\n",
        "print(\"R_squared values\\n\")\n",
        "print(\"linear regression: \",score1,\"\\nsupport vector regression: \",score2,\"\\nrandom forest: \",score3,\"\\ngradient boosting\",score4)"
      ]
    },
    {
      "cell_type": "markdown",
      "id": "e946acd7",
      "metadata": {
        "id": "e946acd7"
      },
      "source": [
        "# Mean Square Error"
      ]
    },
    {
      "cell_type": "code",
      "execution_count": null,
      "id": "849c04e5",
      "metadata": {
        "id": "849c04e5",
        "outputId": "1bae073a-4b57-4aff-e45d-3a89c1d4a03b",
        "colab": {
          "base_uri": "https://localhost:8080/"
        }
      },
      "outputs": [
        {
          "output_type": "stream",
          "name": "stdout",
          "text": [
            "mean square errors\n",
            "\n",
            "linear regression:  0.29147870683965416 \n",
            "support vector regression:  0.18154540583097797 \n",
            "random forest:  0.02386115222388569 \n",
            "gradient boosting 0.21313096612703725\n"
          ]
        }
      ],
      "source": [
        "s1= metrics.mean_absolute_error(y_test,y_pred1)\n",
        "s2= metrics.mean_absolute_error(y_test,y_pred2)\n",
        "s3= metrics.mean_absolute_error(y_test,y_pred3)\n",
        "s4= metrics.mean_absolute_error(y_test,y_pred4)\n",
        "print(\"mean square errors\\n\")\n",
        "print(\"linear regression: \",s1,\"\\nsupport vector regression: \",s2,\"\\nrandom forest: \",s3,\"\\ngradient boosting\",s4)"
      ]
    },
    {
      "cell_type": "markdown",
      "source": [
        "#Hence random forest is giving the best results with 97.8% accuracy and lowest MSE."
      ],
      "metadata": {
        "id": "-hcvdn5eeorp"
      },
      "id": "-hcvdn5eeorp"
    },
    {
      "cell_type": "markdown",
      "id": "6aea942d",
      "metadata": {
        "id": "6aea942d"
      },
      "source": [
        "# random forest is giving the best results for our model"
      ]
    },
    {
      "cell_type": "markdown",
      "id": "554a6c48",
      "metadata": {
        "id": "554a6c48"
      },
      "source": [
        "# Now training our model on 100% data using random forest"
      ]
    },
    {
      "cell_type": "code",
      "execution_count": null,
      "id": "6a285bbb",
      "metadata": {
        "id": "6a285bbb",
        "outputId": "0285b8c0-7fe3-4bd7-83fe-ed14a46f8738"
      },
      "outputs": [
        {
          "data": {
            "text/plain": [
              "RandomForestRegressor()"
            ]
          },
          "execution_count": 90,
          "metadata": {},
          "output_type": "execute_result"
        }
      ],
      "source": [
        "from sklearn.ensemble import RandomForestRegressor\n",
        "#model training\n",
        "model=RandomForestRegressor()\n",
        "model.fit(x,y)"
      ]
    }
  ],
  "metadata": {
    "kernelspec": {
      "display_name": "Python 3 (ipykernel)",
      "language": "python",
      "name": "python3"
    },
    "language_info": {
      "codemirror_mode": {
        "name": "ipython",
        "version": 3
      },
      "file_extension": ".py",
      "mimetype": "text/x-python",
      "name": "python",
      "nbconvert_exporter": "python",
      "pygments_lexer": "ipython3",
      "version": "3.10.2"
    },
    "colab": {
      "provenance": [],
      "collapsed_sections": [
        "PtYqCEGkiCnt",
        "6edc3309",
        "-hcvdn5eeorp",
        "6aea942d"
      ]
    }
  },
  "nbformat": 4,
  "nbformat_minor": 5
}
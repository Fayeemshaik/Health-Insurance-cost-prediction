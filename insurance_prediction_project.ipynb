{
  "cells": [
    {
      "cell_type": "markdown",
      "metadata": {
        "id": "view-in-github",
        "colab_type": "text"
      },
      "source": [
        "<a href=\"https://colab.research.google.com/github/Fayeemshaik/Health-Insurance-cost-prediction/blob/main/insurance_prediction_project.ipynb\" target=\"_parent\"><img src=\"https://colab.research.google.com/assets/colab-badge.svg\" alt=\"Open In Colab\"/></a>"
      ]
    },
    {
      "cell_type": "markdown",
      "source": [
        "#**PROJECT ON HEALTH INSURANCE CLAIM AMOUNT PREDICTION**\n"
      ],
      "metadata": {
        "id": "R0ufVdLjVM3B"
      },
      "id": "R0ufVdLjVM3B"
    },
    {
      "cell_type": "markdown",
      "source": [
        "##**problem statement**\n",
        "A key challenge for the insurance industry is to charge each customer an appropriate premium for the risk they represent. The ability to predict a correct claim amount has a significant impact on insurer's management decisions and financial statements. Predicting the cost of claims in an insurance company is a real-life problem that needs to be solved in a more accurate and automated way. Several factors determine the cost of claims based on health factors like BMI, age, smoker, health conditions and others. Insurance companies apply numerous techniques for analyzing and predicting health insurance costs"
      ],
      "metadata": {
        "id": "PtYqCEGkiCnt"
      },
      "id": "PtYqCEGkiCnt"
    },
    {
      "cell_type": "markdown",
      "source": [
        "##**Data Definition**\n",
        "**age** : Age of the policyholder (Numeric)\n",
        "\n",
        "**sex**: Gender of policyholder (Categoric)\n",
        "\n",
        "**weight**: Weight of the policyholder (Numeric)\n",
        "\n",
        "**bmi**: Body mass index, providing an understanding of body, weights that are relatively high or low relative to height, objective index of body weight (kg / m ^ 2) using the ratio of height to weight (Numeric)\n",
        "\n",
        "**no_of_dependents**: Number of dependent persons on the policyholder (Numeric)\n",
        "\n",
        "**smoker**: Indicates policyholder is a smoker or a non-smoker (non-smoker=0;smoker=1) (Categoric)\n",
        "\n",
        "**claim**: The amount claimed by the policyholder (Numeric)\n",
        "\n",
        "**bloodpressure**: Bloodpressure reading of policyholder (Numeric)\n",
        "\n",
        "**diabetes**: Indicates policyholder suffers from diabetes or not (non-diabetic=0; diabetic=1) (Categoric)\n",
        "\n",
        "**regular_ex**: A policyholder regularly excercises or not (no-excercise=0; excercise=1) (Categoric)\n",
        "\n",
        "**job_title**: Job profile of the policyholder (Categoric)\n",
        "\n",
        "**city**: The city in which the policyholder resides (Categoric)\n",
        "\n",
        "**hereditary_diseases**: A policyholder suffering from a hereditary diseases or not (Categoric)\n",
        "\n"
      ],
      "metadata": {
        "id": "BqdpQA71i5F2"
      },
      "id": "BqdpQA71i5F2"
    },
    {
      "cell_type": "code",
      "source": [
        "from google.colab import drive\n",
        "drive.mount('/content/drive')"
      ],
      "metadata": {
        "colab": {
          "base_uri": "https://localhost:8080/"
        },
        "id": "-ZFvno2LP6BZ",
        "outputId": "0a14d973-a4c6-4710-fbb2-fe36ba54ef37"
      },
      "id": "-ZFvno2LP6BZ",
      "execution_count": 1,
      "outputs": [
        {
          "output_type": "stream",
          "name": "stdout",
          "text": [
            "Mounted at /content/drive\n"
          ]
        }
      ]
    },
    {
      "cell_type": "markdown",
      "id": "c31c7ea4",
      "metadata": {
        "id": "c31c7ea4"
      },
      "source": [
        "#**importing libraries**"
      ]
    },
    {
      "cell_type": "code",
      "execution_count": 2,
      "id": "60f05339",
      "metadata": {
        "id": "60f05339"
      },
      "outputs": [],
      "source": [
        "# 'Numpy' is used for mathematical operations on large, multi-dimensional arrays and matrices\n",
        "import numpy as np\n",
        "# 'Pandas' is used for data manipulation and analysis\n",
        "import pandas as pd\n",
        "# 'Matplotlib' is a data visualization library for 2D and 3D plots, built on numpy\n",
        "from matplotlib import pyplot as plt\n",
        "# 'Seaborn' is based on matplotlib; used for plotting statistical graphics\n",
        "import seaborn as sns\n",
        "# 'Scikit-learn' (sklearn) emphasizes various regression, classification and clustering algorithms\n",
        "from sklearn import preprocessing"
      ]
    },
    {
      "cell_type": "markdown",
      "id": "1981145a",
      "metadata": {
        "id": "1981145a"
      },
      "source": [
        "#**importing dataset**"
      ]
    },
    {
      "cell_type": "code",
      "execution_count": 3,
      "id": "6a231dc8",
      "metadata": {
        "id": "6a231dc8",
        "outputId": "b1f639a2-bdad-4560-8bbf-3fe2f734b14a",
        "colab": {
          "base_uri": "https://localhost:8080/",
          "height": 206
        }
      },
      "outputs": [
        {
          "output_type": "execute_result",
          "data": {
            "text/plain": [
              "    age     sex  weight   bmi hereditary_diseases  no_of_dependents  smoker  \\\n",
              "0  60.0    male      64  24.3           NoDisease                 1       0   \n",
              "1  49.0  female      75  22.6           NoDisease                 1       0   \n",
              "2  32.0  female      64  17.8            Epilepsy                 2       1   \n",
              "3  61.0  female      53  36.4           NoDisease                 1       1   \n",
              "4  19.0  female      50  20.6           NoDisease                 0       0   \n",
              "\n",
              "          city  bloodpressure  diabetes  regular_ex    job_title    claim  \n",
              "0      NewYork             72         0           0        Actor  13112.6  \n",
              "1       Boston             78         1           1     Engineer   9567.0  \n",
              "2  Phildelphia             88         1           1  Academician  32734.2  \n",
              "3    Pittsburg             72         1           0         Chef  48517.6  \n",
              "4      Buffalo             82         1           0   HomeMakers   1731.7  "
            ],
            "text/html": [
              "\n",
              "  <div id=\"df-b0c1f530-e4da-4686-9da1-065a95ac113c\">\n",
              "    <div class=\"colab-df-container\">\n",
              "      <div>\n",
              "<style scoped>\n",
              "    .dataframe tbody tr th:only-of-type {\n",
              "        vertical-align: middle;\n",
              "    }\n",
              "\n",
              "    .dataframe tbody tr th {\n",
              "        vertical-align: top;\n",
              "    }\n",
              "\n",
              "    .dataframe thead th {\n",
              "        text-align: right;\n",
              "    }\n",
              "</style>\n",
              "<table border=\"1\" class=\"dataframe\">\n",
              "  <thead>\n",
              "    <tr style=\"text-align: right;\">\n",
              "      <th></th>\n",
              "      <th>age</th>\n",
              "      <th>sex</th>\n",
              "      <th>weight</th>\n",
              "      <th>bmi</th>\n",
              "      <th>hereditary_diseases</th>\n",
              "      <th>no_of_dependents</th>\n",
              "      <th>smoker</th>\n",
              "      <th>city</th>\n",
              "      <th>bloodpressure</th>\n",
              "      <th>diabetes</th>\n",
              "      <th>regular_ex</th>\n",
              "      <th>job_title</th>\n",
              "      <th>claim</th>\n",
              "    </tr>\n",
              "  </thead>\n",
              "  <tbody>\n",
              "    <tr>\n",
              "      <th>0</th>\n",
              "      <td>60.0</td>\n",
              "      <td>male</td>\n",
              "      <td>64</td>\n",
              "      <td>24.3</td>\n",
              "      <td>NoDisease</td>\n",
              "      <td>1</td>\n",
              "      <td>0</td>\n",
              "      <td>NewYork</td>\n",
              "      <td>72</td>\n",
              "      <td>0</td>\n",
              "      <td>0</td>\n",
              "      <td>Actor</td>\n",
              "      <td>13112.6</td>\n",
              "    </tr>\n",
              "    <tr>\n",
              "      <th>1</th>\n",
              "      <td>49.0</td>\n",
              "      <td>female</td>\n",
              "      <td>75</td>\n",
              "      <td>22.6</td>\n",
              "      <td>NoDisease</td>\n",
              "      <td>1</td>\n",
              "      <td>0</td>\n",
              "      <td>Boston</td>\n",
              "      <td>78</td>\n",
              "      <td>1</td>\n",
              "      <td>1</td>\n",
              "      <td>Engineer</td>\n",
              "      <td>9567.0</td>\n",
              "    </tr>\n",
              "    <tr>\n",
              "      <th>2</th>\n",
              "      <td>32.0</td>\n",
              "      <td>female</td>\n",
              "      <td>64</td>\n",
              "      <td>17.8</td>\n",
              "      <td>Epilepsy</td>\n",
              "      <td>2</td>\n",
              "      <td>1</td>\n",
              "      <td>Phildelphia</td>\n",
              "      <td>88</td>\n",
              "      <td>1</td>\n",
              "      <td>1</td>\n",
              "      <td>Academician</td>\n",
              "      <td>32734.2</td>\n",
              "    </tr>\n",
              "    <tr>\n",
              "      <th>3</th>\n",
              "      <td>61.0</td>\n",
              "      <td>female</td>\n",
              "      <td>53</td>\n",
              "      <td>36.4</td>\n",
              "      <td>NoDisease</td>\n",
              "      <td>1</td>\n",
              "      <td>1</td>\n",
              "      <td>Pittsburg</td>\n",
              "      <td>72</td>\n",
              "      <td>1</td>\n",
              "      <td>0</td>\n",
              "      <td>Chef</td>\n",
              "      <td>48517.6</td>\n",
              "    </tr>\n",
              "    <tr>\n",
              "      <th>4</th>\n",
              "      <td>19.0</td>\n",
              "      <td>female</td>\n",
              "      <td>50</td>\n",
              "      <td>20.6</td>\n",
              "      <td>NoDisease</td>\n",
              "      <td>0</td>\n",
              "      <td>0</td>\n",
              "      <td>Buffalo</td>\n",
              "      <td>82</td>\n",
              "      <td>1</td>\n",
              "      <td>0</td>\n",
              "      <td>HomeMakers</td>\n",
              "      <td>1731.7</td>\n",
              "    </tr>\n",
              "  </tbody>\n",
              "</table>\n",
              "</div>\n",
              "      <button class=\"colab-df-convert\" onclick=\"convertToInteractive('df-b0c1f530-e4da-4686-9da1-065a95ac113c')\"\n",
              "              title=\"Convert this dataframe to an interactive table.\"\n",
              "              style=\"display:none;\">\n",
              "        \n",
              "  <svg xmlns=\"http://www.w3.org/2000/svg\" height=\"24px\"viewBox=\"0 0 24 24\"\n",
              "       width=\"24px\">\n",
              "    <path d=\"M0 0h24v24H0V0z\" fill=\"none\"/>\n",
              "    <path d=\"M18.56 5.44l.94 2.06.94-2.06 2.06-.94-2.06-.94-.94-2.06-.94 2.06-2.06.94zm-11 1L8.5 8.5l.94-2.06 2.06-.94-2.06-.94L8.5 2.5l-.94 2.06-2.06.94zm10 10l.94 2.06.94-2.06 2.06-.94-2.06-.94-.94-2.06-.94 2.06-2.06.94z\"/><path d=\"M17.41 7.96l-1.37-1.37c-.4-.4-.92-.59-1.43-.59-.52 0-1.04.2-1.43.59L10.3 9.45l-7.72 7.72c-.78.78-.78 2.05 0 2.83L4 21.41c.39.39.9.59 1.41.59.51 0 1.02-.2 1.41-.59l7.78-7.78 2.81-2.81c.8-.78.8-2.07 0-2.86zM5.41 20L4 18.59l7.72-7.72 1.47 1.35L5.41 20z\"/>\n",
              "  </svg>\n",
              "      </button>\n",
              "      \n",
              "  <style>\n",
              "    .colab-df-container {\n",
              "      display:flex;\n",
              "      flex-wrap:wrap;\n",
              "      gap: 12px;\n",
              "    }\n",
              "\n",
              "    .colab-df-convert {\n",
              "      background-color: #E8F0FE;\n",
              "      border: none;\n",
              "      border-radius: 50%;\n",
              "      cursor: pointer;\n",
              "      display: none;\n",
              "      fill: #1967D2;\n",
              "      height: 32px;\n",
              "      padding: 0 0 0 0;\n",
              "      width: 32px;\n",
              "    }\n",
              "\n",
              "    .colab-df-convert:hover {\n",
              "      background-color: #E2EBFA;\n",
              "      box-shadow: 0px 1px 2px rgba(60, 64, 67, 0.3), 0px 1px 3px 1px rgba(60, 64, 67, 0.15);\n",
              "      fill: #174EA6;\n",
              "    }\n",
              "\n",
              "    [theme=dark] .colab-df-convert {\n",
              "      background-color: #3B4455;\n",
              "      fill: #D2E3FC;\n",
              "    }\n",
              "\n",
              "    [theme=dark] .colab-df-convert:hover {\n",
              "      background-color: #434B5C;\n",
              "      box-shadow: 0px 1px 3px 1px rgba(0, 0, 0, 0.15);\n",
              "      filter: drop-shadow(0px 1px 2px rgba(0, 0, 0, 0.3));\n",
              "      fill: #FFFFFF;\n",
              "    }\n",
              "  </style>\n",
              "\n",
              "      <script>\n",
              "        const buttonEl =\n",
              "          document.querySelector('#df-b0c1f530-e4da-4686-9da1-065a95ac113c button.colab-df-convert');\n",
              "        buttonEl.style.display =\n",
              "          google.colab.kernel.accessAllowed ? 'block' : 'none';\n",
              "\n",
              "        async function convertToInteractive(key) {\n",
              "          const element = document.querySelector('#df-b0c1f530-e4da-4686-9da1-065a95ac113c');\n",
              "          const dataTable =\n",
              "            await google.colab.kernel.invokeFunction('convertToInteractive',\n",
              "                                                     [key], {});\n",
              "          if (!dataTable) return;\n",
              "\n",
              "          const docLinkHtml = 'Like what you see? Visit the ' +\n",
              "            '<a target=\"_blank\" href=https://colab.research.google.com/notebooks/data_table.ipynb>data table notebook</a>'\n",
              "            + ' to learn more about interactive tables.';\n",
              "          element.innerHTML = '';\n",
              "          dataTable['output_type'] = 'display_data';\n",
              "          await google.colab.output.renderOutput(dataTable, element);\n",
              "          const docLink = document.createElement('div');\n",
              "          docLink.innerHTML = docLinkHtml;\n",
              "          element.appendChild(docLink);\n",
              "        }\n",
              "      </script>\n",
              "    </div>\n",
              "  </div>\n",
              "  "
            ]
          },
          "metadata": {},
          "execution_count": 3
        }
      ],
      "source": [
        "# read csv file using pandas\n",
        "ids = pd.read_csv(\"/content/drive/MyDrive/Academic_projects/DMMLT_project/healthinsurance.csv\")\n",
        "# display the top 5 rows of the dataframe\n",
        "ids.head()"
      ]
    },
    {
      "cell_type": "markdown",
      "source": [
        "#**Data Dimension**\n",
        "To know the dimensions of the data:"
      ],
      "metadata": {
        "id": "MDMY6sNXpQH7"
      },
      "id": "MDMY6sNXpQH7"
    },
    {
      "cell_type": "code",
      "source": [
        "# .shape returns the dimension of the data\n",
        "ids.shape"
      ],
      "metadata": {
        "id": "H3Sop-J4kyqT",
        "colab": {
          "base_uri": "https://localhost:8080/"
        },
        "outputId": "bc9963b7-ffb6-4dc6-dba9-791ac64d05b8"
      },
      "id": "H3Sop-J4kyqT",
      "execution_count": 4,
      "outputs": [
        {
          "output_type": "execute_result",
          "data": {
            "text/plain": [
              "(15000, 13)"
            ]
          },
          "metadata": {},
          "execution_count": 4
        }
      ]
    },
    {
      "cell_type": "markdown",
      "source": [
        "We see the dataframe has 13 columns and 15000 observations."
      ],
      "metadata": {
        "id": "bYOxLR52pdU5"
      },
      "id": "bYOxLR52pdU5"
    },
    {
      "cell_type": "markdown",
      "source": [
        "#**Data Types**\n",
        "Data has a variety of data types. The main types stored in pandas dataframes are object, float, int64, bool and datetime64. In order to learn about each attribute, it is always good for us to know the data type of each column.\n",
        "##**checking data types**"
      ],
      "metadata": {
        "id": "tuWTIiAYp693"
      },
      "id": "tuWTIiAYp693"
    },
    {
      "cell_type": "code",
      "source": [
        "# use .dtypes to view the data type of a variable\n",
        "ids.dtypes"
      ],
      "metadata": {
        "colab": {
          "base_uri": "https://localhost:8080/"
        },
        "id": "vKOIXtGvp6po",
        "outputId": "42b20388-22f2-4425-af2f-d2e323045e98"
      },
      "id": "vKOIXtGvp6po",
      "execution_count": 5,
      "outputs": [
        {
          "output_type": "execute_result",
          "data": {
            "text/plain": [
              "age                    float64\n",
              "sex                     object\n",
              "weight                   int64\n",
              "bmi                    float64\n",
              "hereditary_diseases     object\n",
              "no_of_dependents         int64\n",
              "smoker                   int64\n",
              "city                    object\n",
              "bloodpressure            int64\n",
              "diabetes                 int64\n",
              "regular_ex               int64\n",
              "job_title               object\n",
              "claim                  float64\n",
              "dtype: object"
            ]
          },
          "metadata": {},
          "execution_count": 5
        }
      ]
    },
    {
      "cell_type": "markdown",
      "source": [
        "##**Change the incorrect data types**"
      ],
      "metadata": {
        "id": "wRUDpAhgqetg"
      },
      "id": "wRUDpAhgqetg"
    },
    {
      "cell_type": "code",
      "source": [
        "# use .astype() to change the data type\n",
        "# convert numerical variables to categorical  \n",
        "\n",
        "# convert numeric variable 'smoker' to object (categorical) variable\n",
        "ids.smoker = ids.smoker.astype('object')\n",
        "\n",
        "# convert numeric variable 'diabetes' to object (categorical) variable\n",
        "ids.diabetes = ids.diabetes.astype('object')\n",
        "\n",
        "# convert 'regular_ex' variable to object (categorical) variable\n",
        "ids.regular_ex = ids.regular_ex.astype('object')"
      ],
      "metadata": {
        "id": "FD37kgyqqzR7"
      },
      "id": "FD37kgyqqzR7",
      "execution_count": 6,
      "outputs": []
    },
    {
      "cell_type": "markdown",
      "source": [
        "##**Recheck the data types after the conversion**"
      ],
      "metadata": {
        "id": "Zde05uEsrbcU"
      },
      "id": "Zde05uEsrbcU"
    },
    {
      "cell_type": "code",
      "source": [
        "# recheck the data types using .dtypes\n",
        "ids.dtypes"
      ],
      "metadata": {
        "colab": {
          "base_uri": "https://localhost:8080/"
        },
        "id": "pmibfucRr4FF",
        "outputId": "35bdc40d-b409-40ad-a0eb-77c26398db43"
      },
      "id": "pmibfucRr4FF",
      "execution_count": 7,
      "outputs": [
        {
          "output_type": "execute_result",
          "data": {
            "text/plain": [
              "age                    float64\n",
              "sex                     object\n",
              "weight                   int64\n",
              "bmi                    float64\n",
              "hereditary_diseases     object\n",
              "no_of_dependents         int64\n",
              "smoker                  object\n",
              "city                    object\n",
              "bloodpressure            int64\n",
              "diabetes                object\n",
              "regular_ex              object\n",
              "job_title               object\n",
              "claim                  float64\n",
              "dtype: object"
            ]
          },
          "metadata": {},
          "execution_count": 7
        }
      ]
    },
    {
      "cell_type": "markdown",
      "source": [
        "Note the data types are now as per the data definition. Now we can proceed with the analysis.\n",
        "#**summary statistics**\n",
        "\n",
        "####**1)for numerical variables we use .describe()**"
      ],
      "metadata": {
        "id": "Sl-p-bNxsGkH"
      },
      "id": "Sl-p-bNxsGkH"
    },
    {
      "cell_type": "code",
      "execution_count": 8,
      "id": "32c3809c",
      "metadata": {
        "id": "32c3809c",
        "outputId": "2329d938-ab18-4b31-aa46-aa0cb9e319bc",
        "colab": {
          "base_uri": "https://localhost:8080/",
          "height": 300
        }
      },
      "outputs": [
        {
          "output_type": "execute_result",
          "data": {
            "text/plain": [
              "                age        weight           bmi  no_of_dependents  \\\n",
              "count  14604.000000  15000.000000  14044.000000      15000.000000   \n",
              "mean      39.547521     64.909600     30.266413          1.129733   \n",
              "std       14.015966     13.701935      6.122950          1.228469   \n",
              "min       18.000000     34.000000     16.000000          0.000000   \n",
              "25%       27.000000     54.000000     25.700000          0.000000   \n",
              "50%       40.000000     63.000000     29.400000          1.000000   \n",
              "75%       52.000000     76.000000     34.400000          2.000000   \n",
              "max       64.000000     95.000000     53.100000          5.000000   \n",
              "\n",
              "       bloodpressure         claim  \n",
              "count   15000.000000  15000.000000  \n",
              "mean       68.650133  13401.437620  \n",
              "std        19.418515  12148.239619  \n",
              "min         0.000000   1121.900000  \n",
              "25%        64.000000   4846.900000  \n",
              "50%        71.000000   9545.650000  \n",
              "75%        80.000000  16519.125000  \n",
              "max       122.000000  63770.400000  "
            ],
            "text/html": [
              "\n",
              "  <div id=\"df-5d7b01be-97c5-4a6e-84c7-6d258a64242f\">\n",
              "    <div class=\"colab-df-container\">\n",
              "      <div>\n",
              "<style scoped>\n",
              "    .dataframe tbody tr th:only-of-type {\n",
              "        vertical-align: middle;\n",
              "    }\n",
              "\n",
              "    .dataframe tbody tr th {\n",
              "        vertical-align: top;\n",
              "    }\n",
              "\n",
              "    .dataframe thead th {\n",
              "        text-align: right;\n",
              "    }\n",
              "</style>\n",
              "<table border=\"1\" class=\"dataframe\">\n",
              "  <thead>\n",
              "    <tr style=\"text-align: right;\">\n",
              "      <th></th>\n",
              "      <th>age</th>\n",
              "      <th>weight</th>\n",
              "      <th>bmi</th>\n",
              "      <th>no_of_dependents</th>\n",
              "      <th>bloodpressure</th>\n",
              "      <th>claim</th>\n",
              "    </tr>\n",
              "  </thead>\n",
              "  <tbody>\n",
              "    <tr>\n",
              "      <th>count</th>\n",
              "      <td>14604.000000</td>\n",
              "      <td>15000.000000</td>\n",
              "      <td>14044.000000</td>\n",
              "      <td>15000.000000</td>\n",
              "      <td>15000.000000</td>\n",
              "      <td>15000.000000</td>\n",
              "    </tr>\n",
              "    <tr>\n",
              "      <th>mean</th>\n",
              "      <td>39.547521</td>\n",
              "      <td>64.909600</td>\n",
              "      <td>30.266413</td>\n",
              "      <td>1.129733</td>\n",
              "      <td>68.650133</td>\n",
              "      <td>13401.437620</td>\n",
              "    </tr>\n",
              "    <tr>\n",
              "      <th>std</th>\n",
              "      <td>14.015966</td>\n",
              "      <td>13.701935</td>\n",
              "      <td>6.122950</td>\n",
              "      <td>1.228469</td>\n",
              "      <td>19.418515</td>\n",
              "      <td>12148.239619</td>\n",
              "    </tr>\n",
              "    <tr>\n",
              "      <th>min</th>\n",
              "      <td>18.000000</td>\n",
              "      <td>34.000000</td>\n",
              "      <td>16.000000</td>\n",
              "      <td>0.000000</td>\n",
              "      <td>0.000000</td>\n",
              "      <td>1121.900000</td>\n",
              "    </tr>\n",
              "    <tr>\n",
              "      <th>25%</th>\n",
              "      <td>27.000000</td>\n",
              "      <td>54.000000</td>\n",
              "      <td>25.700000</td>\n",
              "      <td>0.000000</td>\n",
              "      <td>64.000000</td>\n",
              "      <td>4846.900000</td>\n",
              "    </tr>\n",
              "    <tr>\n",
              "      <th>50%</th>\n",
              "      <td>40.000000</td>\n",
              "      <td>63.000000</td>\n",
              "      <td>29.400000</td>\n",
              "      <td>1.000000</td>\n",
              "      <td>71.000000</td>\n",
              "      <td>9545.650000</td>\n",
              "    </tr>\n",
              "    <tr>\n",
              "      <th>75%</th>\n",
              "      <td>52.000000</td>\n",
              "      <td>76.000000</td>\n",
              "      <td>34.400000</td>\n",
              "      <td>2.000000</td>\n",
              "      <td>80.000000</td>\n",
              "      <td>16519.125000</td>\n",
              "    </tr>\n",
              "    <tr>\n",
              "      <th>max</th>\n",
              "      <td>64.000000</td>\n",
              "      <td>95.000000</td>\n",
              "      <td>53.100000</td>\n",
              "      <td>5.000000</td>\n",
              "      <td>122.000000</td>\n",
              "      <td>63770.400000</td>\n",
              "    </tr>\n",
              "  </tbody>\n",
              "</table>\n",
              "</div>\n",
              "      <button class=\"colab-df-convert\" onclick=\"convertToInteractive('df-5d7b01be-97c5-4a6e-84c7-6d258a64242f')\"\n",
              "              title=\"Convert this dataframe to an interactive table.\"\n",
              "              style=\"display:none;\">\n",
              "        \n",
              "  <svg xmlns=\"http://www.w3.org/2000/svg\" height=\"24px\"viewBox=\"0 0 24 24\"\n",
              "       width=\"24px\">\n",
              "    <path d=\"M0 0h24v24H0V0z\" fill=\"none\"/>\n",
              "    <path d=\"M18.56 5.44l.94 2.06.94-2.06 2.06-.94-2.06-.94-.94-2.06-.94 2.06-2.06.94zm-11 1L8.5 8.5l.94-2.06 2.06-.94-2.06-.94L8.5 2.5l-.94 2.06-2.06.94zm10 10l.94 2.06.94-2.06 2.06-.94-2.06-.94-.94-2.06-.94 2.06-2.06.94z\"/><path d=\"M17.41 7.96l-1.37-1.37c-.4-.4-.92-.59-1.43-.59-.52 0-1.04.2-1.43.59L10.3 9.45l-7.72 7.72c-.78.78-.78 2.05 0 2.83L4 21.41c.39.39.9.59 1.41.59.51 0 1.02-.2 1.41-.59l7.78-7.78 2.81-2.81c.8-.78.8-2.07 0-2.86zM5.41 20L4 18.59l7.72-7.72 1.47 1.35L5.41 20z\"/>\n",
              "  </svg>\n",
              "      </button>\n",
              "      \n",
              "  <style>\n",
              "    .colab-df-container {\n",
              "      display:flex;\n",
              "      flex-wrap:wrap;\n",
              "      gap: 12px;\n",
              "    }\n",
              "\n",
              "    .colab-df-convert {\n",
              "      background-color: #E8F0FE;\n",
              "      border: none;\n",
              "      border-radius: 50%;\n",
              "      cursor: pointer;\n",
              "      display: none;\n",
              "      fill: #1967D2;\n",
              "      height: 32px;\n",
              "      padding: 0 0 0 0;\n",
              "      width: 32px;\n",
              "    }\n",
              "\n",
              "    .colab-df-convert:hover {\n",
              "      background-color: #E2EBFA;\n",
              "      box-shadow: 0px 1px 2px rgba(60, 64, 67, 0.3), 0px 1px 3px 1px rgba(60, 64, 67, 0.15);\n",
              "      fill: #174EA6;\n",
              "    }\n",
              "\n",
              "    [theme=dark] .colab-df-convert {\n",
              "      background-color: #3B4455;\n",
              "      fill: #D2E3FC;\n",
              "    }\n",
              "\n",
              "    [theme=dark] .colab-df-convert:hover {\n",
              "      background-color: #434B5C;\n",
              "      box-shadow: 0px 1px 3px 1px rgba(0, 0, 0, 0.15);\n",
              "      filter: drop-shadow(0px 1px 2px rgba(0, 0, 0, 0.3));\n",
              "      fill: #FFFFFF;\n",
              "    }\n",
              "  </style>\n",
              "\n",
              "      <script>\n",
              "        const buttonEl =\n",
              "          document.querySelector('#df-5d7b01be-97c5-4a6e-84c7-6d258a64242f button.colab-df-convert');\n",
              "        buttonEl.style.display =\n",
              "          google.colab.kernel.accessAllowed ? 'block' : 'none';\n",
              "\n",
              "        async function convertToInteractive(key) {\n",
              "          const element = document.querySelector('#df-5d7b01be-97c5-4a6e-84c7-6d258a64242f');\n",
              "          const dataTable =\n",
              "            await google.colab.kernel.invokeFunction('convertToInteractive',\n",
              "                                                     [key], {});\n",
              "          if (!dataTable) return;\n",
              "\n",
              "          const docLinkHtml = 'Like what you see? Visit the ' +\n",
              "            '<a target=\"_blank\" href=https://colab.research.google.com/notebooks/data_table.ipynb>data table notebook</a>'\n",
              "            + ' to learn more about interactive tables.';\n",
              "          element.innerHTML = '';\n",
              "          dataTable['output_type'] = 'display_data';\n",
              "          await google.colab.output.renderOutput(dataTable, element);\n",
              "          const docLink = document.createElement('div');\n",
              "          docLink.innerHTML = docLinkHtml;\n",
              "          element.appendChild(docLink);\n",
              "        }\n",
              "      </script>\n",
              "    </div>\n",
              "  </div>\n",
              "  "
            ]
          },
          "metadata": {},
          "execution_count": 8
        }
      ],
      "source": [
        "# describe the numerical data\n",
        "ids.describe()"
      ]
    },
    {
      "cell_type": "markdown",
      "source": [
        " **2)For categorical features, we use .describe(include=object)**"
      ],
      "metadata": {
        "id": "VyKieht_tFwn"
      },
      "id": "VyKieht_tFwn"
    },
    {
      "cell_type": "code",
      "source": [
        "# describe the categorical data\n",
        "# include=object: selects the categorical features\n",
        "ids.describe(include = object)\n",
        "\n",
        "# Note: If we pass 'include=object' to the .describe(),\n",
        "#       it will return descriptive statistics for categorical variables only"
      ],
      "metadata": {
        "colab": {
          "base_uri": "https://localhost:8080/",
          "height": 175
        },
        "id": "0QFAodIbtVDJ",
        "outputId": "25a11eed-beda-45db-df71-80309da29c4a"
      },
      "id": "0QFAodIbtVDJ",
      "execution_count": 9,
      "outputs": [
        {
          "output_type": "execute_result",
          "data": {
            "text/plain": [
              "           sex hereditary_diseases  smoker        city  diabetes  regular_ex  \\\n",
              "count    15000               15000   15000       15000     15000       15000   \n",
              "unique       2                  10       2          91         2           2   \n",
              "top     female           NoDisease       0  NewOrleans         1           0   \n",
              "freq      7652               13998   12028         302     11655       11638   \n",
              "\n",
              "       job_title  \n",
              "count      15000  \n",
              "unique        35  \n",
              "top      Student  \n",
              "freq        1320  "
            ],
            "text/html": [
              "\n",
              "  <div id=\"df-451c4ee8-aeab-47af-a818-bba8fecec081\">\n",
              "    <div class=\"colab-df-container\">\n",
              "      <div>\n",
              "<style scoped>\n",
              "    .dataframe tbody tr th:only-of-type {\n",
              "        vertical-align: middle;\n",
              "    }\n",
              "\n",
              "    .dataframe tbody tr th {\n",
              "        vertical-align: top;\n",
              "    }\n",
              "\n",
              "    .dataframe thead th {\n",
              "        text-align: right;\n",
              "    }\n",
              "</style>\n",
              "<table border=\"1\" class=\"dataframe\">\n",
              "  <thead>\n",
              "    <tr style=\"text-align: right;\">\n",
              "      <th></th>\n",
              "      <th>sex</th>\n",
              "      <th>hereditary_diseases</th>\n",
              "      <th>smoker</th>\n",
              "      <th>city</th>\n",
              "      <th>diabetes</th>\n",
              "      <th>regular_ex</th>\n",
              "      <th>job_title</th>\n",
              "    </tr>\n",
              "  </thead>\n",
              "  <tbody>\n",
              "    <tr>\n",
              "      <th>count</th>\n",
              "      <td>15000</td>\n",
              "      <td>15000</td>\n",
              "      <td>15000</td>\n",
              "      <td>15000</td>\n",
              "      <td>15000</td>\n",
              "      <td>15000</td>\n",
              "      <td>15000</td>\n",
              "    </tr>\n",
              "    <tr>\n",
              "      <th>unique</th>\n",
              "      <td>2</td>\n",
              "      <td>10</td>\n",
              "      <td>2</td>\n",
              "      <td>91</td>\n",
              "      <td>2</td>\n",
              "      <td>2</td>\n",
              "      <td>35</td>\n",
              "    </tr>\n",
              "    <tr>\n",
              "      <th>top</th>\n",
              "      <td>female</td>\n",
              "      <td>NoDisease</td>\n",
              "      <td>0</td>\n",
              "      <td>NewOrleans</td>\n",
              "      <td>1</td>\n",
              "      <td>0</td>\n",
              "      <td>Student</td>\n",
              "    </tr>\n",
              "    <tr>\n",
              "      <th>freq</th>\n",
              "      <td>7652</td>\n",
              "      <td>13998</td>\n",
              "      <td>12028</td>\n",
              "      <td>302</td>\n",
              "      <td>11655</td>\n",
              "      <td>11638</td>\n",
              "      <td>1320</td>\n",
              "    </tr>\n",
              "  </tbody>\n",
              "</table>\n",
              "</div>\n",
              "      <button class=\"colab-df-convert\" onclick=\"convertToInteractive('df-451c4ee8-aeab-47af-a818-bba8fecec081')\"\n",
              "              title=\"Convert this dataframe to an interactive table.\"\n",
              "              style=\"display:none;\">\n",
              "        \n",
              "  <svg xmlns=\"http://www.w3.org/2000/svg\" height=\"24px\"viewBox=\"0 0 24 24\"\n",
              "       width=\"24px\">\n",
              "    <path d=\"M0 0h24v24H0V0z\" fill=\"none\"/>\n",
              "    <path d=\"M18.56 5.44l.94 2.06.94-2.06 2.06-.94-2.06-.94-.94-2.06-.94 2.06-2.06.94zm-11 1L8.5 8.5l.94-2.06 2.06-.94-2.06-.94L8.5 2.5l-.94 2.06-2.06.94zm10 10l.94 2.06.94-2.06 2.06-.94-2.06-.94-.94-2.06-.94 2.06-2.06.94z\"/><path d=\"M17.41 7.96l-1.37-1.37c-.4-.4-.92-.59-1.43-.59-.52 0-1.04.2-1.43.59L10.3 9.45l-7.72 7.72c-.78.78-.78 2.05 0 2.83L4 21.41c.39.39.9.59 1.41.59.51 0 1.02-.2 1.41-.59l7.78-7.78 2.81-2.81c.8-.78.8-2.07 0-2.86zM5.41 20L4 18.59l7.72-7.72 1.47 1.35L5.41 20z\"/>\n",
              "  </svg>\n",
              "      </button>\n",
              "      \n",
              "  <style>\n",
              "    .colab-df-container {\n",
              "      display:flex;\n",
              "      flex-wrap:wrap;\n",
              "      gap: 12px;\n",
              "    }\n",
              "\n",
              "    .colab-df-convert {\n",
              "      background-color: #E8F0FE;\n",
              "      border: none;\n",
              "      border-radius: 50%;\n",
              "      cursor: pointer;\n",
              "      display: none;\n",
              "      fill: #1967D2;\n",
              "      height: 32px;\n",
              "      padding: 0 0 0 0;\n",
              "      width: 32px;\n",
              "    }\n",
              "\n",
              "    .colab-df-convert:hover {\n",
              "      background-color: #E2EBFA;\n",
              "      box-shadow: 0px 1px 2px rgba(60, 64, 67, 0.3), 0px 1px 3px 1px rgba(60, 64, 67, 0.15);\n",
              "      fill: #174EA6;\n",
              "    }\n",
              "\n",
              "    [theme=dark] .colab-df-convert {\n",
              "      background-color: #3B4455;\n",
              "      fill: #D2E3FC;\n",
              "    }\n",
              "\n",
              "    [theme=dark] .colab-df-convert:hover {\n",
              "      background-color: #434B5C;\n",
              "      box-shadow: 0px 1px 3px 1px rgba(0, 0, 0, 0.15);\n",
              "      filter: drop-shadow(0px 1px 2px rgba(0, 0, 0, 0.3));\n",
              "      fill: #FFFFFF;\n",
              "    }\n",
              "  </style>\n",
              "\n",
              "      <script>\n",
              "        const buttonEl =\n",
              "          document.querySelector('#df-451c4ee8-aeab-47af-a818-bba8fecec081 button.colab-df-convert');\n",
              "        buttonEl.style.display =\n",
              "          google.colab.kernel.accessAllowed ? 'block' : 'none';\n",
              "\n",
              "        async function convertToInteractive(key) {\n",
              "          const element = document.querySelector('#df-451c4ee8-aeab-47af-a818-bba8fecec081');\n",
              "          const dataTable =\n",
              "            await google.colab.kernel.invokeFunction('convertToInteractive',\n",
              "                                                     [key], {});\n",
              "          if (!dataTable) return;\n",
              "\n",
              "          const docLinkHtml = 'Like what you see? Visit the ' +\n",
              "            '<a target=\"_blank\" href=https://colab.research.google.com/notebooks/data_table.ipynb>data table notebook</a>'\n",
              "            + ' to learn more about interactive tables.';\n",
              "          element.innerHTML = '';\n",
              "          dataTable['output_type'] = 'display_data';\n",
              "          await google.colab.output.renderOutput(dataTable, element);\n",
              "          const docLink = document.createElement('div');\n",
              "          docLink.innerHTML = docLinkHtml;\n",
              "          element.appendChild(docLink);\n",
              "        }\n",
              "      </script>\n",
              "    </div>\n",
              "  </div>\n",
              "  "
            ]
          },
          "metadata": {},
          "execution_count": 9
        }
      ]
    },
    {
      "cell_type": "markdown",
      "source": [
        "#**Exploratory Data Analysis**\n",
        "##Checking the distributions of numerical variables"
      ],
      "metadata": {
        "id": "0bJQ-0J8WD-X"
      },
      "id": "0bJQ-0J8WD-X"
    },
    {
      "cell_type": "code",
      "execution_count": 10,
      "id": "106d35f3",
      "metadata": {
        "id": "106d35f3",
        "outputId": "3ed0b314-c3d9-49bc-c563-69710db5e190",
        "colab": {
          "base_uri": "https://localhost:8080/",
          "height": 265
        }
      },
      "outputs": [
        {
          "output_type": "display_data",
          "data": {
            "text/plain": [
              "<Figure size 432x288 with 1 Axes>"
            ],
            "image/png": "[encoded data removed]"
          },
          "metadata": {
            "needs_background": "light"
          }
        }
      ],
      "source": [
        "plt.hist(x=ids['age'],bins= 20)\n",
        "plt.show()"
      ]
    },
    {
      "cell_type": "code",
      "execution_count": 11,
      "id": "01c66a19",
      "metadata": {
        "id": "01c66a19",
        "outputId": "addf8bff-3825-403d-e637-46eddf30944a",
        "colab": {
          "base_uri": "https://localhost:8080/",
          "height": 282
        }
      },
      "outputs": [
        {
          "output_type": "execute_result",
          "data": {
            "text/plain": [
              "<matplotlib.collections.PathCollection at 0x7f747ec40b20>"
            ]
          },
          "metadata": {},
          "execution_count": 11
        },
        {
          "output_type": "display_data",
          "data": {
            "text/plain": [
              "<Figure size 432x288 with 1 Axes>"
            ],
            "image/png": "[encoded data removed]"
          },
          "metadata": {
            "needs_background": "light"
          }
        }
      ],
      "source": [
        "plt.scatter(x=ids['age'],y= ids[\"claim\"])"
      ]
    },
    {
      "cell_type": "code",
      "execution_count": 12,
      "id": "5ef75331",
      "metadata": {
        "id": "5ef75331",
        "outputId": "f64b35fe-3dfa-4998-f736-148715d00e73",
        "colab": {
          "base_uri": "https://localhost:8080/",
          "height": 265
        }
      },
      "outputs": [
        {
          "output_type": "display_data",
          "data": {
            "text/plain": [
              "<Figure size 432x288 with 1 Axes>"
            ],
            "image/png": "[encoded data removed]"
          },
          "metadata": {
            "needs_background": "light"
          }
        }
      ],
      "source": [
        "#weight distn\n",
        "plt.hist(x=ids['weight'],bins= 15)\n",
        "plt.show()"
      ]
    },
    {
      "cell_type": "code",
      "execution_count": 13,
      "id": "d3b4a363",
      "metadata": {
        "id": "d3b4a363",
        "outputId": "80386e91-7636-47ce-aa2c-79810d80f6af",
        "colab": {
          "base_uri": "https://localhost:8080/",
          "height": 282
        }
      },
      "outputs": [
        {
          "output_type": "execute_result",
          "data": {
            "text/plain": [
              "<matplotlib.collections.PathCollection at 0x7f747eb98ca0>"
            ]
          },
          "metadata": {},
          "execution_count": 13
        },
        {
          "output_type": "display_data",
          "data": {
            "text/plain": [
              "<Figure size 432x288 with 1 Axes>"
            ],
            "image/png": "[encoded data removed]"
          },
          "metadata": {
            "needs_background": "light"
          }
        }
      ],
      "source": [
        "plt.scatter(x=ids['weight'],y= ids[\"claim\"])"
      ]
    },
    {
      "cell_type": "code",
      "execution_count": 14,
      "id": "ede2c21b",
      "metadata": {
        "id": "ede2c21b",
        "outputId": "00907bba-fa37-473e-8e88-673c64a68f2c",
        "colab": {
          "base_uri": "https://localhost:8080/",
          "height": 265
        }
      },
      "outputs": [
        {
          "output_type": "display_data",
          "data": {
            "text/plain": [
              "<Figure size 432x288 with 1 Axes>"
            ],
            "image/png": "[encoded data removed]"
          },
          "metadata": {
            "needs_background": "light"
          }
        }
      ],
      "source": [
        "#bmi distn\n",
        "plt.hist(x=ids['bmi'],bins= 20)\n",
        "plt.show()"
      ]
    },
    {
      "cell_type": "code",
      "execution_count": 15,
      "id": "7997c5ed",
      "metadata": {
        "id": "7997c5ed",
        "outputId": "db6ad696-79be-49da-dcc8-310fc4debe0a",
        "colab": {
          "base_uri": "https://localhost:8080/",
          "height": 282
        }
      },
      "outputs": [
        {
          "output_type": "execute_result",
          "data": {
            "text/plain": [
              "<matplotlib.collections.PathCollection at 0x7f747eb10b20>"
            ]
          },
          "metadata": {},
          "execution_count": 15
        },
        {
          "output_type": "display_data",
          "data": {
            "text/plain": [
              "<Figure size 432x288 with 1 Axes>"
            ],
            "image/png": "[encoded data removed]"
          },
          "metadata": {
            "needs_background": "light"
          }
        }
      ],
      "source": [
        "plt.scatter(x=ids['weight'],y= ids[\"claim\"])"
      ]
    },
    {
      "cell_type": "code",
      "execution_count": 16,
      "id": "787d5862",
      "metadata": {
        "id": "787d5862",
        "outputId": "2066c2b6-6b9a-4108-c82c-a65e18f97a36",
        "colab": {
          "base_uri": "https://localhost:8080/",
          "height": 265
        }
      },
      "outputs": [
        {
          "output_type": "display_data",
          "data": {
            "text/plain": [
              "<Figure size 432x288 with 1 Axes>"
            ],
            "image/png": "[encoded data removed]"
          },
          "metadata": {
            "needs_background": "light"
          }
        }
      ],
      "source": [
        "#bloodpressure distn\n",
        "plt.hist(x=ids['bloodpressure'],bins= 20)\n",
        "plt.show()"
      ]
    },
    {
      "cell_type": "code",
      "execution_count": 17,
      "id": "cd92cdce",
      "metadata": {
        "id": "cd92cdce",
        "outputId": "1de68289-a727-452b-d651-97b26ff7536c",
        "colab": {
          "base_uri": "https://localhost:8080/",
          "height": 282
        }
      },
      "outputs": [
        {
          "output_type": "execute_result",
          "data": {
            "text/plain": [
              "<matplotlib.collections.PathCollection at 0x7f747e9feac0>"
            ]
          },
          "metadata": {},
          "execution_count": 17
        },
        {
          "output_type": "display_data",
          "data": {
            "text/plain": [
              "<Figure size 432x288 with 1 Axes>"
            ],
            "image/png": "[encoded data removed]"
          },
          "metadata": {
            "needs_background": "light"
          }
        }
      ],
      "source": [
        "plt.scatter(x=ids['bloodpressure'],y= ids[\"claim\"])"
      ]
    },
    {
      "cell_type": "code",
      "execution_count": 18,
      "id": "5fb67ef3",
      "metadata": {
        "id": "5fb67ef3",
        "outputId": "fb7267ec-9faa-4965-b9b3-d6034ca3b635",
        "colab": {
          "base_uri": "https://localhost:8080/",
          "height": 265
        }
      },
      "outputs": [
        {
          "output_type": "display_data",
          "data": {
            "text/plain": [
              "<Figure size 432x288 with 1 Axes>"
            ],
            "image/png": "[encoded data removed]"
          },
          "metadata": {
            "needs_background": "light"
          }
        }
      ],
      "source": [
        "#claim col distn\n",
        "plt.hist(x=ids['claim'],bins= 20)\n",
        "plt.show()"
      ]
    },
    {
      "cell_type": "markdown",
      "source": [
        "NOTE: Claim is postively skewed, so will apply log transformation at a later date"
      ],
      "metadata": {
        "id": "TOf-AH8DX7Qp"
      },
      "id": "TOf-AH8DX7Qp"
    },
    {
      "cell_type": "markdown",
      "source": [
        "#**Checking categorical variables**"
      ],
      "metadata": {
        "id": "B2mU1QgOYC5O"
      },
      "id": "B2mU1QgOYC5O"
    },
    {
      "cell_type": "code",
      "execution_count": 19,
      "id": "87447c65",
      "metadata": {
        "id": "87447c65",
        "outputId": "95a2647c-985c-485f-8ac2-25ba9203903f",
        "colab": {
          "base_uri": "https://localhost:8080/",
          "height": 391
        }
      },
      "outputs": [
        {
          "output_type": "display_data",
          "data": {
            "text/plain": [
              "<Figure size 432x432 with 1 Axes>"
            ],
            "image/png": "[encoded data removed]"
          },
          "metadata": {
            "needs_background": "light"
          }
        }
      ],
      "source": [
        "#sex distn\n",
        "#bar plot\n",
        "plt.figure(figsize = (6,6))\n",
        "sns.countplot(x=\"sex\",data= ids)\n",
        "plt.show()"
      ]
    },
    {
      "cell_type": "code",
      "execution_count": 20,
      "id": "a43ea4cb",
      "metadata": {
        "id": "a43ea4cb",
        "outputId": "db4d9576-5c61-4c2a-9da9-52481151a1ea",
        "colab": {
          "base_uri": "https://localhost:8080/",
          "height": 389
        }
      },
      "outputs": [
        {
          "output_type": "display_data",
          "data": {
            "text/plain": [
              "<Figure size 1080x432 with 1 Axes>"
            ],
            "image/png": "[encoded data removed]"
          },
          "metadata": {
            "needs_background": "light"
          }
        }
      ],
      "source": [
        "#hereditary_diseases distn\n",
        "plt.figure(figsize = (15,6))\n",
        "sns.countplot(x=\"hereditary_diseases\",data= ids)\n",
        "plt.show()"
      ]
    },
    {
      "cell_type": "code",
      "execution_count": 21,
      "id": "de38b134",
      "metadata": {
        "id": "de38b134",
        "outputId": "816bcb06-5c76-4bc1-99a3-4b13d4a2dff5",
        "colab": {
          "base_uri": "https://localhost:8080/",
          "height": 389
        }
      },
      "outputs": [
        {
          "output_type": "display_data",
          "data": {
            "text/plain": [
              "<Figure size 432x432 with 1 Axes>"
            ],
            "image/png": "[encoded data removed]"
          },
          "metadata": {
            "needs_background": "light"
          }
        }
      ],
      "source": [
        "#no_of_dependents distn\n",
        "plt.figure(figsize = (6,6))\n",
        "sns.countplot(x=\"no_of_dependents\",data= ids)\n",
        "plt.show()"
      ]
    },
    {
      "cell_type": "code",
      "execution_count": 22,
      "id": "d65fb733",
      "metadata": {
        "id": "d65fb733",
        "outputId": "3752377c-f1cd-443e-ecd8-9a16cc11d8b7",
        "colab": {
          "base_uri": "https://localhost:8080/",
          "height": 388
        }
      },
      "outputs": [
        {
          "output_type": "display_data",
          "data": {
            "text/plain": [
              "<Figure size 432x432 with 1 Axes>"
            ],
            "image/png": "[encoded data removed]"
          },
          "metadata": {
            "needs_background": "light"
          }
        }
      ],
      "source": [
        "#smoker distn\n",
        "plt.figure(figsize = (6,6))\n",
        "sns.countplot(x=\"smoker\",data= ids)\n",
        "plt.show()"
      ]
    },
    {
      "cell_type": "code",
      "execution_count": 23,
      "id": "0c24519a",
      "metadata": {
        "id": "0c24519a",
        "outputId": "1fd144b1-843a-4cea-fb14-ccda39f8bcfa",
        "colab": {
          "base_uri": "https://localhost:8080/",
          "height": 388
        }
      },
      "outputs": [
        {
          "output_type": "display_data",
          "data": {
            "text/plain": [
              "<Figure size 432x432 with 1 Axes>"
            ],
            "image/png": "[encoded data removed]"
          },
          "metadata": {
            "needs_background": "light"
          }
        }
      ],
      "source": [
        "#diabetes distn \n",
        "plt.figure(figsize = (6,6))\n",
        "sns.countplot(x=\"diabetes\",data= ids)\n",
        "plt.show()"
      ]
    },
    {
      "cell_type": "code",
      "execution_count": 24,
      "id": "3bc11420",
      "metadata": {
        "id": "3bc11420",
        "outputId": "09050581-3ed1-4fb9-d70a-7438f47898ff",
        "colab": {
          "base_uri": "https://localhost:8080/",
          "height": 389
        }
      },
      "outputs": [
        {
          "output_type": "display_data",
          "data": {
            "text/plain": [
              "<Figure size 432x432 with 1 Axes>"
            ],
            "image/png": "[encoded data removed]"
          },
          "metadata": {
            "needs_background": "light"
          }
        }
      ],
      "source": [
        "#regular_ex distn\n",
        "plt.figure(figsize = (6,6))\n",
        "sns.countplot(x=\"regular_ex\",data= ids)\n",
        "plt.show()"
      ]
    },
    {
      "cell_type": "code",
      "execution_count": 25,
      "id": "5c77b021",
      "metadata": {
        "id": "5c77b021",
        "outputId": "593c1ddf-b5fa-41d2-a1db-8309893c9478",
        "colab": {
          "base_uri": "https://localhost:8080/",
          "height": 375
        }
      },
      "outputs": [
        {
          "output_type": "display_data",
          "data": {
            "text/plain": [
              "<Figure size 1800x432 with 1 Axes>"
            ],
            "image/png": "[encoded data removed]"
          },
          "metadata": {
            "needs_background": "light"
          }
        }
      ],
      "source": [
        "#job_title distn\n",
        "plt.figure(figsize = (25,6))\n",
        "sns.countplot(x=\"job_title\",data= ids)\n",
        "plt.show()"
      ]
    },
    {
      "cell_type": "markdown",
      "id": "8d611308",
      "metadata": {
        "id": "8d611308"
      },
      "source": [
        "#**checking outliers**\n",
        "An outlier is an observation that appears to deviate distinctly from other observations in the data. If the outliers are not removed, the model accuracy may decrease.\n",
        "##recollect that one of the assumptions of linear regression is that there should not be any outliers present in the data"
      ]
    },
    {
      "cell_type": "code",
      "execution_count": 26,
      "id": "16b3b55d",
      "metadata": {
        "id": "16b3b55d",
        "outputId": "8be9d900-401c-43d1-8aaa-86dc4844d652",
        "colab": {
          "base_uri": "https://localhost:8080/",
          "height": 918
        }
      },
      "outputs": [
        {
          "output_type": "stream",
          "name": "stderr",
          "text": [
            "/usr/local/lib/python3.8/dist-packages/matplotlib/cbook/__init__.py:1376: VisibleDeprecationWarning: Creating an ndarray from ragged nested sequences (which is a list-or-tuple of lists-or-tuples-or ndarrays with different lengths or shapes) is deprecated. If you meant to do this, you must specify 'dtype=object' when creating the ndarray.\n",
            "  X = np.atleast_1d(X.T if isinstance(X, np.ndarray) else np.asarray(X))\n"
          ]
        },
        {
          "output_type": "display_data",
          "data": {
            "text/plain": [
              "<Figure size 1080x1080 with 1 Axes>"
            ],
            "image/png": "[encoded data removed]"
          },
          "metadata": {
            "needs_background": "light"
          }
        }
      ],
      "source": [
        "#set the size\n",
        "plt.figure(figsize = (15,15))\n",
        "# create a boxplot for all numeric features\n",
        "# column: selects the specified columns\n",
        "ids.boxplot(column=['age','bmi','bloodpressure'])\n",
        "plt.show()"
      ]
    },
    {
      "cell_type": "code",
      "execution_count": 27,
      "id": "495027d5",
      "metadata": {
        "id": "495027d5",
        "outputId": "a9543c58-33df-4f70-8571-2a564674a0b5",
        "colab": {
          "base_uri": "https://localhost:8080/",
          "height": 279
        }
      },
      "outputs": [
        {
          "output_type": "display_data",
          "data": {
            "text/plain": [
              "<Figure size 432x288 with 1 Axes>"
            ],
            "image/png": "[encoded data removed]"
          },
          "metadata": {
            "needs_background": "light"
          }
        }
      ],
      "source": [
        "sns.boxplot(x=ids['claim'])\n",
        "plt.show()"
      ]
    },
    {
      "cell_type": "code",
      "execution_count": 28,
      "id": "37dd92d9",
      "metadata": {
        "id": "37dd92d9",
        "outputId": "1be2ec0b-7f3f-41b9-cc01-4be2be98c41e",
        "colab": {
          "base_uri": "https://localhost:8080/",
          "height": 279
        }
      },
      "outputs": [
        {
          "output_type": "display_data",
          "data": {
            "text/plain": [
              "<Figure size 432x288 with 1 Axes>"
            ],
            "image/png": "[encoded data removed]"
          },
          "metadata": {
            "needs_background": "light"
          }
        }
      ],
      "source": [
        "sns.boxplot(x=ids['age'])\n",
        "plt.show()"
      ]
    },
    {
      "cell_type": "code",
      "execution_count": 29,
      "id": "9e98bf82",
      "metadata": {
        "id": "9e98bf82",
        "outputId": "ae394603-d53c-4cdf-b4c6-316d3257e02b",
        "colab": {
          "base_uri": "https://localhost:8080/",
          "height": 282
        }
      },
      "outputs": [
        {
          "output_type": "execute_result",
          "data": {
            "text/plain": [
              "<matplotlib.collections.PathCollection at 0x7f747e87bbe0>"
            ]
          },
          "metadata": {},
          "execution_count": 29
        },
        {
          "output_type": "display_data",
          "data": {
            "text/plain": [
              "<Figure size 432x288 with 1 Axes>"
            ],
            "image/png": "[encoded data removed]"
          },
          "metadata": {
            "needs_background": "light"
          }
        }
      ],
      "source": [
        "plt.scatter(ids.index,ids[\"claim\"])"
      ]
    },
    {
      "cell_type": "code",
      "execution_count": 30,
      "id": "1d4fde9a",
      "metadata": {
        "id": "1d4fde9a",
        "outputId": "bd07f3a3-ed59-488d-a4e8-09494946acfb",
        "colab": {
          "base_uri": "https://localhost:8080/",
          "height": 282
        }
      },
      "outputs": [
        {
          "output_type": "execute_result",
          "data": {
            "text/plain": [
              "<matplotlib.collections.PathCollection at 0x7f747e9814c0>"
            ]
          },
          "metadata": {},
          "execution_count": 30
        },
        {
          "output_type": "display_data",
          "data": {
            "text/plain": [
              "<Figure size 432x288 with 1 Axes>"
            ],
            "image/png": "[encoded data removed]"
          },
          "metadata": {
            "needs_background": "light"
          }
        }
      ],
      "source": [
        "plt.scatter(ids.index,ids[\"age\"])"
      ]
    },
    {
      "cell_type": "code",
      "execution_count": 31,
      "id": "b0b1668e",
      "metadata": {
        "id": "b0b1668e",
        "outputId": "dcda7604-d016-4939-c5f4-90133d634ac7",
        "colab": {
          "base_uri": "https://localhost:8080/",
          "height": 282
        }
      },
      "outputs": [
        {
          "output_type": "execute_result",
          "data": {
            "text/plain": [
              "<matplotlib.collections.PathCollection at 0x7f747eac0a90>"
            ]
          },
          "metadata": {},
          "execution_count": 31
        },
        {
          "output_type": "display_data",
          "data": {
            "text/plain": [
              "<Figure size 432x288 with 1 Axes>"
            ],
            "image/png": "[encoded data removed]"
          },
          "metadata": {
            "needs_background": "light"
          }
        }
      ],
      "source": [
        "plt.scatter(ids.index,ids[\"bmi\"])"
      ]
    },
    {
      "cell_type": "code",
      "execution_count": 32,
      "id": "9544fd86",
      "metadata": {
        "id": "9544fd86",
        "outputId": "e433d2cc-2a26-4d31-819e-ca4c9e6fede8",
        "colab": {
          "base_uri": "https://localhost:8080/",
          "height": 282
        }
      },
      "outputs": [
        {
          "output_type": "execute_result",
          "data": {
            "text/plain": [
              "<matplotlib.collections.PathCollection at 0x7f747eaf0e20>"
            ]
          },
          "metadata": {},
          "execution_count": 32
        },
        {
          "output_type": "display_data",
          "data": {
            "text/plain": [
              "<Figure size 432x288 with 1 Axes>"
            ],
            "image/png": "[encoded data removed]"
          },
          "metadata": {
            "needs_background": "light"
          }
        }
      ],
      "source": [
        "plt.scatter(ids.index,ids[\"bloodpressure\"])"
      ]
    },
    {
      "cell_type": "markdown",
      "id": "6edc3309",
      "metadata": {
        "id": "6edc3309"
      },
      "source": [
        "#**INFERENCES:**\n",
        "# 1)bmi has outliers\n",
        "# 2)bloodpressure has outliers\n",
        "# 3)claim has outliers"
      ]
    },
    {
      "cell_type": "markdown",
      "source": [
        "#**Handling Outliers**"
      ],
      "metadata": {
        "id": "buJP3ZuEZF22"
      },
      "id": "buJP3ZuEZF22"
    },
    {
      "cell_type": "code",
      "execution_count": 33,
      "id": "433a706b",
      "metadata": {
        "id": "433a706b",
        "outputId": "3abfeeb8-07e6-493d-9985-d414e5f008f9",
        "colab": {
          "base_uri": "https://localhost:8080/"
        }
      },
      "outputs": [
        {
          "output_type": "execute_result",
          "data": {
            "text/plain": [
              "40.5"
            ]
          },
          "metadata": {},
          "execution_count": 33
        }
      ],
      "source": [
        "max_treshold= ids['bmi'].quantile(0.95)\n",
        "max_treshold"
      ]
    },
    {
      "cell_type": "code",
      "execution_count": 34,
      "id": "bdf00396",
      "metadata": {
        "id": "bdf00396",
        "outputId": "8dbc41ee-8be3-4c3b-8e7c-5aeee0aecea7",
        "colab": {
          "base_uri": "https://localhost:8080/",
          "height": 279
        }
      },
      "outputs": [
        {
          "output_type": "display_data",
          "data": {
            "text/plain": [
              "<Figure size 432x288 with 1 Axes>"
            ],
            "image/png": "[encoded data removed]"
          },
          "metadata": {
            "needs_background": "light"
          }
        }
      ],
      "source": [
        "#plot before handling outliers\n",
        "sns.boxplot(x=ids['bmi'])\n",
        "plt.show()"
      ]
    },
    {
      "cell_type": "code",
      "execution_count": 35,
      "id": "1ce5682b",
      "metadata": {
        "id": "1ce5682b",
        "outputId": "2a4216e6-b18f-4c88-cfc5-ed971afb09a0",
        "colab": {
          "base_uri": "https://localhost:8080/"
        }
      },
      "outputs": [
        {
          "output_type": "stream",
          "name": "stderr",
          "text": [
            "<ipython-input-35-6735ad895042>:1: SettingWithCopyWarning: \n",
            "A value is trying to be set on a copy of a slice from a DataFrame\n",
            "\n",
            "See the caveats in the documentation: https://pandas.pydata.org/pandas-docs/stable/user_guide/indexing.html#returning-a-view-versus-a-copy\n",
            "  ids['bmi'][ids['bmi']>max_treshold]= max_treshold\n"
          ]
        }
      ],
      "source": [
        "ids['bmi'][ids['bmi']>max_treshold]= max_treshold"
      ]
    },
    {
      "cell_type": "code",
      "execution_count": 36,
      "id": "a5cb9f21",
      "metadata": {
        "id": "a5cb9f21",
        "outputId": "cf0ec44d-f760-4896-eb27-3a1a4a5653ee",
        "colab": {
          "base_uri": "https://localhost:8080/",
          "height": 279
        }
      },
      "outputs": [
        {
          "output_type": "display_data",
          "data": {
            "text/plain": [
              "<Figure size 432x288 with 1 Axes>"
            ],
            "image/png": "[encoded data removed]"
          },
          "metadata": {
            "needs_background": "light"
          }
        }
      ],
      "source": [
        "# after handling outliers\n",
        "sns.boxplot(x=ids['bmi'])\n",
        "plt.show()"
      ]
    },
    {
      "cell_type": "code",
      "execution_count": 37,
      "id": "5772f6d8",
      "metadata": {
        "id": "5772f6d8",
        "outputId": "6847b0db-e9db-44be-8d42-125137aa9cff",
        "colab": {
          "base_uri": "https://localhost:8080/"
        }
      },
      "outputs": [
        {
          "output_type": "execute_result",
          "data": {
            "text/plain": [
              "48.0"
            ]
          },
          "metadata": {},
          "execution_count": 37
        }
      ],
      "source": [
        "#bloodpressure outlier handling\n",
        "min_treshold2=ids['bloodpressure'].quantile(0.06)\n",
        "min_treshold2"
      ]
    },
    {
      "cell_type": "code",
      "execution_count": 38,
      "id": "7f22579c",
      "metadata": {
        "id": "7f22579c",
        "outputId": "706dd389-c399-497d-d030-3cd5810f1f22",
        "colab": {
          "base_uri": "https://localhost:8080/"
        }
      },
      "outputs": [
        {
          "output_type": "execute_result",
          "data": {
            "text/plain": [
              "90.0"
            ]
          },
          "metadata": {},
          "execution_count": 38
        }
      ],
      "source": [
        "max_treshold2=ids['bloodpressure'].quantile(0.95)\n",
        "max_treshold2"
      ]
    },
    {
      "cell_type": "code",
      "execution_count": 39,
      "id": "1c092b0f",
      "metadata": {
        "id": "1c092b0f",
        "outputId": "a08fbdab-9871-49ce-efeb-fd35a991552b",
        "colab": {
          "base_uri": "https://localhost:8080/",
          "height": 279
        }
      },
      "outputs": [
        {
          "output_type": "display_data",
          "data": {
            "text/plain": [
              "<Figure size 432x288 with 1 Axes>"
            ],
            "image/png": "[encoded data removed]"
          },
          "metadata": {
            "needs_background": "light"
          }
        }
      ],
      "source": [
        "#before handling outlier \n",
        "sns.boxplot(x=ids['bloodpressure'])\n",
        "plt.show()"
      ]
    },
    {
      "cell_type": "code",
      "execution_count": 40,
      "id": "9f1f6e79",
      "metadata": {
        "id": "9f1f6e79",
        "outputId": "55fd93d9-1131-4e75-8591-687e86583fde",
        "colab": {
          "base_uri": "https://localhost:8080/"
        }
      },
      "outputs": [
        {
          "output_type": "stream",
          "name": "stderr",
          "text": [
            "<ipython-input-40-604a84b50ea4>:1: SettingWithCopyWarning: \n",
            "A value is trying to be set on a copy of a slice from a DataFrame\n",
            "\n",
            "See the caveats in the documentation: https://pandas.pydata.org/pandas-docs/stable/user_guide/indexing.html#returning-a-view-versus-a-copy\n",
            "  ids['bloodpressure'][ids['bloodpressure']<min_treshold2]= min_treshold2\n"
          ]
        }
      ],
      "source": [
        "ids['bloodpressure'][ids['bloodpressure']<min_treshold2]= min_treshold2"
      ]
    },
    {
      "cell_type": "code",
      "execution_count": 41,
      "id": "f25c7dfa",
      "metadata": {
        "id": "f25c7dfa",
        "outputId": "7ab61ac2-5913-4181-f90b-af1fa5401ea1",
        "colab": {
          "base_uri": "https://localhost:8080/"
        }
      },
      "outputs": [
        {
          "output_type": "stream",
          "name": "stderr",
          "text": [
            "<ipython-input-41-19a2945e273d>:1: SettingWithCopyWarning: \n",
            "A value is trying to be set on a copy of a slice from a DataFrame\n",
            "\n",
            "See the caveats in the documentation: https://pandas.pydata.org/pandas-docs/stable/user_guide/indexing.html#returning-a-view-versus-a-copy\n",
            "  ids['bloodpressure'][ids['bloodpressure']>max_treshold2]= max_treshold2\n"
          ]
        }
      ],
      "source": [
        "ids['bloodpressure'][ids['bloodpressure']>max_treshold2]= max_treshold2"
      ]
    },
    {
      "cell_type": "code",
      "execution_count": 42,
      "id": "ef2ddf11",
      "metadata": {
        "id": "ef2ddf11",
        "outputId": "8684d65f-ec24-4440-932e-de25aa555f2f",
        "colab": {
          "base_uri": "https://localhost:8080/",
          "height": 279
        }
      },
      "outputs": [
        {
          "output_type": "display_data",
          "data": {
            "text/plain": [
              "<Figure size 432x288 with 1 Axes>"
            ],
            "image/png": "[encoded data removed]"
          },
          "metadata": {
            "needs_background": "light"
          }
        }
      ],
      "source": [
        "sns.boxplot(x=ids['bloodpressure'])\n",
        "plt.show()"
      ]
    },
    {
      "cell_type": "markdown",
      "id": "0322b3ff",
      "metadata": {
        "id": "0322b3ff"
      },
      "source": [
        "#**Missing Values**"
      ]
    },
    {
      "cell_type": "code",
      "execution_count": 43,
      "id": "cd1de5c8",
      "metadata": {
        "id": "cd1de5c8",
        "outputId": "dea940ae-1ab7-465e-c9a0-3944aa6aa8ab",
        "colab": {
          "base_uri": "https://localhost:8080/"
        }
      },
      "outputs": [
        {
          "output_type": "execute_result",
          "data": {
            "text/plain": [
              "age                    396\n",
              "sex                      0\n",
              "weight                   0\n",
              "bmi                    956\n",
              "hereditary_diseases      0\n",
              "no_of_dependents         0\n",
              "smoker                   0\n",
              "city                     0\n",
              "bloodpressure            0\n",
              "diabetes                 0\n",
              "regular_ex               0\n",
              "job_title                0\n",
              "claim                    0\n",
              "dtype: int64"
            ]
          },
          "metadata": {},
          "execution_count": 43
        }
      ],
      "source": [
        "#.isnull().sum() gives the num of outliers in the feature/column\n",
        "#before handling missing values\n",
        "ids.isnull().sum()"
      ]
    },
    {
      "cell_type": "markdown",
      "source": [
        "#**Visualize Missing Values using Heatmap**"
      ],
      "metadata": {
        "id": "oIfYgtmFxX9Y"
      },
      "id": "oIfYgtmFxX9Y"
    },
    {
      "cell_type": "code",
      "source": [
        "plt.figure(figsize=(20,10))\n",
        "sns.heatmap(ids.isnull(),cbar=False,yticklabels=False,cmap='viridis')"
      ],
      "metadata": {
        "colab": {
          "base_uri": "https://localhost:8080/",
          "height": 699
        },
        "id": "tkbtXogNPiEq",
        "outputId": "affbb87d-d5ed-4981-c10c-4be0ef09cfe2"
      },
      "id": "tkbtXogNPiEq",
      "execution_count": 44,
      "outputs": [
        {
          "output_type": "execute_result",
          "data": {
            "text/plain": [
              "<matplotlib.axes._subplots.AxesSubplot at 0x7f747e9658b0>"
            ]
          },
          "metadata": {},
          "execution_count": 44
        },
        {
          "output_type": "display_data",
          "data": {
            "text/plain": [
              "<Figure size 1440x720 with 1 Axes>"
            ],
            "image/png": "[encoded data removed]"
          },
          "metadata": {
            "needs_background": "light"
          }
        }
      ]
    },
    {
      "cell_type": "markdown",
      "source": [
        "###age and bmi have missing values\n",
        "**Imputing age with mean and bmi with median values.**\n",
        "\n",
        "\n",
        "#**how to Deal with Missing Values ?**\n",
        "How to deal with missing data?\n",
        "\n",
        "Depending on scenarios, you may:\n",
        "###a. Drop the whole row\n",
        "###b. Drop the whole column\n",
        "\n",
        "OR replace:\n",
        "###a. The missing values with mean\n",
        "###b. The missing values with median\n",
        "###c. Replace it based on other functions\n",
        "\n",
        "\n",
        "The entire column is dropped only if most entries (80%-90%) in the column are missing. We have the option to either drop the rows containing the missing values or replace them. In our dataset, there are not many values that are missing. So, we opt to replace these values. For the variable 'age', we will replace missing values by the mean of age across the gender.\n",
        "\n"
      ],
      "metadata": {
        "id": "RulbRqpfaDiP"
      },
      "id": "RulbRqpfaDiP"
    },
    {
      "cell_type": "code",
      "execution_count": 45,
      "id": "e075de08",
      "metadata": {
        "id": "e075de08"
      },
      "outputs": [],
      "source": [
        "ids['age'].fillna(value=ids['age'].mean(),inplace= True)"
      ]
    },
    {
      "cell_type": "code",
      "execution_count": 46,
      "id": "2ec09482",
      "metadata": {
        "id": "2ec09482"
      },
      "outputs": [],
      "source": [
        "ids['bmi'].fillna(value=ids['bmi'].median(),inplace= True) #using median imputation, since bmi has outliers"
      ]
    },
    {
      "cell_type": "code",
      "execution_count": 47,
      "id": "a34149bc",
      "metadata": {
        "id": "a34149bc",
        "outputId": "c5ea16a9-c4b7-4e38-ca7d-a503d9b4e879",
        "colab": {
          "base_uri": "https://localhost:8080/"
        }
      },
      "outputs": [
        {
          "output_type": "execute_result",
          "data": {
            "text/plain": [
              "age                    0\n",
              "sex                    0\n",
              "weight                 0\n",
              "bmi                    0\n",
              "hereditary_diseases    0\n",
              "no_of_dependents       0\n",
              "smoker                 0\n",
              "city                   0\n",
              "bloodpressure          0\n",
              "diabetes               0\n",
              "regular_ex             0\n",
              "job_title              0\n",
              "claim                  0\n",
              "dtype: int64"
            ]
          },
          "metadata": {},
          "execution_count": 47
        }
      ],
      "source": [
        "#after handling missing values\n",
        "ids.isnull().sum()"
      ]
    },
    {
      "cell_type": "code",
      "source": [
        "# heatmap after handling missing values\n",
        "plt.figure(figsize=(20,10))\n",
        "sns.heatmap(ids.isnull(),cbar=False,yticklabels=False,cmap='viridis')"
      ],
      "metadata": {
        "colab": {
          "base_uri": "https://localhost:8080/",
          "height": 699
        },
        "id": "v5ZRL--lasN4",
        "outputId": "f523f5c6-6fba-4af9-ca9f-74256e54b04a"
      },
      "id": "v5ZRL--lasN4",
      "execution_count": 48,
      "outputs": [
        {
          "output_type": "execute_result",
          "data": {
            "text/plain": [
              "<matplotlib.axes._subplots.AxesSubplot at 0x7f747e89bf70>"
            ]
          },
          "metadata": {},
          "execution_count": 48
        },
        {
          "output_type": "display_data",
          "data": {
            "text/plain": [
              "<Figure size 1440x720 with 1 Axes>"
            ],
            "image/png": "[encoded data removed]"
          },
          "metadata": {
            "needs_background": "light"
          }
        }
      ]
    },
    {
      "cell_type": "markdown",
      "source": [
        "#**Applying transformation to claim**"
      ],
      "metadata": {
        "id": "fL_cC7UHa211"
      },
      "id": "fL_cC7UHa211"
    },
    {
      "cell_type": "code",
      "execution_count": 49,
      "id": "1a0b1186",
      "metadata": {
        "id": "1a0b1186",
        "outputId": "d5b00bd8-aff8-465f-b560-69eba2736a71",
        "colab": {
          "base_uri": "https://localhost:8080/",
          "height": 282
        }
      },
      "outputs": [
        {
          "output_type": "execute_result",
          "data": {
            "text/plain": [
              "<matplotlib.collections.PathCollection at 0x7f747e5c5400>"
            ]
          },
          "metadata": {},
          "execution_count": 49
        },
        {
          "output_type": "display_data",
          "data": {
            "text/plain": [
              "<Figure size 432x288 with 1 Axes>"
            ],
            "image/png": "[encoded data removed]"
          },
          "metadata": {
            "needs_background": "light"
          }
        }
      ],
      "source": [
        "plt.scatter( ids.index,ids[\"claim\"])"
      ]
    },
    {
      "cell_type": "code",
      "execution_count": 50,
      "id": "f2e2defc",
      "metadata": {
        "id": "f2e2defc",
        "outputId": "3cea46b6-94fb-43b8-d56d-cc06ec5afeb8",
        "colab": {
          "base_uri": "https://localhost:8080/",
          "height": 265
        }
      },
      "outputs": [
        {
          "output_type": "display_data",
          "data": {
            "text/plain": [
              "<Figure size 432x288 with 1 Axes>"
            ],
            "image/png": "[encoded data removed]"
          },
          "metadata": {
            "needs_background": "light"
          }
        }
      ],
      "source": [
        "#histogram before transformationn\n",
        "plt.hist(x=ids['claim'],bins= 20)\n",
        "plt.show()"
      ]
    },
    {
      "cell_type": "code",
      "execution_count": 51,
      "id": "d8ddcf93",
      "metadata": {
        "id": "d8ddcf93",
        "outputId": "2790cc36-cdfb-44fa-a1a2-cc45ad72ffbc",
        "colab": {
          "base_uri": "https://localhost:8080/",
          "height": 279
        }
      },
      "outputs": [
        {
          "output_type": "display_data",
          "data": {
            "text/plain": [
              "<Figure size 432x288 with 1 Axes>"
            ],
            "image/png": "[encoded data removed]"
          },
          "metadata": {
            "needs_background": "light"
          }
        }
      ],
      "source": [
        "#boxplot before transformation\n",
        "sns.boxplot(x=ids['claim'])\n",
        "plt.show()"
      ]
    },
    {
      "cell_type": "code",
      "execution_count": 52,
      "id": "2a97d71d",
      "metadata": {
        "id": "2a97d71d"
      },
      "outputs": [],
      "source": [
        "#log transformation\n",
        "ids['claim']=np.log(1+ids['claim'])"
      ]
    },
    {
      "cell_type": "code",
      "execution_count": 53,
      "id": "b3956e2e",
      "metadata": {
        "id": "b3956e2e",
        "outputId": "e5414e9a-f2f2-45f8-aade-6104bda4f003",
        "colab": {
          "base_uri": "https://localhost:8080/",
          "height": 265
        }
      },
      "outputs": [
        {
          "output_type": "display_data",
          "data": {
            "text/plain": [
              "<Figure size 432x288 with 1 Axes>"
            ],
            "image/png": "[encoded data removed]"
          },
          "metadata": {
            "needs_background": "light"
          }
        }
      ],
      "source": [
        "#after transformation\n",
        "plt.hist(x=ids['claim'],bins= 20)\n",
        "plt.show()"
      ]
    },
    {
      "cell_type": "code",
      "execution_count": 54,
      "id": "93736e1e",
      "metadata": {
        "id": "93736e1e",
        "outputId": "c2f00883-6727-4782-bef6-6995fbd2eee2",
        "colab": {
          "base_uri": "https://localhost:8080/",
          "height": 279
        }
      },
      "outputs": [
        {
          "output_type": "display_data",
          "data": {
            "text/plain": [
              "<Figure size 432x288 with 1 Axes>"
            ],
            "image/png": "[encoded data removed]"
          },
          "metadata": {
            "needs_background": "light"
          }
        }
      ],
      "source": [
        "#after transformation\n",
        "sns.boxplot(x=ids['claim'])\n",
        "plt.show()"
      ]
    },
    {
      "cell_type": "markdown",
      "source": [
        "#**dropping unnecessary columns**"
      ],
      "metadata": {
        "id": "foYYjpdpyZdk"
      },
      "id": "foYYjpdpyZdk"
    },
    {
      "cell_type": "code",
      "execution_count": 55,
      "id": "7ed961f2",
      "metadata": {
        "id": "7ed961f2"
      },
      "outputs": [],
      "source": [
        "ids.drop(['city','weight'],axis=1,inplace=True)\n",
        "#dropping weights since we already have bmi-body mass index which includes height and weight"
      ]
    },
    {
      "cell_type": "code",
      "execution_count": 56,
      "id": "45b01746",
      "metadata": {
        "id": "45b01746",
        "outputId": "1276dd49-ba99-4a00-c65a-aa2da4f384ab",
        "colab": {
          "base_uri": "https://localhost:8080/",
          "height": 112
        }
      },
      "outputs": [
        {
          "output_type": "execute_result",
          "data": {
            "text/plain": [
              "    age     sex   bmi hereditary_diseases  no_of_dependents smoker  \\\n",
              "0  60.0    male  24.3           NoDisease                 1      0   \n",
              "1  49.0  female  22.6           NoDisease                 1      0   \n",
              "\n",
              "   bloodpressure diabetes regular_ex job_title     claim  \n",
              "0             72        0          0     Actor  9.481405  \n",
              "1             78        1          1  Engineer  9.166179  "
            ],
            "text/html": [
              "\n",
              "  <div id=\"df-a97c3468-a620-49b9-87b3-6749c04761a2\">\n",
              "    <div class=\"colab-df-container\">\n",
              "      <div>\n",
              "<style scoped>\n",
              "    .dataframe tbody tr th:only-of-type {\n",
              "        vertical-align: middle;\n",
              "    }\n",
              "\n",
              "    .dataframe tbody tr th {\n",
              "        vertical-align: top;\n",
              "    }\n",
              "\n",
              "    .dataframe thead th {\n",
              "        text-align: right;\n",
              "    }\n",
              "</style>\n",
              "<table border=\"1\" class=\"dataframe\">\n",
              "  <thead>\n",
              "    <tr style=\"text-align: right;\">\n",
              "      <th></th>\n",
              "      <th>age</th>\n",
              "      <th>sex</th>\n",
              "      <th>bmi</th>\n",
              "      <th>hereditary_diseases</th>\n",
              "      <th>no_of_dependents</th>\n",
              "      <th>smoker</th>\n",
              "      <th>bloodpressure</th>\n",
              "      <th>diabetes</th>\n",
              "      <th>regular_ex</th>\n",
              "      <th>job_title</th>\n",
              "      <th>claim</th>\n",
              "    </tr>\n",
              "  </thead>\n",
              "  <tbody>\n",
              "    <tr>\n",
              "      <th>0</th>\n",
              "      <td>60.0</td>\n",
              "      <td>male</td>\n",
              "      <td>24.3</td>\n",
              "      <td>NoDisease</td>\n",
              "      <td>1</td>\n",
              "      <td>0</td>\n",
              "      <td>72</td>\n",
              "      <td>0</td>\n",
              "      <td>0</td>\n",
              "      <td>Actor</td>\n",
              "      <td>9.481405</td>\n",
              "    </tr>\n",
              "    <tr>\n",
              "      <th>1</th>\n",
              "      <td>49.0</td>\n",
              "      <td>female</td>\n",
              "      <td>22.6</td>\n",
              "      <td>NoDisease</td>\n",
              "      <td>1</td>\n",
              "      <td>0</td>\n",
              "      <td>78</td>\n",
              "      <td>1</td>\n",
              "      <td>1</td>\n",
              "      <td>Engineer</td>\n",
              "      <td>9.166179</td>\n",
              "    </tr>\n",
              "  </tbody>\n",
              "</table>\n",
              "</div>\n",
              "      <button class=\"colab-df-convert\" onclick=\"convertToInteractive('df-a97c3468-a620-49b9-87b3-6749c04761a2')\"\n",
              "              title=\"Convert this dataframe to an interactive table.\"\n",
              "              style=\"display:none;\">\n",
              "        \n",
              "  <svg xmlns=\"http://www.w3.org/2000/svg\" height=\"24px\"viewBox=\"0 0 24 24\"\n",
              "       width=\"24px\">\n",
              "    <path d=\"M0 0h24v24H0V0z\" fill=\"none\"/>\n",
              "    <path d=\"M18.56 5.44l.94 2.06.94-2.06 2.06-.94-2.06-.94-.94-2.06-.94 2.06-2.06.94zm-11 1L8.5 8.5l.94-2.06 2.06-.94-2.06-.94L8.5 2.5l-.94 2.06-2.06.94zm10 10l.94 2.06.94-2.06 2.06-.94-2.06-.94-.94-2.06-.94 2.06-2.06.94z\"/><path d=\"M17.41 7.96l-1.37-1.37c-.4-.4-.92-.59-1.43-.59-.52 0-1.04.2-1.43.59L10.3 9.45l-7.72 7.72c-.78.78-.78 2.05 0 2.83L4 21.41c.39.39.9.59 1.41.59.51 0 1.02-.2 1.41-.59l7.78-7.78 2.81-2.81c.8-.78.8-2.07 0-2.86zM5.41 20L4 18.59l7.72-7.72 1.47 1.35L5.41 20z\"/>\n",
              "  </svg>\n",
              "      </button>\n",
              "      \n",
              "  <style>\n",
              "    .colab-df-container {\n",
              "      display:flex;\n",
              "      flex-wrap:wrap;\n",
              "      gap: 12px;\n",
              "    }\n",
              "\n",
              "    .colab-df-convert {\n",
              "      background-color: #E8F0FE;\n",
              "      border: none;\n",
              "      border-radius: 50%;\n",
              "      cursor: pointer;\n",
              "      display: none;\n",
              "      fill: #1967D2;\n",
              "      height: 32px;\n",
              "      padding: 0 0 0 0;\n",
              "      width: 32px;\n",
              "    }\n",
              "\n",
              "    .colab-df-convert:hover {\n",
              "      background-color: #E2EBFA;\n",
              "      box-shadow: 0px 1px 2px rgba(60, 64, 67, 0.3), 0px 1px 3px 1px rgba(60, 64, 67, 0.15);\n",
              "      fill: #174EA6;\n",
              "    }\n",
              "\n",
              "    [theme=dark] .colab-df-convert {\n",
              "      background-color: #3B4455;\n",
              "      fill: #D2E3FC;\n",
              "    }\n",
              "\n",
              "    [theme=dark] .colab-df-convert:hover {\n",
              "      background-color: #434B5C;\n",
              "      box-shadow: 0px 1px 3px 1px rgba(0, 0, 0, 0.15);\n",
              "      filter: drop-shadow(0px 1px 2px rgba(0, 0, 0, 0.3));\n",
              "      fill: #FFFFFF;\n",
              "    }\n",
              "  </style>\n",
              "\n",
              "      <script>\n",
              "        const buttonEl =\n",
              "          document.querySelector('#df-a97c3468-a620-49b9-87b3-6749c04761a2 button.colab-df-convert');\n",
              "        buttonEl.style.display =\n",
              "          google.colab.kernel.accessAllowed ? 'block' : 'none';\n",
              "\n",
              "        async function convertToInteractive(key) {\n",
              "          const element = document.querySelector('#df-a97c3468-a620-49b9-87b3-6749c04761a2');\n",
              "          const dataTable =\n",
              "            await google.colab.kernel.invokeFunction('convertToInteractive',\n",
              "                                                     [key], {});\n",
              "          if (!dataTable) return;\n",
              "\n",
              "          const docLinkHtml = 'Like what you see? Visit the ' +\n",
              "            '<a target=\"_blank\" href=https://colab.research.google.com/notebooks/data_table.ipynb>data table notebook</a>'\n",
              "            + ' to learn more about interactive tables.';\n",
              "          element.innerHTML = '';\n",
              "          dataTable['output_type'] = 'display_data';\n",
              "          await google.colab.output.renderOutput(dataTable, element);\n",
              "          const docLink = document.createElement('div');\n",
              "          docLink.innerHTML = docLinkHtml;\n",
              "          element.appendChild(docLink);\n",
              "        }\n",
              "      </script>\n",
              "    </div>\n",
              "  </div>\n",
              "  "
            ]
          },
          "metadata": {},
          "execution_count": 56
        }
      ],
      "source": [
        "ids.head(2)"
      ]
    },
    {
      "cell_type": "markdown",
      "id": "f41eca9f",
      "metadata": {
        "id": "f41eca9f"
      },
      "source": [
        "# Correlation \n",
        "Correlation is the extent of linear relationship among numeric variables\n",
        "It indicates the extent to which two variables increase or decrease in parallel\n",
        "The value of a correlation coefficient ranges between -1 and 1\n",
        "Correlation among multiple variables can be represented in the form of a matrix. This allows us to see which pairs are correlated."
      ]
    },
    {
      "cell_type": "code",
      "source": [
        "# select the numerical features in the dataset using 'select_dtypes()'\n",
        "# select_dtypes(include=np.number): considers the numeric variables,since calculating correlations for categorical variables is meaning less\n",
        "#round(,2) funcion rounds the correlation values to 2 digits\n",
        "round(ids.select_dtypes(include=np.number).corr(),2)"
      ],
      "metadata": {
        "colab": {
          "base_uri": "https://localhost:8080/",
          "height": 206
        },
        "id": "msWmMH8-OrWG",
        "outputId": "c6d022ec-827b-4cd9-8c8c-dc7bc23fdaac"
      },
      "id": "msWmMH8-OrWG",
      "execution_count": 57,
      "outputs": [
        {
          "output_type": "execute_result",
          "data": {
            "text/plain": [
              "                   age   bmi  no_of_dependents  bloodpressure  claim\n",
              "age               1.00  0.19              0.06           0.01   0.52\n",
              "bmi               0.19  1.00              0.04          -0.05   0.18\n",
              "no_of_dependents  0.06  0.04              1.00           0.03   0.16\n",
              "bloodpressure     0.01 -0.05              0.03           1.00   0.03\n",
              "claim             0.52  0.18              0.16           0.03   1.00"
            ],
            "text/html": [
              "\n",
              "  <div id=\"df-b9d9429d-7930-4770-8652-b5df78ab9a04\">\n",
              "    <div class=\"colab-df-container\">\n",
              "      <div>\n",
              "<style scoped>\n",
              "    .dataframe tbody tr th:only-of-type {\n",
              "        vertical-align: middle;\n",
              "    }\n",
              "\n",
              "    .dataframe tbody tr th {\n",
              "        vertical-align: top;\n",
              "    }\n",
              "\n",
              "    .dataframe thead th {\n",
              "        text-align: right;\n",
              "    }\n",
              "</style>\n",
              "<table border=\"1\" class=\"dataframe\">\n",
              "  <thead>\n",
              "    <tr style=\"text-align: right;\">\n",
              "      <th></th>\n",
              "      <th>age</th>\n",
              "      <th>bmi</th>\n",
              "      <th>no_of_dependents</th>\n",
              "      <th>bloodpressure</th>\n",
              "      <th>claim</th>\n",
              "    </tr>\n",
              "  </thead>\n",
              "  <tbody>\n",
              "    <tr>\n",
              "      <th>age</th>\n",
              "      <td>1.00</td>\n",
              "      <td>0.19</td>\n",
              "      <td>0.06</td>\n",
              "      <td>0.01</td>\n",
              "      <td>0.52</td>\n",
              "    </tr>\n",
              "    <tr>\n",
              "      <th>bmi</th>\n",
              "      <td>0.19</td>\n",
              "      <td>1.00</td>\n",
              "      <td>0.04</td>\n",
              "      <td>-0.05</td>\n",
              "      <td>0.18</td>\n",
              "    </tr>\n",
              "    <tr>\n",
              "      <th>no_of_dependents</th>\n",
              "      <td>0.06</td>\n",
              "      <td>0.04</td>\n",
              "      <td>1.00</td>\n",
              "      <td>0.03</td>\n",
              "      <td>0.16</td>\n",
              "    </tr>\n",
              "    <tr>\n",
              "      <th>bloodpressure</th>\n",
              "      <td>0.01</td>\n",
              "      <td>-0.05</td>\n",
              "      <td>0.03</td>\n",
              "      <td>1.00</td>\n",
              "      <td>0.03</td>\n",
              "    </tr>\n",
              "    <tr>\n",
              "      <th>claim</th>\n",
              "      <td>0.52</td>\n",
              "      <td>0.18</td>\n",
              "      <td>0.16</td>\n",
              "      <td>0.03</td>\n",
              "      <td>1.00</td>\n",
              "    </tr>\n",
              "  </tbody>\n",
              "</table>\n",
              "</div>\n",
              "      <button class=\"colab-df-convert\" onclick=\"convertToInteractive('df-b9d9429d-7930-4770-8652-b5df78ab9a04')\"\n",
              "              title=\"Convert this dataframe to an interactive table.\"\n",
              "              style=\"display:none;\">\n",
              "        \n",
              "  <svg xmlns=\"http://www.w3.org/2000/svg\" height=\"24px\"viewBox=\"0 0 24 24\"\n",
              "       width=\"24px\">\n",
              "    <path d=\"M0 0h24v24H0V0z\" fill=\"none\"/>\n",
              "    <path d=\"M18.56 5.44l.94 2.06.94-2.06 2.06-.94-2.06-.94-.94-2.06-.94 2.06-2.06.94zm-11 1L8.5 8.5l.94-2.06 2.06-.94-2.06-.94L8.5 2.5l-.94 2.06-2.06.94zm10 10l.94 2.06.94-2.06 2.06-.94-2.06-.94-.94-2.06-.94 2.06-2.06.94z\"/><path d=\"M17.41 7.96l-1.37-1.37c-.4-.4-.92-.59-1.43-.59-.52 0-1.04.2-1.43.59L10.3 9.45l-7.72 7.72c-.78.78-.78 2.05 0 2.83L4 21.41c.39.39.9.59 1.41.59.51 0 1.02-.2 1.41-.59l7.78-7.78 2.81-2.81c.8-.78.8-2.07 0-2.86zM5.41 20L4 18.59l7.72-7.72 1.47 1.35L5.41 20z\"/>\n",
              "  </svg>\n",
              "      </button>\n",
              "      \n",
              "  <style>\n",
              "    .colab-df-container {\n",
              "      display:flex;\n",
              "      flex-wrap:wrap;\n",
              "      gap: 12px;\n",
              "    }\n",
              "\n",
              "    .colab-df-convert {\n",
              "      background-color: #E8F0FE;\n",
              "      border: none;\n",
              "      border-radius: 50%;\n",
              "      cursor: pointer;\n",
              "      display: none;\n",
              "      fill: #1967D2;\n",
              "      height: 32px;\n",
              "      padding: 0 0 0 0;\n",
              "      width: 32px;\n",
              "    }\n",
              "\n",
              "    .colab-df-convert:hover {\n",
              "      background-color: #E2EBFA;\n",
              "      box-shadow: 0px 1px 2px rgba(60, 64, 67, 0.3), 0px 1px 3px 1px rgba(60, 64, 67, 0.15);\n",
              "      fill: #174EA6;\n",
              "    }\n",
              "\n",
              "    [theme=dark] .colab-df-convert {\n",
              "      background-color: #3B4455;\n",
              "      fill: #D2E3FC;\n",
              "    }\n",
              "\n",
              "    [theme=dark] .colab-df-convert:hover {\n",
              "      background-color: #434B5C;\n",
              "      box-shadow: 0px 1px 3px 1px rgba(0, 0, 0, 0.15);\n",
              "      filter: drop-shadow(0px 1px 2px rgba(0, 0, 0, 0.3));\n",
              "      fill: #FFFFFF;\n",
              "    }\n",
              "  </style>\n",
              "\n",
              "      <script>\n",
              "        const buttonEl =\n",
              "          document.querySelector('#df-b9d9429d-7930-4770-8652-b5df78ab9a04 button.colab-df-convert');\n",
              "        buttonEl.style.display =\n",
              "          google.colab.kernel.accessAllowed ? 'block' : 'none';\n",
              "\n",
              "        async function convertToInteractive(key) {\n",
              "          const element = document.querySelector('#df-b9d9429d-7930-4770-8652-b5df78ab9a04');\n",
              "          const dataTable =\n",
              "            await google.colab.kernel.invokeFunction('convertToInteractive',\n",
              "                                                     [key], {});\n",
              "          if (!dataTable) return;\n",
              "\n",
              "          const docLinkHtml = 'Like what you see? Visit the ' +\n",
              "            '<a target=\"_blank\" href=https://colab.research.google.com/notebooks/data_table.ipynb>data table notebook</a>'\n",
              "            + ' to learn more about interactive tables.';\n",
              "          element.innerHTML = '';\n",
              "          dataTable['output_type'] = 'display_data';\n",
              "          await google.colab.output.renderOutput(dataTable, element);\n",
              "          const docLink = document.createElement('div');\n",
              "          docLink.innerHTML = docLinkHtml;\n",
              "          element.appendChild(docLink);\n",
              "        }\n",
              "      </script>\n",
              "    </div>\n",
              "  </div>\n",
              "  "
            ]
          },
          "metadata": {},
          "execution_count": 57
        }
      ]
    },
    {
      "cell_type": "markdown",
      "source": [
        "#Correlation visualisation"
      ],
      "metadata": {
        "id": "r33FEmi6bntn"
      },
      "id": "r33FEmi6bntn"
    },
    {
      "cell_type": "code",
      "source": [
        "plt.figure(figsize=(15,10))\n",
        "g=sns.heatmap(round(ids.select_dtypes(include=np.number).corr(),2),annot=True,cmap='RdYlGn')"
      ],
      "metadata": {
        "colab": {
          "base_uri": "https://localhost:8080/",
          "height": 596
        },
        "id": "YnuA7fd6bjUf",
        "outputId": "750386bf-f8a3-4e24-c8eb-061a83cfe4c1"
      },
      "id": "YnuA7fd6bjUf",
      "execution_count": 58,
      "outputs": [
        {
          "output_type": "display_data",
          "data": {
            "text/plain": [
              "<Figure size 1080x720 with 2 Axes>"
            ],
            "image/png": "[encoded data removed]"
          },
          "metadata": {
            "needs_background": "light"
          }
        }
      ]
    },
    {
      "cell_type": "markdown",
      "id": "fd5f677d",
      "metadata": {
        "id": "fd5f677d"
      },
      "source": [
        "#**no multicollinearity found**\n",
        "It can be observe that the numeric variables are not correlated with each other since all the correlation coefficients are close to zero. It implies that there is no multicollinearity in the data.\n"
      ]
    },
    {
      "cell_type": "markdown",
      "source": [
        "#**FEATURE ENGINEERING**\n"
      ],
      "metadata": {
        "id": "6ptskk_CbQrx"
      },
      "id": "6ptskk_CbQrx"
    },
    {
      "cell_type": "code",
      "execution_count": 59,
      "id": "2138ae03",
      "metadata": {
        "id": "2138ae03",
        "outputId": "928d5809-1525-49f6-9d99-be3e3a912fed",
        "colab": {
          "base_uri": "https://localhost:8080/"
        }
      },
      "outputs": [
        {
          "output_type": "execute_result",
          "data": {
            "text/plain": [
              "array(['NoDisease', 'Epilepsy', 'EyeDisease', 'Alzheimer', 'Arthritis',\n",
              "       'HeartDisease', 'Diabetes', 'Cancer', 'High BP', 'Obesity'],\n",
              "      dtype=object)"
            ]
          },
          "metadata": {},
          "execution_count": 59
        }
      ],
      "source": [
        "ids['hereditary_diseases'].unique()"
      ]
    },
    {
      "cell_type": "code",
      "execution_count": 60,
      "id": "e9684787",
      "metadata": {
        "id": "e9684787"
      },
      "outputs": [],
      "source": [
        "#mapping all the classes into 3 different classes in hereditary_diseases\n",
        "ids['hereditary_diseases']=ids['hereditary_diseases'].map({'NoDisease':'NoDisease', 'Epilepsy':'moderate', 'EyeDisease':'moderate', 'Alzheimer':'moderate', 'Arthritis':'moderate',\n",
        "       'HeartDisease':'severe', 'Diabetes':'severe', 'Cancer':'severe', 'High BP':'moderate', 'Obesity':'moderate'})"
      ]
    },
    {
      "cell_type": "code",
      "execution_count": 61,
      "id": "2394e545",
      "metadata": {
        "id": "2394e545",
        "outputId": "a1b4e4e7-e92d-432c-92bc-60723c020e8d",
        "colab": {
          "base_uri": "https://localhost:8080/"
        }
      },
      "outputs": [
        {
          "output_type": "execute_result",
          "data": {
            "text/plain": [
              "NoDisease    13998\n",
              "moderate       652\n",
              "severe         350\n",
              "Name: hereditary_diseases, dtype: int64"
            ]
          },
          "metadata": {},
          "execution_count": 61
        }
      ],
      "source": [
        "ids['hereditary_diseases'].value_counts()"
      ]
    },
    {
      "cell_type": "code",
      "execution_count": 62,
      "id": "977a46c7",
      "metadata": {
        "id": "977a46c7",
        "outputId": "03d330ff-0cdc-4a1e-fef5-a2665f67b14c",
        "colab": {
          "base_uri": "https://localhost:8080/"
        }
      },
      "outputs": [
        {
          "output_type": "execute_result",
          "data": {
            "text/plain": [
              "array(['Actor', 'Engineer', 'Academician', 'Chef', 'HomeMakers', 'Dancer',\n",
              "       'Singer', 'DataScientist', 'Police', 'Student', 'Doctor',\n",
              "       'Manager', 'Photographer', 'Beautician', 'CA', 'Blogger', 'CEO',\n",
              "       'Labourer', 'Accountant', 'FilmDirector', 'Technician',\n",
              "       'FashionDesigner', 'Architect', 'HouseKeeper', 'FilmMaker',\n",
              "       'Buisnessman', 'Politician', 'DefencePersonnels', 'Analyst',\n",
              "       'Clerks', 'ITProfessional', 'Farmer', 'Journalist', 'Lawyer',\n",
              "       'GovEmployee'], dtype=object)"
            ]
          },
          "metadata": {},
          "execution_count": 62
        }
      ],
      "source": [
        "ids['job_title'].unique()"
      ]
    },
    {
      "cell_type": "code",
      "execution_count": 63,
      "id": "298e2daa",
      "metadata": {
        "id": "298e2daa"
      },
      "outputs": [],
      "source": [
        "#mapping all the classes into 3 different classes in job_title\n",
        "ids['job_title']=ids['job_title'].map({'Actor':'avg_stressed', 'Engineer':'more_stressed', 'Academician':'avg_stressed', 'Chef':'less_stressed', 'HomeMakers':'less_stressed', 'Dancer':'less_stressed',\n",
        "    'Singer':'less_stressed', 'DataScientist':'avg_stressed', 'Police':'avg_stressed', 'Student':'avg_stressed', 'Doctor':'less_stressed',\n",
        "   'Manager':'more_stressed', 'Photographer':'less_stressed', 'Beautician':'less_stressed', 'CA':'avg_stressed', 'Blogger':'less_stressed', 'CEO':'avg_stressed',\n",
        "   'Labourer':'less_stressed', 'Accountant':'more_stressed', 'FilmDirector':'more_stressed', 'Technician':'less_stressed',\n",
        "   'FashionDesigner':'avg_stressed', 'Architect':'avg_stressed', 'HouseKeeper':'less_stressed', 'FilmMaker':'avg_stressed',\n",
        "   'Buisnessman':'more_stressed', 'Politician':'avg_stressed', 'DefencePersonnels':'avg_stressed', 'Analyst':'avg_stressed',\n",
        "   'Clerks':'avg_stressed', 'ITProfessional':'more_stressed', 'Farmer':'less_stressed', 'Journalist':'more_stressed', 'Lawyer':'avg_stressed',\n",
        "   'GovEmployee':'less_stressed'})"
      ]
    },
    {
      "cell_type": "code",
      "execution_count": 64,
      "id": "07b435a5",
      "metadata": {
        "id": "07b435a5",
        "outputId": "fcbc353f-c64f-4bf6-fa36-6b883cdcf8e1",
        "colab": {
          "base_uri": "https://localhost:8080/"
        }
      },
      "outputs": [
        {
          "output_type": "execute_result",
          "data": {
            "text/plain": [
              "avg_stressed     6792\n",
              "less_stressed    5718\n",
              "more_stressed    2490\n",
              "Name: job_title, dtype: int64"
            ]
          },
          "metadata": {},
          "execution_count": 64
        }
      ],
      "source": [
        "ids['job_title'].value_counts()"
      ]
    },
    {
      "cell_type": "markdown",
      "id": "126b33d9",
      "metadata": {
        "id": "126b33d9"
      },
      "source": [
        "#**Dummy Variable creation for categorical variables**\n",
        "Categorical variables are those in which the values are labeled categories. The values, distribution, and dispersion of categorical variables are best understood with bar plots which we had done earlier.\n"
      ]
    },
    {
      "cell_type": "code",
      "execution_count": 65,
      "id": "a591946b",
      "metadata": {
        "id": "a591946b",
        "outputId": "c1a75494-f118-47d0-da40-a87018406e4a",
        "colab": {
          "base_uri": "https://localhost:8080/",
          "height": 112
        }
      },
      "outputs": [
        {
          "output_type": "execute_result",
          "data": {
            "text/plain": [
              "    age     sex   bmi hereditary_diseases  no_of_dependents smoker  \\\n",
              "0  60.0    male  24.3           NoDisease                 1      0   \n",
              "1  49.0  female  22.6           NoDisease                 1      0   \n",
              "\n",
              "   bloodpressure diabetes regular_ex      job_title     claim  \n",
              "0             72        0          0   avg_stressed  9.481405  \n",
              "1             78        1          1  more_stressed  9.166179  "
            ],
            "text/html": [
              "\n",
              "  <div id=\"df-d878404a-bb21-42ea-94d9-66d0e390a738\">\n",
              "    <div class=\"colab-df-container\">\n",
              "      <div>\n",
              "<style scoped>\n",
              "    .dataframe tbody tr th:only-of-type {\n",
              "        vertical-align: middle;\n",
              "    }\n",
              "\n",
              "    .dataframe tbody tr th {\n",
              "        vertical-align: top;\n",
              "    }\n",
              "\n",
              "    .dataframe thead th {\n",
              "        text-align: right;\n",
              "    }\n",
              "</style>\n",
              "<table border=\"1\" class=\"dataframe\">\n",
              "  <thead>\n",
              "    <tr style=\"text-align: right;\">\n",
              "      <th></th>\n",
              "      <th>age</th>\n",
              "      <th>sex</th>\n",
              "      <th>bmi</th>\n",
              "      <th>hereditary_diseases</th>\n",
              "      <th>no_of_dependents</th>\n",
              "      <th>smoker</th>\n",
              "      <th>bloodpressure</th>\n",
              "      <th>diabetes</th>\n",
              "      <th>regular_ex</th>\n",
              "      <th>job_title</th>\n",
              "      <th>claim</th>\n",
              "    </tr>\n",
              "  </thead>\n",
              "  <tbody>\n",
              "    <tr>\n",
              "      <th>0</th>\n",
              "      <td>60.0</td>\n",
              "      <td>male</td>\n",
              "      <td>24.3</td>\n",
              "      <td>NoDisease</td>\n",
              "      <td>1</td>\n",
              "      <td>0</td>\n",
              "      <td>72</td>\n",
              "      <td>0</td>\n",
              "      <td>0</td>\n",
              "      <td>avg_stressed</td>\n",
              "      <td>9.481405</td>\n",
              "    </tr>\n",
              "    <tr>\n",
              "      <th>1</th>\n",
              "      <td>49.0</td>\n",
              "      <td>female</td>\n",
              "      <td>22.6</td>\n",
              "      <td>NoDisease</td>\n",
              "      <td>1</td>\n",
              "      <td>0</td>\n",
              "      <td>78</td>\n",
              "      <td>1</td>\n",
              "      <td>1</td>\n",
              "      <td>more_stressed</td>\n",
              "      <td>9.166179</td>\n",
              "    </tr>\n",
              "  </tbody>\n",
              "</table>\n",
              "</div>\n",
              "      <button class=\"colab-df-convert\" onclick=\"convertToInteractive('df-d878404a-bb21-42ea-94d9-66d0e390a738')\"\n",
              "              title=\"Convert this dataframe to an interactive table.\"\n",
              "              style=\"display:none;\">\n",
              "        \n",
              "  <svg xmlns=\"http://www.w3.org/2000/svg\" height=\"24px\"viewBox=\"0 0 24 24\"\n",
              "       width=\"24px\">\n",
              "    <path d=\"M0 0h24v24H0V0z\" fill=\"none\"/>\n",
              "    <path d=\"M18.56 5.44l.94 2.06.94-2.06 2.06-.94-2.06-.94-.94-2.06-.94 2.06-2.06.94zm-11 1L8.5 8.5l.94-2.06 2.06-.94-2.06-.94L8.5 2.5l-.94 2.06-2.06.94zm10 10l.94 2.06.94-2.06 2.06-.94-2.06-.94-.94-2.06-.94 2.06-2.06.94z\"/><path d=\"M17.41 7.96l-1.37-1.37c-.4-.4-.92-.59-1.43-.59-.52 0-1.04.2-1.43.59L10.3 9.45l-7.72 7.72c-.78.78-.78 2.05 0 2.83L4 21.41c.39.39.9.59 1.41.59.51 0 1.02-.2 1.41-.59l7.78-7.78 2.81-2.81c.8-.78.8-2.07 0-2.86zM5.41 20L4 18.59l7.72-7.72 1.47 1.35L5.41 20z\"/>\n",
              "  </svg>\n",
              "      </button>\n",
              "      \n",
              "  <style>\n",
              "    .colab-df-container {\n",
              "      display:flex;\n",
              "      flex-wrap:wrap;\n",
              "      gap: 12px;\n",
              "    }\n",
              "\n",
              "    .colab-df-convert {\n",
              "      background-color: #E8F0FE;\n",
              "      border: none;\n",
              "      border-radius: 50%;\n",
              "      cursor: pointer;\n",
              "      display: none;\n",
              "      fill: #1967D2;\n",
              "      height: 32px;\n",
              "      padding: 0 0 0 0;\n",
              "      width: 32px;\n",
              "    }\n",
              "\n",
              "    .colab-df-convert:hover {\n",
              "      background-color: #E2EBFA;\n",
              "      box-shadow: 0px 1px 2px rgba(60, 64, 67, 0.3), 0px 1px 3px 1px rgba(60, 64, 67, 0.15);\n",
              "      fill: #174EA6;\n",
              "    }\n",
              "\n",
              "    [theme=dark] .colab-df-convert {\n",
              "      background-color: #3B4455;\n",
              "      fill: #D2E3FC;\n",
              "    }\n",
              "\n",
              "    [theme=dark] .colab-df-convert:hover {\n",
              "      background-color: #434B5C;\n",
              "      box-shadow: 0px 1px 3px 1px rgba(0, 0, 0, 0.15);\n",
              "      filter: drop-shadow(0px 1px 2px rgba(0, 0, 0, 0.3));\n",
              "      fill: #FFFFFF;\n",
              "    }\n",
              "  </style>\n",
              "\n",
              "      <script>\n",
              "        const buttonEl =\n",
              "          document.querySelector('#df-d878404a-bb21-42ea-94d9-66d0e390a738 button.colab-df-convert');\n",
              "        buttonEl.style.display =\n",
              "          google.colab.kernel.accessAllowed ? 'block' : 'none';\n",
              "\n",
              "        async function convertToInteractive(key) {\n",
              "          const element = document.querySelector('#df-d878404a-bb21-42ea-94d9-66d0e390a738');\n",
              "          const dataTable =\n",
              "            await google.colab.kernel.invokeFunction('convertToInteractive',\n",
              "                                                     [key], {});\n",
              "          if (!dataTable) return;\n",
              "\n",
              "          const docLinkHtml = 'Like what you see? Visit the ' +\n",
              "            '<a target=\"_blank\" href=https://colab.research.google.com/notebooks/data_table.ipynb>data table notebook</a>'\n",
              "            + ' to learn more about interactive tables.';\n",
              "          element.innerHTML = '';\n",
              "          dataTable['output_type'] = 'display_data';\n",
              "          await google.colab.output.renderOutput(dataTable, element);\n",
              "          const docLink = document.createElement('div');\n",
              "          docLink.innerHTML = docLinkHtml;\n",
              "          element.appendChild(docLink);\n",
              "        }\n",
              "      </script>\n",
              "    </div>\n",
              "  </div>\n",
              "  "
            ]
          },
          "metadata": {},
          "execution_count": 65
        }
      ],
      "source": [
        "ids.head(2)"
      ]
    },
    {
      "cell_type": "code",
      "execution_count": 66,
      "id": "48e89ae6",
      "metadata": {
        "id": "48e89ae6"
      },
      "outputs": [],
      "source": [
        "ids=pd.get_dummies(ids)"
      ]
    },
    {
      "cell_type": "code",
      "execution_count": 67,
      "id": "83436f62",
      "metadata": {
        "id": "83436f62",
        "outputId": "091ef68a-5fc1-4bf7-84a9-c5fad179996c",
        "colab": {
          "base_uri": "https://localhost:8080/",
          "height": 270
        }
      },
      "outputs": [
        {
          "output_type": "execute_result",
          "data": {
            "text/plain": [
              "    age   bmi  no_of_dependents  bloodpressure      claim  sex_female  \\\n",
              "0  60.0  24.3                 1             72   9.481405           0   \n",
              "1  49.0  22.6                 1             78   9.166179           1   \n",
              "2  32.0  17.8                 2             88  10.396206           1   \n",
              "3  61.0  36.4                 1             72  10.789703           1   \n",
              "4  19.0  20.6                 0             82   7.457436           1   \n",
              "\n",
              "   sex_male  hereditary_diseases_NoDisease  hereditary_diseases_moderate  \\\n",
              "0         1                              1                             0   \n",
              "1         0                              1                             0   \n",
              "2         0                              0                             1   \n",
              "3         0                              1                             0   \n",
              "4         0                              1                             0   \n",
              "\n",
              "   hereditary_diseases_severe  smoker_0  smoker_1  diabetes_0  diabetes_1  \\\n",
              "0                           0         1         0           1           0   \n",
              "1                           0         1         0           0           1   \n",
              "2                           0         0         1           0           1   \n",
              "3                           0         0         1           0           1   \n",
              "4                           0         1         0           0           1   \n",
              "\n",
              "   regular_ex_0  regular_ex_1  job_title_avg_stressed  \\\n",
              "0             1             0                       1   \n",
              "1             0             1                       0   \n",
              "2             0             1                       1   \n",
              "3             1             0                       0   \n",
              "4             1             0                       0   \n",
              "\n",
              "   job_title_less_stressed  job_title_more_stressed  \n",
              "0                        0                        0  \n",
              "1                        0                        1  \n",
              "2                        0                        0  \n",
              "3                        1                        0  \n",
              "4                        1                        0  "
            ],
            "text/html": [
              "\n",
              "  <div id=\"df-82ca915a-511a-42e5-8bb8-8463dcd210b6\">\n",
              "    <div class=\"colab-df-container\">\n",
              "      <div>\n",
              "<style scoped>\n",
              "    .dataframe tbody tr th:only-of-type {\n",
              "        vertical-align: middle;\n",
              "    }\n",
              "\n",
              "    .dataframe tbody tr th {\n",
              "        vertical-align: top;\n",
              "    }\n",
              "\n",
              "    .dataframe thead th {\n",
              "        text-align: right;\n",
              "    }\n",
              "</style>\n",
              "<table border=\"1\" class=\"dataframe\">\n",
              "  <thead>\n",
              "    <tr style=\"text-align: right;\">\n",
              "      <th></th>\n",
              "      <th>age</th>\n",
              "      <th>bmi</th>\n",
              "      <th>no_of_dependents</th>\n",
              "      <th>bloodpressure</th>\n",
              "      <th>claim</th>\n",
              "      <th>sex_female</th>\n",
              "      <th>sex_male</th>\n",
              "      <th>hereditary_diseases_NoDisease</th>\n",
              "      <th>hereditary_diseases_moderate</th>\n",
              "      <th>hereditary_diseases_severe</th>\n",
              "      <th>smoker_0</th>\n",
              "      <th>smoker_1</th>\n",
              "      <th>diabetes_0</th>\n",
              "      <th>diabetes_1</th>\n",
              "      <th>regular_ex_0</th>\n",
              "      <th>regular_ex_1</th>\n",
              "      <th>job_title_avg_stressed</th>\n",
              "      <th>job_title_less_stressed</th>\n",
              "      <th>job_title_more_stressed</th>\n",
              "    </tr>\n",
              "  </thead>\n",
              "  <tbody>\n",
              "    <tr>\n",
              "      <th>0</th>\n",
              "      <td>60.0</td>\n",
              "      <td>24.3</td>\n",
              "      <td>1</td>\n",
              "      <td>72</td>\n",
              "      <td>9.481405</td>\n",
              "      <td>0</td>\n",
              "      <td>1</td>\n",
              "      <td>1</td>\n",
              "      <td>0</td>\n",
              "      <td>0</td>\n",
              "      <td>1</td>\n",
              "      <td>0</td>\n",
              "      <td>1</td>\n",
              "      <td>0</td>\n",
              "      <td>1</td>\n",
              "      <td>0</td>\n",
              "      <td>1</td>\n",
              "      <td>0</td>\n",
              "      <td>0</td>\n",
              "    </tr>\n",
              "    <tr>\n",
              "      <th>1</th>\n",
              "      <td>49.0</td>\n",
              "      <td>22.6</td>\n",
              "      <td>1</td>\n",
              "      <td>78</td>\n",
              "      <td>9.166179</td>\n",
              "      <td>1</td>\n",
              "      <td>0</td>\n",
              "      <td>1</td>\n",
              "      <td>0</td>\n",
              "      <td>0</td>\n",
              "      <td>1</td>\n",
              "      <td>0</td>\n",
              "      <td>0</td>\n",
              "      <td>1</td>\n",
              "      <td>0</td>\n",
              "      <td>1</td>\n",
              "      <td>0</td>\n",
              "      <td>0</td>\n",
              "      <td>1</td>\n",
              "    </tr>\n",
              "    <tr>\n",
              "      <th>2</th>\n",
              "      <td>32.0</td>\n",
              "      <td>17.8</td>\n",
              "      <td>2</td>\n",
              "      <td>88</td>\n",
              "      <td>10.396206</td>\n",
              "      <td>1</td>\n",
              "      <td>0</td>\n",
              "      <td>0</td>\n",
              "      <td>1</td>\n",
              "      <td>0</td>\n",
              "      <td>0</td>\n",
              "      <td>1</td>\n",
              "      <td>0</td>\n",
              "      <td>1</td>\n",
              "      <td>0</td>\n",
              "      <td>1</td>\n",
              "      <td>1</td>\n",
              "      <td>0</td>\n",
              "      <td>0</td>\n",
              "    </tr>\n",
              "    <tr>\n",
              "      <th>3</th>\n",
              "      <td>61.0</td>\n",
              "      <td>36.4</td>\n",
              "      <td>1</td>\n",
              "      <td>72</td>\n",
              "      <td>10.789703</td>\n",
              "      <td>1</td>\n",
              "      <td>0</td>\n",
              "      <td>1</td>\n",
              "      <td>0</td>\n",
              "      <td>0</td>\n",
              "      <td>0</td>\n",
              "      <td>1</td>\n",
              "      <td>0</td>\n",
              "      <td>1</td>\n",
              "      <td>1</td>\n",
              "      <td>0</td>\n",
              "      <td>0</td>\n",
              "      <td>1</td>\n",
              "      <td>0</td>\n",
              "    </tr>\n",
              "    <tr>\n",
              "      <th>4</th>\n",
              "      <td>19.0</td>\n",
              "      <td>20.6</td>\n",
              "      <td>0</td>\n",
              "      <td>82</td>\n",
              "      <td>7.457436</td>\n",
              "      <td>1</td>\n",
              "      <td>0</td>\n",
              "      <td>1</td>\n",
              "      <td>0</td>\n",
              "      <td>0</td>\n",
              "      <td>1</td>\n",
              "      <td>0</td>\n",
              "      <td>0</td>\n",
              "      <td>1</td>\n",
              "      <td>1</td>\n",
              "      <td>0</td>\n",
              "      <td>0</td>\n",
              "      <td>1</td>\n",
              "      <td>0</td>\n",
              "    </tr>\n",
              "  </tbody>\n",
              "</table>\n",
              "</div>\n",
              "      <button class=\"colab-df-convert\" onclick=\"convertToInteractive('df-82ca915a-511a-42e5-8bb8-8463dcd210b6')\"\n",
              "              title=\"Convert this dataframe to an interactive table.\"\n",
              "              style=\"display:none;\">\n",
              "        \n",
              "  <svg xmlns=\"http://www.w3.org/2000/svg\" height=\"24px\"viewBox=\"0 0 24 24\"\n",
              "       width=\"24px\">\n",
              "    <path d=\"M0 0h24v24H0V0z\" fill=\"none\"/>\n",
              "    <path d=\"M18.56 5.44l.94 2.06.94-2.06 2.06-.94-2.06-.94-.94-2.06-.94 2.06-2.06.94zm-11 1L8.5 8.5l.94-2.06 2.06-.94-2.06-.94L8.5 2.5l-.94 2.06-2.06.94zm10 10l.94 2.06.94-2.06 2.06-.94-2.06-.94-.94-2.06-.94 2.06-2.06.94z\"/><path d=\"M17.41 7.96l-1.37-1.37c-.4-.4-.92-.59-1.43-.59-.52 0-1.04.2-1.43.59L10.3 9.45l-7.72 7.72c-.78.78-.78 2.05 0 2.83L4 21.41c.39.39.9.59 1.41.59.51 0 1.02-.2 1.41-.59l7.78-7.78 2.81-2.81c.8-.78.8-2.07 0-2.86zM5.41 20L4 18.59l7.72-7.72 1.47 1.35L5.41 20z\"/>\n",
              "  </svg>\n",
              "      </button>\n",
              "      \n",
              "  <style>\n",
              "    .colab-df-container {\n",
              "      display:flex;\n",
              "      flex-wrap:wrap;\n",
              "      gap: 12px;\n",
              "    }\n",
              "\n",
              "    .colab-df-convert {\n",
              "      background-color: #E8F0FE;\n",
              "      border: none;\n",
              "      border-radius: 50%;\n",
              "      cursor: pointer;\n",
              "      display: none;\n",
              "      fill: #1967D2;\n",
              "      height: 32px;\n",
              "      padding: 0 0 0 0;\n",
              "      width: 32px;\n",
              "    }\n",
              "\n",
              "    .colab-df-convert:hover {\n",
              "      background-color: #E2EBFA;\n",
              "      box-shadow: 0px 1px 2px rgba(60, 64, 67, 0.3), 0px 1px 3px 1px rgba(60, 64, 67, 0.15);\n",
              "      fill: #174EA6;\n",
              "    }\n",
              "\n",
              "    [theme=dark] .colab-df-convert {\n",
              "      background-color: #3B4455;\n",
              "      fill: #D2E3FC;\n",
              "    }\n",
              "\n",
              "    [theme=dark] .colab-df-convert:hover {\n",
              "      background-color: #434B5C;\n",
              "      box-shadow: 0px 1px 3px 1px rgba(0, 0, 0, 0.15);\n",
              "      filter: drop-shadow(0px 1px 2px rgba(0, 0, 0, 0.3));\n",
              "      fill: #FFFFFF;\n",
              "    }\n",
              "  </style>\n",
              "\n",
              "      <script>\n",
              "        const buttonEl =\n",
              "          document.querySelector('#df-82ca915a-511a-42e5-8bb8-8463dcd210b6 button.colab-df-convert');\n",
              "        buttonEl.style.display =\n",
              "          google.colab.kernel.accessAllowed ? 'block' : 'none';\n",
              "\n",
              "        async function convertToInteractive(key) {\n",
              "          const element = document.querySelector('#df-82ca915a-511a-42e5-8bb8-8463dcd210b6');\n",
              "          const dataTable =\n",
              "            await google.colab.kernel.invokeFunction('convertToInteractive',\n",
              "                                                     [key], {});\n",
              "          if (!dataTable) return;\n",
              "\n",
              "          const docLinkHtml = 'Like what you see? Visit the ' +\n",
              "            '<a target=\"_blank\" href=https://colab.research.google.com/notebooks/data_table.ipynb>data table notebook</a>'\n",
              "            + ' to learn more about interactive tables.';\n",
              "          element.innerHTML = '';\n",
              "          dataTable['output_type'] = 'display_data';\n",
              "          await google.colab.output.renderOutput(dataTable, element);\n",
              "          const docLink = document.createElement('div');\n",
              "          docLink.innerHTML = docLinkHtml;\n",
              "          element.appendChild(docLink);\n",
              "        }\n",
              "      </script>\n",
              "    </div>\n",
              "  </div>\n",
              "  "
            ]
          },
          "metadata": {},
          "execution_count": 67
        }
      ],
      "source": [
        "ids.head()"
      ]
    },
    {
      "cell_type": "code",
      "execution_count": 68,
      "id": "45011dd1",
      "metadata": {
        "id": "45011dd1"
      },
      "outputs": [],
      "source": [
        "ids.drop(['sex_female','hereditary_diseases_NoDisease','job_title_avg_stressed'],axis=1,inplace=True)"
      ]
    },
    {
      "cell_type": "code",
      "execution_count": 69,
      "id": "5c3b5bd3",
      "metadata": {
        "id": "5c3b5bd3",
        "outputId": "cf50564a-557f-46db-f17c-7df3356d2e06",
        "colab": {
          "base_uri": "https://localhost:8080/",
          "height": 176
        }
      },
      "outputs": [
        {
          "output_type": "execute_result",
          "data": {
            "text/plain": [
              "    age   bmi  no_of_dependents  bloodpressure     claim  sex_male  \\\n",
              "0  60.0  24.3                 1             72  9.481405         1   \n",
              "1  49.0  22.6                 1             78  9.166179         0   \n",
              "\n",
              "   hereditary_diseases_moderate  hereditary_diseases_severe  smoker_0  \\\n",
              "0                             0                           0         1   \n",
              "1                             0                           0         1   \n",
              "\n",
              "   smoker_1  diabetes_0  diabetes_1  regular_ex_0  regular_ex_1  \\\n",
              "0         0           1           0             1             0   \n",
              "1         0           0           1             0             1   \n",
              "\n",
              "   job_title_less_stressed  job_title_more_stressed  \n",
              "0                        0                        0  \n",
              "1                        0                        1  "
            ],
            "text/html": [
              "\n",
              "  <div id=\"df-1aa497fa-0a7a-49d1-8aa9-9553a6c6b30c\">\n",
              "    <div class=\"colab-df-container\">\n",
              "      <div>\n",
              "<style scoped>\n",
              "    .dataframe tbody tr th:only-of-type {\n",
              "        vertical-align: middle;\n",
              "    }\n",
              "\n",
              "    .dataframe tbody tr th {\n",
              "        vertical-align: top;\n",
              "    }\n",
              "\n",
              "    .dataframe thead th {\n",
              "        text-align: right;\n",
              "    }\n",
              "</style>\n",
              "<table border=\"1\" class=\"dataframe\">\n",
              "  <thead>\n",
              "    <tr style=\"text-align: right;\">\n",
              "      <th></th>\n",
              "      <th>age</th>\n",
              "      <th>bmi</th>\n",
              "      <th>no_of_dependents</th>\n",
              "      <th>bloodpressure</th>\n",
              "      <th>claim</th>\n",
              "      <th>sex_male</th>\n",
              "      <th>hereditary_diseases_moderate</th>\n",
              "      <th>hereditary_diseases_severe</th>\n",
              "      <th>smoker_0</th>\n",
              "      <th>smoker_1</th>\n",
              "      <th>diabetes_0</th>\n",
              "      <th>diabetes_1</th>\n",
              "      <th>regular_ex_0</th>\n",
              "      <th>regular_ex_1</th>\n",
              "      <th>job_title_less_stressed</th>\n",
              "      <th>job_title_more_stressed</th>\n",
              "    </tr>\n",
              "  </thead>\n",
              "  <tbody>\n",
              "    <tr>\n",
              "      <th>0</th>\n",
              "      <td>60.0</td>\n",
              "      <td>24.3</td>\n",
              "      <td>1</td>\n",
              "      <td>72</td>\n",
              "      <td>9.481405</td>\n",
              "      <td>1</td>\n",
              "      <td>0</td>\n",
              "      <td>0</td>\n",
              "      <td>1</td>\n",
              "      <td>0</td>\n",
              "      <td>1</td>\n",
              "      <td>0</td>\n",
              "      <td>1</td>\n",
              "      <td>0</td>\n",
              "      <td>0</td>\n",
              "      <td>0</td>\n",
              "    </tr>\n",
              "    <tr>\n",
              "      <th>1</th>\n",
              "      <td>49.0</td>\n",
              "      <td>22.6</td>\n",
              "      <td>1</td>\n",
              "      <td>78</td>\n",
              "      <td>9.166179</td>\n",
              "      <td>0</td>\n",
              "      <td>0</td>\n",
              "      <td>0</td>\n",
              "      <td>1</td>\n",
              "      <td>0</td>\n",
              "      <td>0</td>\n",
              "      <td>1</td>\n",
              "      <td>0</td>\n",
              "      <td>1</td>\n",
              "      <td>0</td>\n",
              "      <td>1</td>\n",
              "    </tr>\n",
              "  </tbody>\n",
              "</table>\n",
              "</div>\n",
              "      <button class=\"colab-df-convert\" onclick=\"convertToInteractive('df-1aa497fa-0a7a-49d1-8aa9-9553a6c6b30c')\"\n",
              "              title=\"Convert this dataframe to an interactive table.\"\n",
              "              style=\"display:none;\">\n",
              "        \n",
              "  <svg xmlns=\"http://www.w3.org/2000/svg\" height=\"24px\"viewBox=\"0 0 24 24\"\n",
              "       width=\"24px\">\n",
              "    <path d=\"M0 0h24v24H0V0z\" fill=\"none\"/>\n",
              "    <path d=\"M18.56 5.44l.94 2.06.94-2.06 2.06-.94-2.06-.94-.94-2.06-.94 2.06-2.06.94zm-11 1L8.5 8.5l.94-2.06 2.06-.94-2.06-.94L8.5 2.5l-.94 2.06-2.06.94zm10 10l.94 2.06.94-2.06 2.06-.94-2.06-.94-.94-2.06-.94 2.06-2.06.94z\"/><path d=\"M17.41 7.96l-1.37-1.37c-.4-.4-.92-.59-1.43-.59-.52 0-1.04.2-1.43.59L10.3 9.45l-7.72 7.72c-.78.78-.78 2.05 0 2.83L4 21.41c.39.39.9.59 1.41.59.51 0 1.02-.2 1.41-.59l7.78-7.78 2.81-2.81c.8-.78.8-2.07 0-2.86zM5.41 20L4 18.59l7.72-7.72 1.47 1.35L5.41 20z\"/>\n",
              "  </svg>\n",
              "      </button>\n",
              "      \n",
              "  <style>\n",
              "    .colab-df-container {\n",
              "      display:flex;\n",
              "      flex-wrap:wrap;\n",
              "      gap: 12px;\n",
              "    }\n",
              "\n",
              "    .colab-df-convert {\n",
              "      background-color: #E8F0FE;\n",
              "      border: none;\n",
              "      border-radius: 50%;\n",
              "      cursor: pointer;\n",
              "      display: none;\n",
              "      fill: #1967D2;\n",
              "      height: 32px;\n",
              "      padding: 0 0 0 0;\n",
              "      width: 32px;\n",
              "    }\n",
              "\n",
              "    .colab-df-convert:hover {\n",
              "      background-color: #E2EBFA;\n",
              "      box-shadow: 0px 1px 2px rgba(60, 64, 67, 0.3), 0px 1px 3px 1px rgba(60, 64, 67, 0.15);\n",
              "      fill: #174EA6;\n",
              "    }\n",
              "\n",
              "    [theme=dark] .colab-df-convert {\n",
              "      background-color: #3B4455;\n",
              "      fill: #D2E3FC;\n",
              "    }\n",
              "\n",
              "    [theme=dark] .colab-df-convert:hover {\n",
              "      background-color: #434B5C;\n",
              "      box-shadow: 0px 1px 3px 1px rgba(0, 0, 0, 0.15);\n",
              "      filter: drop-shadow(0px 1px 2px rgba(0, 0, 0, 0.3));\n",
              "      fill: #FFFFFF;\n",
              "    }\n",
              "  </style>\n",
              "\n",
              "      <script>\n",
              "        const buttonEl =\n",
              "          document.querySelector('#df-1aa497fa-0a7a-49d1-8aa9-9553a6c6b30c button.colab-df-convert');\n",
              "        buttonEl.style.display =\n",
              "          google.colab.kernel.accessAllowed ? 'block' : 'none';\n",
              "\n",
              "        async function convertToInteractive(key) {\n",
              "          const element = document.querySelector('#df-1aa497fa-0a7a-49d1-8aa9-9553a6c6b30c');\n",
              "          const dataTable =\n",
              "            await google.colab.kernel.invokeFunction('convertToInteractive',\n",
              "                                                     [key], {});\n",
              "          if (!dataTable) return;\n",
              "\n",
              "          const docLinkHtml = 'Like what you see? Visit the ' +\n",
              "            '<a target=\"_blank\" href=https://colab.research.google.com/notebooks/data_table.ipynb>data table notebook</a>'\n",
              "            + ' to learn more about interactive tables.';\n",
              "          element.innerHTML = '';\n",
              "          dataTable['output_type'] = 'display_data';\n",
              "          await google.colab.output.renderOutput(dataTable, element);\n",
              "          const docLink = document.createElement('div');\n",
              "          docLink.innerHTML = docLinkHtml;\n",
              "          element.appendChild(docLink);\n",
              "        }\n",
              "      </script>\n",
              "    </div>\n",
              "  </div>\n",
              "  "
            ]
          },
          "metadata": {},
          "execution_count": 69
        }
      ],
      "source": [
        "ids.head(2)"
      ]
    },
    {
      "cell_type": "markdown",
      "source": [
        "#Note: \n",
        "Now the categorical variables are dummy encoded creating n-1 variables for each categorical variables, where n is the number of classes in each categorical variable. So for variable 'region', which has 5 levels, it has created 4 dummy encoded variables. Similarly, variable 'smoker' has 2 levels and it has created 1 dummy encoded variable."
      ],
      "metadata": {
        "id": "yR0ni8Fk2oKT"
      },
      "id": "yR0ni8Fk2oKT"
    },
    {
      "cell_type": "markdown",
      "id": "348a03a1",
      "metadata": {
        "id": "348a03a1"
      },
      "source": [
        "# Independent and Dependent Columns storing in x and y"
      ]
    },
    {
      "cell_type": "code",
      "execution_count": 70,
      "id": "30dcb873",
      "metadata": {
        "id": "30dcb873"
      },
      "outputs": [],
      "source": [
        "x=ids.drop(['claim'],axis=1)\n",
        "y=ids['claim']"
      ]
    },
    {
      "cell_type": "code",
      "execution_count": 71,
      "id": "d2996e9a",
      "metadata": {
        "id": "d2996e9a",
        "outputId": "9ef98613-038a-46f3-a151-5e69f76e4f00",
        "colab": {
          "base_uri": "https://localhost:8080/"
        }
      },
      "outputs": [
        {
          "output_type": "execute_result",
          "data": {
            "text/plain": [
              "0         9.481405\n",
              "1         9.166179\n",
              "2        10.396206\n",
              "3        10.789703\n",
              "4         7.457436\n",
              "           ...    \n",
              "14995     9.956232\n",
              "14996     8.924430\n",
              "14997     7.238856\n",
              "14998     9.121028\n",
              "14999    10.165613\n",
              "Name: claim, Length: 15000, dtype: float64"
            ]
          },
          "metadata": {},
          "execution_count": 71
        }
      ],
      "source": [
        "y"
      ]
    },
    {
      "cell_type": "code",
      "execution_count": 72,
      "id": "958643ab",
      "metadata": {
        "id": "958643ab",
        "outputId": "9d03e30b-6666-43c9-e82c-91e6b250daa2",
        "colab": {
          "base_uri": "https://localhost:8080/",
          "height": 487
        }
      },
      "outputs": [
        {
          "output_type": "execute_result",
          "data": {
            "text/plain": [
              "        age   bmi  no_of_dependents  bloodpressure  sex_male  \\\n",
              "0      60.0  24.3                 1             72         1   \n",
              "1      49.0  22.6                 1             78         0   \n",
              "2      32.0  17.8                 2             88         0   \n",
              "3      61.0  36.4                 1             72         0   \n",
              "4      19.0  20.6                 0             82         0   \n",
              "...     ...   ...               ...            ...       ...   \n",
              "14995  39.0  28.3                 1             54         1   \n",
              "14996  39.0  29.6                 4             64         1   \n",
              "14997  20.0  33.3                 0             52         1   \n",
              "14998  52.0  36.7                 0             70         1   \n",
              "14999  52.0  26.4                 3             72         1   \n",
              "\n",
              "       hereditary_diseases_moderate  hereditary_diseases_severe  smoker_0  \\\n",
              "0                                 0                           0         1   \n",
              "1                                 0                           0         1   \n",
              "2                                 1                           0         0   \n",
              "3                                 0                           0         0   \n",
              "4                                 0                           0         1   \n",
              "...                             ...                         ...       ...   \n",
              "14995                             0                           0         0   \n",
              "14996                             0                           0         1   \n",
              "14997                             0                           0         1   \n",
              "14998                             0                           0         1   \n",
              "14999                             0                           0         1   \n",
              "\n",
              "       smoker_1  diabetes_0  diabetes_1  regular_ex_0  regular_ex_1  \\\n",
              "0             0           1           0             1             0   \n",
              "1             0           0           1             0             1   \n",
              "2             1           0           1             0             1   \n",
              "3             1           0           1             1             0   \n",
              "4             0           0           1             1             0   \n",
              "...         ...         ...         ...           ...           ...   \n",
              "14995         1           0           1             1             0   \n",
              "14996         0           0           1             1             0   \n",
              "14997         0           0           1             1             0   \n",
              "14998         0           0           1             1             0   \n",
              "14999         0           0           1             1             0   \n",
              "\n",
              "       job_title_less_stressed  job_title_more_stressed  \n",
              "0                            0                        0  \n",
              "1                            0                        1  \n",
              "2                            0                        0  \n",
              "3                            1                        0  \n",
              "4                            1                        0  \n",
              "...                        ...                      ...  \n",
              "14995                        0                        0  \n",
              "14996                        0                        0  \n",
              "14997                        0                        0  \n",
              "14998                        1                        0  \n",
              "14999                        0                        1  \n",
              "\n",
              "[15000 rows x 15 columns]"
            ],
            "text/html": [
              "\n",
              "  <div id=\"df-3d3b546a-5171-4f94-80a6-0b196efe9883\">\n",
              "    <div class=\"colab-df-container\">\n",
              "      <div>\n",
              "<style scoped>\n",
              "    .dataframe tbody tr th:only-of-type {\n",
              "        vertical-align: middle;\n",
              "    }\n",
              "\n",
              "    .dataframe tbody tr th {\n",
              "        vertical-align: top;\n",
              "    }\n",
              "\n",
              "    .dataframe thead th {\n",
              "        text-align: right;\n",
              "    }\n",
              "</style>\n",
              "<table border=\"1\" class=\"dataframe\">\n",
              "  <thead>\n",
              "    <tr style=\"text-align: right;\">\n",
              "      <th></th>\n",
              "      <th>age</th>\n",
              "      <th>bmi</th>\n",
              "      <th>no_of_dependents</th>\n",
              "      <th>bloodpressure</th>\n",
              "      <th>sex_male</th>\n",
              "      <th>hereditary_diseases_moderate</th>\n",
              "      <th>hereditary_diseases_severe</th>\n",
              "      <th>smoker_0</th>\n",
              "      <th>smoker_1</th>\n",
              "      <th>diabetes_0</th>\n",
              "      <th>diabetes_1</th>\n",
              "      <th>regular_ex_0</th>\n",
              "      <th>regular_ex_1</th>\n",
              "      <th>job_title_less_stressed</th>\n",
              "      <th>job_title_more_stressed</th>\n",
              "    </tr>\n",
              "  </thead>\n",
              "  <tbody>\n",
              "    <tr>\n",
              "      <th>0</th>\n",
              "      <td>60.0</td>\n",
              "      <td>24.3</td>\n",
              "      <td>1</td>\n",
              "      <td>72</td>\n",
              "      <td>1</td>\n",
              "      <td>0</td>\n",
              "      <td>0</td>\n",
              "      <td>1</td>\n",
              "      <td>0</td>\n",
              "      <td>1</td>\n",
              "      <td>0</td>\n",
              "      <td>1</td>\n",
              "      <td>0</td>\n",
              "      <td>0</td>\n",
              "      <td>0</td>\n",
              "    </tr>\n",
              "    <tr>\n",
              "      <th>1</th>\n",
              "      <td>49.0</td>\n",
              "      <td>22.6</td>\n",
              "      <td>1</td>\n",
              "      <td>78</td>\n",
              "      <td>0</td>\n",
              "      <td>0</td>\n",
              "      <td>0</td>\n",
              "      <td>1</td>\n",
              "      <td>0</td>\n",
              "      <td>0</td>\n",
              "      <td>1</td>\n",
              "      <td>0</td>\n",
              "      <td>1</td>\n",
              "      <td>0</td>\n",
              "      <td>1</td>\n",
              "    </tr>\n",
              "    <tr>\n",
              "      <th>2</th>\n",
              "      <td>32.0</td>\n",
              "      <td>17.8</td>\n",
              "      <td>2</td>\n",
              "      <td>88</td>\n",
              "      <td>0</td>\n",
              "      <td>1</td>\n",
              "      <td>0</td>\n",
              "      <td>0</td>\n",
              "      <td>1</td>\n",
              "      <td>0</td>\n",
              "      <td>1</td>\n",
              "      <td>0</td>\n",
              "      <td>1</td>\n",
              "      <td>0</td>\n",
              "      <td>0</td>\n",
              "    </tr>\n",
              "    <tr>\n",
              "      <th>3</th>\n",
              "      <td>61.0</td>\n",
              "      <td>36.4</td>\n",
              "      <td>1</td>\n",
              "      <td>72</td>\n",
              "      <td>0</td>\n",
              "      <td>0</td>\n",
              "      <td>0</td>\n",
              "      <td>0</td>\n",
              "      <td>1</td>\n",
              "      <td>0</td>\n",
              "      <td>1</td>\n",
              "      <td>1</td>\n",
              "      <td>0</td>\n",
              "      <td>1</td>\n",
              "      <td>0</td>\n",
              "    </tr>\n",
              "    <tr>\n",
              "      <th>4</th>\n",
              "      <td>19.0</td>\n",
              "      <td>20.6</td>\n",
              "      <td>0</td>\n",
              "      <td>82</td>\n",
              "      <td>0</td>\n",
              "      <td>0</td>\n",
              "      <td>0</td>\n",
              "      <td>1</td>\n",
              "      <td>0</td>\n",
              "      <td>0</td>\n",
              "      <td>1</td>\n",
              "      <td>1</td>\n",
              "      <td>0</td>\n",
              "      <td>1</td>\n",
              "      <td>0</td>\n",
              "    </tr>\n",
              "    <tr>\n",
              "      <th>...</th>\n",
              "      <td>...</td>\n",
              "      <td>...</td>\n",
              "      <td>...</td>\n",
              "      <td>...</td>\n",
              "      <td>...</td>\n",
              "      <td>...</td>\n",
              "      <td>...</td>\n",
              "      <td>...</td>\n",
              "      <td>...</td>\n",
              "      <td>...</td>\n",
              "      <td>...</td>\n",
              "      <td>...</td>\n",
              "      <td>...</td>\n",
              "      <td>...</td>\n",
              "      <td>...</td>\n",
              "    </tr>\n",
              "    <tr>\n",
              "      <th>14995</th>\n",
              "      <td>39.0</td>\n",
              "      <td>28.3</td>\n",
              "      <td>1</td>\n",
              "      <td>54</td>\n",
              "      <td>1</td>\n",
              "      <td>0</td>\n",
              "      <td>0</td>\n",
              "      <td>0</td>\n",
              "      <td>1</td>\n",
              "      <td>0</td>\n",
              "      <td>1</td>\n",
              "      <td>1</td>\n",
              "      <td>0</td>\n",
              "      <td>0</td>\n",
              "      <td>0</td>\n",
              "    </tr>\n",
              "    <tr>\n",
              "      <th>14996</th>\n",
              "      <td>39.0</td>\n",
              "      <td>29.6</td>\n",
              "      <td>4</td>\n",
              "      <td>64</td>\n",
              "      <td>1</td>\n",
              "      <td>0</td>\n",
              "      <td>0</td>\n",
              "      <td>1</td>\n",
              "      <td>0</td>\n",
              "      <td>0</td>\n",
              "      <td>1</td>\n",
              "      <td>1</td>\n",
              "      <td>0</td>\n",
              "      <td>0</td>\n",
              "      <td>0</td>\n",
              "    </tr>\n",
              "    <tr>\n",
              "      <th>14997</th>\n",
              "      <td>20.0</td>\n",
              "      <td>33.3</td>\n",
              "      <td>0</td>\n",
              "      <td>52</td>\n",
              "      <td>1</td>\n",
              "      <td>0</td>\n",
              "      <td>0</td>\n",
              "      <td>1</td>\n",
              "      <td>0</td>\n",
              "      <td>0</td>\n",
              "      <td>1</td>\n",
              "      <td>1</td>\n",
              "      <td>0</td>\n",
              "      <td>0</td>\n",
              "      <td>0</td>\n",
              "    </tr>\n",
              "    <tr>\n",
              "      <th>14998</th>\n",
              "      <td>52.0</td>\n",
              "      <td>36.7</td>\n",
              "      <td>0</td>\n",
              "      <td>70</td>\n",
              "      <td>1</td>\n",
              "      <td>0</td>\n",
              "      <td>0</td>\n",
              "      <td>1</td>\n",
              "      <td>0</td>\n",
              "      <td>0</td>\n",
              "      <td>1</td>\n",
              "      <td>1</td>\n",
              "      <td>0</td>\n",
              "      <td>1</td>\n",
              "      <td>0</td>\n",
              "    </tr>\n",
              "    <tr>\n",
              "      <th>14999</th>\n",
              "      <td>52.0</td>\n",
              "      <td>26.4</td>\n",
              "      <td>3</td>\n",
              "      <td>72</td>\n",
              "      <td>1</td>\n",
              "      <td>0</td>\n",
              "      <td>0</td>\n",
              "      <td>1</td>\n",
              "      <td>0</td>\n",
              "      <td>0</td>\n",
              "      <td>1</td>\n",
              "      <td>1</td>\n",
              "      <td>0</td>\n",
              "      <td>0</td>\n",
              "      <td>1</td>\n",
              "    </tr>\n",
              "  </tbody>\n",
              "</table>\n",
              "<p>15000 rows × 15 columns</p>\n",
              "</div>\n",
              "      <button class=\"colab-df-convert\" onclick=\"convertToInteractive('df-3d3b546a-5171-4f94-80a6-0b196efe9883')\"\n",
              "              title=\"Convert this dataframe to an interactive table.\"\n",
              "              style=\"display:none;\">\n",
              "        \n",
              "  <svg xmlns=\"http://www.w3.org/2000/svg\" height=\"24px\"viewBox=\"0 0 24 24\"\n",
              "       width=\"24px\">\n",
              "    <path d=\"M0 0h24v24H0V0z\" fill=\"none\"/>\n",
              "    <path d=\"M18.56 5.44l.94 2.06.94-2.06 2.06-.94-2.06-.94-.94-2.06-.94 2.06-2.06.94zm-11 1L8.5 8.5l.94-2.06 2.06-.94-2.06-.94L8.5 2.5l-.94 2.06-2.06.94zm10 10l.94 2.06.94-2.06 2.06-.94-2.06-.94-.94-2.06-.94 2.06-2.06.94z\"/><path d=\"M17.41 7.96l-1.37-1.37c-.4-.4-.92-.59-1.43-.59-.52 0-1.04.2-1.43.59L10.3 9.45l-7.72 7.72c-.78.78-.78 2.05 0 2.83L4 21.41c.39.39.9.59 1.41.59.51 0 1.02-.2 1.41-.59l7.78-7.78 2.81-2.81c.8-.78.8-2.07 0-2.86zM5.41 20L4 18.59l7.72-7.72 1.47 1.35L5.41 20z\"/>\n",
              "  </svg>\n",
              "      </button>\n",
              "      \n",
              "  <style>\n",
              "    .colab-df-container {\n",
              "      display:flex;\n",
              "      flex-wrap:wrap;\n",
              "      gap: 12px;\n",
              "    }\n",
              "\n",
              "    .colab-df-convert {\n",
              "      background-color: #E8F0FE;\n",
              "      border: none;\n",
              "      border-radius: 50%;\n",
              "      cursor: pointer;\n",
              "      display: none;\n",
              "      fill: #1967D2;\n",
              "      height: 32px;\n",
              "      padding: 0 0 0 0;\n",
              "      width: 32px;\n",
              "    }\n",
              "\n",
              "    .colab-df-convert:hover {\n",
              "      background-color: #E2EBFA;\n",
              "      box-shadow: 0px 1px 2px rgba(60, 64, 67, 0.3), 0px 1px 3px 1px rgba(60, 64, 67, 0.15);\n",
              "      fill: #174EA6;\n",
              "    }\n",
              "\n",
              "    [theme=dark] .colab-df-convert {\n",
              "      background-color: #3B4455;\n",
              "      fill: #D2E3FC;\n",
              "    }\n",
              "\n",
              "    [theme=dark] .colab-df-convert:hover {\n",
              "      background-color: #434B5C;\n",
              "      box-shadow: 0px 1px 3px 1px rgba(0, 0, 0, 0.15);\n",
              "      filter: drop-shadow(0px 1px 2px rgba(0, 0, 0, 0.3));\n",
              "      fill: #FFFFFF;\n",
              "    }\n",
              "  </style>\n",
              "\n",
              "      <script>\n",
              "        const buttonEl =\n",
              "          document.querySelector('#df-3d3b546a-5171-4f94-80a6-0b196efe9883 button.colab-df-convert');\n",
              "        buttonEl.style.display =\n",
              "          google.colab.kernel.accessAllowed ? 'block' : 'none';\n",
              "\n",
              "        async function convertToInteractive(key) {\n",
              "          const element = document.querySelector('#df-3d3b546a-5171-4f94-80a6-0b196efe9883');\n",
              "          const dataTable =\n",
              "            await google.colab.kernel.invokeFunction('convertToInteractive',\n",
              "                                                     [key], {});\n",
              "          if (!dataTable) return;\n",
              "\n",
              "          const docLinkHtml = 'Like what you see? Visit the ' +\n",
              "            '<a target=\"_blank\" href=https://colab.research.google.com/notebooks/data_table.ipynb>data table notebook</a>'\n",
              "            + ' to learn more about interactive tables.';\n",
              "          element.innerHTML = '';\n",
              "          dataTable['output_type'] = 'display_data';\n",
              "          await google.colab.output.renderOutput(dataTable, element);\n",
              "          const docLink = document.createElement('div');\n",
              "          docLink.innerHTML = docLinkHtml;\n",
              "          element.appendChild(docLink);\n",
              "        }\n",
              "      </script>\n",
              "    </div>\n",
              "  </div>\n",
              "  "
            ]
          },
          "metadata": {},
          "execution_count": 72
        }
      ],
      "source": [
        "x"
      ]
    },
    {
      "cell_type": "markdown",
      "id": "c2c911e1",
      "metadata": {
        "id": "c2c911e1"
      },
      "source": [
        "# Test Train Split"
      ]
    },
    {
      "cell_type": "code",
      "execution_count": 73,
      "id": "ad68e362",
      "metadata": {
        "id": "ad68e362"
      },
      "outputs": [],
      "source": [
        "from sklearn.model_selection import train_test_split\n",
        "x_train,x_test,y_train,y_test = train_test_split(x,y,test_size=0.2,random_state=0)"
      ]
    },
    {
      "cell_type": "markdown",
      "source": [
        "#feature scaling : standardization"
      ],
      "metadata": {
        "id": "I0P3RXEEcMWT"
      },
      "id": "I0P3RXEEcMWT"
    },
    {
      "cell_type": "code",
      "source": [
        "from sklearn.preprocessing import StandardScaler\n",
        "sc=StandardScaler()\n",
        "x_train= sc.fit_transform(x_train)\n",
        "x_test=sc.transform(x_test)"
      ],
      "metadata": {
        "id": "pxVwGQMdcJ48"
      },
      "id": "pxVwGQMdcJ48",
      "execution_count": 74,
      "outputs": []
    },
    {
      "cell_type": "code",
      "source": [
        "x_train"
      ],
      "metadata": {
        "colab": {
          "base_uri": "https://localhost:8080/"
        },
        "id": "AeNsgUMCcKE5",
        "outputId": "4767c047-cd59-4492-8211-f852f4da7864"
      },
      "id": "AeNsgUMCcKE5",
      "execution_count": 75,
      "outputs": [
        {
          "output_type": "execute_result",
          "data": {
            "text/plain": [
              "array([[-0.90083593,  0.65748549, -0.92731656, ..., -0.54087551,\n",
              "        -0.78329678,  2.22274471],\n",
              "       [ 0.33113865, -0.90824182, -0.11471259, ..., -0.54087551,\n",
              "        -0.78329678, -0.44989422],\n",
              "       [ 0.91089139, -1.23218541, -0.92731656, ..., -0.54087551,\n",
              "        -0.78329678,  2.22274471],\n",
              "       ...,\n",
              "       [ 1.34570594,  1.01742281, -0.92731656, ...,  1.84885428,\n",
              "        -0.78329678, -0.44989422],\n",
              "       [ 0.91089139, -1.03421988,  1.51049534, ..., -0.54087551,\n",
              "         1.27665531, -0.44989422],\n",
              "       [ 1.05582957, -0.44032331, -0.11471259, ..., -0.54087551,\n",
              "        -0.78329678, -0.44989422]])"
            ]
          },
          "metadata": {},
          "execution_count": 75
        }
      ]
    },
    {
      "cell_type": "markdown",
      "id": "8cd3bedd",
      "metadata": {
        "id": "8cd3bedd"
      },
      "source": [
        "# Importing the Models"
      ]
    },
    {
      "cell_type": "code",
      "execution_count": 76,
      "id": "e9c5a8b6",
      "metadata": {
        "id": "e9c5a8b6"
      },
      "outputs": [],
      "source": [
        "from sklearn.linear_model import LinearRegression\n",
        "from sklearn.svm import SVR\n",
        "from sklearn.ensemble import RandomForestRegressor\n",
        "from sklearn.ensemble import GradientBoostingRegressor"
      ]
    },
    {
      "cell_type": "markdown",
      "id": "7a1c4fbd",
      "metadata": {
        "id": "7a1c4fbd"
      },
      "source": [
        "# Model Training"
      ]
    },
    {
      "cell_type": "code",
      "execution_count": 77,
      "id": "79b2142c",
      "metadata": {
        "id": "79b2142c",
        "outputId": "b558a557-8533-446d-92c0-467cb48dec30",
        "colab": {
          "base_uri": "https://localhost:8080/"
        }
      },
      "outputs": [
        {
          "output_type": "execute_result",
          "data": {
            "text/plain": [
              "GradientBoostingRegressor()"
            ]
          },
          "metadata": {},
          "execution_count": 77
        }
      ],
      "source": [
        "lr=LinearRegression()\n",
        "lr.fit(x_train,y_train)\n",
        "svm=SVR()\n",
        "svm.fit(x_train,y_train)\n",
        "rf=RandomForestRegressor()\n",
        "rf.fit(x_train,y_train)\n",
        "gr=GradientBoostingRegressor()\n",
        "gr.fit(x_train,y_train)"
      ]
    },
    {
      "cell_type": "markdown",
      "id": "e15e5d50",
      "metadata": {
        "id": "e15e5d50"
      },
      "source": [
        "# Prediction on test data"
      ]
    },
    {
      "cell_type": "code",
      "execution_count": 78,
      "id": "35253dda",
      "metadata": {
        "id": "35253dda"
      },
      "outputs": [],
      "source": [
        "y_pred1=lr.predict(x_test)\n",
        "y_pred2=svm.predict(x_test)\n",
        "y_pred3=rf.predict(x_test)\n",
        "y_pred4=gr.predict(x_test)\n",
        "error=y_test-y_pred1"
      ]
    },
    {
      "cell_type": "code",
      "source": [
        "df1=pd.DataFrame({'Actual':y_test,'lr':y_pred1,'svm':y_pred2,'rf':y_pred3,'gr':y_pred4,'error_lr':error})"
      ],
      "metadata": {
        "id": "-AYkw8fUcnSY"
      },
      "id": "-AYkw8fUcnSY",
      "execution_count": 79,
      "outputs": []
    },
    {
      "cell_type": "code",
      "source": [
        "#checking whether error is following normality or not[assumption of linear regression]\n",
        "plt.hist(x=df1['error_lr'],bins= 10)\n",
        "plt.show()"
      ],
      "metadata": {
        "colab": {
          "base_uri": "https://localhost:8080/",
          "height": 265
        },
        "id": "bRe90_vbcnZF",
        "outputId": "f9566fe7-93e7-4c1a-fada-1d90cb879ce4"
      },
      "id": "bRe90_vbcnZF",
      "execution_count": 80,
      "outputs": [
        {
          "output_type": "display_data",
          "data": {
            "text/plain": [
              "<Figure size 432x288 with 1 Axes>"
            ],
            "image/png": "[encoded data removed]"
          },
          "metadata": {
            "needs_background": "light"
          }
        }
      ]
    },
    {
      "cell_type": "code",
      "source": [
        "df1['error_lr'].mean() #for lr errors follows approx normal distn with 0 mean  "
      ],
      "metadata": {
        "colab": {
          "base_uri": "https://localhost:8080/"
        },
        "id": "5NqWQ4rsc0N5",
        "outputId": "94aa3b6a-5706-492a-bd3f-011942514332"
      },
      "id": "5NqWQ4rsc0N5",
      "execution_count": 81,
      "outputs": [
        {
          "output_type": "execute_result",
          "data": {
            "text/plain": [
              "0.005607988316851347"
            ]
          },
          "metadata": {},
          "execution_count": 81
        }
      ]
    },
    {
      "cell_type": "code",
      "execution_count": 82,
      "id": "031dc6b7",
      "metadata": {
        "id": "031dc6b7",
        "outputId": "6a7905bf-fe12-4003-e058-5feb422a4c2b",
        "colab": {
          "base_uri": "https://localhost:8080/"
        }
      },
      "outputs": [
        {
          "output_type": "execute_result",
          "data": {
            "text/plain": [
              "1670      8.817890\n",
              "13379     7.807307\n",
              "10234     9.527084\n",
              "4719      7.450312\n",
              "7003      9.499504\n",
              "           ...    \n",
              "10346     8.953239\n",
              "8469      7.037028\n",
              "12765     8.941205\n",
              "9431     10.456815\n",
              "4202      9.302035\n",
              "Name: claim, Length: 3000, dtype: float64"
            ]
          },
          "metadata": {},
          "execution_count": 82
        }
      ],
      "source": [
        "y_test"
      ]
    },
    {
      "cell_type": "markdown",
      "source": [
        "#**comparing performances of different models**"
      ],
      "metadata": {
        "id": "lKCHXBCyUkmK"
      },
      "id": "lKCHXBCyUkmK"
    },
    {
      "cell_type": "code",
      "execution_count": 83,
      "id": "53d96ae8",
      "metadata": {
        "id": "53d96ae8",
        "outputId": "72005d4c-8ee6-49ca-ab5e-214c54f335be",
        "colab": {
          "base_uri": "https://localhost:8080/",
          "height": 519
        }
      },
      "outputs": [
        {
          "output_type": "execute_result",
          "data": {
            "text/plain": [
              "          Actual         lr        svm         rf         gr  error_lr\n",
              "1670    8.817890   8.765186   8.718088   8.817890   8.822316  0.052704\n",
              "13379   7.807307   8.178028   7.847239   7.807307   8.139535 -0.370721\n",
              "10234   9.527084   8.827347   9.010636   9.527084   8.943645  0.699737\n",
              "4719    7.450312   8.002826   7.823018   7.489328   7.737899 -0.552514\n",
              "7003    9.499504   9.359668   9.542293   9.499504   9.460143  0.139835\n",
              "2831   10.390511   9.311329  10.038229  10.390792  10.096307  1.079182\n",
              "13014   8.447264   8.512582   8.456429   8.447264   8.542469 -0.065318\n",
              "11979   8.874658   8.960987   8.974713   8.874658   9.022420 -0.086329\n",
              "8610    8.129588   8.312793   8.183546   8.129588   8.366741 -0.183206\n",
              "519     8.375330   8.492318   8.313992   8.375330   8.468156 -0.116988\n",
              "13264  10.619012  10.183399  10.519292  10.619012  10.463666  0.435614\n",
              "7329    8.065108   8.252735   8.138442   8.065108   8.484864 -0.187627\n",
              "452     8.565259   8.720264   8.584344   8.565259   8.712846 -0.155005\n",
              "12374   8.493904   8.607620   8.594156   8.493904   8.654805 -0.113716\n",
              "4067   10.767725  11.114944  10.667571  10.767725  10.822263 -0.347220"
            ],
            "text/html": [
              "\n",
              "  <div id=\"df-569949de-ab53-4d71-a27e-0d282398b769\">\n",
              "    <div class=\"colab-df-container\">\n",
              "      <div>\n",
              "<style scoped>\n",
              "    .dataframe tbody tr th:only-of-type {\n",
              "        vertical-align: middle;\n",
              "    }\n",
              "\n",
              "    .dataframe tbody tr th {\n",
              "        vertical-align: top;\n",
              "    }\n",
              "\n",
              "    .dataframe thead th {\n",
              "        text-align: right;\n",
              "    }\n",
              "</style>\n",
              "<table border=\"1\" class=\"dataframe\">\n",
              "  <thead>\n",
              "    <tr style=\"text-align: right;\">\n",
              "      <th></th>\n",
              "      <th>Actual</th>\n",
              "      <th>lr</th>\n",
              "      <th>svm</th>\n",
              "      <th>rf</th>\n",
              "      <th>gr</th>\n",
              "      <th>error_lr</th>\n",
              "    </tr>\n",
              "  </thead>\n",
              "  <tbody>\n",
              "    <tr>\n",
              "      <th>1670</th>\n",
              "      <td>8.817890</td>\n",
              "      <td>8.765186</td>\n",
              "      <td>8.718088</td>\n",
              "      <td>8.817890</td>\n",
              "      <td>8.822316</td>\n",
              "      <td>0.052704</td>\n",
              "    </tr>\n",
              "    <tr>\n",
              "      <th>13379</th>\n",
              "      <td>7.807307</td>\n",
              "      <td>8.178028</td>\n",
              "      <td>7.847239</td>\n",
              "      <td>7.807307</td>\n",
              "      <td>8.139535</td>\n",
              "      <td>-0.370721</td>\n",
              "    </tr>\n",
              "    <tr>\n",
              "      <th>10234</th>\n",
              "      <td>9.527084</td>\n",
              "      <td>8.827347</td>\n",
              "      <td>9.010636</td>\n",
              "      <td>9.527084</td>\n",
              "      <td>8.943645</td>\n",
              "      <td>0.699737</td>\n",
              "    </tr>\n",
              "    <tr>\n",
              "      <th>4719</th>\n",
              "      <td>7.450312</td>\n",
              "      <td>8.002826</td>\n",
              "      <td>7.823018</td>\n",
              "      <td>7.489328</td>\n",
              "      <td>7.737899</td>\n",
              "      <td>-0.552514</td>\n",
              "    </tr>\n",
              "    <tr>\n",
              "      <th>7003</th>\n",
              "      <td>9.499504</td>\n",
              "      <td>9.359668</td>\n",
              "      <td>9.542293</td>\n",
              "      <td>9.499504</td>\n",
              "      <td>9.460143</td>\n",
              "      <td>0.139835</td>\n",
              "    </tr>\n",
              "    <tr>\n",
              "      <th>2831</th>\n",
              "      <td>10.390511</td>\n",
              "      <td>9.311329</td>\n",
              "      <td>10.038229</td>\n",
              "      <td>10.390792</td>\n",
              "      <td>10.096307</td>\n",
              "      <td>1.079182</td>\n",
              "    </tr>\n",
              "    <tr>\n",
              "      <th>13014</th>\n",
              "      <td>8.447264</td>\n",
              "      <td>8.512582</td>\n",
              "      <td>8.456429</td>\n",
              "      <td>8.447264</td>\n",
              "      <td>8.542469</td>\n",
              "      <td>-0.065318</td>\n",
              "    </tr>\n",
              "    <tr>\n",
              "      <th>11979</th>\n",
              "      <td>8.874658</td>\n",
              "      <td>8.960987</td>\n",
              "      <td>8.974713</td>\n",
              "      <td>8.874658</td>\n",
              "      <td>9.022420</td>\n",
              "      <td>-0.086329</td>\n",
              "    </tr>\n",
              "    <tr>\n",
              "      <th>8610</th>\n",
              "      <td>8.129588</td>\n",
              "      <td>8.312793</td>\n",
              "      <td>8.183546</td>\n",
              "      <td>8.129588</td>\n",
              "      <td>8.366741</td>\n",
              "      <td>-0.183206</td>\n",
              "    </tr>\n",
              "    <tr>\n",
              "      <th>519</th>\n",
              "      <td>8.375330</td>\n",
              "      <td>8.492318</td>\n",
              "      <td>8.313992</td>\n",
              "      <td>8.375330</td>\n",
              "      <td>8.468156</td>\n",
              "      <td>-0.116988</td>\n",
              "    </tr>\n",
              "    <tr>\n",
              "      <th>13264</th>\n",
              "      <td>10.619012</td>\n",
              "      <td>10.183399</td>\n",
              "      <td>10.519292</td>\n",
              "      <td>10.619012</td>\n",
              "      <td>10.463666</td>\n",
              "      <td>0.435614</td>\n",
              "    </tr>\n",
              "    <tr>\n",
              "      <th>7329</th>\n",
              "      <td>8.065108</td>\n",
              "      <td>8.252735</td>\n",
              "      <td>8.138442</td>\n",
              "      <td>8.065108</td>\n",
              "      <td>8.484864</td>\n",
              "      <td>-0.187627</td>\n",
              "    </tr>\n",
              "    <tr>\n",
              "      <th>452</th>\n",
              "      <td>8.565259</td>\n",
              "      <td>8.720264</td>\n",
              "      <td>8.584344</td>\n",
              "      <td>8.565259</td>\n",
              "      <td>8.712846</td>\n",
              "      <td>-0.155005</td>\n",
              "    </tr>\n",
              "    <tr>\n",
              "      <th>12374</th>\n",
              "      <td>8.493904</td>\n",
              "      <td>8.607620</td>\n",
              "      <td>8.594156</td>\n",
              "      <td>8.493904</td>\n",
              "      <td>8.654805</td>\n",
              "      <td>-0.113716</td>\n",
              "    </tr>\n",
              "    <tr>\n",
              "      <th>4067</th>\n",
              "      <td>10.767725</td>\n",
              "      <td>11.114944</td>\n",
              "      <td>10.667571</td>\n",
              "      <td>10.767725</td>\n",
              "      <td>10.822263</td>\n",
              "      <td>-0.347220</td>\n",
              "    </tr>\n",
              "  </tbody>\n",
              "</table>\n",
              "</div>\n",
              "      <button class=\"colab-df-convert\" onclick=\"convertToInteractive('df-569949de-ab53-4d71-a27e-0d282398b769')\"\n",
              "              title=\"Convert this dataframe to an interactive table.\"\n",
              "              style=\"display:none;\">\n",
              "        \n",
              "  <svg xmlns=\"http://www.w3.org/2000/svg\" height=\"24px\"viewBox=\"0 0 24 24\"\n",
              "       width=\"24px\">\n",
              "    <path d=\"M0 0h24v24H0V0z\" fill=\"none\"/>\n",
              "    <path d=\"M18.56 5.44l.94 2.06.94-2.06 2.06-.94-2.06-.94-.94-2.06-.94 2.06-2.06.94zm-11 1L8.5 8.5l.94-2.06 2.06-.94-2.06-.94L8.5 2.5l-.94 2.06-2.06.94zm10 10l.94 2.06.94-2.06 2.06-.94-2.06-.94-.94-2.06-.94 2.06-2.06.94z\"/><path d=\"M17.41 7.96l-1.37-1.37c-.4-.4-.92-.59-1.43-.59-.52 0-1.04.2-1.43.59L10.3 9.45l-7.72 7.72c-.78.78-.78 2.05 0 2.83L4 21.41c.39.39.9.59 1.41.59.51 0 1.02-.2 1.41-.59l7.78-7.78 2.81-2.81c.8-.78.8-2.07 0-2.86zM5.41 20L4 18.59l7.72-7.72 1.47 1.35L5.41 20z\"/>\n",
              "  </svg>\n",
              "      </button>\n",
              "      \n",
              "  <style>\n",
              "    .colab-df-container {\n",
              "      display:flex;\n",
              "      flex-wrap:wrap;\n",
              "      gap: 12px;\n",
              "    }\n",
              "\n",
              "    .colab-df-convert {\n",
              "      background-color: #E8F0FE;\n",
              "      border: none;\n",
              "      border-radius: 50%;\n",
              "      cursor: pointer;\n",
              "      display: none;\n",
              "      fill: #1967D2;\n",
              "      height: 32px;\n",
              "      padding: 0 0 0 0;\n",
              "      width: 32px;\n",
              "    }\n",
              "\n",
              "    .colab-df-convert:hover {\n",
              "      background-color: #E2EBFA;\n",
              "      box-shadow: 0px 1px 2px rgba(60, 64, 67, 0.3), 0px 1px 3px 1px rgba(60, 64, 67, 0.15);\n",
              "      fill: #174EA6;\n",
              "    }\n",
              "\n",
              "    [theme=dark] .colab-df-convert {\n",
              "      background-color: #3B4455;\n",
              "      fill: #D2E3FC;\n",
              "    }\n",
              "\n",
              "    [theme=dark] .colab-df-convert:hover {\n",
              "      background-color: #434B5C;\n",
              "      box-shadow: 0px 1px 3px 1px rgba(0, 0, 0, 0.15);\n",
              "      filter: drop-shadow(0px 1px 2px rgba(0, 0, 0, 0.3));\n",
              "      fill: #FFFFFF;\n",
              "    }\n",
              "  </style>\n",
              "\n",
              "      <script>\n",
              "        const buttonEl =\n",
              "          document.querySelector('#df-569949de-ab53-4d71-a27e-0d282398b769 button.colab-df-convert');\n",
              "        buttonEl.style.display =\n",
              "          google.colab.kernel.accessAllowed ? 'block' : 'none';\n",
              "\n",
              "        async function convertToInteractive(key) {\n",
              "          const element = document.querySelector('#df-569949de-ab53-4d71-a27e-0d282398b769');\n",
              "          const dataTable =\n",
              "            await google.colab.kernel.invokeFunction('convertToInteractive',\n",
              "                                                     [key], {});\n",
              "          if (!dataTable) return;\n",
              "\n",
              "          const docLinkHtml = 'Like what you see? Visit the ' +\n",
              "            '<a target=\"_blank\" href=https://colab.research.google.com/notebooks/data_table.ipynb>data table notebook</a>'\n",
              "            + ' to learn more about interactive tables.';\n",
              "          element.innerHTML = '';\n",
              "          dataTable['output_type'] = 'display_data';\n",
              "          await google.colab.output.renderOutput(dataTable, element);\n",
              "          const docLink = document.createElement('div');\n",
              "          docLink.innerHTML = docLinkHtml;\n",
              "          element.appendChild(docLink);\n",
              "        }\n",
              "      </script>\n",
              "    </div>\n",
              "  </div>\n",
              "  "
            ]
          },
          "metadata": {},
          "execution_count": 83
        }
      ],
      "source": [
        "df1.head(15)\n",
        "#by comparing we can see randomforest is giving the best results"
      ]
    },
    {
      "cell_type": "markdown",
      "id": "804d9ab3",
      "metadata": {
        "id": "804d9ab3"
      },
      "source": [
        "#**Comparing Performances of different models through Visualization**"
      ]
    },
    {
      "cell_type": "code",
      "execution_count": 84,
      "id": "d5cffbb2",
      "metadata": {
        "id": "d5cffbb2",
        "outputId": "e3d872f6-09a6-4daf-82e1-7a75e6bb5079",
        "colab": {
          "base_uri": "https://localhost:8080/",
          "height": 164
        }
      },
      "outputs": [
        {
          "output_type": "execute_result",
          "data": {
            "text/plain": [
              "<matplotlib.legend.Legend at 0x7f7478632e80>"
            ]
          },
          "metadata": {},
          "execution_count": 84
        },
        {
          "output_type": "display_data",
          "data": {
            "text/plain": [
              "<Figure size 432x288 with 1 Axes>"
            ],
            "image/png": "[encoded data removed]"
          },
          "metadata": {
            "needs_background": "light"
          }
        }
      ],
      "source": [
        "#for entire data\n",
        "import matplotlib.pyplot as plt\n",
        "plt.subplot(221)\n",
        "plt.plot(df1['Actual'],label=\"actual\")\n",
        "plt.plot(df1['lr'],label=\"lr\")\n",
        "plt.legend()"
      ]
    },
    {
      "cell_type": "code",
      "execution_count": 85,
      "id": "0b0268f1",
      "metadata": {
        "id": "0b0268f1",
        "outputId": "b3fd491b-ab1a-456e-92fc-f9522a58ae85",
        "colab": {
          "base_uri": "https://localhost:8080/",
          "height": 164
        }
      },
      "outputs": [
        {
          "output_type": "execute_result",
          "data": {
            "text/plain": [
              "<matplotlib.legend.Legend at 0x7f7478595f40>"
            ]
          },
          "metadata": {},
          "execution_count": 85
        },
        {
          "output_type": "display_data",
          "data": {
            "text/plain": [
              "<Figure size 432x288 with 1 Axes>"
            ],
            "image/png": "[encoded data removed]"
          },
          "metadata": {
            "needs_background": "light"
          }
        }
      ],
      "source": [
        "#just for 10 observations to get a clear picture\n",
        "import matplotlib.pyplot as plt\n",
        "plt.subplot(221)\n",
        "plt.plot(df1['Actual'].iloc[0:11],label=\"actual\")\n",
        "plt.plot(df1['lr'].iloc[0:11],label=\"lr\")\n",
        "plt.legend()"
      ]
    },
    {
      "cell_type": "code",
      "execution_count": 86,
      "id": "0668bdc6",
      "metadata": {
        "id": "0668bdc6",
        "outputId": "68af783e-33f4-42cb-da59-cd55457ff18b",
        "colab": {
          "base_uri": "https://localhost:8080/",
          "height": 314
        }
      },
      "outputs": [
        {
          "output_type": "execute_result",
          "data": {
            "text/plain": [
              "<matplotlib.legend.Legend at 0x7f7478435250>"
            ]
          },
          "metadata": {},
          "execution_count": 86
        },
        {
          "output_type": "display_data",
          "data": {
            "text/plain": [
              "<Figure size 432x288 with 4 Axes>"
            ],
            "image/png": "[encoded data removed]"
          },
          "metadata": {
            "needs_background": "light"
          }
        }
      ],
      "source": [
        "#for all the data\n",
        "plt.subplot(221)\n",
        "plt.plot(df1['Actual'],label=\"actual\")\n",
        "plt.plot(df1['lr'],label=\"lr\")\n",
        "plt.legend()\n",
        "\n",
        "plt.subplot(222)\n",
        "plt.plot(df1['Actual'],label=\"actual\")\n",
        "plt.plot(df1['svm'],label=\"svm\")\n",
        "plt.legend()\n",
        "\n",
        "plt.subplot(223)\n",
        "plt.plot(df1['Actual'],label=\"actual\")\n",
        "plt.plot(df1['rf'],label=\"rf\")\n",
        "plt.legend()\n",
        "\n",
        "plt.subplot(224)\n",
        "plt.plot(df1['Actual'],label=\"actual\")\n",
        "plt.plot(df1['gr'],label=\"gr\")\n",
        "\n",
        "plt.tight_layout()\n",
        "\n",
        "plt.legend()"
      ]
    },
    {
      "cell_type": "code",
      "execution_count": 87,
      "id": "fa4ce0d3",
      "metadata": {
        "id": "fa4ce0d3",
        "outputId": "1145dd6f-c0c2-4584-f07b-c4be7c302ffa",
        "colab": {
          "base_uri": "https://localhost:8080/",
          "height": 314
        }
      },
      "outputs": [
        {
          "output_type": "execute_result",
          "data": {
            "text/plain": [
              "<matplotlib.legend.Legend at 0x7f747830baf0>"
            ]
          },
          "metadata": {},
          "execution_count": 87
        },
        {
          "output_type": "display_data",
          "data": {
            "text/plain": [
              "<Figure size 432x288 with 4 Axes>"
            ],
            "image/png": "[encoded data removed]"
          },
          "metadata": {
            "needs_background": "light"
          }
        }
      ],
      "source": [
        "#just for initial 20 observation to get a clear picture\n",
        "plt.subplot(221)\n",
        "plt.plot(df1['Actual'].iloc[0:21],label=\"actual\")\n",
        "plt.plot(df1['lr'].iloc[0:21],label=\"lr\")\n",
        "plt.legend()\n",
        "\n",
        "plt.subplot(222)\n",
        "plt.plot(df1['Actual'].iloc[0:21],label=\"actual\")\n",
        "plt.plot(df1['svm'].iloc[0:21],label=\"svm\")\n",
        "plt.legend()\n",
        "\n",
        "plt.subplot(223)\n",
        "plt.plot(df1['Actual'].iloc[0:21],label=\"actual\")\n",
        "plt.plot(df1['rf'].iloc[0:21],label=\"rf\")\n",
        "plt.legend()\n",
        "\n",
        "plt.subplot(224)\n",
        "plt.plot(df1['Actual'].iloc[0:21],label=\"actual\")\n",
        "plt.plot(df1['gr'].iloc[0:21],label=\"gr\")\n",
        "\n",
        "plt.tight_layout()\n",
        "\n",
        "plt.legend()"
      ]
    },
    {
      "cell_type": "markdown",
      "id": "71876e5c",
      "metadata": {
        "id": "71876e5c"
      },
      "source": [
        "# Evaluating the algorithm"
      ]
    },
    {
      "cell_type": "code",
      "execution_count": 88,
      "id": "fcc0b87a",
      "metadata": {
        "id": "fcc0b87a",
        "outputId": "eec04b46-98ac-4dd5-cf66-d1728fe0f618",
        "colab": {
          "base_uri": "https://localhost:8080/"
        }
      },
      "outputs": [
        {
          "output_type": "stream",
          "name": "stdout",
          "text": [
            "R_squared values\n",
            "\n",
            "linear regression:  0.7394053385682049 \n",
            "support vector regression:  0.8214031857109295 \n",
            "random forest:  0.9781343845001887 \n",
            "gradient boosting 0.8358999683311807\n"
          ]
        }
      ],
      "source": [
        "from sklearn import metrics\n",
        "\n",
        "score1= metrics.r2_score(y_test,y_pred1)\n",
        "score2= metrics.r2_score(y_test,y_pred2)\n",
        "score3= metrics.r2_score(y_test,y_pred3)\n",
        "score4= metrics.r2_score(y_test,y_pred4)\n",
        "print(\"R_squared values\\n\")\n",
        "print(\"linear regression: \",score1,\"\\nsupport vector regression: \",score2,\"\\nrandom forest: \",score3,\"\\ngradient boosting\",score4)"
      ]
    },
    {
      "cell_type": "markdown",
      "id": "e946acd7",
      "metadata": {
        "id": "e946acd7"
      },
      "source": [
        "# Mean squared Error"
      ]
    },
    {
      "cell_type": "code",
      "execution_count": 90,
      "id": "849c04e5",
      "metadata": {
        "id": "849c04e5",
        "outputId": "159e0988-4181-4b79-971c-2532acb9e2b2",
        "colab": {
          "base_uri": "https://localhost:8080/"
        }
      },
      "outputs": [
        {
          "output_type": "stream",
          "name": "stdout",
          "text": [
            "mean absolute errors\n",
            "\n",
            "linear regression:  0.21227129523935057 \n",
            "support vector regression:  0.14547871735540177 \n",
            "random forest:  0.017810965496564274 \n",
            "gradient boosting 0.13367014535052427\n"
          ]
        }
      ],
      "source": [
        "s1= metrics.mean_squared_error(y_test,y_pred1)\n",
        "s2= metrics.mean_squared_error(y_test,y_pred2)\n",
        "s3= metrics.mean_squared_error(y_test,y_pred3)\n",
        "s4= metrics.mean_squared_error(y_test,y_pred4)\n",
        "print(\"mean absolute errors\\n\")\n",
        "print(\"linear regression: \",s1,\"\\nsupport vector regression: \",s2,\"\\nrandom forest: \",s3,\"\\ngradient boosting\",s4)"
      ]
    },
    {
      "cell_type": "markdown",
      "source": [
        "#Hence random forest is giving the best results with 97.8% accuracy and lowest MSE."
      ],
      "metadata": {
        "id": "-hcvdn5eeorp"
      },
      "id": "-hcvdn5eeorp"
    },
    {
      "cell_type": "markdown",
      "id": "6aea942d",
      "metadata": {
        "id": "6aea942d"
      },
      "source": [
        "# random forest is giving the best results for our model"
      ]
    },
    {
      "cell_type": "markdown",
      "id": "554a6c48",
      "metadata": {
        "id": "554a6c48"
      },
      "source": [
        "# Now training our model on 100% data using random forest"
      ]
    },
    {
      "cell_type": "code",
      "execution_count": 91,
      "id": "6a285bbb",
      "metadata": {
        "id": "6a285bbb",
        "outputId": "d7ceda91-8f4c-4086-ebee-b454c69729cf",
        "colab": {
          "base_uri": "https://localhost:8080/"
        }
      },
      "outputs": [
        {
          "output_type": "execute_result",
          "data": {
            "text/plain": [
              "RandomForestRegressor()"
            ]
          },
          "metadata": {},
          "execution_count": 91
        }
      ],
      "source": [
        "from sklearn.ensemble import RandomForestRegressor\n",
        "#model training\n",
        "model=RandomForestRegressor()\n",
        "model.fit(x,y)"
      ]
    },
    {
      "cell_type": "code",
      "source": [],
      "metadata": {
        "id": "T57YWJJ19qO0"
      },
      "id": "T57YWJJ19qO0",
      "execution_count": 91,
      "outputs": []
    },
    {
      "cell_type": "code",
      "source": [],
      "metadata": {
        "id": "m8H4Ke5x9q4p"
      },
      "id": "m8H4Ke5x9q4p",
      "execution_count": 91,
      "outputs": []
    }
  ],
  "metadata": {
    "kernelspec": {
      "display_name": "Python 3 (ipykernel)",
      "language": "python",
      "name": "python3"
    },
    "language_info": {
      "codemirror_mode": {
        "name": "ipython",
        "version": 3
      },
      "file_extension": ".py",
      "mimetype": "text/x-python",
      "name": "python",
      "nbconvert_exporter": "python",
      "pygments_lexer": "ipython3",
      "version": "3.10.2"
    },
    "colab": {
      "provenance": [],
      "collapsed_sections": [
        "PtYqCEGkiCnt",
        "6edc3309",
        "-hcvdn5eeorp",
        "6aea942d"
      ],
      "include_colab_link": true
    }
  },
  "nbformat": 4,
  "nbformat_minor": 5
}
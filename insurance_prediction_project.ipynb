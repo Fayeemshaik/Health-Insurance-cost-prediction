{
  "cells": [
    {
      "cell_type": "markdown",
      "source": [
        "#**PROJECT ON HEALTH INSURANCE CLAIM AMOUNT PREDICTION**\n"
      ],
      "metadata": {
        "id": "R0ufVdLjVM3B"
      },
      "id": "R0ufVdLjVM3B"
    },
    {
      "cell_type": "markdown",
      "source": [
        "##**problem statement**\n",
        "A key challenge for the insurance industry is to charge each customer an appropriate premium for the risk they represent. The ability to predict a correct claim amount has a significant impact on insurer's management decisions and financial statements. Predicting the cost of claims in an insurance company is a real-life problem that needs to be solved in a more accurate and automated way. Several factors determine the cost of claims based on health factors like BMI, age, smoker, health conditions and others. Insurance companies apply numerous techniques for analyzing and predicting health insurance costs"
      ],
      "metadata": {
        "id": "PtYqCEGkiCnt"
      },
      "id": "PtYqCEGkiCnt"
    },
    {
      "cell_type": "markdown",
      "source": [
        "##**Data Definition**\n",
        "**age** : Age of the policyholder (Numeric)\n",
        "\n",
        "**sex**: Gender of policyholder (Categoric)\n",
        "\n",
        "**weight**: Weight of the policyholder (Numeric)\n",
        "\n",
        "**bmi**: Body mass index, providing an understanding of body, weights that are relatively high or low relative to height, objective index of body weight (kg / m ^ 2) using the ratio of height to weight (Numeric)\n",
        "\n",
        "**no_of_dependents**: Number of dependent persons on the policyholder (Numeric)\n",
        "\n",
        "**smoker**: Indicates policyholder is a smoker or a non-smoker (non-smoker=0;smoker=1) (Categoric)\n",
        "\n",
        "**claim**: The amount claimed by the policyholder (Numeric)\n",
        "\n",
        "**bloodpressure**: Bloodpressure reading of policyholder (Numeric)\n",
        "\n",
        "**diabetes**: Indicates policyholder suffers from diabetes or not (non-diabetic=0; diabetic=1) (Categoric)\n",
        "\n",
        "**regular_ex**: A policyholder regularly excercises or not (no-excercise=0; excercise=1) (Categoric)\n",
        "\n",
        "**job_title**: Job profile of the policyholder (Categoric)\n",
        "\n",
        "**city**: The city in which the policyholder resides (Categoric)\n",
        "\n",
        "**hereditary_diseases**: A policyholder suffering from a hereditary diseases or not (Categoric)\n",
        "\n"
      ],
      "metadata": {
        "id": "BqdpQA71i5F2"
      },
      "id": "BqdpQA71i5F2"
    },
    {
      "cell_type": "code",
      "source": [
        "from google.colab import drive\n",
        "drive.mount('/content/drive')"
      ],
      "metadata": {
        "colab": {
          "base_uri": "https://localhost:8080/"
        },
        "id": "-ZFvno2LP6BZ",
        "outputId": "14cc46b7-d101-469f-a4ab-1e86b69162b2"
      },
      "id": "-ZFvno2LP6BZ",
      "execution_count": 173,
      "outputs": [
        {
          "output_type": "stream",
          "name": "stdout",
          "text": [
            "Drive already mounted at /content/drive; to attempt to forcibly remount, call drive.mount(\"/content/drive\", force_remount=True).\n"
          ]
        }
      ]
    },
    {
      "cell_type": "markdown",
      "id": "c31c7ea4",
      "metadata": {
        "id": "c31c7ea4"
      },
      "source": [
        "#**importing libraries**"
      ]
    },
    {
      "cell_type": "code",
      "execution_count": 174,
      "id": "60f05339",
      "metadata": {
        "id": "60f05339"
      },
      "outputs": [],
      "source": [
        "# 'Numpy' is used for mathematical operations on large, multi-dimensional arrays and matrices\n",
        "import numpy as np\n",
        "# 'Pandas' is used for data manipulation and analysis\n",
        "import pandas as pd\n",
        "# 'Matplotlib' is a data visualization library for 2D and 3D plots, built on numpy\n",
        "from matplotlib import pyplot as plt\n",
        "# 'Seaborn' is based on matplotlib; used for plotting statistical graphics\n",
        "import seaborn as sns\n",
        "# 'Scikit-learn' (sklearn) emphasizes various regression, classification and clustering algorithms\n",
        "from sklearn import preprocessing"
      ]
    },
    {
      "cell_type": "markdown",
      "id": "1981145a",
      "metadata": {
        "id": "1981145a"
      },
      "source": [
        "#**importing dataset**"
      ]
    },
    {
      "cell_type": "code",
      "execution_count": 175,
      "id": "6a231dc8",
      "metadata": {
        "id": "6a231dc8",
        "outputId": "77dd3975-b7df-4e9f-ec7d-1960c9e057ae",
        "colab": {
          "base_uri": "https://localhost:8080/",
          "height": 206
        }
      },
      "outputs": [
        {
          "output_type": "execute_result",
          "data": {
            "text/plain": [
              "    age     sex  weight   bmi hereditary_diseases  no_of_dependents  smoker  \\\n",
              "0  60.0    male      64  24.3           NoDisease                 1       0   \n",
              "1  49.0  female      75  22.6           NoDisease                 1       0   \n",
              "2  32.0  female      64  17.8            Epilepsy                 2       1   \n",
              "3  61.0  female      53  36.4           NoDisease                 1       1   \n",
              "4  19.0  female      50  20.6           NoDisease                 0       0   \n",
              "\n",
              "          city  bloodpressure  diabetes  regular_ex    job_title    claim  \n",
              "0      NewYork             72         0           0        Actor  13112.6  \n",
              "1       Boston             78         1           1     Engineer   9567.0  \n",
              "2  Phildelphia             88         1           1  Academician  32734.2  \n",
              "3    Pittsburg             72         1           0         Chef  48517.6  \n",
              "4      Buffalo             82         1           0   HomeMakers   1731.7  "
            ],
            "text/html": [
              "\n",
              "  <div id=\"df-145585ce-863a-45e5-a5a1-a381b671dbec\">\n",
              "    <div class=\"colab-df-container\">\n",
              "      <div>\n",
              "<style scoped>\n",
              "    .dataframe tbody tr th:only-of-type {\n",
              "        vertical-align: middle;\n",
              "    }\n",
              "\n",
              "    .dataframe tbody tr th {\n",
              "        vertical-align: top;\n",
              "    }\n",
              "\n",
              "    .dataframe thead th {\n",
              "        text-align: right;\n",
              "    }\n",
              "</style>\n",
              "<table border=\"1\" class=\"dataframe\">\n",
              "  <thead>\n",
              "    <tr style=\"text-align: right;\">\n",
              "      <th></th>\n",
              "      <th>age</th>\n",
              "      <th>sex</th>\n",
              "      <th>weight</th>\n",
              "      <th>bmi</th>\n",
              "      <th>hereditary_diseases</th>\n",
              "      <th>no_of_dependents</th>\n",
              "      <th>smoker</th>\n",
              "      <th>city</th>\n",
              "      <th>bloodpressure</th>\n",
              "      <th>diabetes</th>\n",
              "      <th>regular_ex</th>\n",
              "      <th>job_title</th>\n",
              "      <th>claim</th>\n",
              "    </tr>\n",
              "  </thead>\n",
              "  <tbody>\n",
              "    <tr>\n",
              "      <th>0</th>\n",
              "      <td>60.0</td>\n",
              "      <td>male</td>\n",
              "      <td>64</td>\n",
              "      <td>24.3</td>\n",
              "      <td>NoDisease</td>\n",
              "      <td>1</td>\n",
              "      <td>0</td>\n",
              "      <td>NewYork</td>\n",
              "      <td>72</td>\n",
              "      <td>0</td>\n",
              "      <td>0</td>\n",
              "      <td>Actor</td>\n",
              "      <td>13112.6</td>\n",
              "    </tr>\n",
              "    <tr>\n",
              "      <th>1</th>\n",
              "      <td>49.0</td>\n",
              "      <td>female</td>\n",
              "      <td>75</td>\n",
              "      <td>22.6</td>\n",
              "      <td>NoDisease</td>\n",
              "      <td>1</td>\n",
              "      <td>0</td>\n",
              "      <td>Boston</td>\n",
              "      <td>78</td>\n",
              "      <td>1</td>\n",
              "      <td>1</td>\n",
              "      <td>Engineer</td>\n",
              "      <td>9567.0</td>\n",
              "    </tr>\n",
              "    <tr>\n",
              "      <th>2</th>\n",
              "      <td>32.0</td>\n",
              "      <td>female</td>\n",
              "      <td>64</td>\n",
              "      <td>17.8</td>\n",
              "      <td>Epilepsy</td>\n",
              "      <td>2</td>\n",
              "      <td>1</td>\n",
              "      <td>Phildelphia</td>\n",
              "      <td>88</td>\n",
              "      <td>1</td>\n",
              "      <td>1</td>\n",
              "      <td>Academician</td>\n",
              "      <td>32734.2</td>\n",
              "    </tr>\n",
              "    <tr>\n",
              "      <th>3</th>\n",
              "      <td>61.0</td>\n",
              "      <td>female</td>\n",
              "      <td>53</td>\n",
              "      <td>36.4</td>\n",
              "      <td>NoDisease</td>\n",
              "      <td>1</td>\n",
              "      <td>1</td>\n",
              "      <td>Pittsburg</td>\n",
              "      <td>72</td>\n",
              "      <td>1</td>\n",
              "      <td>0</td>\n",
              "      <td>Chef</td>\n",
              "      <td>48517.6</td>\n",
              "    </tr>\n",
              "    <tr>\n",
              "      <th>4</th>\n",
              "      <td>19.0</td>\n",
              "      <td>female</td>\n",
              "      <td>50</td>\n",
              "      <td>20.6</td>\n",
              "      <td>NoDisease</td>\n",
              "      <td>0</td>\n",
              "      <td>0</td>\n",
              "      <td>Buffalo</td>\n",
              "      <td>82</td>\n",
              "      <td>1</td>\n",
              "      <td>0</td>\n",
              "      <td>HomeMakers</td>\n",
              "      <td>1731.7</td>\n",
              "    </tr>\n",
              "  </tbody>\n",
              "</table>\n",
              "</div>\n",
              "      <button class=\"colab-df-convert\" onclick=\"convertToInteractive('df-145585ce-863a-45e5-a5a1-a381b671dbec')\"\n",
              "              title=\"Convert this dataframe to an interactive table.\"\n",
              "              style=\"display:none;\">\n",
              "        \n",
              "  <svg xmlns=\"http://www.w3.org/2000/svg\" height=\"24px\"viewBox=\"0 0 24 24\"\n",
              "       width=\"24px\">\n",
              "    <path d=\"M0 0h24v24H0V0z\" fill=\"none\"/>\n",
              "    <path d=\"M18.56 5.44l.94 2.06.94-2.06 2.06-.94-2.06-.94-.94-2.06-.94 2.06-2.06.94zm-11 1L8.5 8.5l.94-2.06 2.06-.94-2.06-.94L8.5 2.5l-.94 2.06-2.06.94zm10 10l.94 2.06.94-2.06 2.06-.94-2.06-.94-.94-2.06-.94 2.06-2.06.94z\"/><path d=\"M17.41 7.96l-1.37-1.37c-.4-.4-.92-.59-1.43-.59-.52 0-1.04.2-1.43.59L10.3 9.45l-7.72 7.72c-.78.78-.78 2.05 0 2.83L4 21.41c.39.39.9.59 1.41.59.51 0 1.02-.2 1.41-.59l7.78-7.78 2.81-2.81c.8-.78.8-2.07 0-2.86zM5.41 20L4 18.59l7.72-7.72 1.47 1.35L5.41 20z\"/>\n",
              "  </svg>\n",
              "      </button>\n",
              "      \n",
              "  <style>\n",
              "    .colab-df-container {\n",
              "      display:flex;\n",
              "      flex-wrap:wrap;\n",
              "      gap: 12px;\n",
              "    }\n",
              "\n",
              "    .colab-df-convert {\n",
              "      background-color: #E8F0FE;\n",
              "      border: none;\n",
              "      border-radius: 50%;\n",
              "      cursor: pointer;\n",
              "      display: none;\n",
              "      fill: #1967D2;\n",
              "      height: 32px;\n",
              "      padding: 0 0 0 0;\n",
              "      width: 32px;\n",
              "    }\n",
              "\n",
              "    .colab-df-convert:hover {\n",
              "      background-color: #E2EBFA;\n",
              "      box-shadow: 0px 1px 2px rgba(60, 64, 67, 0.3), 0px 1px 3px 1px rgba(60, 64, 67, 0.15);\n",
              "      fill: #174EA6;\n",
              "    }\n",
              "\n",
              "    [theme=dark] .colab-df-convert {\n",
              "      background-color: #3B4455;\n",
              "      fill: #D2E3FC;\n",
              "    }\n",
              "\n",
              "    [theme=dark] .colab-df-convert:hover {\n",
              "      background-color: #434B5C;\n",
              "      box-shadow: 0px 1px 3px 1px rgba(0, 0, 0, 0.15);\n",
              "      filter: drop-shadow(0px 1px 2px rgba(0, 0, 0, 0.3));\n",
              "      fill: #FFFFFF;\n",
              "    }\n",
              "  </style>\n",
              "\n",
              "      <script>\n",
              "        const buttonEl =\n",
              "          document.querySelector('#df-145585ce-863a-45e5-a5a1-a381b671dbec button.colab-df-convert');\n",
              "        buttonEl.style.display =\n",
              "          google.colab.kernel.accessAllowed ? 'block' : 'none';\n",
              "\n",
              "        async function convertToInteractive(key) {\n",
              "          const element = document.querySelector('#df-145585ce-863a-45e5-a5a1-a381b671dbec');\n",
              "          const dataTable =\n",
              "            await google.colab.kernel.invokeFunction('convertToInteractive',\n",
              "                                                     [key], {});\n",
              "          if (!dataTable) return;\n",
              "\n",
              "          const docLinkHtml = 'Like what you see? Visit the ' +\n",
              "            '<a target=\"_blank\" href=https://colab.research.google.com/notebooks/data_table.ipynb>data table notebook</a>'\n",
              "            + ' to learn more about interactive tables.';\n",
              "          element.innerHTML = '';\n",
              "          dataTable['output_type'] = 'display_data';\n",
              "          await google.colab.output.renderOutput(dataTable, element);\n",
              "          const docLink = document.createElement('div');\n",
              "          docLink.innerHTML = docLinkHtml;\n",
              "          element.appendChild(docLink);\n",
              "        }\n",
              "      </script>\n",
              "    </div>\n",
              "  </div>\n",
              "  "
            ]
          },
          "metadata": {},
          "execution_count": 175
        }
      ],
      "source": [
        "# read csv file using pandas\n",
        "ids = pd.read_csv(\"/content/drive/MyDrive/Academic_projects/DMMLT_project/healthinsurance.csv\")\n",
        "# display the top 5 rows of the dataframe\n",
        "ids.head()"
      ]
    },
    {
      "cell_type": "markdown",
      "source": [
        "#**Data Dimension**\n",
        "To know the dimensions of the data:"
      ],
      "metadata": {
        "id": "MDMY6sNXpQH7"
      },
      "id": "MDMY6sNXpQH7"
    },
    {
      "cell_type": "code",
      "source": [
        "# .shape returns the dimension of the data\n",
        "ids.shape"
      ],
      "metadata": {
        "id": "H3Sop-J4kyqT",
        "colab": {
          "base_uri": "https://localhost:8080/"
        },
        "outputId": "54e500e3-16c2-4acf-f1b9-3296cf3c3afe"
      },
      "id": "H3Sop-J4kyqT",
      "execution_count": 176,
      "outputs": [
        {
          "output_type": "execute_result",
          "data": {
            "text/plain": [
              "(15000, 13)"
            ]
          },
          "metadata": {},
          "execution_count": 176
        }
      ]
    },
    {
      "cell_type": "markdown",
      "source": [
        "We see the dataframe has 13 columns and 15000 observations."
      ],
      "metadata": {
        "id": "bYOxLR52pdU5"
      },
      "id": "bYOxLR52pdU5"
    },
    {
      "cell_type": "markdown",
      "source": [
        "#**Data Types**\n",
        "Data has a variety of data types. The main types stored in pandas dataframes are object, float, int64, bool and datetime64. In order to learn about each attribute, it is always good for us to know the data type of each column.\n",
        "##**checking data types**"
      ],
      "metadata": {
        "id": "tuWTIiAYp693"
      },
      "id": "tuWTIiAYp693"
    },
    {
      "cell_type": "code",
      "source": [
        "# use .dtypes to view the data type of a variable\n",
        "ids.dtypes"
      ],
      "metadata": {
        "colab": {
          "base_uri": "https://localhost:8080/"
        },
        "id": "vKOIXtGvp6po",
        "outputId": "a186d68a-9a81-4007-99b5-d08981aabeb7"
      },
      "id": "vKOIXtGvp6po",
      "execution_count": 177,
      "outputs": [
        {
          "output_type": "execute_result",
          "data": {
            "text/plain": [
              "age                    float64\n",
              "sex                     object\n",
              "weight                   int64\n",
              "bmi                    float64\n",
              "hereditary_diseases     object\n",
              "no_of_dependents         int64\n",
              "smoker                   int64\n",
              "city                    object\n",
              "bloodpressure            int64\n",
              "diabetes                 int64\n",
              "regular_ex               int64\n",
              "job_title               object\n",
              "claim                  float64\n",
              "dtype: object"
            ]
          },
          "metadata": {},
          "execution_count": 177
        }
      ]
    },
    {
      "cell_type": "markdown",
      "source": [
        "##**Change the incorrect data types**"
      ],
      "metadata": {
        "id": "wRUDpAhgqetg"
      },
      "id": "wRUDpAhgqetg"
    },
    {
      "cell_type": "code",
      "source": [
        "# use .astype() to change the data type\n",
        "# convert numerical variables to categorical  \n",
        "\n",
        "# convert numeric variable 'smoker' to object (categorical) variable\n",
        "ids.smoker = ids.smoker.astype('object')\n",
        "\n",
        "# convert numeric variable 'diabetes' to object (categorical) variable\n",
        "ids.diabetes = ids.diabetes.astype('object')\n",
        "\n",
        "# convert 'regular_ex' variable to object (categorical) variable\n",
        "ids.regular_ex = ids.regular_ex.astype('object')"
      ],
      "metadata": {
        "id": "FD37kgyqqzR7"
      },
      "id": "FD37kgyqqzR7",
      "execution_count": 178,
      "outputs": []
    },
    {
      "cell_type": "markdown",
      "source": [
        "##**Recheck the data types after the conversion**"
      ],
      "metadata": {
        "id": "Zde05uEsrbcU"
      },
      "id": "Zde05uEsrbcU"
    },
    {
      "cell_type": "code",
      "source": [
        "# recheck the data types using .dtypes\n",
        "ids.dtypes"
      ],
      "metadata": {
        "colab": {
          "base_uri": "https://localhost:8080/"
        },
        "id": "pmibfucRr4FF",
        "outputId": "ad42c2f0-7bfa-4163-acd6-eca04dfa601d"
      },
      "id": "pmibfucRr4FF",
      "execution_count": 179,
      "outputs": [
        {
          "output_type": "execute_result",
          "data": {
            "text/plain": [
              "age                    float64\n",
              "sex                     object\n",
              "weight                   int64\n",
              "bmi                    float64\n",
              "hereditary_diseases     object\n",
              "no_of_dependents         int64\n",
              "smoker                  object\n",
              "city                    object\n",
              "bloodpressure            int64\n",
              "diabetes                object\n",
              "regular_ex              object\n",
              "job_title               object\n",
              "claim                  float64\n",
              "dtype: object"
            ]
          },
          "metadata": {},
          "execution_count": 179
        }
      ]
    },
    {
      "cell_type": "markdown",
      "source": [
        "Note the data types are now as per the data definition. Now we can proceed with the analysis.\n",
        "#**summary statistics**\n",
        "\n",
        "####**1)for numerical variables we use .describe()**"
      ],
      "metadata": {
        "id": "Sl-p-bNxsGkH"
      },
      "id": "Sl-p-bNxsGkH"
    },
    {
      "cell_type": "code",
      "execution_count": 180,
      "id": "32c3809c",
      "metadata": {
        "id": "32c3809c",
        "outputId": "cc1d022a-05ce-45e3-84ad-e00895f6ed81",
        "colab": {
          "base_uri": "https://localhost:8080/",
          "height": 300
        }
      },
      "outputs": [
        {
          "output_type": "execute_result",
          "data": {
            "text/plain": [
              "                age        weight           bmi  no_of_dependents  \\\n",
              "count  14604.000000  15000.000000  14044.000000      15000.000000   \n",
              "mean      39.547521     64.909600     30.266413          1.129733   \n",
              "std       14.015966     13.701935      6.122950          1.228469   \n",
              "min       18.000000     34.000000     16.000000          0.000000   \n",
              "25%       27.000000     54.000000     25.700000          0.000000   \n",
              "50%       40.000000     63.000000     29.400000          1.000000   \n",
              "75%       52.000000     76.000000     34.400000          2.000000   \n",
              "max       64.000000     95.000000     53.100000          5.000000   \n",
              "\n",
              "       bloodpressure         claim  \n",
              "count   15000.000000  15000.000000  \n",
              "mean       68.650133  13401.437620  \n",
              "std        19.418515  12148.239619  \n",
              "min         0.000000   1121.900000  \n",
              "25%        64.000000   4846.900000  \n",
              "50%        71.000000   9545.650000  \n",
              "75%        80.000000  16519.125000  \n",
              "max       122.000000  63770.400000  "
            ],
            "text/html": [
              "\n",
              "  <div id=\"df-d031b161-a1e9-4336-b34b-8c06afb5907c\">\n",
              "    <div class=\"colab-df-container\">\n",
              "      <div>\n",
              "<style scoped>\n",
              "    .dataframe tbody tr th:only-of-type {\n",
              "        vertical-align: middle;\n",
              "    }\n",
              "\n",
              "    .dataframe tbody tr th {\n",
              "        vertical-align: top;\n",
              "    }\n",
              "\n",
              "    .dataframe thead th {\n",
              "        text-align: right;\n",
              "    }\n",
              "</style>\n",
              "<table border=\"1\" class=\"dataframe\">\n",
              "  <thead>\n",
              "    <tr style=\"text-align: right;\">\n",
              "      <th></th>\n",
              "      <th>age</th>\n",
              "      <th>weight</th>\n",
              "      <th>bmi</th>\n",
              "      <th>no_of_dependents</th>\n",
              "      <th>bloodpressure</th>\n",
              "      <th>claim</th>\n",
              "    </tr>\n",
              "  </thead>\n",
              "  <tbody>\n",
              "    <tr>\n",
              "      <th>count</th>\n",
              "      <td>14604.000000</td>\n",
              "      <td>15000.000000</td>\n",
              "      <td>14044.000000</td>\n",
              "      <td>15000.000000</td>\n",
              "      <td>15000.000000</td>\n",
              "      <td>15000.000000</td>\n",
              "    </tr>\n",
              "    <tr>\n",
              "      <th>mean</th>\n",
              "      <td>39.547521</td>\n",
              "      <td>64.909600</td>\n",
              "      <td>30.266413</td>\n",
              "      <td>1.129733</td>\n",
              "      <td>68.650133</td>\n",
              "      <td>13401.437620</td>\n",
              "    </tr>\n",
              "    <tr>\n",
              "      <th>std</th>\n",
              "      <td>14.015966</td>\n",
              "      <td>13.701935</td>\n",
              "      <td>6.122950</td>\n",
              "      <td>1.228469</td>\n",
              "      <td>19.418515</td>\n",
              "      <td>12148.239619</td>\n",
              "    </tr>\n",
              "    <tr>\n",
              "      <th>min</th>\n",
              "      <td>18.000000</td>\n",
              "      <td>34.000000</td>\n",
              "      <td>16.000000</td>\n",
              "      <td>0.000000</td>\n",
              "      <td>0.000000</td>\n",
              "      <td>1121.900000</td>\n",
              "    </tr>\n",
              "    <tr>\n",
              "      <th>25%</th>\n",
              "      <td>27.000000</td>\n",
              "      <td>54.000000</td>\n",
              "      <td>25.700000</td>\n",
              "      <td>0.000000</td>\n",
              "      <td>64.000000</td>\n",
              "      <td>4846.900000</td>\n",
              "    </tr>\n",
              "    <tr>\n",
              "      <th>50%</th>\n",
              "      <td>40.000000</td>\n",
              "      <td>63.000000</td>\n",
              "      <td>29.400000</td>\n",
              "      <td>1.000000</td>\n",
              "      <td>71.000000</td>\n",
              "      <td>9545.650000</td>\n",
              "    </tr>\n",
              "    <tr>\n",
              "      <th>75%</th>\n",
              "      <td>52.000000</td>\n",
              "      <td>76.000000</td>\n",
              "      <td>34.400000</td>\n",
              "      <td>2.000000</td>\n",
              "      <td>80.000000</td>\n",
              "      <td>16519.125000</td>\n",
              "    </tr>\n",
              "    <tr>\n",
              "      <th>max</th>\n",
              "      <td>64.000000</td>\n",
              "      <td>95.000000</td>\n",
              "      <td>53.100000</td>\n",
              "      <td>5.000000</td>\n",
              "      <td>122.000000</td>\n",
              "      <td>63770.400000</td>\n",
              "    </tr>\n",
              "  </tbody>\n",
              "</table>\n",
              "</div>\n",
              "      <button class=\"colab-df-convert\" onclick=\"convertToInteractive('df-d031b161-a1e9-4336-b34b-8c06afb5907c')\"\n",
              "              title=\"Convert this dataframe to an interactive table.\"\n",
              "              style=\"display:none;\">\n",
              "        \n",
              "  <svg xmlns=\"http://www.w3.org/2000/svg\" height=\"24px\"viewBox=\"0 0 24 24\"\n",
              "       width=\"24px\">\n",
              "    <path d=\"M0 0h24v24H0V0z\" fill=\"none\"/>\n",
              "    <path d=\"M18.56 5.44l.94 2.06.94-2.06 2.06-.94-2.06-.94-.94-2.06-.94 2.06-2.06.94zm-11 1L8.5 8.5l.94-2.06 2.06-.94-2.06-.94L8.5 2.5l-.94 2.06-2.06.94zm10 10l.94 2.06.94-2.06 2.06-.94-2.06-.94-.94-2.06-.94 2.06-2.06.94z\"/><path d=\"M17.41 7.96l-1.37-1.37c-.4-.4-.92-.59-1.43-.59-.52 0-1.04.2-1.43.59L10.3 9.45l-7.72 7.72c-.78.78-.78 2.05 0 2.83L4 21.41c.39.39.9.59 1.41.59.51 0 1.02-.2 1.41-.59l7.78-7.78 2.81-2.81c.8-.78.8-2.07 0-2.86zM5.41 20L4 18.59l7.72-7.72 1.47 1.35L5.41 20z\"/>\n",
              "  </svg>\n",
              "      </button>\n",
              "      \n",
              "  <style>\n",
              "    .colab-df-container {\n",
              "      display:flex;\n",
              "      flex-wrap:wrap;\n",
              "      gap: 12px;\n",
              "    }\n",
              "\n",
              "    .colab-df-convert {\n",
              "      background-color: #E8F0FE;\n",
              "      border: none;\n",
              "      border-radius: 50%;\n",
              "      cursor: pointer;\n",
              "      display: none;\n",
              "      fill: #1967D2;\n",
              "      height: 32px;\n",
              "      padding: 0 0 0 0;\n",
              "      width: 32px;\n",
              "    }\n",
              "\n",
              "    .colab-df-convert:hover {\n",
              "      background-color: #E2EBFA;\n",
              "      box-shadow: 0px 1px 2px rgba(60, 64, 67, 0.3), 0px 1px 3px 1px rgba(60, 64, 67, 0.15);\n",
              "      fill: #174EA6;\n",
              "    }\n",
              "\n",
              "    [theme=dark] .colab-df-convert {\n",
              "      background-color: #3B4455;\n",
              "      fill: #D2E3FC;\n",
              "    }\n",
              "\n",
              "    [theme=dark] .colab-df-convert:hover {\n",
              "      background-color: #434B5C;\n",
              "      box-shadow: 0px 1px 3px 1px rgba(0, 0, 0, 0.15);\n",
              "      filter: drop-shadow(0px 1px 2px rgba(0, 0, 0, 0.3));\n",
              "      fill: #FFFFFF;\n",
              "    }\n",
              "  </style>\n",
              "\n",
              "      <script>\n",
              "        const buttonEl =\n",
              "          document.querySelector('#df-d031b161-a1e9-4336-b34b-8c06afb5907c button.colab-df-convert');\n",
              "        buttonEl.style.display =\n",
              "          google.colab.kernel.accessAllowed ? 'block' : 'none';\n",
              "\n",
              "        async function convertToInteractive(key) {\n",
              "          const element = document.querySelector('#df-d031b161-a1e9-4336-b34b-8c06afb5907c');\n",
              "          const dataTable =\n",
              "            await google.colab.kernel.invokeFunction('convertToInteractive',\n",
              "                                                     [key], {});\n",
              "          if (!dataTable) return;\n",
              "\n",
              "          const docLinkHtml = 'Like what you see? Visit the ' +\n",
              "            '<a target=\"_blank\" href=https://colab.research.google.com/notebooks/data_table.ipynb>data table notebook</a>'\n",
              "            + ' to learn more about interactive tables.';\n",
              "          element.innerHTML = '';\n",
              "          dataTable['output_type'] = 'display_data';\n",
              "          await google.colab.output.renderOutput(dataTable, element);\n",
              "          const docLink = document.createElement('div');\n",
              "          docLink.innerHTML = docLinkHtml;\n",
              "          element.appendChild(docLink);\n",
              "        }\n",
              "      </script>\n",
              "    </div>\n",
              "  </div>\n",
              "  "
            ]
          },
          "metadata": {},
          "execution_count": 180
        }
      ],
      "source": [
        "# describe the numerical data\n",
        "ids.describe()"
      ]
    },
    {
      "cell_type": "markdown",
      "source": [
        " **2)For categorical features, we use .describe(include=object)**"
      ],
      "metadata": {
        "id": "VyKieht_tFwn"
      },
      "id": "VyKieht_tFwn"
    },
    {
      "cell_type": "code",
      "source": [
        "# describe the categorical data\n",
        "# include=object: selects the categorical features\n",
        "ids.describe(include = object)\n",
        "\n",
        "# Note: If we pass 'include=object' to the .describe(),\n",
        "#       it will return descriptive statistics for categorical variables only"
      ],
      "metadata": {
        "colab": {
          "base_uri": "https://localhost:8080/",
          "height": 175
        },
        "id": "0QFAodIbtVDJ",
        "outputId": "47646412-1b46-4a1d-e4db-28ebdd0e1501"
      },
      "id": "0QFAodIbtVDJ",
      "execution_count": 181,
      "outputs": [
        {
          "output_type": "execute_result",
          "data": {
            "text/plain": [
              "           sex hereditary_diseases  smoker        city  diabetes  regular_ex  \\\n",
              "count    15000               15000   15000       15000     15000       15000   \n",
              "unique       2                  10       2          91         2           2   \n",
              "top     female           NoDisease       0  NewOrleans         1           0   \n",
              "freq      7652               13998   12028         302     11655       11638   \n",
              "\n",
              "       job_title  \n",
              "count      15000  \n",
              "unique        35  \n",
              "top      Student  \n",
              "freq        1320  "
            ],
            "text/html": [
              "\n",
              "  <div id=\"df-34ea7217-810d-4de9-a0e2-c567995e4df2\">\n",
              "    <div class=\"colab-df-container\">\n",
              "      <div>\n",
              "<style scoped>\n",
              "    .dataframe tbody tr th:only-of-type {\n",
              "        vertical-align: middle;\n",
              "    }\n",
              "\n",
              "    .dataframe tbody tr th {\n",
              "        vertical-align: top;\n",
              "    }\n",
              "\n",
              "    .dataframe thead th {\n",
              "        text-align: right;\n",
              "    }\n",
              "</style>\n",
              "<table border=\"1\" class=\"dataframe\">\n",
              "  <thead>\n",
              "    <tr style=\"text-align: right;\">\n",
              "      <th></th>\n",
              "      <th>sex</th>\n",
              "      <th>hereditary_diseases</th>\n",
              "      <th>smoker</th>\n",
              "      <th>city</th>\n",
              "      <th>diabetes</th>\n",
              "      <th>regular_ex</th>\n",
              "      <th>job_title</th>\n",
              "    </tr>\n",
              "  </thead>\n",
              "  <tbody>\n",
              "    <tr>\n",
              "      <th>count</th>\n",
              "      <td>15000</td>\n",
              "      <td>15000</td>\n",
              "      <td>15000</td>\n",
              "      <td>15000</td>\n",
              "      <td>15000</td>\n",
              "      <td>15000</td>\n",
              "      <td>15000</td>\n",
              "    </tr>\n",
              "    <tr>\n",
              "      <th>unique</th>\n",
              "      <td>2</td>\n",
              "      <td>10</td>\n",
              "      <td>2</td>\n",
              "      <td>91</td>\n",
              "      <td>2</td>\n",
              "      <td>2</td>\n",
              "      <td>35</td>\n",
              "    </tr>\n",
              "    <tr>\n",
              "      <th>top</th>\n",
              "      <td>female</td>\n",
              "      <td>NoDisease</td>\n",
              "      <td>0</td>\n",
              "      <td>NewOrleans</td>\n",
              "      <td>1</td>\n",
              "      <td>0</td>\n",
              "      <td>Student</td>\n",
              "    </tr>\n",
              "    <tr>\n",
              "      <th>freq</th>\n",
              "      <td>7652</td>\n",
              "      <td>13998</td>\n",
              "      <td>12028</td>\n",
              "      <td>302</td>\n",
              "      <td>11655</td>\n",
              "      <td>11638</td>\n",
              "      <td>1320</td>\n",
              "    </tr>\n",
              "  </tbody>\n",
              "</table>\n",
              "</div>\n",
              "      <button class=\"colab-df-convert\" onclick=\"convertToInteractive('df-34ea7217-810d-4de9-a0e2-c567995e4df2')\"\n",
              "              title=\"Convert this dataframe to an interactive table.\"\n",
              "              style=\"display:none;\">\n",
              "        \n",
              "  <svg xmlns=\"http://www.w3.org/2000/svg\" height=\"24px\"viewBox=\"0 0 24 24\"\n",
              "       width=\"24px\">\n",
              "    <path d=\"M0 0h24v24H0V0z\" fill=\"none\"/>\n",
              "    <path d=\"M18.56 5.44l.94 2.06.94-2.06 2.06-.94-2.06-.94-.94-2.06-.94 2.06-2.06.94zm-11 1L8.5 8.5l.94-2.06 2.06-.94-2.06-.94L8.5 2.5l-.94 2.06-2.06.94zm10 10l.94 2.06.94-2.06 2.06-.94-2.06-.94-.94-2.06-.94 2.06-2.06.94z\"/><path d=\"M17.41 7.96l-1.37-1.37c-.4-.4-.92-.59-1.43-.59-.52 0-1.04.2-1.43.59L10.3 9.45l-7.72 7.72c-.78.78-.78 2.05 0 2.83L4 21.41c.39.39.9.59 1.41.59.51 0 1.02-.2 1.41-.59l7.78-7.78 2.81-2.81c.8-.78.8-2.07 0-2.86zM5.41 20L4 18.59l7.72-7.72 1.47 1.35L5.41 20z\"/>\n",
              "  </svg>\n",
              "      </button>\n",
              "      \n",
              "  <style>\n",
              "    .colab-df-container {\n",
              "      display:flex;\n",
              "      flex-wrap:wrap;\n",
              "      gap: 12px;\n",
              "    }\n",
              "\n",
              "    .colab-df-convert {\n",
              "      background-color: #E8F0FE;\n",
              "      border: none;\n",
              "      border-radius: 50%;\n",
              "      cursor: pointer;\n",
              "      display: none;\n",
              "      fill: #1967D2;\n",
              "      height: 32px;\n",
              "      padding: 0 0 0 0;\n",
              "      width: 32px;\n",
              "    }\n",
              "\n",
              "    .colab-df-convert:hover {\n",
              "      background-color: #E2EBFA;\n",
              "      box-shadow: 0px 1px 2px rgba(60, 64, 67, 0.3), 0px 1px 3px 1px rgba(60, 64, 67, 0.15);\n",
              "      fill: #174EA6;\n",
              "    }\n",
              "\n",
              "    [theme=dark] .colab-df-convert {\n",
              "      background-color: #3B4455;\n",
              "      fill: #D2E3FC;\n",
              "    }\n",
              "\n",
              "    [theme=dark] .colab-df-convert:hover {\n",
              "      background-color: #434B5C;\n",
              "      box-shadow: 0px 1px 3px 1px rgba(0, 0, 0, 0.15);\n",
              "      filter: drop-shadow(0px 1px 2px rgba(0, 0, 0, 0.3));\n",
              "      fill: #FFFFFF;\n",
              "    }\n",
              "  </style>\n",
              "\n",
              "      <script>\n",
              "        const buttonEl =\n",
              "          document.querySelector('#df-34ea7217-810d-4de9-a0e2-c567995e4df2 button.colab-df-convert');\n",
              "        buttonEl.style.display =\n",
              "          google.colab.kernel.accessAllowed ? 'block' : 'none';\n",
              "\n",
              "        async function convertToInteractive(key) {\n",
              "          const element = document.querySelector('#df-34ea7217-810d-4de9-a0e2-c567995e4df2');\n",
              "          const dataTable =\n",
              "            await google.colab.kernel.invokeFunction('convertToInteractive',\n",
              "                                                     [key], {});\n",
              "          if (!dataTable) return;\n",
              "\n",
              "          const docLinkHtml = 'Like what you see? Visit the ' +\n",
              "            '<a target=\"_blank\" href=https://colab.research.google.com/notebooks/data_table.ipynb>data table notebook</a>'\n",
              "            + ' to learn more about interactive tables.';\n",
              "          element.innerHTML = '';\n",
              "          dataTable['output_type'] = 'display_data';\n",
              "          await google.colab.output.renderOutput(dataTable, element);\n",
              "          const docLink = document.createElement('div');\n",
              "          docLink.innerHTML = docLinkHtml;\n",
              "          element.appendChild(docLink);\n",
              "        }\n",
              "      </script>\n",
              "    </div>\n",
              "  </div>\n",
              "  "
            ]
          },
          "metadata": {},
          "execution_count": 181
        }
      ]
    },
    {
      "cell_type": "markdown",
      "source": [
        "#**Exploratory Data Analysis**\n",
        "##Checking the distributions of numerical variables"
      ],
      "metadata": {
        "id": "0bJQ-0J8WD-X"
      },
      "id": "0bJQ-0J8WD-X"
    },
    {
      "cell_type": "code",
      "execution_count": 182,
      "id": "106d35f3",
      "metadata": {
        "id": "106d35f3",
        "outputId": "fab8719f-35b0-41ed-f45a-11a8cfe4425a",
        "colab": {
          "base_uri": "https://localhost:8080/",
          "height": 265
        }
      },
      "outputs": [
        {
          "output_type": "display_data",
          "data": {
            "text/plain": [
              "<Figure size 432x288 with 1 Axes>"
            ],
            "image/png": "[encoded data removed]"
          },
          "metadata": {
            "needs_background": "light"
          }
        }
      ],
      "source": [
        "plt.hist(x=ids['age'],bins= 20)\n",
        "plt.show()"
      ]
    },
    {
      "cell_type": "code",
      "execution_count": 183,
      "id": "01c66a19",
      "metadata": {
        "id": "01c66a19",
        "outputId": "820bf2f7-b56d-40bc-9e19-8b57786fae4b",
        "colab": {
          "base_uri": "https://localhost:8080/",
          "height": 282
        }
      },
      "outputs": [
        {
          "output_type": "execute_result",
          "data": {
            "text/plain": [
              "<matplotlib.collections.PathCollection at 0x7fef41260af0>"
            ]
          },
          "metadata": {},
          "execution_count": 183
        },
        {
          "output_type": "display_data",
          "data": {
            "text/plain": [
              "<Figure size 432x288 with 1 Axes>"
            ],
            "image/png": "[encoded data removed]"
          },
          "metadata": {
            "needs_background": "light"
          }
        }
      ],
      "source": [
        "plt.scatter(x=ids['age'],y= ids[\"claim\"])"
      ]
    },
    {
      "cell_type": "code",
      "execution_count": 184,
      "id": "5ef75331",
      "metadata": {
        "id": "5ef75331",
        "outputId": "b444d773-7e6a-4b34-d41c-d3ea08f6ab30",
        "colab": {
          "base_uri": "https://localhost:8080/",
          "height": 265
        }
      },
      "outputs": [
        {
          "output_type": "display_data",
          "data": {
            "text/plain": [
              "<Figure size 432x288 with 1 Axes>"
            ],
            "image/png": "[encoded data removed]"
          },
          "metadata": {
            "needs_background": "light"
          }
        }
      ],
      "source": [
        "#weight distn\n",
        "plt.hist(x=ids['weight'],bins= 15)\n",
        "plt.show()"
      ]
    },
    {
      "cell_type": "code",
      "execution_count": 185,
      "id": "d3b4a363",
      "metadata": {
        "id": "d3b4a363",
        "outputId": "da2835cb-6a86-42ae-ab2f-851f334eeff3",
        "colab": {
          "base_uri": "https://localhost:8080/",
          "height": 282
        }
      },
      "outputs": [
        {
          "output_type": "execute_result",
          "data": {
            "text/plain": [
              "<matplotlib.collections.PathCollection at 0x7fef3a3a3ca0>"
            ]
          },
          "metadata": {},
          "execution_count": 185
        },
        {
          "output_type": "display_data",
          "data": {
            "text/plain": [
              "<Figure size 432x288 with 1 Axes>"
            ],
            "image/png": "[encoded data removed]"
          },
          "metadata": {
            "needs_background": "light"
          }
        }
      ],
      "source": [
        "plt.scatter(x=ids['weight'],y= ids[\"claim\"])"
      ]
    },
    {
      "cell_type": "code",
      "execution_count": 186,
      "id": "ede2c21b",
      "metadata": {
        "id": "ede2c21b",
        "outputId": "38322c9e-634d-4afe-b24a-d3f4fbaa5044",
        "colab": {
          "base_uri": "https://localhost:8080/",
          "height": 265
        }
      },
      "outputs": [
        {
          "output_type": "display_data",
          "data": {
            "text/plain": [
              "<Figure size 432x288 with 1 Axes>"
            ],
            "image/png": "[encoded data removed]"
          },
          "metadata": {
            "needs_background": "light"
          }
        }
      ],
      "source": [
        "#bmi distn\n",
        "plt.hist(x=ids['bmi'],bins= 20)\n",
        "plt.show()"
      ]
    },
    {
      "cell_type": "code",
      "execution_count": 187,
      "id": "7997c5ed",
      "metadata": {
        "id": "7997c5ed",
        "outputId": "5753b3ee-c2a9-4117-d9cb-e782ba245921",
        "colab": {
          "base_uri": "https://localhost:8080/",
          "height": 282
        }
      },
      "outputs": [
        {
          "output_type": "execute_result",
          "data": {
            "text/plain": [
              "<matplotlib.collections.PathCollection at 0x7fef3a2dfa90>"
            ]
          },
          "metadata": {},
          "execution_count": 187
        },
        {
          "output_type": "display_data",
          "data": {
            "text/plain": [
              "<Figure size 432x288 with 1 Axes>"
            ],
            "image/png": "[encoded data removed]"
          },
          "metadata": {
            "needs_background": "light"
          }
        }
      ],
      "source": [
        "plt.scatter(x=ids['weight'],y= ids[\"claim\"])"
      ]
    },
    {
      "cell_type": "code",
      "execution_count": 188,
      "id": "787d5862",
      "metadata": {
        "id": "787d5862",
        "outputId": "69a0cbd1-411c-4560-8ebd-c545149186ab",
        "colab": {
          "base_uri": "https://localhost:8080/",
          "height": 265
        }
      },
      "outputs": [
        {
          "output_type": "display_data",
          "data": {
            "text/plain": [
              "<Figure size 432x288 with 1 Axes>"
            ],
            "image/png": "[encoded data removed]"
          },
          "metadata": {
            "needs_background": "light"
          }
        }
      ],
      "source": [
        "#bloodpressure distn\n",
        "plt.hist(x=ids['bloodpressure'],bins= 20)\n",
        "plt.show()"
      ]
    },
    {
      "cell_type": "code",
      "execution_count": 189,
      "id": "cd92cdce",
      "metadata": {
        "id": "cd92cdce",
        "outputId": "df427523-3ddd-4a33-ae26-88538a1fd4b4",
        "colab": {
          "base_uri": "https://localhost:8080/",
          "height": 282
        }
      },
      "outputs": [
        {
          "output_type": "execute_result",
          "data": {
            "text/plain": [
              "<matplotlib.collections.PathCollection at 0x7fef3a273190>"
            ]
          },
          "metadata": {},
          "execution_count": 189
        },
        {
          "output_type": "display_data",
          "data": {
            "text/plain": [
              "<Figure size 432x288 with 1 Axes>"
            ],
            "image/png": "[encoded data removed]"
          },
          "metadata": {
            "needs_background": "light"
          }
        }
      ],
      "source": [
        "plt.scatter(x=ids['bloodpressure'],y= ids[\"claim\"])"
      ]
    },
    {
      "cell_type": "code",
      "execution_count": 190,
      "id": "5fb67ef3",
      "metadata": {
        "id": "5fb67ef3",
        "outputId": "8df2747b-cf80-488e-faaf-f2dc684ba1b3",
        "colab": {
          "base_uri": "https://localhost:8080/",
          "height": 265
        }
      },
      "outputs": [
        {
          "output_type": "display_data",
          "data": {
            "text/plain": [
              "<Figure size 432x288 with 1 Axes>"
            ],
            "image/png": "[encoded data removed]"
          },
          "metadata": {
            "needs_background": "light"
          }
        }
      ],
      "source": [
        "#claim col distn\n",
        "plt.hist(x=ids['claim'],bins= 20)\n",
        "plt.show()"
      ]
    },
    {
      "cell_type": "markdown",
      "source": [
        "NOTE: Claim is postively skewed, so will apply log transformation at a later date"
      ],
      "metadata": {
        "id": "TOf-AH8DX7Qp"
      },
      "id": "TOf-AH8DX7Qp"
    },
    {
      "cell_type": "markdown",
      "source": [
        "#**Checking categorical variables**"
      ],
      "metadata": {
        "id": "B2mU1QgOYC5O"
      },
      "id": "B2mU1QgOYC5O"
    },
    {
      "cell_type": "code",
      "execution_count": 191,
      "id": "87447c65",
      "metadata": {
        "id": "87447c65",
        "outputId": "c733af9b-fbcc-4c9b-b295-b02fbe6e9608",
        "colab": {
          "base_uri": "https://localhost:8080/",
          "height": 391
        }
      },
      "outputs": [
        {
          "output_type": "display_data",
          "data": {
            "text/plain": [
              "<Figure size 432x432 with 1 Axes>"
            ],
            "image/png": "[encoded data removed]"
          },
          "metadata": {
            "needs_background": "light"
          }
        }
      ],
      "source": [
        "#sex distn\n",
        "#bar plot\n",
        "plt.figure(figsize = (6,6))\n",
        "sns.countplot(x=\"sex\",data= ids)\n",
        "plt.show()"
      ]
    },
    {
      "cell_type": "code",
      "execution_count": 192,
      "id": "a43ea4cb",
      "metadata": {
        "id": "a43ea4cb",
        "outputId": "fcd41904-38a2-4767-9bbf-b137e8b7f39a",
        "colab": {
          "base_uri": "https://localhost:8080/",
          "height": 389
        }
      },
      "outputs": [
        {
          "output_type": "display_data",
          "data": {
            "text/plain": [
              "<Figure size 1080x432 with 1 Axes>"
            ],
            "image/png": "[encoded data removed]"
          },
          "metadata": {
            "needs_background": "light"
          }
        }
      ],
      "source": [
        "#hereditary_diseases distn\n",
        "plt.figure(figsize = (15,6))\n",
        "sns.countplot(x=\"hereditary_diseases\",data= ids)\n",
        "plt.show()"
      ]
    },
    {
      "cell_type": "code",
      "execution_count": 193,
      "id": "de38b134",
      "metadata": {
        "id": "de38b134",
        "outputId": "a5ab91a9-95a3-470d-95f6-aecf5c0310e2",
        "colab": {
          "base_uri": "https://localhost:8080/",
          "height": 389
        }
      },
      "outputs": [
        {
          "output_type": "display_data",
          "data": {
            "text/plain": [
              "<Figure size 432x432 with 1 Axes>"
            ],
            "image/png": "[encoded data removed]"
          },
          "metadata": {
            "needs_background": "light"
          }
        }
      ],
      "source": [
        "#no_of_dependents distn\n",
        "plt.figure(figsize = (6,6))\n",
        "sns.countplot(x=\"no_of_dependents\",data= ids)\n",
        "plt.show()"
      ]
    },
    {
      "cell_type": "code",
      "execution_count": 194,
      "id": "d65fb733",
      "metadata": {
        "id": "d65fb733",
        "outputId": "03e33c03-8e74-4b44-b728-2015284bbe6e",
        "colab": {
          "base_uri": "https://localhost:8080/",
          "height": 388
        }
      },
      "outputs": [
        {
          "output_type": "display_data",
          "data": {
            "text/plain": [
              "<Figure size 432x432 with 1 Axes>"
            ],
            "image/png": "[encoded data removed]"
          },
          "metadata": {
            "needs_background": "light"
          }
        }
      ],
      "source": [
        "#smoker distn\n",
        "plt.figure(figsize = (6,6))\n",
        "sns.countplot(x=\"smoker\",data= ids)\n",
        "plt.show()"
      ]
    },
    {
      "cell_type": "code",
      "execution_count": 195,
      "id": "0c24519a",
      "metadata": {
        "id": "0c24519a",
        "outputId": "90107a8d-6849-46a8-b701-0cfaeb205f4f",
        "colab": {
          "base_uri": "https://localhost:8080/",
          "height": 388
        }
      },
      "outputs": [
        {
          "output_type": "display_data",
          "data": {
            "text/plain": [
              "<Figure size 432x432 with 1 Axes>"
            ],
            "image/png": "[encoded data removed]"
          },
          "metadata": {
            "needs_background": "light"
          }
        }
      ],
      "source": [
        "#diabetes distn \n",
        "plt.figure(figsize = (6,6))\n",
        "sns.countplot(x=\"diabetes\",data= ids)\n",
        "plt.show()"
      ]
    },
    {
      "cell_type": "code",
      "execution_count": 196,
      "id": "3bc11420",
      "metadata": {
        "id": "3bc11420",
        "outputId": "e7c4a035-ba9c-421f-a3b6-dfee9bdd8d06",
        "colab": {
          "base_uri": "https://localhost:8080/",
          "height": 389
        }
      },
      "outputs": [
        {
          "output_type": "display_data",
          "data": {
            "text/plain": [
              "<Figure size 432x432 with 1 Axes>"
            ],
            "image/png": "[encoded data removed]"
          },
          "metadata": {
            "needs_background": "light"
          }
        }
      ],
      "source": [
        "#regular_ex distn\n",
        "plt.figure(figsize = (6,6))\n",
        "sns.countplot(x=\"regular_ex\",data= ids)\n",
        "plt.show()"
      ]
    },
    {
      "cell_type": "code",
      "execution_count": 197,
      "id": "5c77b021",
      "metadata": {
        "id": "5c77b021",
        "outputId": "4ea2d3ef-e6b8-4b59-ae05-207acb3e6147",
        "colab": {
          "base_uri": "https://localhost:8080/",
          "height": 375
        }
      },
      "outputs": [
        {
          "output_type": "display_data",
          "data": {
            "text/plain": [
              "<Figure size 1800x432 with 1 Axes>"
            ],
            "image/png": "[encoded data removed]"
          },
          "metadata": {
            "needs_background": "light"
          }
        }
      ],
      "source": [
        "#job_title distn\n",
        "plt.figure(figsize = (25,6))\n",
        "sns.countplot(x=\"job_title\",data= ids)\n",
        "plt.show()"
      ]
    },
    {
      "cell_type": "markdown",
      "id": "8d611308",
      "metadata": {
        "id": "8d611308"
      },
      "source": [
        "#**checking outliers**\n",
        "An outlier is an observation that appears to deviate distinctly from other observations in the data. If the outliers are not removed, the model accuracy may decrease.\n",
        "##recollect that one of the assumptions of linear regression is that there should not be any outliers present in the data"
      ]
    },
    {
      "cell_type": "code",
      "execution_count": 198,
      "id": "16b3b55d",
      "metadata": {
        "id": "16b3b55d",
        "outputId": "737e503e-6c60-4ec5-e9ff-32f6b2a11cf6",
        "colab": {
          "base_uri": "https://localhost:8080/",
          "height": 918
        }
      },
      "outputs": [
        {
          "output_type": "stream",
          "name": "stderr",
          "text": [
            "/usr/local/lib/python3.8/dist-packages/matplotlib/cbook/__init__.py:1376: VisibleDeprecationWarning: Creating an ndarray from ragged nested sequences (which is a list-or-tuple of lists-or-tuples-or ndarrays with different lengths or shapes) is deprecated. If you meant to do this, you must specify 'dtype=object' when creating the ndarray.\n",
            "  X = np.atleast_1d(X.T if isinstance(X, np.ndarray) else np.asarray(X))\n"
          ]
        },
        {
          "output_type": "display_data",
          "data": {
            "text/plain": [
              "<Figure size 1080x1080 with 1 Axes>"
            ],
            "image/png": "[encoded data removed]"
          },
          "metadata": {
            "needs_background": "light"
          }
        }
      ],
      "source": [
        "#set the size\n",
        "plt.figure(figsize = (15,15))\n",
        "# create a boxplot for all numeric features\n",
        "# column: selects the specified columns\n",
        "ids.boxplot(column=['age','bmi','bloodpressure'])\n",
        "plt.show()"
      ]
    },
    {
      "cell_type": "code",
      "execution_count": 199,
      "id": "495027d5",
      "metadata": {
        "id": "495027d5",
        "outputId": "6e054792-21b8-406b-c0aa-d57d55b70ac4",
        "colab": {
          "base_uri": "https://localhost:8080/",
          "height": 279
        }
      },
      "outputs": [
        {
          "output_type": "display_data",
          "data": {
            "text/plain": [
              "<Figure size 432x288 with 1 Axes>"
            ],
            "image/png": "[encoded data removed]"
          },
          "metadata": {
            "needs_background": "light"
          }
        }
      ],
      "source": [
        "sns.boxplot(x=ids['claim'])\n",
        "plt.show()"
      ]
    },
    {
      "cell_type": "code",
      "execution_count": 200,
      "id": "37dd92d9",
      "metadata": {
        "id": "37dd92d9",
        "outputId": "c0b64557-26f4-4411-c0cb-9d385af2f2d0",
        "colab": {
          "base_uri": "https://localhost:8080/",
          "height": 279
        }
      },
      "outputs": [
        {
          "output_type": "display_data",
          "data": {
            "text/plain": [
              "<Figure size 432x288 with 1 Axes>"
            ],
            "image/png": "[encoded data removed]"
          },
          "metadata": {
            "needs_background": "light"
          }
        }
      ],
      "source": [
        "sns.boxplot(x=ids['age'])\n",
        "plt.show()"
      ]
    },
    {
      "cell_type": "code",
      "execution_count": 201,
      "id": "9e98bf82",
      "metadata": {
        "id": "9e98bf82",
        "outputId": "7e0384e3-77fc-496f-e06b-049878992cd8",
        "colab": {
          "base_uri": "https://localhost:8080/",
          "height": 282
        }
      },
      "outputs": [
        {
          "output_type": "execute_result",
          "data": {
            "text/plain": [
              "<matplotlib.collections.PathCollection at 0x7fef39289f10>"
            ]
          },
          "metadata": {},
          "execution_count": 201
        },
        {
          "output_type": "display_data",
          "data": {
            "text/plain": [
              "<Figure size 432x288 with 1 Axes>"
            ],
            "image/png": "[encoded data removed]"
          },
          "metadata": {
            "needs_background": "light"
          }
        }
      ],
      "source": [
        "plt.scatter(ids.index,ids[\"claim\"])"
      ]
    },
    {
      "cell_type": "code",
      "execution_count": 202,
      "id": "1d4fde9a",
      "metadata": {
        "id": "1d4fde9a",
        "outputId": "1ae2e310-1795-4839-afc8-5e8d12bba7d8",
        "colab": {
          "base_uri": "https://localhost:8080/",
          "height": 282
        }
      },
      "outputs": [
        {
          "output_type": "execute_result",
          "data": {
            "text/plain": [
              "<matplotlib.collections.PathCollection at 0x7fef39260eb0>"
            ]
          },
          "metadata": {},
          "execution_count": 202
        },
        {
          "output_type": "display_data",
          "data": {
            "text/plain": [
              "<Figure size 432x288 with 1 Axes>"
            ],
            "image/png": "[encoded data removed]"
          },
          "metadata": {
            "needs_background": "light"
          }
        }
      ],
      "source": [
        "plt.scatter(ids.index,ids[\"age\"])"
      ]
    },
    {
      "cell_type": "code",
      "execution_count": 203,
      "id": "b0b1668e",
      "metadata": {
        "id": "b0b1668e",
        "outputId": "9aee5d32-7810-4b4a-fc0d-391f906ed90b",
        "colab": {
          "base_uri": "https://localhost:8080/",
          "height": 282
        }
      },
      "outputs": [
        {
          "output_type": "execute_result",
          "data": {
            "text/plain": [
              "<matplotlib.collections.PathCollection at 0x7fef39237520>"
            ]
          },
          "metadata": {},
          "execution_count": 203
        },
        {
          "output_type": "display_data",
          "data": {
            "text/plain": [
              "<Figure size 432x288 with 1 Axes>"
            ],
            "image/png": "[encoded data removed]"
          },
          "metadata": {
            "needs_background": "light"
          }
        }
      ],
      "source": [
        "plt.scatter(ids.index,ids[\"bmi\"])"
      ]
    },
    {
      "cell_type": "code",
      "execution_count": 204,
      "id": "9544fd86",
      "metadata": {
        "id": "9544fd86",
        "outputId": "a5454d46-eaf1-478f-b32f-bd0cbff302ad",
        "colab": {
          "base_uri": "https://localhost:8080/",
          "height": 282
        }
      },
      "outputs": [
        {
          "output_type": "execute_result",
          "data": {
            "text/plain": [
              "<matplotlib.collections.PathCollection at 0x7fef39151970>"
            ]
          },
          "metadata": {},
          "execution_count": 204
        },
        {
          "output_type": "display_data",
          "data": {
            "text/plain": [
              "<Figure size 432x288 with 1 Axes>"
            ],
            "image/png": "[encoded data removed]"
          },
          "metadata": {
            "needs_background": "light"
          }
        }
      ],
      "source": [
        "plt.scatter(ids.index,ids[\"bloodpressure\"])"
      ]
    },
    {
      "cell_type": "markdown",
      "id": "6edc3309",
      "metadata": {
        "id": "6edc3309"
      },
      "source": [
        "#**INFERENCES:**\n",
        "# 1)bmi has outliers\n",
        "# 2)bloodpressure has outliers\n",
        "# 3)claim has outliers"
      ]
    },
    {
      "cell_type": "markdown",
      "source": [
        "#**Handling Outliers**"
      ],
      "metadata": {
        "id": "buJP3ZuEZF22"
      },
      "id": "buJP3ZuEZF22"
    },
    {
      "cell_type": "code",
      "execution_count": 205,
      "id": "433a706b",
      "metadata": {
        "id": "433a706b",
        "outputId": "b9d61e1b-f382-44bf-c2f2-f62570e0e14b",
        "colab": {
          "base_uri": "https://localhost:8080/"
        }
      },
      "outputs": [
        {
          "output_type": "execute_result",
          "data": {
            "text/plain": [
              "40.5"
            ]
          },
          "metadata": {},
          "execution_count": 205
        }
      ],
      "source": [
        "max_treshold= ids['bmi'].quantile(0.95)\n",
        "max_treshold"
      ]
    },
    {
      "cell_type": "code",
      "execution_count": 206,
      "id": "bdf00396",
      "metadata": {
        "id": "bdf00396",
        "outputId": "ab2f8f80-3240-4377-ad96-e0c84530975a",
        "colab": {
          "base_uri": "https://localhost:8080/",
          "height": 279
        }
      },
      "outputs": [
        {
          "output_type": "display_data",
          "data": {
            "text/plain": [
              "<Figure size 432x288 with 1 Axes>"
            ],
            "image/png": "[encoded data removed]"
          },
          "metadata": {
            "needs_background": "light"
          }
        }
      ],
      "source": [
        "#plot before handling outliers\n",
        "sns.boxplot(x=ids['bmi'])\n",
        "plt.show()"
      ]
    },
    {
      "cell_type": "code",
      "execution_count": 207,
      "id": "1ce5682b",
      "metadata": {
        "id": "1ce5682b",
        "outputId": "0df80fed-67ad-4802-a2dc-c9e07e40c072",
        "colab": {
          "base_uri": "https://localhost:8080/"
        }
      },
      "outputs": [
        {
          "output_type": "stream",
          "name": "stderr",
          "text": [
            "<ipython-input-207-6735ad895042>:1: SettingWithCopyWarning: \n",
            "A value is trying to be set on a copy of a slice from a DataFrame\n",
            "\n",
            "See the caveats in the documentation: https://pandas.pydata.org/pandas-docs/stable/user_guide/indexing.html#returning-a-view-versus-a-copy\n",
            "  ids['bmi'][ids['bmi']>max_treshold]= max_treshold\n"
          ]
        }
      ],
      "source": [
        "ids['bmi'][ids['bmi']>max_treshold]= max_treshold"
      ]
    },
    {
      "cell_type": "code",
      "execution_count": 208,
      "id": "a5cb9f21",
      "metadata": {
        "id": "a5cb9f21",
        "outputId": "2b6fbc8c-efac-434c-aa02-a934923f6712",
        "colab": {
          "base_uri": "https://localhost:8080/",
          "height": 279
        }
      },
      "outputs": [
        {
          "output_type": "display_data",
          "data": {
            "text/plain": [
              "<Figure size 432x288 with 1 Axes>"
            ],
            "image/png": "[encoded data removed]"
          },
          "metadata": {
            "needs_background": "light"
          }
        }
      ],
      "source": [
        "# after handling outliers\n",
        "sns.boxplot(x=ids['bmi'])\n",
        "plt.show()"
      ]
    },
    {
      "cell_type": "code",
      "execution_count": 209,
      "id": "5772f6d8",
      "metadata": {
        "id": "5772f6d8",
        "outputId": "51bd2330-91cf-40ac-cdc6-6da503a9843b",
        "colab": {
          "base_uri": "https://localhost:8080/"
        }
      },
      "outputs": [
        {
          "output_type": "execute_result",
          "data": {
            "text/plain": [
              "48.0"
            ]
          },
          "metadata": {},
          "execution_count": 209
        }
      ],
      "source": [
        "#bloodpressure outlier handling\n",
        "min_treshold2=ids['bloodpressure'].quantile(0.06)\n",
        "min_treshold2"
      ]
    },
    {
      "cell_type": "code",
      "execution_count": 210,
      "id": "7f22579c",
      "metadata": {
        "id": "7f22579c",
        "outputId": "281e69a4-4a29-4720-fb14-382a4cdce5c3",
        "colab": {
          "base_uri": "https://localhost:8080/"
        }
      },
      "outputs": [
        {
          "output_type": "execute_result",
          "data": {
            "text/plain": [
              "90.0"
            ]
          },
          "metadata": {},
          "execution_count": 210
        }
      ],
      "source": [
        "max_treshold2=ids['bloodpressure'].quantile(0.95)\n",
        "max_treshold2"
      ]
    },
    {
      "cell_type": "code",
      "execution_count": 211,
      "id": "1c092b0f",
      "metadata": {
        "id": "1c092b0f",
        "outputId": "9438e0dd-c7c7-40fe-e4d8-704429b597e1",
        "colab": {
          "base_uri": "https://localhost:8080/",
          "height": 279
        }
      },
      "outputs": [
        {
          "output_type": "display_data",
          "data": {
            "text/plain": [
              "<Figure size 432x288 with 1 Axes>"
            ],
            "image/png": "[encoded data removed]"
          },
          "metadata": {
            "needs_background": "light"
          }
        }
      ],
      "source": [
        "#before handling outlier \n",
        "sns.boxplot(x=ids['bloodpressure'])\n",
        "plt.show()"
      ]
    },
    {
      "cell_type": "code",
      "execution_count": 212,
      "id": "9f1f6e79",
      "metadata": {
        "id": "9f1f6e79",
        "outputId": "55c0e042-a20d-4771-f358-2b0660ef47f6",
        "colab": {
          "base_uri": "https://localhost:8080/"
        }
      },
      "outputs": [
        {
          "output_type": "stream",
          "name": "stderr",
          "text": [
            "<ipython-input-212-604a84b50ea4>:1: SettingWithCopyWarning: \n",
            "A value is trying to be set on a copy of a slice from a DataFrame\n",
            "\n",
            "See the caveats in the documentation: https://pandas.pydata.org/pandas-docs/stable/user_guide/indexing.html#returning-a-view-versus-a-copy\n",
            "  ids['bloodpressure'][ids['bloodpressure']<min_treshold2]= min_treshold2\n"
          ]
        }
      ],
      "source": [
        "ids['bloodpressure'][ids['bloodpressure']<min_treshold2]= min_treshold2"
      ]
    },
    {
      "cell_type": "code",
      "execution_count": 213,
      "id": "f25c7dfa",
      "metadata": {
        "id": "f25c7dfa",
        "outputId": "db65f3ec-29d1-42c1-951d-115f1ca07a98",
        "colab": {
          "base_uri": "https://localhost:8080/"
        }
      },
      "outputs": [
        {
          "output_type": "stream",
          "name": "stderr",
          "text": [
            "<ipython-input-213-19a2945e273d>:1: SettingWithCopyWarning: \n",
            "A value is trying to be set on a copy of a slice from a DataFrame\n",
            "\n",
            "See the caveats in the documentation: https://pandas.pydata.org/pandas-docs/stable/user_guide/indexing.html#returning-a-view-versus-a-copy\n",
            "  ids['bloodpressure'][ids['bloodpressure']>max_treshold2]= max_treshold2\n"
          ]
        }
      ],
      "source": [
        "ids['bloodpressure'][ids['bloodpressure']>max_treshold2]= max_treshold2"
      ]
    },
    {
      "cell_type": "code",
      "execution_count": 214,
      "id": "ef2ddf11",
      "metadata": {
        "id": "ef2ddf11",
        "outputId": "b96805c2-78cb-4772-fea8-30f7124c6b9e",
        "colab": {
          "base_uri": "https://localhost:8080/",
          "height": 279
        }
      },
      "outputs": [
        {
          "output_type": "display_data",
          "data": {
            "text/plain": [
              "<Figure size 432x288 with 1 Axes>"
            ],
            "image/png": "[encoded data removed]"
          },
          "metadata": {
            "needs_background": "light"
          }
        }
      ],
      "source": [
        "sns.boxplot(x=ids['bloodpressure'])\n",
        "plt.show()"
      ]
    },
    {
      "cell_type": "markdown",
      "id": "0322b3ff",
      "metadata": {
        "id": "0322b3ff"
      },
      "source": [
        "#**Missing Values**"
      ]
    },
    {
      "cell_type": "code",
      "execution_count": 215,
      "id": "cd1de5c8",
      "metadata": {
        "id": "cd1de5c8",
        "outputId": "6244fcec-14ec-4b6a-9b0e-5f57fd9d7da5",
        "colab": {
          "base_uri": "https://localhost:8080/"
        }
      },
      "outputs": [
        {
          "output_type": "execute_result",
          "data": {
            "text/plain": [
              "age                    396\n",
              "sex                      0\n",
              "weight                   0\n",
              "bmi                    956\n",
              "hereditary_diseases      0\n",
              "no_of_dependents         0\n",
              "smoker                   0\n",
              "city                     0\n",
              "bloodpressure            0\n",
              "diabetes                 0\n",
              "regular_ex               0\n",
              "job_title                0\n",
              "claim                    0\n",
              "dtype: int64"
            ]
          },
          "metadata": {},
          "execution_count": 215
        }
      ],
      "source": [
        "#.isnull().sum() gives the num of outliers in the feature/column\n",
        "#before handling missing values\n",
        "ids.isnull().sum()"
      ]
    },
    {
      "cell_type": "markdown",
      "source": [
        "#**Visualize Missing Values using Heatmap**"
      ],
      "metadata": {
        "id": "oIfYgtmFxX9Y"
      },
      "id": "oIfYgtmFxX9Y"
    },
    {
      "cell_type": "code",
      "source": [
        "plt.figure(figsize=(20,10))\n",
        "sns.heatmap(ids.isnull(),cbar=False,yticklabels=False,cmap='viridis')"
      ],
      "metadata": {
        "colab": {
          "base_uri": "https://localhost:8080/",
          "height": 699
        },
        "id": "tkbtXogNPiEq",
        "outputId": "3222ce4a-2ed9-4dbf-d8c8-4f5d3eef9f83"
      },
      "id": "tkbtXogNPiEq",
      "execution_count": 216,
      "outputs": [
        {
          "output_type": "execute_result",
          "data": {
            "text/plain": [
              "<matplotlib.axes._subplots.AxesSubplot at 0x7fef38fc2be0>"
            ]
          },
          "metadata": {},
          "execution_count": 216
        },
        {
          "output_type": "display_data",
          "data": {
            "text/plain": [
              "<Figure size 1440x720 with 1 Axes>"
            ],
            "image/png": "[encoded data removed]"
          },
          "metadata": {
            "needs_background": "light"
          }
        }
      ]
    },
    {
      "cell_type": "markdown",
      "source": [
        "###age and bmi have missing values\n",
        "**Imputing age with mean and bmi with median values.**\n",
        "\n",
        "\n",
        "#**how to Deal with Missing Values ?**\n",
        "How to deal with missing data?\n",
        "\n",
        "Depending on scenarios, you may:\n",
        "###a. Drop the whole row\n",
        "###b. Drop the whole column\n",
        "\n",
        "OR replace:\n",
        "###a. The missing values with mean\n",
        "###b. The missing values with median\n",
        "###c. Replace it based on other functions\n",
        "\n",
        "\n",
        "The entire column is dropped only if most entries (80%-90%) in the column are missing. We have the option to either drop the rows containing the missing values or replace them. In our dataset, there are not many values that are missing. So, we opt to replace these values. For the variable 'age', we will replace missing values by the mean of age across the gender.\n",
        "\n"
      ],
      "metadata": {
        "id": "RulbRqpfaDiP"
      },
      "id": "RulbRqpfaDiP"
    },
    {
      "cell_type": "code",
      "execution_count": 217,
      "id": "e075de08",
      "metadata": {
        "id": "e075de08"
      },
      "outputs": [],
      "source": [
        "ids['age'].fillna(value=ids['age'].mean(),inplace= True)"
      ]
    },
    {
      "cell_type": "code",
      "execution_count": 218,
      "id": "2ec09482",
      "metadata": {
        "id": "2ec09482"
      },
      "outputs": [],
      "source": [
        "ids['bmi'].fillna(value=ids['bmi'].median(),inplace= True) #using median imputation, since bmi has outliers"
      ]
    },
    {
      "cell_type": "code",
      "execution_count": 219,
      "id": "a34149bc",
      "metadata": {
        "id": "a34149bc",
        "outputId": "a42a0868-59ce-42e4-98fc-6471e25f2d28",
        "colab": {
          "base_uri": "https://localhost:8080/"
        }
      },
      "outputs": [
        {
          "output_type": "execute_result",
          "data": {
            "text/plain": [
              "age                    0\n",
              "sex                    0\n",
              "weight                 0\n",
              "bmi                    0\n",
              "hereditary_diseases    0\n",
              "no_of_dependents       0\n",
              "smoker                 0\n",
              "city                   0\n",
              "bloodpressure          0\n",
              "diabetes               0\n",
              "regular_ex             0\n",
              "job_title              0\n",
              "claim                  0\n",
              "dtype: int64"
            ]
          },
          "metadata": {},
          "execution_count": 219
        }
      ],
      "source": [
        "#after handling missing values\n",
        "ids.isnull().sum()"
      ]
    },
    {
      "cell_type": "code",
      "source": [
        "# heatmap after handling missing values\n",
        "plt.figure(figsize=(20,10))\n",
        "sns.heatmap(ids.isnull(),cbar=False,yticklabels=False,cmap='viridis')"
      ],
      "metadata": {
        "colab": {
          "base_uri": "https://localhost:8080/",
          "height": 699
        },
        "id": "v5ZRL--lasN4",
        "outputId": "d11061e8-b906-4799-ae6f-77ec17116fc6"
      },
      "id": "v5ZRL--lasN4",
      "execution_count": 220,
      "outputs": [
        {
          "output_type": "execute_result",
          "data": {
            "text/plain": [
              "<matplotlib.axes._subplots.AxesSubplot at 0x7fef38fa12b0>"
            ]
          },
          "metadata": {},
          "execution_count": 220
        },
        {
          "output_type": "display_data",
          "data": {
            "text/plain": [
              "<Figure size 1440x720 with 1 Axes>"
            ],
            "image/png": "[encoded data removed]"
          },
          "metadata": {
            "needs_background": "light"
          }
        }
      ]
    },
    {
      "cell_type": "markdown",
      "source": [
        "#**Applying transformation to claim**"
      ],
      "metadata": {
        "id": "fL_cC7UHa211"
      },
      "id": "fL_cC7UHa211"
    },
    {
      "cell_type": "code",
      "execution_count": 221,
      "id": "1a0b1186",
      "metadata": {
        "id": "1a0b1186",
        "outputId": "a578f8e3-b7d1-4f58-fd1f-8dfb798db3a8",
        "colab": {
          "base_uri": "https://localhost:8080/",
          "height": 282
        }
      },
      "outputs": [
        {
          "output_type": "execute_result",
          "data": {
            "text/plain": [
              "<matplotlib.collections.PathCollection at 0x7fef390346d0>"
            ]
          },
          "metadata": {},
          "execution_count": 221
        },
        {
          "output_type": "display_data",
          "data": {
            "text/plain": [
              "<Figure size 432x288 with 1 Axes>"
            ],
            "image/png": "[encoded data removed]"
          },
          "metadata": {
            "needs_background": "light"
          }
        }
      ],
      "source": [
        "plt.scatter( ids.index,ids[\"claim\"])"
      ]
    },
    {
      "cell_type": "code",
      "execution_count": 222,
      "id": "f2e2defc",
      "metadata": {
        "id": "f2e2defc",
        "outputId": "10a76078-b659-4db3-c6a6-59633de03899",
        "colab": {
          "base_uri": "https://localhost:8080/",
          "height": 265
        }
      },
      "outputs": [
        {
          "output_type": "display_data",
          "data": {
            "text/plain": [
              "<Figure size 432x288 with 1 Axes>"
            ],
            "image/png": "[encoded data removed]"
          },
          "metadata": {
            "needs_background": "light"
          }
        }
      ],
      "source": [
        "#histogram before transformationn\n",
        "plt.hist(x=ids['claim'],bins= 20)\n",
        "plt.show()"
      ]
    },
    {
      "cell_type": "code",
      "execution_count": 223,
      "id": "d8ddcf93",
      "metadata": {
        "id": "d8ddcf93",
        "outputId": "4a0dd306-0e70-4f8e-ab5e-f1a568b717a9",
        "colab": {
          "base_uri": "https://localhost:8080/",
          "height": 279
        }
      },
      "outputs": [
        {
          "output_type": "display_data",
          "data": {
            "text/plain": [
              "<Figure size 432x288 with 1 Axes>"
            ],
            "image/png": "[encoded data removed]"
          },
          "metadata": {
            "needs_background": "light"
          }
        }
      ],
      "source": [
        "#boxplot before transformation\n",
        "sns.boxplot(x=ids['claim'])\n",
        "plt.show()"
      ]
    },
    {
      "cell_type": "code",
      "execution_count": 224,
      "id": "2a97d71d",
      "metadata": {
        "id": "2a97d71d"
      },
      "outputs": [],
      "source": [
        "#log transformation\n",
        "ids['claim']=np.log(1+ids['claim'])"
      ]
    },
    {
      "cell_type": "code",
      "execution_count": 225,
      "id": "b3956e2e",
      "metadata": {
        "id": "b3956e2e",
        "outputId": "43cba7d0-466b-418d-ebda-91e2687062a7",
        "colab": {
          "base_uri": "https://localhost:8080/",
          "height": 265
        }
      },
      "outputs": [
        {
          "output_type": "display_data",
          "data": {
            "text/plain": [
              "<Figure size 432x288 with 1 Axes>"
            ],
            "image/png": "[encoded data removed]"
          },
          "metadata": {
            "needs_background": "light"
          }
        }
      ],
      "source": [
        "#after transformation\n",
        "plt.hist(x=ids['claim'],bins= 20)\n",
        "plt.show()"
      ]
    },
    {
      "cell_type": "code",
      "execution_count": 226,
      "id": "93736e1e",
      "metadata": {
        "id": "93736e1e",
        "outputId": "7c87eff2-3020-4724-c9c5-c78f36fa50ec",
        "colab": {
          "base_uri": "https://localhost:8080/",
          "height": 279
        }
      },
      "outputs": [
        {
          "output_type": "display_data",
          "data": {
            "text/plain": [
              "<Figure size 432x288 with 1 Axes>"
            ],
            "image/png": "[encoded data removed]"
          },
          "metadata": {
            "needs_background": "light"
          }
        }
      ],
      "source": [
        "#after transformation\n",
        "sns.boxplot(x=ids['claim'])\n",
        "plt.show()"
      ]
    },
    {
      "cell_type": "markdown",
      "source": [
        "#**dropping unnecessary columns**"
      ],
      "metadata": {
        "id": "foYYjpdpyZdk"
      },
      "id": "foYYjpdpyZdk"
    },
    {
      "cell_type": "code",
      "execution_count": 227,
      "id": "7ed961f2",
      "metadata": {
        "id": "7ed961f2"
      },
      "outputs": [],
      "source": [
        "ids.drop(['city','weight'],axis=1,inplace=True)\n",
        "#dropping weights since we already have bmi-body mass index which includes height and weight"
      ]
    },
    {
      "cell_type": "code",
      "execution_count": 228,
      "id": "45b01746",
      "metadata": {
        "id": "45b01746",
        "outputId": "5345a138-5a73-4221-8d76-0f372fd2abcc",
        "colab": {
          "base_uri": "https://localhost:8080/",
          "height": 112
        }
      },
      "outputs": [
        {
          "output_type": "execute_result",
          "data": {
            "text/plain": [
              "    age     sex   bmi hereditary_diseases  no_of_dependents smoker  \\\n",
              "0  60.0    male  24.3           NoDisease                 1      0   \n",
              "1  49.0  female  22.6           NoDisease                 1      0   \n",
              "\n",
              "   bloodpressure diabetes regular_ex job_title     claim  \n",
              "0             72        0          0     Actor  9.481405  \n",
              "1             78        1          1  Engineer  9.166179  "
            ],
            "text/html": [
              "\n",
              "  <div id=\"df-591df7dd-99cf-4fd2-8e09-289a3fbde272\">\n",
              "    <div class=\"colab-df-container\">\n",
              "      <div>\n",
              "<style scoped>\n",
              "    .dataframe tbody tr th:only-of-type {\n",
              "        vertical-align: middle;\n",
              "    }\n",
              "\n",
              "    .dataframe tbody tr th {\n",
              "        vertical-align: top;\n",
              "    }\n",
              "\n",
              "    .dataframe thead th {\n",
              "        text-align: right;\n",
              "    }\n",
              "</style>\n",
              "<table border=\"1\" class=\"dataframe\">\n",
              "  <thead>\n",
              "    <tr style=\"text-align: right;\">\n",
              "      <th></th>\n",
              "      <th>age</th>\n",
              "      <th>sex</th>\n",
              "      <th>bmi</th>\n",
              "      <th>hereditary_diseases</th>\n",
              "      <th>no_of_dependents</th>\n",
              "      <th>smoker</th>\n",
              "      <th>bloodpressure</th>\n",
              "      <th>diabetes</th>\n",
              "      <th>regular_ex</th>\n",
              "      <th>job_title</th>\n",
              "      <th>claim</th>\n",
              "    </tr>\n",
              "  </thead>\n",
              "  <tbody>\n",
              "    <tr>\n",
              "      <th>0</th>\n",
              "      <td>60.0</td>\n",
              "      <td>male</td>\n",
              "      <td>24.3</td>\n",
              "      <td>NoDisease</td>\n",
              "      <td>1</td>\n",
              "      <td>0</td>\n",
              "      <td>72</td>\n",
              "      <td>0</td>\n",
              "      <td>0</td>\n",
              "      <td>Actor</td>\n",
              "      <td>9.481405</td>\n",
              "    </tr>\n",
              "    <tr>\n",
              "      <th>1</th>\n",
              "      <td>49.0</td>\n",
              "      <td>female</td>\n",
              "      <td>22.6</td>\n",
              "      <td>NoDisease</td>\n",
              "      <td>1</td>\n",
              "      <td>0</td>\n",
              "      <td>78</td>\n",
              "      <td>1</td>\n",
              "      <td>1</td>\n",
              "      <td>Engineer</td>\n",
              "      <td>9.166179</td>\n",
              "    </tr>\n",
              "  </tbody>\n",
              "</table>\n",
              "</div>\n",
              "      <button class=\"colab-df-convert\" onclick=\"convertToInteractive('df-591df7dd-99cf-4fd2-8e09-289a3fbde272')\"\n",
              "              title=\"Convert this dataframe to an interactive table.\"\n",
              "              style=\"display:none;\">\n",
              "        \n",
              "  <svg xmlns=\"http://www.w3.org/2000/svg\" height=\"24px\"viewBox=\"0 0 24 24\"\n",
              "       width=\"24px\">\n",
              "    <path d=\"M0 0h24v24H0V0z\" fill=\"none\"/>\n",
              "    <path d=\"M18.56 5.44l.94 2.06.94-2.06 2.06-.94-2.06-.94-.94-2.06-.94 2.06-2.06.94zm-11 1L8.5 8.5l.94-2.06 2.06-.94-2.06-.94L8.5 2.5l-.94 2.06-2.06.94zm10 10l.94 2.06.94-2.06 2.06-.94-2.06-.94-.94-2.06-.94 2.06-2.06.94z\"/><path d=\"M17.41 7.96l-1.37-1.37c-.4-.4-.92-.59-1.43-.59-.52 0-1.04.2-1.43.59L10.3 9.45l-7.72 7.72c-.78.78-.78 2.05 0 2.83L4 21.41c.39.39.9.59 1.41.59.51 0 1.02-.2 1.41-.59l7.78-7.78 2.81-2.81c.8-.78.8-2.07 0-2.86zM5.41 20L4 18.59l7.72-7.72 1.47 1.35L5.41 20z\"/>\n",
              "  </svg>\n",
              "      </button>\n",
              "      \n",
              "  <style>\n",
              "    .colab-df-container {\n",
              "      display:flex;\n",
              "      flex-wrap:wrap;\n",
              "      gap: 12px;\n",
              "    }\n",
              "\n",
              "    .colab-df-convert {\n",
              "      background-color: #E8F0FE;\n",
              "      border: none;\n",
              "      border-radius: 50%;\n",
              "      cursor: pointer;\n",
              "      display: none;\n",
              "      fill: #1967D2;\n",
              "      height: 32px;\n",
              "      padding: 0 0 0 0;\n",
              "      width: 32px;\n",
              "    }\n",
              "\n",
              "    .colab-df-convert:hover {\n",
              "      background-color: #E2EBFA;\n",
              "      box-shadow: 0px 1px 2px rgba(60, 64, 67, 0.3), 0px 1px 3px 1px rgba(60, 64, 67, 0.15);\n",
              "      fill: #174EA6;\n",
              "    }\n",
              "\n",
              "    [theme=dark] .colab-df-convert {\n",
              "      background-color: #3B4455;\n",
              "      fill: #D2E3FC;\n",
              "    }\n",
              "\n",
              "    [theme=dark] .colab-df-convert:hover {\n",
              "      background-color: #434B5C;\n",
              "      box-shadow: 0px 1px 3px 1px rgba(0, 0, 0, 0.15);\n",
              "      filter: drop-shadow(0px 1px 2px rgba(0, 0, 0, 0.3));\n",
              "      fill: #FFFFFF;\n",
              "    }\n",
              "  </style>\n",
              "\n",
              "      <script>\n",
              "        const buttonEl =\n",
              "          document.querySelector('#df-591df7dd-99cf-4fd2-8e09-289a3fbde272 button.colab-df-convert');\n",
              "        buttonEl.style.display =\n",
              "          google.colab.kernel.accessAllowed ? 'block' : 'none';\n",
              "\n",
              "        async function convertToInteractive(key) {\n",
              "          const element = document.querySelector('#df-591df7dd-99cf-4fd2-8e09-289a3fbde272');\n",
              "          const dataTable =\n",
              "            await google.colab.kernel.invokeFunction('convertToInteractive',\n",
              "                                                     [key], {});\n",
              "          if (!dataTable) return;\n",
              "\n",
              "          const docLinkHtml = 'Like what you see? Visit the ' +\n",
              "            '<a target=\"_blank\" href=https://colab.research.google.com/notebooks/data_table.ipynb>data table notebook</a>'\n",
              "            + ' to learn more about interactive tables.';\n",
              "          element.innerHTML = '';\n",
              "          dataTable['output_type'] = 'display_data';\n",
              "          await google.colab.output.renderOutput(dataTable, element);\n",
              "          const docLink = document.createElement('div');\n",
              "          docLink.innerHTML = docLinkHtml;\n",
              "          element.appendChild(docLink);\n",
              "        }\n",
              "      </script>\n",
              "    </div>\n",
              "  </div>\n",
              "  "
            ]
          },
          "metadata": {},
          "execution_count": 228
        }
      ],
      "source": [
        "ids.head(2)"
      ]
    },
    {
      "cell_type": "markdown",
      "id": "f41eca9f",
      "metadata": {
        "id": "f41eca9f"
      },
      "source": [
        "# Correlation \n",
        "Correlation is the extent of linear relationship among numeric variables\n",
        "It indicates the extent to which two variables increase or decrease in parallel\n",
        "The value of a correlation coefficient ranges between -1 and 1\n",
        "Correlation among multiple variables can be represented in the form of a matrix. This allows us to see which pairs are correlated."
      ]
    },
    {
      "cell_type": "code",
      "source": [
        "# select the numerical features in the dataset using 'select_dtypes()'\n",
        "# select_dtypes(include=np.number): considers the numeric variables,since calculating correlations for categorical variables is meaning less\n",
        "#round(,2) funcion rounds the correlation values to 2 digits\n",
        "round(ids.select_dtypes(include=np.number).corr(),2)"
      ],
      "metadata": {
        "colab": {
          "base_uri": "https://localhost:8080/",
          "height": 206
        },
        "id": "msWmMH8-OrWG",
        "outputId": "b07f7ec6-b00b-40fe-866c-4425ec21dfb0"
      },
      "id": "msWmMH8-OrWG",
      "execution_count": 229,
      "outputs": [
        {
          "output_type": "execute_result",
          "data": {
            "text/plain": [
              "                   age   bmi  no_of_dependents  bloodpressure  claim\n",
              "age               1.00  0.19              0.06           0.01   0.52\n",
              "bmi               0.19  1.00              0.04          -0.05   0.18\n",
              "no_of_dependents  0.06  0.04              1.00           0.03   0.16\n",
              "bloodpressure     0.01 -0.05              0.03           1.00   0.03\n",
              "claim             0.52  0.18              0.16           0.03   1.00"
            ],
            "text/html": [
              "\n",
              "  <div id=\"df-2744d128-7d82-4567-94f0-4904c49604e5\">\n",
              "    <div class=\"colab-df-container\">\n",
              "      <div>\n",
              "<style scoped>\n",
              "    .dataframe tbody tr th:only-of-type {\n",
              "        vertical-align: middle;\n",
              "    }\n",
              "\n",
              "    .dataframe tbody tr th {\n",
              "        vertical-align: top;\n",
              "    }\n",
              "\n",
              "    .dataframe thead th {\n",
              "        text-align: right;\n",
              "    }\n",
              "</style>\n",
              "<table border=\"1\" class=\"dataframe\">\n",
              "  <thead>\n",
              "    <tr style=\"text-align: right;\">\n",
              "      <th></th>\n",
              "      <th>age</th>\n",
              "      <th>bmi</th>\n",
              "      <th>no_of_dependents</th>\n",
              "      <th>bloodpressure</th>\n",
              "      <th>claim</th>\n",
              "    </tr>\n",
              "  </thead>\n",
              "  <tbody>\n",
              "    <tr>\n",
              "      <th>age</th>\n",
              "      <td>1.00</td>\n",
              "      <td>0.19</td>\n",
              "      <td>0.06</td>\n",
              "      <td>0.01</td>\n",
              "      <td>0.52</td>\n",
              "    </tr>\n",
              "    <tr>\n",
              "      <th>bmi</th>\n",
              "      <td>0.19</td>\n",
              "      <td>1.00</td>\n",
              "      <td>0.04</td>\n",
              "      <td>-0.05</td>\n",
              "      <td>0.18</td>\n",
              "    </tr>\n",
              "    <tr>\n",
              "      <th>no_of_dependents</th>\n",
              "      <td>0.06</td>\n",
              "      <td>0.04</td>\n",
              "      <td>1.00</td>\n",
              "      <td>0.03</td>\n",
              "      <td>0.16</td>\n",
              "    </tr>\n",
              "    <tr>\n",
              "      <th>bloodpressure</th>\n",
              "      <td>0.01</td>\n",
              "      <td>-0.05</td>\n",
              "      <td>0.03</td>\n",
              "      <td>1.00</td>\n",
              "      <td>0.03</td>\n",
              "    </tr>\n",
              "    <tr>\n",
              "      <th>claim</th>\n",
              "      <td>0.52</td>\n",
              "      <td>0.18</td>\n",
              "      <td>0.16</td>\n",
              "      <td>0.03</td>\n",
              "      <td>1.00</td>\n",
              "    </tr>\n",
              "  </tbody>\n",
              "</table>\n",
              "</div>\n",
              "      <button class=\"colab-df-convert\" onclick=\"convertToInteractive('df-2744d128-7d82-4567-94f0-4904c49604e5')\"\n",
              "              title=\"Convert this dataframe to an interactive table.\"\n",
              "              style=\"display:none;\">\n",
              "        \n",
              "  <svg xmlns=\"http://www.w3.org/2000/svg\" height=\"24px\"viewBox=\"0 0 24 24\"\n",
              "       width=\"24px\">\n",
              "    <path d=\"M0 0h24v24H0V0z\" fill=\"none\"/>\n",
              "    <path d=\"M18.56 5.44l.94 2.06.94-2.06 2.06-.94-2.06-.94-.94-2.06-.94 2.06-2.06.94zm-11 1L8.5 8.5l.94-2.06 2.06-.94-2.06-.94L8.5 2.5l-.94 2.06-2.06.94zm10 10l.94 2.06.94-2.06 2.06-.94-2.06-.94-.94-2.06-.94 2.06-2.06.94z\"/><path d=\"M17.41 7.96l-1.37-1.37c-.4-.4-.92-.59-1.43-.59-.52 0-1.04.2-1.43.59L10.3 9.45l-7.72 7.72c-.78.78-.78 2.05 0 2.83L4 21.41c.39.39.9.59 1.41.59.51 0 1.02-.2 1.41-.59l7.78-7.78 2.81-2.81c.8-.78.8-2.07 0-2.86zM5.41 20L4 18.59l7.72-7.72 1.47 1.35L5.41 20z\"/>\n",
              "  </svg>\n",
              "      </button>\n",
              "      \n",
              "  <style>\n",
              "    .colab-df-container {\n",
              "      display:flex;\n",
              "      flex-wrap:wrap;\n",
              "      gap: 12px;\n",
              "    }\n",
              "\n",
              "    .colab-df-convert {\n",
              "      background-color: #E8F0FE;\n",
              "      border: none;\n",
              "      border-radius: 50%;\n",
              "      cursor: pointer;\n",
              "      display: none;\n",
              "      fill: #1967D2;\n",
              "      height: 32px;\n",
              "      padding: 0 0 0 0;\n",
              "      width: 32px;\n",
              "    }\n",
              "\n",
              "    .colab-df-convert:hover {\n",
              "      background-color: #E2EBFA;\n",
              "      box-shadow: 0px 1px 2px rgba(60, 64, 67, 0.3), 0px 1px 3px 1px rgba(60, 64, 67, 0.15);\n",
              "      fill: #174EA6;\n",
              "    }\n",
              "\n",
              "    [theme=dark] .colab-df-convert {\n",
              "      background-color: #3B4455;\n",
              "      fill: #D2E3FC;\n",
              "    }\n",
              "\n",
              "    [theme=dark] .colab-df-convert:hover {\n",
              "      background-color: #434B5C;\n",
              "      box-shadow: 0px 1px 3px 1px rgba(0, 0, 0, 0.15);\n",
              "      filter: drop-shadow(0px 1px 2px rgba(0, 0, 0, 0.3));\n",
              "      fill: #FFFFFF;\n",
              "    }\n",
              "  </style>\n",
              "\n",
              "      <script>\n",
              "        const buttonEl =\n",
              "          document.querySelector('#df-2744d128-7d82-4567-94f0-4904c49604e5 button.colab-df-convert');\n",
              "        buttonEl.style.display =\n",
              "          google.colab.kernel.accessAllowed ? 'block' : 'none';\n",
              "\n",
              "        async function convertToInteractive(key) {\n",
              "          const element = document.querySelector('#df-2744d128-7d82-4567-94f0-4904c49604e5');\n",
              "          const dataTable =\n",
              "            await google.colab.kernel.invokeFunction('convertToInteractive',\n",
              "                                                     [key], {});\n",
              "          if (!dataTable) return;\n",
              "\n",
              "          const docLinkHtml = 'Like what you see? Visit the ' +\n",
              "            '<a target=\"_blank\" href=https://colab.research.google.com/notebooks/data_table.ipynb>data table notebook</a>'\n",
              "            + ' to learn more about interactive tables.';\n",
              "          element.innerHTML = '';\n",
              "          dataTable['output_type'] = 'display_data';\n",
              "          await google.colab.output.renderOutput(dataTable, element);\n",
              "          const docLink = document.createElement('div');\n",
              "          docLink.innerHTML = docLinkHtml;\n",
              "          element.appendChild(docLink);\n",
              "        }\n",
              "      </script>\n",
              "    </div>\n",
              "  </div>\n",
              "  "
            ]
          },
          "metadata": {},
          "execution_count": 229
        }
      ]
    },
    {
      "cell_type": "markdown",
      "source": [
        "#Correlation visualisation"
      ],
      "metadata": {
        "id": "r33FEmi6bntn"
      },
      "id": "r33FEmi6bntn"
    },
    {
      "cell_type": "code",
      "source": [
        "plt.figure(figsize=(15,10))\n",
        "g=sns.heatmap(round(ids.select_dtypes(include=np.number).corr(),2),annot=True,cmap='RdYlGn')"
      ],
      "metadata": {
        "colab": {
          "base_uri": "https://localhost:8080/",
          "height": 596
        },
        "id": "YnuA7fd6bjUf",
        "outputId": "c8c1255b-f6b4-468c-db09-271752af65d3"
      },
      "id": "YnuA7fd6bjUf",
      "execution_count": 230,
      "outputs": [
        {
          "output_type": "display_data",
          "data": {
            "text/plain": [
              "<Figure size 1080x720 with 2 Axes>"
            ],
            "image/png": "[encoded data removed]"
          },
          "metadata": {
            "needs_background": "light"
          }
        }
      ]
    },
    {
      "cell_type": "markdown",
      "id": "fd5f677d",
      "metadata": {
        "id": "fd5f677d"
      },
      "source": [
        "#**no multicollinearity found**\n",
        "It can be observe that the numeric variables are not correlated with each other since all the correlation coefficients are close to zero. It implies that there is no multicollinearity in the data.\n"
      ]
    },
    {
      "cell_type": "markdown",
      "source": [
        "#**FEATURE ENGINEERING**\n"
      ],
      "metadata": {
        "id": "6ptskk_CbQrx"
      },
      "id": "6ptskk_CbQrx"
    },
    {
      "cell_type": "code",
      "execution_count": 231,
      "id": "2138ae03",
      "metadata": {
        "id": "2138ae03",
        "outputId": "3fc92d2d-6f95-4aa6-8f20-e1511d414b54",
        "colab": {
          "base_uri": "https://localhost:8080/"
        }
      },
      "outputs": [
        {
          "output_type": "execute_result",
          "data": {
            "text/plain": [
              "array(['NoDisease', 'Epilepsy', 'EyeDisease', 'Alzheimer', 'Arthritis',\n",
              "       'HeartDisease', 'Diabetes', 'Cancer', 'High BP', 'Obesity'],\n",
              "      dtype=object)"
            ]
          },
          "metadata": {},
          "execution_count": 231
        }
      ],
      "source": [
        "ids['hereditary_diseases'].unique()"
      ]
    },
    {
      "cell_type": "code",
      "execution_count": 232,
      "id": "e9684787",
      "metadata": {
        "id": "e9684787"
      },
      "outputs": [],
      "source": [
        "#mapping all the classes into 3 different classes in hereditary_diseases\n",
        "ids['hereditary_diseases']=ids['hereditary_diseases'].map({'NoDisease':'NoDisease', 'Epilepsy':'moderate', 'EyeDisease':'moderate', 'Alzheimer':'moderate', 'Arthritis':'moderate',\n",
        "       'HeartDisease':'severe', 'Diabetes':'severe', 'Cancer':'severe', 'High BP':'moderate', 'Obesity':'moderate'})"
      ]
    },
    {
      "cell_type": "code",
      "execution_count": 233,
      "id": "2394e545",
      "metadata": {
        "id": "2394e545",
        "outputId": "535d4a51-46be-4f2d-d476-5d0fe0833e92",
        "colab": {
          "base_uri": "https://localhost:8080/"
        }
      },
      "outputs": [
        {
          "output_type": "execute_result",
          "data": {
            "text/plain": [
              "NoDisease    13998\n",
              "moderate       652\n",
              "severe         350\n",
              "Name: hereditary_diseases, dtype: int64"
            ]
          },
          "metadata": {},
          "execution_count": 233
        }
      ],
      "source": [
        "ids['hereditary_diseases'].value_counts()"
      ]
    },
    {
      "cell_type": "code",
      "execution_count": 234,
      "id": "977a46c7",
      "metadata": {
        "id": "977a46c7",
        "outputId": "8d6435cd-29ba-46cf-d300-3be35bbe753c",
        "colab": {
          "base_uri": "https://localhost:8080/"
        }
      },
      "outputs": [
        {
          "output_type": "execute_result",
          "data": {
            "text/plain": [
              "array(['Actor', 'Engineer', 'Academician', 'Chef', 'HomeMakers', 'Dancer',\n",
              "       'Singer', 'DataScientist', 'Police', 'Student', 'Doctor',\n",
              "       'Manager', 'Photographer', 'Beautician', 'CA', 'Blogger', 'CEO',\n",
              "       'Labourer', 'Accountant', 'FilmDirector', 'Technician',\n",
              "       'FashionDesigner', 'Architect', 'HouseKeeper', 'FilmMaker',\n",
              "       'Buisnessman', 'Politician', 'DefencePersonnels', 'Analyst',\n",
              "       'Clerks', 'ITProfessional', 'Farmer', 'Journalist', 'Lawyer',\n",
              "       'GovEmployee'], dtype=object)"
            ]
          },
          "metadata": {},
          "execution_count": 234
        }
      ],
      "source": [
        "ids['job_title'].unique()"
      ]
    },
    {
      "cell_type": "code",
      "execution_count": 235,
      "id": "298e2daa",
      "metadata": {
        "id": "298e2daa"
      },
      "outputs": [],
      "source": [
        "#mapping all the classes into 3 different classes in job_title\n",
        "ids['job_title']=ids['job_title'].map({'Actor':'avg_stressed', 'Engineer':'more_stressed', 'Academician':'avg_stressed', 'Chef':'less_stressed', 'HomeMakers':'less_stressed', 'Dancer':'less_stressed',\n",
        "    'Singer':'less_stressed', 'DataScientist':'avg_stressed', 'Police':'avg_stressed', 'Student':'avg_stressed', 'Doctor':'less_stressed',\n",
        "   'Manager':'more_stressed', 'Photographer':'less_stressed', 'Beautician':'less_stressed', 'CA':'avg_stressed', 'Blogger':'less_stressed', 'CEO':'avg_stressed',\n",
        "   'Labourer':'less_stressed', 'Accountant':'more_stressed', 'FilmDirector':'more_stressed', 'Technician':'less_stressed',\n",
        "   'FashionDesigner':'avg_stressed', 'Architect':'avg_stressed', 'HouseKeeper':'less_stressed', 'FilmMaker':'avg_stressed',\n",
        "   'Buisnessman':'more_stressed', 'Politician':'avg_stressed', 'DefencePersonnels':'avg_stressed', 'Analyst':'avg_stressed',\n",
        "   'Clerks':'avg_stressed', 'ITProfessional':'more_stressed', 'Farmer':'less_stressed', 'Journalist':'more_stressed', 'Lawyer':'avg_stressed',\n",
        "   'GovEmployee':'less_stressed'})"
      ]
    },
    {
      "cell_type": "code",
      "execution_count": 236,
      "id": "07b435a5",
      "metadata": {
        "id": "07b435a5",
        "outputId": "36bbc001-6227-48fd-9906-50fee6bfe3fc",
        "colab": {
          "base_uri": "https://localhost:8080/"
        }
      },
      "outputs": [
        {
          "output_type": "execute_result",
          "data": {
            "text/plain": [
              "avg_stressed     6792\n",
              "less_stressed    5718\n",
              "more_stressed    2490\n",
              "Name: job_title, dtype: int64"
            ]
          },
          "metadata": {},
          "execution_count": 236
        }
      ],
      "source": [
        "ids['job_title'].value_counts()"
      ]
    },
    {
      "cell_type": "markdown",
      "id": "126b33d9",
      "metadata": {
        "id": "126b33d9"
      },
      "source": [
        "#**Dummy Variable creation for categorical variables**\n",
        "Categorical variables are those in which the values are labeled categories. The values, distribution, and dispersion of categorical variables are best understood with bar plots which we had done earlier.\n"
      ]
    },
    {
      "cell_type": "code",
      "execution_count": 237,
      "id": "a591946b",
      "metadata": {
        "id": "a591946b",
        "outputId": "f64a9ed2-5b43-4000-f620-7b6915aabffc",
        "colab": {
          "base_uri": "https://localhost:8080/",
          "height": 112
        }
      },
      "outputs": [
        {
          "output_type": "execute_result",
          "data": {
            "text/plain": [
              "    age     sex   bmi hereditary_diseases  no_of_dependents smoker  \\\n",
              "0  60.0    male  24.3           NoDisease                 1      0   \n",
              "1  49.0  female  22.6           NoDisease                 1      0   \n",
              "\n",
              "   bloodpressure diabetes regular_ex      job_title     claim  \n",
              "0             72        0          0   avg_stressed  9.481405  \n",
              "1             78        1          1  more_stressed  9.166179  "
            ],
            "text/html": [
              "\n",
              "  <div id=\"df-bf951fc8-1fbd-4683-9f01-a706654778bd\">\n",
              "    <div class=\"colab-df-container\">\n",
              "      <div>\n",
              "<style scoped>\n",
              "    .dataframe tbody tr th:only-of-type {\n",
              "        vertical-align: middle;\n",
              "    }\n",
              "\n",
              "    .dataframe tbody tr th {\n",
              "        vertical-align: top;\n",
              "    }\n",
              "\n",
              "    .dataframe thead th {\n",
              "        text-align: right;\n",
              "    }\n",
              "</style>\n",
              "<table border=\"1\" class=\"dataframe\">\n",
              "  <thead>\n",
              "    <tr style=\"text-align: right;\">\n",
              "      <th></th>\n",
              "      <th>age</th>\n",
              "      <th>sex</th>\n",
              "      <th>bmi</th>\n",
              "      <th>hereditary_diseases</th>\n",
              "      <th>no_of_dependents</th>\n",
              "      <th>smoker</th>\n",
              "      <th>bloodpressure</th>\n",
              "      <th>diabetes</th>\n",
              "      <th>regular_ex</th>\n",
              "      <th>job_title</th>\n",
              "      <th>claim</th>\n",
              "    </tr>\n",
              "  </thead>\n",
              "  <tbody>\n",
              "    <tr>\n",
              "      <th>0</th>\n",
              "      <td>60.0</td>\n",
              "      <td>male</td>\n",
              "      <td>24.3</td>\n",
              "      <td>NoDisease</td>\n",
              "      <td>1</td>\n",
              "      <td>0</td>\n",
              "      <td>72</td>\n",
              "      <td>0</td>\n",
              "      <td>0</td>\n",
              "      <td>avg_stressed</td>\n",
              "      <td>9.481405</td>\n",
              "    </tr>\n",
              "    <tr>\n",
              "      <th>1</th>\n",
              "      <td>49.0</td>\n",
              "      <td>female</td>\n",
              "      <td>22.6</td>\n",
              "      <td>NoDisease</td>\n",
              "      <td>1</td>\n",
              "      <td>0</td>\n",
              "      <td>78</td>\n",
              "      <td>1</td>\n",
              "      <td>1</td>\n",
              "      <td>more_stressed</td>\n",
              "      <td>9.166179</td>\n",
              "    </tr>\n",
              "  </tbody>\n",
              "</table>\n",
              "</div>\n",
              "      <button class=\"colab-df-convert\" onclick=\"convertToInteractive('df-bf951fc8-1fbd-4683-9f01-a706654778bd')\"\n",
              "              title=\"Convert this dataframe to an interactive table.\"\n",
              "              style=\"display:none;\">\n",
              "        \n",
              "  <svg xmlns=\"http://www.w3.org/2000/svg\" height=\"24px\"viewBox=\"0 0 24 24\"\n",
              "       width=\"24px\">\n",
              "    <path d=\"M0 0h24v24H0V0z\" fill=\"none\"/>\n",
              "    <path d=\"M18.56 5.44l.94 2.06.94-2.06 2.06-.94-2.06-.94-.94-2.06-.94 2.06-2.06.94zm-11 1L8.5 8.5l.94-2.06 2.06-.94-2.06-.94L8.5 2.5l-.94 2.06-2.06.94zm10 10l.94 2.06.94-2.06 2.06-.94-2.06-.94-.94-2.06-.94 2.06-2.06.94z\"/><path d=\"M17.41 7.96l-1.37-1.37c-.4-.4-.92-.59-1.43-.59-.52 0-1.04.2-1.43.59L10.3 9.45l-7.72 7.72c-.78.78-.78 2.05 0 2.83L4 21.41c.39.39.9.59 1.41.59.51 0 1.02-.2 1.41-.59l7.78-7.78 2.81-2.81c.8-.78.8-2.07 0-2.86zM5.41 20L4 18.59l7.72-7.72 1.47 1.35L5.41 20z\"/>\n",
              "  </svg>\n",
              "      </button>\n",
              "      \n",
              "  <style>\n",
              "    .colab-df-container {\n",
              "      display:flex;\n",
              "      flex-wrap:wrap;\n",
              "      gap: 12px;\n",
              "    }\n",
              "\n",
              "    .colab-df-convert {\n",
              "      background-color: #E8F0FE;\n",
              "      border: none;\n",
              "      border-radius: 50%;\n",
              "      cursor: pointer;\n",
              "      display: none;\n",
              "      fill: #1967D2;\n",
              "      height: 32px;\n",
              "      padding: 0 0 0 0;\n",
              "      width: 32px;\n",
              "    }\n",
              "\n",
              "    .colab-df-convert:hover {\n",
              "      background-color: #E2EBFA;\n",
              "      box-shadow: 0px 1px 2px rgba(60, 64, 67, 0.3), 0px 1px 3px 1px rgba(60, 64, 67, 0.15);\n",
              "      fill: #174EA6;\n",
              "    }\n",
              "\n",
              "    [theme=dark] .colab-df-convert {\n",
              "      background-color: #3B4455;\n",
              "      fill: #D2E3FC;\n",
              "    }\n",
              "\n",
              "    [theme=dark] .colab-df-convert:hover {\n",
              "      background-color: #434B5C;\n",
              "      box-shadow: 0px 1px 3px 1px rgba(0, 0, 0, 0.15);\n",
              "      filter: drop-shadow(0px 1px 2px rgba(0, 0, 0, 0.3));\n",
              "      fill: #FFFFFF;\n",
              "    }\n",
              "  </style>\n",
              "\n",
              "      <script>\n",
              "        const buttonEl =\n",
              "          document.querySelector('#df-bf951fc8-1fbd-4683-9f01-a706654778bd button.colab-df-convert');\n",
              "        buttonEl.style.display =\n",
              "          google.colab.kernel.accessAllowed ? 'block' : 'none';\n",
              "\n",
              "        async function convertToInteractive(key) {\n",
              "          const element = document.querySelector('#df-bf951fc8-1fbd-4683-9f01-a706654778bd');\n",
              "          const dataTable =\n",
              "            await google.colab.kernel.invokeFunction('convertToInteractive',\n",
              "                                                     [key], {});\n",
              "          if (!dataTable) return;\n",
              "\n",
              "          const docLinkHtml = 'Like what you see? Visit the ' +\n",
              "            '<a target=\"_blank\" href=https://colab.research.google.com/notebooks/data_table.ipynb>data table notebook</a>'\n",
              "            + ' to learn more about interactive tables.';\n",
              "          element.innerHTML = '';\n",
              "          dataTable['output_type'] = 'display_data';\n",
              "          await google.colab.output.renderOutput(dataTable, element);\n",
              "          const docLink = document.createElement('div');\n",
              "          docLink.innerHTML = docLinkHtml;\n",
              "          element.appendChild(docLink);\n",
              "        }\n",
              "      </script>\n",
              "    </div>\n",
              "  </div>\n",
              "  "
            ]
          },
          "metadata": {},
          "execution_count": 237
        }
      ],
      "source": [
        "ids.head(2)"
      ]
    },
    {
      "cell_type": "code",
      "execution_count": 238,
      "id": "48e89ae6",
      "metadata": {
        "id": "48e89ae6"
      },
      "outputs": [],
      "source": [
        "ids=pd.get_dummies(ids)"
      ]
    },
    {
      "cell_type": "code",
      "execution_count": 239,
      "id": "83436f62",
      "metadata": {
        "id": "83436f62",
        "outputId": "2e4174c9-6a7b-4ae8-d1ea-267abae03345",
        "colab": {
          "base_uri": "https://localhost:8080/",
          "height": 270
        }
      },
      "outputs": [
        {
          "output_type": "execute_result",
          "data": {
            "text/plain": [
              "    age   bmi  no_of_dependents  bloodpressure      claim  sex_female  \\\n",
              "0  60.0  24.3                 1             72   9.481405           0   \n",
              "1  49.0  22.6                 1             78   9.166179           1   \n",
              "2  32.0  17.8                 2             88  10.396206           1   \n",
              "3  61.0  36.4                 1             72  10.789703           1   \n",
              "4  19.0  20.6                 0             82   7.457436           1   \n",
              "\n",
              "   sex_male  hereditary_diseases_NoDisease  hereditary_diseases_moderate  \\\n",
              "0         1                              1                             0   \n",
              "1         0                              1                             0   \n",
              "2         0                              0                             1   \n",
              "3         0                              1                             0   \n",
              "4         0                              1                             0   \n",
              "\n",
              "   hereditary_diseases_severe  smoker_0  smoker_1  diabetes_0  diabetes_1  \\\n",
              "0                           0         1         0           1           0   \n",
              "1                           0         1         0           0           1   \n",
              "2                           0         0         1           0           1   \n",
              "3                           0         0         1           0           1   \n",
              "4                           0         1         0           0           1   \n",
              "\n",
              "   regular_ex_0  regular_ex_1  job_title_avg_stressed  \\\n",
              "0             1             0                       1   \n",
              "1             0             1                       0   \n",
              "2             0             1                       1   \n",
              "3             1             0                       0   \n",
              "4             1             0                       0   \n",
              "\n",
              "   job_title_less_stressed  job_title_more_stressed  \n",
              "0                        0                        0  \n",
              "1                        0                        1  \n",
              "2                        0                        0  \n",
              "3                        1                        0  \n",
              "4                        1                        0  "
            ],
            "text/html": [
              "\n",
              "  <div id=\"df-10c9db73-5a91-47cf-ae69-c50fceed8519\">\n",
              "    <div class=\"colab-df-container\">\n",
              "      <div>\n",
              "<style scoped>\n",
              "    .dataframe tbody tr th:only-of-type {\n",
              "        vertical-align: middle;\n",
              "    }\n",
              "\n",
              "    .dataframe tbody tr th {\n",
              "        vertical-align: top;\n",
              "    }\n",
              "\n",
              "    .dataframe thead th {\n",
              "        text-align: right;\n",
              "    }\n",
              "</style>\n",
              "<table border=\"1\" class=\"dataframe\">\n",
              "  <thead>\n",
              "    <tr style=\"text-align: right;\">\n",
              "      <th></th>\n",
              "      <th>age</th>\n",
              "      <th>bmi</th>\n",
              "      <th>no_of_dependents</th>\n",
              "      <th>bloodpressure</th>\n",
              "      <th>claim</th>\n",
              "      <th>sex_female</th>\n",
              "      <th>sex_male</th>\n",
              "      <th>hereditary_diseases_NoDisease</th>\n",
              "      <th>hereditary_diseases_moderate</th>\n",
              "      <th>hereditary_diseases_severe</th>\n",
              "      <th>smoker_0</th>\n",
              "      <th>smoker_1</th>\n",
              "      <th>diabetes_0</th>\n",
              "      <th>diabetes_1</th>\n",
              "      <th>regular_ex_0</th>\n",
              "      <th>regular_ex_1</th>\n",
              "      <th>job_title_avg_stressed</th>\n",
              "      <th>job_title_less_stressed</th>\n",
              "      <th>job_title_more_stressed</th>\n",
              "    </tr>\n",
              "  </thead>\n",
              "  <tbody>\n",
              "    <tr>\n",
              "      <th>0</th>\n",
              "      <td>60.0</td>\n",
              "      <td>24.3</td>\n",
              "      <td>1</td>\n",
              "      <td>72</td>\n",
              "      <td>9.481405</td>\n",
              "      <td>0</td>\n",
              "      <td>1</td>\n",
              "      <td>1</td>\n",
              "      <td>0</td>\n",
              "      <td>0</td>\n",
              "      <td>1</td>\n",
              "      <td>0</td>\n",
              "      <td>1</td>\n",
              "      <td>0</td>\n",
              "      <td>1</td>\n",
              "      <td>0</td>\n",
              "      <td>1</td>\n",
              "      <td>0</td>\n",
              "      <td>0</td>\n",
              "    </tr>\n",
              "    <tr>\n",
              "      <th>1</th>\n",
              "      <td>49.0</td>\n",
              "      <td>22.6</td>\n",
              "      <td>1</td>\n",
              "      <td>78</td>\n",
              "      <td>9.166179</td>\n",
              "      <td>1</td>\n",
              "      <td>0</td>\n",
              "      <td>1</td>\n",
              "      <td>0</td>\n",
              "      <td>0</td>\n",
              "      <td>1</td>\n",
              "      <td>0</td>\n",
              "      <td>0</td>\n",
              "      <td>1</td>\n",
              "      <td>0</td>\n",
              "      <td>1</td>\n",
              "      <td>0</td>\n",
              "      <td>0</td>\n",
              "      <td>1</td>\n",
              "    </tr>\n",
              "    <tr>\n",
              "      <th>2</th>\n",
              "      <td>32.0</td>\n",
              "      <td>17.8</td>\n",
              "      <td>2</td>\n",
              "      <td>88</td>\n",
              "      <td>10.396206</td>\n",
              "      <td>1</td>\n",
              "      <td>0</td>\n",
              "      <td>0</td>\n",
              "      <td>1</td>\n",
              "      <td>0</td>\n",
              "      <td>0</td>\n",
              "      <td>1</td>\n",
              "      <td>0</td>\n",
              "      <td>1</td>\n",
              "      <td>0</td>\n",
              "      <td>1</td>\n",
              "      <td>1</td>\n",
              "      <td>0</td>\n",
              "      <td>0</td>\n",
              "    </tr>\n",
              "    <tr>\n",
              "      <th>3</th>\n",
              "      <td>61.0</td>\n",
              "      <td>36.4</td>\n",
              "      <td>1</td>\n",
              "      <td>72</td>\n",
              "      <td>10.789703</td>\n",
              "      <td>1</td>\n",
              "      <td>0</td>\n",
              "      <td>1</td>\n",
              "      <td>0</td>\n",
              "      <td>0</td>\n",
              "      <td>0</td>\n",
              "      <td>1</td>\n",
              "      <td>0</td>\n",
              "      <td>1</td>\n",
              "      <td>1</td>\n",
              "      <td>0</td>\n",
              "      <td>0</td>\n",
              "      <td>1</td>\n",
              "      <td>0</td>\n",
              "    </tr>\n",
              "    <tr>\n",
              "      <th>4</th>\n",
              "      <td>19.0</td>\n",
              "      <td>20.6</td>\n",
              "      <td>0</td>\n",
              "      <td>82</td>\n",
              "      <td>7.457436</td>\n",
              "      <td>1</td>\n",
              "      <td>0</td>\n",
              "      <td>1</td>\n",
              "      <td>0</td>\n",
              "      <td>0</td>\n",
              "      <td>1</td>\n",
              "      <td>0</td>\n",
              "      <td>0</td>\n",
              "      <td>1</td>\n",
              "      <td>1</td>\n",
              "      <td>0</td>\n",
              "      <td>0</td>\n",
              "      <td>1</td>\n",
              "      <td>0</td>\n",
              "    </tr>\n",
              "  </tbody>\n",
              "</table>\n",
              "</div>\n",
              "      <button class=\"colab-df-convert\" onclick=\"convertToInteractive('df-10c9db73-5a91-47cf-ae69-c50fceed8519')\"\n",
              "              title=\"Convert this dataframe to an interactive table.\"\n",
              "              style=\"display:none;\">\n",
              "        \n",
              "  <svg xmlns=\"http://www.w3.org/2000/svg\" height=\"24px\"viewBox=\"0 0 24 24\"\n",
              "       width=\"24px\">\n",
              "    <path d=\"M0 0h24v24H0V0z\" fill=\"none\"/>\n",
              "    <path d=\"M18.56 5.44l.94 2.06.94-2.06 2.06-.94-2.06-.94-.94-2.06-.94 2.06-2.06.94zm-11 1L8.5 8.5l.94-2.06 2.06-.94-2.06-.94L8.5 2.5l-.94 2.06-2.06.94zm10 10l.94 2.06.94-2.06 2.06-.94-2.06-.94-.94-2.06-.94 2.06-2.06.94z\"/><path d=\"M17.41 7.96l-1.37-1.37c-.4-.4-.92-.59-1.43-.59-.52 0-1.04.2-1.43.59L10.3 9.45l-7.72 7.72c-.78.78-.78 2.05 0 2.83L4 21.41c.39.39.9.59 1.41.59.51 0 1.02-.2 1.41-.59l7.78-7.78 2.81-2.81c.8-.78.8-2.07 0-2.86zM5.41 20L4 18.59l7.72-7.72 1.47 1.35L5.41 20z\"/>\n",
              "  </svg>\n",
              "      </button>\n",
              "      \n",
              "  <style>\n",
              "    .colab-df-container {\n",
              "      display:flex;\n",
              "      flex-wrap:wrap;\n",
              "      gap: 12px;\n",
              "    }\n",
              "\n",
              "    .colab-df-convert {\n",
              "      background-color: #E8F0FE;\n",
              "      border: none;\n",
              "      border-radius: 50%;\n",
              "      cursor: pointer;\n",
              "      display: none;\n",
              "      fill: #1967D2;\n",
              "      height: 32px;\n",
              "      padding: 0 0 0 0;\n",
              "      width: 32px;\n",
              "    }\n",
              "\n",
              "    .colab-df-convert:hover {\n",
              "      background-color: #E2EBFA;\n",
              "      box-shadow: 0px 1px 2px rgba(60, 64, 67, 0.3), 0px 1px 3px 1px rgba(60, 64, 67, 0.15);\n",
              "      fill: #174EA6;\n",
              "    }\n",
              "\n",
              "    [theme=dark] .colab-df-convert {\n",
              "      background-color: #3B4455;\n",
              "      fill: #D2E3FC;\n",
              "    }\n",
              "\n",
              "    [theme=dark] .colab-df-convert:hover {\n",
              "      background-color: #434B5C;\n",
              "      box-shadow: 0px 1px 3px 1px rgba(0, 0, 0, 0.15);\n",
              "      filter: drop-shadow(0px 1px 2px rgba(0, 0, 0, 0.3));\n",
              "      fill: #FFFFFF;\n",
              "    }\n",
              "  </style>\n",
              "\n",
              "      <script>\n",
              "        const buttonEl =\n",
              "          document.querySelector('#df-10c9db73-5a91-47cf-ae69-c50fceed8519 button.colab-df-convert');\n",
              "        buttonEl.style.display =\n",
              "          google.colab.kernel.accessAllowed ? 'block' : 'none';\n",
              "\n",
              "        async function convertToInteractive(key) {\n",
              "          const element = document.querySelector('#df-10c9db73-5a91-47cf-ae69-c50fceed8519');\n",
              "          const dataTable =\n",
              "            await google.colab.kernel.invokeFunction('convertToInteractive',\n",
              "                                                     [key], {});\n",
              "          if (!dataTable) return;\n",
              "\n",
              "          const docLinkHtml = 'Like what you see? Visit the ' +\n",
              "            '<a target=\"_blank\" href=https://colab.research.google.com/notebooks/data_table.ipynb>data table notebook</a>'\n",
              "            + ' to learn more about interactive tables.';\n",
              "          element.innerHTML = '';\n",
              "          dataTable['output_type'] = 'display_data';\n",
              "          await google.colab.output.renderOutput(dataTable, element);\n",
              "          const docLink = document.createElement('div');\n",
              "          docLink.innerHTML = docLinkHtml;\n",
              "          element.appendChild(docLink);\n",
              "        }\n",
              "      </script>\n",
              "    </div>\n",
              "  </div>\n",
              "  "
            ]
          },
          "metadata": {},
          "execution_count": 239
        }
      ],
      "source": [
        "ids.head()"
      ]
    },
    {
      "cell_type": "code",
      "execution_count": 240,
      "id": "45011dd1",
      "metadata": {
        "id": "45011dd1"
      },
      "outputs": [],
      "source": [
        "ids.drop(['sex_female','hereditary_diseases_NoDisease','job_title_avg_stressed'],axis=1,inplace=True)"
      ]
    },
    {
      "cell_type": "code",
      "execution_count": 241,
      "id": "5c3b5bd3",
      "metadata": {
        "id": "5c3b5bd3",
        "outputId": "fbb60932-b5cd-4572-e90b-77fd00cce393",
        "colab": {
          "base_uri": "https://localhost:8080/",
          "height": 176
        }
      },
      "outputs": [
        {
          "output_type": "execute_result",
          "data": {
            "text/plain": [
              "    age   bmi  no_of_dependents  bloodpressure     claim  sex_male  \\\n",
              "0  60.0  24.3                 1             72  9.481405         1   \n",
              "1  49.0  22.6                 1             78  9.166179         0   \n",
              "\n",
              "   hereditary_diseases_moderate  hereditary_diseases_severe  smoker_0  \\\n",
              "0                             0                           0         1   \n",
              "1                             0                           0         1   \n",
              "\n",
              "   smoker_1  diabetes_0  diabetes_1  regular_ex_0  regular_ex_1  \\\n",
              "0         0           1           0             1             0   \n",
              "1         0           0           1             0             1   \n",
              "\n",
              "   job_title_less_stressed  job_title_more_stressed  \n",
              "0                        0                        0  \n",
              "1                        0                        1  "
            ],
            "text/html": [
              "\n",
              "  <div id=\"df-f8c01fb1-0f7b-47c9-b6f6-cb0f5c06f5ea\">\n",
              "    <div class=\"colab-df-container\">\n",
              "      <div>\n",
              "<style scoped>\n",
              "    .dataframe tbody tr th:only-of-type {\n",
              "        vertical-align: middle;\n",
              "    }\n",
              "\n",
              "    .dataframe tbody tr th {\n",
              "        vertical-align: top;\n",
              "    }\n",
              "\n",
              "    .dataframe thead th {\n",
              "        text-align: right;\n",
              "    }\n",
              "</style>\n",
              "<table border=\"1\" class=\"dataframe\">\n",
              "  <thead>\n",
              "    <tr style=\"text-align: right;\">\n",
              "      <th></th>\n",
              "      <th>age</th>\n",
              "      <th>bmi</th>\n",
              "      <th>no_of_dependents</th>\n",
              "      <th>bloodpressure</th>\n",
              "      <th>claim</th>\n",
              "      <th>sex_male</th>\n",
              "      <th>hereditary_diseases_moderate</th>\n",
              "      <th>hereditary_diseases_severe</th>\n",
              "      <th>smoker_0</th>\n",
              "      <th>smoker_1</th>\n",
              "      <th>diabetes_0</th>\n",
              "      <th>diabetes_1</th>\n",
              "      <th>regular_ex_0</th>\n",
              "      <th>regular_ex_1</th>\n",
              "      <th>job_title_less_stressed</th>\n",
              "      <th>job_title_more_stressed</th>\n",
              "    </tr>\n",
              "  </thead>\n",
              "  <tbody>\n",
              "    <tr>\n",
              "      <th>0</th>\n",
              "      <td>60.0</td>\n",
              "      <td>24.3</td>\n",
              "      <td>1</td>\n",
              "      <td>72</td>\n",
              "      <td>9.481405</td>\n",
              "      <td>1</td>\n",
              "      <td>0</td>\n",
              "      <td>0</td>\n",
              "      <td>1</td>\n",
              "      <td>0</td>\n",
              "      <td>1</td>\n",
              "      <td>0</td>\n",
              "      <td>1</td>\n",
              "      <td>0</td>\n",
              "      <td>0</td>\n",
              "      <td>0</td>\n",
              "    </tr>\n",
              "    <tr>\n",
              "      <th>1</th>\n",
              "      <td>49.0</td>\n",
              "      <td>22.6</td>\n",
              "      <td>1</td>\n",
              "      <td>78</td>\n",
              "      <td>9.166179</td>\n",
              "      <td>0</td>\n",
              "      <td>0</td>\n",
              "      <td>0</td>\n",
              "      <td>1</td>\n",
              "      <td>0</td>\n",
              "      <td>0</td>\n",
              "      <td>1</td>\n",
              "      <td>0</td>\n",
              "      <td>1</td>\n",
              "      <td>0</td>\n",
              "      <td>1</td>\n",
              "    </tr>\n",
              "  </tbody>\n",
              "</table>\n",
              "</div>\n",
              "      <button class=\"colab-df-convert\" onclick=\"convertToInteractive('df-f8c01fb1-0f7b-47c9-b6f6-cb0f5c06f5ea')\"\n",
              "              title=\"Convert this dataframe to an interactive table.\"\n",
              "              style=\"display:none;\">\n",
              "        \n",
              "  <svg xmlns=\"http://www.w3.org/2000/svg\" height=\"24px\"viewBox=\"0 0 24 24\"\n",
              "       width=\"24px\">\n",
              "    <path d=\"M0 0h24v24H0V0z\" fill=\"none\"/>\n",
              "    <path d=\"M18.56 5.44l.94 2.06.94-2.06 2.06-.94-2.06-.94-.94-2.06-.94 2.06-2.06.94zm-11 1L8.5 8.5l.94-2.06 2.06-.94-2.06-.94L8.5 2.5l-.94 2.06-2.06.94zm10 10l.94 2.06.94-2.06 2.06-.94-2.06-.94-.94-2.06-.94 2.06-2.06.94z\"/><path d=\"M17.41 7.96l-1.37-1.37c-.4-.4-.92-.59-1.43-.59-.52 0-1.04.2-1.43.59L10.3 9.45l-7.72 7.72c-.78.78-.78 2.05 0 2.83L4 21.41c.39.39.9.59 1.41.59.51 0 1.02-.2 1.41-.59l7.78-7.78 2.81-2.81c.8-.78.8-2.07 0-2.86zM5.41 20L4 18.59l7.72-7.72 1.47 1.35L5.41 20z\"/>\n",
              "  </svg>\n",
              "      </button>\n",
              "      \n",
              "  <style>\n",
              "    .colab-df-container {\n",
              "      display:flex;\n",
              "      flex-wrap:wrap;\n",
              "      gap: 12px;\n",
              "    }\n",
              "\n",
              "    .colab-df-convert {\n",
              "      background-color: #E8F0FE;\n",
              "      border: none;\n",
              "      border-radius: 50%;\n",
              "      cursor: pointer;\n",
              "      display: none;\n",
              "      fill: #1967D2;\n",
              "      height: 32px;\n",
              "      padding: 0 0 0 0;\n",
              "      width: 32px;\n",
              "    }\n",
              "\n",
              "    .colab-df-convert:hover {\n",
              "      background-color: #E2EBFA;\n",
              "      box-shadow: 0px 1px 2px rgba(60, 64, 67, 0.3), 0px 1px 3px 1px rgba(60, 64, 67, 0.15);\n",
              "      fill: #174EA6;\n",
              "    }\n",
              "\n",
              "    [theme=dark] .colab-df-convert {\n",
              "      background-color: #3B4455;\n",
              "      fill: #D2E3FC;\n",
              "    }\n",
              "\n",
              "    [theme=dark] .colab-df-convert:hover {\n",
              "      background-color: #434B5C;\n",
              "      box-shadow: 0px 1px 3px 1px rgba(0, 0, 0, 0.15);\n",
              "      filter: drop-shadow(0px 1px 2px rgba(0, 0, 0, 0.3));\n",
              "      fill: #FFFFFF;\n",
              "    }\n",
              "  </style>\n",
              "\n",
              "      <script>\n",
              "        const buttonEl =\n",
              "          document.querySelector('#df-f8c01fb1-0f7b-47c9-b6f6-cb0f5c06f5ea button.colab-df-convert');\n",
              "        buttonEl.style.display =\n",
              "          google.colab.kernel.accessAllowed ? 'block' : 'none';\n",
              "\n",
              "        async function convertToInteractive(key) {\n",
              "          const element = document.querySelector('#df-f8c01fb1-0f7b-47c9-b6f6-cb0f5c06f5ea');\n",
              "          const dataTable =\n",
              "            await google.colab.kernel.invokeFunction('convertToInteractive',\n",
              "                                                     [key], {});\n",
              "          if (!dataTable) return;\n",
              "\n",
              "          const docLinkHtml = 'Like what you see? Visit the ' +\n",
              "            '<a target=\"_blank\" href=https://colab.research.google.com/notebooks/data_table.ipynb>data table notebook</a>'\n",
              "            + ' to learn more about interactive tables.';\n",
              "          element.innerHTML = '';\n",
              "          dataTable['output_type'] = 'display_data';\n",
              "          await google.colab.output.renderOutput(dataTable, element);\n",
              "          const docLink = document.createElement('div');\n",
              "          docLink.innerHTML = docLinkHtml;\n",
              "          element.appendChild(docLink);\n",
              "        }\n",
              "      </script>\n",
              "    </div>\n",
              "  </div>\n",
              "  "
            ]
          },
          "metadata": {},
          "execution_count": 241
        }
      ],
      "source": [
        "ids.head(2)"
      ]
    },
    {
      "cell_type": "markdown",
      "source": [
        "#Note: \n",
        "Now the categorical variables are dummy encoded creating n-1 variables for each categorical variables, where n is the number of classes in each categorical variable. So for variable 'region', which has 5 levels, it has created 4 dummy encoded variables. Similarly, variable 'smoker' has 2 levels and it has created 1 dummy encoded variable."
      ],
      "metadata": {
        "id": "yR0ni8Fk2oKT"
      },
      "id": "yR0ni8Fk2oKT"
    },
    {
      "cell_type": "markdown",
      "id": "348a03a1",
      "metadata": {
        "id": "348a03a1"
      },
      "source": [
        "# Independent and Dependent Columns storing in x and y"
      ]
    },
    {
      "cell_type": "code",
      "execution_count": 242,
      "id": "30dcb873",
      "metadata": {
        "id": "30dcb873"
      },
      "outputs": [],
      "source": [
        "x=ids.drop(['claim'],axis=1)\n",
        "y=ids['claim']"
      ]
    },
    {
      "cell_type": "code",
      "execution_count": 243,
      "id": "d2996e9a",
      "metadata": {
        "id": "d2996e9a",
        "outputId": "bed23128-a98b-44aa-ceca-82168307d5f3",
        "colab": {
          "base_uri": "https://localhost:8080/"
        }
      },
      "outputs": [
        {
          "output_type": "execute_result",
          "data": {
            "text/plain": [
              "0         9.481405\n",
              "1         9.166179\n",
              "2        10.396206\n",
              "3        10.789703\n",
              "4         7.457436\n",
              "           ...    \n",
              "14995     9.956232\n",
              "14996     8.924430\n",
              "14997     7.238856\n",
              "14998     9.121028\n",
              "14999    10.165613\n",
              "Name: claim, Length: 15000, dtype: float64"
            ]
          },
          "metadata": {},
          "execution_count": 243
        }
      ],
      "source": [
        "y"
      ]
    },
    {
      "cell_type": "code",
      "execution_count": 244,
      "id": "958643ab",
      "metadata": {
        "id": "958643ab",
        "outputId": "0ceae510-0b21-458f-a6e9-f442a24ebe4a",
        "colab": {
          "base_uri": "https://localhost:8080/",
          "height": 487
        }
      },
      "outputs": [
        {
          "output_type": "execute_result",
          "data": {
            "text/plain": [
              "        age   bmi  no_of_dependents  bloodpressure  sex_male  \\\n",
              "0      60.0  24.3                 1             72         1   \n",
              "1      49.0  22.6                 1             78         0   \n",
              "2      32.0  17.8                 2             88         0   \n",
              "3      61.0  36.4                 1             72         0   \n",
              "4      19.0  20.6                 0             82         0   \n",
              "...     ...   ...               ...            ...       ...   \n",
              "14995  39.0  28.3                 1             54         1   \n",
              "14996  39.0  29.6                 4             64         1   \n",
              "14997  20.0  33.3                 0             52         1   \n",
              "14998  52.0  36.7                 0             70         1   \n",
              "14999  52.0  26.4                 3             72         1   \n",
              "\n",
              "       hereditary_diseases_moderate  hereditary_diseases_severe  smoker_0  \\\n",
              "0                                 0                           0         1   \n",
              "1                                 0                           0         1   \n",
              "2                                 1                           0         0   \n",
              "3                                 0                           0         0   \n",
              "4                                 0                           0         1   \n",
              "...                             ...                         ...       ...   \n",
              "14995                             0                           0         0   \n",
              "14996                             0                           0         1   \n",
              "14997                             0                           0         1   \n",
              "14998                             0                           0         1   \n",
              "14999                             0                           0         1   \n",
              "\n",
              "       smoker_1  diabetes_0  diabetes_1  regular_ex_0  regular_ex_1  \\\n",
              "0             0           1           0             1             0   \n",
              "1             0           0           1             0             1   \n",
              "2             1           0           1             0             1   \n",
              "3             1           0           1             1             0   \n",
              "4             0           0           1             1             0   \n",
              "...         ...         ...         ...           ...           ...   \n",
              "14995         1           0           1             1             0   \n",
              "14996         0           0           1             1             0   \n",
              "14997         0           0           1             1             0   \n",
              "14998         0           0           1             1             0   \n",
              "14999         0           0           1             1             0   \n",
              "\n",
              "       job_title_less_stressed  job_title_more_stressed  \n",
              "0                            0                        0  \n",
              "1                            0                        1  \n",
              "2                            0                        0  \n",
              "3                            1                        0  \n",
              "4                            1                        0  \n",
              "...                        ...                      ...  \n",
              "14995                        0                        0  \n",
              "14996                        0                        0  \n",
              "14997                        0                        0  \n",
              "14998                        1                        0  \n",
              "14999                        0                        1  \n",
              "\n",
              "[15000 rows x 15 columns]"
            ],
            "text/html": [
              "\n",
              "  <div id=\"df-bc8820ee-2f9c-46ee-b936-17e119cfe54f\">\n",
              "    <div class=\"colab-df-container\">\n",
              "      <div>\n",
              "<style scoped>\n",
              "    .dataframe tbody tr th:only-of-type {\n",
              "        vertical-align: middle;\n",
              "    }\n",
              "\n",
              "    .dataframe tbody tr th {\n",
              "        vertical-align: top;\n",
              "    }\n",
              "\n",
              "    .dataframe thead th {\n",
              "        text-align: right;\n",
              "    }\n",
              "</style>\n",
              "<table border=\"1\" class=\"dataframe\">\n",
              "  <thead>\n",
              "    <tr style=\"text-align: right;\">\n",
              "      <th></th>\n",
              "      <th>age</th>\n",
              "      <th>bmi</th>\n",
              "      <th>no_of_dependents</th>\n",
              "      <th>bloodpressure</th>\n",
              "      <th>sex_male</th>\n",
              "      <th>hereditary_diseases_moderate</th>\n",
              "      <th>hereditary_diseases_severe</th>\n",
              "      <th>smoker_0</th>\n",
              "      <th>smoker_1</th>\n",
              "      <th>diabetes_0</th>\n",
              "      <th>diabetes_1</th>\n",
              "      <th>regular_ex_0</th>\n",
              "      <th>regular_ex_1</th>\n",
              "      <th>job_title_less_stressed</th>\n",
              "      <th>job_title_more_stressed</th>\n",
              "    </tr>\n",
              "  </thead>\n",
              "  <tbody>\n",
              "    <tr>\n",
              "      <th>0</th>\n",
              "      <td>60.0</td>\n",
              "      <td>24.3</td>\n",
              "      <td>1</td>\n",
              "      <td>72</td>\n",
              "      <td>1</td>\n",
              "      <td>0</td>\n",
              "      <td>0</td>\n",
              "      <td>1</td>\n",
              "      <td>0</td>\n",
              "      <td>1</td>\n",
              "      <td>0</td>\n",
              "      <td>1</td>\n",
              "      <td>0</td>\n",
              "      <td>0</td>\n",
              "      <td>0</td>\n",
              "    </tr>\n",
              "    <tr>\n",
              "      <th>1</th>\n",
              "      <td>49.0</td>\n",
              "      <td>22.6</td>\n",
              "      <td>1</td>\n",
              "      <td>78</td>\n",
              "      <td>0</td>\n",
              "      <td>0</td>\n",
              "      <td>0</td>\n",
              "      <td>1</td>\n",
              "      <td>0</td>\n",
              "      <td>0</td>\n",
              "      <td>1</td>\n",
              "      <td>0</td>\n",
              "      <td>1</td>\n",
              "      <td>0</td>\n",
              "      <td>1</td>\n",
              "    </tr>\n",
              "    <tr>\n",
              "      <th>2</th>\n",
              "      <td>32.0</td>\n",
              "      <td>17.8</td>\n",
              "      <td>2</td>\n",
              "      <td>88</td>\n",
              "      <td>0</td>\n",
              "      <td>1</td>\n",
              "      <td>0</td>\n",
              "      <td>0</td>\n",
              "      <td>1</td>\n",
              "      <td>0</td>\n",
              "      <td>1</td>\n",
              "      <td>0</td>\n",
              "      <td>1</td>\n",
              "      <td>0</td>\n",
              "      <td>0</td>\n",
              "    </tr>\n",
              "    <tr>\n",
              "      <th>3</th>\n",
              "      <td>61.0</td>\n",
              "      <td>36.4</td>\n",
              "      <td>1</td>\n",
              "      <td>72</td>\n",
              "      <td>0</td>\n",
              "      <td>0</td>\n",
              "      <td>0</td>\n",
              "      <td>0</td>\n",
              "      <td>1</td>\n",
              "      <td>0</td>\n",
              "      <td>1</td>\n",
              "      <td>1</td>\n",
              "      <td>0</td>\n",
              "      <td>1</td>\n",
              "      <td>0</td>\n",
              "    </tr>\n",
              "    <tr>\n",
              "      <th>4</th>\n",
              "      <td>19.0</td>\n",
              "      <td>20.6</td>\n",
              "      <td>0</td>\n",
              "      <td>82</td>\n",
              "      <td>0</td>\n",
              "      <td>0</td>\n",
              "      <td>0</td>\n",
              "      <td>1</td>\n",
              "      <td>0</td>\n",
              "      <td>0</td>\n",
              "      <td>1</td>\n",
              "      <td>1</td>\n",
              "      <td>0</td>\n",
              "      <td>1</td>\n",
              "      <td>0</td>\n",
              "    </tr>\n",
              "    <tr>\n",
              "      <th>...</th>\n",
              "      <td>...</td>\n",
              "      <td>...</td>\n",
              "      <td>...</td>\n",
              "      <td>...</td>\n",
              "      <td>...</td>\n",
              "      <td>...</td>\n",
              "      <td>...</td>\n",
              "      <td>...</td>\n",
              "      <td>...</td>\n",
              "      <td>...</td>\n",
              "      <td>...</td>\n",
              "      <td>...</td>\n",
              "      <td>...</td>\n",
              "      <td>...</td>\n",
              "      <td>...</td>\n",
              "    </tr>\n",
              "    <tr>\n",
              "      <th>14995</th>\n",
              "      <td>39.0</td>\n",
              "      <td>28.3</td>\n",
              "      <td>1</td>\n",
              "      <td>54</td>\n",
              "      <td>1</td>\n",
              "      <td>0</td>\n",
              "      <td>0</td>\n",
              "      <td>0</td>\n",
              "      <td>1</td>\n",
              "      <td>0</td>\n",
              "      <td>1</td>\n",
              "      <td>1</td>\n",
              "      <td>0</td>\n",
              "      <td>0</td>\n",
              "      <td>0</td>\n",
              "    </tr>\n",
              "    <tr>\n",
              "      <th>14996</th>\n",
              "      <td>39.0</td>\n",
              "      <td>29.6</td>\n",
              "      <td>4</td>\n",
              "      <td>64</td>\n",
              "      <td>1</td>\n",
              "      <td>0</td>\n",
              "      <td>0</td>\n",
              "      <td>1</td>\n",
              "      <td>0</td>\n",
              "      <td>0</td>\n",
              "      <td>1</td>\n",
              "      <td>1</td>\n",
              "      <td>0</td>\n",
              "      <td>0</td>\n",
              "      <td>0</td>\n",
              "    </tr>\n",
              "    <tr>\n",
              "      <th>14997</th>\n",
              "      <td>20.0</td>\n",
              "      <td>33.3</td>\n",
              "      <td>0</td>\n",
              "      <td>52</td>\n",
              "      <td>1</td>\n",
              "      <td>0</td>\n",
              "      <td>0</td>\n",
              "      <td>1</td>\n",
              "      <td>0</td>\n",
              "      <td>0</td>\n",
              "      <td>1</td>\n",
              "      <td>1</td>\n",
              "      <td>0</td>\n",
              "      <td>0</td>\n",
              "      <td>0</td>\n",
              "    </tr>\n",
              "    <tr>\n",
              "      <th>14998</th>\n",
              "      <td>52.0</td>\n",
              "      <td>36.7</td>\n",
              "      <td>0</td>\n",
              "      <td>70</td>\n",
              "      <td>1</td>\n",
              "      <td>0</td>\n",
              "      <td>0</td>\n",
              "      <td>1</td>\n",
              "      <td>0</td>\n",
              "      <td>0</td>\n",
              "      <td>1</td>\n",
              "      <td>1</td>\n",
              "      <td>0</td>\n",
              "      <td>1</td>\n",
              "      <td>0</td>\n",
              "    </tr>\n",
              "    <tr>\n",
              "      <th>14999</th>\n",
              "      <td>52.0</td>\n",
              "      <td>26.4</td>\n",
              "      <td>3</td>\n",
              "      <td>72</td>\n",
              "      <td>1</td>\n",
              "      <td>0</td>\n",
              "      <td>0</td>\n",
              "      <td>1</td>\n",
              "      <td>0</td>\n",
              "      <td>0</td>\n",
              "      <td>1</td>\n",
              "      <td>1</td>\n",
              "      <td>0</td>\n",
              "      <td>0</td>\n",
              "      <td>1</td>\n",
              "    </tr>\n",
              "  </tbody>\n",
              "</table>\n",
              "<p>15000 rows × 15 columns</p>\n",
              "</div>\n",
              "      <button class=\"colab-df-convert\" onclick=\"convertToInteractive('df-bc8820ee-2f9c-46ee-b936-17e119cfe54f')\"\n",
              "              title=\"Convert this dataframe to an interactive table.\"\n",
              "              style=\"display:none;\">\n",
              "        \n",
              "  <svg xmlns=\"http://www.w3.org/2000/svg\" height=\"24px\"viewBox=\"0 0 24 24\"\n",
              "       width=\"24px\">\n",
              "    <path d=\"M0 0h24v24H0V0z\" fill=\"none\"/>\n",
              "    <path d=\"M18.56 5.44l.94 2.06.94-2.06 2.06-.94-2.06-.94-.94-2.06-.94 2.06-2.06.94zm-11 1L8.5 8.5l.94-2.06 2.06-.94-2.06-.94L8.5 2.5l-.94 2.06-2.06.94zm10 10l.94 2.06.94-2.06 2.06-.94-2.06-.94-.94-2.06-.94 2.06-2.06.94z\"/><path d=\"M17.41 7.96l-1.37-1.37c-.4-.4-.92-.59-1.43-.59-.52 0-1.04.2-1.43.59L10.3 9.45l-7.72 7.72c-.78.78-.78 2.05 0 2.83L4 21.41c.39.39.9.59 1.41.59.51 0 1.02-.2 1.41-.59l7.78-7.78 2.81-2.81c.8-.78.8-2.07 0-2.86zM5.41 20L4 18.59l7.72-7.72 1.47 1.35L5.41 20z\"/>\n",
              "  </svg>\n",
              "      </button>\n",
              "      \n",
              "  <style>\n",
              "    .colab-df-container {\n",
              "      display:flex;\n",
              "      flex-wrap:wrap;\n",
              "      gap: 12px;\n",
              "    }\n",
              "\n",
              "    .colab-df-convert {\n",
              "      background-color: #E8F0FE;\n",
              "      border: none;\n",
              "      border-radius: 50%;\n",
              "      cursor: pointer;\n",
              "      display: none;\n",
              "      fill: #1967D2;\n",
              "      height: 32px;\n",
              "      padding: 0 0 0 0;\n",
              "      width: 32px;\n",
              "    }\n",
              "\n",
              "    .colab-df-convert:hover {\n",
              "      background-color: #E2EBFA;\n",
              "      box-shadow: 0px 1px 2px rgba(60, 64, 67, 0.3), 0px 1px 3px 1px rgba(60, 64, 67, 0.15);\n",
              "      fill: #174EA6;\n",
              "    }\n",
              "\n",
              "    [theme=dark] .colab-df-convert {\n",
              "      background-color: #3B4455;\n",
              "      fill: #D2E3FC;\n",
              "    }\n",
              "\n",
              "    [theme=dark] .colab-df-convert:hover {\n",
              "      background-color: #434B5C;\n",
              "      box-shadow: 0px 1px 3px 1px rgba(0, 0, 0, 0.15);\n",
              "      filter: drop-shadow(0px 1px 2px rgba(0, 0, 0, 0.3));\n",
              "      fill: #FFFFFF;\n",
              "    }\n",
              "  </style>\n",
              "\n",
              "      <script>\n",
              "        const buttonEl =\n",
              "          document.querySelector('#df-bc8820ee-2f9c-46ee-b936-17e119cfe54f button.colab-df-convert');\n",
              "        buttonEl.style.display =\n",
              "          google.colab.kernel.accessAllowed ? 'block' : 'none';\n",
              "\n",
              "        async function convertToInteractive(key) {\n",
              "          const element = document.querySelector('#df-bc8820ee-2f9c-46ee-b936-17e119cfe54f');\n",
              "          const dataTable =\n",
              "            await google.colab.kernel.invokeFunction('convertToInteractive',\n",
              "                                                     [key], {});\n",
              "          if (!dataTable) return;\n",
              "\n",
              "          const docLinkHtml = 'Like what you see? Visit the ' +\n",
              "            '<a target=\"_blank\" href=https://colab.research.google.com/notebooks/data_table.ipynb>data table notebook</a>'\n",
              "            + ' to learn more about interactive tables.';\n",
              "          element.innerHTML = '';\n",
              "          dataTable['output_type'] = 'display_data';\n",
              "          await google.colab.output.renderOutput(dataTable, element);\n",
              "          const docLink = document.createElement('div');\n",
              "          docLink.innerHTML = docLinkHtml;\n",
              "          element.appendChild(docLink);\n",
              "        }\n",
              "      </script>\n",
              "    </div>\n",
              "  </div>\n",
              "  "
            ]
          },
          "metadata": {},
          "execution_count": 244
        }
      ],
      "source": [
        "x"
      ]
    },
    {
      "cell_type": "markdown",
      "id": "c2c911e1",
      "metadata": {
        "id": "c2c911e1"
      },
      "source": [
        "# Test Train Split"
      ]
    },
    {
      "cell_type": "code",
      "execution_count": 245,
      "id": "ad68e362",
      "metadata": {
        "id": "ad68e362"
      },
      "outputs": [],
      "source": [
        "from sklearn.model_selection import train_test_split\n",
        "x_train,x_test,y_train,y_test = train_test_split(x,y,test_size=0.2,random_state=0)"
      ]
    },
    {
      "cell_type": "markdown",
      "source": [
        "#feature scaling : standardization"
      ],
      "metadata": {
        "id": "I0P3RXEEcMWT"
      },
      "id": "I0P3RXEEcMWT"
    },
    {
      "cell_type": "code",
      "source": [
        "from sklearn.preprocessing import StandardScaler\n",
        "sc=StandardScaler()\n",
        "x_train= sc.fit_transform(x_train)\n",
        "x_test=sc.transform(x_test)"
      ],
      "metadata": {
        "id": "pxVwGQMdcJ48"
      },
      "id": "pxVwGQMdcJ48",
      "execution_count": 246,
      "outputs": []
    },
    {
      "cell_type": "code",
      "source": [
        "x_train"
      ],
      "metadata": {
        "colab": {
          "base_uri": "https://localhost:8080/"
        },
        "id": "AeNsgUMCcKE5",
        "outputId": "1bfc2f2a-dcf8-47a3-875e-32a258092ded"
      },
      "id": "AeNsgUMCcKE5",
      "execution_count": 247,
      "outputs": [
        {
          "output_type": "execute_result",
          "data": {
            "text/plain": [
              "array([[-0.90083593,  0.65748549, -0.92731656, ..., -0.54087551,\n",
              "        -0.78329678,  2.22274471],\n",
              "       [ 0.33113865, -0.90824182, -0.11471259, ..., -0.54087551,\n",
              "        -0.78329678, -0.44989422],\n",
              "       [ 0.91089139, -1.23218541, -0.92731656, ..., -0.54087551,\n",
              "        -0.78329678,  2.22274471],\n",
              "       ...,\n",
              "       [ 1.34570594,  1.01742281, -0.92731656, ...,  1.84885428,\n",
              "        -0.78329678, -0.44989422],\n",
              "       [ 0.91089139, -1.03421988,  1.51049534, ..., -0.54087551,\n",
              "         1.27665531, -0.44989422],\n",
              "       [ 1.05582957, -0.44032331, -0.11471259, ..., -0.54087551,\n",
              "        -0.78329678, -0.44989422]])"
            ]
          },
          "metadata": {},
          "execution_count": 247
        }
      ]
    },
    {
      "cell_type": "markdown",
      "id": "8cd3bedd",
      "metadata": {
        "id": "8cd3bedd"
      },
      "source": [
        "# Importing the Models"
      ]
    },
    {
      "cell_type": "code",
      "execution_count": 248,
      "id": "e9c5a8b6",
      "metadata": {
        "id": "e9c5a8b6"
      },
      "outputs": [],
      "source": [
        "from sklearn.linear_model import LinearRegression\n",
        "from sklearn.svm import SVR\n",
        "from sklearn.ensemble import RandomForestRegressor\n",
        "from sklearn.ensemble import GradientBoostingRegressor"
      ]
    },
    {
      "cell_type": "markdown",
      "id": "7a1c4fbd",
      "metadata": {
        "id": "7a1c4fbd"
      },
      "source": [
        "# Model Training"
      ]
    },
    {
      "cell_type": "code",
      "execution_count": 249,
      "id": "79b2142c",
      "metadata": {
        "id": "79b2142c",
        "outputId": "bd0f679a-2b6b-4a26-cd00-16066b170627",
        "colab": {
          "base_uri": "https://localhost:8080/"
        }
      },
      "outputs": [
        {
          "output_type": "execute_result",
          "data": {
            "text/plain": [
              "GradientBoostingRegressor()"
            ]
          },
          "metadata": {},
          "execution_count": 249
        }
      ],
      "source": [
        "lr=LinearRegression()\n",
        "lr.fit(x_train,y_train)\n",
        "svm=SVR()\n",
        "svm.fit(x_train,y_train)\n",
        "rf=RandomForestRegressor()\n",
        "rf.fit(x_train,y_train)\n",
        "gr=GradientBoostingRegressor()\n",
        "gr.fit(x_train,y_train)"
      ]
    },
    {
      "cell_type": "markdown",
      "id": "e15e5d50",
      "metadata": {
        "id": "e15e5d50"
      },
      "source": [
        "# Prediction on test data"
      ]
    },
    {
      "cell_type": "code",
      "execution_count": 250,
      "id": "35253dda",
      "metadata": {
        "id": "35253dda"
      },
      "outputs": [],
      "source": [
        "y_pred1=lr.predict(x_test)\n",
        "y_pred2=svm.predict(x_test)\n",
        "y_pred3=rf.predict(x_test)\n",
        "y_pred4=gr.predict(x_test)\n",
        "error=y_test-y_pred1"
      ]
    },
    {
      "cell_type": "code",
      "source": [
        "df1=pd.DataFrame({'Actual':y_test,'lr':y_pred1,'svm':y_pred2,'rf':y_pred3,'gr':y_pred4,'error_lr':error})"
      ],
      "metadata": {
        "id": "-AYkw8fUcnSY"
      },
      "id": "-AYkw8fUcnSY",
      "execution_count": 251,
      "outputs": []
    },
    {
      "cell_type": "code",
      "source": [
        "#checking whether error is following normality or not[assumption of linear regression]\n",
        "plt.hist(x=df1['error_lr'],bins= 10)\n",
        "plt.show()"
      ],
      "metadata": {
        "colab": {
          "base_uri": "https://localhost:8080/",
          "height": 265
        },
        "id": "bRe90_vbcnZF",
        "outputId": "1fb3d608-dad8-4e95-a18c-dd8d0a59fdc3"
      },
      "id": "bRe90_vbcnZF",
      "execution_count": 252,
      "outputs": [
        {
          "output_type": "display_data",
          "data": {
            "text/plain": [
              "<Figure size 432x288 with 1 Axes>"
            ],
            "image/png": "[encoded data removed]"
          },
          "metadata": {
            "needs_background": "light"
          }
        }
      ]
    },
    {
      "cell_type": "code",
      "source": [
        "df1['error_lr'].mean() #for lr errors follows approx normal distn with 0 mean  "
      ],
      "metadata": {
        "colab": {
          "base_uri": "https://localhost:8080/"
        },
        "id": "5NqWQ4rsc0N5",
        "outputId": "d4a4a3cb-4b62-4254-939b-9ef189c31683"
      },
      "id": "5NqWQ4rsc0N5",
      "execution_count": 253,
      "outputs": [
        {
          "output_type": "execute_result",
          "data": {
            "text/plain": [
              "0.005476621292836002"
            ]
          },
          "metadata": {},
          "execution_count": 253
        }
      ]
    },
    {
      "cell_type": "code",
      "execution_count": 254,
      "id": "031dc6b7",
      "metadata": {
        "id": "031dc6b7",
        "outputId": "eecba77c-95bc-4126-aaa8-45c30426dc61",
        "colab": {
          "base_uri": "https://localhost:8080/"
        }
      },
      "outputs": [
        {
          "output_type": "execute_result",
          "data": {
            "text/plain": [
              "1670      8.817890\n",
              "13379     7.807307\n",
              "10234     9.527084\n",
              "4719      7.450312\n",
              "7003      9.499504\n",
              "           ...    \n",
              "10346     8.953239\n",
              "8469      7.037028\n",
              "12765     8.941205\n",
              "9431     10.456815\n",
              "4202      9.302035\n",
              "Name: claim, Length: 3000, dtype: float64"
            ]
          },
          "metadata": {},
          "execution_count": 254
        }
      ],
      "source": [
        "y_test"
      ]
    },
    {
      "cell_type": "markdown",
      "source": [
        "#**comparing performances of different models**"
      ],
      "metadata": {
        "id": "lKCHXBCyUkmK"
      },
      "id": "lKCHXBCyUkmK"
    },
    {
      "cell_type": "code",
      "execution_count": 255,
      "id": "53d96ae8",
      "metadata": {
        "id": "53d96ae8",
        "outputId": "e1791e1c-1dc1-427d-dde7-22cedd15f127",
        "colab": {
          "base_uri": "https://localhost:8080/",
          "height": 519
        }
      },
      "outputs": [
        {
          "output_type": "execute_result",
          "data": {
            "text/plain": [
              "          Actual         lr        svm         rf         gr  error_lr\n",
              "1670    8.817890   8.764570   8.717939   8.817890   8.822316  0.053320\n",
              "13379   7.807307   8.178145   7.847364   7.807307   8.139535 -0.370838\n",
              "10234   9.527084   8.828474   9.010471   9.527084   8.943645  0.698609\n",
              "4719    7.450312   8.000959   7.823123   7.541674   7.737899 -0.550647\n",
              "7003    9.499504   9.359053   9.542124   9.499504   9.460143  0.140451\n",
              "2831   10.390511   9.310957  10.038338  10.390511  10.096307  1.079554\n",
              "13014   8.447264   8.514054   8.456280   8.447264   8.542469 -0.066790\n",
              "11979   8.874658   8.960127   8.975024   8.874658   9.022420 -0.085469\n",
              "8610    8.129588   8.312178   8.183786   8.168289   8.366741 -0.182590\n",
              "519     8.375330   8.493790   8.314145   8.375330   8.468156 -0.118460\n",
              "13264  10.619012  10.183027  10.519242  10.619012  10.463666  0.435985\n",
              "7329    8.065108   8.252607   8.138425   8.065108   8.484864 -0.187499\n",
              "452     8.565259   8.720381   8.584328   8.565259   8.712846 -0.155122\n",
              "12374   8.493904   8.608259   8.594132   8.493904   8.654805 -0.114355\n",
              "4067   10.767725  11.117048  10.667501  10.767725  10.822263 -0.349324"
            ],
            "text/html": [
              "\n",
              "  <div id=\"df-b061f9ab-7376-45a5-b3a0-b82fcca60937\">\n",
              "    <div class=\"colab-df-container\">\n",
              "      <div>\n",
              "<style scoped>\n",
              "    .dataframe tbody tr th:only-of-type {\n",
              "        vertical-align: middle;\n",
              "    }\n",
              "\n",
              "    .dataframe tbody tr th {\n",
              "        vertical-align: top;\n",
              "    }\n",
              "\n",
              "    .dataframe thead th {\n",
              "        text-align: right;\n",
              "    }\n",
              "</style>\n",
              "<table border=\"1\" class=\"dataframe\">\n",
              "  <thead>\n",
              "    <tr style=\"text-align: right;\">\n",
              "      <th></th>\n",
              "      <th>Actual</th>\n",
              "      <th>lr</th>\n",
              "      <th>svm</th>\n",
              "      <th>rf</th>\n",
              "      <th>gr</th>\n",
              "      <th>error_lr</th>\n",
              "    </tr>\n",
              "  </thead>\n",
              "  <tbody>\n",
              "    <tr>\n",
              "      <th>1670</th>\n",
              "      <td>8.817890</td>\n",
              "      <td>8.764570</td>\n",
              "      <td>8.717939</td>\n",
              "      <td>8.817890</td>\n",
              "      <td>8.822316</td>\n",
              "      <td>0.053320</td>\n",
              "    </tr>\n",
              "    <tr>\n",
              "      <th>13379</th>\n",
              "      <td>7.807307</td>\n",
              "      <td>8.178145</td>\n",
              "      <td>7.847364</td>\n",
              "      <td>7.807307</td>\n",
              "      <td>8.139535</td>\n",
              "      <td>-0.370838</td>\n",
              "    </tr>\n",
              "    <tr>\n",
              "      <th>10234</th>\n",
              "      <td>9.527084</td>\n",
              "      <td>8.828474</td>\n",
              "      <td>9.010471</td>\n",
              "      <td>9.527084</td>\n",
              "      <td>8.943645</td>\n",
              "      <td>0.698609</td>\n",
              "    </tr>\n",
              "    <tr>\n",
              "      <th>4719</th>\n",
              "      <td>7.450312</td>\n",
              "      <td>8.000959</td>\n",
              "      <td>7.823123</td>\n",
              "      <td>7.541674</td>\n",
              "      <td>7.737899</td>\n",
              "      <td>-0.550647</td>\n",
              "    </tr>\n",
              "    <tr>\n",
              "      <th>7003</th>\n",
              "      <td>9.499504</td>\n",
              "      <td>9.359053</td>\n",
              "      <td>9.542124</td>\n",
              "      <td>9.499504</td>\n",
              "      <td>9.460143</td>\n",
              "      <td>0.140451</td>\n",
              "    </tr>\n",
              "    <tr>\n",
              "      <th>2831</th>\n",
              "      <td>10.390511</td>\n",
              "      <td>9.310957</td>\n",
              "      <td>10.038338</td>\n",
              "      <td>10.390511</td>\n",
              "      <td>10.096307</td>\n",
              "      <td>1.079554</td>\n",
              "    </tr>\n",
              "    <tr>\n",
              "      <th>13014</th>\n",
              "      <td>8.447264</td>\n",
              "      <td>8.514054</td>\n",
              "      <td>8.456280</td>\n",
              "      <td>8.447264</td>\n",
              "      <td>8.542469</td>\n",
              "      <td>-0.066790</td>\n",
              "    </tr>\n",
              "    <tr>\n",
              "      <th>11979</th>\n",
              "      <td>8.874658</td>\n",
              "      <td>8.960127</td>\n",
              "      <td>8.975024</td>\n",
              "      <td>8.874658</td>\n",
              "      <td>9.022420</td>\n",
              "      <td>-0.085469</td>\n",
              "    </tr>\n",
              "    <tr>\n",
              "      <th>8610</th>\n",
              "      <td>8.129588</td>\n",
              "      <td>8.312178</td>\n",
              "      <td>8.183786</td>\n",
              "      <td>8.168289</td>\n",
              "      <td>8.366741</td>\n",
              "      <td>-0.182590</td>\n",
              "    </tr>\n",
              "    <tr>\n",
              "      <th>519</th>\n",
              "      <td>8.375330</td>\n",
              "      <td>8.493790</td>\n",
              "      <td>8.314145</td>\n",
              "      <td>8.375330</td>\n",
              "      <td>8.468156</td>\n",
              "      <td>-0.118460</td>\n",
              "    </tr>\n",
              "    <tr>\n",
              "      <th>13264</th>\n",
              "      <td>10.619012</td>\n",
              "      <td>10.183027</td>\n",
              "      <td>10.519242</td>\n",
              "      <td>10.619012</td>\n",
              "      <td>10.463666</td>\n",
              "      <td>0.435985</td>\n",
              "    </tr>\n",
              "    <tr>\n",
              "      <th>7329</th>\n",
              "      <td>8.065108</td>\n",
              "      <td>8.252607</td>\n",
              "      <td>8.138425</td>\n",
              "      <td>8.065108</td>\n",
              "      <td>8.484864</td>\n",
              "      <td>-0.187499</td>\n",
              "    </tr>\n",
              "    <tr>\n",
              "      <th>452</th>\n",
              "      <td>8.565259</td>\n",
              "      <td>8.720381</td>\n",
              "      <td>8.584328</td>\n",
              "      <td>8.565259</td>\n",
              "      <td>8.712846</td>\n",
              "      <td>-0.155122</td>\n",
              "    </tr>\n",
              "    <tr>\n",
              "      <th>12374</th>\n",
              "      <td>8.493904</td>\n",
              "      <td>8.608259</td>\n",
              "      <td>8.594132</td>\n",
              "      <td>8.493904</td>\n",
              "      <td>8.654805</td>\n",
              "      <td>-0.114355</td>\n",
              "    </tr>\n",
              "    <tr>\n",
              "      <th>4067</th>\n",
              "      <td>10.767725</td>\n",
              "      <td>11.117048</td>\n",
              "      <td>10.667501</td>\n",
              "      <td>10.767725</td>\n",
              "      <td>10.822263</td>\n",
              "      <td>-0.349324</td>\n",
              "    </tr>\n",
              "  </tbody>\n",
              "</table>\n",
              "</div>\n",
              "      <button class=\"colab-df-convert\" onclick=\"convertToInteractive('df-b061f9ab-7376-45a5-b3a0-b82fcca60937')\"\n",
              "              title=\"Convert this dataframe to an interactive table.\"\n",
              "              style=\"display:none;\">\n",
              "        \n",
              "  <svg xmlns=\"http://www.w3.org/2000/svg\" height=\"24px\"viewBox=\"0 0 24 24\"\n",
              "       width=\"24px\">\n",
              "    <path d=\"M0 0h24v24H0V0z\" fill=\"none\"/>\n",
              "    <path d=\"M18.56 5.44l.94 2.06.94-2.06 2.06-.94-2.06-.94-.94-2.06-.94 2.06-2.06.94zm-11 1L8.5 8.5l.94-2.06 2.06-.94-2.06-.94L8.5 2.5l-.94 2.06-2.06.94zm10 10l.94 2.06.94-2.06 2.06-.94-2.06-.94-.94-2.06-.94 2.06-2.06.94z\"/><path d=\"M17.41 7.96l-1.37-1.37c-.4-.4-.92-.59-1.43-.59-.52 0-1.04.2-1.43.59L10.3 9.45l-7.72 7.72c-.78.78-.78 2.05 0 2.83L4 21.41c.39.39.9.59 1.41.59.51 0 1.02-.2 1.41-.59l7.78-7.78 2.81-2.81c.8-.78.8-2.07 0-2.86zM5.41 20L4 18.59l7.72-7.72 1.47 1.35L5.41 20z\"/>\n",
              "  </svg>\n",
              "      </button>\n",
              "      \n",
              "  <style>\n",
              "    .colab-df-container {\n",
              "      display:flex;\n",
              "      flex-wrap:wrap;\n",
              "      gap: 12px;\n",
              "    }\n",
              "\n",
              "    .colab-df-convert {\n",
              "      background-color: #E8F0FE;\n",
              "      border: none;\n",
              "      border-radius: 50%;\n",
              "      cursor: pointer;\n",
              "      display: none;\n",
              "      fill: #1967D2;\n",
              "      height: 32px;\n",
              "      padding: 0 0 0 0;\n",
              "      width: 32px;\n",
              "    }\n",
              "\n",
              "    .colab-df-convert:hover {\n",
              "      background-color: #E2EBFA;\n",
              "      box-shadow: 0px 1px 2px rgba(60, 64, 67, 0.3), 0px 1px 3px 1px rgba(60, 64, 67, 0.15);\n",
              "      fill: #174EA6;\n",
              "    }\n",
              "\n",
              "    [theme=dark] .colab-df-convert {\n",
              "      background-color: #3B4455;\n",
              "      fill: #D2E3FC;\n",
              "    }\n",
              "\n",
              "    [theme=dark] .colab-df-convert:hover {\n",
              "      background-color: #434B5C;\n",
              "      box-shadow: 0px 1px 3px 1px rgba(0, 0, 0, 0.15);\n",
              "      filter: drop-shadow(0px 1px 2px rgba(0, 0, 0, 0.3));\n",
              "      fill: #FFFFFF;\n",
              "    }\n",
              "  </style>\n",
              "\n",
              "      <script>\n",
              "        const buttonEl =\n",
              "          document.querySelector('#df-b061f9ab-7376-45a5-b3a0-b82fcca60937 button.colab-df-convert');\n",
              "        buttonEl.style.display =\n",
              "          google.colab.kernel.accessAllowed ? 'block' : 'none';\n",
              "\n",
              "        async function convertToInteractive(key) {\n",
              "          const element = document.querySelector('#df-b061f9ab-7376-45a5-b3a0-b82fcca60937');\n",
              "          const dataTable =\n",
              "            await google.colab.kernel.invokeFunction('convertToInteractive',\n",
              "                                                     [key], {});\n",
              "          if (!dataTable) return;\n",
              "\n",
              "          const docLinkHtml = 'Like what you see? Visit the ' +\n",
              "            '<a target=\"_blank\" href=https://colab.research.google.com/notebooks/data_table.ipynb>data table notebook</a>'\n",
              "            + ' to learn more about interactive tables.';\n",
              "          element.innerHTML = '';\n",
              "          dataTable['output_type'] = 'display_data';\n",
              "          await google.colab.output.renderOutput(dataTable, element);\n",
              "          const docLink = document.createElement('div');\n",
              "          docLink.innerHTML = docLinkHtml;\n",
              "          element.appendChild(docLink);\n",
              "        }\n",
              "      </script>\n",
              "    </div>\n",
              "  </div>\n",
              "  "
            ]
          },
          "metadata": {},
          "execution_count": 255
        }
      ],
      "source": [
        "df1.head(15)\n",
        "#by comparing we can see randomforest is giving the best results"
      ]
    },
    {
      "cell_type": "markdown",
      "id": "804d9ab3",
      "metadata": {
        "id": "804d9ab3"
      },
      "source": [
        "#**Comparing Performances of different models through Visualization**"
      ]
    },
    {
      "cell_type": "code",
      "execution_count": 256,
      "id": "d5cffbb2",
      "metadata": {
        "id": "d5cffbb2",
        "outputId": "3170f67f-73cf-4f35-f015-c0380400fdd6",
        "colab": {
          "base_uri": "https://localhost:8080/",
          "height": 164
        }
      },
      "outputs": [
        {
          "output_type": "execute_result",
          "data": {
            "text/plain": [
              "<matplotlib.legend.Legend at 0x7fef3a30e940>"
            ]
          },
          "metadata": {},
          "execution_count": 256
        },
        {
          "output_type": "display_data",
          "data": {
            "text/plain": [
              "<Figure size 432x288 with 1 Axes>"
            ],
            "image/png": "[encoded data removed]"
          },
          "metadata": {
            "needs_background": "light"
          }
        }
      ],
      "source": [
        "#for entire data\n",
        "import matplotlib.pyplot as plt\n",
        "plt.subplot(221)\n",
        "plt.plot(df1['Actual'],label=\"actual\")\n",
        "plt.plot(df1['lr'],label=\"lr\")\n",
        "plt.legend()"
      ]
    },
    {
      "cell_type": "code",
      "execution_count": 257,
      "id": "0b0268f1",
      "metadata": {
        "id": "0b0268f1",
        "outputId": "fd3f6766-f1c2-42d0-8df5-4ed170735111",
        "colab": {
          "base_uri": "https://localhost:8080/",
          "height": 164
        }
      },
      "outputs": [
        {
          "output_type": "execute_result",
          "data": {
            "text/plain": [
              "<matplotlib.legend.Legend at 0x7fef3ac23310>"
            ]
          },
          "metadata": {},
          "execution_count": 257
        },
        {
          "output_type": "display_data",
          "data": {
            "text/plain": [
              "<Figure size 432x288 with 1 Axes>"
            ],
            "image/png": "[encoded data removed]"
          },
          "metadata": {
            "needs_background": "light"
          }
        }
      ],
      "source": [
        "#just for 10 observations to get a clear picture\n",
        "import matplotlib.pyplot as plt\n",
        "plt.subplot(221)\n",
        "plt.plot(df1['Actual'].iloc[0:11],label=\"actual\")\n",
        "plt.plot(df1['lr'].iloc[0:11],label=\"lr\")\n",
        "plt.legend()"
      ]
    },
    {
      "cell_type": "code",
      "execution_count": 258,
      "id": "0668bdc6",
      "metadata": {
        "id": "0668bdc6",
        "outputId": "826f8630-f8ee-41fb-81a4-d89d5af5cbb8",
        "colab": {
          "base_uri": "https://localhost:8080/",
          "height": 314
        }
      },
      "outputs": [
        {
          "output_type": "execute_result",
          "data": {
            "text/plain": [
              "<matplotlib.legend.Legend at 0x7fef3a1daeb0>"
            ]
          },
          "metadata": {},
          "execution_count": 258
        },
        {
          "output_type": "display_data",
          "data": {
            "text/plain": [
              "<Figure size 432x288 with 4 Axes>"
            ],
            "image/png": "[encoded data removed]"
          },
          "metadata": {
            "needs_background": "light"
          }
        }
      ],
      "source": [
        "#for all the data\n",
        "plt.subplot(221)\n",
        "plt.plot(df1['Actual'],label=\"actual\")\n",
        "plt.plot(df1['lr'],label=\"lr\")\n",
        "plt.legend()\n",
        "\n",
        "plt.subplot(222)\n",
        "plt.plot(df1['Actual'],label=\"actual\")\n",
        "plt.plot(df1['svm'],label=\"svm\")\n",
        "plt.legend()\n",
        "\n",
        "plt.subplot(223)\n",
        "plt.plot(df1['Actual'],label=\"actual\")\n",
        "plt.plot(df1['rf'],label=\"rf\")\n",
        "plt.legend()\n",
        "\n",
        "plt.subplot(224)\n",
        "plt.plot(df1['Actual'],label=\"actual\")\n",
        "plt.plot(df1['gr'],label=\"gr\")\n",
        "\n",
        "plt.tight_layout()\n",
        "\n",
        "plt.legend()"
      ]
    },
    {
      "cell_type": "code",
      "execution_count": 259,
      "id": "fa4ce0d3",
      "metadata": {
        "id": "fa4ce0d3",
        "outputId": "a3542c62-cf81-4014-e09a-ad9e464e125c",
        "colab": {
          "base_uri": "https://localhost:8080/",
          "height": 314
        }
      },
      "outputs": [
        {
          "output_type": "execute_result",
          "data": {
            "text/plain": [
              "<matplotlib.legend.Legend at 0x7fef3a0f7d00>"
            ]
          },
          "metadata": {},
          "execution_count": 259
        },
        {
          "output_type": "display_data",
          "data": {
            "text/plain": [
              "<Figure size 432x288 with 4 Axes>"
            ],
            "image/png": "[encoded data removed]"
          },
          "metadata": {
            "needs_background": "light"
          }
        }
      ],
      "source": [
        "#just for initial 20 observation to get a clear picture\n",
        "plt.subplot(221)\n",
        "plt.plot(df1['Actual'].iloc[0:21],label=\"actual\")\n",
        "plt.plot(df1['lr'].iloc[0:21],label=\"lr\")\n",
        "plt.legend()\n",
        "\n",
        "plt.subplot(222)\n",
        "plt.plot(df1['Actual'].iloc[0:21],label=\"actual\")\n",
        "plt.plot(df1['svm'].iloc[0:21],label=\"svm\")\n",
        "plt.legend()\n",
        "\n",
        "plt.subplot(223)\n",
        "plt.plot(df1['Actual'].iloc[0:21],label=\"actual\")\n",
        "plt.plot(df1['rf'].iloc[0:21],label=\"rf\")\n",
        "plt.legend()\n",
        "\n",
        "plt.subplot(224)\n",
        "plt.plot(df1['Actual'].iloc[0:21],label=\"actual\")\n",
        "plt.plot(df1['gr'].iloc[0:21],label=\"gr\")\n",
        "\n",
        "plt.tight_layout()\n",
        "\n",
        "plt.legend()"
      ]
    },
    {
      "cell_type": "markdown",
      "id": "71876e5c",
      "metadata": {
        "id": "71876e5c"
      },
      "source": [
        "# Evaluating the algorithm"
      ]
    },
    {
      "cell_type": "code",
      "execution_count": 260,
      "id": "fcc0b87a",
      "metadata": {
        "id": "fcc0b87a",
        "outputId": "1a56825e-83b6-4d11-cd26-5dc15a04caa3",
        "colab": {
          "base_uri": "https://localhost:8080/"
        }
      },
      "outputs": [
        {
          "output_type": "stream",
          "name": "stdout",
          "text": [
            "R_squared values\n",
            "\n",
            "linear regression:  0.7393500425521191 \n",
            "support vector regression:  0.8213967146368086 \n",
            "random forest:  0.9783543381825422 \n",
            "gradient boosting 0.8358999683311807\n"
          ]
        }
      ],
      "source": [
        "from sklearn import metrics\n",
        "\n",
        "score1= metrics.r2_score(y_test,y_pred1)\n",
        "score2= metrics.r2_score(y_test,y_pred2)\n",
        "score3= metrics.r2_score(y_test,y_pred3)\n",
        "score4= metrics.r2_score(y_test,y_pred4)\n",
        "print(\"R_squared values\\n\")\n",
        "print(\"linear regression: \",score1,\"\\nsupport vector regression: \",score2,\"\\nrandom forest: \",score3,\"\\ngradient boosting\",score4)"
      ]
    },
    {
      "cell_type": "markdown",
      "id": "e946acd7",
      "metadata": {
        "id": "e946acd7"
      },
      "source": [
        "# Mean squared Error"
      ]
    },
    {
      "cell_type": "code",
      "execution_count": 261,
      "id": "849c04e5",
      "metadata": {
        "id": "849c04e5",
        "outputId": "f52d3766-99d9-483b-8fe0-72638379f024",
        "colab": {
          "base_uri": "https://localhost:8080/"
        }
      },
      "outputs": [
        {
          "output_type": "stream",
          "name": "stdout",
          "text": [
            "mean squared errors\n",
            "\n",
            "linear regression:  0.2123163374397227 \n",
            "support vector regression:  0.14548398846601351 \n",
            "random forest:  0.017631798921204273 \n",
            "gradient boosting 0.13367014535052427\n"
          ]
        }
      ],
      "source": [
        "s1= metrics.mean_squared_error(y_test,y_pred1)\n",
        "s2= metrics.mean_squared_error(y_test,y_pred2)\n",
        "s3= metrics.mean_squared_error(y_test,y_pred3)\n",
        "s4= metrics.mean_squared_error(y_test,y_pred4)\n",
        "print(\"mean squared errors\\n\")\n",
        "print(\"linear regression: \",s1,\"\\nsupport vector regression: \",s2,\"\\nrandom forest: \",s3,\"\\ngradient boosting\",s4)"
      ]
    },
    {
      "cell_type": "markdown",
      "source": [
        "#Hence random forest is giving the best results with 97.8% accuracy and lowest MSE."
      ],
      "metadata": {
        "id": "-hcvdn5eeorp"
      },
      "id": "-hcvdn5eeorp"
    },
    {
      "cell_type": "markdown",
      "id": "6aea942d",
      "metadata": {
        "id": "6aea942d"
      },
      "source": [
        "# random forest is giving the best results for our model"
      ]
    },
    {
      "cell_type": "markdown",
      "source": [
        "#Hyperparameter optimization\n",
        "To improve the accuracy of our model we need to find the best model through hyperparameter optimization"
      ],
      "metadata": {
        "id": "eREu8qjUXgdj"
      },
      "id": "eREu8qjUXgdj"
    },
    {
      "cell_type": "code",
      "source": [
        "from sklearn.model_selection import RandomizedSearchCV\n",
        "\n",
        "#number of Decisio trees in random forest\n",
        "n_estimators = [int(x) for x in np.linspace(start = 10, stop = 1000, num =20)] #gives 20 different values between 10 & 1000\n",
        "\n",
        "#criterion for selecting the best split in Randomforestr regressor ,(for classification problems we use gini or entropy)\n",
        "criterion = [ \"squared_error\", \"poisson\"]\n",
        "\n",
        "#number of features to consider at every split \n",
        "max_features = [\"auto\", \"sqrt\", \"log2\"]\n",
        "\n",
        "#maximum number of levels in tree\n",
        "max_depth = [int(x) for x in np.linspace(10,1000,20)]\n",
        "\n",
        "#minimum number of samples required to split a node\n",
        "min_samples_split = [2,3,5,6]\n",
        "\n",
        "#minnimum number of samples required at each leaf node\n",
        "min_samples_leaf = [1,2,3,4]\n",
        "\n",
        "#create the random grid\n",
        "random_grid = {\n",
        "    'n_estimators': n_estimators,\n",
        "    'criterion': criterion,\n",
        "    'max_features': max_features,\n",
        "    'max_depth': max_depth,\n",
        "    'min_samples_split': min_samples_split,\n",
        "    'min_samples_leaf':min_samples_leaf\n",
        "}\n",
        "print(random_grid)"
      ],
      "metadata": {
        "colab": {
          "base_uri": "https://localhost:8080/"
        },
        "id": "5DWME_66Xed5",
        "outputId": "dcaf1000-5ffe-4ccb-be2e-85b5ec3f4539"
      },
      "id": "5DWME_66Xed5",
      "execution_count": 262,
      "outputs": [
        {
          "output_type": "stream",
          "name": "stdout",
          "text": [
            "{'n_estimators': [10, 62, 114, 166, 218, 270, 322, 374, 426, 478, 531, 583, 635, 687, 739, 791, 843, 895, 947, 1000], 'criterion': ['squared_error', 'poisson'], 'max_features': ['auto', 'sqrt', 'log2'], 'max_depth': [10, 62, 114, 166, 218, 270, 322, 374, 426, 478, 531, 583, 635, 687, 739, 791, 843, 895, 947, 1000], 'min_samples_split': [2, 3, 5, 6], 'min_samples_leaf': [1, 2, 3, 4]}\n"
          ]
        }
      ]
    },
    {
      "cell_type": "code",
      "source": [
        "#fitting the grid search to the data\n",
        "rf=RandomForestRegressor()\n",
        "grid_search=RandomizedSearchCV(estimator=rf,cv=5,param_distributions=random_grid,n_iter=100,verbose=2)\n",
        "grid_search.fit(x_train,y_train)"
      ],
      "metadata": {
        "colab": {
          "base_uri": "https://localhost:8080/"
        },
        "id": "Y0DMMK-VXegk",
        "outputId": "a012bf00-1d87-420b-c43a-742d7148d97b"
      },
      "id": "Y0DMMK-VXegk",
      "execution_count": 157,
      "outputs": [
        {
          "output_type": "stream",
          "name": "stdout",
          "text": [
            "Fitting 5 folds for each of 100 candidates, totalling 500 fits\n",
            "[CV] END criterion=squared_error, max_depth=374, max_features=log2, min_samples_leaf=4, min_samples_split=2, n_estimators=62; total time=   0.5s\n",
            "[CV] END criterion=squared_error, max_depth=374, max_features=log2, min_samples_leaf=4, min_samples_split=2, n_estimators=62; total time=   0.5s\n",
            "[CV] END criterion=squared_error, max_depth=374, max_features=log2, min_samples_leaf=4, min_samples_split=2, n_estimators=62; total time=   0.5s\n",
            "[CV] END criterion=squared_error, max_depth=374, max_features=log2, min_samples_leaf=4, min_samples_split=2, n_estimators=62; total time=   0.5s\n",
            "[CV] END criterion=squared_error, max_depth=374, max_features=log2, min_samples_leaf=4, min_samples_split=2, n_estimators=62; total time=   0.3s\n",
            "[CV] END criterion=squared_error, max_depth=531, max_features=log2, min_samples_leaf=4, min_samples_split=5, n_estimators=1000; total time=   5.0s\n",
            "[CV] END criterion=squared_error, max_depth=531, max_features=log2, min_samples_leaf=4, min_samples_split=5, n_estimators=1000; total time=   5.5s\n",
            "[CV] END criterion=squared_error, max_depth=531, max_features=log2, min_samples_leaf=4, min_samples_split=5, n_estimators=1000; total time=   6.2s\n",
            "[CV] END criterion=squared_error, max_depth=531, max_features=log2, min_samples_leaf=4, min_samples_split=5, n_estimators=1000; total time=   5.4s\n",
            "[CV] END criterion=squared_error, max_depth=531, max_features=log2, min_samples_leaf=4, min_samples_split=5, n_estimators=1000; total time=   6.3s\n",
            "[CV] END criterion=poisson, max_depth=218, max_features=log2, min_samples_leaf=3, min_samples_split=6, n_estimators=10; total time=   0.1s\n",
            "[CV] END criterion=poisson, max_depth=218, max_features=log2, min_samples_leaf=3, min_samples_split=6, n_estimators=10; total time=   0.1s\n",
            "[CV] END criterion=poisson, max_depth=218, max_features=log2, min_samples_leaf=3, min_samples_split=6, n_estimators=10; total time=   0.1s\n",
            "[CV] END criterion=poisson, max_depth=218, max_features=log2, min_samples_leaf=3, min_samples_split=6, n_estimators=10; total time=   0.1s\n",
            "[CV] END criterion=poisson, max_depth=218, max_features=log2, min_samples_leaf=3, min_samples_split=6, n_estimators=10; total time=   0.1s\n",
            "[CV] END criterion=squared_error, max_depth=166, max_features=auto, min_samples_leaf=3, min_samples_split=3, n_estimators=531; total time=   7.4s\n",
            "[CV] END criterion=squared_error, max_depth=166, max_features=auto, min_samples_leaf=3, min_samples_split=3, n_estimators=531; total time=   8.9s\n",
            "[CV] END criterion=squared_error, max_depth=166, max_features=auto, min_samples_leaf=3, min_samples_split=3, n_estimators=531; total time=   7.7s\n",
            "[CV] END criterion=squared_error, max_depth=166, max_features=auto, min_samples_leaf=3, min_samples_split=3, n_estimators=531; total time=   8.5s\n",
            "[CV] END criterion=squared_error, max_depth=166, max_features=auto, min_samples_leaf=3, min_samples_split=3, n_estimators=531; total time=   9.0s\n",
            "[CV] END criterion=poisson, max_depth=895, max_features=sqrt, min_samples_leaf=4, min_samples_split=6, n_estimators=739; total time=   6.0s\n",
            "[CV] END criterion=poisson, max_depth=895, max_features=sqrt, min_samples_leaf=4, min_samples_split=6, n_estimators=739; total time=   6.5s\n",
            "[CV] END criterion=poisson, max_depth=895, max_features=sqrt, min_samples_leaf=4, min_samples_split=6, n_estimators=739; total time=   6.3s\n",
            "[CV] END criterion=poisson, max_depth=895, max_features=sqrt, min_samples_leaf=4, min_samples_split=6, n_estimators=739; total time=   5.9s\n",
            "[CV] END criterion=poisson, max_depth=895, max_features=sqrt, min_samples_leaf=4, min_samples_split=6, n_estimators=739; total time=   7.0s\n",
            "[CV] END criterion=squared_error, max_depth=114, max_features=log2, min_samples_leaf=3, min_samples_split=3, n_estimators=478; total time=   2.5s\n",
            "[CV] END criterion=squared_error, max_depth=114, max_features=log2, min_samples_leaf=3, min_samples_split=3, n_estimators=478; total time=   2.6s\n",
            "[CV] END criterion=squared_error, max_depth=114, max_features=log2, min_samples_leaf=3, min_samples_split=3, n_estimators=478; total time=   3.5s\n",
            "[CV] END criterion=squared_error, max_depth=114, max_features=log2, min_samples_leaf=3, min_samples_split=3, n_estimators=478; total time=   3.1s\n",
            "[CV] END criterion=squared_error, max_depth=114, max_features=log2, min_samples_leaf=3, min_samples_split=3, n_estimators=478; total time=   2.5s\n",
            "[CV] END criterion=squared_error, max_depth=843, max_features=auto, min_samples_leaf=4, min_samples_split=2, n_estimators=687; total time=  10.7s\n",
            "[CV] END criterion=squared_error, max_depth=843, max_features=auto, min_samples_leaf=4, min_samples_split=2, n_estimators=687; total time=   9.4s\n",
            "[CV] END criterion=squared_error, max_depth=843, max_features=auto, min_samples_leaf=4, min_samples_split=2, n_estimators=687; total time=  10.6s\n",
            "[CV] END criterion=squared_error, max_depth=843, max_features=auto, min_samples_leaf=4, min_samples_split=2, n_estimators=687; total time=  10.6s\n",
            "[CV] END criterion=squared_error, max_depth=843, max_features=auto, min_samples_leaf=4, min_samples_split=2, n_estimators=687; total time=  10.4s\n",
            "[CV] END criterion=squared_error, max_depth=583, max_features=log2, min_samples_leaf=2, min_samples_split=3, n_estimators=947; total time=   5.5s\n",
            "[CV] END criterion=squared_error, max_depth=583, max_features=log2, min_samples_leaf=2, min_samples_split=3, n_estimators=947; total time=   5.6s\n",
            "[CV] END criterion=squared_error, max_depth=583, max_features=log2, min_samples_leaf=2, min_samples_split=3, n_estimators=947; total time=   6.4s\n",
            "[CV] END criterion=squared_error, max_depth=583, max_features=log2, min_samples_leaf=2, min_samples_split=3, n_estimators=947; total time=   5.6s\n",
            "[CV] END criterion=squared_error, max_depth=583, max_features=log2, min_samples_leaf=2, min_samples_split=3, n_estimators=947; total time=   6.6s\n",
            "[CV] END criterion=poisson, max_depth=843, max_features=log2, min_samples_leaf=2, min_samples_split=5, n_estimators=478; total time=   4.3s\n",
            "[CV] END criterion=poisson, max_depth=843, max_features=log2, min_samples_leaf=2, min_samples_split=5, n_estimators=478; total time=   3.9s\n",
            "[CV] END criterion=poisson, max_depth=843, max_features=log2, min_samples_leaf=2, min_samples_split=5, n_estimators=478; total time=   5.2s\n",
            "[CV] END criterion=poisson, max_depth=843, max_features=log2, min_samples_leaf=2, min_samples_split=5, n_estimators=478; total time=   4.2s\n",
            "[CV] END criterion=poisson, max_depth=843, max_features=log2, min_samples_leaf=2, min_samples_split=5, n_estimators=478; total time=   4.0s\n",
            "[CV] END criterion=squared_error, max_depth=114, max_features=log2, min_samples_leaf=1, min_samples_split=2, n_estimators=687; total time=   5.8s\n",
            "[CV] END criterion=squared_error, max_depth=114, max_features=log2, min_samples_leaf=1, min_samples_split=2, n_estimators=687; total time=   4.1s\n",
            "[CV] END criterion=squared_error, max_depth=114, max_features=log2, min_samples_leaf=1, min_samples_split=2, n_estimators=687; total time=   4.1s\n",
            "[CV] END criterion=squared_error, max_depth=114, max_features=log2, min_samples_leaf=1, min_samples_split=2, n_estimators=687; total time=   5.6s\n",
            "[CV] END criterion=squared_error, max_depth=114, max_features=log2, min_samples_leaf=1, min_samples_split=2, n_estimators=687; total time=   4.0s\n",
            "[CV] END criterion=squared_error, max_depth=531, max_features=auto, min_samples_leaf=3, min_samples_split=3, n_estimators=62; total time=   0.8s\n",
            "[CV] END criterion=squared_error, max_depth=531, max_features=auto, min_samples_leaf=3, min_samples_split=3, n_estimators=62; total time=   0.8s\n",
            "[CV] END criterion=squared_error, max_depth=531, max_features=auto, min_samples_leaf=3, min_samples_split=3, n_estimators=62; total time=   0.8s\n",
            "[CV] END criterion=squared_error, max_depth=531, max_features=auto, min_samples_leaf=3, min_samples_split=3, n_estimators=62; total time=   0.9s\n",
            "[CV] END criterion=squared_error, max_depth=531, max_features=auto, min_samples_leaf=3, min_samples_split=3, n_estimators=62; total time=   0.9s\n",
            "[CV] END criterion=poisson, max_depth=166, max_features=sqrt, min_samples_leaf=4, min_samples_split=5, n_estimators=687; total time=   6.7s\n",
            "[CV] END criterion=poisson, max_depth=166, max_features=sqrt, min_samples_leaf=4, min_samples_split=5, n_estimators=687; total time=   5.3s\n",
            "[CV] END criterion=poisson, max_depth=166, max_features=sqrt, min_samples_leaf=4, min_samples_split=5, n_estimators=687; total time=   5.9s\n",
            "[CV] END criterion=poisson, max_depth=166, max_features=sqrt, min_samples_leaf=4, min_samples_split=5, n_estimators=687; total time=   6.0s\n",
            "[CV] END criterion=poisson, max_depth=166, max_features=sqrt, min_samples_leaf=4, min_samples_split=5, n_estimators=687; total time=   5.3s\n",
            "[CV] END criterion=poisson, max_depth=687, max_features=auto, min_samples_leaf=2, min_samples_split=6, n_estimators=374; total time=  13.9s\n",
            "[CV] END criterion=poisson, max_depth=687, max_features=auto, min_samples_leaf=2, min_samples_split=6, n_estimators=374; total time=  13.9s\n",
            "[CV] END criterion=poisson, max_depth=687, max_features=auto, min_samples_leaf=2, min_samples_split=6, n_estimators=374; total time=  13.7s\n",
            "[CV] END criterion=poisson, max_depth=687, max_features=auto, min_samples_leaf=2, min_samples_split=6, n_estimators=374; total time=  13.5s\n",
            "[CV] END criterion=poisson, max_depth=687, max_features=auto, min_samples_leaf=2, min_samples_split=6, n_estimators=374; total time=  13.8s\n",
            "[CV] END criterion=poisson, max_depth=218, max_features=log2, min_samples_leaf=3, min_samples_split=3, n_estimators=478; total time=   4.1s\n",
            "[CV] END criterion=poisson, max_depth=218, max_features=log2, min_samples_leaf=3, min_samples_split=3, n_estimators=478; total time=   5.1s\n",
            "[CV] END criterion=poisson, max_depth=218, max_features=log2, min_samples_leaf=3, min_samples_split=3, n_estimators=478; total time=   3.7s\n",
            "[CV] END criterion=poisson, max_depth=218, max_features=log2, min_samples_leaf=3, min_samples_split=3, n_estimators=478; total time=   3.8s\n",
            "[CV] END criterion=poisson, max_depth=218, max_features=log2, min_samples_leaf=3, min_samples_split=3, n_estimators=478; total time=   5.5s\n",
            "[CV] END criterion=poisson, max_depth=322, max_features=sqrt, min_samples_leaf=2, min_samples_split=6, n_estimators=947; total time=   7.7s\n",
            "[CV] END criterion=poisson, max_depth=322, max_features=sqrt, min_samples_leaf=2, min_samples_split=6, n_estimators=947; total time=   9.3s\n",
            "[CV] END criterion=poisson, max_depth=322, max_features=sqrt, min_samples_leaf=2, min_samples_split=6, n_estimators=947; total time=   8.3s\n",
            "[CV] END criterion=poisson, max_depth=322, max_features=sqrt, min_samples_leaf=2, min_samples_split=6, n_estimators=947; total time=   8.8s\n",
            "[CV] END criterion=poisson, max_depth=322, max_features=sqrt, min_samples_leaf=2, min_samples_split=6, n_estimators=947; total time=   9.3s\n",
            "[CV] END criterion=poisson, max_depth=166, max_features=sqrt, min_samples_leaf=4, min_samples_split=5, n_estimators=635; total time=   4.8s\n",
            "[CV] END criterion=poisson, max_depth=166, max_features=sqrt, min_samples_leaf=4, min_samples_split=5, n_estimators=635; total time=   5.7s\n",
            "[CV] END criterion=poisson, max_depth=166, max_features=sqrt, min_samples_leaf=4, min_samples_split=5, n_estimators=635; total time=   5.4s\n",
            "[CV] END criterion=poisson, max_depth=166, max_features=sqrt, min_samples_leaf=4, min_samples_split=5, n_estimators=635; total time=   4.8s\n",
            "[CV] END criterion=poisson, max_depth=166, max_features=sqrt, min_samples_leaf=4, min_samples_split=5, n_estimators=635; total time=   6.5s\n",
            "[CV] END criterion=squared_error, max_depth=843, max_features=sqrt, min_samples_leaf=4, min_samples_split=2, n_estimators=62; total time=   0.3s\n",
            "[CV] END criterion=squared_error, max_depth=843, max_features=sqrt, min_samples_leaf=4, min_samples_split=2, n_estimators=62; total time=   0.3s\n",
            "[CV] END criterion=squared_error, max_depth=843, max_features=sqrt, min_samples_leaf=4, min_samples_split=2, n_estimators=62; total time=   0.3s\n",
            "[CV] END criterion=squared_error, max_depth=843, max_features=sqrt, min_samples_leaf=4, min_samples_split=2, n_estimators=62; total time=   0.3s\n",
            "[CV] END criterion=squared_error, max_depth=843, max_features=sqrt, min_samples_leaf=4, min_samples_split=2, n_estimators=62; total time=   0.3s\n",
            "[CV] END criterion=poisson, max_depth=374, max_features=sqrt, min_samples_leaf=1, min_samples_split=6, n_estimators=374; total time=   3.1s\n",
            "[CV] END criterion=poisson, max_depth=374, max_features=sqrt, min_samples_leaf=1, min_samples_split=6, n_estimators=374; total time=   3.4s\n",
            "[CV] END criterion=poisson, max_depth=374, max_features=sqrt, min_samples_leaf=1, min_samples_split=6, n_estimators=374; total time=   4.4s\n",
            "[CV] END criterion=poisson, max_depth=374, max_features=sqrt, min_samples_leaf=1, min_samples_split=6, n_estimators=374; total time=   3.2s\n",
            "[CV] END criterion=poisson, max_depth=374, max_features=sqrt, min_samples_leaf=1, min_samples_split=6, n_estimators=374; total time=   3.5s\n",
            "[CV] END criterion=squared_error, max_depth=635, max_features=auto, min_samples_leaf=2, min_samples_split=2, n_estimators=322; total time=   5.0s\n",
            "[CV] END criterion=squared_error, max_depth=635, max_features=auto, min_samples_leaf=2, min_samples_split=2, n_estimators=322; total time=   5.7s\n",
            "[CV] END criterion=squared_error, max_depth=635, max_features=auto, min_samples_leaf=2, min_samples_split=2, n_estimators=322; total time=   4.5s\n",
            "[CV] END criterion=squared_error, max_depth=635, max_features=auto, min_samples_leaf=2, min_samples_split=2, n_estimators=322; total time=   5.6s\n",
            "[CV] END criterion=squared_error, max_depth=635, max_features=auto, min_samples_leaf=2, min_samples_split=2, n_estimators=322; total time=   5.0s\n",
            "[CV] END criterion=squared_error, max_depth=635, max_features=log2, min_samples_leaf=3, min_samples_split=5, n_estimators=895; total time=   4.7s\n",
            "[CV] END criterion=squared_error, max_depth=635, max_features=log2, min_samples_leaf=3, min_samples_split=5, n_estimators=895; total time=   6.3s\n",
            "[CV] END criterion=squared_error, max_depth=635, max_features=log2, min_samples_leaf=3, min_samples_split=5, n_estimators=895; total time=   4.7s\n",
            "[CV] END criterion=squared_error, max_depth=635, max_features=log2, min_samples_leaf=3, min_samples_split=5, n_estimators=895; total time=   5.0s\n",
            "[CV] END criterion=squared_error, max_depth=635, max_features=log2, min_samples_leaf=3, min_samples_split=5, n_estimators=895; total time=   5.9s\n",
            "[CV] END criterion=squared_error, max_depth=478, max_features=auto, min_samples_leaf=3, min_samples_split=6, n_estimators=426; total time=   6.0s\n",
            "[CV] END criterion=squared_error, max_depth=478, max_features=auto, min_samples_leaf=3, min_samples_split=6, n_estimators=426; total time=   7.0s\n",
            "[CV] END criterion=squared_error, max_depth=478, max_features=auto, min_samples_leaf=3, min_samples_split=6, n_estimators=426; total time=   6.1s\n",
            "[CV] END criterion=squared_error, max_depth=478, max_features=auto, min_samples_leaf=3, min_samples_split=6, n_estimators=426; total time=   7.4s\n",
            "[CV] END criterion=squared_error, max_depth=478, max_features=auto, min_samples_leaf=3, min_samples_split=6, n_estimators=426; total time=   5.8s\n",
            "[CV] END criterion=poisson, max_depth=635, max_features=log2, min_samples_leaf=4, min_samples_split=5, n_estimators=1000; total time=   9.3s\n",
            "[CV] END criterion=poisson, max_depth=635, max_features=log2, min_samples_leaf=4, min_samples_split=5, n_estimators=1000; total time=   7.9s\n",
            "[CV] END criterion=poisson, max_depth=635, max_features=log2, min_samples_leaf=4, min_samples_split=5, n_estimators=1000; total time=   8.8s\n",
            "[CV] END criterion=poisson, max_depth=635, max_features=log2, min_samples_leaf=4, min_samples_split=5, n_estimators=1000; total time=   8.9s\n",
            "[CV] END criterion=poisson, max_depth=635, max_features=log2, min_samples_leaf=4, min_samples_split=5, n_estimators=1000; total time=   8.0s\n",
            "[CV] END criterion=poisson, max_depth=218, max_features=log2, min_samples_leaf=3, min_samples_split=3, n_estimators=426; total time=   3.7s\n",
            "[CV] END criterion=poisson, max_depth=218, max_features=log2, min_samples_leaf=3, min_samples_split=3, n_estimators=426; total time=   4.3s\n",
            "[CV] END criterion=poisson, max_depth=218, max_features=log2, min_samples_leaf=3, min_samples_split=3, n_estimators=426; total time=   3.7s\n",
            "[CV] END criterion=poisson, max_depth=218, max_features=log2, min_samples_leaf=3, min_samples_split=3, n_estimators=426; total time=   3.3s\n",
            "[CV] END criterion=poisson, max_depth=218, max_features=log2, min_samples_leaf=3, min_samples_split=3, n_estimators=426; total time=   4.3s\n",
            "[CV] END criterion=squared_error, max_depth=114, max_features=auto, min_samples_leaf=3, min_samples_split=2, n_estimators=635; total time=   9.2s\n",
            "[CV] END criterion=squared_error, max_depth=114, max_features=auto, min_samples_leaf=3, min_samples_split=2, n_estimators=635; total time=  10.3s\n",
            "[CV] END criterion=squared_error, max_depth=114, max_features=auto, min_samples_leaf=3, min_samples_split=2, n_estimators=635; total time=  10.0s\n",
            "[CV] END criterion=squared_error, max_depth=114, max_features=auto, min_samples_leaf=3, min_samples_split=2, n_estimators=635; total time=   9.0s\n",
            "[CV] END criterion=squared_error, max_depth=114, max_features=auto, min_samples_leaf=3, min_samples_split=2, n_estimators=635; total time=   9.9s\n",
            "[CV] END criterion=poisson, max_depth=374, max_features=log2, min_samples_leaf=4, min_samples_split=5, n_estimators=947; total time=   8.1s\n",
            "[CV] END criterion=poisson, max_depth=374, max_features=log2, min_samples_leaf=4, min_samples_split=5, n_estimators=947; total time=   7.9s\n",
            "[CV] END criterion=poisson, max_depth=374, max_features=log2, min_samples_leaf=4, min_samples_split=5, n_estimators=947; total time=   8.7s\n",
            "[CV] END criterion=poisson, max_depth=374, max_features=log2, min_samples_leaf=4, min_samples_split=5, n_estimators=947; total time=   7.1s\n",
            "[CV] END criterion=poisson, max_depth=374, max_features=log2, min_samples_leaf=4, min_samples_split=5, n_estimators=947; total time=   8.8s\n",
            "[CV] END criterion=squared_error, max_depth=583, max_features=log2, min_samples_leaf=2, min_samples_split=3, n_estimators=843; total time=   4.6s\n",
            "[CV] END criterion=squared_error, max_depth=583, max_features=log2, min_samples_leaf=2, min_samples_split=3, n_estimators=843; total time=   6.2s\n",
            "[CV] END criterion=squared_error, max_depth=583, max_features=log2, min_samples_leaf=2, min_samples_split=3, n_estimators=843; total time=   4.6s\n",
            "[CV] END criterion=squared_error, max_depth=583, max_features=log2, min_samples_leaf=2, min_samples_split=3, n_estimators=843; total time=   4.9s\n",
            "[CV] END criterion=squared_error, max_depth=583, max_features=log2, min_samples_leaf=2, min_samples_split=3, n_estimators=843; total time=   6.0s\n",
            "[CV] END criterion=poisson, max_depth=478, max_features=log2, min_samples_leaf=3, min_samples_split=5, n_estimators=687; total time=   5.6s\n",
            "[CV] END criterion=poisson, max_depth=478, max_features=log2, min_samples_leaf=3, min_samples_split=5, n_estimators=687; total time=   6.7s\n",
            "[CV] END criterion=poisson, max_depth=478, max_features=log2, min_samples_leaf=3, min_samples_split=5, n_estimators=687; total time=   5.7s\n",
            "[CV] END criterion=poisson, max_depth=478, max_features=log2, min_samples_leaf=3, min_samples_split=5, n_estimators=687; total time=   6.1s\n",
            "[CV] END criterion=poisson, max_depth=478, max_features=log2, min_samples_leaf=3, min_samples_split=5, n_estimators=687; total time=   6.2s\n",
            "[CV] END criterion=squared_error, max_depth=62, max_features=log2, min_samples_leaf=4, min_samples_split=2, n_estimators=10; total time=   0.1s\n",
            "[CV] END criterion=squared_error, max_depth=62, max_features=log2, min_samples_leaf=4, min_samples_split=2, n_estimators=10; total time=   0.0s\n",
            "[CV] END criterion=squared_error, max_depth=62, max_features=log2, min_samples_leaf=4, min_samples_split=2, n_estimators=10; total time=   0.0s\n",
            "[CV] END criterion=squared_error, max_depth=62, max_features=log2, min_samples_leaf=4, min_samples_split=2, n_estimators=10; total time=   0.1s\n",
            "[CV] END criterion=squared_error, max_depth=62, max_features=log2, min_samples_leaf=4, min_samples_split=2, n_estimators=10; total time=   0.1s\n",
            "[CV] END criterion=poisson, max_depth=374, max_features=sqrt, min_samples_leaf=1, min_samples_split=6, n_estimators=62; total time=   0.5s\n",
            "[CV] END criterion=poisson, max_depth=374, max_features=sqrt, min_samples_leaf=1, min_samples_split=6, n_estimators=62; total time=   0.5s\n",
            "[CV] END criterion=poisson, max_depth=374, max_features=sqrt, min_samples_leaf=1, min_samples_split=6, n_estimators=62; total time=   0.5s\n",
            "[CV] END criterion=poisson, max_depth=374, max_features=sqrt, min_samples_leaf=1, min_samples_split=6, n_estimators=62; total time=   0.5s\n",
            "[CV] END criterion=poisson, max_depth=374, max_features=sqrt, min_samples_leaf=1, min_samples_split=6, n_estimators=62; total time=   0.5s\n",
            "[CV] END criterion=poisson, max_depth=583, max_features=log2, min_samples_leaf=2, min_samples_split=6, n_estimators=62; total time=   0.5s\n",
            "[CV] END criterion=poisson, max_depth=583, max_features=log2, min_samples_leaf=2, min_samples_split=6, n_estimators=62; total time=   0.5s\n",
            "[CV] END criterion=poisson, max_depth=583, max_features=log2, min_samples_leaf=2, min_samples_split=6, n_estimators=62; total time=   0.5s\n",
            "[CV] END criterion=poisson, max_depth=583, max_features=log2, min_samples_leaf=2, min_samples_split=6, n_estimators=62; total time=   0.5s\n",
            "[CV] END criterion=poisson, max_depth=583, max_features=log2, min_samples_leaf=2, min_samples_split=6, n_estimators=62; total time=   0.5s\n",
            "[CV] END criterion=squared_error, max_depth=843, max_features=log2, min_samples_leaf=4, min_samples_split=3, n_estimators=791; total time=   5.6s\n",
            "[CV] END criterion=squared_error, max_depth=843, max_features=log2, min_samples_leaf=4, min_samples_split=3, n_estimators=791; total time=   3.9s\n",
            "[CV] END criterion=squared_error, max_depth=843, max_features=log2, min_samples_leaf=4, min_samples_split=3, n_estimators=791; total time=   4.0s\n",
            "[CV] END criterion=squared_error, max_depth=843, max_features=log2, min_samples_leaf=4, min_samples_split=3, n_estimators=791; total time=   5.5s\n",
            "[CV] END criterion=squared_error, max_depth=843, max_features=log2, min_samples_leaf=4, min_samples_split=3, n_estimators=791; total time=   4.0s\n",
            "[CV] END criterion=squared_error, max_depth=947, max_features=log2, min_samples_leaf=1, min_samples_split=3, n_estimators=478; total time=   2.8s\n",
            "[CV] END criterion=squared_error, max_depth=947, max_features=log2, min_samples_leaf=1, min_samples_split=3, n_estimators=478; total time=   2.9s\n",
            "[CV] END criterion=squared_error, max_depth=947, max_features=log2, min_samples_leaf=1, min_samples_split=3, n_estimators=478; total time=   4.0s\n",
            "[CV] END criterion=squared_error, max_depth=947, max_features=log2, min_samples_leaf=1, min_samples_split=3, n_estimators=478; total time=   2.7s\n",
            "[CV] END criterion=squared_error, max_depth=947, max_features=log2, min_samples_leaf=1, min_samples_split=3, n_estimators=478; total time=   3.0s\n",
            "[CV] END criterion=poisson, max_depth=426, max_features=auto, min_samples_leaf=1, min_samples_split=5, n_estimators=322; total time=  11.9s\n",
            "[CV] END criterion=poisson, max_depth=426, max_features=auto, min_samples_leaf=1, min_samples_split=5, n_estimators=322; total time=  11.9s\n",
            "[CV] END criterion=poisson, max_depth=426, max_features=auto, min_samples_leaf=1, min_samples_split=5, n_estimators=322; total time=  11.7s\n",
            "[CV] END criterion=poisson, max_depth=426, max_features=auto, min_samples_leaf=1, min_samples_split=5, n_estimators=322; total time=  10.4s\n",
            "[CV] END criterion=poisson, max_depth=426, max_features=auto, min_samples_leaf=1, min_samples_split=5, n_estimators=322; total time=  12.1s\n",
            "[CV] END criterion=poisson, max_depth=218, max_features=auto, min_samples_leaf=2, min_samples_split=3, n_estimators=947; total time=  35.0s\n",
            "[CV] END criterion=poisson, max_depth=218, max_features=auto, min_samples_leaf=2, min_samples_split=3, n_estimators=947; total time=  33.3s\n",
            "[CV] END criterion=poisson, max_depth=218, max_features=auto, min_samples_leaf=2, min_samples_split=3, n_estimators=947; total time=  34.0s\n",
            "[CV] END criterion=poisson, max_depth=218, max_features=auto, min_samples_leaf=2, min_samples_split=3, n_estimators=947; total time=  33.6s\n",
            "[CV] END criterion=poisson, max_depth=218, max_features=auto, min_samples_leaf=2, min_samples_split=3, n_estimators=947; total time=  34.0s\n",
            "[CV] END criterion=poisson, max_depth=531, max_features=sqrt, min_samples_leaf=2, min_samples_split=3, n_estimators=843; total time=   8.6s\n",
            "[CV] END criterion=poisson, max_depth=531, max_features=sqrt, min_samples_leaf=2, min_samples_split=3, n_estimators=843; total time=   7.5s\n",
            "[CV] END criterion=poisson, max_depth=531, max_features=sqrt, min_samples_leaf=2, min_samples_split=3, n_estimators=843; total time=   7.7s\n",
            "[CV] END criterion=poisson, max_depth=531, max_features=sqrt, min_samples_leaf=2, min_samples_split=3, n_estimators=843; total time=   8.2s\n",
            "[CV] END criterion=poisson, max_depth=531, max_features=sqrt, min_samples_leaf=2, min_samples_split=3, n_estimators=843; total time=   7.3s\n",
            "[CV] END criterion=squared_error, max_depth=635, max_features=sqrt, min_samples_leaf=4, min_samples_split=3, n_estimators=843; total time=   4.6s\n",
            "[CV] END criterion=squared_error, max_depth=635, max_features=sqrt, min_samples_leaf=4, min_samples_split=3, n_estimators=843; total time=   5.3s\n",
            "[CV] END criterion=squared_error, max_depth=635, max_features=sqrt, min_samples_leaf=4, min_samples_split=3, n_estimators=843; total time=   4.1s\n",
            "[CV] END criterion=squared_error, max_depth=635, max_features=sqrt, min_samples_leaf=4, min_samples_split=3, n_estimators=843; total time=   4.8s\n",
            "[CV] END criterion=squared_error, max_depth=635, max_features=sqrt, min_samples_leaf=4, min_samples_split=3, n_estimators=843; total time=   5.2s\n",
            "[CV] END criterion=squared_error, max_depth=478, max_features=auto, min_samples_leaf=1, min_samples_split=2, n_estimators=687; total time=  11.6s\n",
            "[CV] END criterion=squared_error, max_depth=478, max_features=auto, min_samples_leaf=1, min_samples_split=2, n_estimators=687; total time=  10.6s\n",
            "[CV] END criterion=squared_error, max_depth=478, max_features=auto, min_samples_leaf=1, min_samples_split=2, n_estimators=687; total time=  11.3s\n",
            "[CV] END criterion=squared_error, max_depth=478, max_features=auto, min_samples_leaf=1, min_samples_split=2, n_estimators=687; total time=  11.5s\n",
            "[CV] END criterion=squared_error, max_depth=478, max_features=auto, min_samples_leaf=1, min_samples_split=2, n_estimators=687; total time=  11.5s\n",
            "[CV] END criterion=squared_error, max_depth=843, max_features=log2, min_samples_leaf=1, min_samples_split=3, n_estimators=166; total time=   1.0s\n",
            "[CV] END criterion=squared_error, max_depth=843, max_features=log2, min_samples_leaf=1, min_samples_split=3, n_estimators=166; total time=   1.0s\n",
            "[CV] END criterion=squared_error, max_depth=843, max_features=log2, min_samples_leaf=1, min_samples_split=3, n_estimators=166; total time=   1.0s\n",
            "[CV] END criterion=squared_error, max_depth=843, max_features=log2, min_samples_leaf=1, min_samples_split=3, n_estimators=166; total time=   1.0s\n",
            "[CV] END criterion=squared_error, max_depth=843, max_features=log2, min_samples_leaf=1, min_samples_split=3, n_estimators=166; total time=   1.0s\n",
            "[CV] END criterion=poisson, max_depth=687, max_features=sqrt, min_samples_leaf=2, min_samples_split=3, n_estimators=62; total time=   0.5s\n",
            "[CV] END criterion=poisson, max_depth=687, max_features=sqrt, min_samples_leaf=2, min_samples_split=3, n_estimators=62; total time=   0.5s\n",
            "[CV] END criterion=poisson, max_depth=687, max_features=sqrt, min_samples_leaf=2, min_samples_split=3, n_estimators=62; total time=   0.5s\n",
            "[CV] END criterion=poisson, max_depth=687, max_features=sqrt, min_samples_leaf=2, min_samples_split=3, n_estimators=62; total time=   0.5s\n",
            "[CV] END criterion=poisson, max_depth=687, max_features=sqrt, min_samples_leaf=2, min_samples_split=3, n_estimators=62; total time=   1.0s\n",
            "[CV] END criterion=poisson, max_depth=426, max_features=log2, min_samples_leaf=2, min_samples_split=5, n_estimators=583; total time=   6.0s\n",
            "[CV] END criterion=poisson, max_depth=426, max_features=log2, min_samples_leaf=2, min_samples_split=5, n_estimators=583; total time=   4.7s\n",
            "[CV] END criterion=poisson, max_depth=426, max_features=log2, min_samples_leaf=2, min_samples_split=5, n_estimators=583; total time=   6.2s\n",
            "[CV] END criterion=poisson, max_depth=426, max_features=log2, min_samples_leaf=2, min_samples_split=5, n_estimators=583; total time=   4.8s\n",
            "[CV] END criterion=poisson, max_depth=426, max_features=log2, min_samples_leaf=2, min_samples_split=5, n_estimators=583; total time=   5.1s\n",
            "[CV] END criterion=squared_error, max_depth=478, max_features=log2, min_samples_leaf=1, min_samples_split=3, n_estimators=739; total time=   5.6s\n",
            "[CV] END criterion=squared_error, max_depth=478, max_features=log2, min_samples_leaf=1, min_samples_split=3, n_estimators=739; total time=   4.6s\n",
            "[CV] END criterion=squared_error, max_depth=478, max_features=log2, min_samples_leaf=1, min_samples_split=3, n_estimators=739; total time=   4.4s\n",
            "[CV] END criterion=squared_error, max_depth=478, max_features=log2, min_samples_leaf=1, min_samples_split=3, n_estimators=739; total time=   5.6s\n",
            "[CV] END criterion=squared_error, max_depth=478, max_features=log2, min_samples_leaf=1, min_samples_split=3, n_estimators=739; total time=   4.2s\n",
            "[CV] END criterion=poisson, max_depth=426, max_features=sqrt, min_samples_leaf=3, min_samples_split=6, n_estimators=166; total time=   1.3s\n",
            "[CV] END criterion=poisson, max_depth=426, max_features=sqrt, min_samples_leaf=3, min_samples_split=6, n_estimators=166; total time=   1.3s\n",
            "[CV] END criterion=poisson, max_depth=426, max_features=sqrt, min_samples_leaf=3, min_samples_split=6, n_estimators=166; total time=   1.7s\n",
            "[CV] END criterion=poisson, max_depth=426, max_features=sqrt, min_samples_leaf=3, min_samples_split=6, n_estimators=166; total time=   2.3s\n",
            "[CV] END criterion=poisson, max_depth=426, max_features=sqrt, min_samples_leaf=3, min_samples_split=6, n_estimators=166; total time=   1.7s\n",
            "[CV] END criterion=squared_error, max_depth=426, max_features=log2, min_samples_leaf=2, min_samples_split=5, n_estimators=478; total time=   2.5s\n",
            "[CV] END criterion=squared_error, max_depth=426, max_features=log2, min_samples_leaf=2, min_samples_split=5, n_estimators=478; total time=   2.6s\n",
            "[CV] END criterion=squared_error, max_depth=426, max_features=log2, min_samples_leaf=2, min_samples_split=5, n_estimators=478; total time=   2.6s\n",
            "[CV] END criterion=squared_error, max_depth=426, max_features=log2, min_samples_leaf=2, min_samples_split=5, n_estimators=478; total time=   3.4s\n",
            "[CV] END criterion=squared_error, max_depth=426, max_features=log2, min_samples_leaf=2, min_samples_split=5, n_estimators=478; total time=   3.3s\n",
            "[CV] END criterion=poisson, max_depth=114, max_features=sqrt, min_samples_leaf=1, min_samples_split=5, n_estimators=322; total time=   2.7s\n",
            "[CV] END criterion=poisson, max_depth=114, max_features=sqrt, min_samples_leaf=1, min_samples_split=5, n_estimators=322; total time=   2.7s\n",
            "[CV] END criterion=poisson, max_depth=114, max_features=sqrt, min_samples_leaf=1, min_samples_split=5, n_estimators=322; total time=   3.0s\n",
            "[CV] END criterion=poisson, max_depth=114, max_features=sqrt, min_samples_leaf=1, min_samples_split=5, n_estimators=322; total time=   3.9s\n",
            "[CV] END criterion=poisson, max_depth=114, max_features=sqrt, min_samples_leaf=1, min_samples_split=5, n_estimators=322; total time=   2.8s\n",
            "[CV] END criterion=poisson, max_depth=687, max_features=sqrt, min_samples_leaf=3, min_samples_split=5, n_estimators=791; total time=   6.5s\n",
            "[CV] END criterion=poisson, max_depth=687, max_features=sqrt, min_samples_leaf=3, min_samples_split=5, n_estimators=791; total time=   7.6s\n",
            "[CV] END criterion=poisson, max_depth=687, max_features=sqrt, min_samples_leaf=3, min_samples_split=5, n_estimators=791; total time=   6.2s\n",
            "[CV] END criterion=poisson, max_depth=687, max_features=sqrt, min_samples_leaf=3, min_samples_split=5, n_estimators=791; total time=   8.0s\n",
            "[CV] END criterion=poisson, max_depth=687, max_features=sqrt, min_samples_leaf=3, min_samples_split=5, n_estimators=791; total time=   6.3s\n",
            "[CV] END criterion=poisson, max_depth=635, max_features=log2, min_samples_leaf=4, min_samples_split=6, n_estimators=843; total time=   7.9s\n",
            "[CV] END criterion=poisson, max_depth=635, max_features=log2, min_samples_leaf=4, min_samples_split=6, n_estimators=843; total time=   6.6s\n",
            "[CV] END criterion=poisson, max_depth=635, max_features=log2, min_samples_leaf=4, min_samples_split=6, n_estimators=843; total time=   7.6s\n",
            "[CV] END criterion=poisson, max_depth=635, max_features=log2, min_samples_leaf=4, min_samples_split=6, n_estimators=843; total time=   6.6s\n",
            "[CV] END criterion=poisson, max_depth=635, max_features=log2, min_samples_leaf=4, min_samples_split=6, n_estimators=843; total time=   7.7s\n",
            "[CV] END criterion=squared_error, max_depth=739, max_features=sqrt, min_samples_leaf=2, min_samples_split=5, n_estimators=218; total time=   1.4s\n",
            "[CV] END criterion=squared_error, max_depth=739, max_features=sqrt, min_samples_leaf=2, min_samples_split=5, n_estimators=218; total time=   1.2s\n",
            "[CV] END criterion=squared_error, max_depth=739, max_features=sqrt, min_samples_leaf=2, min_samples_split=5, n_estimators=218; total time=   1.1s\n",
            "[CV] END criterion=squared_error, max_depth=739, max_features=sqrt, min_samples_leaf=2, min_samples_split=5, n_estimators=218; total time=   1.1s\n",
            "[CV] END criterion=squared_error, max_depth=739, max_features=sqrt, min_samples_leaf=2, min_samples_split=5, n_estimators=218; total time=   1.2s\n",
            "[CV] END criterion=squared_error, max_depth=270, max_features=log2, min_samples_leaf=2, min_samples_split=3, n_estimators=114; total time=   0.7s\n",
            "[CV] END criterion=squared_error, max_depth=270, max_features=log2, min_samples_leaf=2, min_samples_split=3, n_estimators=114; total time=   1.0s\n",
            "[CV] END criterion=squared_error, max_depth=270, max_features=log2, min_samples_leaf=2, min_samples_split=3, n_estimators=114; total time=   1.0s\n",
            "[CV] END criterion=squared_error, max_depth=270, max_features=log2, min_samples_leaf=2, min_samples_split=3, n_estimators=114; total time=   0.9s\n",
            "[CV] END criterion=squared_error, max_depth=270, max_features=log2, min_samples_leaf=2, min_samples_split=3, n_estimators=114; total time=   0.9s\n",
            "[CV] END criterion=squared_error, max_depth=426, max_features=log2, min_samples_leaf=4, min_samples_split=6, n_estimators=791; total time=   4.3s\n",
            "[CV] END criterion=squared_error, max_depth=426, max_features=log2, min_samples_leaf=4, min_samples_split=6, n_estimators=791; total time=   4.2s\n",
            "[CV] END criterion=squared_error, max_depth=426, max_features=log2, min_samples_leaf=4, min_samples_split=6, n_estimators=791; total time=   5.3s\n",
            "[CV] END criterion=squared_error, max_depth=426, max_features=log2, min_samples_leaf=4, min_samples_split=6, n_estimators=791; total time=   4.3s\n",
            "[CV] END criterion=squared_error, max_depth=426, max_features=log2, min_samples_leaf=4, min_samples_split=6, n_estimators=791; total time=   3.9s\n",
            "[CV] END criterion=poisson, max_depth=374, max_features=sqrt, min_samples_leaf=3, min_samples_split=5, n_estimators=166; total time=   1.3s\n",
            "[CV] END criterion=poisson, max_depth=374, max_features=sqrt, min_samples_leaf=3, min_samples_split=5, n_estimators=166; total time=   1.7s\n",
            "[CV] END criterion=poisson, max_depth=374, max_features=sqrt, min_samples_leaf=3, min_samples_split=5, n_estimators=166; total time=   2.0s\n",
            "[CV] END criterion=poisson, max_depth=374, max_features=sqrt, min_samples_leaf=3, min_samples_split=5, n_estimators=166; total time=   1.8s\n",
            "[CV] END criterion=poisson, max_depth=374, max_features=sqrt, min_samples_leaf=3, min_samples_split=5, n_estimators=166; total time=   1.3s\n",
            "[CV] END criterion=squared_error, max_depth=739, max_features=sqrt, min_samples_leaf=4, min_samples_split=2, n_estimators=478; total time=   2.4s\n",
            "[CV] END criterion=squared_error, max_depth=739, max_features=sqrt, min_samples_leaf=4, min_samples_split=2, n_estimators=478; total time=   2.4s\n",
            "[CV] END criterion=squared_error, max_depth=739, max_features=sqrt, min_samples_leaf=4, min_samples_split=2, n_estimators=478; total time=   2.7s\n",
            "[CV] END criterion=squared_error, max_depth=739, max_features=sqrt, min_samples_leaf=4, min_samples_split=2, n_estimators=478; total time=   3.1s\n",
            "[CV] END criterion=squared_error, max_depth=739, max_features=sqrt, min_samples_leaf=4, min_samples_split=2, n_estimators=478; total time=   2.9s\n",
            "[CV] END criterion=squared_error, max_depth=270, max_features=auto, min_samples_leaf=1, min_samples_split=6, n_estimators=791; total time=  12.5s\n",
            "[CV] END criterion=squared_error, max_depth=270, max_features=auto, min_samples_leaf=1, min_samples_split=6, n_estimators=791; total time=  11.9s\n",
            "[CV] END criterion=squared_error, max_depth=270, max_features=auto, min_samples_leaf=1, min_samples_split=6, n_estimators=791; total time=  12.1s\n",
            "[CV] END criterion=squared_error, max_depth=270, max_features=auto, min_samples_leaf=1, min_samples_split=6, n_estimators=791; total time=  12.8s\n",
            "[CV] END criterion=squared_error, max_depth=270, max_features=auto, min_samples_leaf=1, min_samples_split=6, n_estimators=791; total time=  12.7s\n",
            "[CV] END criterion=poisson, max_depth=322, max_features=log2, min_samples_leaf=1, min_samples_split=2, n_estimators=583; total time=   6.0s\n",
            "[CV] END criterion=poisson, max_depth=322, max_features=log2, min_samples_leaf=1, min_samples_split=2, n_estimators=583; total time=   5.6s\n",
            "[CV] END criterion=poisson, max_depth=322, max_features=log2, min_samples_leaf=1, min_samples_split=2, n_estimators=583; total time=   5.0s\n",
            "[CV] END criterion=poisson, max_depth=322, max_features=log2, min_samples_leaf=1, min_samples_split=2, n_estimators=583; total time=   6.6s\n",
            "[CV] END criterion=poisson, max_depth=322, max_features=log2, min_samples_leaf=1, min_samples_split=2, n_estimators=583; total time=   5.0s\n",
            "[CV] END criterion=squared_error, max_depth=478, max_features=log2, min_samples_leaf=1, min_samples_split=5, n_estimators=583; total time=   3.5s\n",
            "[CV] END criterion=squared_error, max_depth=478, max_features=log2, min_samples_leaf=1, min_samples_split=5, n_estimators=583; total time=   4.6s\n",
            "[CV] END criterion=squared_error, max_depth=478, max_features=log2, min_samples_leaf=1, min_samples_split=5, n_estimators=583; total time=   3.3s\n",
            "[CV] END criterion=squared_error, max_depth=478, max_features=log2, min_samples_leaf=1, min_samples_split=5, n_estimators=583; total time=   3.3s\n",
            "[CV] END criterion=squared_error, max_depth=478, max_features=log2, min_samples_leaf=1, min_samples_split=5, n_estimators=583; total time=   4.1s\n",
            "[CV] END criterion=poisson, max_depth=478, max_features=log2, min_samples_leaf=3, min_samples_split=5, n_estimators=10; total time=   0.1s\n",
            "[CV] END criterion=poisson, max_depth=478, max_features=log2, min_samples_leaf=3, min_samples_split=5, n_estimators=10; total time=   0.1s\n",
            "[CV] END criterion=poisson, max_depth=478, max_features=log2, min_samples_leaf=3, min_samples_split=5, n_estimators=10; total time=   0.1s\n",
            "[CV] END criterion=poisson, max_depth=478, max_features=log2, min_samples_leaf=3, min_samples_split=5, n_estimators=10; total time=   0.1s\n",
            "[CV] END criterion=poisson, max_depth=478, max_features=log2, min_samples_leaf=3, min_samples_split=5, n_estimators=10; total time=   0.1s\n",
            "[CV] END criterion=poisson, max_depth=374, max_features=sqrt, min_samples_leaf=2, min_samples_split=5, n_estimators=10; total time=   0.1s\n",
            "[CV] END criterion=poisson, max_depth=374, max_features=sqrt, min_samples_leaf=2, min_samples_split=5, n_estimators=10; total time=   0.1s\n",
            "[CV] END criterion=poisson, max_depth=374, max_features=sqrt, min_samples_leaf=2, min_samples_split=5, n_estimators=10; total time=   0.1s\n",
            "[CV] END criterion=poisson, max_depth=374, max_features=sqrt, min_samples_leaf=2, min_samples_split=5, n_estimators=10; total time=   0.1s\n",
            "[CV] END criterion=poisson, max_depth=374, max_features=sqrt, min_samples_leaf=2, min_samples_split=5, n_estimators=10; total time=   0.1s\n",
            "[CV] END criterion=squared_error, max_depth=635, max_features=auto, min_samples_leaf=2, min_samples_split=6, n_estimators=62; total time=   1.1s\n",
            "[CV] END criterion=squared_error, max_depth=635, max_features=auto, min_samples_leaf=2, min_samples_split=6, n_estimators=62; total time=   0.9s\n",
            "[CV] END criterion=squared_error, max_depth=635, max_features=auto, min_samples_leaf=2, min_samples_split=6, n_estimators=62; total time=   0.9s\n",
            "[CV] END criterion=squared_error, max_depth=635, max_features=auto, min_samples_leaf=2, min_samples_split=6, n_estimators=62; total time=   0.8s\n",
            "[CV] END criterion=squared_error, max_depth=635, max_features=auto, min_samples_leaf=2, min_samples_split=6, n_estimators=62; total time=   0.9s\n",
            "[CV] END criterion=poisson, max_depth=791, max_features=auto, min_samples_leaf=3, min_samples_split=6, n_estimators=635; total time=  22.1s\n",
            "[CV] END criterion=poisson, max_depth=791, max_features=auto, min_samples_leaf=3, min_samples_split=6, n_estimators=635; total time=  22.1s\n",
            "[CV] END criterion=poisson, max_depth=791, max_features=auto, min_samples_leaf=3, min_samples_split=6, n_estimators=635; total time=  22.7s\n",
            "[CV] END criterion=poisson, max_depth=791, max_features=auto, min_samples_leaf=3, min_samples_split=6, n_estimators=635; total time=  21.2s\n",
            "[CV] END criterion=poisson, max_depth=791, max_features=auto, min_samples_leaf=3, min_samples_split=6, n_estimators=635; total time=  23.1s\n",
            "[CV] END criterion=poisson, max_depth=426, max_features=log2, min_samples_leaf=2, min_samples_split=3, n_estimators=62; total time=   0.5s\n",
            "[CV] END criterion=poisson, max_depth=426, max_features=log2, min_samples_leaf=2, min_samples_split=3, n_estimators=62; total time=   0.5s\n",
            "[CV] END criterion=poisson, max_depth=426, max_features=log2, min_samples_leaf=2, min_samples_split=3, n_estimators=62; total time=   0.5s\n",
            "[CV] END criterion=poisson, max_depth=426, max_features=log2, min_samples_leaf=2, min_samples_split=3, n_estimators=62; total time=   0.5s\n",
            "[CV] END criterion=poisson, max_depth=426, max_features=log2, min_samples_leaf=2, min_samples_split=3, n_estimators=62; total time=   0.5s\n",
            "[CV] END criterion=poisson, max_depth=739, max_features=sqrt, min_samples_leaf=3, min_samples_split=2, n_estimators=531; total time=   4.5s\n",
            "[CV] END criterion=poisson, max_depth=739, max_features=sqrt, min_samples_leaf=3, min_samples_split=2, n_estimators=531; total time=   5.4s\n",
            "[CV] END criterion=poisson, max_depth=739, max_features=sqrt, min_samples_leaf=3, min_samples_split=2, n_estimators=531; total time=   4.2s\n",
            "[CV] END criterion=poisson, max_depth=739, max_features=sqrt, min_samples_leaf=3, min_samples_split=2, n_estimators=531; total time=   4.5s\n",
            "[CV] END criterion=poisson, max_depth=739, max_features=sqrt, min_samples_leaf=3, min_samples_split=2, n_estimators=531; total time=   5.4s\n",
            "[CV] END criterion=poisson, max_depth=1000, max_features=sqrt, min_samples_leaf=4, min_samples_split=6, n_estimators=583; total time=   4.7s\n",
            "[CV] END criterion=poisson, max_depth=1000, max_features=sqrt, min_samples_leaf=4, min_samples_split=6, n_estimators=583; total time=   4.8s\n",
            "[CV] END criterion=poisson, max_depth=1000, max_features=sqrt, min_samples_leaf=4, min_samples_split=6, n_estimators=583; total time=   5.6s\n",
            "[CV] END criterion=poisson, max_depth=1000, max_features=sqrt, min_samples_leaf=4, min_samples_split=6, n_estimators=583; total time=   4.4s\n",
            "[CV] END criterion=poisson, max_depth=1000, max_features=sqrt, min_samples_leaf=4, min_samples_split=6, n_estimators=583; total time=   5.3s\n",
            "[CV] END criterion=poisson, max_depth=374, max_features=sqrt, min_samples_leaf=2, min_samples_split=2, n_estimators=687; total time=   6.1s\n",
            "[CV] END criterion=poisson, max_depth=374, max_features=sqrt, min_samples_leaf=2, min_samples_split=2, n_estimators=687; total time=   6.0s\n",
            "[CV] END criterion=poisson, max_depth=374, max_features=sqrt, min_samples_leaf=2, min_samples_split=2, n_estimators=687; total time=   6.6s\n",
            "[CV] END criterion=poisson, max_depth=374, max_features=sqrt, min_samples_leaf=2, min_samples_split=2, n_estimators=687; total time=   6.0s\n",
            "[CV] END criterion=poisson, max_depth=374, max_features=sqrt, min_samples_leaf=2, min_samples_split=2, n_estimators=687; total time=   6.9s\n",
            "[CV] END criterion=poisson, max_depth=270, max_features=sqrt, min_samples_leaf=4, min_samples_split=2, n_estimators=62; total time=   0.5s\n",
            "[CV] END criterion=poisson, max_depth=270, max_features=sqrt, min_samples_leaf=4, min_samples_split=2, n_estimators=62; total time=   0.5s\n",
            "[CV] END criterion=poisson, max_depth=270, max_features=sqrt, min_samples_leaf=4, min_samples_split=2, n_estimators=62; total time=   0.5s\n",
            "[CV] END criterion=poisson, max_depth=270, max_features=sqrt, min_samples_leaf=4, min_samples_split=2, n_estimators=62; total time=   0.7s\n",
            "[CV] END criterion=poisson, max_depth=270, max_features=sqrt, min_samples_leaf=4, min_samples_split=2, n_estimators=62; total time=   0.6s\n",
            "[CV] END criterion=squared_error, max_depth=635, max_features=log2, min_samples_leaf=4, min_samples_split=5, n_estimators=166; total time=   0.8s\n",
            "[CV] END criterion=squared_error, max_depth=635, max_features=log2, min_samples_leaf=4, min_samples_split=5, n_estimators=166; total time=   0.8s\n",
            "[CV] END criterion=squared_error, max_depth=635, max_features=log2, min_samples_leaf=4, min_samples_split=5, n_estimators=166; total time=   0.8s\n",
            "[CV] END criterion=squared_error, max_depth=635, max_features=log2, min_samples_leaf=4, min_samples_split=5, n_estimators=166; total time=   0.8s\n",
            "[CV] END criterion=squared_error, max_depth=635, max_features=log2, min_samples_leaf=4, min_samples_split=5, n_estimators=166; total time=   0.8s\n",
            "[CV] END criterion=squared_error, max_depth=166, max_features=log2, min_samples_leaf=1, min_samples_split=6, n_estimators=270; total time=   2.0s\n",
            "[CV] END criterion=squared_error, max_depth=166, max_features=log2, min_samples_leaf=1, min_samples_split=6, n_estimators=270; total time=   2.2s\n",
            "[CV] END criterion=squared_error, max_depth=166, max_features=log2, min_samples_leaf=1, min_samples_split=6, n_estimators=270; total time=   1.5s\n",
            "[CV] END criterion=squared_error, max_depth=166, max_features=log2, min_samples_leaf=1, min_samples_split=6, n_estimators=270; total time=   1.8s\n",
            "[CV] END criterion=squared_error, max_depth=166, max_features=log2, min_samples_leaf=1, min_samples_split=6, n_estimators=270; total time=   1.5s\n",
            "[CV] END criterion=squared_error, max_depth=114, max_features=log2, min_samples_leaf=1, min_samples_split=5, n_estimators=583; total time=   3.3s\n",
            "[CV] END criterion=squared_error, max_depth=114, max_features=log2, min_samples_leaf=1, min_samples_split=5, n_estimators=583; total time=   4.1s\n",
            "[CV] END criterion=squared_error, max_depth=114, max_features=log2, min_samples_leaf=1, min_samples_split=5, n_estimators=583; total time=   4.1s\n",
            "[CV] END criterion=squared_error, max_depth=114, max_features=log2, min_samples_leaf=1, min_samples_split=5, n_estimators=583; total time=   3.3s\n",
            "[CV] END criterion=squared_error, max_depth=114, max_features=log2, min_samples_leaf=1, min_samples_split=5, n_estimators=583; total time=   3.3s\n",
            "[CV] END criterion=squared_error, max_depth=791, max_features=sqrt, min_samples_leaf=2, min_samples_split=5, n_estimators=635; total time=   4.5s\n",
            "[CV] END criterion=squared_error, max_depth=791, max_features=sqrt, min_samples_leaf=2, min_samples_split=5, n_estimators=635; total time=   3.9s\n",
            "[CV] END criterion=squared_error, max_depth=791, max_features=sqrt, min_samples_leaf=2, min_samples_split=5, n_estimators=635; total time=   3.5s\n",
            "[CV] END criterion=squared_error, max_depth=791, max_features=sqrt, min_samples_leaf=2, min_samples_split=5, n_estimators=635; total time=   3.7s\n",
            "[CV] END criterion=squared_error, max_depth=791, max_features=sqrt, min_samples_leaf=2, min_samples_split=5, n_estimators=635; total time=   4.8s\n",
            "[CV] END criterion=squared_error, max_depth=374, max_features=sqrt, min_samples_leaf=2, min_samples_split=6, n_estimators=739; total time=   3.9s\n",
            "[CV] END criterion=squared_error, max_depth=374, max_features=sqrt, min_samples_leaf=2, min_samples_split=6, n_estimators=739; total time=   4.3s\n",
            "[CV] END criterion=squared_error, max_depth=374, max_features=sqrt, min_samples_leaf=2, min_samples_split=6, n_estimators=739; total time=   5.2s\n",
            "[CV] END criterion=squared_error, max_depth=374, max_features=sqrt, min_samples_leaf=2, min_samples_split=6, n_estimators=739; total time=   4.2s\n",
            "[CV] END criterion=squared_error, max_depth=374, max_features=sqrt, min_samples_leaf=2, min_samples_split=6, n_estimators=739; total time=   3.9s\n",
            "[CV] END criterion=squared_error, max_depth=1000, max_features=log2, min_samples_leaf=4, min_samples_split=3, n_estimators=843; total time=   5.5s\n",
            "[CV] END criterion=squared_error, max_depth=1000, max_features=log2, min_samples_leaf=4, min_samples_split=3, n_estimators=843; total time=   4.6s\n",
            "[CV] END criterion=squared_error, max_depth=1000, max_features=log2, min_samples_leaf=4, min_samples_split=3, n_estimators=843; total time=   4.2s\n",
            "[CV] END criterion=squared_error, max_depth=1000, max_features=log2, min_samples_leaf=4, min_samples_split=3, n_estimators=843; total time=   5.9s\n",
            "[CV] END criterion=squared_error, max_depth=1000, max_features=log2, min_samples_leaf=4, min_samples_split=3, n_estimators=843; total time=   4.2s\n",
            "[CV] END criterion=poisson, max_depth=270, max_features=auto, min_samples_leaf=2, min_samples_split=5, n_estimators=426; total time=  15.2s\n",
            "[CV] END criterion=poisson, max_depth=270, max_features=auto, min_samples_leaf=2, min_samples_split=5, n_estimators=426; total time=  15.2s\n",
            "[CV] END criterion=poisson, max_depth=270, max_features=auto, min_samples_leaf=2, min_samples_split=5, n_estimators=426; total time=  15.1s\n",
            "[CV] END criterion=poisson, max_depth=270, max_features=auto, min_samples_leaf=2, min_samples_split=5, n_estimators=426; total time=  14.8s\n",
            "[CV] END criterion=poisson, max_depth=270, max_features=auto, min_samples_leaf=2, min_samples_split=5, n_estimators=426; total time=  16.2s\n",
            "[CV] END criterion=poisson, max_depth=218, max_features=log2, min_samples_leaf=4, min_samples_split=6, n_estimators=791; total time=   7.2s\n",
            "[CV] END criterion=poisson, max_depth=218, max_features=log2, min_samples_leaf=4, min_samples_split=6, n_estimators=791; total time=   6.6s\n",
            "[CV] END criterion=poisson, max_depth=218, max_features=log2, min_samples_leaf=4, min_samples_split=6, n_estimators=791; total time=   7.4s\n",
            "[CV] END criterion=poisson, max_depth=218, max_features=log2, min_samples_leaf=4, min_samples_split=6, n_estimators=791; total time=   6.2s\n",
            "[CV] END criterion=poisson, max_depth=218, max_features=log2, min_samples_leaf=4, min_samples_split=6, n_estimators=791; total time=   7.4s\n",
            "[CV] END criterion=squared_error, max_depth=478, max_features=sqrt, min_samples_leaf=1, min_samples_split=2, n_estimators=635; total time=   3.7s\n",
            "[CV] END criterion=squared_error, max_depth=478, max_features=sqrt, min_samples_leaf=1, min_samples_split=2, n_estimators=635; total time=   4.4s\n",
            "[CV] END criterion=squared_error, max_depth=478, max_features=sqrt, min_samples_leaf=1, min_samples_split=2, n_estimators=635; total time=   4.6s\n",
            "[CV] END criterion=squared_error, max_depth=478, max_features=sqrt, min_samples_leaf=1, min_samples_split=2, n_estimators=635; total time=   3.7s\n",
            "[CV] END criterion=squared_error, max_depth=478, max_features=sqrt, min_samples_leaf=1, min_samples_split=2, n_estimators=635; total time=   4.1s\n",
            "[CV] END criterion=poisson, max_depth=947, max_features=sqrt, min_samples_leaf=2, min_samples_split=6, n_estimators=531; total time=   5.6s\n",
            "[CV] END criterion=poisson, max_depth=947, max_features=sqrt, min_samples_leaf=2, min_samples_split=6, n_estimators=531; total time=   4.3s\n",
            "[CV] END criterion=poisson, max_depth=947, max_features=sqrt, min_samples_leaf=2, min_samples_split=6, n_estimators=531; total time=   4.9s\n",
            "[CV] END criterion=poisson, max_depth=947, max_features=sqrt, min_samples_leaf=2, min_samples_split=6, n_estimators=531; total time=   5.2s\n",
            "[CV] END criterion=poisson, max_depth=947, max_features=sqrt, min_samples_leaf=2, min_samples_split=6, n_estimators=531; total time=   4.5s\n",
            "[CV] END criterion=squared_error, max_depth=947, max_features=log2, min_samples_leaf=4, min_samples_split=6, n_estimators=687; total time=   3.5s\n",
            "[CV] END criterion=squared_error, max_depth=947, max_features=log2, min_samples_leaf=4, min_samples_split=6, n_estimators=687; total time=   4.6s\n",
            "[CV] END criterion=squared_error, max_depth=947, max_features=log2, min_samples_leaf=4, min_samples_split=6, n_estimators=687; total time=   3.7s\n",
            "[CV] END criterion=squared_error, max_depth=947, max_features=log2, min_samples_leaf=4, min_samples_split=6, n_estimators=687; total time=   3.4s\n",
            "[CV] END criterion=squared_error, max_depth=947, max_features=log2, min_samples_leaf=4, min_samples_split=6, n_estimators=687; total time=   4.3s\n",
            "[CV] END criterion=squared_error, max_depth=895, max_features=log2, min_samples_leaf=3, min_samples_split=3, n_estimators=791; total time=   4.8s\n",
            "[CV] END criterion=squared_error, max_depth=895, max_features=log2, min_samples_leaf=3, min_samples_split=3, n_estimators=791; total time=   4.2s\n",
            "[CV] END criterion=squared_error, max_depth=895, max_features=log2, min_samples_leaf=3, min_samples_split=3, n_estimators=791; total time=   4.9s\n",
            "[CV] END criterion=squared_error, max_depth=895, max_features=log2, min_samples_leaf=3, min_samples_split=3, n_estimators=791; total time=   4.9s\n",
            "[CV] END criterion=squared_error, max_depth=895, max_features=log2, min_samples_leaf=3, min_samples_split=3, n_estimators=791; total time=   4.2s\n",
            "[CV] END criterion=poisson, max_depth=10, max_features=sqrt, min_samples_leaf=1, min_samples_split=3, n_estimators=166; total time=   1.0s\n",
            "[CV] END criterion=poisson, max_depth=10, max_features=sqrt, min_samples_leaf=1, min_samples_split=3, n_estimators=166; total time=   1.0s\n",
            "[CV] END criterion=poisson, max_depth=10, max_features=sqrt, min_samples_leaf=1, min_samples_split=3, n_estimators=166; total time=   0.9s\n",
            "[CV] END criterion=poisson, max_depth=10, max_features=sqrt, min_samples_leaf=1, min_samples_split=3, n_estimators=166; total time=   1.1s\n",
            "[CV] END criterion=poisson, max_depth=10, max_features=sqrt, min_samples_leaf=1, min_samples_split=3, n_estimators=166; total time=   1.2s\n",
            "[CV] END criterion=squared_error, max_depth=583, max_features=sqrt, min_samples_leaf=2, min_samples_split=2, n_estimators=478; total time=   3.3s\n",
            "[CV] END criterion=squared_error, max_depth=583, max_features=sqrt, min_samples_leaf=2, min_samples_split=2, n_estimators=478; total time=   2.6s\n",
            "[CV] END criterion=squared_error, max_depth=583, max_features=sqrt, min_samples_leaf=2, min_samples_split=2, n_estimators=478; total time=   2.9s\n",
            "[CV] END criterion=squared_error, max_depth=583, max_features=sqrt, min_samples_leaf=2, min_samples_split=2, n_estimators=478; total time=   2.6s\n",
            "[CV] END criterion=squared_error, max_depth=583, max_features=sqrt, min_samples_leaf=2, min_samples_split=2, n_estimators=478; total time=   3.7s\n",
            "[CV] END criterion=poisson, max_depth=166, max_features=log2, min_samples_leaf=2, min_samples_split=6, n_estimators=62; total time=   0.7s\n",
            "[CV] END criterion=poisson, max_depth=166, max_features=log2, min_samples_leaf=2, min_samples_split=6, n_estimators=62; total time=   0.5s\n",
            "[CV] END criterion=poisson, max_depth=166, max_features=log2, min_samples_leaf=2, min_samples_split=6, n_estimators=62; total time=   0.5s\n",
            "[CV] END criterion=poisson, max_depth=166, max_features=log2, min_samples_leaf=2, min_samples_split=6, n_estimators=62; total time=   0.5s\n",
            "[CV] END criterion=poisson, max_depth=166, max_features=log2, min_samples_leaf=2, min_samples_split=6, n_estimators=62; total time=   0.5s\n",
            "[CV] END criterion=poisson, max_depth=10, max_features=auto, min_samples_leaf=3, min_samples_split=5, n_estimators=114; total time=   1.7s\n",
            "[CV] END criterion=poisson, max_depth=10, max_features=auto, min_samples_leaf=3, min_samples_split=5, n_estimators=114; total time=   1.5s\n",
            "[CV] END criterion=poisson, max_depth=10, max_features=auto, min_samples_leaf=3, min_samples_split=5, n_estimators=114; total time=   1.5s\n",
            "[CV] END criterion=poisson, max_depth=10, max_features=auto, min_samples_leaf=3, min_samples_split=5, n_estimators=114; total time=   1.4s\n",
            "[CV] END criterion=poisson, max_depth=10, max_features=auto, min_samples_leaf=3, min_samples_split=5, n_estimators=114; total time=   1.5s\n",
            "[CV] END criterion=squared_error, max_depth=374, max_features=auto, min_samples_leaf=4, min_samples_split=2, n_estimators=947; total time=  13.9s\n",
            "[CV] END criterion=squared_error, max_depth=374, max_features=auto, min_samples_leaf=4, min_samples_split=2, n_estimators=947; total time=  14.2s\n",
            "[CV] END criterion=squared_error, max_depth=374, max_features=auto, min_samples_leaf=4, min_samples_split=2, n_estimators=947; total time=  13.8s\n",
            "[CV] END criterion=squared_error, max_depth=374, max_features=auto, min_samples_leaf=4, min_samples_split=2, n_estimators=947; total time=  14.0s\n",
            "[CV] END criterion=squared_error, max_depth=374, max_features=auto, min_samples_leaf=4, min_samples_split=2, n_estimators=947; total time=  14.1s\n",
            "[CV] END criterion=poisson, max_depth=10, max_features=log2, min_samples_leaf=3, min_samples_split=6, n_estimators=635; total time=   5.0s\n",
            "[CV] END criterion=poisson, max_depth=10, max_features=log2, min_samples_leaf=3, min_samples_split=6, n_estimators=635; total time=   3.2s\n",
            "[CV] END criterion=poisson, max_depth=10, max_features=log2, min_samples_leaf=3, min_samples_split=6, n_estimators=635; total time=   3.2s\n",
            "[CV] END criterion=poisson, max_depth=10, max_features=log2, min_samples_leaf=3, min_samples_split=6, n_estimators=635; total time=   3.5s\n",
            "[CV] END criterion=poisson, max_depth=10, max_features=log2, min_samples_leaf=3, min_samples_split=6, n_estimators=635; total time=   4.5s\n",
            "[CV] END criterion=squared_error, max_depth=166, max_features=log2, min_samples_leaf=4, min_samples_split=5, n_estimators=947; total time=   4.7s\n",
            "[CV] END criterion=squared_error, max_depth=166, max_features=log2, min_samples_leaf=4, min_samples_split=5, n_estimators=947; total time=   5.0s\n",
            "[CV] END criterion=squared_error, max_depth=166, max_features=log2, min_samples_leaf=4, min_samples_split=5, n_estimators=947; total time=   5.9s\n",
            "[CV] END criterion=squared_error, max_depth=166, max_features=log2, min_samples_leaf=4, min_samples_split=5, n_estimators=947; total time=   5.0s\n",
            "[CV] END criterion=squared_error, max_depth=166, max_features=log2, min_samples_leaf=4, min_samples_split=5, n_estimators=947; total time=   5.6s\n",
            "[CV] END criterion=poisson, max_depth=1000, max_features=log2, min_samples_leaf=3, min_samples_split=6, n_estimators=374; total time=   3.6s\n",
            "[CV] END criterion=poisson, max_depth=1000, max_features=log2, min_samples_leaf=3, min_samples_split=6, n_estimators=374; total time=   2.9s\n",
            "[CV] END criterion=poisson, max_depth=1000, max_features=log2, min_samples_leaf=3, min_samples_split=6, n_estimators=374; total time=   2.9s\n",
            "[CV] END criterion=poisson, max_depth=1000, max_features=log2, min_samples_leaf=3, min_samples_split=6, n_estimators=374; total time=   3.6s\n",
            "[CV] END criterion=poisson, max_depth=1000, max_features=log2, min_samples_leaf=3, min_samples_split=6, n_estimators=374; total time=   3.8s\n",
            "[CV] END criterion=squared_error, max_depth=843, max_features=log2, min_samples_leaf=4, min_samples_split=5, n_estimators=635; total time=   3.1s\n",
            "[CV] END criterion=squared_error, max_depth=843, max_features=log2, min_samples_leaf=4, min_samples_split=5, n_estimators=635; total time=   3.1s\n",
            "[CV] END criterion=squared_error, max_depth=843, max_features=log2, min_samples_leaf=4, min_samples_split=5, n_estimators=635; total time=   3.7s\n",
            "[CV] END criterion=squared_error, max_depth=843, max_features=log2, min_samples_leaf=4, min_samples_split=5, n_estimators=635; total time=   4.2s\n",
            "[CV] END criterion=squared_error, max_depth=843, max_features=log2, min_samples_leaf=4, min_samples_split=5, n_estimators=635; total time=   3.2s\n",
            "[CV] END criterion=squared_error, max_depth=635, max_features=auto, min_samples_leaf=4, min_samples_split=2, n_estimators=114; total time=   1.5s\n",
            "[CV] END criterion=squared_error, max_depth=635, max_features=auto, min_samples_leaf=4, min_samples_split=2, n_estimators=114; total time=   1.8s\n",
            "[CV] END criterion=squared_error, max_depth=635, max_features=auto, min_samples_leaf=4, min_samples_split=2, n_estimators=114; total time=   1.5s\n",
            "[CV] END criterion=squared_error, max_depth=635, max_features=auto, min_samples_leaf=4, min_samples_split=2, n_estimators=114; total time=   1.8s\n",
            "[CV] END criterion=squared_error, max_depth=635, max_features=auto, min_samples_leaf=4, min_samples_split=2, n_estimators=114; total time=   2.3s\n",
            "[CV] END criterion=poisson, max_depth=947, max_features=auto, min_samples_leaf=3, min_samples_split=5, n_estimators=947; total time=  32.9s\n",
            "[CV] END criterion=poisson, max_depth=947, max_features=auto, min_samples_leaf=3, min_samples_split=5, n_estimators=947; total time=  32.6s\n",
            "[CV] END criterion=poisson, max_depth=947, max_features=auto, min_samples_leaf=3, min_samples_split=5, n_estimators=947; total time=  33.8s\n",
            "[CV] END criterion=poisson, max_depth=947, max_features=auto, min_samples_leaf=3, min_samples_split=5, n_estimators=947; total time=  32.2s\n",
            "[CV] END criterion=poisson, max_depth=947, max_features=auto, min_samples_leaf=3, min_samples_split=5, n_estimators=947; total time=  33.5s\n",
            "[CV] END criterion=squared_error, max_depth=114, max_features=sqrt, min_samples_leaf=3, min_samples_split=5, n_estimators=426; total time=   3.3s\n",
            "[CV] END criterion=squared_error, max_depth=114, max_features=sqrt, min_samples_leaf=3, min_samples_split=5, n_estimators=426; total time=   2.3s\n",
            "[CV] END criterion=squared_error, max_depth=114, max_features=sqrt, min_samples_leaf=3, min_samples_split=5, n_estimators=426; total time=   2.2s\n",
            "[CV] END criterion=squared_error, max_depth=114, max_features=sqrt, min_samples_leaf=3, min_samples_split=5, n_estimators=426; total time=   2.3s\n",
            "[CV] END criterion=squared_error, max_depth=114, max_features=sqrt, min_samples_leaf=3, min_samples_split=5, n_estimators=426; total time=   2.5s\n",
            "[CV] END criterion=squared_error, max_depth=166, max_features=log2, min_samples_leaf=3, min_samples_split=5, n_estimators=895; total time=   6.0s\n",
            "[CV] END criterion=squared_error, max_depth=166, max_features=log2, min_samples_leaf=3, min_samples_split=5, n_estimators=895; total time=   4.7s\n",
            "[CV] END criterion=squared_error, max_depth=166, max_features=log2, min_samples_leaf=3, min_samples_split=5, n_estimators=895; total time=   5.0s\n",
            "[CV] END criterion=squared_error, max_depth=166, max_features=log2, min_samples_leaf=3, min_samples_split=5, n_estimators=895; total time=   5.7s\n",
            "[CV] END criterion=squared_error, max_depth=166, max_features=log2, min_samples_leaf=3, min_samples_split=5, n_estimators=895; total time=   4.9s\n",
            "[CV] END criterion=squared_error, max_depth=583, max_features=sqrt, min_samples_leaf=2, min_samples_split=5, n_estimators=322; total time=   1.8s\n",
            "[CV] END criterion=squared_error, max_depth=583, max_features=sqrt, min_samples_leaf=2, min_samples_split=5, n_estimators=322; total time=   2.3s\n",
            "[CV] END criterion=squared_error, max_depth=583, max_features=sqrt, min_samples_leaf=2, min_samples_split=5, n_estimators=322; total time=   2.5s\n",
            "[CV] END criterion=squared_error, max_depth=583, max_features=sqrt, min_samples_leaf=2, min_samples_split=5, n_estimators=322; total time=   2.0s\n",
            "[CV] END criterion=squared_error, max_depth=583, max_features=sqrt, min_samples_leaf=2, min_samples_split=5, n_estimators=322; total time=   1.8s\n",
            "[CV] END criterion=poisson, max_depth=114, max_features=auto, min_samples_leaf=3, min_samples_split=6, n_estimators=218; total time=   7.3s\n",
            "[CV] END criterion=poisson, max_depth=114, max_features=auto, min_samples_leaf=3, min_samples_split=6, n_estimators=218; total time=   7.9s\n",
            "[CV] END criterion=poisson, max_depth=114, max_features=auto, min_samples_leaf=3, min_samples_split=6, n_estimators=218; total time=   8.0s\n",
            "[CV] END criterion=poisson, max_depth=114, max_features=auto, min_samples_leaf=3, min_samples_split=6, n_estimators=218; total time=   7.1s\n",
            "[CV] END criterion=poisson, max_depth=114, max_features=auto, min_samples_leaf=3, min_samples_split=6, n_estimators=218; total time=   8.3s\n",
            "[CV] END criterion=squared_error, max_depth=62, max_features=auto, min_samples_leaf=4, min_samples_split=2, n_estimators=843; total time=  12.1s\n",
            "[CV] END criterion=squared_error, max_depth=62, max_features=auto, min_samples_leaf=4, min_samples_split=2, n_estimators=843; total time=  11.9s\n",
            "[CV] END criterion=squared_error, max_depth=62, max_features=auto, min_samples_leaf=4, min_samples_split=2, n_estimators=843; total time=  12.5s\n",
            "[CV] END criterion=squared_error, max_depth=62, max_features=auto, min_samples_leaf=4, min_samples_split=2, n_estimators=843; total time=  12.7s\n",
            "[CV] END criterion=squared_error, max_depth=62, max_features=auto, min_samples_leaf=4, min_samples_split=2, n_estimators=843; total time=  12.9s\n",
            "[CV] END criterion=poisson, max_depth=322, max_features=sqrt, min_samples_leaf=2, min_samples_split=6, n_estimators=478; total time=   3.9s\n",
            "[CV] END criterion=poisson, max_depth=322, max_features=sqrt, min_samples_leaf=2, min_samples_split=6, n_estimators=478; total time=   5.1s\n",
            "[CV] END criterion=poisson, max_depth=322, max_features=sqrt, min_samples_leaf=2, min_samples_split=6, n_estimators=478; total time=   4.2s\n",
            "[CV] END criterion=poisson, max_depth=322, max_features=sqrt, min_samples_leaf=2, min_samples_split=6, n_estimators=478; total time=   3.9s\n",
            "[CV] END criterion=poisson, max_depth=322, max_features=sqrt, min_samples_leaf=2, min_samples_split=6, n_estimators=478; total time=   5.4s\n",
            "[CV] END criterion=poisson, max_depth=791, max_features=auto, min_samples_leaf=1, min_samples_split=2, n_estimators=739; total time=  27.0s\n",
            "[CV] END criterion=poisson, max_depth=791, max_features=auto, min_samples_leaf=1, min_samples_split=2, n_estimators=739; total time=  26.7s\n",
            "[CV] END criterion=poisson, max_depth=791, max_features=auto, min_samples_leaf=1, min_samples_split=2, n_estimators=739; total time=  26.6s\n",
            "[CV] END criterion=poisson, max_depth=791, max_features=auto, min_samples_leaf=1, min_samples_split=2, n_estimators=739; total time=  26.5s\n",
            "[CV] END criterion=poisson, max_depth=791, max_features=auto, min_samples_leaf=1, min_samples_split=2, n_estimators=739; total time=  27.5s\n",
            "[CV] END criterion=poisson, max_depth=426, max_features=sqrt, min_samples_leaf=3, min_samples_split=5, n_estimators=531; total time=   5.8s\n",
            "[CV] END criterion=poisson, max_depth=426, max_features=sqrt, min_samples_leaf=3, min_samples_split=5, n_estimators=531; total time=   4.2s\n",
            "[CV] END criterion=poisson, max_depth=426, max_features=sqrt, min_samples_leaf=3, min_samples_split=5, n_estimators=531; total time=   4.4s\n",
            "[CV] END criterion=poisson, max_depth=426, max_features=sqrt, min_samples_leaf=3, min_samples_split=5, n_estimators=531; total time=   5.5s\n",
            "[CV] END criterion=poisson, max_depth=426, max_features=sqrt, min_samples_leaf=3, min_samples_split=5, n_estimators=531; total time=   4.2s\n",
            "[CV] END criterion=squared_error, max_depth=270, max_features=log2, min_samples_leaf=1, min_samples_split=2, n_estimators=687; total time=   4.3s\n",
            "[CV] END criterion=squared_error, max_depth=270, max_features=log2, min_samples_leaf=1, min_samples_split=2, n_estimators=687; total time=   5.3s\n",
            "[CV] END criterion=squared_error, max_depth=270, max_features=log2, min_samples_leaf=1, min_samples_split=2, n_estimators=687; total time=   4.4s\n",
            "[CV] END criterion=squared_error, max_depth=270, max_features=log2, min_samples_leaf=1, min_samples_split=2, n_estimators=687; total time=   4.2s\n",
            "[CV] END criterion=squared_error, max_depth=270, max_features=log2, min_samples_leaf=1, min_samples_split=2, n_estimators=687; total time=   5.6s\n",
            "[CV] END criterion=squared_error, max_depth=10, max_features=sqrt, min_samples_leaf=1, min_samples_split=6, n_estimators=583; total time=   2.5s\n",
            "[CV] END criterion=squared_error, max_depth=10, max_features=sqrt, min_samples_leaf=1, min_samples_split=6, n_estimators=583; total time=   2.4s\n",
            "[CV] END criterion=squared_error, max_depth=10, max_features=sqrt, min_samples_leaf=1, min_samples_split=6, n_estimators=583; total time=   2.4s\n",
            "[CV] END criterion=squared_error, max_depth=10, max_features=sqrt, min_samples_leaf=1, min_samples_split=6, n_estimators=583; total time=   3.1s\n",
            "[CV] END criterion=squared_error, max_depth=10, max_features=sqrt, min_samples_leaf=1, min_samples_split=6, n_estimators=583; total time=   3.4s\n",
            "[CV] END criterion=squared_error, max_depth=114, max_features=log2, min_samples_leaf=1, min_samples_split=6, n_estimators=218; total time=   1.2s\n",
            "[CV] END criterion=squared_error, max_depth=114, max_features=log2, min_samples_leaf=1, min_samples_split=6, n_estimators=218; total time=   1.2s\n",
            "[CV] END criterion=squared_error, max_depth=114, max_features=log2, min_samples_leaf=1, min_samples_split=6, n_estimators=218; total time=   1.2s\n",
            "[CV] END criterion=squared_error, max_depth=114, max_features=log2, min_samples_leaf=1, min_samples_split=6, n_estimators=218; total time=   1.2s\n",
            "[CV] END criterion=squared_error, max_depth=114, max_features=log2, min_samples_leaf=1, min_samples_split=6, n_estimators=218; total time=   1.2s\n",
            "[CV] END criterion=poisson, max_depth=843, max_features=log2, min_samples_leaf=2, min_samples_split=6, n_estimators=843; total time=   8.5s\n",
            "[CV] END criterion=poisson, max_depth=843, max_features=log2, min_samples_leaf=2, min_samples_split=6, n_estimators=843; total time=   7.1s\n",
            "[CV] END criterion=poisson, max_depth=843, max_features=log2, min_samples_leaf=2, min_samples_split=6, n_estimators=843; total time=   8.1s\n",
            "[CV] END criterion=poisson, max_depth=843, max_features=log2, min_samples_leaf=2, min_samples_split=6, n_estimators=843; total time=   7.2s\n",
            "[CV] END criterion=poisson, max_depth=843, max_features=log2, min_samples_leaf=2, min_samples_split=6, n_estimators=843; total time=   8.5s\n",
            "[CV] END criterion=squared_error, max_depth=426, max_features=auto, min_samples_leaf=3, min_samples_split=2, n_estimators=322; total time=   4.4s\n",
            "[CV] END criterion=squared_error, max_depth=426, max_features=auto, min_samples_leaf=3, min_samples_split=2, n_estimators=322; total time=   5.9s\n",
            "[CV] END criterion=squared_error, max_depth=426, max_features=auto, min_samples_leaf=3, min_samples_split=2, n_estimators=322; total time=   4.3s\n",
            "[CV] END criterion=squared_error, max_depth=426, max_features=auto, min_samples_leaf=3, min_samples_split=2, n_estimators=322; total time=   4.3s\n",
            "[CV] END criterion=squared_error, max_depth=426, max_features=auto, min_samples_leaf=3, min_samples_split=2, n_estimators=322; total time=   6.0s\n",
            "[CV] END criterion=poisson, max_depth=1000, max_features=auto, min_samples_leaf=4, min_samples_split=3, n_estimators=583; total time=  19.6s\n",
            "[CV] END criterion=poisson, max_depth=1000, max_features=auto, min_samples_leaf=4, min_samples_split=3, n_estimators=583; total time=  20.2s\n",
            "[CV] END criterion=poisson, max_depth=1000, max_features=auto, min_samples_leaf=4, min_samples_split=3, n_estimators=583; total time=  19.9s\n",
            "[CV] END criterion=poisson, max_depth=1000, max_features=auto, min_samples_leaf=4, min_samples_split=3, n_estimators=583; total time=  19.4s\n",
            "[CV] END criterion=poisson, max_depth=1000, max_features=auto, min_samples_leaf=4, min_samples_split=3, n_estimators=583; total time=  21.3s\n"
          ]
        },
        {
          "output_type": "execute_result",
          "data": {
            "text/plain": [
              "RandomizedSearchCV(cv=5, estimator=RandomForestRegressor(), n_iter=100,\n",
              "                   param_distributions={'criterion': ['squared_error',\n",
              "                                                      'poisson'],\n",
              "                                        'max_depth': [10, 62, 114, 166, 218,\n",
              "                                                      270, 322, 374, 426, 478,\n",
              "                                                      531, 583, 635, 687, 739,\n",
              "                                                      791, 843, 895, 947,\n",
              "                                                      1000],\n",
              "                                        'max_features': ['auto', 'sqrt',\n",
              "                                                         'log2'],\n",
              "                                        'min_samples_leaf': [1, 2, 3, 4],\n",
              "                                        'min_samples_split': [2, 3, 5, 6],\n",
              "                                        'n_estimators': [10, 62, 114, 166, 218,\n",
              "                                                         270, 322, 374, 426,\n",
              "                                                         478, 531, 583, 635,\n",
              "                                                         687, 739, 791, 843,\n",
              "                                                         895, 947, 1000]},\n",
              "                   verbose=2)"
            ]
          },
          "metadata": {},
          "execution_count": 157
        }
      ]
    },
    {
      "cell_type": "code",
      "source": [
        "grid_search.best_params_"
      ],
      "metadata": {
        "colab": {
          "base_uri": "https://localhost:8080/"
        },
        "id": "a07DA8jHXevQ",
        "outputId": "04773025-792e-47ca-e291-9936c4a72af5"
      },
      "id": "a07DA8jHXevQ",
      "execution_count": 263,
      "outputs": [
        {
          "output_type": "execute_result",
          "data": {
            "text/plain": [
              "{'n_estimators': 687,\n",
              " 'min_samples_split': 2,\n",
              " 'min_samples_leaf': 1,\n",
              " 'max_features': 'log2',\n",
              " 'max_depth': 270,\n",
              " 'criterion': 'squared_error'}"
            ]
          },
          "metadata": {},
          "execution_count": 263
        }
      ]
    },
    {
      "cell_type": "code",
      "source": [
        "grid_search"
      ],
      "metadata": {
        "colab": {
          "base_uri": "https://localhost:8080/"
        },
        "id": "oAipsbWLXe1t",
        "outputId": "b7d0e62f-7384-4c95-c722-1a5b17ccf7c9"
      },
      "id": "oAipsbWLXe1t",
      "execution_count": 264,
      "outputs": [
        {
          "output_type": "execute_result",
          "data": {
            "text/plain": [
              "RandomizedSearchCV(cv=5, estimator=RandomForestRegressor(), n_iter=100,\n",
              "                   param_distributions={'criterion': ['squared_error',\n",
              "                                                      'poisson'],\n",
              "                                        'max_depth': [10, 62, 114, 166, 218,\n",
              "                                                      270, 322, 374, 426, 478,\n",
              "                                                      531, 583, 635, 687, 739,\n",
              "                                                      791, 843, 895, 947,\n",
              "                                                      1000],\n",
              "                                        'max_features': ['auto', 'sqrt',\n",
              "                                                         'log2'],\n",
              "                                        'min_samples_leaf': [1, 2, 3, 4],\n",
              "                                        'min_samples_split': [2, 3, 5, 6],\n",
              "                                        'n_estimators': [10, 62, 114, 166, 218,\n",
              "                                                         270, 322, 374, 426,\n",
              "                                                         478, 531, 583, 635,\n",
              "                                                         687, 739, 791, 843,\n",
              "                                                         895, 947, 1000]},\n",
              "                   verbose=2)"
            ]
          },
          "metadata": {},
          "execution_count": 264
        }
      ]
    },
    {
      "cell_type": "code",
      "source": [
        "grid_search.best_estimator_"
      ],
      "metadata": {
        "colab": {
          "base_uri": "https://localhost:8080/"
        },
        "id": "dU5058_lXe4o",
        "outputId": "b1de8e34-632e-4b9f-f830-580017491e00"
      },
      "id": "dU5058_lXe4o",
      "execution_count": 265,
      "outputs": [
        {
          "output_type": "execute_result",
          "data": {
            "text/plain": [
              "RandomForestRegressor(max_depth=270, max_features='log2', n_estimators=687)"
            ]
          },
          "metadata": {},
          "execution_count": 265
        }
      ]
    },
    {
      "cell_type": "code",
      "source": [
        "best_model = grid_search.best_estimator_"
      ],
      "metadata": {
        "id": "HejX6yVxXeyn"
      },
      "id": "HejX6yVxXeyn",
      "execution_count": 266,
      "outputs": []
    },
    {
      "cell_type": "code",
      "source": [
        "y_pred5=best_model.predict(x_test)"
      ],
      "metadata": {
        "id": "InHzV1cDXe7-"
      },
      "id": "InHzV1cDXe7-",
      "execution_count": 267,
      "outputs": []
    },
    {
      "cell_type": "code",
      "source": [
        "#R-squared value\n",
        "score5= metrics.r2_score(y_test,y_pred5)\n",
        "print(score5)"
      ],
      "metadata": {
        "colab": {
          "base_uri": "https://localhost:8080/"
        },
        "id": "oG76D4a4Xe_N",
        "outputId": "96ea5ca4-dd45-47d6-ada9-b54c957ca3a6"
      },
      "id": "oG76D4a4Xe_N",
      "execution_count": 268,
      "outputs": [
        {
          "output_type": "stream",
          "name": "stdout",
          "text": [
            "0.9780074532741992\n"
          ]
        }
      ]
    },
    {
      "cell_type": "code",
      "source": [
        "#mean square error\n",
        "s5= metrics.mean_squared_error(y_test,y_pred5)\n",
        "print(s5)\n"
      ],
      "metadata": {
        "colab": {
          "base_uri": "https://localhost:8080/"
        },
        "id": "64acWKvkXfCQ",
        "outputId": "a9bce124-8ae5-4839-da70-83a687ee6946"
      },
      "id": "64acWKvkXfCQ",
      "execution_count": 269,
      "outputs": [
        {
          "output_type": "stream",
          "name": "stdout",
          "text": [
            "0.017914359233024816\n"
          ]
        }
      ]
    },
    {
      "cell_type": "markdown",
      "source": [
        "we can see our model has impoved slightly. As we had already achieved a good R-square value previously with basic model the updated model is just slightly better than the previous one."
      ],
      "metadata": {
        "id": "VdnI267ZXfRl"
      },
      "id": "VdnI267ZXfRl"
    },
    {
      "cell_type": "markdown",
      "id": "554a6c48",
      "metadata": {
        "id": "554a6c48"
      },
      "source": [
        "# Now training our model on 100% data using random forest with optimum parameter values"
      ]
    },
    {
      "cell_type": "code",
      "execution_count": 270,
      "id": "6a285bbb",
      "metadata": {
        "id": "6a285bbb",
        "outputId": "6de44f9d-7f19-4e2e-ae73-125fe7e70e7d",
        "colab": {
          "base_uri": "https://localhost:8080/"
        }
      },
      "outputs": [
        {
          "output_type": "execute_result",
          "data": {
            "text/plain": [
              "RandomForestRegressor(max_depth=270, max_features='log2', n_estimators=687)"
            ]
          },
          "metadata": {},
          "execution_count": 270
        }
      ],
      "source": [
        "from sklearn.ensemble import RandomForestRegressor\n",
        "#model training\n",
        "model=RandomForestRegressor(n_estimators= 687,min_samples_split= 2,min_samples_leaf= 1,max_features= 'log2',max_depth= 270,criterion= 'squared_error')\n",
        "model.fit(x,y)"
      ]
    }
  ],
  "metadata": {
    "kernelspec": {
      "display_name": "Python 3 (ipykernel)",
      "language": "python",
      "name": "python3"
    },
    "language_info": {
      "codemirror_mode": {
        "name": "ipython",
        "version": 3
      },
      "file_extension": ".py",
      "mimetype": "text/x-python",
      "name": "python",
      "nbconvert_exporter": "python",
      "pygments_lexer": "ipython3",
      "version": "3.10.2"
    },
    "colab": {
      "provenance": [],
      "collapsed_sections": [
        "PtYqCEGkiCnt",
        "6edc3309",
        "-hcvdn5eeorp"
      ]
    },
    "accelerator": "GPU",
    "gpuClass": "standard"
  },
  "nbformat": 4,
  "nbformat_minor": 5
}
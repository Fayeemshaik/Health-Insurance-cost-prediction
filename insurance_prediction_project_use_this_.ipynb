{
  "cells": [
    {
      "cell_type": "markdown",
      "source": [
        "#**PROJECT ON HEALTH INSURANCE CLAIM AMOUNT PREDICTION**\n"
      ],
      "metadata": {
        "id": "R0ufVdLjVM3B"
      },
      "id": "R0ufVdLjVM3B"
    },
    {
      "cell_type": "markdown",
      "source": [
        "##**problem statement**\n",
        "A key challenge for the insurance industry is to charge each customer an appropriate premium for the risk they represent. The ability to predict a correct claim amount has a significant impact on insurer's management decisions and financial statements. Predicting the cost of claims in an insurance company is a real-life problem that needs to be solved in a more accurate and automated way. Several factors determine the cost of claims based on health factors like BMI, age, smoker, health conditions and others. Insurance companies apply numerous techniques for analyzing and predicting health insurance costs"
      ],
      "metadata": {
        "id": "PtYqCEGkiCnt"
      },
      "id": "PtYqCEGkiCnt"
    },
    {
      "cell_type": "markdown",
      "source": [
        "##**Data Definition**\n",
        "**age** : Age of the policyholder (Numeric)\n",
        "\n",
        "**sex**: Gender of policyholder (Categoric)\n",
        "\n",
        "**weight**: Weight of the policyholder (Numeric)\n",
        "\n",
        "**bmi**: Body mass index, providing an understanding of body, weights that are relatively high or low relative to height, objective index of body weight (kg / m ^ 2) using the ratio of height to weight (Numeric)\n",
        "\n",
        "**no_of_dependents**: Number of dependent persons on the policyholder (Numeric)\n",
        "\n",
        "**smoker**: Indicates policyholder is a smoker or a non-smoker (non-smoker=0;smoker=1) (Categoric)\n",
        "\n",
        "**claim**: The amount claimed by the policyholder (Numeric)\n",
        "\n",
        "**bloodpressure**: Bloodpressure reading of policyholder (Numeric)\n",
        "\n",
        "**diabetes**: Indicates policyholder suffers from diabetes or not (non-diabetic=0; diabetic=1) (Categoric)\n",
        "\n",
        "**regular_ex**: A policyholder regularly excercises or not (no-excercise=0; excercise=1) (Categoric)\n",
        "\n",
        "**job_title**: Job profile of the policyholder (Categoric)\n",
        "\n",
        "**city**: The city in which the policyholder resides (Categoric)\n",
        "\n",
        "**hereditary_diseases**: A policyholder suffering from a hereditary diseases or not (Categoric)\n",
        "\n"
      ],
      "metadata": {
        "id": "BqdpQA71i5F2"
      },
      "id": "BqdpQA71i5F2"
    },
    {
      "cell_type": "code",
      "source": [
        "from google.colab import drive\n",
        "drive.mount('/content/drive')"
      ],
      "metadata": {
        "colab": {
          "base_uri": "https://localhost:8080/"
        },
        "id": "-ZFvno2LP6BZ",
        "outputId": "c9dbdabe-ae2d-40d1-d5d5-79b697d4b517"
      },
      "id": "-ZFvno2LP6BZ",
      "execution_count": null,
      "outputs": [
        {
          "output_type": "stream",
          "name": "stdout",
          "text": [
            "Mounted at /content/drive\n"
          ]
        }
      ]
    },
    {
      "cell_type": "markdown",
      "id": "c31c7ea4",
      "metadata": {
        "id": "c31c7ea4"
      },
      "source": [
        "# importing libraries"
      ]
    },
    {
      "cell_type": "code",
      "execution_count": null,
      "id": "60f05339",
      "metadata": {
        "id": "60f05339"
      },
      "outputs": [],
      "source": [
        "import numpy as np\n",
        "import pandas as pd\n",
        "from matplotlib import pyplot as plt\n",
        "import seaborn as sns\n",
        "from sklearn import preprocessing"
      ]
    },
    {
      "cell_type": "markdown",
      "id": "1981145a",
      "metadata": {
        "id": "1981145a"
      },
      "source": [
        "# importing dataset"
      ]
    },
    {
      "cell_type": "code",
      "execution_count": null,
      "id": "6a231dc8",
      "metadata": {
        "id": "6a231dc8",
        "outputId": "ad2ad855-c504-4989-b371-c5c9f584224f",
        "colab": {
          "base_uri": "https://localhost:8080/",
          "height": 424
        }
      },
      "outputs": [
        {
          "output_type": "execute_result",
          "data": {
            "text/plain": [
              "        age     sex  weight   bmi hereditary_diseases  no_of_dependents  \\\n",
              "0      60.0    male      64  24.3           NoDisease                 1   \n",
              "1      49.0  female      75  22.6           NoDisease                 1   \n",
              "2      32.0  female      64  17.8            Epilepsy                 2   \n",
              "3      61.0  female      53  36.4           NoDisease                 1   \n",
              "4      19.0  female      50  20.6           NoDisease                 0   \n",
              "...     ...     ...     ...   ...                 ...               ...   \n",
              "14995  39.0    male      49  28.3           NoDisease                 1   \n",
              "14996  39.0    male      74  29.6           NoDisease                 4   \n",
              "14997  20.0    male      62  33.3           NoDisease                 0   \n",
              "14998  52.0    male      88  36.7           NoDisease                 0   \n",
              "14999  52.0    male      57  26.4           NoDisease                 3   \n",
              "\n",
              "       smoker         city  bloodpressure  diabetes  regular_ex  \\\n",
              "0           0      NewYork             72         0           0   \n",
              "1           0       Boston             78         1           1   \n",
              "2           1  Phildelphia             88         1           1   \n",
              "3           1    Pittsburg             72         1           0   \n",
              "4           0      Buffalo             82         1           0   \n",
              "...       ...          ...            ...       ...         ...   \n",
              "14995       1     Florence             54         1           0   \n",
              "14996       0        Miami             64         1           0   \n",
              "14997       0        Tampa             52         1           0   \n",
              "14998       0   PanamaCity             70         1           0   \n",
              "14999       0    Kingsport             72         1           0   \n",
              "\n",
              "             job_title    claim  \n",
              "0                Actor  13112.6  \n",
              "1             Engineer   9567.0  \n",
              "2          Academician  32734.2  \n",
              "3                 Chef  48517.6  \n",
              "4           HomeMakers   1731.7  \n",
              "...                ...      ...  \n",
              "14995        FilmMaker  21082.2  \n",
              "14996          Student   7512.3  \n",
              "14997  FashionDesigner   1391.5  \n",
              "14998           Farmer   9144.6  \n",
              "14999          Manager  25992.8  \n",
              "\n",
              "[15000 rows x 13 columns]"
            ],
            "text/html": [
              "\n",
              "  <div id=\"df-778e0c19-43da-494d-a824-02fff92e09b3\">\n",
              "    <div class=\"colab-df-container\">\n",
              "      <div>\n",
              "<style scoped>\n",
              "    .dataframe tbody tr th:only-of-type {\n",
              "        vertical-align: middle;\n",
              "    }\n",
              "\n",
              "    .dataframe tbody tr th {\n",
              "        vertical-align: top;\n",
              "    }\n",
              "\n",
              "    .dataframe thead th {\n",
              "        text-align: right;\n",
              "    }\n",
              "</style>\n",
              "<table border=\"1\" class=\"dataframe\">\n",
              "  <thead>\n",
              "    <tr style=\"text-align: right;\">\n",
              "      <th></th>\n",
              "      <th>age</th>\n",
              "      <th>sex</th>\n",
              "      <th>weight</th>\n",
              "      <th>bmi</th>\n",
              "      <th>hereditary_diseases</th>\n",
              "      <th>no_of_dependents</th>\n",
              "      <th>smoker</th>\n",
              "      <th>city</th>\n",
              "      <th>bloodpressure</th>\n",
              "      <th>diabetes</th>\n",
              "      <th>regular_ex</th>\n",
              "      <th>job_title</th>\n",
              "      <th>claim</th>\n",
              "    </tr>\n",
              "  </thead>\n",
              "  <tbody>\n",
              "    <tr>\n",
              "      <th>0</th>\n",
              "      <td>60.0</td>\n",
              "      <td>male</td>\n",
              "      <td>64</td>\n",
              "      <td>24.3</td>\n",
              "      <td>NoDisease</td>\n",
              "      <td>1</td>\n",
              "      <td>0</td>\n",
              "      <td>NewYork</td>\n",
              "      <td>72</td>\n",
              "      <td>0</td>\n",
              "      <td>0</td>\n",
              "      <td>Actor</td>\n",
              "      <td>13112.6</td>\n",
              "    </tr>\n",
              "    <tr>\n",
              "      <th>1</th>\n",
              "      <td>49.0</td>\n",
              "      <td>female</td>\n",
              "      <td>75</td>\n",
              "      <td>22.6</td>\n",
              "      <td>NoDisease</td>\n",
              "      <td>1</td>\n",
              "      <td>0</td>\n",
              "      <td>Boston</td>\n",
              "      <td>78</td>\n",
              "      <td>1</td>\n",
              "      <td>1</td>\n",
              "      <td>Engineer</td>\n",
              "      <td>9567.0</td>\n",
              "    </tr>\n",
              "    <tr>\n",
              "      <th>2</th>\n",
              "      <td>32.0</td>\n",
              "      <td>female</td>\n",
              "      <td>64</td>\n",
              "      <td>17.8</td>\n",
              "      <td>Epilepsy</td>\n",
              "      <td>2</td>\n",
              "      <td>1</td>\n",
              "      <td>Phildelphia</td>\n",
              "      <td>88</td>\n",
              "      <td>1</td>\n",
              "      <td>1</td>\n",
              "      <td>Academician</td>\n",
              "      <td>32734.2</td>\n",
              "    </tr>\n",
              "    <tr>\n",
              "      <th>3</th>\n",
              "      <td>61.0</td>\n",
              "      <td>female</td>\n",
              "      <td>53</td>\n",
              "      <td>36.4</td>\n",
              "      <td>NoDisease</td>\n",
              "      <td>1</td>\n",
              "      <td>1</td>\n",
              "      <td>Pittsburg</td>\n",
              "      <td>72</td>\n",
              "      <td>1</td>\n",
              "      <td>0</td>\n",
              "      <td>Chef</td>\n",
              "      <td>48517.6</td>\n",
              "    </tr>\n",
              "    <tr>\n",
              "      <th>4</th>\n",
              "      <td>19.0</td>\n",
              "      <td>female</td>\n",
              "      <td>50</td>\n",
              "      <td>20.6</td>\n",
              "      <td>NoDisease</td>\n",
              "      <td>0</td>\n",
              "      <td>0</td>\n",
              "      <td>Buffalo</td>\n",
              "      <td>82</td>\n",
              "      <td>1</td>\n",
              "      <td>0</td>\n",
              "      <td>HomeMakers</td>\n",
              "      <td>1731.7</td>\n",
              "    </tr>\n",
              "    <tr>\n",
              "      <th>...</th>\n",
              "      <td>...</td>\n",
              "      <td>...</td>\n",
              "      <td>...</td>\n",
              "      <td>...</td>\n",
              "      <td>...</td>\n",
              "      <td>...</td>\n",
              "      <td>...</td>\n",
              "      <td>...</td>\n",
              "      <td>...</td>\n",
              "      <td>...</td>\n",
              "      <td>...</td>\n",
              "      <td>...</td>\n",
              "      <td>...</td>\n",
              "    </tr>\n",
              "    <tr>\n",
              "      <th>14995</th>\n",
              "      <td>39.0</td>\n",
              "      <td>male</td>\n",
              "      <td>49</td>\n",
              "      <td>28.3</td>\n",
              "      <td>NoDisease</td>\n",
              "      <td>1</td>\n",
              "      <td>1</td>\n",
              "      <td>Florence</td>\n",
              "      <td>54</td>\n",
              "      <td>1</td>\n",
              "      <td>0</td>\n",
              "      <td>FilmMaker</td>\n",
              "      <td>21082.2</td>\n",
              "    </tr>\n",
              "    <tr>\n",
              "      <th>14996</th>\n",
              "      <td>39.0</td>\n",
              "      <td>male</td>\n",
              "      <td>74</td>\n",
              "      <td>29.6</td>\n",
              "      <td>NoDisease</td>\n",
              "      <td>4</td>\n",
              "      <td>0</td>\n",
              "      <td>Miami</td>\n",
              "      <td>64</td>\n",
              "      <td>1</td>\n",
              "      <td>0</td>\n",
              "      <td>Student</td>\n",
              "      <td>7512.3</td>\n",
              "    </tr>\n",
              "    <tr>\n",
              "      <th>14997</th>\n",
              "      <td>20.0</td>\n",
              "      <td>male</td>\n",
              "      <td>62</td>\n",
              "      <td>33.3</td>\n",
              "      <td>NoDisease</td>\n",
              "      <td>0</td>\n",
              "      <td>0</td>\n",
              "      <td>Tampa</td>\n",
              "      <td>52</td>\n",
              "      <td>1</td>\n",
              "      <td>0</td>\n",
              "      <td>FashionDesigner</td>\n",
              "      <td>1391.5</td>\n",
              "    </tr>\n",
              "    <tr>\n",
              "      <th>14998</th>\n",
              "      <td>52.0</td>\n",
              "      <td>male</td>\n",
              "      <td>88</td>\n",
              "      <td>36.7</td>\n",
              "      <td>NoDisease</td>\n",
              "      <td>0</td>\n",
              "      <td>0</td>\n",
              "      <td>PanamaCity</td>\n",
              "      <td>70</td>\n",
              "      <td>1</td>\n",
              "      <td>0</td>\n",
              "      <td>Farmer</td>\n",
              "      <td>9144.6</td>\n",
              "    </tr>\n",
              "    <tr>\n",
              "      <th>14999</th>\n",
              "      <td>52.0</td>\n",
              "      <td>male</td>\n",
              "      <td>57</td>\n",
              "      <td>26.4</td>\n",
              "      <td>NoDisease</td>\n",
              "      <td>3</td>\n",
              "      <td>0</td>\n",
              "      <td>Kingsport</td>\n",
              "      <td>72</td>\n",
              "      <td>1</td>\n",
              "      <td>0</td>\n",
              "      <td>Manager</td>\n",
              "      <td>25992.8</td>\n",
              "    </tr>\n",
              "  </tbody>\n",
              "</table>\n",
              "<p>15000 rows × 13 columns</p>\n",
              "</div>\n",
              "      <button class=\"colab-df-convert\" onclick=\"convertToInteractive('df-778e0c19-43da-494d-a824-02fff92e09b3')\"\n",
              "              title=\"Convert this dataframe to an interactive table.\"\n",
              "              style=\"display:none;\">\n",
              "        \n",
              "  <svg xmlns=\"http://www.w3.org/2000/svg\" height=\"24px\"viewBox=\"0 0 24 24\"\n",
              "       width=\"24px\">\n",
              "    <path d=\"M0 0h24v24H0V0z\" fill=\"none\"/>\n",
              "    <path d=\"M18.56 5.44l.94 2.06.94-2.06 2.06-.94-2.06-.94-.94-2.06-.94 2.06-2.06.94zm-11 1L8.5 8.5l.94-2.06 2.06-.94-2.06-.94L8.5 2.5l-.94 2.06-2.06.94zm10 10l.94 2.06.94-2.06 2.06-.94-2.06-.94-.94-2.06-.94 2.06-2.06.94z\"/><path d=\"M17.41 7.96l-1.37-1.37c-.4-.4-.92-.59-1.43-.59-.52 0-1.04.2-1.43.59L10.3 9.45l-7.72 7.72c-.78.78-.78 2.05 0 2.83L4 21.41c.39.39.9.59 1.41.59.51 0 1.02-.2 1.41-.59l7.78-7.78 2.81-2.81c.8-.78.8-2.07 0-2.86zM5.41 20L4 18.59l7.72-7.72 1.47 1.35L5.41 20z\"/>\n",
              "  </svg>\n",
              "      </button>\n",
              "      \n",
              "  <style>\n",
              "    .colab-df-container {\n",
              "      display:flex;\n",
              "      flex-wrap:wrap;\n",
              "      gap: 12px;\n",
              "    }\n",
              "\n",
              "    .colab-df-convert {\n",
              "      background-color: #E8F0FE;\n",
              "      border: none;\n",
              "      border-radius: 50%;\n",
              "      cursor: pointer;\n",
              "      display: none;\n",
              "      fill: #1967D2;\n",
              "      height: 32px;\n",
              "      padding: 0 0 0 0;\n",
              "      width: 32px;\n",
              "    }\n",
              "\n",
              "    .colab-df-convert:hover {\n",
              "      background-color: #E2EBFA;\n",
              "      box-shadow: 0px 1px 2px rgba(60, 64, 67, 0.3), 0px 1px 3px 1px rgba(60, 64, 67, 0.15);\n",
              "      fill: #174EA6;\n",
              "    }\n",
              "\n",
              "    [theme=dark] .colab-df-convert {\n",
              "      background-color: #3B4455;\n",
              "      fill: #D2E3FC;\n",
              "    }\n",
              "\n",
              "    [theme=dark] .colab-df-convert:hover {\n",
              "      background-color: #434B5C;\n",
              "      box-shadow: 0px 1px 3px 1px rgba(0, 0, 0, 0.15);\n",
              "      filter: drop-shadow(0px 1px 2px rgba(0, 0, 0, 0.3));\n",
              "      fill: #FFFFFF;\n",
              "    }\n",
              "  </style>\n",
              "\n",
              "      <script>\n",
              "        const buttonEl =\n",
              "          document.querySelector('#df-778e0c19-43da-494d-a824-02fff92e09b3 button.colab-df-convert');\n",
              "        buttonEl.style.display =\n",
              "          google.colab.kernel.accessAllowed ? 'block' : 'none';\n",
              "\n",
              "        async function convertToInteractive(key) {\n",
              "          const element = document.querySelector('#df-778e0c19-43da-494d-a824-02fff92e09b3');\n",
              "          const dataTable =\n",
              "            await google.colab.kernel.invokeFunction('convertToInteractive',\n",
              "                                                     [key], {});\n",
              "          if (!dataTable) return;\n",
              "\n",
              "          const docLinkHtml = 'Like what you see? Visit the ' +\n",
              "            '<a target=\"_blank\" href=https://colab.research.google.com/notebooks/data_table.ipynb>data table notebook</a>'\n",
              "            + ' to learn more about interactive tables.';\n",
              "          element.innerHTML = '';\n",
              "          dataTable['output_type'] = 'display_data';\n",
              "          await google.colab.output.renderOutput(dataTable, element);\n",
              "          const docLink = document.createElement('div');\n",
              "          docLink.innerHTML = docLinkHtml;\n",
              "          element.appendChild(docLink);\n",
              "        }\n",
              "      </script>\n",
              "    </div>\n",
              "  </div>\n",
              "  "
            ]
          },
          "metadata": {},
          "execution_count": 5
        }
      ],
      "source": [
        "ids = pd.read_csv(\"/content/drive/MyDrive/Academic_projects/DMMLT_project/healthinsurance.csv\")\n",
        "ids"
      ]
    },
    {
      "cell_type": "code",
      "source": [
        "ids.shape"
      ],
      "metadata": {
        "id": "H3Sop-J4kyqT",
        "colab": {
          "base_uri": "https://localhost:8080/"
        },
        "outputId": "1f8d28c7-3251-4052-a93b-c9e4d9ae8fb6"
      },
      "id": "H3Sop-J4kyqT",
      "execution_count": null,
      "outputs": [
        {
          "output_type": "execute_result",
          "data": {
            "text/plain": [
              "(15000, 13)"
            ]
          },
          "metadata": {},
          "execution_count": 64
        }
      ]
    },
    {
      "cell_type": "code",
      "execution_count": null,
      "id": "32c3809c",
      "metadata": {
        "id": "32c3809c",
        "outputId": "e0c348d9-1471-486a-e4ad-829c53c05fd6",
        "colab": {
          "base_uri": "https://localhost:8080/",
          "height": 300
        }
      },
      "outputs": [
        {
          "output_type": "execute_result",
          "data": {
            "text/plain": [
              "                age        weight           bmi  no_of_dependents  \\\n",
              "count  14604.000000  15000.000000  14044.000000      15000.000000   \n",
              "mean      39.547521     64.909600     30.266413          1.129733   \n",
              "std       14.015966     13.701935      6.122950          1.228469   \n",
              "min       18.000000     34.000000     16.000000          0.000000   \n",
              "25%       27.000000     54.000000     25.700000          0.000000   \n",
              "50%       40.000000     63.000000     29.400000          1.000000   \n",
              "75%       52.000000     76.000000     34.400000          2.000000   \n",
              "max       64.000000     95.000000     53.100000          5.000000   \n",
              "\n",
              "             smoker  bloodpressure      diabetes    regular_ex         claim  \n",
              "count  15000.000000   15000.000000  15000.000000  15000.000000  15000.000000  \n",
              "mean       0.198133      68.650133      0.777000      0.224133  13401.437620  \n",
              "std        0.398606      19.418515      0.416272      0.417024  12148.239619  \n",
              "min        0.000000       0.000000      0.000000      0.000000   1121.900000  \n",
              "25%        0.000000      64.000000      1.000000      0.000000   4846.900000  \n",
              "50%        0.000000      71.000000      1.000000      0.000000   9545.650000  \n",
              "75%        0.000000      80.000000      1.000000      0.000000  16519.125000  \n",
              "max        1.000000     122.000000      1.000000      1.000000  63770.400000  "
            ],
            "text/html": [
              "\n",
              "  <div id=\"df-e9040f0f-6d07-425f-ac6e-38963285fab8\">\n",
              "    <div class=\"colab-df-container\">\n",
              "      <div>\n",
              "<style scoped>\n",
              "    .dataframe tbody tr th:only-of-type {\n",
              "        vertical-align: middle;\n",
              "    }\n",
              "\n",
              "    .dataframe tbody tr th {\n",
              "        vertical-align: top;\n",
              "    }\n",
              "\n",
              "    .dataframe thead th {\n",
              "        text-align: right;\n",
              "    }\n",
              "</style>\n",
              "<table border=\"1\" class=\"dataframe\">\n",
              "  <thead>\n",
              "    <tr style=\"text-align: right;\">\n",
              "      <th></th>\n",
              "      <th>age</th>\n",
              "      <th>weight</th>\n",
              "      <th>bmi</th>\n",
              "      <th>no_of_dependents</th>\n",
              "      <th>smoker</th>\n",
              "      <th>bloodpressure</th>\n",
              "      <th>diabetes</th>\n",
              "      <th>regular_ex</th>\n",
              "      <th>claim</th>\n",
              "    </tr>\n",
              "  </thead>\n",
              "  <tbody>\n",
              "    <tr>\n",
              "      <th>count</th>\n",
              "      <td>14604.000000</td>\n",
              "      <td>15000.000000</td>\n",
              "      <td>14044.000000</td>\n",
              "      <td>15000.000000</td>\n",
              "      <td>15000.000000</td>\n",
              "      <td>15000.000000</td>\n",
              "      <td>15000.000000</td>\n",
              "      <td>15000.000000</td>\n",
              "      <td>15000.000000</td>\n",
              "    </tr>\n",
              "    <tr>\n",
              "      <th>mean</th>\n",
              "      <td>39.547521</td>\n",
              "      <td>64.909600</td>\n",
              "      <td>30.266413</td>\n",
              "      <td>1.129733</td>\n",
              "      <td>0.198133</td>\n",
              "      <td>68.650133</td>\n",
              "      <td>0.777000</td>\n",
              "      <td>0.224133</td>\n",
              "      <td>13401.437620</td>\n",
              "    </tr>\n",
              "    <tr>\n",
              "      <th>std</th>\n",
              "      <td>14.015966</td>\n",
              "      <td>13.701935</td>\n",
              "      <td>6.122950</td>\n",
              "      <td>1.228469</td>\n",
              "      <td>0.398606</td>\n",
              "      <td>19.418515</td>\n",
              "      <td>0.416272</td>\n",
              "      <td>0.417024</td>\n",
              "      <td>12148.239619</td>\n",
              "    </tr>\n",
              "    <tr>\n",
              "      <th>min</th>\n",
              "      <td>18.000000</td>\n",
              "      <td>34.000000</td>\n",
              "      <td>16.000000</td>\n",
              "      <td>0.000000</td>\n",
              "      <td>0.000000</td>\n",
              "      <td>0.000000</td>\n",
              "      <td>0.000000</td>\n",
              "      <td>0.000000</td>\n",
              "      <td>1121.900000</td>\n",
              "    </tr>\n",
              "    <tr>\n",
              "      <th>25%</th>\n",
              "      <td>27.000000</td>\n",
              "      <td>54.000000</td>\n",
              "      <td>25.700000</td>\n",
              "      <td>0.000000</td>\n",
              "      <td>0.000000</td>\n",
              "      <td>64.000000</td>\n",
              "      <td>1.000000</td>\n",
              "      <td>0.000000</td>\n",
              "      <td>4846.900000</td>\n",
              "    </tr>\n",
              "    <tr>\n",
              "      <th>50%</th>\n",
              "      <td>40.000000</td>\n",
              "      <td>63.000000</td>\n",
              "      <td>29.400000</td>\n",
              "      <td>1.000000</td>\n",
              "      <td>0.000000</td>\n",
              "      <td>71.000000</td>\n",
              "      <td>1.000000</td>\n",
              "      <td>0.000000</td>\n",
              "      <td>9545.650000</td>\n",
              "    </tr>\n",
              "    <tr>\n",
              "      <th>75%</th>\n",
              "      <td>52.000000</td>\n",
              "      <td>76.000000</td>\n",
              "      <td>34.400000</td>\n",
              "      <td>2.000000</td>\n",
              "      <td>0.000000</td>\n",
              "      <td>80.000000</td>\n",
              "      <td>1.000000</td>\n",
              "      <td>0.000000</td>\n",
              "      <td>16519.125000</td>\n",
              "    </tr>\n",
              "    <tr>\n",
              "      <th>max</th>\n",
              "      <td>64.000000</td>\n",
              "      <td>95.000000</td>\n",
              "      <td>53.100000</td>\n",
              "      <td>5.000000</td>\n",
              "      <td>1.000000</td>\n",
              "      <td>122.000000</td>\n",
              "      <td>1.000000</td>\n",
              "      <td>1.000000</td>\n",
              "      <td>63770.400000</td>\n",
              "    </tr>\n",
              "  </tbody>\n",
              "</table>\n",
              "</div>\n",
              "      <button class=\"colab-df-convert\" onclick=\"convertToInteractive('df-e9040f0f-6d07-425f-ac6e-38963285fab8')\"\n",
              "              title=\"Convert this dataframe to an interactive table.\"\n",
              "              style=\"display:none;\">\n",
              "        \n",
              "  <svg xmlns=\"http://www.w3.org/2000/svg\" height=\"24px\"viewBox=\"0 0 24 24\"\n",
              "       width=\"24px\">\n",
              "    <path d=\"M0 0h24v24H0V0z\" fill=\"none\"/>\n",
              "    <path d=\"M18.56 5.44l.94 2.06.94-2.06 2.06-.94-2.06-.94-.94-2.06-.94 2.06-2.06.94zm-11 1L8.5 8.5l.94-2.06 2.06-.94-2.06-.94L8.5 2.5l-.94 2.06-2.06.94zm10 10l.94 2.06.94-2.06 2.06-.94-2.06-.94-.94-2.06-.94 2.06-2.06.94z\"/><path d=\"M17.41 7.96l-1.37-1.37c-.4-.4-.92-.59-1.43-.59-.52 0-1.04.2-1.43.59L10.3 9.45l-7.72 7.72c-.78.78-.78 2.05 0 2.83L4 21.41c.39.39.9.59 1.41.59.51 0 1.02-.2 1.41-.59l7.78-7.78 2.81-2.81c.8-.78.8-2.07 0-2.86zM5.41 20L4 18.59l7.72-7.72 1.47 1.35L5.41 20z\"/>\n",
              "  </svg>\n",
              "      </button>\n",
              "      \n",
              "  <style>\n",
              "    .colab-df-container {\n",
              "      display:flex;\n",
              "      flex-wrap:wrap;\n",
              "      gap: 12px;\n",
              "    }\n",
              "\n",
              "    .colab-df-convert {\n",
              "      background-color: #E8F0FE;\n",
              "      border: none;\n",
              "      border-radius: 50%;\n",
              "      cursor: pointer;\n",
              "      display: none;\n",
              "      fill: #1967D2;\n",
              "      height: 32px;\n",
              "      padding: 0 0 0 0;\n",
              "      width: 32px;\n",
              "    }\n",
              "\n",
              "    .colab-df-convert:hover {\n",
              "      background-color: #E2EBFA;\n",
              "      box-shadow: 0px 1px 2px rgba(60, 64, 67, 0.3), 0px 1px 3px 1px rgba(60, 64, 67, 0.15);\n",
              "      fill: #174EA6;\n",
              "    }\n",
              "\n",
              "    [theme=dark] .colab-df-convert {\n",
              "      background-color: #3B4455;\n",
              "      fill: #D2E3FC;\n",
              "    }\n",
              "\n",
              "    [theme=dark] .colab-df-convert:hover {\n",
              "      background-color: #434B5C;\n",
              "      box-shadow: 0px 1px 3px 1px rgba(0, 0, 0, 0.15);\n",
              "      filter: drop-shadow(0px 1px 2px rgba(0, 0, 0, 0.3));\n",
              "      fill: #FFFFFF;\n",
              "    }\n",
              "  </style>\n",
              "\n",
              "      <script>\n",
              "        const buttonEl =\n",
              "          document.querySelector('#df-e9040f0f-6d07-425f-ac6e-38963285fab8 button.colab-df-convert');\n",
              "        buttonEl.style.display =\n",
              "          google.colab.kernel.accessAllowed ? 'block' : 'none';\n",
              "\n",
              "        async function convertToInteractive(key) {\n",
              "          const element = document.querySelector('#df-e9040f0f-6d07-425f-ac6e-38963285fab8');\n",
              "          const dataTable =\n",
              "            await google.colab.kernel.invokeFunction('convertToInteractive',\n",
              "                                                     [key], {});\n",
              "          if (!dataTable) return;\n",
              "\n",
              "          const docLinkHtml = 'Like what you see? Visit the ' +\n",
              "            '<a target=\"_blank\" href=https://colab.research.google.com/notebooks/data_table.ipynb>data table notebook</a>'\n",
              "            + ' to learn more about interactive tables.';\n",
              "          element.innerHTML = '';\n",
              "          dataTable['output_type'] = 'display_data';\n",
              "          await google.colab.output.renderOutput(dataTable, element);\n",
              "          const docLink = document.createElement('div');\n",
              "          docLink.innerHTML = docLinkHtml;\n",
              "          element.appendChild(docLink);\n",
              "        }\n",
              "      </script>\n",
              "    </div>\n",
              "  </div>\n",
              "  "
            ]
          },
          "metadata": {},
          "execution_count": 65
        }
      ],
      "source": [
        "\n",
        "ids.describe()"
      ]
    },
    {
      "cell_type": "markdown",
      "source": [
        "#Exploratory Data Analysis\n",
        "##Checking the distributions of numerical variables"
      ],
      "metadata": {
        "id": "0bJQ-0J8WD-X"
      },
      "id": "0bJQ-0J8WD-X"
    },
    {
      "cell_type": "code",
      "execution_count": null,
      "id": "106d35f3",
      "metadata": {
        "id": "106d35f3",
        "outputId": "fd4bc516-0f1a-4c42-b321-7241ba6559f3",
        "colab": {
          "base_uri": "https://localhost:8080/",
          "height": 265
        }
      },
      "outputs": [
        {
          "output_type": "display_data",
          "data": {
            "text/plain": [
              "<Figure size 432x288 with 1 Axes>"
            ],
            "image/png": "[encoded data removed]"
          },
          "metadata": {
            "needs_background": "light"
          }
        }
      ],
      "source": [
        "plt.hist(x=ids['age'],bins= 20)\n",
        "plt.show()"
      ]
    },
    {
      "cell_type": "code",
      "execution_count": null,
      "id": "01c66a19",
      "metadata": {
        "id": "01c66a19",
        "outputId": "0a01f9d0-00d2-478d-9d34-b4877657f3bf",
        "colab": {
          "base_uri": "https://localhost:8080/",
          "height": 282
        }
      },
      "outputs": [
        {
          "output_type": "execute_result",
          "data": {
            "text/plain": [
              "<matplotlib.collections.PathCollection at 0x7f781a4ad490>"
            ]
          },
          "metadata": {},
          "execution_count": 67
        },
        {
          "output_type": "display_data",
          "data": {
            "text/plain": [
              "<Figure size 432x288 with 1 Axes>"
            ],
            "image/png": "[encoded data removed]"
          },
          "metadata": {
            "needs_background": "light"
          }
        }
      ],
      "source": [
        "plt.scatter(x=ids['age'],y= ids[\"claim\"])"
      ]
    },
    {
      "cell_type": "code",
      "execution_count": null,
      "id": "5ef75331",
      "metadata": {
        "id": "5ef75331",
        "outputId": "34f1df3f-01ae-4c9d-814f-149645069ee9",
        "colab": {
          "base_uri": "https://localhost:8080/",
          "height": 265
        }
      },
      "outputs": [
        {
          "output_type": "display_data",
          "data": {
            "text/plain": [
              "<Figure size 432x288 with 1 Axes>"
            ],
            "image/png": "[encoded data removed]"
          },
          "metadata": {
            "needs_background": "light"
          }
        }
      ],
      "source": [
        "#weight distn\n",
        "plt.hist(x=ids['weight'],bins= 15)\n",
        "plt.show()"
      ]
    },
    {
      "cell_type": "code",
      "execution_count": null,
      "id": "d3b4a363",
      "metadata": {
        "id": "d3b4a363",
        "outputId": "c5c12767-e04e-445b-f2a3-e8cc345de2e5",
        "colab": {
          "base_uri": "https://localhost:8080/",
          "height": 282
        }
      },
      "outputs": [
        {
          "output_type": "execute_result",
          "data": {
            "text/plain": [
              "<matplotlib.collections.PathCollection at 0x7f781a5de220>"
            ]
          },
          "metadata": {},
          "execution_count": 69
        },
        {
          "output_type": "display_data",
          "data": {
            "text/plain": [
              "<Figure size 432x288 with 1 Axes>"
            ],
            "image/png": "[encoded data removed]"
          },
          "metadata": {
            "needs_background": "light"
          }
        }
      ],
      "source": [
        "plt.scatter(x=ids['weight'],y= ids[\"claim\"])"
      ]
    },
    {
      "cell_type": "code",
      "execution_count": null,
      "id": "ede2c21b",
      "metadata": {
        "id": "ede2c21b",
        "outputId": "454a9932-9835-449e-aa20-6308d125a542",
        "colab": {
          "base_uri": "https://localhost:8080/",
          "height": 265
        }
      },
      "outputs": [
        {
          "output_type": "display_data",
          "data": {
            "text/plain": [
              "<Figure size 432x288 with 1 Axes>"
            ],
            "image/png": "[encoded data removed]"
          },
          "metadata": {
            "needs_background": "light"
          }
        }
      ],
      "source": [
        "#bmi distn\n",
        "plt.hist(x=ids['bmi'],bins= 20)\n",
        "plt.show()"
      ]
    },
    {
      "cell_type": "code",
      "execution_count": null,
      "id": "7997c5ed",
      "metadata": {
        "id": "7997c5ed",
        "outputId": "41b95524-459e-4628-a0cf-b314c3e625e3",
        "colab": {
          "base_uri": "https://localhost:8080/",
          "height": 282
        }
      },
      "outputs": [
        {
          "output_type": "execute_result",
          "data": {
            "text/plain": [
              "<matplotlib.collections.PathCollection at 0x7f781a870100>"
            ]
          },
          "metadata": {},
          "execution_count": 71
        },
        {
          "output_type": "display_data",
          "data": {
            "text/plain": [
              "<Figure size 432x288 with 1 Axes>"
            ],
            "image/png": "[encoded data removed]"
          },
          "metadata": {
            "needs_background": "light"
          }
        }
      ],
      "source": [
        "plt.scatter(x=ids['weight'],y= ids[\"claim\"])"
      ]
    },
    {
      "cell_type": "code",
      "execution_count": null,
      "id": "787d5862",
      "metadata": {
        "id": "787d5862",
        "outputId": "d049978d-a9ef-4055-acac-553f0f2445d5",
        "colab": {
          "base_uri": "https://localhost:8080/",
          "height": 265
        }
      },
      "outputs": [
        {
          "output_type": "display_data",
          "data": {
            "text/plain": [
              "<Figure size 432x288 with 1 Axes>"
            ],
            "image/png": "[encoded data removed]"
          },
          "metadata": {
            "needs_background": "light"
          }
        }
      ],
      "source": [
        "#bloodpressure distn\n",
        "plt.hist(x=ids['bloodpressure'],bins= 20)\n",
        "plt.show()"
      ]
    },
    {
      "cell_type": "code",
      "execution_count": null,
      "id": "cd92cdce",
      "metadata": {
        "id": "cd92cdce",
        "outputId": "b364ab8d-5ad9-442e-a31a-053ae0fe28af",
        "colab": {
          "base_uri": "https://localhost:8080/",
          "height": 282
        }
      },
      "outputs": [
        {
          "output_type": "execute_result",
          "data": {
            "text/plain": [
              "<matplotlib.collections.PathCollection at 0x7f781a86a910>"
            ]
          },
          "metadata": {},
          "execution_count": 73
        },
        {
          "output_type": "display_data",
          "data": {
            "text/plain": [
              "<Figure size 432x288 with 1 Axes>"
            ],
            "image/png": "[encoded data removed]"
          },
          "metadata": {
            "needs_background": "light"
          }
        }
      ],
      "source": [
        "plt.scatter(x=ids['bloodpressure'],y= ids[\"claim\"])"
      ]
    },
    {
      "cell_type": "code",
      "execution_count": null,
      "id": "5fb67ef3",
      "metadata": {
        "id": "5fb67ef3",
        "outputId": "2d3b10f1-d70d-43d8-c3e0-77c28481678a",
        "colab": {
          "base_uri": "https://localhost:8080/",
          "height": 265
        }
      },
      "outputs": [
        {
          "output_type": "display_data",
          "data": {
            "text/plain": [
              "<Figure size 432x288 with 1 Axes>"
            ],
            "image/png": "[encoded data removed]"
          },
          "metadata": {
            "needs_background": "light"
          }
        }
      ],
      "source": [
        "#claim col distn\n",
        "plt.hist(x=ids['claim'],bins= 20)\n",
        "plt.show()"
      ]
    },
    {
      "cell_type": "markdown",
      "source": [
        "NOTE: Claim is postively skewed, so will apply log transformation at a later date"
      ],
      "metadata": {
        "id": "TOf-AH8DX7Qp"
      },
      "id": "TOf-AH8DX7Qp"
    },
    {
      "cell_type": "markdown",
      "source": [
        "#**Checking categorical variables**"
      ],
      "metadata": {
        "id": "B2mU1QgOYC5O"
      },
      "id": "B2mU1QgOYC5O"
    },
    {
      "cell_type": "code",
      "execution_count": null,
      "id": "87447c65",
      "metadata": {
        "id": "87447c65",
        "outputId": "63d24100-833f-4562-d0ad-47ca75fdfbbf",
        "colab": {
          "base_uri": "https://localhost:8080/",
          "height": 391
        }
      },
      "outputs": [
        {
          "output_type": "display_data",
          "data": {
            "text/plain": [
              "<Figure size 432x432 with 1 Axes>"
            ],
            "image/png": "[encoded data removed]"
          },
          "metadata": {
            "needs_background": "light"
          }
        }
      ],
      "source": [
        "#sex distn\n",
        "#bar plot\n",
        "plt.figure(figsize = (6,6))\n",
        "sns.countplot(x=\"sex\",data= ids)\n",
        "plt.show()"
      ]
    },
    {
      "cell_type": "code",
      "execution_count": null,
      "id": "44e48c5d",
      "metadata": {
        "id": "44e48c5d",
        "outputId": "3941e9c5-8698-473a-b51b-4f111ba48b29",
        "colab": {
          "base_uri": "https://localhost:8080/"
        }
      },
      "outputs": [
        {
          "output_type": "execute_result",
          "data": {
            "text/plain": [
              "female    7652\n",
              "male      7348\n",
              "Name: sex, dtype: int64"
            ]
          },
          "metadata": {},
          "execution_count": 76
        }
      ],
      "source": [
        "ids[\"sex\"].value_counts()"
      ]
    },
    {
      "cell_type": "code",
      "execution_count": null,
      "id": "a43ea4cb",
      "metadata": {
        "id": "a43ea4cb",
        "outputId": "dc501f5a-f957-4ccf-cf17-644f5d985b20",
        "colab": {
          "base_uri": "https://localhost:8080/",
          "height": 389
        }
      },
      "outputs": [
        {
          "output_type": "display_data",
          "data": {
            "text/plain": [
              "<Figure size 1080x432 with 1 Axes>"
            ],
            "image/png": "[encoded data removed]"
          },
          "metadata": {
            "needs_background": "light"
          }
        }
      ],
      "source": [
        "#hereditary_diseases distn\n",
        "plt.figure(figsize = (15,6))\n",
        "sns.countplot(x=\"hereditary_diseases\",data= ids)\n",
        "plt.show()"
      ]
    },
    {
      "cell_type": "code",
      "execution_count": null,
      "id": "2480c3a1",
      "metadata": {
        "id": "2480c3a1",
        "outputId": "1040df7b-9764-4111-a661-2a06bed5441f",
        "colab": {
          "base_uri": "https://localhost:8080/"
        }
      },
      "outputs": [
        {
          "output_type": "execute_result",
          "data": {
            "text/plain": [
              "NoDisease       13998\n",
              "Diabetes          148\n",
              "Alzheimer         144\n",
              "Obesity           136\n",
              "EyeDisease        123\n",
              "Cancer            109\n",
              "Arthritis          96\n",
              "HeartDisease       93\n",
              "Epilepsy           84\n",
              "High BP            69\n",
              "Name: hereditary_diseases, dtype: int64"
            ]
          },
          "metadata": {},
          "execution_count": 78
        }
      ],
      "source": [
        "ids[\"hereditary_diseases\"].value_counts()"
      ]
    },
    {
      "cell_type": "code",
      "execution_count": null,
      "id": "de38b134",
      "metadata": {
        "id": "de38b134",
        "outputId": "9fb3b933-1279-421f-b775-85b1f16edeb2",
        "colab": {
          "base_uri": "https://localhost:8080/",
          "height": 389
        }
      },
      "outputs": [
        {
          "output_type": "display_data",
          "data": {
            "text/plain": [
              "<Figure size 432x432 with 1 Axes>"
            ],
            "image/png": "[encoded data removed]"
          },
          "metadata": {
            "needs_background": "light"
          }
        }
      ],
      "source": [
        "#no_of_dependents distn\n",
        "plt.figure(figsize = (6,6))\n",
        "sns.countplot(x=\"no_of_dependents\",data= ids)\n",
        "plt.show()"
      ]
    },
    {
      "cell_type": "code",
      "execution_count": null,
      "id": "f303bdad",
      "metadata": {
        "id": "f303bdad",
        "outputId": "b5e6df16-3977-4a9c-95f8-2c3ed5f42acc",
        "colab": {
          "base_uri": "https://localhost:8080/"
        }
      },
      "outputs": [
        {
          "output_type": "execute_result",
          "data": {
            "text/plain": [
              "0    6290\n",
              "1    3625\n",
              "2    2721\n",
              "3    1820\n",
              "4     301\n",
              "5     243\n",
              "Name: no_of_dependents, dtype: int64"
            ]
          },
          "metadata": {},
          "execution_count": 80
        }
      ],
      "source": [
        "ids[\"no_of_dependents\"].value_counts()"
      ]
    },
    {
      "cell_type": "code",
      "execution_count": null,
      "id": "d65fb733",
      "metadata": {
        "id": "d65fb733",
        "outputId": "31dcc988-4292-4496-82c1-c1f2dd52b84a",
        "colab": {
          "base_uri": "https://localhost:8080/",
          "height": 388
        }
      },
      "outputs": [
        {
          "output_type": "display_data",
          "data": {
            "text/plain": [
              "<Figure size 432x432 with 1 Axes>"
            ],
            "image/png": "[encoded data removed]"
          },
          "metadata": {
            "needs_background": "light"
          }
        }
      ],
      "source": [
        "#smoker distn\n",
        "plt.figure(figsize = (6,6))\n",
        "sns.countplot(x=\"smoker\",data= ids)\n",
        "plt.show()"
      ]
    },
    {
      "cell_type": "code",
      "execution_count": null,
      "id": "9816709b",
      "metadata": {
        "id": "9816709b",
        "outputId": "473a9aaf-42f8-4464-a808-a3e1d3390f4f",
        "colab": {
          "base_uri": "https://localhost:8080/"
        }
      },
      "outputs": [
        {
          "output_type": "execute_result",
          "data": {
            "text/plain": [
              "0    12028\n",
              "1     2972\n",
              "Name: smoker, dtype: int64"
            ]
          },
          "metadata": {},
          "execution_count": 82
        }
      ],
      "source": [
        "ids[\"smoker\"].value_counts()"
      ]
    },
    {
      "cell_type": "code",
      "execution_count": null,
      "id": "0c24519a",
      "metadata": {
        "id": "0c24519a",
        "outputId": "da7f9029-13b7-405d-d8ff-6d5d473e4118",
        "colab": {
          "base_uri": "https://localhost:8080/",
          "height": 388
        }
      },
      "outputs": [
        {
          "output_type": "display_data",
          "data": {
            "text/plain": [
              "<Figure size 432x432 with 1 Axes>"
            ],
            "image/png": "[encoded data removed]"
          },
          "metadata": {
            "needs_background": "light"
          }
        }
      ],
      "source": [
        "#diabetes distn \n",
        "plt.figure(figsize = (6,6))\n",
        "sns.countplot(x=\"diabetes\",data= ids)\n",
        "plt.show()"
      ]
    },
    {
      "cell_type": "code",
      "execution_count": null,
      "id": "10f52570",
      "metadata": {
        "id": "10f52570",
        "outputId": "951b7546-7b8d-4d68-9f5a-a8780afee333",
        "colab": {
          "base_uri": "https://localhost:8080/"
        }
      },
      "outputs": [
        {
          "output_type": "execute_result",
          "data": {
            "text/plain": [
              "1    11655\n",
              "0     3345\n",
              "Name: diabetes, dtype: int64"
            ]
          },
          "metadata": {},
          "execution_count": 84
        }
      ],
      "source": [
        "ids[\"diabetes\"].value_counts()"
      ]
    },
    {
      "cell_type": "code",
      "execution_count": null,
      "id": "3bc11420",
      "metadata": {
        "id": "3bc11420",
        "outputId": "9503f554-adb6-47af-8074-c9f808865f8f",
        "colab": {
          "base_uri": "https://localhost:8080/",
          "height": 389
        }
      },
      "outputs": [
        {
          "output_type": "display_data",
          "data": {
            "text/plain": [
              "<Figure size 432x432 with 1 Axes>"
            ],
            "image/png": "[encoded data removed]"
          },
          "metadata": {
            "needs_background": "light"
          }
        }
      ],
      "source": [
        "#regular_ex distn\n",
        "plt.figure(figsize = (6,6))\n",
        "sns.countplot(x=\"regular_ex\",data= ids)\n",
        "plt.show()"
      ]
    },
    {
      "cell_type": "code",
      "execution_count": null,
      "id": "71b2e109",
      "metadata": {
        "id": "71b2e109",
        "outputId": "45a16c80-db44-40ab-afed-edb251239f87",
        "colab": {
          "base_uri": "https://localhost:8080/"
        }
      },
      "outputs": [
        {
          "output_type": "execute_result",
          "data": {
            "text/plain": [
              "0    11638\n",
              "1     3362\n",
              "Name: regular_ex, dtype: int64"
            ]
          },
          "metadata": {},
          "execution_count": 86
        }
      ],
      "source": [
        "ids[\"regular_ex\"].value_counts()"
      ]
    },
    {
      "cell_type": "code",
      "execution_count": null,
      "id": "5c77b021",
      "metadata": {
        "id": "5c77b021",
        "outputId": "10fae6d7-9bd2-4ac0-e00b-ac5e9068d462",
        "colab": {
          "base_uri": "https://localhost:8080/",
          "height": 375
        }
      },
      "outputs": [
        {
          "output_type": "display_data",
          "data": {
            "text/plain": [
              "<Figure size 1800x432 with 1 Axes>"
            ],
            "image/png": "[encoded data removed]"
          },
          "metadata": {
            "needs_background": "light"
          }
        }
      ],
      "source": [
        "#job_title distn\n",
        "plt.figure(figsize = (25,6))\n",
        "sns.countplot(x=\"job_title\",data= ids)\n",
        "plt.show()"
      ]
    },
    {
      "cell_type": "code",
      "execution_count": null,
      "id": "bf75d0c1",
      "metadata": {
        "id": "bf75d0c1",
        "outputId": "cb7b8981-a56a-4add-c905-4f9b265163c9",
        "colab": {
          "base_uri": "https://localhost:8080/"
        }
      },
      "outputs": [
        {
          "output_type": "execute_result",
          "data": {
            "text/plain": [
              "Student              1320\n",
              "HomeMakers            972\n",
              "Singer                744\n",
              "Actor                 720\n",
              "FilmMaker             714\n",
              "Dancer                693\n",
              "HouseKeeper           667\n",
              "Manager               602\n",
              "Police                412\n",
              "Photographer          400\n",
              "Beautician            385\n",
              "CEO                   384\n",
              "Engineer              374\n",
              "FashionDesigner       371\n",
              "Politician            370\n",
              "Accountant            368\n",
              "Clerks                367\n",
              "Architect             365\n",
              "ITProfessional        348\n",
              "DataScientist         335\n",
              "Lawyer                309\n",
              "Academician           306\n",
              "Doctor                294\n",
              "DefencePersonnels     292\n",
              "Technician            283\n",
              "Chef                  281\n",
              "FilmDirector          281\n",
              "Blogger               281\n",
              "Journalist            275\n",
              "CA                    272\n",
              "Farmer                258\n",
              "Analyst               255\n",
              "GovEmployee           250\n",
              "Buisnessman           242\n",
              "Labourer              210\n",
              "Name: job_title, dtype: int64"
            ]
          },
          "metadata": {},
          "execution_count": 88
        }
      ],
      "source": [
        "ids[\"job_title\"].value_counts()"
      ]
    },
    {
      "cell_type": "markdown",
      "id": "8d611308",
      "metadata": {
        "id": "8d611308"
      },
      "source": [
        "# checking outliers"
      ]
    },
    {
      "cell_type": "code",
      "execution_count": null,
      "id": "16b3b55d",
      "metadata": {
        "id": "16b3b55d",
        "outputId": "0d5e9761-f24d-4e07-9ecd-08898992e64a",
        "colab": {
          "base_uri": "https://localhost:8080/",
          "height": 647
        }
      },
      "outputs": [
        {
          "output_type": "stream",
          "name": "stderr",
          "text": [
            "/usr/local/lib/python3.8/dist-packages/matplotlib/cbook/__init__.py:1376: VisibleDeprecationWarning: Creating an ndarray from ragged nested sequences (which is a list-or-tuple of lists-or-tuples-or ndarrays with different lengths or shapes) is deprecated. If you meant to do this, you must specify 'dtype=object' when creating the ndarray.\n",
            "  X = np.atleast_1d(X.T if isinstance(X, np.ndarray) else np.asarray(X))\n"
          ]
        },
        {
          "output_type": "display_data",
          "data": {
            "text/plain": [
              "<Figure size 720x720 with 1 Axes>"
            ],
            "image/png": "[encoded data removed]"
          },
          "metadata": {
            "needs_background": "light"
          }
        }
      ],
      "source": [
        "plt.figure(figsize = (10,10))\n",
        "ids.boxplot(column=['age','bmi','bloodpressure'])\n",
        "plt.show()"
      ]
    },
    {
      "cell_type": "code",
      "execution_count": null,
      "id": "495027d5",
      "metadata": {
        "id": "495027d5",
        "outputId": "fb0da5b9-803b-4837-e28c-1f7cd15fba68",
        "colab": {
          "base_uri": "https://localhost:8080/",
          "height": 279
        }
      },
      "outputs": [
        {
          "output_type": "display_data",
          "data": {
            "text/plain": [
              "<Figure size 432x288 with 1 Axes>"
            ],
            "image/png": "[encoded data removed]"
          },
          "metadata": {
            "needs_background": "light"
          }
        }
      ],
      "source": [
        "sns.boxplot(x=ids['claim'])\n",
        "plt.show()"
      ]
    },
    {
      "cell_type": "code",
      "execution_count": null,
      "id": "37dd92d9",
      "metadata": {
        "id": "37dd92d9",
        "outputId": "c5b4fe2c-8c8e-4a09-fdef-3d1fa17baaa5",
        "colab": {
          "base_uri": "https://localhost:8080/",
          "height": 279
        }
      },
      "outputs": [
        {
          "output_type": "display_data",
          "data": {
            "text/plain": [
              "<Figure size 432x288 with 1 Axes>"
            ],
            "image/png": "[encoded data removed]"
          },
          "metadata": {
            "needs_background": "light"
          }
        }
      ],
      "source": [
        "sns.boxplot(x=ids['age'])\n",
        "plt.show()"
      ]
    },
    {
      "cell_type": "code",
      "execution_count": null,
      "id": "9e98bf82",
      "metadata": {
        "id": "9e98bf82",
        "outputId": "f2d2c4f5-372e-4b37-829c-6529286b5520",
        "colab": {
          "base_uri": "https://localhost:8080/",
          "height": 282
        }
      },
      "outputs": [
        {
          "output_type": "execute_result",
          "data": {
            "text/plain": [
              "<matplotlib.collections.PathCollection at 0x7f7816d66250>"
            ]
          },
          "metadata": {},
          "execution_count": 92
        },
        {
          "output_type": "display_data",
          "data": {
            "text/plain": [
              "<Figure size 432x288 with 1 Axes>"
            ],
            "image/png": "[encoded data removed]"
          },
          "metadata": {
            "needs_background": "light"
          }
        }
      ],
      "source": [
        "plt.scatter(ids.index,ids[\"claim\"])"
      ]
    },
    {
      "cell_type": "code",
      "execution_count": null,
      "id": "1d4fde9a",
      "metadata": {
        "id": "1d4fde9a",
        "outputId": "12e1bde7-b00f-49ce-f577-b7530a2aa307",
        "colab": {
          "base_uri": "https://localhost:8080/",
          "height": 282
        }
      },
      "outputs": [
        {
          "output_type": "execute_result",
          "data": {
            "text/plain": [
              "<matplotlib.collections.PathCollection at 0x7f781a529280>"
            ]
          },
          "metadata": {},
          "execution_count": 93
        },
        {
          "output_type": "display_data",
          "data": {
            "text/plain": [
              "<Figure size 432x288 with 1 Axes>"
            ],
            "image/png": "[encoded data removed]"
          },
          "metadata": {
            "needs_background": "light"
          }
        }
      ],
      "source": [
        "plt.scatter(ids.index,ids[\"age\"])"
      ]
    },
    {
      "cell_type": "code",
      "execution_count": null,
      "id": "b0b1668e",
      "metadata": {
        "id": "b0b1668e",
        "outputId": "87d17051-b2d1-4ec8-f610-c720621550eb",
        "colab": {
          "base_uri": "https://localhost:8080/",
          "height": 282
        }
      },
      "outputs": [
        {
          "output_type": "execute_result",
          "data": {
            "text/plain": [
              "<matplotlib.collections.PathCollection at 0x7f781a726be0>"
            ]
          },
          "metadata": {},
          "execution_count": 94
        },
        {
          "output_type": "display_data",
          "data": {
            "text/plain": [
              "<Figure size 432x288 with 1 Axes>"
            ],
            "image/png": "[encoded data removed]"
          },
          "metadata": {
            "needs_background": "light"
          }
        }
      ],
      "source": [
        "plt.scatter(ids.index,ids[\"bmi\"])"
      ]
    },
    {
      "cell_type": "code",
      "execution_count": null,
      "id": "9544fd86",
      "metadata": {
        "id": "9544fd86",
        "outputId": "b06c54d7-5318-4be0-dc68-af546a3c2239",
        "colab": {
          "base_uri": "https://localhost:8080/",
          "height": 282
        }
      },
      "outputs": [
        {
          "output_type": "execute_result",
          "data": {
            "text/plain": [
              "<matplotlib.collections.PathCollection at 0x7f781a83ffa0>"
            ]
          },
          "metadata": {},
          "execution_count": 95
        },
        {
          "output_type": "display_data",
          "data": {
            "text/plain": [
              "<Figure size 432x288 with 1 Axes>"
            ],
            "image/png": "[encoded data removed]"
          },
          "metadata": {
            "needs_background": "light"
          }
        }
      ],
      "source": [
        "plt.scatter(ids.index,ids[\"bloodpressure\"])"
      ]
    },
    {
      "cell_type": "markdown",
      "id": "6edc3309",
      "metadata": {
        "id": "6edc3309"
      },
      "source": [
        "# INFERENCE:\n",
        "\n",
        "# bmi has outliers \n",
        "# bloodpressure has outliers\n",
        "# claim has outliers"
      ]
    },
    {
      "cell_type": "markdown",
      "source": [
        "#Handling Outliers"
      ],
      "metadata": {
        "id": "buJP3ZuEZF22"
      },
      "id": "buJP3ZuEZF22"
    },
    {
      "cell_type": "code",
      "execution_count": null,
      "id": "433a706b",
      "metadata": {
        "id": "433a706b",
        "outputId": "f6b33f39-726c-419c-f261-cdfed21ce715",
        "colab": {
          "base_uri": "https://localhost:8080/"
        }
      },
      "outputs": [
        {
          "output_type": "execute_result",
          "data": {
            "text/plain": [
              "40.5"
            ]
          },
          "metadata": {},
          "execution_count": 6
        }
      ],
      "source": [
        "max_treshold= ids['bmi'].quantile(0.95)\n",
        "max_treshold"
      ]
    },
    {
      "cell_type": "code",
      "execution_count": null,
      "id": "bdf00396",
      "metadata": {
        "id": "bdf00396",
        "outputId": "1710caa6-2e9f-4a55-842c-e52b395a4e7b",
        "colab": {
          "base_uri": "https://localhost:8080/",
          "height": 279
        }
      },
      "outputs": [
        {
          "output_type": "display_data",
          "data": {
            "text/plain": [
              "<Figure size 432x288 with 1 Axes>"
            ],
            "image/png": "[encoded data removed]"
          },
          "metadata": {
            "needs_background": "light"
          }
        }
      ],
      "source": [
        "#plot before handling outliers\n",
        "sns.boxplot(x=ids['bmi'])\n",
        "plt.show()"
      ]
    },
    {
      "cell_type": "code",
      "execution_count": null,
      "id": "1ce5682b",
      "metadata": {
        "id": "1ce5682b",
        "outputId": "a49de173-b8cb-4f81-a71e-8c5337686096",
        "colab": {
          "base_uri": "https://localhost:8080/"
        }
      },
      "outputs": [
        {
          "output_type": "stream",
          "name": "stderr",
          "text": [
            "<ipython-input-8-6735ad895042>:1: SettingWithCopyWarning: \n",
            "A value is trying to be set on a copy of a slice from a DataFrame\n",
            "\n",
            "See the caveats in the documentation: https://pandas.pydata.org/pandas-docs/stable/user_guide/indexing.html#returning-a-view-versus-a-copy\n",
            "  ids['bmi'][ids['bmi']>max_treshold]= max_treshold\n"
          ]
        }
      ],
      "source": [
        "ids['bmi'][ids['bmi']>max_treshold]= max_treshold"
      ]
    },
    {
      "cell_type": "code",
      "execution_count": null,
      "id": "a5cb9f21",
      "metadata": {
        "id": "a5cb9f21",
        "outputId": "4dfd1a07-a4d5-44e0-e88b-d5c453bc58e6",
        "colab": {
          "base_uri": "https://localhost:8080/",
          "height": 279
        }
      },
      "outputs": [
        {
          "output_type": "display_data",
          "data": {
            "text/plain": [
              "<Figure size 432x288 with 1 Axes>"
            ],
            "image/png": "[encoded data removed]"
          },
          "metadata": {
            "needs_background": "light"
          }
        }
      ],
      "source": [
        "# after handling outliers\n",
        "sns.boxplot(x=ids['bmi'])\n",
        "plt.show()"
      ]
    },
    {
      "cell_type": "code",
      "execution_count": null,
      "id": "5772f6d8",
      "metadata": {
        "id": "5772f6d8",
        "outputId": "090b634e-3903-4b27-e9fb-b1ca467e3e84",
        "colab": {
          "base_uri": "https://localhost:8080/"
        }
      },
      "outputs": [
        {
          "output_type": "execute_result",
          "data": {
            "text/plain": [
              "48.0"
            ]
          },
          "metadata": {},
          "execution_count": 10
        }
      ],
      "source": [
        "#bloodpressure outlier handling\n",
        "min_treshold2=ids['bloodpressure'].quantile(0.06)\n",
        "min_treshold2"
      ]
    },
    {
      "cell_type": "code",
      "execution_count": null,
      "id": "7f22579c",
      "metadata": {
        "id": "7f22579c",
        "outputId": "fbc563fe-8df7-4283-a49b-65ccb0d6b61b",
        "colab": {
          "base_uri": "https://localhost:8080/"
        }
      },
      "outputs": [
        {
          "output_type": "execute_result",
          "data": {
            "text/plain": [
              "90.0"
            ]
          },
          "metadata": {},
          "execution_count": 11
        }
      ],
      "source": [
        "max_treshold2=ids['bloodpressure'].quantile(0.95)\n",
        "max_treshold2"
      ]
    },
    {
      "cell_type": "code",
      "execution_count": null,
      "id": "1c092b0f",
      "metadata": {
        "id": "1c092b0f",
        "outputId": "f06a8580-e3e5-4ef3-c29c-6788560921e0",
        "colab": {
          "base_uri": "https://localhost:8080/",
          "height": 279
        }
      },
      "outputs": [
        {
          "output_type": "display_data",
          "data": {
            "text/plain": [
              "<Figure size 432x288 with 1 Axes>"
            ],
            "image/png": "[encoded data removed]"
          },
          "metadata": {
            "needs_background": "light"
          }
        }
      ],
      "source": [
        "#before handling outlier \n",
        "sns.boxplot(x=ids['bloodpressure'])\n",
        "plt.show()"
      ]
    },
    {
      "cell_type": "code",
      "execution_count": null,
      "id": "9f1f6e79",
      "metadata": {
        "id": "9f1f6e79",
        "outputId": "55ded854-162c-4b8d-f7f9-6c9e4612a038",
        "colab": {
          "base_uri": "https://localhost:8080/"
        }
      },
      "outputs": [
        {
          "output_type": "stream",
          "name": "stderr",
          "text": [
            "<ipython-input-13-604a84b50ea4>:1: SettingWithCopyWarning: \n",
            "A value is trying to be set on a copy of a slice from a DataFrame\n",
            "\n",
            "See the caveats in the documentation: https://pandas.pydata.org/pandas-docs/stable/user_guide/indexing.html#returning-a-view-versus-a-copy\n",
            "  ids['bloodpressure'][ids['bloodpressure']<min_treshold2]= min_treshold2\n"
          ]
        }
      ],
      "source": [
        "ids['bloodpressure'][ids['bloodpressure']<min_treshold2]= min_treshold2"
      ]
    },
    {
      "cell_type": "code",
      "execution_count": null,
      "id": "f25c7dfa",
      "metadata": {
        "id": "f25c7dfa",
        "outputId": "ff84ff15-589c-47ab-ceba-dc964bb3c5d8",
        "colab": {
          "base_uri": "https://localhost:8080/"
        }
      },
      "outputs": [
        {
          "output_type": "stream",
          "name": "stderr",
          "text": [
            "<ipython-input-14-19a2945e273d>:1: SettingWithCopyWarning: \n",
            "A value is trying to be set on a copy of a slice from a DataFrame\n",
            "\n",
            "See the caveats in the documentation: https://pandas.pydata.org/pandas-docs/stable/user_guide/indexing.html#returning-a-view-versus-a-copy\n",
            "  ids['bloodpressure'][ids['bloodpressure']>max_treshold2]= max_treshold2\n"
          ]
        }
      ],
      "source": [
        "ids['bloodpressure'][ids['bloodpressure']>max_treshold2]= max_treshold2"
      ]
    },
    {
      "cell_type": "code",
      "execution_count": null,
      "id": "ef2ddf11",
      "metadata": {
        "id": "ef2ddf11",
        "outputId": "1727b46e-f792-40a0-bfa9-5c8d95d512d5",
        "colab": {
          "base_uri": "https://localhost:8080/",
          "height": 279
        }
      },
      "outputs": [
        {
          "output_type": "display_data",
          "data": {
            "text/plain": [
              "<Figure size 432x288 with 1 Axes>"
            ],
            "image/png": "[encoded data removed]"
          },
          "metadata": {
            "needs_background": "light"
          }
        }
      ],
      "source": [
        "sns.boxplot(x=ids['bloodpressure'])\n",
        "plt.show()"
      ]
    },
    {
      "cell_type": "markdown",
      "id": "0322b3ff",
      "metadata": {
        "id": "0322b3ff"
      },
      "source": [
        "# Missing Values"
      ]
    },
    {
      "cell_type": "code",
      "execution_count": null,
      "id": "cd1de5c8",
      "metadata": {
        "id": "cd1de5c8",
        "outputId": "485925b8-cef2-491c-d909-baa200e929b0",
        "colab": {
          "base_uri": "https://localhost:8080/"
        }
      },
      "outputs": [
        {
          "output_type": "execute_result",
          "data": {
            "text/plain": [
              "age                    396\n",
              "sex                      0\n",
              "weight                   0\n",
              "bmi                    956\n",
              "hereditary_diseases      0\n",
              "no_of_dependents         0\n",
              "smoker                   0\n",
              "city                     0\n",
              "bloodpressure            0\n",
              "diabetes                 0\n",
              "regular_ex               0\n",
              "job_title                0\n",
              "claim                    0\n",
              "dtype: int64"
            ]
          },
          "metadata": {},
          "execution_count": 16
        }
      ],
      "source": [
        "#before handling missing values\n",
        "ids.isnull().sum()"
      ]
    },
    {
      "cell_type": "code",
      "source": [
        "sns.heatmap(ids.isnull(),cbar=False,yticklabels=False,cmap='viridis')"
      ],
      "metadata": {
        "colab": {
          "base_uri": "https://localhost:8080/",
          "height": 372
        },
        "id": "tkbtXogNPiEq",
        "outputId": "33991b5e-a78b-4291-e26e-9b916427ab19"
      },
      "id": "tkbtXogNPiEq",
      "execution_count": null,
      "outputs": [
        {
          "output_type": "execute_result",
          "data": {
            "text/plain": [
              "<matplotlib.axes._subplots.AxesSubplot at 0x7f2f8f171970>"
            ]
          },
          "metadata": {},
          "execution_count": 17
        },
        {
          "output_type": "display_data",
          "data": {
            "text/plain": [
              "<Figure size 432x288 with 1 Axes>"
            ],
            "image/png": "[encoded data removed]"
          },
          "metadata": {
            "needs_background": "light"
          }
        }
      ]
    },
    {
      "cell_type": "markdown",
      "source": [
        "###age and bmi have missing values\n",
        "**Imputing age with mean and bmi with median values.**"
      ],
      "metadata": {
        "id": "RulbRqpfaDiP"
      },
      "id": "RulbRqpfaDiP"
    },
    {
      "cell_type": "code",
      "execution_count": null,
      "id": "e075de08",
      "metadata": {
        "id": "e075de08"
      },
      "outputs": [],
      "source": [
        "ids['age'].fillna(value=ids['age'].mean(),inplace= True)"
      ]
    },
    {
      "cell_type": "code",
      "execution_count": null,
      "id": "2ec09482",
      "metadata": {
        "id": "2ec09482"
      },
      "outputs": [],
      "source": [
        "ids['bmi'].fillna(value=ids['bmi'].median(),inplace= True) #uning median imputation, since bmi has outliers"
      ]
    },
    {
      "cell_type": "code",
      "execution_count": null,
      "id": "a34149bc",
      "metadata": {
        "id": "a34149bc",
        "outputId": "3a6ae770-2987-479b-bdd0-a8665d8348da",
        "colab": {
          "base_uri": "https://localhost:8080/"
        }
      },
      "outputs": [
        {
          "output_type": "execute_result",
          "data": {
            "text/plain": [
              "age                    0\n",
              "sex                    0\n",
              "weight                 0\n",
              "bmi                    0\n",
              "hereditary_diseases    0\n",
              "no_of_dependents       0\n",
              "smoker                 0\n",
              "city                   0\n",
              "bloodpressure          0\n",
              "diabetes               0\n",
              "regular_ex             0\n",
              "job_title              0\n",
              "claim                  0\n",
              "dtype: int64"
            ]
          },
          "metadata": {},
          "execution_count": 20
        }
      ],
      "source": [
        "#after handling missing values\n",
        "ids.isnull().sum()"
      ]
    },
    {
      "cell_type": "code",
      "source": [
        "# heatmap after handling missing values\n",
        "sns.heatmap(ids.isnull(),cbar=False,yticklabels=False,cmap='viridis')"
      ],
      "metadata": {
        "colab": {
          "base_uri": "https://localhost:8080/",
          "height": 372
        },
        "id": "v5ZRL--lasN4",
        "outputId": "db6d7d4e-66b3-4cf7-f43b-feeb7f9de8be"
      },
      "id": "v5ZRL--lasN4",
      "execution_count": null,
      "outputs": [
        {
          "output_type": "execute_result",
          "data": {
            "text/plain": [
              "<matplotlib.axes._subplots.AxesSubplot at 0x7f2f8f1caee0>"
            ]
          },
          "metadata": {},
          "execution_count": 21
        },
        {
          "output_type": "display_data",
          "data": {
            "text/plain": [
              "<Figure size 432x288 with 1 Axes>"
            ],
            "image/png": "[encoded data removed]"
          },
          "metadata": {
            "needs_background": "light"
          }
        }
      ]
    },
    {
      "cell_type": "markdown",
      "source": [
        "#Applying transformation to claim"
      ],
      "metadata": {
        "id": "fL_cC7UHa211"
      },
      "id": "fL_cC7UHa211"
    },
    {
      "cell_type": "code",
      "execution_count": null,
      "id": "1a0b1186",
      "metadata": {
        "id": "1a0b1186",
        "outputId": "e3e58592-0b9f-4ee0-c302-90a1673687c8",
        "colab": {
          "base_uri": "https://localhost:8080/",
          "height": 282
        }
      },
      "outputs": [
        {
          "output_type": "execute_result",
          "data": {
            "text/plain": [
              "<matplotlib.collections.PathCollection at 0x7f2f8f72f910>"
            ]
          },
          "metadata": {},
          "execution_count": 22
        },
        {
          "output_type": "display_data",
          "data": {
            "text/plain": [
              "<Figure size 432x288 with 1 Axes>"
            ],
            "image/png": "[encoded data removed]"
          },
          "metadata": {
            "needs_background": "light"
          }
        }
      ],
      "source": [
        "plt.scatter( ids.index,ids[\"claim\"])"
      ]
    },
    {
      "cell_type": "code",
      "execution_count": null,
      "id": "f2e2defc",
      "metadata": {
        "id": "f2e2defc",
        "outputId": "ada6edcb-9681-4562-b4c2-05e0e7b25d2b",
        "colab": {
          "base_uri": "https://localhost:8080/",
          "height": 265
        }
      },
      "outputs": [
        {
          "output_type": "display_data",
          "data": {
            "text/plain": [
              "<Figure size 432x288 with 1 Axes>"
            ],
            "image/png": "[encoded data removed]"
          },
          "metadata": {
            "needs_background": "light"
          }
        }
      ],
      "source": [
        "#histogram before transformationn\n",
        "plt.hist(x=ids['claim'],bins= 20)\n",
        "plt.show()"
      ]
    },
    {
      "cell_type": "code",
      "execution_count": null,
      "id": "d8ddcf93",
      "metadata": {
        "id": "d8ddcf93",
        "outputId": "7073b935-0332-4fdd-98cc-93dd59e2a9d6",
        "colab": {
          "base_uri": "https://localhost:8080/",
          "height": 279
        }
      },
      "outputs": [
        {
          "output_type": "display_data",
          "data": {
            "text/plain": [
              "<Figure size 432x288 with 1 Axes>"
            ],
            "image/png": "[encoded data removed]"
          },
          "metadata": {
            "needs_background": "light"
          }
        }
      ],
      "source": [
        "#boxplot before transformation\n",
        "sns.boxplot(x=ids['claim'])\n",
        "plt.show()"
      ]
    },
    {
      "cell_type": "code",
      "execution_count": null,
      "id": "2a97d71d",
      "metadata": {
        "id": "2a97d71d"
      },
      "outputs": [],
      "source": [
        "#log transformation\n",
        "ids['claim']=np.log(1+ids['claim'])"
      ]
    },
    {
      "cell_type": "code",
      "execution_count": null,
      "id": "b3956e2e",
      "metadata": {
        "id": "b3956e2e",
        "outputId": "5e0d7b45-073c-43fb-8b79-32dfe08bd20f",
        "colab": {
          "base_uri": "https://localhost:8080/",
          "height": 265
        }
      },
      "outputs": [
        {
          "output_type": "display_data",
          "data": {
            "text/plain": [
              "<Figure size 432x288 with 1 Axes>"
            ],
            "image/png": "[encoded data removed]"
          },
          "metadata": {
            "needs_background": "light"
          }
        }
      ],
      "source": [
        "#after transformation\n",
        "plt.hist(x=ids['claim'],bins= 20)\n",
        "plt.show()"
      ]
    },
    {
      "cell_type": "code",
      "execution_count": null,
      "id": "93736e1e",
      "metadata": {
        "id": "93736e1e",
        "outputId": "a3268778-618e-4a35-d52c-dafb9f4e3dc4",
        "colab": {
          "base_uri": "https://localhost:8080/",
          "height": 279
        }
      },
      "outputs": [
        {
          "output_type": "display_data",
          "data": {
            "text/plain": [
              "<Figure size 432x288 with 1 Axes>"
            ],
            "image/png": "[encoded data removed]"
          },
          "metadata": {
            "needs_background": "light"
          }
        }
      ],
      "source": [
        "#after transformation\n",
        "sns.boxplot(x=ids['claim'])\n",
        "plt.show()"
      ]
    },
    {
      "cell_type": "code",
      "execution_count": null,
      "id": "7ed961f2",
      "metadata": {
        "id": "7ed961f2"
      },
      "outputs": [],
      "source": [
        "ids.drop(['city','weight'],axis=1,inplace=True)"
      ]
    },
    {
      "cell_type": "code",
      "execution_count": null,
      "id": "45b01746",
      "metadata": {
        "id": "45b01746",
        "outputId": "d2b14ef6-a92a-4534-e60d-187b3cff192b",
        "colab": {
          "base_uri": "https://localhost:8080/",
          "height": 206
        }
      },
      "outputs": [
        {
          "output_type": "execute_result",
          "data": {
            "text/plain": [
              "    age     sex   bmi hereditary_diseases  no_of_dependents  smoker  \\\n",
              "0  60.0    male  24.3           NoDisease                 1       0   \n",
              "1  49.0  female  22.6           NoDisease                 1       0   \n",
              "2  32.0  female  17.8            Epilepsy                 2       1   \n",
              "3  61.0  female  36.4           NoDisease                 1       1   \n",
              "4  19.0  female  20.6           NoDisease                 0       0   \n",
              "\n",
              "   bloodpressure  diabetes  regular_ex    job_title      claim  \n",
              "0             72         0           0        Actor   9.481405  \n",
              "1             78         1           1     Engineer   9.166179  \n",
              "2             88         1           1  Academician  10.396206  \n",
              "3             72         1           0         Chef  10.789703  \n",
              "4             82         1           0   HomeMakers   7.457436  "
            ],
            "text/html": [
              "\n",
              "  <div id=\"df-25d77cf9-7e38-4463-a3a2-920702fa0b8c\">\n",
              "    <div class=\"colab-df-container\">\n",
              "      <div>\n",
              "<style scoped>\n",
              "    .dataframe tbody tr th:only-of-type {\n",
              "        vertical-align: middle;\n",
              "    }\n",
              "\n",
              "    .dataframe tbody tr th {\n",
              "        vertical-align: top;\n",
              "    }\n",
              "\n",
              "    .dataframe thead th {\n",
              "        text-align: right;\n",
              "    }\n",
              "</style>\n",
              "<table border=\"1\" class=\"dataframe\">\n",
              "  <thead>\n",
              "    <tr style=\"text-align: right;\">\n",
              "      <th></th>\n",
              "      <th>age</th>\n",
              "      <th>sex</th>\n",
              "      <th>bmi</th>\n",
              "      <th>hereditary_diseases</th>\n",
              "      <th>no_of_dependents</th>\n",
              "      <th>smoker</th>\n",
              "      <th>bloodpressure</th>\n",
              "      <th>diabetes</th>\n",
              "      <th>regular_ex</th>\n",
              "      <th>job_title</th>\n",
              "      <th>claim</th>\n",
              "    </tr>\n",
              "  </thead>\n",
              "  <tbody>\n",
              "    <tr>\n",
              "      <th>0</th>\n",
              "      <td>60.0</td>\n",
              "      <td>male</td>\n",
              "      <td>24.3</td>\n",
              "      <td>NoDisease</td>\n",
              "      <td>1</td>\n",
              "      <td>0</td>\n",
              "      <td>72</td>\n",
              "      <td>0</td>\n",
              "      <td>0</td>\n",
              "      <td>Actor</td>\n",
              "      <td>9.481405</td>\n",
              "    </tr>\n",
              "    <tr>\n",
              "      <th>1</th>\n",
              "      <td>49.0</td>\n",
              "      <td>female</td>\n",
              "      <td>22.6</td>\n",
              "      <td>NoDisease</td>\n",
              "      <td>1</td>\n",
              "      <td>0</td>\n",
              "      <td>78</td>\n",
              "      <td>1</td>\n",
              "      <td>1</td>\n",
              "      <td>Engineer</td>\n",
              "      <td>9.166179</td>\n",
              "    </tr>\n",
              "    <tr>\n",
              "      <th>2</th>\n",
              "      <td>32.0</td>\n",
              "      <td>female</td>\n",
              "      <td>17.8</td>\n",
              "      <td>Epilepsy</td>\n",
              "      <td>2</td>\n",
              "      <td>1</td>\n",
              "      <td>88</td>\n",
              "      <td>1</td>\n",
              "      <td>1</td>\n",
              "      <td>Academician</td>\n",
              "      <td>10.396206</td>\n",
              "    </tr>\n",
              "    <tr>\n",
              "      <th>3</th>\n",
              "      <td>61.0</td>\n",
              "      <td>female</td>\n",
              "      <td>36.4</td>\n",
              "      <td>NoDisease</td>\n",
              "      <td>1</td>\n",
              "      <td>1</td>\n",
              "      <td>72</td>\n",
              "      <td>1</td>\n",
              "      <td>0</td>\n",
              "      <td>Chef</td>\n",
              "      <td>10.789703</td>\n",
              "    </tr>\n",
              "    <tr>\n",
              "      <th>4</th>\n",
              "      <td>19.0</td>\n",
              "      <td>female</td>\n",
              "      <td>20.6</td>\n",
              "      <td>NoDisease</td>\n",
              "      <td>0</td>\n",
              "      <td>0</td>\n",
              "      <td>82</td>\n",
              "      <td>1</td>\n",
              "      <td>0</td>\n",
              "      <td>HomeMakers</td>\n",
              "      <td>7.457436</td>\n",
              "    </tr>\n",
              "  </tbody>\n",
              "</table>\n",
              "</div>\n",
              "      <button class=\"colab-df-convert\" onclick=\"convertToInteractive('df-25d77cf9-7e38-4463-a3a2-920702fa0b8c')\"\n",
              "              title=\"Convert this dataframe to an interactive table.\"\n",
              "              style=\"display:none;\">\n",
              "        \n",
              "  <svg xmlns=\"http://www.w3.org/2000/svg\" height=\"24px\"viewBox=\"0 0 24 24\"\n",
              "       width=\"24px\">\n",
              "    <path d=\"M0 0h24v24H0V0z\" fill=\"none\"/>\n",
              "    <path d=\"M18.56 5.44l.94 2.06.94-2.06 2.06-.94-2.06-.94-.94-2.06-.94 2.06-2.06.94zm-11 1L8.5 8.5l.94-2.06 2.06-.94-2.06-.94L8.5 2.5l-.94 2.06-2.06.94zm10 10l.94 2.06.94-2.06 2.06-.94-2.06-.94-.94-2.06-.94 2.06-2.06.94z\"/><path d=\"M17.41 7.96l-1.37-1.37c-.4-.4-.92-.59-1.43-.59-.52 0-1.04.2-1.43.59L10.3 9.45l-7.72 7.72c-.78.78-.78 2.05 0 2.83L4 21.41c.39.39.9.59 1.41.59.51 0 1.02-.2 1.41-.59l7.78-7.78 2.81-2.81c.8-.78.8-2.07 0-2.86zM5.41 20L4 18.59l7.72-7.72 1.47 1.35L5.41 20z\"/>\n",
              "  </svg>\n",
              "      </button>\n",
              "      \n",
              "  <style>\n",
              "    .colab-df-container {\n",
              "      display:flex;\n",
              "      flex-wrap:wrap;\n",
              "      gap: 12px;\n",
              "    }\n",
              "\n",
              "    .colab-df-convert {\n",
              "      background-color: #E8F0FE;\n",
              "      border: none;\n",
              "      border-radius: 50%;\n",
              "      cursor: pointer;\n",
              "      display: none;\n",
              "      fill: #1967D2;\n",
              "      height: 32px;\n",
              "      padding: 0 0 0 0;\n",
              "      width: 32px;\n",
              "    }\n",
              "\n",
              "    .colab-df-convert:hover {\n",
              "      background-color: #E2EBFA;\n",
              "      box-shadow: 0px 1px 2px rgba(60, 64, 67, 0.3), 0px 1px 3px 1px rgba(60, 64, 67, 0.15);\n",
              "      fill: #174EA6;\n",
              "    }\n",
              "\n",
              "    [theme=dark] .colab-df-convert {\n",
              "      background-color: #3B4455;\n",
              "      fill: #D2E3FC;\n",
              "    }\n",
              "\n",
              "    [theme=dark] .colab-df-convert:hover {\n",
              "      background-color: #434B5C;\n",
              "      box-shadow: 0px 1px 3px 1px rgba(0, 0, 0, 0.15);\n",
              "      filter: drop-shadow(0px 1px 2px rgba(0, 0, 0, 0.3));\n",
              "      fill: #FFFFFF;\n",
              "    }\n",
              "  </style>\n",
              "\n",
              "      <script>\n",
              "        const buttonEl =\n",
              "          document.querySelector('#df-25d77cf9-7e38-4463-a3a2-920702fa0b8c button.colab-df-convert');\n",
              "        buttonEl.style.display =\n",
              "          google.colab.kernel.accessAllowed ? 'block' : 'none';\n",
              "\n",
              "        async function convertToInteractive(key) {\n",
              "          const element = document.querySelector('#df-25d77cf9-7e38-4463-a3a2-920702fa0b8c');\n",
              "          const dataTable =\n",
              "            await google.colab.kernel.invokeFunction('convertToInteractive',\n",
              "                                                     [key], {});\n",
              "          if (!dataTable) return;\n",
              "\n",
              "          const docLinkHtml = 'Like what you see? Visit the ' +\n",
              "            '<a target=\"_blank\" href=https://colab.research.google.com/notebooks/data_table.ipynb>data table notebook</a>'\n",
              "            + ' to learn more about interactive tables.';\n",
              "          element.innerHTML = '';\n",
              "          dataTable['output_type'] = 'display_data';\n",
              "          await google.colab.output.renderOutput(dataTable, element);\n",
              "          const docLink = document.createElement('div');\n",
              "          docLink.innerHTML = docLinkHtml;\n",
              "          element.appendChild(docLink);\n",
              "        }\n",
              "      </script>\n",
              "    </div>\n",
              "  </div>\n",
              "  "
            ]
          },
          "metadata": {},
          "execution_count": 29
        }
      ],
      "source": [
        "ids.head()"
      ]
    },
    {
      "cell_type": "markdown",
      "source": [
        "#Handling categorical variables"
      ],
      "metadata": {
        "id": "6ptskk_CbQrx"
      },
      "id": "6ptskk_CbQrx"
    },
    {
      "cell_type": "code",
      "execution_count": null,
      "id": "2138ae03",
      "metadata": {
        "id": "2138ae03",
        "outputId": "70980a6c-4642-4750-f9cb-4b50bdc59458",
        "colab": {
          "base_uri": "https://localhost:8080/"
        }
      },
      "outputs": [
        {
          "output_type": "execute_result",
          "data": {
            "text/plain": [
              "array(['NoDisease', 'Epilepsy', 'EyeDisease', 'Alzheimer', 'Arthritis',\n",
              "       'HeartDisease', 'Diabetes', 'Cancer', 'High BP', 'Obesity'],\n",
              "      dtype=object)"
            ]
          },
          "metadata": {},
          "execution_count": 30
        }
      ],
      "source": [
        "ids['hereditary_diseases'].unique()"
      ]
    },
    {
      "cell_type": "code",
      "execution_count": null,
      "id": "e9684787",
      "metadata": {
        "id": "e9684787"
      },
      "outputs": [],
      "source": [
        "ids['hereditary_diseases']=ids['hereditary_diseases'].map({'NoDisease':'NoDisease', 'Epilepsy':'moderate', 'EyeDisease':'moderate', 'Alzheimer':'moderate', 'Arthritis':'moderate',\n",
        "       'HeartDisease':'severe', 'Diabetes':'severe', 'Cancer':'severe', 'High BP':'moderate', 'Obesity':'moderate'})"
      ]
    },
    {
      "cell_type": "code",
      "execution_count": null,
      "id": "2394e545",
      "metadata": {
        "id": "2394e545",
        "outputId": "4b4039c9-1d57-416d-ac72-484777d9ae64",
        "colab": {
          "base_uri": "https://localhost:8080/"
        }
      },
      "outputs": [
        {
          "output_type": "execute_result",
          "data": {
            "text/plain": [
              "NoDisease    13998\n",
              "moderate       652\n",
              "severe         350\n",
              "Name: hereditary_diseases, dtype: int64"
            ]
          },
          "metadata": {},
          "execution_count": 32
        }
      ],
      "source": [
        "ids['hereditary_diseases'].value_counts()"
      ]
    },
    {
      "cell_type": "code",
      "execution_count": null,
      "id": "977a46c7",
      "metadata": {
        "id": "977a46c7",
        "outputId": "b5823225-3e90-4e99-f6ec-01d63e11035e",
        "colab": {
          "base_uri": "https://localhost:8080/"
        }
      },
      "outputs": [
        {
          "output_type": "execute_result",
          "data": {
            "text/plain": [
              "array(['Actor', 'Engineer', 'Academician', 'Chef', 'HomeMakers', 'Dancer',\n",
              "       'Singer', 'DataScientist', 'Police', 'Student', 'Doctor',\n",
              "       'Manager', 'Photographer', 'Beautician', 'CA', 'Blogger', 'CEO',\n",
              "       'Labourer', 'Accountant', 'FilmDirector', 'Technician',\n",
              "       'FashionDesigner', 'Architect', 'HouseKeeper', 'FilmMaker',\n",
              "       'Buisnessman', 'Politician', 'DefencePersonnels', 'Analyst',\n",
              "       'Clerks', 'ITProfessional', 'Farmer', 'Journalist', 'Lawyer',\n",
              "       'GovEmployee'], dtype=object)"
            ]
          },
          "metadata": {},
          "execution_count": 33
        }
      ],
      "source": [
        "ids['job_title'].unique()"
      ]
    },
    {
      "cell_type": "code",
      "execution_count": null,
      "id": "298e2daa",
      "metadata": {
        "id": "298e2daa"
      },
      "outputs": [],
      "source": [
        "ids['job_title']=ids['job_title'].map({'Actor':'avg_stressed', 'Engineer':'more_stressed', 'Academician':'avg_stressed', 'Chef':'less_stressed', 'HomeMakers':'less_stressed', 'Dancer':'less_stressed',\n",
        "    'Singer':'less_stressed', 'DataScientist':'avg_stressed', 'Police':'avg_stressed', 'Student':'avg_stressed', 'Doctor':'less_stressed',\n",
        "   'Manager':'more_stressed', 'Photographer':'less_stressed', 'Beautician':'less_stressed', 'CA':'avg_stressed', 'Blogger':'less_stressed', 'CEO':'avg_stressed',\n",
        "   'Labourer':'less_stressed', 'Accountant':'more_stressed', 'FilmDirector':'more_stressed', 'Technician':'less_stressed',\n",
        "   'FashionDesigner':'avg_stressed', 'Architect':'avg_stressed', 'HouseKeeper':'less_stressed', 'FilmMaker':'avg_stressed',\n",
        "   'Buisnessman':'more_stressed', 'Politician':'avg_stressed', 'DefencePersonnels':'avg_stressed', 'Analyst':'avg_stressed',\n",
        "   'Clerks':'avg_stressed', 'ITProfessional':'more_stressed', 'Farmer':'less_stressed', 'Journalist':'more_stressed', 'Lawyer':'avg_stressed',\n",
        "   'GovEmployee':'less_stressed'})"
      ]
    },
    {
      "cell_type": "code",
      "execution_count": null,
      "id": "07b435a5",
      "metadata": {
        "id": "07b435a5",
        "outputId": "c9e3abb5-3b6b-4d4a-d6a0-8a2ce8979154",
        "colab": {
          "base_uri": "https://localhost:8080/"
        }
      },
      "outputs": [
        {
          "output_type": "execute_result",
          "data": {
            "text/plain": [
              "avg_stressed     6792\n",
              "less_stressed    5718\n",
              "more_stressed    2490\n",
              "Name: job_title, dtype: int64"
            ]
          },
          "metadata": {},
          "execution_count": 35
        }
      ],
      "source": [
        "ids['job_title'].value_counts()"
      ]
    },
    {
      "cell_type": "markdown",
      "id": "126b33d9",
      "metadata": {
        "id": "126b33d9"
      },
      "source": [
        "# Dummy Variable handling"
      ]
    },
    {
      "cell_type": "code",
      "execution_count": null,
      "id": "a591946b",
      "metadata": {
        "id": "a591946b",
        "outputId": "3345f243-d578-4def-c038-9ccf19587186",
        "colab": {
          "base_uri": "https://localhost:8080/",
          "height": 206
        }
      },
      "outputs": [
        {
          "output_type": "execute_result",
          "data": {
            "text/plain": [
              "    age     sex   bmi hereditary_diseases  no_of_dependents  smoker  \\\n",
              "0  60.0    male  24.3           NoDisease                 1       0   \n",
              "1  49.0  female  22.6           NoDisease                 1       0   \n",
              "2  32.0  female  17.8            moderate                 2       1   \n",
              "3  61.0  female  36.4           NoDisease                 1       1   \n",
              "4  19.0  female  20.6           NoDisease                 0       0   \n",
              "\n",
              "   bloodpressure  diabetes  regular_ex      job_title      claim  \n",
              "0             72         0           0   avg_stressed   9.481405  \n",
              "1             78         1           1  more_stressed   9.166179  \n",
              "2             88         1           1   avg_stressed  10.396206  \n",
              "3             72         1           0  less_stressed  10.789703  \n",
              "4             82         1           0  less_stressed   7.457436  "
            ],
            "text/html": [
              "\n",
              "  <div id=\"df-6d0e2b2d-8fdd-44f4-8bf6-91415ecd2dcd\">\n",
              "    <div class=\"colab-df-container\">\n",
              "      <div>\n",
              "<style scoped>\n",
              "    .dataframe tbody tr th:only-of-type {\n",
              "        vertical-align: middle;\n",
              "    }\n",
              "\n",
              "    .dataframe tbody tr th {\n",
              "        vertical-align: top;\n",
              "    }\n",
              "\n",
              "    .dataframe thead th {\n",
              "        text-align: right;\n",
              "    }\n",
              "</style>\n",
              "<table border=\"1\" class=\"dataframe\">\n",
              "  <thead>\n",
              "    <tr style=\"text-align: right;\">\n",
              "      <th></th>\n",
              "      <th>age</th>\n",
              "      <th>sex</th>\n",
              "      <th>bmi</th>\n",
              "      <th>hereditary_diseases</th>\n",
              "      <th>no_of_dependents</th>\n",
              "      <th>smoker</th>\n",
              "      <th>bloodpressure</th>\n",
              "      <th>diabetes</th>\n",
              "      <th>regular_ex</th>\n",
              "      <th>job_title</th>\n",
              "      <th>claim</th>\n",
              "    </tr>\n",
              "  </thead>\n",
              "  <tbody>\n",
              "    <tr>\n",
              "      <th>0</th>\n",
              "      <td>60.0</td>\n",
              "      <td>male</td>\n",
              "      <td>24.3</td>\n",
              "      <td>NoDisease</td>\n",
              "      <td>1</td>\n",
              "      <td>0</td>\n",
              "      <td>72</td>\n",
              "      <td>0</td>\n",
              "      <td>0</td>\n",
              "      <td>avg_stressed</td>\n",
              "      <td>9.481405</td>\n",
              "    </tr>\n",
              "    <tr>\n",
              "      <th>1</th>\n",
              "      <td>49.0</td>\n",
              "      <td>female</td>\n",
              "      <td>22.6</td>\n",
              "      <td>NoDisease</td>\n",
              "      <td>1</td>\n",
              "      <td>0</td>\n",
              "      <td>78</td>\n",
              "      <td>1</td>\n",
              "      <td>1</td>\n",
              "      <td>more_stressed</td>\n",
              "      <td>9.166179</td>\n",
              "    </tr>\n",
              "    <tr>\n",
              "      <th>2</th>\n",
              "      <td>32.0</td>\n",
              "      <td>female</td>\n",
              "      <td>17.8</td>\n",
              "      <td>moderate</td>\n",
              "      <td>2</td>\n",
              "      <td>1</td>\n",
              "      <td>88</td>\n",
              "      <td>1</td>\n",
              "      <td>1</td>\n",
              "      <td>avg_stressed</td>\n",
              "      <td>10.396206</td>\n",
              "    </tr>\n",
              "    <tr>\n",
              "      <th>3</th>\n",
              "      <td>61.0</td>\n",
              "      <td>female</td>\n",
              "      <td>36.4</td>\n",
              "      <td>NoDisease</td>\n",
              "      <td>1</td>\n",
              "      <td>1</td>\n",
              "      <td>72</td>\n",
              "      <td>1</td>\n",
              "      <td>0</td>\n",
              "      <td>less_stressed</td>\n",
              "      <td>10.789703</td>\n",
              "    </tr>\n",
              "    <tr>\n",
              "      <th>4</th>\n",
              "      <td>19.0</td>\n",
              "      <td>female</td>\n",
              "      <td>20.6</td>\n",
              "      <td>NoDisease</td>\n",
              "      <td>0</td>\n",
              "      <td>0</td>\n",
              "      <td>82</td>\n",
              "      <td>1</td>\n",
              "      <td>0</td>\n",
              "      <td>less_stressed</td>\n",
              "      <td>7.457436</td>\n",
              "    </tr>\n",
              "  </tbody>\n",
              "</table>\n",
              "</div>\n",
              "      <button class=\"colab-df-convert\" onclick=\"convertToInteractive('df-6d0e2b2d-8fdd-44f4-8bf6-91415ecd2dcd')\"\n",
              "              title=\"Convert this dataframe to an interactive table.\"\n",
              "              style=\"display:none;\">\n",
              "        \n",
              "  <svg xmlns=\"http://www.w3.org/2000/svg\" height=\"24px\"viewBox=\"0 0 24 24\"\n",
              "       width=\"24px\">\n",
              "    <path d=\"M0 0h24v24H0V0z\" fill=\"none\"/>\n",
              "    <path d=\"M18.56 5.44l.94 2.06.94-2.06 2.06-.94-2.06-.94-.94-2.06-.94 2.06-2.06.94zm-11 1L8.5 8.5l.94-2.06 2.06-.94-2.06-.94L8.5 2.5l-.94 2.06-2.06.94zm10 10l.94 2.06.94-2.06 2.06-.94-2.06-.94-.94-2.06-.94 2.06-2.06.94z\"/><path d=\"M17.41 7.96l-1.37-1.37c-.4-.4-.92-.59-1.43-.59-.52 0-1.04.2-1.43.59L10.3 9.45l-7.72 7.72c-.78.78-.78 2.05 0 2.83L4 21.41c.39.39.9.59 1.41.59.51 0 1.02-.2 1.41-.59l7.78-7.78 2.81-2.81c.8-.78.8-2.07 0-2.86zM5.41 20L4 18.59l7.72-7.72 1.47 1.35L5.41 20z\"/>\n",
              "  </svg>\n",
              "      </button>\n",
              "      \n",
              "  <style>\n",
              "    .colab-df-container {\n",
              "      display:flex;\n",
              "      flex-wrap:wrap;\n",
              "      gap: 12px;\n",
              "    }\n",
              "\n",
              "    .colab-df-convert {\n",
              "      background-color: #E8F0FE;\n",
              "      border: none;\n",
              "      border-radius: 50%;\n",
              "      cursor: pointer;\n",
              "      display: none;\n",
              "      fill: #1967D2;\n",
              "      height: 32px;\n",
              "      padding: 0 0 0 0;\n",
              "      width: 32px;\n",
              "    }\n",
              "\n",
              "    .colab-df-convert:hover {\n",
              "      background-color: #E2EBFA;\n",
              "      box-shadow: 0px 1px 2px rgba(60, 64, 67, 0.3), 0px 1px 3px 1px rgba(60, 64, 67, 0.15);\n",
              "      fill: #174EA6;\n",
              "    }\n",
              "\n",
              "    [theme=dark] .colab-df-convert {\n",
              "      background-color: #3B4455;\n",
              "      fill: #D2E3FC;\n",
              "    }\n",
              "\n",
              "    [theme=dark] .colab-df-convert:hover {\n",
              "      background-color: #434B5C;\n",
              "      box-shadow: 0px 1px 3px 1px rgba(0, 0, 0, 0.15);\n",
              "      filter: drop-shadow(0px 1px 2px rgba(0, 0, 0, 0.3));\n",
              "      fill: #FFFFFF;\n",
              "    }\n",
              "  </style>\n",
              "\n",
              "      <script>\n",
              "        const buttonEl =\n",
              "          document.querySelector('#df-6d0e2b2d-8fdd-44f4-8bf6-91415ecd2dcd button.colab-df-convert');\n",
              "        buttonEl.style.display =\n",
              "          google.colab.kernel.accessAllowed ? 'block' : 'none';\n",
              "\n",
              "        async function convertToInteractive(key) {\n",
              "          const element = document.querySelector('#df-6d0e2b2d-8fdd-44f4-8bf6-91415ecd2dcd');\n",
              "          const dataTable =\n",
              "            await google.colab.kernel.invokeFunction('convertToInteractive',\n",
              "                                                     [key], {});\n",
              "          if (!dataTable) return;\n",
              "\n",
              "          const docLinkHtml = 'Like what you see? Visit the ' +\n",
              "            '<a target=\"_blank\" href=https://colab.research.google.com/notebooks/data_table.ipynb>data table notebook</a>'\n",
              "            + ' to learn more about interactive tables.';\n",
              "          element.innerHTML = '';\n",
              "          dataTable['output_type'] = 'display_data';\n",
              "          await google.colab.output.renderOutput(dataTable, element);\n",
              "          const docLink = document.createElement('div');\n",
              "          docLink.innerHTML = docLinkHtml;\n",
              "          element.appendChild(docLink);\n",
              "        }\n",
              "      </script>\n",
              "    </div>\n",
              "  </div>\n",
              "  "
            ]
          },
          "metadata": {},
          "execution_count": 36
        }
      ],
      "source": [
        "ids.head()"
      ]
    },
    {
      "cell_type": "code",
      "execution_count": null,
      "id": "48e89ae6",
      "metadata": {
        "id": "48e89ae6"
      },
      "outputs": [],
      "source": [
        "ids=pd.get_dummies(ids)"
      ]
    },
    {
      "cell_type": "code",
      "execution_count": null,
      "id": "83436f62",
      "metadata": {
        "id": "83436f62",
        "outputId": "1cfa5335-ce22-46a7-e11a-878f76610252",
        "colab": {
          "base_uri": "https://localhost:8080/",
          "height": 270
        }
      },
      "outputs": [
        {
          "output_type": "execute_result",
          "data": {
            "text/plain": [
              "    age   bmi  no_of_dependents  smoker  bloodpressure  diabetes  regular_ex  \\\n",
              "0  60.0  24.3                 1       0             72         0           0   \n",
              "1  49.0  22.6                 1       0             78         1           1   \n",
              "2  32.0  17.8                 2       1             88         1           1   \n",
              "3  61.0  36.4                 1       1             72         1           0   \n",
              "4  19.0  20.6                 0       0             82         1           0   \n",
              "\n",
              "       claim  sex_female  sex_male  hereditary_diseases_NoDisease  \\\n",
              "0   9.481405           0         1                              1   \n",
              "1   9.166179           1         0                              1   \n",
              "2  10.396206           1         0                              0   \n",
              "3  10.789703           1         0                              1   \n",
              "4   7.457436           1         0                              1   \n",
              "\n",
              "   hereditary_diseases_moderate  hereditary_diseases_severe  \\\n",
              "0                             0                           0   \n",
              "1                             0                           0   \n",
              "2                             1                           0   \n",
              "3                             0                           0   \n",
              "4                             0                           0   \n",
              "\n",
              "   job_title_avg_stressed  job_title_less_stressed  job_title_more_stressed  \n",
              "0                       1                        0                        0  \n",
              "1                       0                        0                        1  \n",
              "2                       1                        0                        0  \n",
              "3                       0                        1                        0  \n",
              "4                       0                        1                        0  "
            ],
            "text/html": [
              "\n",
              "  <div id=\"df-6b98b086-6087-40b1-b2f1-c45d1b2a2d22\">\n",
              "    <div class=\"colab-df-container\">\n",
              "      <div>\n",
              "<style scoped>\n",
              "    .dataframe tbody tr th:only-of-type {\n",
              "        vertical-align: middle;\n",
              "    }\n",
              "\n",
              "    .dataframe tbody tr th {\n",
              "        vertical-align: top;\n",
              "    }\n",
              "\n",
              "    .dataframe thead th {\n",
              "        text-align: right;\n",
              "    }\n",
              "</style>\n",
              "<table border=\"1\" class=\"dataframe\">\n",
              "  <thead>\n",
              "    <tr style=\"text-align: right;\">\n",
              "      <th></th>\n",
              "      <th>age</th>\n",
              "      <th>bmi</th>\n",
              "      <th>no_of_dependents</th>\n",
              "      <th>smoker</th>\n",
              "      <th>bloodpressure</th>\n",
              "      <th>diabetes</th>\n",
              "      <th>regular_ex</th>\n",
              "      <th>claim</th>\n",
              "      <th>sex_female</th>\n",
              "      <th>sex_male</th>\n",
              "      <th>hereditary_diseases_NoDisease</th>\n",
              "      <th>hereditary_diseases_moderate</th>\n",
              "      <th>hereditary_diseases_severe</th>\n",
              "      <th>job_title_avg_stressed</th>\n",
              "      <th>job_title_less_stressed</th>\n",
              "      <th>job_title_more_stressed</th>\n",
              "    </tr>\n",
              "  </thead>\n",
              "  <tbody>\n",
              "    <tr>\n",
              "      <th>0</th>\n",
              "      <td>60.0</td>\n",
              "      <td>24.3</td>\n",
              "      <td>1</td>\n",
              "      <td>0</td>\n",
              "      <td>72</td>\n",
              "      <td>0</td>\n",
              "      <td>0</td>\n",
              "      <td>9.481405</td>\n",
              "      <td>0</td>\n",
              "      <td>1</td>\n",
              "      <td>1</td>\n",
              "      <td>0</td>\n",
              "      <td>0</td>\n",
              "      <td>1</td>\n",
              "      <td>0</td>\n",
              "      <td>0</td>\n",
              "    </tr>\n",
              "    <tr>\n",
              "      <th>1</th>\n",
              "      <td>49.0</td>\n",
              "      <td>22.6</td>\n",
              "      <td>1</td>\n",
              "      <td>0</td>\n",
              "      <td>78</td>\n",
              "      <td>1</td>\n",
              "      <td>1</td>\n",
              "      <td>9.166179</td>\n",
              "      <td>1</td>\n",
              "      <td>0</td>\n",
              "      <td>1</td>\n",
              "      <td>0</td>\n",
              "      <td>0</td>\n",
              "      <td>0</td>\n",
              "      <td>0</td>\n",
              "      <td>1</td>\n",
              "    </tr>\n",
              "    <tr>\n",
              "      <th>2</th>\n",
              "      <td>32.0</td>\n",
              "      <td>17.8</td>\n",
              "      <td>2</td>\n",
              "      <td>1</td>\n",
              "      <td>88</td>\n",
              "      <td>1</td>\n",
              "      <td>1</td>\n",
              "      <td>10.396206</td>\n",
              "      <td>1</td>\n",
              "      <td>0</td>\n",
              "      <td>0</td>\n",
              "      <td>1</td>\n",
              "      <td>0</td>\n",
              "      <td>1</td>\n",
              "      <td>0</td>\n",
              "      <td>0</td>\n",
              "    </tr>\n",
              "    <tr>\n",
              "      <th>3</th>\n",
              "      <td>61.0</td>\n",
              "      <td>36.4</td>\n",
              "      <td>1</td>\n",
              "      <td>1</td>\n",
              "      <td>72</td>\n",
              "      <td>1</td>\n",
              "      <td>0</td>\n",
              "      <td>10.789703</td>\n",
              "      <td>1</td>\n",
              "      <td>0</td>\n",
              "      <td>1</td>\n",
              "      <td>0</td>\n",
              "      <td>0</td>\n",
              "      <td>0</td>\n",
              "      <td>1</td>\n",
              "      <td>0</td>\n",
              "    </tr>\n",
              "    <tr>\n",
              "      <th>4</th>\n",
              "      <td>19.0</td>\n",
              "      <td>20.6</td>\n",
              "      <td>0</td>\n",
              "      <td>0</td>\n",
              "      <td>82</td>\n",
              "      <td>1</td>\n",
              "      <td>0</td>\n",
              "      <td>7.457436</td>\n",
              "      <td>1</td>\n",
              "      <td>0</td>\n",
              "      <td>1</td>\n",
              "      <td>0</td>\n",
              "      <td>0</td>\n",
              "      <td>0</td>\n",
              "      <td>1</td>\n",
              "      <td>0</td>\n",
              "    </tr>\n",
              "  </tbody>\n",
              "</table>\n",
              "</div>\n",
              "      <button class=\"colab-df-convert\" onclick=\"convertToInteractive('df-6b98b086-6087-40b1-b2f1-c45d1b2a2d22')\"\n",
              "              title=\"Convert this dataframe to an interactive table.\"\n",
              "              style=\"display:none;\">\n",
              "        \n",
              "  <svg xmlns=\"http://www.w3.org/2000/svg\" height=\"24px\"viewBox=\"0 0 24 24\"\n",
              "       width=\"24px\">\n",
              "    <path d=\"M0 0h24v24H0V0z\" fill=\"none\"/>\n",
              "    <path d=\"M18.56 5.44l.94 2.06.94-2.06 2.06-.94-2.06-.94-.94-2.06-.94 2.06-2.06.94zm-11 1L8.5 8.5l.94-2.06 2.06-.94-2.06-.94L8.5 2.5l-.94 2.06-2.06.94zm10 10l.94 2.06.94-2.06 2.06-.94-2.06-.94-.94-2.06-.94 2.06-2.06.94z\"/><path d=\"M17.41 7.96l-1.37-1.37c-.4-.4-.92-.59-1.43-.59-.52 0-1.04.2-1.43.59L10.3 9.45l-7.72 7.72c-.78.78-.78 2.05 0 2.83L4 21.41c.39.39.9.59 1.41.59.51 0 1.02-.2 1.41-.59l7.78-7.78 2.81-2.81c.8-.78.8-2.07 0-2.86zM5.41 20L4 18.59l7.72-7.72 1.47 1.35L5.41 20z\"/>\n",
              "  </svg>\n",
              "      </button>\n",
              "      \n",
              "  <style>\n",
              "    .colab-df-container {\n",
              "      display:flex;\n",
              "      flex-wrap:wrap;\n",
              "      gap: 12px;\n",
              "    }\n",
              "\n",
              "    .colab-df-convert {\n",
              "      background-color: #E8F0FE;\n",
              "      border: none;\n",
              "      border-radius: 50%;\n",
              "      cursor: pointer;\n",
              "      display: none;\n",
              "      fill: #1967D2;\n",
              "      height: 32px;\n",
              "      padding: 0 0 0 0;\n",
              "      width: 32px;\n",
              "    }\n",
              "\n",
              "    .colab-df-convert:hover {\n",
              "      background-color: #E2EBFA;\n",
              "      box-shadow: 0px 1px 2px rgba(60, 64, 67, 0.3), 0px 1px 3px 1px rgba(60, 64, 67, 0.15);\n",
              "      fill: #174EA6;\n",
              "    }\n",
              "\n",
              "    [theme=dark] .colab-df-convert {\n",
              "      background-color: #3B4455;\n",
              "      fill: #D2E3FC;\n",
              "    }\n",
              "\n",
              "    [theme=dark] .colab-df-convert:hover {\n",
              "      background-color: #434B5C;\n",
              "      box-shadow: 0px 1px 3px 1px rgba(0, 0, 0, 0.15);\n",
              "      filter: drop-shadow(0px 1px 2px rgba(0, 0, 0, 0.3));\n",
              "      fill: #FFFFFF;\n",
              "    }\n",
              "  </style>\n",
              "\n",
              "      <script>\n",
              "        const buttonEl =\n",
              "          document.querySelector('#df-6b98b086-6087-40b1-b2f1-c45d1b2a2d22 button.colab-df-convert');\n",
              "        buttonEl.style.display =\n",
              "          google.colab.kernel.accessAllowed ? 'block' : 'none';\n",
              "\n",
              "        async function convertToInteractive(key) {\n",
              "          const element = document.querySelector('#df-6b98b086-6087-40b1-b2f1-c45d1b2a2d22');\n",
              "          const dataTable =\n",
              "            await google.colab.kernel.invokeFunction('convertToInteractive',\n",
              "                                                     [key], {});\n",
              "          if (!dataTable) return;\n",
              "\n",
              "          const docLinkHtml = 'Like what you see? Visit the ' +\n",
              "            '<a target=\"_blank\" href=https://colab.research.google.com/notebooks/data_table.ipynb>data table notebook</a>'\n",
              "            + ' to learn more about interactive tables.';\n",
              "          element.innerHTML = '';\n",
              "          dataTable['output_type'] = 'display_data';\n",
              "          await google.colab.output.renderOutput(dataTable, element);\n",
              "          const docLink = document.createElement('div');\n",
              "          docLink.innerHTML = docLinkHtml;\n",
              "          element.appendChild(docLink);\n",
              "        }\n",
              "      </script>\n",
              "    </div>\n",
              "  </div>\n",
              "  "
            ]
          },
          "metadata": {},
          "execution_count": 38
        }
      ],
      "source": [
        "ids.head()"
      ]
    },
    {
      "cell_type": "code",
      "execution_count": null,
      "id": "45011dd1",
      "metadata": {
        "id": "45011dd1"
      },
      "outputs": [],
      "source": [
        "ids.drop(['sex_female','hereditary_diseases_NoDisease','job_title_avg_stressed'],axis=1,inplace=True)"
      ]
    },
    {
      "cell_type": "code",
      "execution_count": null,
      "id": "5c3b5bd3",
      "metadata": {
        "id": "5c3b5bd3",
        "outputId": "59a0db3e-ef64-4ee0-eb67-855fd98c8df4",
        "colab": {
          "base_uri": "https://localhost:8080/",
          "height": 740
        }
      },
      "outputs": [
        {
          "output_type": "execute_result",
          "data": {
            "text/plain": [
              "     age   bmi  no_of_dependents  smoker  bloodpressure  diabetes  regular_ex  \\\n",
              "0   60.0  24.3                 1       0             72         0           0   \n",
              "1   49.0  22.6                 1       0             78         1           1   \n",
              "2   32.0  17.8                 2       1             88         1           1   \n",
              "3   61.0  36.4                 1       1             72         1           0   \n",
              "4   19.0  20.6                 0       0             82         1           0   \n",
              "5   42.0  37.9                 0       0             78         0           0   \n",
              "6   18.0  23.8                 0       0             64         0           0   \n",
              "7   21.0  26.8                 0       0             74         1           0   \n",
              "8   63.0  29.4                 0       0             70         1           0   \n",
              "9   40.0  29.6                 0       0             64         1           1   \n",
              "10  51.0  33.0                 0       1             48         1           0   \n",
              "11  59.0  36.5                 1       0             70         1           1   \n",
              "12  19.0  24.6                 1       0             48         0           1   \n",
              "13  21.0  35.7                 0       0             62         1           0   \n",
              "14  27.0  18.9                 3       0             90         1           0   \n",
              "15  56.0  40.3                 0       0             48         1           0   \n",
              "16  56.0  27.2                 0       0             68         1           0   \n",
              "17  63.0  40.5                 3       0             70         1           1   \n",
              "18  19.0  24.6                 1       0             70         1           0   \n",
              "19  52.0  38.4                 2       0             48         1           0   \n",
              "\n",
              "        claim  sex_male  hereditary_diseases_moderate  \\\n",
              "0    9.481405         1                             0   \n",
              "1    9.166179         0                             0   \n",
              "2   10.396206         0                             1   \n",
              "3   10.789703         0                             0   \n",
              "4    7.457436         0                             0   \n",
              "5    8.775704         0                             0   \n",
              "6    7.442258         1                             0   \n",
              "7    7.336481         1                             0   \n",
              "8    9.502383         1                             0   \n",
              "9    8.684723         0                             0   \n",
              "10  10.701026         0                             1   \n",
              "11  10.250225         0                             0   \n",
              "12   7.516542         1                             0   \n",
              "13   7.785596         0                             0   \n",
              "14   8.482374         1                             0   \n",
              "15   9.268930         1                             0   \n",
              "16   9.312373         0                             0   \n",
              "17   9.652215         1                             0   \n",
              "18   7.904778         0                             0   \n",
              "19   9.341184         0                             0   \n",
              "\n",
              "    hereditary_diseases_severe  job_title_less_stressed  \\\n",
              "0                            0                        0   \n",
              "1                            0                        0   \n",
              "2                            0                        0   \n",
              "3                            0                        1   \n",
              "4                            0                        1   \n",
              "5                            0                        1   \n",
              "6                            0                        1   \n",
              "7                            0                        0   \n",
              "8                            0                        1   \n",
              "9                            0                        0   \n",
              "10                           0                        0   \n",
              "11                           0                        1   \n",
              "12                           0                        0   \n",
              "13                           0                        1   \n",
              "14                           0                        1   \n",
              "15                           0                        0   \n",
              "16                           0                        1   \n",
              "17                           0                        1   \n",
              "18                           0                        0   \n",
              "19                           0                        0   \n",
              "\n",
              "    job_title_more_stressed  \n",
              "0                         0  \n",
              "1                         1  \n",
              "2                         0  \n",
              "3                         0  \n",
              "4                         0  \n",
              "5                         0  \n",
              "6                         0  \n",
              "7                         0  \n",
              "8                         0  \n",
              "9                         0  \n",
              "10                        0  \n",
              "11                        0  \n",
              "12                        0  \n",
              "13                        0  \n",
              "14                        0  \n",
              "15                        1  \n",
              "16                        0  \n",
              "17                        0  \n",
              "18                        0  \n",
              "19                        1  "
            ],
            "text/html": [
              "\n",
              "  <div id=\"df-ceab9766-f14e-4af3-8cc3-49eb1b8eaee6\">\n",
              "    <div class=\"colab-df-container\">\n",
              "      <div>\n",
              "<style scoped>\n",
              "    .dataframe tbody tr th:only-of-type {\n",
              "        vertical-align: middle;\n",
              "    }\n",
              "\n",
              "    .dataframe tbody tr th {\n",
              "        vertical-align: top;\n",
              "    }\n",
              "\n",
              "    .dataframe thead th {\n",
              "        text-align: right;\n",
              "    }\n",
              "</style>\n",
              "<table border=\"1\" class=\"dataframe\">\n",
              "  <thead>\n",
              "    <tr style=\"text-align: right;\">\n",
              "      <th></th>\n",
              "      <th>age</th>\n",
              "      <th>bmi</th>\n",
              "      <th>no_of_dependents</th>\n",
              "      <th>smoker</th>\n",
              "      <th>bloodpressure</th>\n",
              "      <th>diabetes</th>\n",
              "      <th>regular_ex</th>\n",
              "      <th>claim</th>\n",
              "      <th>sex_male</th>\n",
              "      <th>hereditary_diseases_moderate</th>\n",
              "      <th>hereditary_diseases_severe</th>\n",
              "      <th>job_title_less_stressed</th>\n",
              "      <th>job_title_more_stressed</th>\n",
              "    </tr>\n",
              "  </thead>\n",
              "  <tbody>\n",
              "    <tr>\n",
              "      <th>0</th>\n",
              "      <td>60.0</td>\n",
              "      <td>24.3</td>\n",
              "      <td>1</td>\n",
              "      <td>0</td>\n",
              "      <td>72</td>\n",
              "      <td>0</td>\n",
              "      <td>0</td>\n",
              "      <td>9.481405</td>\n",
              "      <td>1</td>\n",
              "      <td>0</td>\n",
              "      <td>0</td>\n",
              "      <td>0</td>\n",
              "      <td>0</td>\n",
              "    </tr>\n",
              "    <tr>\n",
              "      <th>1</th>\n",
              "      <td>49.0</td>\n",
              "      <td>22.6</td>\n",
              "      <td>1</td>\n",
              "      <td>0</td>\n",
              "      <td>78</td>\n",
              "      <td>1</td>\n",
              "      <td>1</td>\n",
              "      <td>9.166179</td>\n",
              "      <td>0</td>\n",
              "      <td>0</td>\n",
              "      <td>0</td>\n",
              "      <td>0</td>\n",
              "      <td>1</td>\n",
              "    </tr>\n",
              "    <tr>\n",
              "      <th>2</th>\n",
              "      <td>32.0</td>\n",
              "      <td>17.8</td>\n",
              "      <td>2</td>\n",
              "      <td>1</td>\n",
              "      <td>88</td>\n",
              "      <td>1</td>\n",
              "      <td>1</td>\n",
              "      <td>10.396206</td>\n",
              "      <td>0</td>\n",
              "      <td>1</td>\n",
              "      <td>0</td>\n",
              "      <td>0</td>\n",
              "      <td>0</td>\n",
              "    </tr>\n",
              "    <tr>\n",
              "      <th>3</th>\n",
              "      <td>61.0</td>\n",
              "      <td>36.4</td>\n",
              "      <td>1</td>\n",
              "      <td>1</td>\n",
              "      <td>72</td>\n",
              "      <td>1</td>\n",
              "      <td>0</td>\n",
              "      <td>10.789703</td>\n",
              "      <td>0</td>\n",
              "      <td>0</td>\n",
              "      <td>0</td>\n",
              "      <td>1</td>\n",
              "      <td>0</td>\n",
              "    </tr>\n",
              "    <tr>\n",
              "      <th>4</th>\n",
              "      <td>19.0</td>\n",
              "      <td>20.6</td>\n",
              "      <td>0</td>\n",
              "      <td>0</td>\n",
              "      <td>82</td>\n",
              "      <td>1</td>\n",
              "      <td>0</td>\n",
              "      <td>7.457436</td>\n",
              "      <td>0</td>\n",
              "      <td>0</td>\n",
              "      <td>0</td>\n",
              "      <td>1</td>\n",
              "      <td>0</td>\n",
              "    </tr>\n",
              "    <tr>\n",
              "      <th>5</th>\n",
              "      <td>42.0</td>\n",
              "      <td>37.9</td>\n",
              "      <td>0</td>\n",
              "      <td>0</td>\n",
              "      <td>78</td>\n",
              "      <td>0</td>\n",
              "      <td>0</td>\n",
              "      <td>8.775704</td>\n",
              "      <td>0</td>\n",
              "      <td>0</td>\n",
              "      <td>0</td>\n",
              "      <td>1</td>\n",
              "      <td>0</td>\n",
              "    </tr>\n",
              "    <tr>\n",
              "      <th>6</th>\n",
              "      <td>18.0</td>\n",
              "      <td>23.8</td>\n",
              "      <td>0</td>\n",
              "      <td>0</td>\n",
              "      <td>64</td>\n",
              "      <td>0</td>\n",
              "      <td>0</td>\n",
              "      <td>7.442258</td>\n",
              "      <td>1</td>\n",
              "      <td>0</td>\n",
              "      <td>0</td>\n",
              "      <td>1</td>\n",
              "      <td>0</td>\n",
              "    </tr>\n",
              "    <tr>\n",
              "      <th>7</th>\n",
              "      <td>21.0</td>\n",
              "      <td>26.8</td>\n",
              "      <td>0</td>\n",
              "      <td>0</td>\n",
              "      <td>74</td>\n",
              "      <td>1</td>\n",
              "      <td>0</td>\n",
              "      <td>7.336481</td>\n",
              "      <td>1</td>\n",
              "      <td>0</td>\n",
              "      <td>0</td>\n",
              "      <td>0</td>\n",
              "      <td>0</td>\n",
              "    </tr>\n",
              "    <tr>\n",
              "      <th>8</th>\n",
              "      <td>63.0</td>\n",
              "      <td>29.4</td>\n",
              "      <td>0</td>\n",
              "      <td>0</td>\n",
              "      <td>70</td>\n",
              "      <td>1</td>\n",
              "      <td>0</td>\n",
              "      <td>9.502383</td>\n",
              "      <td>1</td>\n",
              "      <td>0</td>\n",
              "      <td>0</td>\n",
              "      <td>1</td>\n",
              "      <td>0</td>\n",
              "    </tr>\n",
              "    <tr>\n",
              "      <th>9</th>\n",
              "      <td>40.0</td>\n",
              "      <td>29.6</td>\n",
              "      <td>0</td>\n",
              "      <td>0</td>\n",
              "      <td>64</td>\n",
              "      <td>1</td>\n",
              "      <td>1</td>\n",
              "      <td>8.684723</td>\n",
              "      <td>0</td>\n",
              "      <td>0</td>\n",
              "      <td>0</td>\n",
              "      <td>0</td>\n",
              "      <td>0</td>\n",
              "    </tr>\n",
              "    <tr>\n",
              "      <th>10</th>\n",
              "      <td>51.0</td>\n",
              "      <td>33.0</td>\n",
              "      <td>0</td>\n",
              "      <td>1</td>\n",
              "      <td>48</td>\n",
              "      <td>1</td>\n",
              "      <td>0</td>\n",
              "      <td>10.701026</td>\n",
              "      <td>0</td>\n",
              "      <td>1</td>\n",
              "      <td>0</td>\n",
              "      <td>0</td>\n",
              "      <td>0</td>\n",
              "    </tr>\n",
              "    <tr>\n",
              "      <th>11</th>\n",
              "      <td>59.0</td>\n",
              "      <td>36.5</td>\n",
              "      <td>1</td>\n",
              "      <td>0</td>\n",
              "      <td>70</td>\n",
              "      <td>1</td>\n",
              "      <td>1</td>\n",
              "      <td>10.250225</td>\n",
              "      <td>0</td>\n",
              "      <td>0</td>\n",
              "      <td>0</td>\n",
              "      <td>1</td>\n",
              "      <td>0</td>\n",
              "    </tr>\n",
              "    <tr>\n",
              "      <th>12</th>\n",
              "      <td>19.0</td>\n",
              "      <td>24.6</td>\n",
              "      <td>1</td>\n",
              "      <td>0</td>\n",
              "      <td>48</td>\n",
              "      <td>0</td>\n",
              "      <td>1</td>\n",
              "      <td>7.516542</td>\n",
              "      <td>1</td>\n",
              "      <td>0</td>\n",
              "      <td>0</td>\n",
              "      <td>0</td>\n",
              "      <td>0</td>\n",
              "    </tr>\n",
              "    <tr>\n",
              "      <th>13</th>\n",
              "      <td>21.0</td>\n",
              "      <td>35.7</td>\n",
              "      <td>0</td>\n",
              "      <td>0</td>\n",
              "      <td>62</td>\n",
              "      <td>1</td>\n",
              "      <td>0</td>\n",
              "      <td>7.785596</td>\n",
              "      <td>0</td>\n",
              "      <td>0</td>\n",
              "      <td>0</td>\n",
              "      <td>1</td>\n",
              "      <td>0</td>\n",
              "    </tr>\n",
              "    <tr>\n",
              "      <th>14</th>\n",
              "      <td>27.0</td>\n",
              "      <td>18.9</td>\n",
              "      <td>3</td>\n",
              "      <td>0</td>\n",
              "      <td>90</td>\n",
              "      <td>1</td>\n",
              "      <td>0</td>\n",
              "      <td>8.482374</td>\n",
              "      <td>1</td>\n",
              "      <td>0</td>\n",
              "      <td>0</td>\n",
              "      <td>1</td>\n",
              "      <td>0</td>\n",
              "    </tr>\n",
              "    <tr>\n",
              "      <th>15</th>\n",
              "      <td>56.0</td>\n",
              "      <td>40.3</td>\n",
              "      <td>0</td>\n",
              "      <td>0</td>\n",
              "      <td>48</td>\n",
              "      <td>1</td>\n",
              "      <td>0</td>\n",
              "      <td>9.268930</td>\n",
              "      <td>1</td>\n",
              "      <td>0</td>\n",
              "      <td>0</td>\n",
              "      <td>0</td>\n",
              "      <td>1</td>\n",
              "    </tr>\n",
              "    <tr>\n",
              "      <th>16</th>\n",
              "      <td>56.0</td>\n",
              "      <td>27.2</td>\n",
              "      <td>0</td>\n",
              "      <td>0</td>\n",
              "      <td>68</td>\n",
              "      <td>1</td>\n",
              "      <td>0</td>\n",
              "      <td>9.312373</td>\n",
              "      <td>0</td>\n",
              "      <td>0</td>\n",
              "      <td>0</td>\n",
              "      <td>1</td>\n",
              "      <td>0</td>\n",
              "    </tr>\n",
              "    <tr>\n",
              "      <th>17</th>\n",
              "      <td>63.0</td>\n",
              "      <td>40.5</td>\n",
              "      <td>3</td>\n",
              "      <td>0</td>\n",
              "      <td>70</td>\n",
              "      <td>1</td>\n",
              "      <td>1</td>\n",
              "      <td>9.652215</td>\n",
              "      <td>1</td>\n",
              "      <td>0</td>\n",
              "      <td>0</td>\n",
              "      <td>1</td>\n",
              "      <td>0</td>\n",
              "    </tr>\n",
              "    <tr>\n",
              "      <th>18</th>\n",
              "      <td>19.0</td>\n",
              "      <td>24.6</td>\n",
              "      <td>1</td>\n",
              "      <td>0</td>\n",
              "      <td>70</td>\n",
              "      <td>1</td>\n",
              "      <td>0</td>\n",
              "      <td>7.904778</td>\n",
              "      <td>0</td>\n",
              "      <td>0</td>\n",
              "      <td>0</td>\n",
              "      <td>0</td>\n",
              "      <td>0</td>\n",
              "    </tr>\n",
              "    <tr>\n",
              "      <th>19</th>\n",
              "      <td>52.0</td>\n",
              "      <td>38.4</td>\n",
              "      <td>2</td>\n",
              "      <td>0</td>\n",
              "      <td>48</td>\n",
              "      <td>1</td>\n",
              "      <td>0</td>\n",
              "      <td>9.341184</td>\n",
              "      <td>0</td>\n",
              "      <td>0</td>\n",
              "      <td>0</td>\n",
              "      <td>0</td>\n",
              "      <td>1</td>\n",
              "    </tr>\n",
              "  </tbody>\n",
              "</table>\n",
              "</div>\n",
              "      <button class=\"colab-df-convert\" onclick=\"convertToInteractive('df-ceab9766-f14e-4af3-8cc3-49eb1b8eaee6')\"\n",
              "              title=\"Convert this dataframe to an interactive table.\"\n",
              "              style=\"display:none;\">\n",
              "        \n",
              "  <svg xmlns=\"http://www.w3.org/2000/svg\" height=\"24px\"viewBox=\"0 0 24 24\"\n",
              "       width=\"24px\">\n",
              "    <path d=\"M0 0h24v24H0V0z\" fill=\"none\"/>\n",
              "    <path d=\"M18.56 5.44l.94 2.06.94-2.06 2.06-.94-2.06-.94-.94-2.06-.94 2.06-2.06.94zm-11 1L8.5 8.5l.94-2.06 2.06-.94-2.06-.94L8.5 2.5l-.94 2.06-2.06.94zm10 10l.94 2.06.94-2.06 2.06-.94-2.06-.94-.94-2.06-.94 2.06-2.06.94z\"/><path d=\"M17.41 7.96l-1.37-1.37c-.4-.4-.92-.59-1.43-.59-.52 0-1.04.2-1.43.59L10.3 9.45l-7.72 7.72c-.78.78-.78 2.05 0 2.83L4 21.41c.39.39.9.59 1.41.59.51 0 1.02-.2 1.41-.59l7.78-7.78 2.81-2.81c.8-.78.8-2.07 0-2.86zM5.41 20L4 18.59l7.72-7.72 1.47 1.35L5.41 20z\"/>\n",
              "  </svg>\n",
              "      </button>\n",
              "      \n",
              "  <style>\n",
              "    .colab-df-container {\n",
              "      display:flex;\n",
              "      flex-wrap:wrap;\n",
              "      gap: 12px;\n",
              "    }\n",
              "\n",
              "    .colab-df-convert {\n",
              "      background-color: #E8F0FE;\n",
              "      border: none;\n",
              "      border-radius: 50%;\n",
              "      cursor: pointer;\n",
              "      display: none;\n",
              "      fill: #1967D2;\n",
              "      height: 32px;\n",
              "      padding: 0 0 0 0;\n",
              "      width: 32px;\n",
              "    }\n",
              "\n",
              "    .colab-df-convert:hover {\n",
              "      background-color: #E2EBFA;\n",
              "      box-shadow: 0px 1px 2px rgba(60, 64, 67, 0.3), 0px 1px 3px 1px rgba(60, 64, 67, 0.15);\n",
              "      fill: #174EA6;\n",
              "    }\n",
              "\n",
              "    [theme=dark] .colab-df-convert {\n",
              "      background-color: #3B4455;\n",
              "      fill: #D2E3FC;\n",
              "    }\n",
              "\n",
              "    [theme=dark] .colab-df-convert:hover {\n",
              "      background-color: #434B5C;\n",
              "      box-shadow: 0px 1px 3px 1px rgba(0, 0, 0, 0.15);\n",
              "      filter: drop-shadow(0px 1px 2px rgba(0, 0, 0, 0.3));\n",
              "      fill: #FFFFFF;\n",
              "    }\n",
              "  </style>\n",
              "\n",
              "      <script>\n",
              "        const buttonEl =\n",
              "          document.querySelector('#df-ceab9766-f14e-4af3-8cc3-49eb1b8eaee6 button.colab-df-convert');\n",
              "        buttonEl.style.display =\n",
              "          google.colab.kernel.accessAllowed ? 'block' : 'none';\n",
              "\n",
              "        async function convertToInteractive(key) {\n",
              "          const element = document.querySelector('#df-ceab9766-f14e-4af3-8cc3-49eb1b8eaee6');\n",
              "          const dataTable =\n",
              "            await google.colab.kernel.invokeFunction('convertToInteractive',\n",
              "                                                     [key], {});\n",
              "          if (!dataTable) return;\n",
              "\n",
              "          const docLinkHtml = 'Like what you see? Visit the ' +\n",
              "            '<a target=\"_blank\" href=https://colab.research.google.com/notebooks/data_table.ipynb>data table notebook</a>'\n",
              "            + ' to learn more about interactive tables.';\n",
              "          element.innerHTML = '';\n",
              "          dataTable['output_type'] = 'display_data';\n",
              "          await google.colab.output.renderOutput(dataTable, element);\n",
              "          const docLink = document.createElement('div');\n",
              "          docLink.innerHTML = docLinkHtml;\n",
              "          element.appendChild(docLink);\n",
              "        }\n",
              "      </script>\n",
              "    </div>\n",
              "  </div>\n",
              "  "
            ]
          },
          "metadata": {},
          "execution_count": 40
        }
      ],
      "source": [
        "ids.head(20)"
      ]
    },
    {
      "cell_type": "markdown",
      "id": "348a03a1",
      "metadata": {
        "id": "348a03a1"
      },
      "source": [
        "# Independent and Dependent Columns storing in x and y"
      ]
    },
    {
      "cell_type": "code",
      "execution_count": null,
      "id": "30dcb873",
      "metadata": {
        "id": "30dcb873"
      },
      "outputs": [],
      "source": [
        "x=ids.drop(['claim'],axis=1)\n",
        "y=ids['claim']"
      ]
    },
    {
      "cell_type": "code",
      "execution_count": null,
      "id": "958643ab",
      "metadata": {
        "id": "958643ab",
        "outputId": "01ab4df1-27fa-456a-df7d-a8eb9d343bf5",
        "colab": {
          "base_uri": "https://localhost:8080/",
          "height": 488
        }
      },
      "outputs": [
        {
          "output_type": "execute_result",
          "data": {
            "text/plain": [
              "        age   bmi  no_of_dependents  smoker  bloodpressure  diabetes  \\\n",
              "0      60.0  24.3                 1       0             72         0   \n",
              "1      49.0  22.6                 1       0             78         1   \n",
              "2      32.0  17.8                 2       1             88         1   \n",
              "3      61.0  36.4                 1       1             72         1   \n",
              "4      19.0  20.6                 0       0             82         1   \n",
              "...     ...   ...               ...     ...            ...       ...   \n",
              "14995  39.0  28.3                 1       1             54         1   \n",
              "14996  39.0  29.6                 4       0             64         1   \n",
              "14997  20.0  33.3                 0       0             52         1   \n",
              "14998  52.0  36.7                 0       0             70         1   \n",
              "14999  52.0  26.4                 3       0             72         1   \n",
              "\n",
              "       regular_ex  sex_male  hereditary_diseases_moderate  \\\n",
              "0               0         1                             0   \n",
              "1               1         0                             0   \n",
              "2               1         0                             1   \n",
              "3               0         0                             0   \n",
              "4               0         0                             0   \n",
              "...           ...       ...                           ...   \n",
              "14995           0         1                             0   \n",
              "14996           0         1                             0   \n",
              "14997           0         1                             0   \n",
              "14998           0         1                             0   \n",
              "14999           0         1                             0   \n",
              "\n",
              "       hereditary_diseases_severe  job_title_less_stressed  \\\n",
              "0                               0                        0   \n",
              "1                               0                        0   \n",
              "2                               0                        0   \n",
              "3                               0                        1   \n",
              "4                               0                        1   \n",
              "...                           ...                      ...   \n",
              "14995                           0                        0   \n",
              "14996                           0                        0   \n",
              "14997                           0                        0   \n",
              "14998                           0                        1   \n",
              "14999                           0                        0   \n",
              "\n",
              "       job_title_more_stressed  \n",
              "0                            0  \n",
              "1                            1  \n",
              "2                            0  \n",
              "3                            0  \n",
              "4                            0  \n",
              "...                        ...  \n",
              "14995                        0  \n",
              "14996                        0  \n",
              "14997                        0  \n",
              "14998                        0  \n",
              "14999                        1  \n",
              "\n",
              "[15000 rows x 12 columns]"
            ],
            "text/html": [
              "\n",
              "  <div id=\"df-64549be6-cb35-4fb4-83bc-1edd4e1cda6e\">\n",
              "    <div class=\"colab-df-container\">\n",
              "      <div>\n",
              "<style scoped>\n",
              "    .dataframe tbody tr th:only-of-type {\n",
              "        vertical-align: middle;\n",
              "    }\n",
              "\n",
              "    .dataframe tbody tr th {\n",
              "        vertical-align: top;\n",
              "    }\n",
              "\n",
              "    .dataframe thead th {\n",
              "        text-align: right;\n",
              "    }\n",
              "</style>\n",
              "<table border=\"1\" class=\"dataframe\">\n",
              "  <thead>\n",
              "    <tr style=\"text-align: right;\">\n",
              "      <th></th>\n",
              "      <th>age</th>\n",
              "      <th>bmi</th>\n",
              "      <th>no_of_dependents</th>\n",
              "      <th>smoker</th>\n",
              "      <th>bloodpressure</th>\n",
              "      <th>diabetes</th>\n",
              "      <th>regular_ex</th>\n",
              "      <th>sex_male</th>\n",
              "      <th>hereditary_diseases_moderate</th>\n",
              "      <th>hereditary_diseases_severe</th>\n",
              "      <th>job_title_less_stressed</th>\n",
              "      <th>job_title_more_stressed</th>\n",
              "    </tr>\n",
              "  </thead>\n",
              "  <tbody>\n",
              "    <tr>\n",
              "      <th>0</th>\n",
              "      <td>60.0</td>\n",
              "      <td>24.3</td>\n",
              "      <td>1</td>\n",
              "      <td>0</td>\n",
              "      <td>72</td>\n",
              "      <td>0</td>\n",
              "      <td>0</td>\n",
              "      <td>1</td>\n",
              "      <td>0</td>\n",
              "      <td>0</td>\n",
              "      <td>0</td>\n",
              "      <td>0</td>\n",
              "    </tr>\n",
              "    <tr>\n",
              "      <th>1</th>\n",
              "      <td>49.0</td>\n",
              "      <td>22.6</td>\n",
              "      <td>1</td>\n",
              "      <td>0</td>\n",
              "      <td>78</td>\n",
              "      <td>1</td>\n",
              "      <td>1</td>\n",
              "      <td>0</td>\n",
              "      <td>0</td>\n",
              "      <td>0</td>\n",
              "      <td>0</td>\n",
              "      <td>1</td>\n",
              "    </tr>\n",
              "    <tr>\n",
              "      <th>2</th>\n",
              "      <td>32.0</td>\n",
              "      <td>17.8</td>\n",
              "      <td>2</td>\n",
              "      <td>1</td>\n",
              "      <td>88</td>\n",
              "      <td>1</td>\n",
              "      <td>1</td>\n",
              "      <td>0</td>\n",
              "      <td>1</td>\n",
              "      <td>0</td>\n",
              "      <td>0</td>\n",
              "      <td>0</td>\n",
              "    </tr>\n",
              "    <tr>\n",
              "      <th>3</th>\n",
              "      <td>61.0</td>\n",
              "      <td>36.4</td>\n",
              "      <td>1</td>\n",
              "      <td>1</td>\n",
              "      <td>72</td>\n",
              "      <td>1</td>\n",
              "      <td>0</td>\n",
              "      <td>0</td>\n",
              "      <td>0</td>\n",
              "      <td>0</td>\n",
              "      <td>1</td>\n",
              "      <td>0</td>\n",
              "    </tr>\n",
              "    <tr>\n",
              "      <th>4</th>\n",
              "      <td>19.0</td>\n",
              "      <td>20.6</td>\n",
              "      <td>0</td>\n",
              "      <td>0</td>\n",
              "      <td>82</td>\n",
              "      <td>1</td>\n",
              "      <td>0</td>\n",
              "      <td>0</td>\n",
              "      <td>0</td>\n",
              "      <td>0</td>\n",
              "      <td>1</td>\n",
              "      <td>0</td>\n",
              "    </tr>\n",
              "    <tr>\n",
              "      <th>...</th>\n",
              "      <td>...</td>\n",
              "      <td>...</td>\n",
              "      <td>...</td>\n",
              "      <td>...</td>\n",
              "      <td>...</td>\n",
              "      <td>...</td>\n",
              "      <td>...</td>\n",
              "      <td>...</td>\n",
              "      <td>...</td>\n",
              "      <td>...</td>\n",
              "      <td>...</td>\n",
              "      <td>...</td>\n",
              "    </tr>\n",
              "    <tr>\n",
              "      <th>14995</th>\n",
              "      <td>39.0</td>\n",
              "      <td>28.3</td>\n",
              "      <td>1</td>\n",
              "      <td>1</td>\n",
              "      <td>54</td>\n",
              "      <td>1</td>\n",
              "      <td>0</td>\n",
              "      <td>1</td>\n",
              "      <td>0</td>\n",
              "      <td>0</td>\n",
              "      <td>0</td>\n",
              "      <td>0</td>\n",
              "    </tr>\n",
              "    <tr>\n",
              "      <th>14996</th>\n",
              "      <td>39.0</td>\n",
              "      <td>29.6</td>\n",
              "      <td>4</td>\n",
              "      <td>0</td>\n",
              "      <td>64</td>\n",
              "      <td>1</td>\n",
              "      <td>0</td>\n",
              "      <td>1</td>\n",
              "      <td>0</td>\n",
              "      <td>0</td>\n",
              "      <td>0</td>\n",
              "      <td>0</td>\n",
              "    </tr>\n",
              "    <tr>\n",
              "      <th>14997</th>\n",
              "      <td>20.0</td>\n",
              "      <td>33.3</td>\n",
              "      <td>0</td>\n",
              "      <td>0</td>\n",
              "      <td>52</td>\n",
              "      <td>1</td>\n",
              "      <td>0</td>\n",
              "      <td>1</td>\n",
              "      <td>0</td>\n",
              "      <td>0</td>\n",
              "      <td>0</td>\n",
              "      <td>0</td>\n",
              "    </tr>\n",
              "    <tr>\n",
              "      <th>14998</th>\n",
              "      <td>52.0</td>\n",
              "      <td>36.7</td>\n",
              "      <td>0</td>\n",
              "      <td>0</td>\n",
              "      <td>70</td>\n",
              "      <td>1</td>\n",
              "      <td>0</td>\n",
              "      <td>1</td>\n",
              "      <td>0</td>\n",
              "      <td>0</td>\n",
              "      <td>1</td>\n",
              "      <td>0</td>\n",
              "    </tr>\n",
              "    <tr>\n",
              "      <th>14999</th>\n",
              "      <td>52.0</td>\n",
              "      <td>26.4</td>\n",
              "      <td>3</td>\n",
              "      <td>0</td>\n",
              "      <td>72</td>\n",
              "      <td>1</td>\n",
              "      <td>0</td>\n",
              "      <td>1</td>\n",
              "      <td>0</td>\n",
              "      <td>0</td>\n",
              "      <td>0</td>\n",
              "      <td>1</td>\n",
              "    </tr>\n",
              "  </tbody>\n",
              "</table>\n",
              "<p>15000 rows × 12 columns</p>\n",
              "</div>\n",
              "      <button class=\"colab-df-convert\" onclick=\"convertToInteractive('df-64549be6-cb35-4fb4-83bc-1edd4e1cda6e')\"\n",
              "              title=\"Convert this dataframe to an interactive table.\"\n",
              "              style=\"display:none;\">\n",
              "        \n",
              "  <svg xmlns=\"http://www.w3.org/2000/svg\" height=\"24px\"viewBox=\"0 0 24 24\"\n",
              "       width=\"24px\">\n",
              "    <path d=\"M0 0h24v24H0V0z\" fill=\"none\"/>\n",
              "    <path d=\"M18.56 5.44l.94 2.06.94-2.06 2.06-.94-2.06-.94-.94-2.06-.94 2.06-2.06.94zm-11 1L8.5 8.5l.94-2.06 2.06-.94-2.06-.94L8.5 2.5l-.94 2.06-2.06.94zm10 10l.94 2.06.94-2.06 2.06-.94-2.06-.94-.94-2.06-.94 2.06-2.06.94z\"/><path d=\"M17.41 7.96l-1.37-1.37c-.4-.4-.92-.59-1.43-.59-.52 0-1.04.2-1.43.59L10.3 9.45l-7.72 7.72c-.78.78-.78 2.05 0 2.83L4 21.41c.39.39.9.59 1.41.59.51 0 1.02-.2 1.41-.59l7.78-7.78 2.81-2.81c.8-.78.8-2.07 0-2.86zM5.41 20L4 18.59l7.72-7.72 1.47 1.35L5.41 20z\"/>\n",
              "  </svg>\n",
              "      </button>\n",
              "      \n",
              "  <style>\n",
              "    .colab-df-container {\n",
              "      display:flex;\n",
              "      flex-wrap:wrap;\n",
              "      gap: 12px;\n",
              "    }\n",
              "\n",
              "    .colab-df-convert {\n",
              "      background-color: #E8F0FE;\n",
              "      border: none;\n",
              "      border-radius: 50%;\n",
              "      cursor: pointer;\n",
              "      display: none;\n",
              "      fill: #1967D2;\n",
              "      height: 32px;\n",
              "      padding: 0 0 0 0;\n",
              "      width: 32px;\n",
              "    }\n",
              "\n",
              "    .colab-df-convert:hover {\n",
              "      background-color: #E2EBFA;\n",
              "      box-shadow: 0px 1px 2px rgba(60, 64, 67, 0.3), 0px 1px 3px 1px rgba(60, 64, 67, 0.15);\n",
              "      fill: #174EA6;\n",
              "    }\n",
              "\n",
              "    [theme=dark] .colab-df-convert {\n",
              "      background-color: #3B4455;\n",
              "      fill: #D2E3FC;\n",
              "    }\n",
              "\n",
              "    [theme=dark] .colab-df-convert:hover {\n",
              "      background-color: #434B5C;\n",
              "      box-shadow: 0px 1px 3px 1px rgba(0, 0, 0, 0.15);\n",
              "      filter: drop-shadow(0px 1px 2px rgba(0, 0, 0, 0.3));\n",
              "      fill: #FFFFFF;\n",
              "    }\n",
              "  </style>\n",
              "\n",
              "      <script>\n",
              "        const buttonEl =\n",
              "          document.querySelector('#df-64549be6-cb35-4fb4-83bc-1edd4e1cda6e button.colab-df-convert');\n",
              "        buttonEl.style.display =\n",
              "          google.colab.kernel.accessAllowed ? 'block' : 'none';\n",
              "\n",
              "        async function convertToInteractive(key) {\n",
              "          const element = document.querySelector('#df-64549be6-cb35-4fb4-83bc-1edd4e1cda6e');\n",
              "          const dataTable =\n",
              "            await google.colab.kernel.invokeFunction('convertToInteractive',\n",
              "                                                     [key], {});\n",
              "          if (!dataTable) return;\n",
              "\n",
              "          const docLinkHtml = 'Like what you see? Visit the ' +\n",
              "            '<a target=\"_blank\" href=https://colab.research.google.com/notebooks/data_table.ipynb>data table notebook</a>'\n",
              "            + ' to learn more about interactive tables.';\n",
              "          element.innerHTML = '';\n",
              "          dataTable['output_type'] = 'display_data';\n",
              "          await google.colab.output.renderOutput(dataTable, element);\n",
              "          const docLink = document.createElement('div');\n",
              "          docLink.innerHTML = docLinkHtml;\n",
              "          element.appendChild(docLink);\n",
              "        }\n",
              "      </script>\n",
              "    </div>\n",
              "  </div>\n",
              "  "
            ]
          },
          "metadata": {},
          "execution_count": 42
        }
      ],
      "source": [
        "x"
      ]
    },
    {
      "cell_type": "code",
      "execution_count": null,
      "id": "d2996e9a",
      "metadata": {
        "id": "d2996e9a",
        "outputId": "cb6bf4c9-4a2b-4514-bac2-18923794fe7e",
        "colab": {
          "base_uri": "https://localhost:8080/"
        }
      },
      "outputs": [
        {
          "output_type": "execute_result",
          "data": {
            "text/plain": [
              "0         9.481405\n",
              "1         9.166179\n",
              "2        10.396206\n",
              "3        10.789703\n",
              "4         7.457436\n",
              "           ...    \n",
              "14995     9.956232\n",
              "14996     8.924430\n",
              "14997     7.238856\n",
              "14998     9.121028\n",
              "14999    10.165613\n",
              "Name: claim, Length: 15000, dtype: float64"
            ]
          },
          "metadata": {},
          "execution_count": 43
        }
      ],
      "source": [
        "y"
      ]
    },
    {
      "cell_type": "markdown",
      "id": "f41eca9f",
      "metadata": {
        "id": "f41eca9f"
      },
      "source": [
        "# Correlation "
      ]
    },
    {
      "cell_type": "code",
      "execution_count": null,
      "id": "a5dc1319",
      "metadata": {
        "id": "a5dc1319",
        "outputId": "2e5d4efb-0d2b-4442-841a-56379099586f",
        "colab": {
          "base_uri": "https://localhost:8080/",
          "height": 521
        }
      },
      "outputs": [
        {
          "output_type": "execute_result",
          "data": {
            "text/plain": [
              "                               age   bmi  no_of_dependents  smoker  \\\n",
              "age                           1.00  0.19              0.06   -0.02   \n",
              "bmi                           0.19  1.00              0.04    0.02   \n",
              "no_of_dependents              0.06  0.04              1.00    0.01   \n",
              "smoker                       -0.02  0.02              0.01    1.00   \n",
              "bloodpressure                 0.01 -0.05              0.03    0.01   \n",
              "diabetes                      0.07  0.09              0.07    0.06   \n",
              "regular_ex                    0.01 -0.03             -0.01   -0.04   \n",
              "claim                         0.52  0.18              0.16    0.65   \n",
              "sex_male                      0.01  0.07              0.04    0.07   \n",
              "hereditary_diseases_moderate -0.03  0.09             -0.02    0.40   \n",
              "hereditary_diseases_severe    0.01  0.10             -0.00    0.27   \n",
              "job_title_less_stressed       0.01 -0.01             -0.04   -0.06   \n",
              "job_title_more_stressed       0.06  0.03              0.01    0.02   \n",
              "\n",
              "                              bloodpressure  diabetes  regular_ex  claim  \\\n",
              "age                                    0.01      0.07        0.01   0.52   \n",
              "bmi                                   -0.05      0.09       -0.03   0.18   \n",
              "no_of_dependents                       0.03      0.07       -0.01   0.16   \n",
              "smoker                                 0.01      0.06       -0.04   0.65   \n",
              "bloodpressure                          1.00     -0.00        0.08   0.03   \n",
              "diabetes                              -0.00      1.00        0.01   0.13   \n",
              "regular_ex                             0.08      0.01        1.00  -0.02   \n",
              "claim                                  0.03      0.13       -0.02   1.00   \n",
              "sex_male                              -0.00     -0.01        0.02   0.02   \n",
              "hereditary_diseases_moderate           0.01      0.05       -0.04   0.33   \n",
              "hereditary_diseases_severe             0.06      0.07       -0.01   0.25   \n",
              "job_title_less_stressed                0.03     -0.02        0.02  -0.05   \n",
              "job_title_more_stressed               -0.00      0.05        0.01   0.08   \n",
              "\n",
              "                              sex_male  hereditary_diseases_moderate  \\\n",
              "age                               0.01                         -0.03   \n",
              "bmi                               0.07                          0.09   \n",
              "no_of_dependents                  0.04                         -0.02   \n",
              "smoker                            0.07                          0.40   \n",
              "bloodpressure                    -0.00                          0.01   \n",
              "diabetes                         -0.01                          0.05   \n",
              "regular_ex                        0.02                         -0.04   \n",
              "claim                             0.02                          0.33   \n",
              "sex_male                          1.00                          0.01   \n",
              "hereditary_diseases_moderate      0.01                          1.00   \n",
              "hereditary_diseases_severe        0.05                         -0.03   \n",
              "job_title_less_stressed          -0.04                         -0.08   \n",
              "job_title_more_stressed          -0.01                          0.06   \n",
              "\n",
              "                              hereditary_diseases_severe  \\\n",
              "age                                                 0.01   \n",
              "bmi                                                 0.10   \n",
              "no_of_dependents                                   -0.00   \n",
              "smoker                                              0.27   \n",
              "bloodpressure                                       0.06   \n",
              "diabetes                                            0.07   \n",
              "regular_ex                                         -0.01   \n",
              "claim                                               0.25   \n",
              "sex_male                                            0.05   \n",
              "hereditary_diseases_moderate                       -0.03   \n",
              "hereditary_diseases_severe                          1.00   \n",
              "job_title_less_stressed                            -0.04   \n",
              "job_title_more_stressed                             0.07   \n",
              "\n",
              "                              job_title_less_stressed  job_title_more_stressed  \n",
              "age                                              0.01                     0.06  \n",
              "bmi                                             -0.01                     0.03  \n",
              "no_of_dependents                                -0.04                     0.01  \n",
              "smoker                                          -0.06                     0.02  \n",
              "bloodpressure                                    0.03                    -0.00  \n",
              "diabetes                                        -0.02                     0.05  \n",
              "regular_ex                                       0.02                     0.01  \n",
              "claim                                           -0.05                     0.08  \n",
              "sex_male                                        -0.04                    -0.01  \n",
              "hereditary_diseases_moderate                    -0.08                     0.06  \n",
              "hereditary_diseases_severe                      -0.04                     0.07  \n",
              "job_title_less_stressed                          1.00                    -0.35  \n",
              "job_title_more_stressed                         -0.35                     1.00  "
            ],
            "text/html": [
              "\n",
              "  <div id=\"df-82c3d27e-abc9-411c-b425-cac41d8c80a7\">\n",
              "    <div class=\"colab-df-container\">\n",
              "      <div>\n",
              "<style scoped>\n",
              "    .dataframe tbody tr th:only-of-type {\n",
              "        vertical-align: middle;\n",
              "    }\n",
              "\n",
              "    .dataframe tbody tr th {\n",
              "        vertical-align: top;\n",
              "    }\n",
              "\n",
              "    .dataframe thead th {\n",
              "        text-align: right;\n",
              "    }\n",
              "</style>\n",
              "<table border=\"1\" class=\"dataframe\">\n",
              "  <thead>\n",
              "    <tr style=\"text-align: right;\">\n",
              "      <th></th>\n",
              "      <th>age</th>\n",
              "      <th>bmi</th>\n",
              "      <th>no_of_dependents</th>\n",
              "      <th>smoker</th>\n",
              "      <th>bloodpressure</th>\n",
              "      <th>diabetes</th>\n",
              "      <th>regular_ex</th>\n",
              "      <th>claim</th>\n",
              "      <th>sex_male</th>\n",
              "      <th>hereditary_diseases_moderate</th>\n",
              "      <th>hereditary_diseases_severe</th>\n",
              "      <th>job_title_less_stressed</th>\n",
              "      <th>job_title_more_stressed</th>\n",
              "    </tr>\n",
              "  </thead>\n",
              "  <tbody>\n",
              "    <tr>\n",
              "      <th>age</th>\n",
              "      <td>1.00</td>\n",
              "      <td>0.19</td>\n",
              "      <td>0.06</td>\n",
              "      <td>-0.02</td>\n",
              "      <td>0.01</td>\n",
              "      <td>0.07</td>\n",
              "      <td>0.01</td>\n",
              "      <td>0.52</td>\n",
              "      <td>0.01</td>\n",
              "      <td>-0.03</td>\n",
              "      <td>0.01</td>\n",
              "      <td>0.01</td>\n",
              "      <td>0.06</td>\n",
              "    </tr>\n",
              "    <tr>\n",
              "      <th>bmi</th>\n",
              "      <td>0.19</td>\n",
              "      <td>1.00</td>\n",
              "      <td>0.04</td>\n",
              "      <td>0.02</td>\n",
              "      <td>-0.05</td>\n",
              "      <td>0.09</td>\n",
              "      <td>-0.03</td>\n",
              "      <td>0.18</td>\n",
              "      <td>0.07</td>\n",
              "      <td>0.09</td>\n",
              "      <td>0.10</td>\n",
              "      <td>-0.01</td>\n",
              "      <td>0.03</td>\n",
              "    </tr>\n",
              "    <tr>\n",
              "      <th>no_of_dependents</th>\n",
              "      <td>0.06</td>\n",
              "      <td>0.04</td>\n",
              "      <td>1.00</td>\n",
              "      <td>0.01</td>\n",
              "      <td>0.03</td>\n",
              "      <td>0.07</td>\n",
              "      <td>-0.01</td>\n",
              "      <td>0.16</td>\n",
              "      <td>0.04</td>\n",
              "      <td>-0.02</td>\n",
              "      <td>-0.00</td>\n",
              "      <td>-0.04</td>\n",
              "      <td>0.01</td>\n",
              "    </tr>\n",
              "    <tr>\n",
              "      <th>smoker</th>\n",
              "      <td>-0.02</td>\n",
              "      <td>0.02</td>\n",
              "      <td>0.01</td>\n",
              "      <td>1.00</td>\n",
              "      <td>0.01</td>\n",
              "      <td>0.06</td>\n",
              "      <td>-0.04</td>\n",
              "      <td>0.65</td>\n",
              "      <td>0.07</td>\n",
              "      <td>0.40</td>\n",
              "      <td>0.27</td>\n",
              "      <td>-0.06</td>\n",
              "      <td>0.02</td>\n",
              "    </tr>\n",
              "    <tr>\n",
              "      <th>bloodpressure</th>\n",
              "      <td>0.01</td>\n",
              "      <td>-0.05</td>\n",
              "      <td>0.03</td>\n",
              "      <td>0.01</td>\n",
              "      <td>1.00</td>\n",
              "      <td>-0.00</td>\n",
              "      <td>0.08</td>\n",
              "      <td>0.03</td>\n",
              "      <td>-0.00</td>\n",
              "      <td>0.01</td>\n",
              "      <td>0.06</td>\n",
              "      <td>0.03</td>\n",
              "      <td>-0.00</td>\n",
              "    </tr>\n",
              "    <tr>\n",
              "      <th>diabetes</th>\n",
              "      <td>0.07</td>\n",
              "      <td>0.09</td>\n",
              "      <td>0.07</td>\n",
              "      <td>0.06</td>\n",
              "      <td>-0.00</td>\n",
              "      <td>1.00</td>\n",
              "      <td>0.01</td>\n",
              "      <td>0.13</td>\n",
              "      <td>-0.01</td>\n",
              "      <td>0.05</td>\n",
              "      <td>0.07</td>\n",
              "      <td>-0.02</td>\n",
              "      <td>0.05</td>\n",
              "    </tr>\n",
              "    <tr>\n",
              "      <th>regular_ex</th>\n",
              "      <td>0.01</td>\n",
              "      <td>-0.03</td>\n",
              "      <td>-0.01</td>\n",
              "      <td>-0.04</td>\n",
              "      <td>0.08</td>\n",
              "      <td>0.01</td>\n",
              "      <td>1.00</td>\n",
              "      <td>-0.02</td>\n",
              "      <td>0.02</td>\n",
              "      <td>-0.04</td>\n",
              "      <td>-0.01</td>\n",
              "      <td>0.02</td>\n",
              "      <td>0.01</td>\n",
              "    </tr>\n",
              "    <tr>\n",
              "      <th>claim</th>\n",
              "      <td>0.52</td>\n",
              "      <td>0.18</td>\n",
              "      <td>0.16</td>\n",
              "      <td>0.65</td>\n",
              "      <td>0.03</td>\n",
              "      <td>0.13</td>\n",
              "      <td>-0.02</td>\n",
              "      <td>1.00</td>\n",
              "      <td>0.02</td>\n",
              "      <td>0.33</td>\n",
              "      <td>0.25</td>\n",
              "      <td>-0.05</td>\n",
              "      <td>0.08</td>\n",
              "    </tr>\n",
              "    <tr>\n",
              "      <th>sex_male</th>\n",
              "      <td>0.01</td>\n",
              "      <td>0.07</td>\n",
              "      <td>0.04</td>\n",
              "      <td>0.07</td>\n",
              "      <td>-0.00</td>\n",
              "      <td>-0.01</td>\n",
              "      <td>0.02</td>\n",
              "      <td>0.02</td>\n",
              "      <td>1.00</td>\n",
              "      <td>0.01</td>\n",
              "      <td>0.05</td>\n",
              "      <td>-0.04</td>\n",
              "      <td>-0.01</td>\n",
              "    </tr>\n",
              "    <tr>\n",
              "      <th>hereditary_diseases_moderate</th>\n",
              "      <td>-0.03</td>\n",
              "      <td>0.09</td>\n",
              "      <td>-0.02</td>\n",
              "      <td>0.40</td>\n",
              "      <td>0.01</td>\n",
              "      <td>0.05</td>\n",
              "      <td>-0.04</td>\n",
              "      <td>0.33</td>\n",
              "      <td>0.01</td>\n",
              "      <td>1.00</td>\n",
              "      <td>-0.03</td>\n",
              "      <td>-0.08</td>\n",
              "      <td>0.06</td>\n",
              "    </tr>\n",
              "    <tr>\n",
              "      <th>hereditary_diseases_severe</th>\n",
              "      <td>0.01</td>\n",
              "      <td>0.10</td>\n",
              "      <td>-0.00</td>\n",
              "      <td>0.27</td>\n",
              "      <td>0.06</td>\n",
              "      <td>0.07</td>\n",
              "      <td>-0.01</td>\n",
              "      <td>0.25</td>\n",
              "      <td>0.05</td>\n",
              "      <td>-0.03</td>\n",
              "      <td>1.00</td>\n",
              "      <td>-0.04</td>\n",
              "      <td>0.07</td>\n",
              "    </tr>\n",
              "    <tr>\n",
              "      <th>job_title_less_stressed</th>\n",
              "      <td>0.01</td>\n",
              "      <td>-0.01</td>\n",
              "      <td>-0.04</td>\n",
              "      <td>-0.06</td>\n",
              "      <td>0.03</td>\n",
              "      <td>-0.02</td>\n",
              "      <td>0.02</td>\n",
              "      <td>-0.05</td>\n",
              "      <td>-0.04</td>\n",
              "      <td>-0.08</td>\n",
              "      <td>-0.04</td>\n",
              "      <td>1.00</td>\n",
              "      <td>-0.35</td>\n",
              "    </tr>\n",
              "    <tr>\n",
              "      <th>job_title_more_stressed</th>\n",
              "      <td>0.06</td>\n",
              "      <td>0.03</td>\n",
              "      <td>0.01</td>\n",
              "      <td>0.02</td>\n",
              "      <td>-0.00</td>\n",
              "      <td>0.05</td>\n",
              "      <td>0.01</td>\n",
              "      <td>0.08</td>\n",
              "      <td>-0.01</td>\n",
              "      <td>0.06</td>\n",
              "      <td>0.07</td>\n",
              "      <td>-0.35</td>\n",
              "      <td>1.00</td>\n",
              "    </tr>\n",
              "  </tbody>\n",
              "</table>\n",
              "</div>\n",
              "      <button class=\"colab-df-convert\" onclick=\"convertToInteractive('df-82c3d27e-abc9-411c-b425-cac41d8c80a7')\"\n",
              "              title=\"Convert this dataframe to an interactive table.\"\n",
              "              style=\"display:none;\">\n",
              "        \n",
              "  <svg xmlns=\"http://www.w3.org/2000/svg\" height=\"24px\"viewBox=\"0 0 24 24\"\n",
              "       width=\"24px\">\n",
              "    <path d=\"M0 0h24v24H0V0z\" fill=\"none\"/>\n",
              "    <path d=\"M18.56 5.44l.94 2.06.94-2.06 2.06-.94-2.06-.94-.94-2.06-.94 2.06-2.06.94zm-11 1L8.5 8.5l.94-2.06 2.06-.94-2.06-.94L8.5 2.5l-.94 2.06-2.06.94zm10 10l.94 2.06.94-2.06 2.06-.94-2.06-.94-.94-2.06-.94 2.06-2.06.94z\"/><path d=\"M17.41 7.96l-1.37-1.37c-.4-.4-.92-.59-1.43-.59-.52 0-1.04.2-1.43.59L10.3 9.45l-7.72 7.72c-.78.78-.78 2.05 0 2.83L4 21.41c.39.39.9.59 1.41.59.51 0 1.02-.2 1.41-.59l7.78-7.78 2.81-2.81c.8-.78.8-2.07 0-2.86zM5.41 20L4 18.59l7.72-7.72 1.47 1.35L5.41 20z\"/>\n",
              "  </svg>\n",
              "      </button>\n",
              "      \n",
              "  <style>\n",
              "    .colab-df-container {\n",
              "      display:flex;\n",
              "      flex-wrap:wrap;\n",
              "      gap: 12px;\n",
              "    }\n",
              "\n",
              "    .colab-df-convert {\n",
              "      background-color: #E8F0FE;\n",
              "      border: none;\n",
              "      border-radius: 50%;\n",
              "      cursor: pointer;\n",
              "      display: none;\n",
              "      fill: #1967D2;\n",
              "      height: 32px;\n",
              "      padding: 0 0 0 0;\n",
              "      width: 32px;\n",
              "    }\n",
              "\n",
              "    .colab-df-convert:hover {\n",
              "      background-color: #E2EBFA;\n",
              "      box-shadow: 0px 1px 2px rgba(60, 64, 67, 0.3), 0px 1px 3px 1px rgba(60, 64, 67, 0.15);\n",
              "      fill: #174EA6;\n",
              "    }\n",
              "\n",
              "    [theme=dark] .colab-df-convert {\n",
              "      background-color: #3B4455;\n",
              "      fill: #D2E3FC;\n",
              "    }\n",
              "\n",
              "    [theme=dark] .colab-df-convert:hover {\n",
              "      background-color: #434B5C;\n",
              "      box-shadow: 0px 1px 3px 1px rgba(0, 0, 0, 0.15);\n",
              "      filter: drop-shadow(0px 1px 2px rgba(0, 0, 0, 0.3));\n",
              "      fill: #FFFFFF;\n",
              "    }\n",
              "  </style>\n",
              "\n",
              "      <script>\n",
              "        const buttonEl =\n",
              "          document.querySelector('#df-82c3d27e-abc9-411c-b425-cac41d8c80a7 button.colab-df-convert');\n",
              "        buttonEl.style.display =\n",
              "          google.colab.kernel.accessAllowed ? 'block' : 'none';\n",
              "\n",
              "        async function convertToInteractive(key) {\n",
              "          const element = document.querySelector('#df-82c3d27e-abc9-411c-b425-cac41d8c80a7');\n",
              "          const dataTable =\n",
              "            await google.colab.kernel.invokeFunction('convertToInteractive',\n",
              "                                                     [key], {});\n",
              "          if (!dataTable) return;\n",
              "\n",
              "          const docLinkHtml = 'Like what you see? Visit the ' +\n",
              "            '<a target=\"_blank\" href=https://colab.research.google.com/notebooks/data_table.ipynb>data table notebook</a>'\n",
              "            + ' to learn more about interactive tables.';\n",
              "          element.innerHTML = '';\n",
              "          dataTable['output_type'] = 'display_data';\n",
              "          await google.colab.output.renderOutput(dataTable, element);\n",
              "          const docLink = document.createElement('div');\n",
              "          docLink.innerHTML = docLinkHtml;\n",
              "          element.appendChild(docLink);\n",
              "        }\n",
              "      </script>\n",
              "    </div>\n",
              "  </div>\n",
              "  "
            ]
          },
          "metadata": {},
          "execution_count": 44
        }
      ],
      "source": [
        "round(ids.corr(),2)"
      ]
    },
    {
      "cell_type": "markdown",
      "source": [
        "#Correlation visualisation"
      ],
      "metadata": {
        "id": "r33FEmi6bntn"
      },
      "id": "r33FEmi6bntn"
    },
    {
      "cell_type": "code",
      "source": [
        "plt.figure(figsize=(10,10))\n",
        "g=sns.heatmap(ids.corr(),annot=True,cmap='RdYlGn')"
      ],
      "metadata": {
        "colab": {
          "base_uri": "https://localhost:8080/",
          "height": 739
        },
        "id": "YnuA7fd6bjUf",
        "outputId": "c87a25dd-f2d7-4848-9da8-10c1df4ac176"
      },
      "id": "YnuA7fd6bjUf",
      "execution_count": null,
      "outputs": [
        {
          "output_type": "display_data",
          "data": {
            "text/plain": [
              "<Figure size 720x720 with 2 Axes>"
            ],
            "image/png": "[encoded data removed]"
          },
          "metadata": {
            "needs_background": "light"
          }
        }
      ]
    },
    {
      "cell_type": "markdown",
      "id": "fd5f677d",
      "metadata": {
        "id": "fd5f677d"
      },
      "source": [
        "# no multicollinearity found"
      ]
    },
    {
      "cell_type": "markdown",
      "id": "c2c911e1",
      "metadata": {
        "id": "c2c911e1"
      },
      "source": [
        "# Test Train Split"
      ]
    },
    {
      "cell_type": "code",
      "execution_count": null,
      "id": "ad68e362",
      "metadata": {
        "id": "ad68e362"
      },
      "outputs": [],
      "source": [
        "from sklearn.model_selection import train_test_split\n",
        "x_train,x_test,y_train,y_test = train_test_split(x,y,test_size=0.2,random_state=0)"
      ]
    },
    {
      "cell_type": "markdown",
      "source": [
        "#feature scaling : standardization"
      ],
      "metadata": {
        "id": "I0P3RXEEcMWT"
      },
      "id": "I0P3RXEEcMWT"
    },
    {
      "cell_type": "code",
      "source": [
        "from sklearn.preprocessing import StandardScaler\n",
        "sc=StandardScaler()\n",
        "x_train= sc.fit_transform(x_train)\n",
        "x_test=sc.transform(x_test)"
      ],
      "metadata": {
        "id": "pxVwGQMdcJ48"
      },
      "id": "pxVwGQMdcJ48",
      "execution_count": null,
      "outputs": []
    },
    {
      "cell_type": "code",
      "source": [
        "x_train"
      ],
      "metadata": {
        "colab": {
          "base_uri": "https://localhost:8080/"
        },
        "id": "AeNsgUMCcKE5",
        "outputId": "2199063c-ad88-49ce-c0e7-eafeb8bdfb98"
      },
      "id": "AeNsgUMCcKE5",
      "execution_count": null,
      "outputs": [
        {
          "output_type": "execute_result",
          "data": {
            "text/plain": [
              "array([[-0.90083593,  0.65748549, -0.92731656, ..., -0.15709123,\n",
              "        -0.78329678,  2.22274471],\n",
              "       [ 0.33113865, -0.90824182, -0.11471259, ..., -0.15709123,\n",
              "        -0.78329678, -0.44989422],\n",
              "       [ 0.91089139, -1.23218541, -0.92731656, ..., -0.15709123,\n",
              "        -0.78329678,  2.22274471],\n",
              "       ...,\n",
              "       [ 1.34570594,  1.01742281, -0.92731656, ..., -0.15709123,\n",
              "        -0.78329678, -0.44989422],\n",
              "       [ 0.91089139, -1.03421988,  1.51049534, ..., -0.15709123,\n",
              "         1.27665531, -0.44989422],\n",
              "       [ 1.05582957, -0.44032331, -0.11471259, ..., -0.15709123,\n",
              "        -0.78329678, -0.44989422]])"
            ]
          },
          "metadata": {},
          "execution_count": 138
        }
      ]
    },
    {
      "cell_type": "markdown",
      "id": "8cd3bedd",
      "metadata": {
        "id": "8cd3bedd"
      },
      "source": [
        "# Importing the Models"
      ]
    },
    {
      "cell_type": "code",
      "execution_count": null,
      "id": "e9c5a8b6",
      "metadata": {
        "id": "e9c5a8b6"
      },
      "outputs": [],
      "source": [
        "from sklearn.linear_model import LinearRegression\n",
        "from sklearn.svm import SVR\n",
        "from sklearn.ensemble import RandomForestRegressor\n",
        "from sklearn.ensemble import GradientBoostingRegressor"
      ]
    },
    {
      "cell_type": "markdown",
      "id": "7a1c4fbd",
      "metadata": {
        "id": "7a1c4fbd"
      },
      "source": [
        "# Model Training"
      ]
    },
    {
      "cell_type": "code",
      "execution_count": null,
      "id": "79b2142c",
      "metadata": {
        "id": "79b2142c",
        "outputId": "52183887-99a5-4a30-fda7-d4e90e3cd477",
        "colab": {
          "base_uri": "https://localhost:8080/"
        }
      },
      "outputs": [
        {
          "output_type": "execute_result",
          "data": {
            "text/plain": [
              "GradientBoostingRegressor()"
            ]
          },
          "metadata": {},
          "execution_count": 140
        }
      ],
      "source": [
        "lr=LinearRegression()\n",
        "lr.fit(x_train,y_train)\n",
        "svm=SVR()\n",
        "svm.fit(x_train,y_train)\n",
        "rf=RandomForestRegressor()\n",
        "rf.fit(x_train,y_train)\n",
        "gr=GradientBoostingRegressor()\n",
        "gr.fit(x_train,y_train)"
      ]
    },
    {
      "cell_type": "markdown",
      "id": "e15e5d50",
      "metadata": {
        "id": "e15e5d50"
      },
      "source": [
        "# Prediction on test data"
      ]
    },
    {
      "cell_type": "code",
      "execution_count": null,
      "id": "35253dda",
      "metadata": {
        "id": "35253dda"
      },
      "outputs": [],
      "source": [
        "y_pred1=lr.predict(x_test)\n",
        "y_pred2=svm.predict(x_test)\n",
        "y_pred3=rf.predict(x_test)\n",
        "y_pred4=gr.predict(x_test)\n",
        "error=y_test-y_pred1"
      ]
    },
    {
      "cell_type": "code",
      "source": [
        "df1=pd.DataFrame({'Actual':y_test,'lr':y_pred1,'svm':y_pred2,'rf':y_pred3,'gr':y_pred4,'error_lr':error})"
      ],
      "metadata": {
        "id": "-AYkw8fUcnSY"
      },
      "id": "-AYkw8fUcnSY",
      "execution_count": null,
      "outputs": []
    },
    {
      "cell_type": "code",
      "source": [
        "plt.hist(x=df1['error_lr'],bins= 10)\n",
        "plt.show()"
      ],
      "metadata": {
        "colab": {
          "base_uri": "https://localhost:8080/",
          "height": 265
        },
        "id": "bRe90_vbcnZF",
        "outputId": "3ccfa9a2-45b2-42a0-92b4-374672ffaee1"
      },
      "id": "bRe90_vbcnZF",
      "execution_count": null,
      "outputs": [
        {
          "output_type": "display_data",
          "data": {
            "text/plain": [
              "<Figure size 432x288 with 1 Axes>"
            ],
            "image/png": "[encoded data removed]"
          },
          "metadata": {
            "needs_background": "light"
          }
        }
      ]
    },
    {
      "cell_type": "code",
      "source": [
        "df1['error_lr'].mean() #for lr errors follows approx normal distn with 0 mean  "
      ],
      "metadata": {
        "colab": {
          "base_uri": "https://localhost:8080/"
        },
        "id": "5NqWQ4rsc0N5",
        "outputId": "2ce32896-8859-4ae6-a220-d7ef1b2d7357"
      },
      "id": "5NqWQ4rsc0N5",
      "execution_count": null,
      "outputs": [
        {
          "output_type": "execute_result",
          "data": {
            "text/plain": [
              "0.00563405605131342"
            ]
          },
          "metadata": {},
          "execution_count": 144
        }
      ]
    },
    {
      "cell_type": "code",
      "execution_count": null,
      "id": "031dc6b7",
      "metadata": {
        "id": "031dc6b7",
        "outputId": "ca4636ac-1163-4ade-df05-227516505a1a",
        "colab": {
          "base_uri": "https://localhost:8080/"
        }
      },
      "outputs": [
        {
          "output_type": "execute_result",
          "data": {
            "text/plain": [
              "1670      8.817890\n",
              "13379     7.807307\n",
              "10234     9.527084\n",
              "4719      7.450312\n",
              "7003      9.499504\n",
              "           ...    \n",
              "10346     8.953239\n",
              "8469      7.037028\n",
              "12765     8.941205\n",
              "9431     10.456815\n",
              "4202      9.302035\n",
              "Name: claim, Length: 3000, dtype: float64"
            ]
          },
          "metadata": {},
          "execution_count": 145
        }
      ],
      "source": [
        "y_test"
      ]
    },
    {
      "cell_type": "code",
      "execution_count": null,
      "id": "53d96ae8",
      "metadata": {
        "id": "53d96ae8",
        "outputId": "f0b39253-e1c2-4c29-a5e8-61b821a013b1",
        "colab": {
          "base_uri": "https://localhost:8080/",
          "height": 520
        }
      },
      "outputs": [
        {
          "output_type": "execute_result",
          "data": {
            "text/plain": [
              "          Actual         lr        svm         rf         gr  error_lr\n",
              "1670    8.817890   8.765396   8.717865   8.817890   8.822316  0.052494\n",
              "13379   7.807307   8.177202   7.846304   7.807307   8.139535 -0.369895\n",
              "10234   9.527084   8.827290   9.059055   9.527084   8.943645  0.699794\n",
              "4719    7.450312   8.001466   7.765762   7.581531   7.737899 -0.551154\n",
              "7003    9.499504   9.358804   9.508808   9.499504   9.460143  0.140700\n",
              "2831   10.390511   9.315073  10.083000  10.390511  10.096307  1.075438\n",
              "13014   8.447264   8.512583   8.441445   8.446366   8.542469 -0.065318\n",
              "11979   8.874658   8.960119   8.974980   8.874658   9.022420 -0.085461\n",
              "8610    8.129588   8.312189   8.205217   8.126295   8.366741 -0.182602\n",
              "519     8.375330   8.491441   8.340510   8.375330   8.468156 -0.116111\n",
              "13264  10.619012  10.181728  10.518962  10.619012  10.463666  0.437285\n",
              "7329    8.065108   8.252731   8.159806   8.065108   8.484864 -0.187623\n",
              "452     8.565259   8.720126   8.577233   8.565259   8.712846 -0.154867\n",
              "12374   8.493904   8.606616   8.593999   8.493904   8.654805 -0.112712\n",
              "4067   10.767725  11.115012  10.667562  10.767725  10.822263 -0.347287"
            ],
            "text/html": [
              "\n",
              "  <div id=\"df-ae6f1ddc-f6d9-48f7-8088-8d10d942996c\">\n",
              "    <div class=\"colab-df-container\">\n",
              "      <div>\n",
              "<style scoped>\n",
              "    .dataframe tbody tr th:only-of-type {\n",
              "        vertical-align: middle;\n",
              "    }\n",
              "\n",
              "    .dataframe tbody tr th {\n",
              "        vertical-align: top;\n",
              "    }\n",
              "\n",
              "    .dataframe thead th {\n",
              "        text-align: right;\n",
              "    }\n",
              "</style>\n",
              "<table border=\"1\" class=\"dataframe\">\n",
              "  <thead>\n",
              "    <tr style=\"text-align: right;\">\n",
              "      <th></th>\n",
              "      <th>Actual</th>\n",
              "      <th>lr</th>\n",
              "      <th>svm</th>\n",
              "      <th>rf</th>\n",
              "      <th>gr</th>\n",
              "      <th>error_lr</th>\n",
              "    </tr>\n",
              "  </thead>\n",
              "  <tbody>\n",
              "    <tr>\n",
              "      <th>1670</th>\n",
              "      <td>8.817890</td>\n",
              "      <td>8.765396</td>\n",
              "      <td>8.717865</td>\n",
              "      <td>8.817890</td>\n",
              "      <td>8.822316</td>\n",
              "      <td>0.052494</td>\n",
              "    </tr>\n",
              "    <tr>\n",
              "      <th>13379</th>\n",
              "      <td>7.807307</td>\n",
              "      <td>8.177202</td>\n",
              "      <td>7.846304</td>\n",
              "      <td>7.807307</td>\n",
              "      <td>8.139535</td>\n",
              "      <td>-0.369895</td>\n",
              "    </tr>\n",
              "    <tr>\n",
              "      <th>10234</th>\n",
              "      <td>9.527084</td>\n",
              "      <td>8.827290</td>\n",
              "      <td>9.059055</td>\n",
              "      <td>9.527084</td>\n",
              "      <td>8.943645</td>\n",
              "      <td>0.699794</td>\n",
              "    </tr>\n",
              "    <tr>\n",
              "      <th>4719</th>\n",
              "      <td>7.450312</td>\n",
              "      <td>8.001466</td>\n",
              "      <td>7.765762</td>\n",
              "      <td>7.581531</td>\n",
              "      <td>7.737899</td>\n",
              "      <td>-0.551154</td>\n",
              "    </tr>\n",
              "    <tr>\n",
              "      <th>7003</th>\n",
              "      <td>9.499504</td>\n",
              "      <td>9.358804</td>\n",
              "      <td>9.508808</td>\n",
              "      <td>9.499504</td>\n",
              "      <td>9.460143</td>\n",
              "      <td>0.140700</td>\n",
              "    </tr>\n",
              "    <tr>\n",
              "      <th>2831</th>\n",
              "      <td>10.390511</td>\n",
              "      <td>9.315073</td>\n",
              "      <td>10.083000</td>\n",
              "      <td>10.390511</td>\n",
              "      <td>10.096307</td>\n",
              "      <td>1.075438</td>\n",
              "    </tr>\n",
              "    <tr>\n",
              "      <th>13014</th>\n",
              "      <td>8.447264</td>\n",
              "      <td>8.512583</td>\n",
              "      <td>8.441445</td>\n",
              "      <td>8.446366</td>\n",
              "      <td>8.542469</td>\n",
              "      <td>-0.065318</td>\n",
              "    </tr>\n",
              "    <tr>\n",
              "      <th>11979</th>\n",
              "      <td>8.874658</td>\n",
              "      <td>8.960119</td>\n",
              "      <td>8.974980</td>\n",
              "      <td>8.874658</td>\n",
              "      <td>9.022420</td>\n",
              "      <td>-0.085461</td>\n",
              "    </tr>\n",
              "    <tr>\n",
              "      <th>8610</th>\n",
              "      <td>8.129588</td>\n",
              "      <td>8.312189</td>\n",
              "      <td>8.205217</td>\n",
              "      <td>8.126295</td>\n",
              "      <td>8.366741</td>\n",
              "      <td>-0.182602</td>\n",
              "    </tr>\n",
              "    <tr>\n",
              "      <th>519</th>\n",
              "      <td>8.375330</td>\n",
              "      <td>8.491441</td>\n",
              "      <td>8.340510</td>\n",
              "      <td>8.375330</td>\n",
              "      <td>8.468156</td>\n",
              "      <td>-0.116111</td>\n",
              "    </tr>\n",
              "    <tr>\n",
              "      <th>13264</th>\n",
              "      <td>10.619012</td>\n",
              "      <td>10.181728</td>\n",
              "      <td>10.518962</td>\n",
              "      <td>10.619012</td>\n",
              "      <td>10.463666</td>\n",
              "      <td>0.437285</td>\n",
              "    </tr>\n",
              "    <tr>\n",
              "      <th>7329</th>\n",
              "      <td>8.065108</td>\n",
              "      <td>8.252731</td>\n",
              "      <td>8.159806</td>\n",
              "      <td>8.065108</td>\n",
              "      <td>8.484864</td>\n",
              "      <td>-0.187623</td>\n",
              "    </tr>\n",
              "    <tr>\n",
              "      <th>452</th>\n",
              "      <td>8.565259</td>\n",
              "      <td>8.720126</td>\n",
              "      <td>8.577233</td>\n",
              "      <td>8.565259</td>\n",
              "      <td>8.712846</td>\n",
              "      <td>-0.154867</td>\n",
              "    </tr>\n",
              "    <tr>\n",
              "      <th>12374</th>\n",
              "      <td>8.493904</td>\n",
              "      <td>8.606616</td>\n",
              "      <td>8.593999</td>\n",
              "      <td>8.493904</td>\n",
              "      <td>8.654805</td>\n",
              "      <td>-0.112712</td>\n",
              "    </tr>\n",
              "    <tr>\n",
              "      <th>4067</th>\n",
              "      <td>10.767725</td>\n",
              "      <td>11.115012</td>\n",
              "      <td>10.667562</td>\n",
              "      <td>10.767725</td>\n",
              "      <td>10.822263</td>\n",
              "      <td>-0.347287</td>\n",
              "    </tr>\n",
              "  </tbody>\n",
              "</table>\n",
              "</div>\n",
              "      <button class=\"colab-df-convert\" onclick=\"convertToInteractive('df-ae6f1ddc-f6d9-48f7-8088-8d10d942996c')\"\n",
              "              title=\"Convert this dataframe to an interactive table.\"\n",
              "              style=\"display:none;\">\n",
              "        \n",
              "  <svg xmlns=\"http://www.w3.org/2000/svg\" height=\"24px\"viewBox=\"0 0 24 24\"\n",
              "       width=\"24px\">\n",
              "    <path d=\"M0 0h24v24H0V0z\" fill=\"none\"/>\n",
              "    <path d=\"M18.56 5.44l.94 2.06.94-2.06 2.06-.94-2.06-.94-.94-2.06-.94 2.06-2.06.94zm-11 1L8.5 8.5l.94-2.06 2.06-.94-2.06-.94L8.5 2.5l-.94 2.06-2.06.94zm10 10l.94 2.06.94-2.06 2.06-.94-2.06-.94-.94-2.06-.94 2.06-2.06.94z\"/><path d=\"M17.41 7.96l-1.37-1.37c-.4-.4-.92-.59-1.43-.59-.52 0-1.04.2-1.43.59L10.3 9.45l-7.72 7.72c-.78.78-.78 2.05 0 2.83L4 21.41c.39.39.9.59 1.41.59.51 0 1.02-.2 1.41-.59l7.78-7.78 2.81-2.81c.8-.78.8-2.07 0-2.86zM5.41 20L4 18.59l7.72-7.72 1.47 1.35L5.41 20z\"/>\n",
              "  </svg>\n",
              "      </button>\n",
              "      \n",
              "  <style>\n",
              "    .colab-df-container {\n",
              "      display:flex;\n",
              "      flex-wrap:wrap;\n",
              "      gap: 12px;\n",
              "    }\n",
              "\n",
              "    .colab-df-convert {\n",
              "      background-color: #E8F0FE;\n",
              "      border: none;\n",
              "      border-radius: 50%;\n",
              "      cursor: pointer;\n",
              "      display: none;\n",
              "      fill: #1967D2;\n",
              "      height: 32px;\n",
              "      padding: 0 0 0 0;\n",
              "      width: 32px;\n",
              "    }\n",
              "\n",
              "    .colab-df-convert:hover {\n",
              "      background-color: #E2EBFA;\n",
              "      box-shadow: 0px 1px 2px rgba(60, 64, 67, 0.3), 0px 1px 3px 1px rgba(60, 64, 67, 0.15);\n",
              "      fill: #174EA6;\n",
              "    }\n",
              "\n",
              "    [theme=dark] .colab-df-convert {\n",
              "      background-color: #3B4455;\n",
              "      fill: #D2E3FC;\n",
              "    }\n",
              "\n",
              "    [theme=dark] .colab-df-convert:hover {\n",
              "      background-color: #434B5C;\n",
              "      box-shadow: 0px 1px 3px 1px rgba(0, 0, 0, 0.15);\n",
              "      filter: drop-shadow(0px 1px 2px rgba(0, 0, 0, 0.3));\n",
              "      fill: #FFFFFF;\n",
              "    }\n",
              "  </style>\n",
              "\n",
              "      <script>\n",
              "        const buttonEl =\n",
              "          document.querySelector('#df-ae6f1ddc-f6d9-48f7-8088-8d10d942996c button.colab-df-convert');\n",
              "        buttonEl.style.display =\n",
              "          google.colab.kernel.accessAllowed ? 'block' : 'none';\n",
              "\n",
              "        async function convertToInteractive(key) {\n",
              "          const element = document.querySelector('#df-ae6f1ddc-f6d9-48f7-8088-8d10d942996c');\n",
              "          const dataTable =\n",
              "            await google.colab.kernel.invokeFunction('convertToInteractive',\n",
              "                                                     [key], {});\n",
              "          if (!dataTable) return;\n",
              "\n",
              "          const docLinkHtml = 'Like what you see? Visit the ' +\n",
              "            '<a target=\"_blank\" href=https://colab.research.google.com/notebooks/data_table.ipynb>data table notebook</a>'\n",
              "            + ' to learn more about interactive tables.';\n",
              "          element.innerHTML = '';\n",
              "          dataTable['output_type'] = 'display_data';\n",
              "          await google.colab.output.renderOutput(dataTable, element);\n",
              "          const docLink = document.createElement('div');\n",
              "          docLink.innerHTML = docLinkHtml;\n",
              "          element.appendChild(docLink);\n",
              "        }\n",
              "      </script>\n",
              "    </div>\n",
              "  </div>\n",
              "  "
            ]
          },
          "metadata": {},
          "execution_count": 146
        }
      ],
      "source": [
        "df1.head(15)\n",
        "#by comparing we can see randomforest is giving the best results"
      ]
    },
    {
      "cell_type": "markdown",
      "id": "804d9ab3",
      "metadata": {
        "id": "804d9ab3"
      },
      "source": [
        "# Comparing Performances Visually"
      ]
    },
    {
      "cell_type": "code",
      "execution_count": null,
      "id": "d5cffbb2",
      "metadata": {
        "id": "d5cffbb2",
        "outputId": "58aca9dc-d354-4116-93f1-6d078cd2c80c",
        "colab": {
          "base_uri": "https://localhost:8080/",
          "height": 164
        }
      },
      "outputs": [
        {
          "output_type": "execute_result",
          "data": {
            "text/plain": [
              "<matplotlib.legend.Legend at 0x7f7812798bb0>"
            ]
          },
          "metadata": {},
          "execution_count": 147
        },
        {
          "output_type": "display_data",
          "data": {
            "text/plain": [
              "<Figure size 432x288 with 1 Axes>"
            ],
            "image/png": "[encoded data removed]"
          },
          "metadata": {
            "needs_background": "light"
          }
        }
      ],
      "source": [
        "import matplotlib.pyplot as plt\n",
        "plt.subplot(221)\n",
        "plt.plot(df1['Actual'],label=\"actual\")\n",
        "plt.plot(df1['lr'],label=\"lr\")\n",
        "plt.legend()"
      ]
    },
    {
      "cell_type": "code",
      "execution_count": null,
      "id": "0b0268f1",
      "metadata": {
        "id": "0b0268f1",
        "outputId": "70d7bab4-65bb-4cea-f79e-7d170b7634a5",
        "colab": {
          "base_uri": "https://localhost:8080/",
          "height": 164
        }
      },
      "outputs": [
        {
          "output_type": "execute_result",
          "data": {
            "text/plain": [
              "<matplotlib.legend.Legend at 0x7f7812779f70>"
            ]
          },
          "metadata": {},
          "execution_count": 148
        },
        {
          "output_type": "display_data",
          "data": {
            "text/plain": [
              "<Figure size 432x288 with 1 Axes>"
            ],
            "image/png": "[encoded data removed]"
          },
          "metadata": {
            "needs_background": "light"
          }
        }
      ],
      "source": [
        "import matplotlib.pyplot as plt\n",
        "plt.subplot(221)\n",
        "plt.plot(df1['Actual'].iloc[0:11],label=\"actual\")\n",
        "plt.plot(df1['lr'].iloc[0:11],label=\"lr\")\n",
        "plt.legend()"
      ]
    },
    {
      "cell_type": "code",
      "execution_count": null,
      "id": "0668bdc6",
      "metadata": {
        "id": "0668bdc6",
        "outputId": "b7b0270c-06c0-4722-f50c-a8e46519b8ab",
        "colab": {
          "base_uri": "https://localhost:8080/",
          "height": 314
        }
      },
      "outputs": [
        {
          "output_type": "execute_result",
          "data": {
            "text/plain": [
              "<matplotlib.legend.Legend at 0x7f781260cdf0>"
            ]
          },
          "metadata": {},
          "execution_count": 149
        },
        {
          "output_type": "display_data",
          "data": {
            "text/plain": [
              "<Figure size 432x288 with 4 Axes>"
            ],
            "image/png": "[encoded data removed]"
          },
          "metadata": {
            "needs_background": "light"
          }
        }
      ],
      "source": [
        "plt.subplot(221)\n",
        "plt.plot(df1['Actual'],label=\"actual\")\n",
        "plt.plot(df1['lr'],label=\"lr\")\n",
        "plt.legend()\n",
        "\n",
        "plt.subplot(222)\n",
        "plt.plot(df1['Actual'],label=\"actual\")\n",
        "plt.plot(df1['svm'],label=\"svm\")\n",
        "plt.legend()\n",
        "\n",
        "plt.subplot(223)\n",
        "plt.plot(df1['Actual'],label=\"actual\")\n",
        "plt.plot(df1['rf'],label=\"rf\")\n",
        "plt.legend()\n",
        "\n",
        "plt.subplot(224)\n",
        "plt.plot(df1['Actual'],label=\"actual\")\n",
        "plt.plot(df1['gr'],label=\"gr\")\n",
        "\n",
        "plt.tight_layout()\n",
        "\n",
        "plt.legend()"
      ]
    },
    {
      "cell_type": "code",
      "execution_count": null,
      "id": "fa4ce0d3",
      "metadata": {
        "id": "fa4ce0d3",
        "outputId": "068203e5-0355-41a3-9073-cbcc946a205a",
        "colab": {
          "base_uri": "https://localhost:8080/",
          "height": 314
        }
      },
      "outputs": [
        {
          "output_type": "execute_result",
          "data": {
            "text/plain": [
              "<matplotlib.legend.Legend at 0x7f78124e69a0>"
            ]
          },
          "metadata": {},
          "execution_count": 150
        },
        {
          "output_type": "display_data",
          "data": {
            "text/plain": [
              "<Figure size 432x288 with 4 Axes>"
            ],
            "image/png": "[encoded data removed]"
          },
          "metadata": {
            "needs_background": "light"
          }
        }
      ],
      "source": [
        "plt.subplot(221)\n",
        "plt.plot(df1['Actual'].iloc[0:21],label=\"actual\")\n",
        "plt.plot(df1['lr'].iloc[0:21],label=\"lr\")\n",
        "plt.legend()\n",
        "\n",
        "plt.subplot(222)\n",
        "plt.plot(df1['Actual'].iloc[0:21],label=\"actual\")\n",
        "plt.plot(df1['svm'].iloc[0:21],label=\"svm\")\n",
        "plt.legend()\n",
        "\n",
        "plt.subplot(223)\n",
        "plt.plot(df1['Actual'].iloc[0:21],label=\"actual\")\n",
        "plt.plot(df1['rf'].iloc[0:21],label=\"rf\")\n",
        "plt.legend()\n",
        "\n",
        "plt.subplot(224)\n",
        "plt.plot(df1['Actual'].iloc[0:21],label=\"actual\")\n",
        "plt.plot(df1['gr'].iloc[0:21],label=\"gr\")\n",
        "\n",
        "plt.tight_layout()\n",
        "\n",
        "plt.legend()"
      ]
    },
    {
      "cell_type": "markdown",
      "id": "71876e5c",
      "metadata": {
        "id": "71876e5c"
      },
      "source": [
        "# Evaluating the algorithm"
      ]
    },
    {
      "cell_type": "code",
      "execution_count": null,
      "id": "fcc0b87a",
      "metadata": {
        "id": "fcc0b87a",
        "outputId": "9b1ee67f-8590-40b6-d808-f4dd6c078382",
        "colab": {
          "base_uri": "https://localhost:8080/"
        }
      },
      "outputs": [
        {
          "output_type": "stream",
          "name": "stdout",
          "text": [
            "0.7394504145209879 0.82671578543536 0.9778526221549637 0.8358999683311807\n"
          ]
        }
      ],
      "source": [
        "from sklearn import metrics\n",
        "score1= metrics.r2_score(y_test,y_pred1)\n",
        "score2= metrics.r2_score(y_test,y_pred2)\n",
        "score3= metrics.r2_score(y_test,y_pred3)\n",
        "score4= metrics.r2_score(y_test,y_pred4)\n",
        "print(score1,score2,score3,score4)"
      ]
    },
    {
      "cell_type": "markdown",
      "id": "e946acd7",
      "metadata": {
        "id": "e946acd7"
      },
      "source": [
        "# Mean Square Error"
      ]
    },
    {
      "cell_type": "code",
      "execution_count": null,
      "id": "849c04e5",
      "metadata": {
        "id": "849c04e5",
        "outputId": "a45a0e72-fd21-4ab9-c47c-2ddb119449a9",
        "colab": {
          "base_uri": "https://localhost:8080/"
        }
      },
      "outputs": [
        {
          "output_type": "stream",
          "name": "stdout",
          "text": [
            "0.2913892861035155 0.17875965145955444 0.023827424364983613 0.2131309661270371\n"
          ]
        }
      ],
      "source": [
        "s1= metrics.mean_absolute_error(y_test,y_pred1)\n",
        "s2= metrics.mean_absolute_error(y_test,y_pred2)\n",
        "s3= metrics.mean_absolute_error(y_test,y_pred3)\n",
        "s4= metrics.mean_absolute_error(y_test,y_pred4)\n",
        "print(s1,s2,s3,s4)"
      ]
    },
    {
      "cell_type": "markdown",
      "source": [
        "#Prediction on train data (for random forest)"
      ],
      "metadata": {
        "id": "2oZ2p_8WebQX"
      },
      "id": "2oZ2p_8WebQX"
    },
    {
      "cell_type": "code",
      "source": [
        "y_p_train=rf.predict(x_train)"
      ],
      "metadata": {
        "id": "ikfNsvPseYrS"
      },
      "id": "ikfNsvPseYrS",
      "execution_count": null,
      "outputs": []
    },
    {
      "cell_type": "code",
      "source": [
        "from sklearn import metrics\n",
        "train_sc1=metrics.r2_score(y_train,y_p_train)\n",
        "print(\"R-square value\", train_sc1)\n",
        "train_so1=metrics.mean_absolute_error(y_train,y_p_train)\n",
        "print(\"mean_squared_error\",train_so1)"
      ],
      "metadata": {
        "colab": {
          "base_uri": "https://localhost:8080/"
        },
        "id": "c1E8-UbSeYus",
        "outputId": "72457c60-a431-4e1b-dfaf-a5e9099ef429"
      },
      "id": "c1E8-UbSeYus",
      "execution_count": null,
      "outputs": [
        {
          "output_type": "stream",
          "name": "stdout",
          "text": [
            "R-square value 0.9961935284098007\n",
            "mean_squared_error 0.01012073126897725\n"
          ]
        }
      ]
    },
    {
      "cell_type": "markdown",
      "source": [
        "#Hence random forest is giving the best results with 97% accuracy and lowest MSE."
      ],
      "metadata": {
        "id": "-hcvdn5eeorp"
      },
      "id": "-hcvdn5eeorp"
    },
    {
      "cell_type": "markdown",
      "id": "6aea942d",
      "metadata": {
        "id": "6aea942d"
      },
      "source": [
        "# random forest is giving the best results for our model"
      ]
    },
    {
      "cell_type": "markdown",
      "id": "554a6c48",
      "metadata": {
        "id": "554a6c48"
      },
      "source": [
        "# Now training our model on 100% data using random forest"
      ]
    },
    {
      "cell_type": "code",
      "execution_count": null,
      "id": "6a285bbb",
      "metadata": {
        "id": "6a285bbb",
        "outputId": "0285b8c0-7fe3-4bd7-83fe-ed14a46f8738"
      },
      "outputs": [
        {
          "data": {
            "text/plain": [
              "RandomForestRegressor()"
            ]
          },
          "execution_count": 90,
          "metadata": {},
          "output_type": "execute_result"
        }
      ],
      "source": [
        "from sklearn.ensemble import RandomForestRegressor\n",
        "#model training\n",
        "model=RandomForestRegressor()\n",
        "model.fit(x,y)"
      ]
    },
    {
      "cell_type": "code",
      "execution_count": null,
      "id": "744efa62",
      "metadata": {
        "id": "744efa62",
        "outputId": "fa2a5ccf-3997-490e-aba2-c78d9d789b34"
      },
      "outputs": [
        {
          "name": "stderr",
          "output_type": "stream",
          "text": [
            "C:\\Users\\dibba\\AppData\\Roaming\\Python\\Python310\\site-packages\\sklearn\\base.py:450: UserWarning: X does not have valid feature names, but RandomForestRegressor was fitted with feature names\n",
            "  warnings.warn(\n"
          ]
        },
        {
          "data": {
            "text/plain": [
              "array([9.48140514])"
            ]
          },
          "execution_count": 91,
          "metadata": {},
          "output_type": "execute_result"
        }
      ],
      "source": [
        "model.predict([[60,24.3,1,0,72,0,0,1,0,0,0,0]])\n"
      ]
    },
    {
      "cell_type": "code",
      "execution_count": null,
      "id": "6657eaca",
      "metadata": {
        "id": "6657eaca",
        "outputId": "984ef059-ecba-42cd-c70e-2816b9a0e6e8"
      },
      "outputs": [
        {
          "name": "stderr",
          "output_type": "stream",
          "text": [
            "C:\\Users\\dibba\\AppData\\Roaming\\Python\\Python310\\site-packages\\sklearn\\base.py:450: UserWarning: X does not have valid feature names, but RandomForestRegressor was fitted with feature names\n",
            "  warnings.warn(\n"
          ]
        },
        {
          "data": {
            "text/plain": [
              "array([9.48140514])"
            ]
          },
          "execution_count": 92,
          "metadata": {},
          "output_type": "execute_result"
        }
      ],
      "source": [
        "rf.predict([[60,24.3,1,0,72,0,0,1,0,0,0,0]])\n"
      ]
    },
    {
      "cell_type": "code",
      "execution_count": null,
      "id": "fc5655b3",
      "metadata": {
        "id": "fc5655b3",
        "outputId": "192ef871-457c-4f86-e0f4-c16e76251812"
      },
      "outputs": [
        {
          "data": {
            "text/html": [
              "<div>\n",
              "<style scoped>\n",
              "    .dataframe tbody tr th:only-of-type {\n",
              "        vertical-align: middle;\n",
              "    }\n",
              "\n",
              "    .dataframe tbody tr th {\n",
              "        vertical-align: top;\n",
              "    }\n",
              "\n",
              "    .dataframe thead th {\n",
              "        text-align: right;\n",
              "    }\n",
              "</style>\n",
              "<table border=\"1\" class=\"dataframe\">\n",
              "  <thead>\n",
              "    <tr style=\"text-align: right;\">\n",
              "      <th></th>\n",
              "      <th>age</th>\n",
              "      <th>bmi</th>\n",
              "      <th>no_of_dependents</th>\n",
              "      <th>smoker</th>\n",
              "      <th>bloodpressure</th>\n",
              "      <th>diabetes</th>\n",
              "      <th>regular_ex</th>\n",
              "      <th>sex_male</th>\n",
              "      <th>hereditary_diseases_moderate</th>\n",
              "      <th>hereditary_diseases_severe</th>\n",
              "      <th>job_title_less_stressed</th>\n",
              "      <th>job_title_more_stressed</th>\n",
              "    </tr>\n",
              "  </thead>\n",
              "  <tbody>\n",
              "    <tr>\n",
              "      <th>0</th>\n",
              "      <td>46</td>\n",
              "      <td>32.3</td>\n",
              "      <td>2</td>\n",
              "      <td>0</td>\n",
              "      <td>78</td>\n",
              "      <td>1</td>\n",
              "      <td>1</td>\n",
              "      <td>0</td>\n",
              "      <td>0</td>\n",
              "      <td>0</td>\n",
              "      <td>0</td>\n",
              "      <td>0</td>\n",
              "    </tr>\n",
              "  </tbody>\n",
              "</table>\n",
              "</div>"
            ],
            "text/plain": [
              "   age   bmi  no_of_dependents  smoker  bloodpressure  diabetes  regular_ex  \\\n",
              "0   46  32.3                 2       0             78         1           1   \n",
              "\n",
              "   sex_male  hereditary_diseases_moderate  hereditary_diseases_severe  \\\n",
              "0         0                             0                           0   \n",
              "\n",
              "   job_title_less_stressed  job_title_more_stressed  \n",
              "0                        0                        0  "
            ]
          },
          "execution_count": 93,
          "metadata": {},
          "output_type": "execute_result"
        }
      ],
      "source": [
        "data={'age':46,'bmi':32.3,'no_of_dependents':2,'smoker':0,'bloodpressure':78,'diabetes':1,'regular_ex':1,'sex_male':0,'hereditary_diseases_moderate':0,'hereditary_diseases_severe':0,'job_title_less_stressed':0,'job_title_more_stressed':0}\n",
        "df3=pd.DataFrame(data,index=[0])\n",
        "df3"
      ]
    },
    {
      "cell_type": "code",
      "execution_count": null,
      "id": "b6af5e60",
      "metadata": {
        "id": "b6af5e60",
        "outputId": "3db9ec52-f86e-4ae9-a5ed-b9df81e5d03b"
      },
      "outputs": [
        {
          "data": {
            "text/plain": [
              "array([9343.97909718])"
            ]
          },
          "execution_count": 94,
          "metadata": {},
          "output_type": "execute_result"
        }
      ],
      "source": [
        "result1 = model.predict(df3)\n",
        "original_result=np.exp(result1)-1\n",
        "original_result"
      ]
    },
    {
      "cell_type": "code",
      "execution_count": null,
      "id": "4213972d",
      "metadata": {
        "id": "4213972d"
      },
      "outputs": [],
      "source": []
    },
    {
      "cell_type": "code",
      "execution_count": null,
      "id": "a63e0521",
      "metadata": {
        "id": "a63e0521"
      },
      "outputs": [],
      "source": []
    },
    {
      "cell_type": "code",
      "execution_count": null,
      "id": "fe7276d6",
      "metadata": {
        "id": "fe7276d6"
      },
      "outputs": [],
      "source": []
    },
    {
      "cell_type": "code",
      "execution_count": null,
      "id": "9a4bd4c3",
      "metadata": {
        "id": "9a4bd4c3"
      },
      "outputs": [],
      "source": []
    },
    {
      "cell_type": "code",
      "execution_count": null,
      "id": "9b1e1e56",
      "metadata": {
        "id": "9b1e1e56"
      },
      "outputs": [],
      "source": []
    }
  ],
  "metadata": {
    "kernelspec": {
      "display_name": "Python 3 (ipykernel)",
      "language": "python",
      "name": "python3"
    },
    "language_info": {
      "codemirror_mode": {
        "name": "ipython",
        "version": 3
      },
      "file_extension": ".py",
      "mimetype": "text/x-python",
      "name": "python",
      "nbconvert_exporter": "python",
      "pygments_lexer": "ipython3",
      "version": "3.10.2"
    },
    "colab": {
      "provenance": []
    }
  },
  "nbformat": 4,
  "nbformat_minor": 5
}